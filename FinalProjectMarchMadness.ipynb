{
  "cells": [
    {
      "cell_type": "markdown",
      "metadata": {
        "id": "view-in-github",
        "colab_type": "text"
      },
      "source": [
        "<a href=\"https://colab.research.google.com/github/andrewmarion/MarchMadness/blob/main/FinalProjectMarchMadness.ipynb\" target=\"_parent\"><img src=\"https://colab.research.google.com/assets/colab-badge.svg\" alt=\"Open In Colab\"/></a>"
      ]
    },
    {
      "cell_type": "markdown",
      "metadata": {
        "id": "_r8xWz3M_ZR1"
      },
      "source": [
        "# March Madness\n",
        "## Final Project\n",
        "### Group 15: Andrew Marion, Dallas Hutchinson, Aydan Koyles\n"
      ]
    },
    {
      "cell_type": "markdown",
      "metadata": {
        "id": "VMwv7b_M6nxw"
      },
      "source": [
        "# Setting Up File"
      ]
    },
    {
      "cell_type": "code",
      "execution_count": 1,
      "metadata": {
        "id": "XFeSHdrg4QCK"
      },
      "outputs": [],
      "source": [
        "!apt-get install openjdk-8-jdk-headless -qq > /dev/null\n",
        "!wget -q https://archive.apache.org/dist/spark/spark-3.2.0/spark-3.2.0-bin-hadoop3.2.tgz\n",
        "!tar xf spark-3.2.0-bin-hadoop3.2.tgz\n",
        "!pip install -q findspark"
      ]
    },
    {
      "cell_type": "code",
      "execution_count": 2,
      "metadata": {
        "id": "Iyz-0-no4f6U",
        "colab": {
          "base_uri": "https://localhost:8080/"
        },
        "outputId": "aeee2220-7b04-4744-c381-7421b4173145"
      },
      "outputs": [
        {
          "output_type": "stream",
          "name": "stdout",
          "text": [
            "Mounted at /content/gdrive\n"
          ]
        }
      ],
      "source": [
        "from google.colab import drive\n",
        "\n",
        "drive.mount('/content/gdrive')"
      ]
    },
    {
      "cell_type": "code",
      "execution_count": 3,
      "metadata": {
        "id": "Sf6DkghV4ikT"
      },
      "outputs": [],
      "source": [
        "import os\n",
        "os.environ[\"JAVA_HOME\"] = \"/usr/lib/jvm/java-8-openjdk-amd64\"\n",
        "os.environ[\"SPARK_HOME\"] = \"spark-3.2.0-bin-hadoop3.2\""
      ]
    },
    {
      "cell_type": "code",
      "execution_count": 4,
      "metadata": {
        "id": "nBXgfIgm4kBS"
      },
      "outputs": [],
      "source": [
        "import findspark\n",
        "findspark.init()"
      ]
    },
    {
      "cell_type": "code",
      "execution_count": 5,
      "metadata": {
        "id": "gHPsL6db5j-7",
        "colab": {
          "base_uri": "https://localhost:8080/",
          "height": 196
        },
        "outputId": "84fc66d1-ec09-45bf-fb43-700bed543974"
      },
      "outputs": [
        {
          "output_type": "execute_result",
          "data": {
            "text/plain": [
              "<SparkContext master=local[*] appName=pyspark-shell>"
            ],
            "text/html": [
              "\n",
              "        <div>\n",
              "            <p><b>SparkContext</b></p>\n",
              "\n",
              "            <p><a href=\"http://86d667bbaeb5:4040\">Spark UI</a></p>\n",
              "\n",
              "            <dl>\n",
              "              <dt>Version</dt>\n",
              "                <dd><code>v3.2.0</code></dd>\n",
              "              <dt>Master</dt>\n",
              "                <dd><code>local[*]</code></dd>\n",
              "              <dt>AppName</dt>\n",
              "                <dd><code>pyspark-shell</code></dd>\n",
              "            </dl>\n",
              "        </div>\n",
              "        "
            ]
          },
          "metadata": {},
          "execution_count": 5
        }
      ],
      "source": [
        "from pyspark.sql import SparkSession\n",
        "spark = SparkSession.builder.master(\"local[*]\").getOrCreate()\n",
        "sc = spark.sparkContext\n",
        "sc"
      ]
    },
    {
      "cell_type": "markdown",
      "metadata": {
        "id": "JttbqUXL_gYp"
      },
      "source": [
        "# Imports"
      ]
    },
    {
      "cell_type": "code",
      "execution_count": 6,
      "metadata": {
        "id": "iAcoi-tS5m_s"
      },
      "outputs": [],
      "source": [
        "import json\n",
        "from pyspark.mllib.classification import LogisticRegressionModel,LogisticRegressionWithLBFGS, SVMWithSGD, SVMModel\n",
        "from pyspark.mllib.regression import LabeledPoint, LinearRegressionWithSGD, LinearRegressionModel\n",
        "from pyspark.mllib.clustering import *\n",
        "import pyspark.sql\n",
        "from pyspark.sql import Row\n",
        "from pyspark.sql.types import *\n",
        "from pyspark.sql import SparkSession\n",
        "from pyspark.mllib.stat import Statistics\n",
        "from pyspark.ml.linalg import Vectors\n",
        "from pyspark.ml.stat import Correlation\n",
        "from pyspark.ml.clustering import LDA\n",
        "import numpy as np\n",
        "import pyspark.sql.functions as f\n",
        "from pyspark.sql.functions import lit"
      ]
    },
    {
      "cell_type": "markdown",
      "metadata": {
        "id": "6RwqudsixElg"
      },
      "source": [
        "# Read in csv file"
      ]
    },
    {
      "cell_type": "code",
      "execution_count": 7,
      "metadata": {
        "id": "nPFml9US6Vsk"
      },
      "outputs": [],
      "source": [
        "RegularSeason = spark.read.option(\"header\",True).csv(\"/content/gdrive/MyDrive/MDataFiles_Stage2/MRegularSeasonDetailedResults.csv\", inferSchema = True)\n",
        "Seeds = spark.read.option(\"header\",True).csv(\"/content/gdrive/MyDrive/MDataFiles_Stage2/MNCAATourneySeeds.csv\", inferSchema = True)\n",
        "Tourney = spark.read.option(\"header\",True).csv(\"/content/gdrive/MyDrive/MDataFiles_Stage2/MNCAATourneyDetailedResults.csv\", inferSchema = True)\n",
        "Conferences = spark.read.option(\"header\",True).csv(\"/content/gdrive/MyDrive/MDataFiles_Stage2/MNCAATourneySeeds.csv\", inferSchema = True)\n",
        "Coaches = spark.read.option(\"header\",True).csv(\"/content/gdrive/MyDrive/MDataFiles_Stage2/MTeamCoaches.csv\", inferSchema = True)\n",
        "TourneyCompact = spark.read.option(\"header\",True).csv(\"/content/gdrive/MyDrive/MDataFiles_Stage2/MNCAATourneyCompactResults.csv\", inferSchema = True)\n",
        "Teams = spark.read.option(\"header\",True).csv(\"/content/gdrive/MyDrive/MDataFiles_Stage2/MTeams.csv\", inferSchema = True)"
      ]
    },
    {
      "cell_type": "markdown",
      "metadata": {
        "id": "5nWnumC2_kTJ"
      },
      "source": [
        "# Clean / Explore Data"
      ]
    },
    {
      "cell_type": "markdown",
      "source": [
        "## Season Input"
      ],
      "metadata": {
        "id": "8hnp-xo1s9cO"
      }
    },
    {
      "cell_type": "code",
      "execution_count": 8,
      "metadata": {
        "id": "Th6pwnvVqQIu"
      },
      "outputs": [],
      "source": [
        "WinTeams = RegularSeason.groupBy('Season', 'WTeamID').sum('WScore','LScore','NumOT','WFGM','WFGA','WFGM3','WFGA3','WFTM','WFTA','WOR','WDR','WAst','WTO','WStl','WBlk','WPF','LFGM','LFGA','LFGM3','LFGA3','LFTM','LFTA','LOR','LDR','LAst','LTO','LStl','LBlk','LPF')\n",
        "LoseTeams = RegularSeason.groupBy('Season', 'LTeamID').sum('WScore','LScore','NumOT','WFGM','WFGA','WFGM3','WFGA3','WFTM','WFTA','WOR','WDR','WAst','WTO','WStl','WBlk','WPF','LFGM','LFGA','LFGM3','LFGA3','LFTM','LFTA','LOR','LDR','LAst','LTO','LStl','LBlk','LPF')"
      ]
    },
    {
      "cell_type": "code",
      "execution_count": 9,
      "metadata": {
        "id": "5RwYbtfmX9Kr"
      },
      "outputs": [],
      "source": [
        "NumWin = RegularSeason.groupBy('Season', 'WTeamID').count()\n",
        "NumWin = NumWin.withColumnRenamed(\"count\", \"Wins\")\n",
        "NumWin = NumWin.withColumnRenamed(\"WTeamID\", \"TeamID\")\n",
        "\n",
        "NumLose = RegularSeason.groupBy('Season', 'LTeamID').count()\n",
        "NumLose = NumLose.withColumnRenamed(\"count\", \"Loses\")\n",
        "NumLose = NumLose.withColumnRenamed(\"LTeamID\", \"TeamID\")\n",
        "\n",
        "merged_df = NumWin.join(NumLose, ['Season','TeamID'])\n",
        "merged_df = merged_df.withColumn('NumGames', merged_df.Wins + merged_df.Loses)"
      ]
    },
    {
      "cell_type": "code",
      "execution_count": 10,
      "metadata": {
        "id": "zQoWWIxE2vrS"
      },
      "outputs": [],
      "source": [
        "# Get all win stats for each team\n",
        "WinTeams = WinTeams.withColumnRenamed(\"WTeamID\", \"TeamID\")\n",
        "WinTeams = WinTeams.withColumnRenamed(\"sum(WScore)\", \"WPTS\")\n",
        "WinTeams = WinTeams.withColumnRenamed(\"sum(LScore)\", \"WOppPTS\")\n",
        "WinTeams = WinTeams.withColumnRenamed(\"sum(NumOT)\", \"WOTs\")\n",
        "WinTeams = WinTeams.withColumnRenamed(\"sum(WFGM)\", \"WFGM\")\n",
        "WinTeams = WinTeams.withColumnRenamed(\"sum(WFGA)\", \"WFGA\")\n",
        "WinTeams = WinTeams.withColumnRenamed(\"sum(WFGA3)\", \"WFGA3\")\n",
        "WinTeams = WinTeams.withColumnRenamed(\"sum(WFGM3)\", \"WFGM3\")\n",
        "WinTeams = WinTeams.withColumnRenamed(\"sum(WFTA)\", \"WFTA\")\n",
        "WinTeams = WinTeams.withColumnRenamed(\"sum(WFTM)\", \"WFTM\")\n",
        "WinTeams = WinTeams.withColumnRenamed(\"sum(WOR)\", \"WOR\")\n",
        "WinTeams = WinTeams.withColumnRenamed(\"sum(WDR)\", \"WDR\")\n",
        "WinTeams = WinTeams.withColumnRenamed(\"sum(WAst)\", \"WAST\")\n",
        "WinTeams = WinTeams.withColumnRenamed(\"sum(WTO)\", \"WTO\")\n",
        "WinTeams = WinTeams.withColumnRenamed(\"sum(WStl)\", \"WSTL\")\n",
        "WinTeams = WinTeams.withColumnRenamed(\"sum(WBlk)\", \"WBLK\")\n",
        "WinTeams = WinTeams.withColumnRenamed(\"sum(WPF)\", \"WPF\")\n",
        "WinTeams = WinTeams.withColumnRenamed(\"sum(LFGM)\", \"WOppFGM\")\n",
        "WinTeams = WinTeams.withColumnRenamed(\"sum(LFGA)\", \"WOppFGA\")\n",
        "WinTeams = WinTeams.withColumnRenamed(\"sum(LFGA3)\", \"WOppFGA3\")\n",
        "WinTeams = WinTeams.withColumnRenamed(\"sum(LFGM3)\", \"WOppFGM3\")\n",
        "WinTeams = WinTeams.withColumnRenamed(\"sum(LFTA)\", \"WOppFTA\")\n",
        "WinTeams = WinTeams.withColumnRenamed(\"sum(LFTM)\", \"WOppFTM\")\n",
        "WinTeams = WinTeams.withColumnRenamed(\"sum(LOR)\", \"WOppOR\")\n",
        "WinTeams = WinTeams.withColumnRenamed(\"sum(LDR)\", \"WOppDR\")\n",
        "WinTeams = WinTeams.withColumnRenamed(\"sum(LAst)\", \"WOppAST\")\n",
        "WinTeams = WinTeams.withColumnRenamed(\"sum(LTO)\", \"WOppTO\")\n",
        "WinTeams = WinTeams.withColumnRenamed(\"sum(LStl)\", \"WOppSTL\")\n",
        "WinTeams = WinTeams.withColumnRenamed(\"sum(LBlk)\", \"WOppBLK\")\n",
        "WinTeams = WinTeams.withColumnRenamed(\"sum(LPF)\", \"WOppPF\")"
      ]
    },
    {
      "cell_type": "code",
      "execution_count": 11,
      "metadata": {
        "id": "jiRv0yOyWcEq"
      },
      "outputs": [],
      "source": [
        "# Get all loss stats for each team\n",
        "LoseTeams = LoseTeams.withColumnRenamed(\"LTeamID\", \"TeamID\")\n",
        "LoseTeams = LoseTeams.withColumnRenamed(\"sum(WScore)\", \"LOppPTS\")\n",
        "LoseTeams = LoseTeams.withColumnRenamed(\"sum(LScore)\", \"LPTS\")\n",
        "LoseTeams = LoseTeams.withColumnRenamed(\"sum(NumOT)\", \"LOTs\")\n",
        "LoseTeams = LoseTeams.withColumnRenamed(\"sum(WFGM)\", \"LOppFGM\")\n",
        "LoseTeams = LoseTeams.withColumnRenamed(\"sum(WFGA)\", \"LOppFGA\")\n",
        "LoseTeams = LoseTeams.withColumnRenamed(\"sum(WFGA3)\", \"LOppFGA3\")\n",
        "LoseTeams = LoseTeams.withColumnRenamed(\"sum(WFGM3)\", \"LOppFGM3\")\n",
        "LoseTeams = LoseTeams.withColumnRenamed(\"sum(WFTA)\", \"LOppFTA\")\n",
        "LoseTeams = LoseTeams.withColumnRenamed(\"sum(WFTM)\", \"LOppFTM\")\n",
        "LoseTeams = LoseTeams.withColumnRenamed(\"sum(WOR)\", \"LOppOR\")\n",
        "LoseTeams = LoseTeams.withColumnRenamed(\"sum(WDR)\", \"LOppDR\")\n",
        "LoseTeams = LoseTeams.withColumnRenamed(\"sum(WAst)\", \"LOppAST\")\n",
        "LoseTeams = LoseTeams.withColumnRenamed(\"sum(WTO)\", \"LOppTO\")\n",
        "LoseTeams = LoseTeams.withColumnRenamed(\"sum(WStl)\", \"LOppSTL\")\n",
        "LoseTeams = LoseTeams.withColumnRenamed(\"sum(WBlk)\", \"LOppBLK\")\n",
        "LoseTeams = LoseTeams.withColumnRenamed(\"sum(WPF)\", \"LOppPF\")\n",
        "LoseTeams = LoseTeams.withColumnRenamed(\"sum(LFGM)\", \"LFGM\")\n",
        "LoseTeams = LoseTeams.withColumnRenamed(\"sum(LFGA)\", \"LFGA\")\n",
        "LoseTeams = LoseTeams.withColumnRenamed(\"sum(LFGA3)\", \"LFGA3\")\n",
        "LoseTeams = LoseTeams.withColumnRenamed(\"sum(LFGM3)\", \"LFGM3\")\n",
        "LoseTeams = LoseTeams.withColumnRenamed(\"sum(LFTA)\", \"LFTA\")\n",
        "LoseTeams = LoseTeams.withColumnRenamed(\"sum(LFTM)\", \"LFTM\")\n",
        "LoseTeams = LoseTeams.withColumnRenamed(\"sum(LOR)\", \"LOR\")\n",
        "LoseTeams = LoseTeams.withColumnRenamed(\"sum(LDR)\", \"LDR\")\n",
        "LoseTeams = LoseTeams.withColumnRenamed(\"sum(LAst)\", \"LAST\")\n",
        "LoseTeams = LoseTeams.withColumnRenamed(\"sum(LTO)\", \"LTO\")\n",
        "LoseTeams = LoseTeams.withColumnRenamed(\"sum(LStl)\", \"LSTL\")\n",
        "LoseTeams = LoseTeams.withColumnRenamed(\"sum(LBlk)\", \"LBLK\")\n",
        "LoseTeams = LoseTeams.withColumnRenamed(\"sum(LPF)\", \"LPF\")"
      ]
    },
    {
      "cell_type": "code",
      "source": [
        "LoseTeams.filter(LoseTeams.Season == 2022).show()"
      ],
      "metadata": {
        "id": "nObPxnvvyvsW",
        "colab": {
          "base_uri": "https://localhost:8080/"
        },
        "outputId": "0dd6cff1-7528-44af-ec5c-a56a7c282334"
      },
      "execution_count": 12,
      "outputs": [
        {
          "output_type": "stream",
          "name": "stdout",
          "text": [
            "+------+------+-------+----+----+-------+-------+--------+--------+-------+-------+------+------+-------+------+-------+-------+------+----+----+-----+-----+----+----+---+---+----+---+----+----+---+\n",
            "|Season|TeamID|LOppPTS|LPTS|LOTs|LOppFGM|LOppFGA|LOppFGM3|LOppFGA3|LOppFTM|LOppFTA|LOppOR|LOppDR|LOppAST|LOppTO|LOppSTL|LOppBLK|LOppPF|LFGM|LFGA|LFGM3|LFGA3|LFTM|LFTA|LOR|LDR|LAST|LTO|LSTL|LBLK|LPF|\n",
            "+------+------+-------+----+----+-------+-------+--------+--------+-------+-------+------+------+-------+------+-------+-------+------+----+----+-----+-----+----+----+---+---+----+---+----+----+---+\n",
            "|  2022|  1175|   1896|1515|   1|    643|   1500|     248|     687|    362|    513|   273|   607|    411|   335|    210|     90|   451| 538|1355|  143|  444| 296| 439|190|552| 222|419| 166|  95|460|\n",
            "|  2022|  1180|   1059| 958|   2|    399|    823|      94|     249|    167|    235|   101|   329|    166|   142|    111|     36|   213| 366| 837|   99|  308| 127| 176|123|314| 148|172|  56|  41|227|\n",
            "|  2022|  1153|   1099| 962|   0|    380|    856|      93|     258|    246|    339|   150|   413|    202|   162|     82|     50|   257| 335| 921|  114|  414| 178| 278|149|336| 166|139|  84|  38|284|\n",
            "|  2022|  1310|   1124| 978|   1|    405|    890|     115|     313|    199|    271|   131|   405|    215|   148|     87|     51|   243| 356| 883|  107|  325| 159| 221|111|348| 158|175|  73|  31|257|\n",
            "|  2022|  1244|   1416|1237|   4|    493|    994|     160|     415|    270|    375|   124|   431|    274|   210|    113|     46|   306| 450|1063|  140|  418| 197| 296|167|379| 203|215| 105|  45|330|\n",
            "|  2022|  1159|    857| 773|   1|    320|    674|      88|     247|    129|    178|    87|   280|    150|    97|     76|     44|   154| 287| 661|  101|  272|  98| 147| 90|257| 158|133|  55|  40|177|\n",
            "|  2022|  1424|   1051| 888|   0|    367|    773|     106|     292|    211|    286|   122|   382|    187|   156|     72|     46|   232| 314| 798|  106|  342| 154| 213| 93|284| 155|150|  79|  31|275|\n",
            "|  2022|  1167|   1365|1187|   0|    432|    924|     134|     358|    367|    485|   120|   424|    226|   233|    121|     48|   335| 446|1101|   72|  253| 223| 308|193|386| 184|220| 104|  33|409|\n",
            "|  2022|  1423|    647| 543|   0|    226|    481|      59|     147|    136|    187|    76|   247|    113|   111|     54|     32|   146| 187| 526|   58|  216| 111| 159| 85|177|  74| 95|  58|  32|168|\n",
            "|  2022|  1414|    686| 594|   0|    238|    558|      58|     181|    152|    187|    91|   236|    119|    96|     67|     34|   144| 222| 554|   50|  171| 100| 132| 89|210|  93|126|  56|  35|187|\n",
            "|  2022|  1131|    900| 807|   3|    322|    661|      67|     198|    189|    251|    92|   283|    155|   126|     82|     58|   191| 290| 695|   86|  291| 141| 193| 96|252| 120|140|  69|  19|223|\n",
            "|  2022|  1199|   1077| 868|   0|    394|    828|     133|     340|    156|    230|   153|   359|    227|   198|     96|     55|   210| 309| 821|   80|  292| 170| 239|121|275| 169|184| 118|  59|228|\n",
            "|  2022|  1415|    868| 750|   3|    319|    661|      70|     184|    160|    222|    71|   313|    150|   131|     60|     42|   171| 283| 669|   65|  239| 119| 166| 60|273| 132|137|  62|  14|201|\n",
            "|  2022|  1226|   1686|1369|   1|    596|   1241|     155|     443|    339|    464|   166|   538|    282|   239|    169|     64|   454| 477|1211|  139|  515| 276| 411|176|463| 210|311| 111|  48|437|\n",
            "|  2022|  1436|    328| 301|   1|    120|    278|      39|     118|     49|     71|    36|   135|     61|    45|     24|     15|    73| 111| 279|   36|  127|  43|  62| 26|117|  64| 50|  25|  13| 76|\n",
            "|  2022|  1408|   1135|1018|   1|    407|    902|     150|     407|    171|    248|   159|   415|    275|   215|     86|     75|   241| 345| 860|  102|  330| 226| 303| 93|331| 168|172| 139|  43|249|\n",
            "|  2022|  1129|    477| 439|   2|    168|    360|      36|     102|    105|    136|    41|   180|     78|    65|     25|     25|   120| 159| 417|   51|  173|  70| 106| 70|146|  70| 62|  32|  24|118|\n",
            "|  2022|  1307|   1511|1291|   2|    541|   1108|     131|     368|    298|    407|   178|   537|    282|   236|    121|     67|   318| 459|1131|  148|  446| 225| 321|125|400| 200|224| 114|  63|367|\n",
            "|  2022|  1402|    537| 419|   0|    188|    374|      58|     144|    103|    143|    63|   170|    111|    76|     45|     26|   114| 153| 390|   41|  131|  72| 104| 69|133|  79| 82|  37|  21|129|\n",
            "|  2022|  1303|   2151|1698|   0|    743|   1490|     244|     580|    421|    567|   215|   664|    382|   259|    168|     77|   421| 608|1448|  179|  503| 303| 416|188|547| 259|341| 115|  64|489|\n",
            "+------+------+-------+----+----+-------+-------+--------+--------+-------+-------+------+------+-------+------+-------+-------+------+----+----+-----+-----+----+----+---+---+----+---+----+----+---+\n",
            "only showing top 20 rows\n",
            "\n"
          ]
        }
      ]
    },
    {
      "cell_type": "code",
      "source": [
        "# combine win teams and lose teams\n",
        "Season = WinTeams.join(LoseTeams, ['Season','TeamID'])"
      ],
      "metadata": {
        "id": "18Nr9TSh4udU"
      },
      "execution_count": 13,
      "outputs": []
    },
    {
      "cell_type": "code",
      "source": [
        "# Combine columns\n",
        "Season = Season.withColumn(\"OppPTS\", Season.WOppPTS + Season.LOppPTS) \n",
        "Season = Season.withColumn(\"PTS\", Season.WPTS + Season.LPTS) \n",
        "Season = Season.withColumn(\"OTs\", Season.WOTs + Season.LOTs) \n",
        "Season = Season.withColumn(\"OppFGM\", Season.WOppFGM + Season.LOppFGM)\n",
        "Season = Season.withColumn(\"OppFGA\", Season.WOppFGA + Season.LOppFGA)\n",
        "Season = Season.withColumn(\"OppFGA3\", Season.WOppFGA3 + Season.LOppFGA3)\n",
        "Season = Season.withColumn(\"OppFGM3\", Season.WOppFGM3 + Season.LOppFGM3) \n",
        "Season = Season.withColumn(\"OppFTA\", Season.WOppFTA + Season.LOppFTA) \n",
        "Season = Season.withColumn(\"OppFTM\", Season.WOppFTM + Season.LOppFTM) \n",
        "Season = Season.withColumn(\"OppOR\", Season.WOppOR + Season.LOppOR) \n",
        "Season = Season.withColumn(\"OppDR\", Season.WOppDR + Season.LOppDR) \n",
        "Season = Season.withColumn(\"OppAST\", Season.WOppAST + Season.LOppAST) \n",
        "Season = Season.withColumn(\"OppTO\", Season.WOppTO + Season.LOppTO) \n",
        "Season = Season.withColumn(\"OppSTL\", Season.WOppSTL + Season.LOppSTL) \n",
        "Season = Season.withColumn(\"OppBLK\", Season.WOppBLK + Season.LOppBLK) \n",
        "Season = Season.withColumn(\"OppPF\", Season.WOppPF + Season.LOppPF) \n",
        "Season = Season.withColumn(\"FGM\", Season.WFGM + Season.LFGM) \n",
        "Season = Season.withColumn(\"FGA\", Season.WFGA + Season.LFGA) \n",
        "Season = Season.withColumn(\"FGA3\", Season.WFGA3 + Season.LFGA3) \n",
        "Season = Season.withColumn(\"FGM3\", Season.WFGM3 + Season.LFGM3) \n",
        "Season = Season.withColumn(\"FTA\", Season.WFTA + Season.LFTA) \n",
        "Season = Season.withColumn(\"FTM\", Season.WFTM + Season.LFTM) \n",
        "Season = Season.withColumn(\"OR\", Season.WOR + Season.LOR) \n",
        "Season = Season.withColumn(\"DR\", Season.WDR + Season.LDR) \n",
        "Season = Season.withColumn(\"AST\", Season.WAST + Season.LAST)\n",
        "Season = Season.withColumn(\"TO\", Season.WTO + Season.LTO) \n",
        "Season = Season.withColumn(\"STL\", Season.WSTL + Season.LSTL)\n",
        "Season = Season.withColumn(\"BLK\", Season.WBLK + Season.LBLK)\n",
        "Season = Season.withColumn(\"PF\", Season.WPF + Season.LPF)\n",
        "\n",
        "# Drop Unwanted Columns\n",
        "Season =  Season.drop(\"WPTS\",\"WOppPTS\",\"WOTs\",\"WFGM\",\"WFGA\",\"WFGM3\",\"WFGA3\",\"WFTM\",\"WFTA\",\"WOR\",\"WDR\",\"WAST\",\"WTO\",\"WSTL\",\"WBLK\",\"WPF\",\"WOppFGM\",\"WOppFGA\",\"WOppFGM3\",\"WOppFGA3\",\"WOppFTM\",\"WOppFTA\",\"WOppOR\",\"WOppDR\",\"WOppAST\",\"WOppTO\",\"WOppSTL\",\"WOppBLK\",\"WOppPF\",\"LOppPTS\",\"LPTS\",\"LOTs\",\"LOppFGM\",\"LOppFGA\",\"LOppFGM3\",\"LOppFGA3\",\"LOppFTM\",\"LOppFTA\",\"LOppOR\",\"LOppDR\",\"LOppAST\",\"LOppTO\",\"LOppSTL\",\"LOppBLK\",\"LOppPF\",\"LFGM\",\"LFGA\",\"LFGM3\",\"LFGA3\",\"LFTM\",\"LFTA\",\"LOR\",\"LDR\",\"LAST\",\"LTO\",\"LSTL\",\"LBLK\",\"LPF\")"
      ],
      "metadata": {
        "id": "vXpWsAaGx2md"
      },
      "execution_count": 14,
      "outputs": []
    },
    {
      "cell_type": "code",
      "source": [
        "# Combine merged and season\n",
        "Season_Stats = Season.join(merged_df, ['Season','TeamID'])"
      ],
      "metadata": {
        "id": "vaiJQYmdRj6U"
      },
      "execution_count": 15,
      "outputs": []
    },
    {
      "cell_type": "markdown",
      "source": [
        "Make season stats for input"
      ],
      "metadata": {
        "id": "Asy10tvTR_Hm"
      }
    },
    {
      "cell_type": "code",
      "source": [
        "#Wins, PPG, PPG Allowed, Points Ratio, OTs\n",
        "RegularSeasonInput = Season_Stats.withColumn(\"WinRatio\", Season_Stats.Wins /  Season_Stats.NumGames) \n",
        "RegularSeasonInput = RegularSeasonInput.withColumn(\"PointsPerGame\", Season_Stats.PTS /  Season_Stats.NumGames)\n",
        "RegularSeasonInput = RegularSeasonInput.withColumn(\"PointsAllowedPerGame\", Season_Stats.OppPTS /  Season_Stats.NumGames)\n",
        "RegularSeasonInput = RegularSeasonInput.withColumn(\"PointsRatio\", Season_Stats.PTS /  Season_Stats.OppPTS)\n",
        "RegularSeasonInput = RegularSeasonInput.withColumn(\"OTsPerGame\", Season_Stats.OTs /  Season_Stats.NumGames)\n",
        "#Field Goals\n",
        "RegularSeasonInput = RegularSeasonInput.withColumn(\"FGPerGame\", Season_Stats.FGM /  Season_Stats.NumGames)\n",
        "RegularSeasonInput = RegularSeasonInput.withColumn(\"FGRatio\", Season_Stats.FGM /  Season_Stats.FGA)\n",
        "RegularSeasonInput = RegularSeasonInput.withColumn(\"FGAPerGame\", Season_Stats.FGA /  Season_Stats.NumGames)\n",
        "RegularSeasonInput = RegularSeasonInput.withColumn(\"FGAllowedPerGame\", Season_Stats.OppFGM /  Season_Stats.NumGames)\n",
        "#Three Pointers\n",
        "RegularSeasonInput = RegularSeasonInput.withColumn(\"FG3PerGame\", Season_Stats.FGM3 /  Season_Stats.NumGames)\n",
        "RegularSeasonInput = RegularSeasonInput.withColumn(\"FG3Ratio\", Season_Stats.FGM3 /  Season_Stats.FGA3)\n",
        "RegularSeasonInput = RegularSeasonInput.withColumn(\"FG3APerGame\", Season_Stats.FGA3 /  Season_Stats.NumGames)\n",
        "RegularSeasonInput = RegularSeasonInput.withColumn(\"FG3AllowedPerGame\", Season_Stats.OppFGM3 /  Season_Stats.NumGames)\n",
        "#Free Throws\n",
        "RegularSeasonInput = RegularSeasonInput.withColumn(\"FTPerGame\", Season_Stats.FTM /  Season_Stats.NumGames)\n",
        "RegularSeasonInput = RegularSeasonInput.withColumn(\"FTRatio\", Season_Stats.FTM /  Season_Stats.FTA)\n",
        "RegularSeasonInput = RegularSeasonInput.withColumn(\"FTAPerGame\", Season_Stats.FTA /  Season_Stats.NumGames)\n",
        "RegularSeasonInput = RegularSeasonInput.withColumn(\"FTllowedPerGame\", Season_Stats.OppFTM /  Season_Stats.NumGames)\n",
        "#Rebounds\n",
        "RegularSeasonInput = RegularSeasonInput.withColumn(\"ORPerGame\", Season_Stats.OR /  Season_Stats.NumGames)\n",
        "RegularSeasonInput = RegularSeasonInput.withColumn(\"DRPerGame\", Season_Stats.DR /  Season_Stats.NumGames)\n",
        "RegularSeasonInput = RegularSeasonInput.withColumn(\"TRPerGame\", (Season_Stats.OR+ Season_Stats.DR) /  Season_Stats.NumGames)\n",
        "RegularSeasonInput = RegularSeasonInput.withColumn(\"OppORPerGame\", Season_Stats.OppOR /  Season_Stats.NumGames)\n",
        "RegularSeasonInput = RegularSeasonInput.withColumn(\"OppDRPerGame\", Season_Stats.OppDR /  Season_Stats.NumGames)\n",
        "RegularSeasonInput = RegularSeasonInput.withColumn(\"OppTRPerGame\", (Season_Stats.OppOR +  Season_Stats.OppDR) / Season_Stats.NumGames)\n",
        "RegularSeasonInput = RegularSeasonInput.withColumn(\"ORRatio\", Season_Stats.OR /  Season_Stats.OppOR)\n",
        "RegularSeasonInput = RegularSeasonInput.withColumn(\"DRRatio\", Season_Stats.DR /  Season_Stats.OppDR)\n",
        "RegularSeasonInput = RegularSeasonInput.withColumn(\"TRRatio\", (Season_Stats.OR +  Season_Stats.DR) / (Season_Stats.OppOR +  Season_Stats.OppDR))\n",
        "#Assists\n",
        "RegularSeasonInput = RegularSeasonInput.withColumn(\"AstPerGame\", Season_Stats.AST /  Season_Stats.NumGames)\n",
        "RegularSeasonInput = RegularSeasonInput.withColumn(\"OppAstPerGame\", Season_Stats.OppAST /  Season_Stats.NumGames)\n",
        "#Steals\n",
        "RegularSeasonInput = RegularSeasonInput.withColumn(\"StlPerGame\", Season_Stats.STL /  Season_Stats.NumGames)\n",
        "RegularSeasonInput = RegularSeasonInput.withColumn(\"OppStlPerGame\", Season_Stats.OppSTL /  Season_Stats.NumGames)\n",
        "#Turnovers\n",
        "RegularSeasonInput = RegularSeasonInput.withColumn(\"TOPerGame\", Season_Stats.TO / Season_Stats.NumGames)\n",
        "RegularSeasonInput = RegularSeasonInput.withColumn(\"OppTOPerGame\", Season_Stats.OppTO / Season_Stats.NumGames)\n",
        "#Blocks\n",
        "RegularSeasonInput = RegularSeasonInput.withColumn(\"BlkPerGame\", Season_Stats.BLK / Season_Stats.NumGames)\n",
        "RegularSeasonInput = RegularSeasonInput.withColumn(\"OppBlkPerGame\", Season_Stats.OppBLK /  Season_Stats.NumGames)\n",
        "#Personal Fouls\n",
        "RegularSeasonInput = RegularSeasonInput.withColumn(\"PFPerGame\", Season_Stats.PF /  Season_Stats.NumGames)\n",
        "RegularSeasonInput = RegularSeasonInput.withColumn(\"OppPFPerGame\", Season_Stats.OppPF /  Season_Stats.NumGames)\n",
        "\n",
        "#drop unwanted columns\n",
        "RegularSeasonInput =  RegularSeasonInput.drop(\"PTS\",\"OppPTS\",\"OTs\",\"FGM\",\"FGA\",\"FGM3\",\"FGA3\",\"FTM\",\"FTA\",\"OR\",\"DR\",\"AST\",\"TO\",\"STL\",\"BLK\",\"PF\",\"OppFGM\",\"OppFGA\",\"OppFGM3\",\"OppFGA3\",\"OppFTM\",\"OppFTA\",\"OppOR\",\"OppDR\",\"OppAST\",\"OppTO\",\"OppSTL\",\"OppBLK\",\"OppPF\")"
      ],
      "metadata": {
        "id": "s_W3B0bwSRv0"
      },
      "execution_count": 16,
      "outputs": []
    },
    {
      "cell_type": "code",
      "source": [
        "RegularSeasonInput.describe().show()"
      ],
      "metadata": {
        "id": "Eiy9OjE0dqpP",
        "colab": {
          "base_uri": "https://localhost:8080/"
        },
        "outputId": "7a2b3853-80dd-4784-d843-514dda5fe019"
      },
      "execution_count": 17,
      "outputs": [
        {
          "output_type": "stream",
          "name": "stdout",
          "text": [
            "+-------+------------------+------------------+------------------+------------------+------------------+-------------------+-----------------+--------------------+------------------+-------------------+------------------+--------------------+------------------+------------------+------------------+-------------------+------------------+------------------+------------------+--------------------+------------------+------------------+------------------+------------------+------------------+------------------+------------------+------------------+-------------------+-------------------+-------------------+------------------+------------------+------------------+------------------+------------------+------------------+------------------+------------------+------------------+------------------+\n",
            "|summary|            Season|            TeamID|              Wins|             Loses|          NumGames|           WinRatio|    PointsPerGame|PointsAllowedPerGame|       PointsRatio|         OTsPerGame|         FGPerGame|             FGRatio|        FGAPerGame|  FGAllowedPerGame|        FG3PerGame|           FG3Ratio|       FG3APerGame| FG3AllowedPerGame|         FTPerGame|             FTRatio|        FTAPerGame|   FTllowedPerGame|         ORPerGame|         DRPerGame|         TRPerGame|      OppORPerGame|      OppDRPerGame|      OppTRPerGame|            ORRatio|            DRRatio|            TRRatio|        AstPerGame|     OppAstPerGame|        StlPerGame|     OppStlPerGame|         TOPerGame|      OppTOPerGame|        BlkPerGame|     OppBlkPerGame|         PFPerGame|      OppPFPerGame|\n",
            "+-------+------------------+------------------+------------------+------------------+------------------+-------------------+-----------------+--------------------+------------------+-------------------+------------------+--------------------+------------------+------------------+------------------+-------------------+------------------+------------------+------------------+--------------------+------------------+------------------+------------------+------------------+------------------+------------------+------------------+------------------+-------------------+-------------------+-------------------+------------------+------------------+------------------+------------------+------------------+------------------+------------------+------------------+------------------+------------------+\n",
            "|  count|              6881|              6881|              6881|              6881|              6881|               6881|             6881|                6881|              6881|               6881|              6881|                6881|              6881|              6881|              6881|               6881|              6881|              6881|              6881|                6881|              6881|              6881|              6881|              6881|              6881|              6881|              6881|              6881|               6881|               6881|               6881|              6881|              6881|              6881|              6881|              6881|              6881|              6881|              6881|              6881|              6881|\n",
            "|   mean|2012.6297049847406|1284.7616625490482|14.814561836942305|14.798866443830839|29.613428280773142|0.49435968831227195|69.47300261910236|   69.67512966533823|1.0012769271674036| 0.0686173474504341|24.432659064071814| 0.43603187065201177| 56.03234565621925|24.498936516415274| 6.679504451268201| 0.3430015182368481| 19.43036019198861| 6.690521260830329|13.928180039690528|  0.6971143331844069| 19.98698975376054|13.986735371677506|10.667950291519082| 23.68676350300138| 34.35471379452043| 10.68644489020965| 23.75038178032398| 34.43682667053358| 1.0090010696555713| 1.0044259940391658|  1.003253137626772| 13.03456176942973|13.089381044134234|  6.48769793204422|6.5076590799689855|13.538207337066325|13.510069067962275|  3.30694991420434|3.3284569629975818| 17.82432325857476|17.790219494798247|\n",
            "| stddev| 5.741759619852787|104.72223165728492| 6.156266670428836| 5.278131044177926|  2.88570351410977|0.18667880230726186|5.791842897855892|   5.525404956027591|0.0954161966244095|0.05983259268883152| 2.150961321093782|0.026267592494204475| 3.564392580165288| 2.202611462760954|1.3966210786950202|0.02869224440534713|3.5295589627896806| 1.109011944654921|2.1333465089699644|0.039197013133098264|2.8975906912424354| 2.202928201779684|1.9716648209446122|1.9951891435480278|2.9372696340366597|1.6197535466522748|2.1055253648345684| 2.816926090216573| 0.1858272686349919|0.11709363560647541|0.11019744520188535|1.8507837881197817|1.7573153910325834| 1.252294727864008| 1.029913423699906| 1.837217836548168| 1.888308970251051|  1.08515321757115|0.6337681454599025|3.4667327354246282| 3.338412480551074|\n",
            "|    min|              2003|              1101|                 1|                 1|                 4|            0.03125|            49.24|   50.42857142857143|0.6504530281354316|                0.0|             16.12| 0.34207240948813983|39.785714285714285|16.962962962962962|1.8387096774193548|0.24777183600713013| 6.064516129032258|3.1785714285714284|               7.0|  0.5424610051993067|10.346153846153847| 7.433333333333334|              3.56|15.357142857142858|             20.76| 5.181818181818182|15.733333333333333|23.566666666666666|0.39555555555555555| 0.6361767728674204| 0.6463262764632628| 7.612903225806452|               7.7|             2.875|3.3666666666666667| 7.387096774193548|           6.96875|0.6551724137931034|1.4516129032258065|               0.0|               0.0|\n",
            "|    max|              2022|              1472|                33|                31|                36| 0.9705882352941176|95.55172413793103|   98.20689655172414|1.3830525272547076|                0.4| 33.72727272727273|  0.5317976965448172| 78.62068965517241|              37.2|             13.25| 0.4506024096385542|              40.3| 11.62962962962963|21.484848484848484|  0.8256410256410256|           31.1875| 23.51851851851852| 17.25925925925926| 31.12121212121212| 46.13793103448276|16.807692307692307|34.666666666666664| 49.06896551724138| 1.8912280701754387|  1.524031007751938| 1.4413012729844412|21.484848484848484| 22.24137931034483|13.241379310344827|11.642857142857142|22.321428571428573|24.275862068965516| 9.333333333333334|               6.0|27.884615384615383| 25.17241379310345|\n",
            "+-------+------------------+------------------+------------------+------------------+------------------+-------------------+-----------------+--------------------+------------------+-------------------+------------------+--------------------+------------------+------------------+------------------+-------------------+------------------+------------------+------------------+--------------------+------------------+------------------+------------------+------------------+------------------+------------------+------------------+------------------+-------------------+-------------------+-------------------+------------------+------------------+------------------+------------------+------------------+------------------+------------------+------------------+------------------+------------------+\n",
            "\n"
          ]
        }
      ]
    },
    {
      "cell_type": "markdown",
      "source": [
        "## Tourney Input"
      ],
      "metadata": {
        "id": "ux-GHsxRs_9s"
      }
    },
    {
      "cell_type": "code",
      "source": [
        "Seeds = Seeds.withColumn('Seed', Seeds.Seed.substr(2,2))"
      ],
      "metadata": {
        "id": "lxIFqgpWtMkl"
      },
      "execution_count": 18,
      "outputs": []
    },
    {
      "cell_type": "code",
      "source": [
        "Winners = TourneyCompact.withColumnRenamed(\"WTeamID\",\"TeamID\")\n",
        "Winners =  Winners.drop(\"DayNum\",\"WScore\",\"WLoc\",\"NumOT\",\"LScore\")\n",
        "Winners = Winners.join(Seeds, ['Season','TeamID'])\n",
        "Winners = Winners.withColumnRenamed(\"Seed\",\"Team1Seed\")\n",
        "Winners = Winners.withColumnRenamed(\"TeamID\",\"Team1\")\n",
        "Winners = Winners.withColumnRenamed(\"LTeamID\",\"TeamID\")\n",
        "Winners = Winners.join(Seeds, ['Season','TeamID'])\n",
        "Winners = Winners.withColumnRenamed(\"TeamID\",\"Team2\")\n",
        "Winners = Winners.withColumnRenamed(\"Seed\",\"Team2Seed\")\n",
        "Winners = Winners.withColumn(\"Result\",lit(1))\n",
        "\n",
        "Losers = TourneyCompact.withColumnRenamed(\"LTeamID\",\"TeamID\")\n",
        "Losers = Losers.drop(\"DayNum\",\"WScore\",\"WLoc\",\"NumOT\",\"LScore\")\n",
        "Losers = Losers.join(Seeds, ['Season','TeamID'])\n",
        "Losers = Losers.withColumnRenamed(\"Seed\",\"Team1Seed\")\n",
        "Losers = Losers.withColumnRenamed(\"TeamID\",\"Team1\")\n",
        "Losers = Losers.withColumnRenamed(\"WTeamID\",\"TeamID\")\n",
        "Losers = Losers.join(Seeds, ['Season','TeamID'])\n",
        "Losers = Losers.withColumnRenamed(\"TeamID\",\"Team2\")\n",
        "Losers = Losers.withColumnRenamed(\"Seed\",\"Team2Seed\")\n",
        "Losers = Losers.withColumn(\"Result\",lit(0))\n"
      ],
      "metadata": {
        "id": "1BCEWQykio0h"
      },
      "execution_count": 19,
      "outputs": []
    },
    {
      "cell_type": "code",
      "source": [
        "TourneyInput = Winners.union(Losers)"
      ],
      "metadata": {
        "id": "ZFstBpXJm0i6"
      },
      "execution_count": 20,
      "outputs": []
    },
    {
      "cell_type": "code",
      "source": [
        "TourneyInput.filter(TourneyInput.Season == 2022).show(126)"
      ],
      "metadata": {
        "id": "iCwSm46MeqHg",
        "colab": {
          "base_uri": "https://localhost:8080/"
        },
        "outputId": "28923e01-3574-46a4-c76d-e11076fc2cee"
      },
      "execution_count": 21,
      "outputs": [
        {
          "output_type": "stream",
          "name": "stdout",
          "text": [
            "+------+-----+-----+---------+---------+------+\n",
            "|Season|Team2|Team1|Team1Seed|Team2Seed|Result|\n",
            "+------+-----+-----+---------+---------+------+\n",
            "|  2022| 1314| 1124|       01|       08|     1|\n",
            "|  2022| 1313| 1124|       01|       16|     1|\n",
            "|  2022| 1389| 1246|       02|       15|     1|\n",
            "|  2022| 1463| 1345|       03|       14|     1|\n",
            "|  2022| 1103| 1417|       04|       13|     1|\n",
            "|  2022| 1417| 1388|       05|       04|     1|\n",
            "|  2022| 1231| 1388|       05|       12|     1|\n",
            "|  2022| 1345| 1400|       06|       03|     1|\n",
            "|  2022| 1439| 1400|       06|       11|     1|\n",
            "|  2022| 1389| 1293|       07|       15|     1|\n",
            "|  2022| 1362| 1293|       07|       10|     1|\n",
            "|  2022| 1242| 1314|       08|       01|     1|\n",
            "|  2022| 1389| 1314|       08|       15|     1|\n",
            "|  2022| 1417| 1314|       08|       04|     1|\n",
            "|  2022| 1266| 1314|       08|       09|     1|\n",
            "|  2022| 1345| 1389|       15|       03|     1|\n",
            "|  2022| 1116| 1211|       01|       04|     1|\n",
            "|  2022| 1272| 1211|       01|       09|     1|\n",
            "|  2022| 1209| 1211|       01|       16|     1|\n",
            "|  2022| 1314| 1181|       02|       08|     1|\n",
            "|  2022| 1168| 1181|       02|       15|     1|\n",
            "|  2022| 1181| 1403|       03|       02|     1|\n",
            "|  2022| 1286| 1403|       03|       14|     1|\n",
            "|  2022| 1181| 1116|       04|       02|     1|\n",
            "|  2022| 1436| 1116|       04|       13|     1|\n",
            "|  2022| 1308| 1163|       05|       12|     1|\n",
            "|  2022| 1323| 1104|       06|       11|     1|\n",
            "|  2022| 1181| 1277|       07|       02|     1|\n",
            "|  2022| 1172| 1277|       07|       10|     1|\n",
            "|  2022| 1272| 1129|       08|       09|     1|\n",
            "|  2022| 1403| 1323|       11|       03|     1|\n",
            "|  2022| 1116| 1308|       12|       04|     1|\n",
            "|  2022| 1274| 1242|       01|       10|     1|\n",
            "|  2022| 1344| 1242|       01|       04|     1|\n",
            "|  2022| 1166| 1242|       01|       09|     1|\n",
            "|  2022| 1411| 1242|       01|       16|     1|\n",
            "|  2022| 1240| 1120|       02|       15|     1|\n",
            "|  2022| 1159| 1458|       03|       14|     1|\n",
            "|  2022| 1355| 1344|       04|       13|     1|\n",
            "|  2022| 1350| 1234|       05|       12|     1|\n",
            "|  2022| 1235| 1261|       06|       11|     1|\n",
            "|  2022| 1274| 1425|       07|       10|     1|\n",
            "|  2022| 1166| 1361|       08|       09|     1|\n",
            "|  2022| 1120| 1274|       10|       02|     1|\n",
            "|  2022| 1274| 1235|       11|       10|     1|\n",
            "|  2022| 1458| 1235|       11|       03|     1|\n",
            "|  2022| 1344| 1350|       12|       04|     1|\n",
            "|  2022| 1222| 1112|       01|       05|     1|\n",
            "|  2022| 1395| 1112|       01|       09|     1|\n",
            "|  2022| 1460| 1112|       01|       16|     1|\n",
            "|  2022| 1242| 1437|       02|       01|     1|\n",
            "|  2022| 1174| 1437|       02|       15|     1|\n",
            "|  2022| 1255| 1397|       03|       14|     1|\n",
            "|  2022| 1151| 1228|       04|       13|     1|\n",
            "|  2022| 1437| 1222|       05|       02|     1|\n",
            "|  2022| 1228| 1222|       05|       04|     1|\n",
            "|  2022| 1412| 1222|       05|       12|     1|\n",
            "|  2022| 1276| 1161|       06|       11|     1|\n",
            "|  2022| 1437| 1326|       07|       02|     1|\n",
            "|  2022| 1260| 1326|       07|       10|     1|\n",
            "|  2022| 1395| 1371|       08|       09|     1|\n",
            "|  2022| 1437| 1276|       11|       02|     1|\n",
            "|  2022| 1397| 1276|       11|       03|     1|\n",
            "|  2022| 1389| 1345|       03|       15|     0|\n",
            "|  2022| 1400| 1345|       03|       06|     0|\n",
            "|  2022| 1314| 1417|       04|       08|     0|\n",
            "|  2022| 1388| 1417|       04|       05|     0|\n",
            "|  2022| 1181| 1314|       08|       02|     0|\n",
            "|  2022| 1124| 1314|       08|       01|     0|\n",
            "|  2022| 1314| 1266|       09|       08|     0|\n",
            "|  2022| 1293| 1362|       10|       07|     0|\n",
            "|  2022| 1400| 1439|       11|       06|     0|\n",
            "|  2022| 1388| 1231|       12|       05|     0|\n",
            "|  2022| 1417| 1103|       13|       04|     0|\n",
            "|  2022| 1345| 1463|       14|       03|     0|\n",
            "|  2022| 1314| 1389|       15|       08|     0|\n",
            "|  2022| 1293| 1389|       15|       07|     0|\n",
            "|  2022| 1246| 1389|       15|       02|     0|\n",
            "|  2022| 1124| 1313|       16|       01|     0|\n",
            "|  2022| 1116| 1181|       02|       04|     0|\n",
            "|  2022| 1403| 1181|       02|       03|     0|\n",
            "|  2022| 1277| 1181|       02|       07|     0|\n",
            "|  2022| 1323| 1403|       03|       11|     0|\n",
            "|  2022| 1211| 1116|       04|       01|     0|\n",
            "|  2022| 1308| 1116|       04|       12|     0|\n",
            "|  2022| 1211| 1272|       09|       01|     0|\n",
            "|  2022| 1129| 1272|       09|       08|     0|\n",
            "|  2022| 1277| 1172|       10|       07|     0|\n",
            "|  2022| 1104| 1323|       11|       06|     0|\n",
            "|  2022| 1163| 1308|       12|       05|     0|\n",
            "|  2022| 1116| 1436|       13|       04|     0|\n",
            "|  2022| 1403| 1286|       14|       03|     0|\n",
            "|  2022| 1181| 1168|       15|       02|     0|\n",
            "|  2022| 1211| 1209|       16|       01|     0|\n",
            "|  2022| 1314| 1242|       01|       08|     0|\n",
            "|  2022| 1437| 1242|       01|       02|     0|\n",
            "|  2022| 1274| 1120|       02|       10|     0|\n",
            "|  2022| 1235| 1458|       03|       11|     0|\n",
            "|  2022| 1242| 1344|       04|       01|     0|\n",
            "|  2022| 1350| 1344|       04|       12|     0|\n",
            "|  2022| 1242| 1166|       09|       01|     0|\n",
            "|  2022| 1361| 1166|       09|       08|     0|\n",
            "|  2022| 1242| 1274|       10|       01|     0|\n",
            "|  2022| 1235| 1274|       10|       11|     0|\n",
            "|  2022| 1425| 1274|       10|       07|     0|\n",
            "|  2022| 1261| 1235|       11|       06|     0|\n",
            "|  2022| 1234| 1350|       12|       05|     0|\n",
            "|  2022| 1344| 1355|       13|       04|     0|\n",
            "|  2022| 1458| 1159|       14|       03|     0|\n",
            "|  2022| 1120| 1240|       15|       02|     0|\n",
            "|  2022| 1242| 1411|       16|       01|     0|\n",
            "|  2022| 1222| 1437|       02|       05|     0|\n",
            "|  2022| 1276| 1437|       02|       11|     0|\n",
            "|  2022| 1326| 1437|       02|       07|     0|\n",
            "|  2022| 1276| 1397|       03|       11|     0|\n",
            "|  2022| 1222| 1228|       04|       05|     0|\n",
            "|  2022| 1112| 1222|       05|       01|     0|\n",
            "|  2022| 1112| 1395|       09|       01|     0|\n",
            "|  2022| 1371| 1395|       09|       08|     0|\n",
            "|  2022| 1326| 1260|       10|       07|     0|\n",
            "|  2022| 1161| 1276|       11|       06|     0|\n",
            "|  2022| 1222| 1412|       12|       05|     0|\n",
            "|  2022| 1228| 1151|       13|       04|     0|\n",
            "|  2022| 1397| 1255|       14|       03|     0|\n",
            "|  2022| 1437| 1174|       15|       02|     0|\n",
            "|  2022| 1112| 1460|       16|       01|     0|\n",
            "+------+-----+-----+---------+---------+------+\n",
            "\n"
          ]
        }
      ]
    },
    {
      "cell_type": "markdown",
      "source": [
        "# Make Final Input Dataframe"
      ],
      "metadata": {
        "id": "955iOH6cxjq4"
      }
    },
    {
      "cell_type": "code",
      "source": [
        "RegularSeasonInput.columns\n",
        "# Team 1\n",
        "outscores1 = RegularSeasonInput.withColumnRenamed('TeamID','Team1')\n",
        "outscores1 = outscores1.join(TourneyInput, ['Season','Team1'])\n",
        "outscores1 = outscores1.withColumnRenamed('Wins','Team1Wins')\n",
        "outscores1 = outscores1.withColumnRenamed('Loses','Team1Loses')\n",
        "outscores1 = outscores1.withColumnRenamed('NumGames','Team1NumGames')\n",
        "outscores1 = outscores1.withColumnRenamed('WinRatio','Team1WinRatio')\n",
        "outscores1 = outscores1.withColumnRenamed('PointsPerGame','Team1PointsPerGame')\n",
        "outscores1 = outscores1.withColumnRenamed('PointsAllowedPerGame','Team1PointsAllowedPerGame')\n",
        "outscores1 = outscores1.withColumnRenamed('PointsRatio','Team1PointsRatio')\n",
        "outscores1 = outscores1.withColumnRenamed('OTsPerGame','Team1OTsPerGame')\n",
        "outscores1 = outscores1.withColumnRenamed('FGPerGame','Team1FGPerGame')\n",
        "outscores1 = outscores1.withColumnRenamed('FGRatio','Team1FGRatio')\n",
        "outscores1 = outscores1.withColumnRenamed('FGAPerGame','Team1FGAPerGame')\n",
        "outscores1 = outscores1.withColumnRenamed('FGAllowedPerGame','Team1FGAllowedPerGame')\n",
        "outscores1 = outscores1.withColumnRenamed('FG3PerGame','Team1FG3PerGame')\n",
        "outscores1 = outscores1.withColumnRenamed('FG3Ratio','Team1FG3Ratio')\n",
        "outscores1 = outscores1.withColumnRenamed('FG3APerGame','Team1FG3APerGame')\n",
        "outscores1 = outscores1.withColumnRenamed('FG3AllowedPerGame','Team1FG3AllowedPerGame')\n",
        "outscores1 = outscores1.withColumnRenamed('FTPerGame','Team1FTPerGame')\n",
        "outscores1 = outscores1.withColumnRenamed('FTRatio','Team1FTRatio')\n",
        "outscores1 = outscores1.withColumnRenamed('FTAPerGame','Team1FTAPerGame')\n",
        "outscores1 = outscores1.withColumnRenamed('FTllowedPerGame','Team1FTAllowedPerGame')\n",
        "outscores1 = outscores1.withColumnRenamed('ORPerGame','Team1ORPerGame')\n",
        "outscores1 = outscores1.withColumnRenamed('DRPerGame','Team1DRPerGame')\n",
        "outscores1 = outscores1.withColumnRenamed('TRPerGame','Team1TRPerGame')\n",
        "outscores1 = outscores1.withColumnRenamed('OppORPerGame','Team1OppORPerGame')\n",
        "outscores1 = outscores1.withColumnRenamed('OppDRPerGame','Team1OppDRPerGame')\n",
        "outscores1 = outscores1.withColumnRenamed('OppTRPerGame','Team1OppTRPerGame')\n",
        "outscores1 = outscores1.withColumnRenamed('ORRatio','Team1ORRatio')\n",
        "outscores1 = outscores1.withColumnRenamed('DRRatio','Team1DRRatio')\n",
        "outscores1 = outscores1.withColumnRenamed('TRRatio','Team1TRRatio')\n",
        "outscores1 = outscores1.withColumnRenamed('AstPerGame','Team1AstPerGame')\n",
        "outscores1 = outscores1.withColumnRenamed('OppAstPerGame','Team1OppAstPerGame')\n",
        "outscores1 = outscores1.withColumnRenamed('StlPerGame','Team1StlPerGame')\n",
        "outscores1 = outscores1.withColumnRenamed('OppStlPerGame','Team1OppStlPerGame')\n",
        "outscores1 = outscores1.withColumnRenamed('TOPerGame','Team1TOPerGame')\n",
        "outscores1 = outscores1.withColumnRenamed('OppTOPerGame','Team1OppTOPerGame')\n",
        "outscores1 = outscores1.withColumnRenamed('BlkPerGame','Team1BlkPerGame')\n",
        "outscores1 = outscores1.withColumnRenamed('OppBlkPerGame','Team1OppBlkPerGame')\n",
        "outscores1 = outscores1.withColumnRenamed('PFPerGame','Team1PFPerGame')\n",
        "outscores1 = outscores1.withColumnRenamed('OppPFPerGame','Team1OppPFPerGame')"
      ],
      "metadata": {
        "id": "GNu-LUQd7LzU"
      },
      "execution_count": 22,
      "outputs": []
    },
    {
      "cell_type": "code",
      "source": [
        "outscores2 = RegularSeasonInput.withColumnRenamed('TeamID','Team2')\n",
        "outscores2 = outscores2.join(TourneyInput, ['Season','Team2'])\n",
        "\n",
        "#rename columns\n",
        "outscores2 = outscores2.withColumnRenamed('Wins','Team2Wins')\n",
        "outscores2 = outscores2.withColumnRenamed('Loses','Team2Loses')\n",
        "outscores2 = outscores2.withColumnRenamed('NumGames','Team2NumGames')\n",
        "outscores2 = outscores2.withColumnRenamed('WinRatio','Team2WinRatio')\n",
        "outscores2 = outscores2.withColumnRenamed('PointsPerGame','Team2PointsPerGame')\n",
        "outscores2 = outscores2.withColumnRenamed('PointsAllowedPerGame','Team2PointsAllowedPerGame')\n",
        "outscores2 = outscores2.withColumnRenamed('PointsRatio','Team2PointsRatio')\n",
        "outscores2 = outscores2.withColumnRenamed('OTsPerGame','Team2OTsPerGame')\n",
        "outscores2 = outscores2.withColumnRenamed('FGPerGame','Team2FGPerGame')\n",
        "outscores2 = outscores2.withColumnRenamed('FGRatio','Team2FGRatio')\n",
        "outscores2 = outscores2.withColumnRenamed('FGAPerGame','Team2FGAPerGame')\n",
        "outscores2 = outscores2.withColumnRenamed('FGAllowedPerGame','Team2FGAllowedPerGame')\n",
        "outscores2 = outscores2.withColumnRenamed('FG3PerGame','Team2FG3PerGame')\n",
        "outscores2 = outscores2.withColumnRenamed('FG3Ratio','Team2FG3Ratio')\n",
        "outscores2 = outscores2.withColumnRenamed('FG3APerGame','Team2FG3APerGame')\n",
        "outscores2 = outscores2.withColumnRenamed('FG3AllowedPerGame','Team2FG3AllowedPerGame')\n",
        "outscores2 = outscores2.withColumnRenamed('FTPerGame','Team2FTPerGame')\n",
        "outscores2 = outscores2.withColumnRenamed('FTRatio','Team2FTRatio')\n",
        "outscores2 = outscores2.withColumnRenamed('FTAPerGame','Team2FTAPerGame')\n",
        "outscores2 = outscores2.withColumnRenamed('FTllowedPerGame','Team2FTAllowedPerGame')\n",
        "outscores2 = outscores2.withColumnRenamed('ORPerGame','Team2ORPerGame')\n",
        "outscores2 = outscores2.withColumnRenamed('DRPerGame','Team2DRPerGame')\n",
        "outscores2 = outscores2.withColumnRenamed('TRPerGame','Team2TRPerGame')\n",
        "outscores2 = outscores2.withColumnRenamed('OppORPerGame','Team2OppORPerGame')\n",
        "outscores2 = outscores2.withColumnRenamed('OppDRPerGame','Team2OppDRPerGame')\n",
        "outscores2 = outscores2.withColumnRenamed('OppTRPerGame','Team2OppTRPerGame')\n",
        "outscores2 = outscores2.withColumnRenamed('ORRatio','Team2ORRatio')\n",
        "outscores2 = outscores2.withColumnRenamed('DRRatio','Team2DRRatio')\n",
        "outscores2 = outscores2.withColumnRenamed('TRRatio','Team2TRRatio')\n",
        "outscores2 = outscores2.withColumnRenamed('AstPerGame','Team2AstPerGame')\n",
        "outscores2 = outscores2.withColumnRenamed('OppAstPerGame','Team2OppAstPerGame')\n",
        "outscores2 = outscores2.withColumnRenamed('StlPerGame','Team2StlPerGame')\n",
        "outscores2 = outscores2.withColumnRenamed('OppStlPerGame','Team2OppStlPerGame')\n",
        "outscores2 = outscores2.withColumnRenamed('TOPerGame','Team2TOPerGame')\n",
        "outscores2 = outscores2.withColumnRenamed('OppTOPerGame','Team2OppTOPerGame')\n",
        "outscores2 = outscores2.withColumnRenamed('BlkPerGame','Team2BlkPerGame')\n",
        "outscores2 = outscores2.withColumnRenamed('OppBlkPerGame','Team2OppBlkPerGame')\n",
        "outscores2 = outscores2.withColumnRenamed('PFPerGame','Team2PFPerGame')\n",
        "outscores2 = outscores2.withColumnRenamed('OppPFPerGame','Team2OppPFPerGame')\n",
        "\n",
        "print(outscores1.count())\n",
        "print(outscores2.count())"
      ],
      "metadata": {
        "id": "CLXGhXOl9R9f",
        "colab": {
          "base_uri": "https://localhost:8080/"
        },
        "outputId": "e0e3a040-da68-4fbd-ffed-dcdcba40efb5"
      },
      "execution_count": 23,
      "outputs": [
        {
          "output_type": "stream",
          "name": "stdout",
          "text": [
            "2475\n",
            "2475\n"
          ]
        }
      ]
    },
    {
      "cell_type": "code",
      "source": [
        "outscores = outscores2.join(outscores1, ['Season','Team1','Team2','Result','Team1Seed','Team2Seed'])"
      ],
      "metadata": {
        "id": "3YM8k7LNJdJe"
      },
      "execution_count": 24,
      "outputs": []
    },
    {
      "cell_type": "code",
      "source": [
        "notin = outscores2.join(outscores1, ['Season','Team1','Team2'],\"left_anti\")\n",
        "notin.show()\n",
        "print(notin.count())\n",
        "\n",
        "notin = outscores1.join(outscores2, ['Season','Team1','Team2'],\"left_anti\")\n",
        "notin.show()\n",
        "print(notin.count())\n",
        "# combine on season, team 1, team 2 and result"
      ],
      "metadata": {
        "id": "HaE3wDpY_M_x",
        "colab": {
          "base_uri": "https://localhost:8080/"
        },
        "outputId": "b68d4d00-a2e9-47da-de28-d931a3e961c8"
      },
      "execution_count": 25,
      "outputs": [
        {
          "output_type": "stream",
          "name": "stdout",
          "text": [
            "+------+-----+-----+---------+----------+-------------+-------------------+------------------+-------------------------+------------------+--------------------+------------------+-------------------+------------------+---------------------+------------------+-------------------+------------------+----------------------+------------------+------------------+------------------+---------------------+------------------+------------------+------------------+------------------+------------------+------------------+------------------+------------------+------------------+------------------+------------------+-----------------+------------------+------------------+------------------+------------------+------------------+------------------+------------------+---------+---------+------+\n",
            "|Season|Team1|Team2|Team2Wins|Team2Loses|Team2NumGames|      Team2WinRatio|Team2PointsPerGame|Team2PointsAllowedPerGame|  Team2PointsRatio|     Team2OTsPerGame|    Team2FGPerGame|       Team2FGRatio|   Team2FGAPerGame|Team2FGAllowedPerGame|   Team2FG3PerGame|      Team2FG3Ratio|  Team2FG3APerGame|Team2FG3AllowedPerGame|    Team2FTPerGame|      Team2FTRatio|   Team2FTAPerGame|Team2FTAllowedPerGame|    Team2ORPerGame|    Team2DRPerGame|    Team2TRPerGame| Team2OppORPerGame| Team2OppDRPerGame| Team2OppTRPerGame|      Team2ORRatio|      Team2DRRatio|      Team2TRRatio|   Team2AstPerGame|Team2OppAstPerGame|  Team2StlPerGame|Team2OppStlPerGame|    Team2TOPerGame| Team2OppTOPerGame|   Team2BlkPerGame|Team2OppBlkPerGame|    Team2PFPerGame| Team2OppPFPerGame|Team1Seed|Team2Seed|Result|\n",
            "+------+-----+-----+---------+----------+-------------+-------------------+------------------+-------------------------+------------------+--------------------+------------------+-------------------+------------------+---------------------+------------------+-------------------+------------------+----------------------+------------------+------------------+------------------+---------------------+------------------+------------------+------------------+------------------+------------------+------------------+------------------+------------------+------------------+------------------+------------------+-----------------+------------------+------------------+------------------+------------------+------------------+------------------+------------------+---------+---------+------+\n",
            "|  2015| 1246| 1452|       23|         9|           32|            0.71875|           73.9375|                 66.84375|1.1061243571762507|              0.0625|          25.40625|0.41164556962025317|          61.71875|             21.78125|           6.65625| 0.3183856502242152|          20.90625|               5.40625|          16.46875|0.6604010025062657|           24.9375|               17.875|          16.84375|           19.9375|          36.78125|           8.90625|           24.3125|          33.21875|1.8912280701754387|0.8200514138817481|1.1072436500470366|          14.53125|           11.6875|          10.9375|           5.78125|           13.0625|            19.625|           2.84375|           4.03125|          23.34375|          22.46875|       01|       05|     1|\n",
            "|  2021| 1211| 1166|       20|         8|           28| 0.7142857142857143| 76.96428571428571|        68.28571428571429| 1.127092050209205| 0.07142857142857142|28.464285714285715|0.47582089552238804| 59.82142857142857|   24.785714285714285| 9.714285714285714| 0.3665768194070081|              26.5|     7.642857142857143|10.321428571428571|0.6422222222222222|16.071428571428573|   11.071428571428571| 6.892857142857143|25.714285714285715|32.607142857142854| 8.964285714285714|24.285714285714285|             33.25|0.7689243027888446|1.0588235294117647|0.9806659505907627|15.857142857142858|12.714285714285714|7.071428571428571| 5.714285714285714|10.785714285714286|             12.25|               3.5| 2.892857142857143|              3.75| 3.642857142857143|       01|       05|     1|\n",
            "|  2021| 1211| 1313|       14|         7|           21| 0.6666666666666666| 75.14285714285714|        70.57142857142857|1.0647773279352226|0.047619047619047616|25.476190476190474|0.42971887550200805|59.285714285714285|   22.904761904761905|7.9523809523809526|0.37360178970917224|21.285714285714285|      8.19047619047619|16.238095238095237|0.7089397089397089|22.904761904761905|   16.571428571428573| 8.238095238095237|24.761904761904763|              33.0| 8.761904761904763|24.285714285714285| 33.04761904761905|0.9402173913043478|1.0196078431372548|0.9985590778097982|12.238095238095237|12.523809523809524|6.380952380952381| 5.380952380952381|12.619047619047619|14.666666666666666|3.1904761904761907| 3.761904761904762| 7.380952380952381| 7.619047619047619|       01|       16|     1|\n",
            "|  2015| 1246| 1214|       16|        17|           33|0.48484848484848486| 67.15151515151516|                     68.0|0.9875222816399287|0.030303030303030304|22.818181818181817|0.40768814293448835| 55.96969696969697|   22.545454545454547| 5.666666666666667| 0.3040650406504065|18.636363636363637|     5.696969696969697|15.848484848484848|0.6521197007481296|24.303030303030305|    17.21212121212121|12.242424242424242|24.848484848484848| 37.09090909090909|11.121212121212121| 25.03030303030303| 36.15151515151515|1.1008174386920981|0.9927360774818402|1.0259849119865885|10.606060606060606|10.151515151515152|6.666666666666667| 5.393939393939394|14.212121212121213|13.969696969696969| 4.090909090909091| 3.757575757575758|21.545454545454547|20.424242424242426|       01|       16|     1|\n",
            "|  2021| 1211| 1328|       15|        10|           25|                0.6|             74.76|                    69.24|1.0797227036395147|                0.12|              26.8| 0.4416611733684904|             60.68|                25.48|               8.0|  0.338409475465313|             23.64|                  8.16|             13.16| 0.744343891402715|             17.68|                10.12|              8.72|              24.8|             33.52|              8.64|             24.92|             33.56|1.0092592592592593|0.9951845906902087|  0.99880810488677|              13.4|             11.96|             7.36|               5.6|             10.48|             12.68|              3.44|              3.04|               4.0|              4.44|       01|       08|     1|\n",
            "|  2021| 1211| 1425|       22|         7|           29| 0.7586206896551724| 74.75862068965517|        65.10344827586206|1.1483050847457628| 0.13793103448275862| 27.17241379310345|0.46710136336692354|58.172413793103445|   23.551724137931036| 6.310344827586207|0.34790874524714827|18.137931034482758|     7.206896551724138| 14.10344827586207|0.6471518987341772| 21.79310344827586|   10.793103448275861|10.482758620689655| 25.82758620689655|36.310344827586206| 8.448275862068966| 21.06896551724138|29.517241379310345|1.2408163265306122| 1.225859247135843| 1.230140186915888|13.655172413793103|12.448275862068966|4.793103448275862| 5.448275862068965| 12.10344827586207|              11.0| 5.241379310344827|2.8275862068965516| 4.482758620689655| 5.413793103448276|       01|       06|     1|\n",
            "|  2015| 1246| 1153|       22|        10|           32|             0.6875|            62.375|                 55.28125|1.1283210853589598|             0.09375|            22.375|0.45287792536369387|          49.40625|              20.4375|           5.03125| 0.3333333333333333|          15.09375|                  5.75|          12.59375|0.6739130434782609|           18.6875|              8.65625|          10.96875|             23.25|          34.21875|          10.84375|          18.40625|             29.25|1.0115273775216138| 1.263157894736842| 1.169871794871795|            11.875|          11.09375|           6.5625|           5.53125|          12.78125|           12.1875|            5.4375|              2.75|          14.65625|           17.1875|       01|       08|     1|\n",
            "|  2015| 1246| 1458|       31|         3|           34| 0.9117647058823529| 71.88235294117646|        56.11764705882353| 1.280922431865828|0.058823529411764705|25.294117647058822| 0.4796430563301729| 52.73529411764706|   21.823529411764707| 6.970588235294118| 0.3574660633484163|              19.5|                   5.0|14.323529411764707|0.7633228840125392|18.764705882352942|    7.470588235294118| 9.470588235294118|24.205882352941178|  33.6764705882353| 7.529411764705882|20.176470588235293|27.705882352941178|         1.2578125|1.1997084548104957|1.2154989384288748|12.705882352941176| 8.911764705882353|4.529411764705882|3.9705882352941178| 7.411764705882353| 9.970588235294118|               3.5|1.9705882352941178|12.029411764705882|18.058823529411764|       01|       01|     0|\n",
            "|  2015| 1246| 1323|       29|         5|           34| 0.8529411764705882| 78.82352941176471|         65.6470588235294| 1.200716845878136| 0.11764705882352941|27.794117647058822| 0.5099838100377766|              54.5|    24.91176470588235| 8.264705882352942| 0.3924581005586592|21.058823529411764|     6.264705882352941|14.970588235294118|0.7398255813953488|20.235294117647058|    9.558823529411764| 8.323529411764707|24.441176470588236| 32.76470588235294|11.294117647058824|21.323529411764707| 32.61764705882353|0.7369791666666666| 1.146206896551724|1.0045085662759243|15.117647058823529|12.735294117647058|6.882352941176471| 5.176470588235294| 9.382352941176471|11.294117647058824|3.5588235294117645| 2.235294117647059|14.205882352941176|16.970588235294116|       01|       03|     1|\n",
            "|  2014| 1455| 1246|       24|        10|           34| 0.7058823529411765| 75.91176470588235|         66.6470588235294|1.1390114739629302| 0.08823529411764706|25.176470588235293|0.45123879810226675|55.794117647058826|   23.205882352941178| 5.088235294117647|  0.325187969924812|15.647058823529411|     5.352941176470588|20.470588235294116|0.6823529411764706|              30.0|   14.882352941176471|14.647058823529411|              26.5| 41.14705882352941|11.323529411764707|20.029411764705884|31.352941176470587|1.2935064935064935|1.3230543318649046|1.3123827392120075|              11.5|10.382352941176471|4.764705882352941| 5.764705882352941|12.205882352941176|              11.0| 6.235294117647059|3.1176470588235294|              19.0| 22.58823529411765|       01|       08|     0|\n",
            "|  2014| 1455| 1142|       11|        19|           30|0.36666666666666664|              62.0|        64.73333333333333|0.9577754891864058|                 0.0|21.733333333333334| 0.4037151702786378|53.833333333333336|   21.933333333333334| 6.333333333333333| 0.3350970017636684|              18.9|     5.266666666666667|              12.2|0.6866791744840526|17.766666666666666|                 15.6|10.733333333333333|20.733333333333334|31.466666666666665|10.233333333333333|24.066666666666666|              34.3|1.0488599348534202|0.8614958448753463|0.9173955296404276|11.366666666666667|12.166666666666666|5.533333333333333| 4.533333333333333| 8.966666666666667|10.833333333333334|2.6666666666666665|               3.6|              18.8|15.633333333333333|       01|       16|     1|\n",
            "|  2021| 1211| 1124|       22|         2|           24| 0.9166666666666666|            84.375|        66.41666666666667|1.2703889585947303|0.041666666666666664|31.083333333333332| 0.4930601454064772|63.041666666666664|   23.958333333333332|10.333333333333334|  0.418212478920742|24.708333333333332|     6.458333333333333|            11.875|0.6968215158924206|17.041666666666668|   12.041666666666666|11.333333333333334|            22.375|33.708333333333336| 9.291666666666666|            20.125|29.416666666666668|1.2197309417040358|1.1118012422360248|1.1458923512747876|17.041666666666668|            12.375|8.958333333333334| 6.166666666666667|12.166666666666666|16.833333333333332|              3.75|3.8333333333333335|              5.25| 4.916666666666667|       01|       01|     0|\n",
            "|  2021| 1211| 1417|       17|         9|           26| 0.6538461538461539| 72.84615384615384|                     68.5|1.0634475014037057| 0.23076923076923078|26.384615384615383|0.46195286195286195| 57.11538461538461|   24.615384615384617| 6.653846153846154| 0.3673036093418259|18.115384615384617|    7.6923076923076925|13.423076923076923|0.7210743801652892|18.615384615384617|   11.576923076923077|  8.76923076923077|24.192307692307693| 32.96153846153846| 6.653846153846154| 21.46153846153846|28.115384615384617|1.3179190751445087|1.1272401433691757|1.1723666210670314|13.615384615384615|12.153846153846153|5.076923076923077| 5.076923076923077|10.884615384615385|11.153846153846153|2.6538461538461537| 2.769230769230769| 4.346153846153846|4.3076923076923075|       01|       11|     1|\n",
            "+------+-----+-----+---------+----------+-------------+-------------------+------------------+-------------------------+------------------+--------------------+------------------+-------------------+------------------+---------------------+------------------+-------------------+------------------+----------------------+------------------+------------------+------------------+---------------------+------------------+------------------+------------------+------------------+------------------+------------------+------------------+------------------+------------------+------------------+------------------+-----------------+------------------+------------------+------------------+------------------+------------------+------------------+------------------+---------+---------+------+\n",
            "\n",
            "13\n",
            "+------+-----+-----+---------+----------+-------------+-------------------+------------------+-------------------------+------------------+--------------------+------------------+-------------------+------------------+---------------------+------------------+-------------------+------------------+----------------------+------------------+------------------+------------------+---------------------+------------------+------------------+------------------+------------------+------------------+------------------+------------------+------------------+------------------+------------------+------------------+-----------------+------------------+------------------+------------------+------------------+------------------+------------------+------------------+---------+---------+------+\n",
            "|Season|Team1|Team2|Team1Wins|Team1Loses|Team1NumGames|      Team1WinRatio|Team1PointsPerGame|Team1PointsAllowedPerGame|  Team1PointsRatio|     Team1OTsPerGame|    Team1FGPerGame|       Team1FGRatio|   Team1FGAPerGame|Team1FGAllowedPerGame|   Team1FG3PerGame|      Team1FG3Ratio|  Team1FG3APerGame|Team1FG3AllowedPerGame|    Team1FTPerGame|      Team1FTRatio|   Team1FTAPerGame|Team1FTAllowedPerGame|    Team1ORPerGame|    Team1DRPerGame|    Team1TRPerGame| Team1OppORPerGame| Team1OppDRPerGame| Team1OppTRPerGame|      Team1ORRatio|      Team1DRRatio|      Team1TRRatio|   Team1AstPerGame|Team1OppAstPerGame|  Team1StlPerGame|Team1OppStlPerGame|    Team1TOPerGame| Team1OppTOPerGame|   Team1BlkPerGame|Team1OppBlkPerGame|    Team1PFPerGame| Team1OppPFPerGame|Team1Seed|Team2Seed|Result|\n",
            "+------+-----+-----+---------+----------+-------------+-------------------+------------------+-------------------------+------------------+--------------------+------------------+-------------------+------------------+---------------------+------------------+-------------------+------------------+----------------------+------------------+------------------+------------------+---------------------+------------------+------------------+------------------+------------------+------------------+------------------+------------------+------------------+------------------+------------------+------------------+-----------------+------------------+------------------+------------------+------------------+------------------+------------------+------------------+---------+---------+------+\n",
            "|  2015| 1458| 1246|       31|         3|           34| 0.9117647058823529| 71.88235294117646|        56.11764705882353| 1.280922431865828|0.058823529411764705|25.294117647058822| 0.4796430563301729| 52.73529411764706|   21.823529411764707| 6.970588235294118| 0.3574660633484163|              19.5|                   5.0|14.323529411764707|0.7633228840125392|18.764705882352942|    7.470588235294118| 9.470588235294118|24.205882352941178|  33.6764705882353| 7.529411764705882|20.176470588235293|27.705882352941178|         1.2578125|1.1997084548104957|1.2154989384288748|12.705882352941176| 8.911764705882353|4.529411764705882|3.9705882352941178| 7.411764705882353| 9.970588235294118|               3.5|1.9705882352941178|12.029411764705882|18.058823529411764|       01|       01|     1|\n",
            "|  2015| 1214| 1246|       16|        17|           33|0.48484848484848486| 67.15151515151516|                     68.0|0.9875222816399287|0.030303030303030304|22.818181818181817|0.40768814293448835| 55.96969696969697|   22.545454545454547| 5.666666666666667| 0.3040650406504065|18.636363636363637|     5.696969696969697|15.848484848484848|0.6521197007481296|24.303030303030305|    17.21212121212121|12.242424242424242|24.848484848484848| 37.09090909090909|11.121212121212121| 25.03030303030303| 36.15151515151515|1.1008174386920981|0.9927360774818402|1.0259849119865885|10.606060606060606|10.151515151515152|6.666666666666667| 5.393939393939394|14.212121212121213|13.969696969696969| 4.090909090909091| 3.757575757575758|21.545454545454547|20.424242424242426|       16|       01|     0|\n",
            "|  2021| 1328| 1211|       15|        10|           25|                0.6|             74.76|                    69.24|1.0797227036395147|                0.12|              26.8| 0.4416611733684904|             60.68|                25.48|               8.0|  0.338409475465313|             23.64|                  8.16|             13.16| 0.744343891402715|             17.68|                10.12|              8.72|              24.8|             33.52|              8.64|             24.92|             33.56|1.0092592592592593|0.9951845906902087|  0.99880810488677|              13.4|             11.96|             7.36|               5.6|             10.48|             12.68|              3.44|              3.04|               4.0|              4.44|       08|       01|     0|\n",
            "|  2021| 1124| 1211|       22|         2|           24| 0.9166666666666666|            84.375|        66.41666666666667|1.2703889585947303|0.041666666666666664|31.083333333333332| 0.4930601454064772|63.041666666666664|   23.958333333333332|10.333333333333334|  0.418212478920742|24.708333333333332|     6.458333333333333|            11.875|0.6968215158924206|17.041666666666668|   12.041666666666666|11.333333333333334|            22.375|33.708333333333336| 9.291666666666666|            20.125|29.416666666666668|1.2197309417040358|1.1118012422360248|1.1458923512747876|17.041666666666668|            12.375|8.958333333333334| 6.166666666666667|12.166666666666666|16.833333333333332|              3.75|3.8333333333333335|              5.25| 4.916666666666667|       01|       01|     1|\n",
            "|  2021| 1166| 1211|       20|         8|           28| 0.7142857142857143| 76.96428571428571|        68.28571428571429| 1.127092050209205| 0.07142857142857142|28.464285714285715|0.47582089552238804| 59.82142857142857|   24.785714285714285| 9.714285714285714| 0.3665768194070081|              26.5|     7.642857142857143|10.321428571428571|0.6422222222222222|16.071428571428573|   11.071428571428571| 6.892857142857143|25.714285714285715|32.607142857142854| 8.964285714285714|24.285714285714285|             33.25|0.7689243027888446|1.0588235294117647|0.9806659505907627|15.857142857142858|12.714285714285714|7.071428571428571| 5.714285714285714|10.785714285714286|             12.25|               3.5| 2.892857142857143|              3.75| 3.642857142857143|       05|       01|     0|\n",
            "|  2021| 1425| 1211|       22|         7|           29| 0.7586206896551724| 74.75862068965517|        65.10344827586206|1.1483050847457628| 0.13793103448275862| 27.17241379310345|0.46710136336692354|58.172413793103445|   23.551724137931036| 6.310344827586207|0.34790874524714827|18.137931034482758|     7.206896551724138| 14.10344827586207|0.6471518987341772| 21.79310344827586|   10.793103448275861|10.482758620689655| 25.82758620689655|36.310344827586206| 8.448275862068966| 21.06896551724138|29.517241379310345|1.2408163265306122| 1.225859247135843| 1.230140186915888|13.655172413793103|12.448275862068966|4.793103448275862| 5.448275862068965| 12.10344827586207|              11.0| 5.241379310344827|2.8275862068965516| 4.482758620689655| 5.413793103448276|       06|       01|     0|\n",
            "|  2014| 1142| 1455|       11|        19|           30|0.36666666666666664|              62.0|        64.73333333333333|0.9577754891864058|                 0.0|21.733333333333334| 0.4037151702786378|53.833333333333336|   21.933333333333334| 6.333333333333333| 0.3350970017636684|              18.9|     5.266666666666667|              12.2|0.6866791744840526|17.766666666666666|                 15.6|10.733333333333333|20.733333333333334|31.466666666666665|10.233333333333333|24.066666666666666|              34.3|1.0488599348534202|0.8614958448753463|0.9173955296404276|11.366666666666667|12.166666666666666|5.533333333333333| 4.533333333333333| 8.966666666666667|10.833333333333334|2.6666666666666665|               3.6|              18.8|15.633333333333333|       16|       01|     0|\n",
            "|  2015| 1452| 1246|       23|         9|           32|            0.71875|           73.9375|                 66.84375|1.1061243571762507|              0.0625|          25.40625|0.41164556962025317|          61.71875|             21.78125|           6.65625| 0.3183856502242152|          20.90625|               5.40625|          16.46875|0.6604010025062657|           24.9375|               17.875|          16.84375|           19.9375|          36.78125|           8.90625|           24.3125|          33.21875|1.8912280701754387|0.8200514138817481|1.1072436500470366|          14.53125|           11.6875|          10.9375|           5.78125|           13.0625|            19.625|           2.84375|           4.03125|          23.34375|          22.46875|       05|       01|     0|\n",
            "|  2021| 1313| 1211|       14|         7|           21| 0.6666666666666666| 75.14285714285714|        70.57142857142857|1.0647773279352226|0.047619047619047616|25.476190476190474|0.42971887550200805|59.285714285714285|   22.904761904761905|7.9523809523809526|0.37360178970917224|21.285714285714285|      8.19047619047619|16.238095238095237|0.7089397089397089|22.904761904761905|   16.571428571428573| 8.238095238095237|24.761904761904763|              33.0| 8.761904761904763|24.285714285714285| 33.04761904761905|0.9402173913043478|1.0196078431372548|0.9985590778097982|12.238095238095237|12.523809523809524|6.380952380952381| 5.380952380952381|12.619047619047619|14.666666666666666|3.1904761904761907| 3.761904761904762| 7.380952380952381| 7.619047619047619|       16|       01|     0|\n",
            "|  2021| 1417| 1211|       17|         9|           26| 0.6538461538461539| 72.84615384615384|                     68.5|1.0634475014037057| 0.23076923076923078|26.384615384615383|0.46195286195286195| 57.11538461538461|   24.615384615384617| 6.653846153846154| 0.3673036093418259|18.115384615384617|    7.6923076923076925|13.423076923076923|0.7210743801652892|18.615384615384617|   11.576923076923077|  8.76923076923077|24.192307692307693| 32.96153846153846| 6.653846153846154| 21.46153846153846|28.115384615384617|1.3179190751445087|1.1272401433691757|1.1723666210670314|13.615384615384615|12.153846153846153|5.076923076923077| 5.076923076923077|10.884615384615385|11.153846153846153|2.6538461538461537| 2.769230769230769| 4.346153846153846|4.3076923076923075|       11|       01|     0|\n",
            "|  2015| 1153| 1246|       22|        10|           32|             0.6875|            62.375|                 55.28125|1.1283210853589598|             0.09375|            22.375|0.45287792536369387|          49.40625|              20.4375|           5.03125| 0.3333333333333333|          15.09375|                  5.75|          12.59375|0.6739130434782609|           18.6875|              8.65625|          10.96875|             23.25|          34.21875|          10.84375|          18.40625|             29.25|1.0115273775216138| 1.263157894736842| 1.169871794871795|            11.875|          11.09375|           6.5625|           5.53125|          12.78125|           12.1875|            5.4375|              2.75|          14.65625|           17.1875|       08|       01|     0|\n",
            "|  2015| 1323| 1246|       29|         5|           34| 0.8529411764705882| 78.82352941176471|         65.6470588235294| 1.200716845878136| 0.11764705882352941|27.794117647058822| 0.5099838100377766|              54.5|    24.91176470588235| 8.264705882352942| 0.3924581005586592|21.058823529411764|     6.264705882352941|14.970588235294118|0.7398255813953488|20.235294117647058|    9.558823529411764| 8.323529411764707|24.441176470588236| 32.76470588235294|11.294117647058824|21.323529411764707| 32.61764705882353|0.7369791666666666| 1.146206896551724|1.0045085662759243|15.117647058823529|12.735294117647058|6.882352941176471| 5.176470588235294| 9.382352941176471|11.294117647058824|3.5588235294117645| 2.235294117647059|14.205882352941176|16.970588235294116|       03|       01|     0|\n",
            "|  2014| 1246| 1455|       24|        10|           34| 0.7058823529411765| 75.91176470588235|         66.6470588235294|1.1390114739629302| 0.08823529411764706|25.176470588235293|0.45123879810226675|55.794117647058826|   23.205882352941178| 5.088235294117647|  0.325187969924812|15.647058823529411|     5.352941176470588|20.470588235294116|0.6823529411764706|              30.0|   14.882352941176471|14.647058823529411|              26.5| 41.14705882352941|11.323529411764707|20.029411764705884|31.352941176470587|1.2935064935064935|1.3230543318649046|1.3123827392120075|              11.5|10.382352941176471|4.764705882352941| 5.764705882352941|12.205882352941176|              11.0| 6.235294117647059|3.1176470588235294|              19.0| 22.58823529411765|       08|       01|     1|\n",
            "+------+-----+-----+---------+----------+-------------+-------------------+------------------+-------------------------+------------------+--------------------+------------------+-------------------+------------------+---------------------+------------------+-------------------+------------------+----------------------+------------------+------------------+------------------+---------------------+------------------+------------------+------------------+------------------+------------------+------------------+------------------+------------------+------------------+------------------+------------------+-----------------+------------------+------------------+------------------+------------------+------------------+------------------+------------------+---------+---------+------+\n",
            "\n",
            "13\n"
          ]
        }
      ]
    },
    {
      "cell_type": "markdown",
      "source": [
        "# Model Building"
      ],
      "metadata": {
        "id": "GOjUd98MyMlQ"
      }
    },
    {
      "cell_type": "code",
      "source": [
        "outscores = outscores.withColumn('Wins',outscores.Team1Wins - outscores.Team2Wins)\n",
        "outscores = outscores.withColumn('Loses',outscores.Team1Loses - outscores.Team2Loses)\n",
        "outscores = outscores.withColumn('NumGames',outscores.Team1NumGames - outscores.Team2NumGames)\n",
        "outscores = outscores.withColumn('WinRatio',outscores.Team1WinRatio - outscores.Team2WinRatio)\n",
        "outscores = outscores.withColumn('PointsPerGame',outscores.Team1PointsPerGame - outscores.Team2PointsPerGame)\n",
        "outscores = outscores.withColumn('PointsAllowedPerGame',outscores.Team1PointsAllowedPerGame - outscores.Team2PointsAllowedPerGame)\n",
        "outscores = outscores.withColumn('PointsRatio',outscores.Team1PointsRatio - outscores.Team2PointsRatio)\n",
        "outscores = outscores.withColumn('OTsPerGame',outscores.Team1OTsPerGame - outscores.Team2OTsPerGame)\n",
        "outscores = outscores.withColumn('FGPerGame',outscores.Team1FGPerGame - outscores.Team2FGPerGame)\n",
        "outscores = outscores.withColumn('FGRatio',outscores.Team1FGRatio - outscores.Team2FGRatio)\n",
        "outscores = outscores.withColumn('FGAPerGame',outscores.Team1FGAPerGame - outscores.Team2FGAPerGame)\n",
        "outscores = outscores.withColumn('FGAllowedPerGame',outscores.Team1FGAllowedPerGame - outscores.Team2FGAllowedPerGame)\n",
        "outscores = outscores.withColumn('FG3PerGame',outscores.Team1FG3PerGame - outscores.Team2FG3PerGame)\n",
        "outscores = outscores.withColumn('FG3Ratio',outscores.Team1FG3Ratio - outscores.Team2FG3Ratio)\n",
        "outscores = outscores.withColumn('FG3APerGame',outscores.Team1FG3APerGame - outscores.Team2FG3APerGame)\n",
        "outscores = outscores.withColumn('FG3AllowedPerGame',outscores.Team1FG3AllowedPerGame - outscores.Team2FG3AllowedPerGame)\n",
        "outscores = outscores.withColumn('FTPerGame',outscores.Team1FTPerGame - outscores.Team2FTPerGame)\n",
        "outscores = outscores.withColumn('FTRatio',outscores.Team1FTRatio - outscores.Team2FTRatio)\n",
        "outscores = outscores.withColumn('FTAPerGame',outscores.Team1FTAPerGame - outscores.Team2FTAPerGame)\n",
        "outscores = outscores.withColumn('FTAllowedPerGame',outscores.Team1FTAllowedPerGame - outscores.Team2FTAllowedPerGame)\n",
        "outscores = outscores.withColumn('ORPerGame',outscores.Team1ORPerGame - outscores.Team2ORPerGame)\n",
        "outscores = outscores.withColumn('DRPerGame',outscores.Team1DRPerGame - outscores.Team2DRPerGame)\n",
        "outscores = outscores.withColumn('TRPerGame',outscores.Team1TRPerGame - outscores.Team2TRPerGame)\n",
        "outscores = outscores.withColumn('OppORPerGame',outscores.Team1OppORPerGame - outscores.Team2OppORPerGame)\n",
        "outscores = outscores.withColumn('OppDRPerGame',outscores.Team1OppDRPerGame - outscores.Team2OppDRPerGame)\n",
        "outscores = outscores.withColumn('OppTRPerGame',outscores.Team1OppTRPerGame - outscores.Team2OppTRPerGame)\n",
        "outscores = outscores.withColumn('ORRatio',outscores.Team1ORRatio - outscores.Team2ORRatio)\n",
        "outscores = outscores.withColumn('DRRatio',outscores.Team1DRRatio - outscores.Team2DRRatio)\n",
        "outscores = outscores.withColumn('TRRatio',outscores.Team1TRRatio - outscores.Team2TRRatio)\n",
        "outscores = outscores.withColumn('AstPerGame',outscores.Team1AstPerGame - outscores.Team2AstPerGame)\n",
        "outscores = outscores.withColumn('OppAstPerGame',outscores.Team1OppAstPerGame - outscores.Team2OppAstPerGame)\n",
        "outscores = outscores.withColumn('StlPerGame',outscores.Team1StlPerGame - outscores.Team2StlPerGame)\n",
        "outscores = outscores.withColumn('OppStlPerGame',outscores.Team1OppStlPerGame - outscores.Team2OppStlPerGame)\n",
        "outscores = outscores.withColumn('TOPerGame',outscores.Team1TOPerGame - outscores.Team2TOPerGame)\n",
        "outscores = outscores.withColumn('OppTOPerGame',outscores.Team1OppTOPerGame - outscores.Team2OppTOPerGame)\n",
        "outscores = outscores.withColumn('BlkPerGame',outscores.Team1BlkPerGame - outscores.Team2BlkPerGame)\n",
        "outscores = outscores.withColumn('OppBlkPerGame',outscores.Team1OppBlkPerGame - outscores.Team2OppBlkPerGame)\n",
        "outscores = outscores.withColumn('PFPerGame',outscores.Team1PFPerGame - outscores.Team2PFPerGame)\n",
        "outscores = outscores.withColumn('OppPFPerGame',outscores.Team1OppPFPerGame - outscores.Team2OppPFPerGame)\n",
        "outscores = outscores.withColumn('Seed',outscores.Team1Seed - outscores.Team2Seed)\n"
      ],
      "metadata": {
        "id": "ZH-nFf2Q2r_T"
      },
      "execution_count": 26,
      "outputs": []
    },
    {
      "cell_type": "code",
      "source": [
        "outscores.filter(outscores.Season == 2022).show()"
      ],
      "metadata": {
        "colab": {
          "base_uri": "https://localhost:8080/"
        },
        "id": "PoXnRRsUIsRs",
        "outputId": "d8b689fe-2081-4c3f-91ed-cfa8b261e9ab"
      },
      "execution_count": 27,
      "outputs": [
        {
          "output_type": "stream",
          "name": "stdout",
          "text": [
            "+------+-----+-----+------+---------+---------+---------+----------+-------------+------------------+------------------+-------------------------+------------------+--------------------+------------------+-------------------+------------------+---------------------+-----------------+-------------------+------------------+----------------------+------------------+------------------+------------------+---------------------+------------------+------------------+------------------+------------------+------------------+------------------+------------------+------------------+------------------+------------------+------------------+------------------+------------------+------------------+------------------+------------------+------------------+------------------+------------------+---------+----------+-------------+------------------+------------------+-------------------------+------------------+--------------------+------------------+-------------------+------------------+---------------------+-----------------+-------------------+------------------+----------------------+------------------+------------------+------------------+---------------------+------------------+------------------+------------------+------------------+------------------+------------------+------------------+------------------+------------------+------------------+------------------+------------------+------------------+------------------+------------------+------------------+------------------+------------------+------------------+----+-----+--------+--------------------+-------------------+--------------------+--------------------+--------------------+-------------------+--------------------+--------------------+-------------------+--------------------+--------------------+--------------------+--------------------+--------------------+--------------------+--------------------+-------------------+--------------------+--------------------+--------------------+-------------------+--------------------+--------------------+--------------------+--------------------+--------------------+-------------------+--------------------+-------------------+--------------------+-------------------+--------------------+--------------------+--------------------+-------------------+-------------------+----+\n",
            "|Season|Team1|Team2|Result|Team1Seed|Team2Seed|Team2Wins|Team2Loses|Team2NumGames|     Team2WinRatio|Team2PointsPerGame|Team2PointsAllowedPerGame|  Team2PointsRatio|     Team2OTsPerGame|    Team2FGPerGame|       Team2FGRatio|   Team2FGAPerGame|Team2FGAllowedPerGame|  Team2FG3PerGame|      Team2FG3Ratio|  Team2FG3APerGame|Team2FG3AllowedPerGame|    Team2FTPerGame|      Team2FTRatio|   Team2FTAPerGame|Team2FTAllowedPerGame|    Team2ORPerGame|    Team2DRPerGame|    Team2TRPerGame| Team2OppORPerGame| Team2OppDRPerGame| Team2OppTRPerGame|      Team2ORRatio|      Team2DRRatio|      Team2TRRatio|   Team2AstPerGame|Team2OppAstPerGame|   Team2StlPerGame|Team2OppStlPerGame|    Team2TOPerGame| Team2OppTOPerGame|   Team2BlkPerGame|Team2OppBlkPerGame|    Team2PFPerGame| Team2OppPFPerGame|Team1Wins|Team1Loses|Team1NumGames|     Team1WinRatio|Team1PointsPerGame|Team1PointsAllowedPerGame|  Team1PointsRatio|     Team1OTsPerGame|    Team1FGPerGame|       Team1FGRatio|   Team1FGAPerGame|Team1FGAllowedPerGame|  Team1FG3PerGame|      Team1FG3Ratio|  Team1FG3APerGame|Team1FG3AllowedPerGame|    Team1FTPerGame|      Team1FTRatio|   Team1FTAPerGame|Team1FTAllowedPerGame|    Team1ORPerGame|    Team1DRPerGame|    Team1TRPerGame| Team1OppORPerGame| Team1OppDRPerGame| Team1OppTRPerGame|      Team1ORRatio|      Team1DRRatio|      Team1TRRatio|   Team1AstPerGame|Team1OppAstPerGame|   Team1StlPerGame|Team1OppStlPerGame|    Team1TOPerGame| Team1OppTOPerGame|   Team1BlkPerGame|Team1OppBlkPerGame|    Team1PFPerGame| Team1OppPFPerGame|Wins|Loses|NumGames|            WinRatio|      PointsPerGame|PointsAllowedPerGame|         PointsRatio|          OTsPerGame|          FGPerGame|             FGRatio|          FGAPerGame|   FGAllowedPerGame|          FG3PerGame|            FG3Ratio|         FG3APerGame|   FG3AllowedPerGame|           FTPerGame|             FTRatio|          FTAPerGame|   FTAllowedPerGame|           ORPerGame|           DRPerGame|           TRPerGame|       OppORPerGame|        OppDRPerGame|        OppTRPerGame|             ORRatio|             DRRatio|             TRRatio|         AstPerGame|       OppAstPerGame|         StlPerGame|       OppStlPerGame|          TOPerGame|        OppTOPerGame|          BlkPerGame|       OppBlkPerGame|          PFPerGame|       OppPFPerGame|Seed|\n",
            "+------+-----+-----+------+---------+---------+---------+----------+-------------+------------------+------------------+-------------------------+------------------+--------------------+------------------+-------------------+------------------+---------------------+-----------------+-------------------+------------------+----------------------+------------------+------------------+------------------+---------------------+------------------+------------------+------------------+------------------+------------------+------------------+------------------+------------------+------------------+------------------+------------------+------------------+------------------+------------------+------------------+------------------+------------------+------------------+------------------+---------+----------+-------------+------------------+------------------+-------------------------+------------------+--------------------+------------------+-------------------+------------------+---------------------+-----------------+-------------------+------------------+----------------------+------------------+------------------+------------------+---------------------+------------------+------------------+------------------+------------------+------------------+------------------+------------------+------------------+------------------+------------------+------------------+------------------+------------------+------------------+------------------+------------------+------------------+------------------+------------------+----+-----+--------+--------------------+-------------------+--------------------+--------------------+--------------------+-------------------+--------------------+--------------------+-------------------+--------------------+--------------------+--------------------+--------------------+--------------------+--------------------+--------------------+-------------------+--------------------+--------------------+--------------------+-------------------+--------------------+--------------------+--------------------+--------------------+--------------------+-------------------+--------------------+-------------------+--------------------+-------------------+--------------------+--------------------+--------------------+-------------------+-------------------+----+\n",
            "|  2022| 1326| 1437|     1|       07|       02|       26|         7|           33|0.7878787878787878| 72.63636363636364|        63.09090909090909|1.1512968299711817|0.030303030303030304|24.606060606060606| 0.4370290635091496|56.303030303030305|   22.666666666666668|9.303030303030303|0.35906432748538014| 25.90909090909091|     7.393939393939394|14.121212121212121| 0.823321554770318|17.151515151515152|   10.363636363636363| 8.727272727272727| 23.12121212121212|31.848484848484848| 7.818181818181818| 21.09090909090909| 28.90909090909091|1.1162790697674418| 1.096264367816092|  1.10167714884696| 12.06060606060606|11.333333333333334| 6.242424242424242| 4.696969696969697| 9.393939393939394|11.727272727272727| 2.242424242424242| 3.303030303030303|15.242424242424242| 16.78787878787879|       19|        11|           30|0.6333333333333333|              73.8|        68.46666666666667|1.0778967867575462| 0.06666666666666667|              25.9|  0.473780487804878|54.666666666666664|   24.466666666666665|              8.1|0.37327188940092165|              21.7|                   7.0|              13.9|0.7595628415300546|              18.3|   12.533333333333333|               7.7|              24.2|              31.9| 8.366666666666667|20.466666666666665|28.833333333333332|0.9203187250996016|1.1824104234527688|1.1063583815028901|              12.7|              11.6|               4.4| 6.066666666666666|10.666666666666666| 9.366666666666667| 4.733333333333333| 2.566666666666667|16.366666666666667|17.266666666666666|  -7|    4|      -3|-0.15454545454545454|  1.163636363636357|   5.375757575757575|-0.07340004321363547| 0.03636363636363636|  1.293939393939393| 0.03675142429572842| -1.6363636363636402| 1.7999999999999972| -1.2030303030303031|0.014207561915541511|  -4.209090909090911| -0.3939393939393936|-0.22121212121212075|-0.06375871324026339|  1.1484848484848484|   2.16969696969697| -1.0272727272727264|  1.0787878787878782| 0.05151515151515085| 0.5484848484848488| -0.6242424242424249|-0.07575757575757791| -0.1959603446678403| 0.08614605563667688|0.004681232655930012| 0.6393939393939387|  0.2666666666666657|-1.8424242424242419|  1.3696969696969692| 1.2727272727272716| -2.3606060606060595|   2.490909090909091| -0.7363636363636363|  1.124242424242425|0.47878787878787676| 5.0|\n",
            "|  2022| 1314| 1242|     1|       08|       01|       28|         6|           34|0.8235294117647058| 78.58823529411765|         68.1470588235294|1.1532153646957273| 0.08823529411764706|28.647058823529413|0.48098765432098767| 59.55882352941177|    25.08823529411765|7.147058823529412|0.35526315789473684| 20.11764705882353|     6.176470588235294|14.147058823529411|0.7243975903614458|19.529411764705884|   11.794117647058824| 9.941176470588236|25.058823529411764|              35.0| 8.970588235294118|20.970588235294116|29.941176470588236|1.1081967213114754|1.1949509116409538| 1.168958742632613|15.441176470588236|11.911764705882353| 6.411764705882353| 6.852941176470588|12.029411764705882|12.088235294117647| 4.147058823529412| 3.088235294117647|15.882352941176471|17.647058823529413|       24|         9|           33|0.7272727272727273| 77.51515151515152|        71.72727272727273|1.0806928601605408| 0.06060606060606061|27.636363636363637| 0.4528301886792453| 61.03030303030303|   26.939393939393938|8.272727272727273| 0.3620689655172414|22.848484848484848|                   8.0|13.969696969696969|0.7721943048576214| 18.09090909090909|    9.848484848484848| 9.303030303030303|27.636363636363637| 36.93939393939394| 6.242424242424242| 23.21212121212121|29.454545454545453|1.4902912621359223|1.1906005221932114|1.2541152263374487|14.818181818181818| 12.93939393939394| 5.393939393939394| 6.606060606060606|11.333333333333334| 9.666666666666666|3.8484848484848486| 3.242424242424242|14.363636363636363|16.363636363636363|  -4|    3|      -1|-0.09625668449197855|-1.0730837789661365|   3.580213903743328| -0.0725225045351865|-0.02762923351158...|-1.0106951871657763|-0.02815746564174...|  1.4714795008912631| 1.8511586452762891|  1.1256684491978612|0.006805807622504545|  2.7308377896613187|  1.8235294117647056| -0.1773618538324424| 0.04779671449617562|  -1.438502673796794|-1.9456327985739765| -0.6381461675579327|   2.577540106951872|  1.9393939393939377|-2.7281639928698755|   2.241532976827095|-0.48663101604278225| 0.38209454082444694|-0.00435038944774...| 0.08515648370483575|-0.6229946524064172|  1.0276292335115862|-1.0178253119429597|-0.24688057040998146|-0.6960784313725483| -2.4215686274509807| -0.2985739750445635| 0.15418894830659502|-1.5187165775401077|-1.2834224598930497| 7.0|\n",
            "|  2022| 1211| 1116|     1|       01|       04|       25|         8|           33|0.7575757575757576| 76.93939393939394|        68.54545454545455|1.1224580017683465| 0.06060606060606061|26.636363636363637|             0.4395| 60.60606060606061|   23.727272727272727|6.363636363636363|0.30656934306569344|20.757575757575758|     7.424242424242424|17.303030303030305|0.7532981530343008| 22.96969696969697|   13.666666666666666| 9.696969696969697|25.484848484848484| 35.18181818181818| 7.606060606060606|23.696969696969695|31.303030303030305|1.2749003984063745|1.0754475703324808|1.1239109390125848|14.090909090909092|12.909090909090908|7.7272727272727275| 6.878787878787879|12.151515151515152|14.575757575757576| 4.181818181818182| 3.484848484848485|16.848484848484848| 19.78787878787879|       26|         3|           29| 0.896551724137931| 87.82758620689656|        65.34482758620689|1.3440633245382585|                 0.0| 32.93103448275862| 0.5270419426048565| 62.48275862068966|   24.379310344827587|8.379310344827585|0.37850467289719625|22.137931034482758|     6.689655172413793|13.586206896551724|0.7309833024118738|18.586206896551722|     9.89655172413793| 8.344827586206897| 29.96551724137931|38.310344827586206| 7.896551724137931| 21.79310344827586|29.689655172413794| 1.056768558951965|             1.375|1.2903600464576075|18.103448275862068|  9.89655172413793| 6.655172413793103| 6.241379310344827|11.620689655172415|11.586206896551724| 5.724137931034483|2.6551724137931036|15.413793103448276| 17.82758620689655|   1|   -5|      -4| 0.13897596656217348| 10.888192267502617|  -3.200626959247657| 0.22160532276991196|-0.06060606060606061| 6.2946708463949825| 0.08754194260485648|  1.8766980146290493| 0.6520376175548606|   2.015673981191222|  0.0719353298315028|  1.3803552769070002| -0.7345872518286312| -3.7168234064785803|-0.02231485062242...|  -4.383490073145246|-3.7701149425287355| -1.3521421107628004|   4.480668756530825|  3.1285266457680265| 0.2904911180773242| -1.9038662486938343|  -1.613375130616511| -0.2181318394544094| 0.29955242966751916| 0.16644910744502273|  4.012539184952976| -3.0125391849529777|-1.0721003134796243| -0.6374085684430515|-0.5308254963427377|  -2.989550679205852|  1.5423197492163014| -0.8296760710553812| -1.434691745036572|-1.9602925809822374|-3.0|\n",
            "|  2022| 1417| 1103|     1|       04|       13|       22|         9|           31|0.7096774193548387| 69.29032258064517|        64.16129032258064|1.0799396681749622| 0.03225806451612903|23.580645161290324| 0.4537554314090627| 51.96774193548387|   23.677419354838708|7.709677419354839| 0.3556547619047619|21.677419354838708|     6.709677419354839|14.419354838709678|0.6919504643962848|20.838709677419356|   10.096774193548388| 7.870967741935484|23.483870967741936| 31.35483870967742| 7.451612903225806|20.677419354838708|28.129032258064516|1.0562770562770563|1.1357254290171608| 1.114678899082569|11.516129032258064| 9.548387096774194| 5.483870967741935| 5.354838709677419|10.838709677419354| 10.64516129032258| 3.096774193548387| 2.193548387096774| 15.96774193548387|19.032258064516128|       25|         7|           32|           0.78125|            76.375|                  64.8125|1.1783992285438765|             0.15625|           27.9375|0.45060483870967744|              62.0|             23.15625|            6.875|              0.352|          19.53125|               6.78125|            13.625|0.7364864864864865|              18.5|             11.71875|           9.96875|              24.0|          33.96875|             6.625|          23.59375|          30.21875|1.5047169811320755|1.0172185430463576| 1.124095139607032|           13.9375|          11.84375|               7.0|           4.53125|             8.875|           12.8125|           3.28125|           3.34375|             16.25|          17.28125|   3|   -2|       1| 0.07157258064516125|  7.084677419354833|  0.6512096774193594| 0.09845956036891423| 0.12399193548387097|  4.356854838709676|-0.00315059269938...|  10.032258064516128|-0.5211693548387082|  -0.834677419354839|-0.00365476190476...|  -2.146169354838708| 0.07157258064516103| -0.7943548387096779| 0.04453602209020169|  -2.338709677419356|  1.621975806451612|   2.097782258064516|  0.5161290322580641|    2.61391129032258| -0.826612903225806|   2.916330645161292|   2.089717741935484| 0.44843992485501927|-0.11850688597080317|0.009416240524463104|  2.421370967741936|   2.295362903225806|  1.516129032258065|  -0.823588709677419| -1.963709677419354|    2.16733870967742|   0.184475806451613|   1.150201612903226| 0.2822580645161299|-1.7510080645161281|-9.0|\n",
            "|  2022| 1314| 1417|     1|       08|       04|       25|         7|           32|           0.78125|            76.375|                  64.8125|1.1783992285438765|             0.15625|           27.9375|0.45060483870967744|              62.0|             23.15625|            6.875|              0.352|          19.53125|               6.78125|            13.625|0.7364864864864865|              18.5|             11.71875|           9.96875|              24.0|          33.96875|             6.625|          23.59375|          30.21875|1.5047169811320755|1.0172185430463576| 1.124095139607032|           13.9375|          11.84375|               7.0|           4.53125|             8.875|           12.8125|           3.28125|           3.34375|             16.25|          17.28125|       24|         9|           33|0.7272727272727273| 77.51515151515152|        71.72727272727273|1.0806928601605408| 0.06060606060606061|27.636363636363637| 0.4528301886792453| 61.03030303030303|   26.939393939393938|8.272727272727273| 0.3620689655172414|22.848484848484848|                   8.0|13.969696969696969|0.7721943048576214| 18.09090909090909|    9.848484848484848| 9.303030303030303|27.636363636363637| 36.93939393939394| 6.242424242424242| 23.21212121212121|29.454545454545453|1.4902912621359223|1.1906005221932114|1.2541152263374487|14.818181818181818| 12.93939393939394| 5.393939393939394| 6.606060606060606|11.333333333333334| 9.666666666666666|3.8484848484848486| 3.242424242424242|14.363636363636363|16.363636363636363|  -1|    2|       1|-0.05397727272727271| 1.1401515151515156|   6.914772727272734|-0.09770636838333568|-0.09564393939393939|-0.3011363636363633|0.002225349969567858| -0.9696969696969688| 3.7831439393939377|  1.3977272727272734|0.010068965517241402|  3.3172348484848477|             1.21875| 0.34469696969696884|  0.0357078183711349|-0.40909090909091006|-1.8702651515151523| -0.6657196969696972|  3.6363636363636367|  2.9706439393939377|-0.3825757575757578|-0.38162878787878896| -0.7642045454545467|-0.01442571899615...| 0.17338197914685383| 0.13002008673041665| 0.8806818181818183|  1.0956439393939394|-1.6060606060606064|  2.0748106060606064|  2.458333333333334|  -3.145833333333334|  0.5672348484848486|-0.10132575757575779|-1.8863636363636367|-0.9176136363636367| 4.0|\n",
            "|  2022| 1345| 1400|     0|       03|       06|       21|        11|           32|           0.65625|          68.34375|                   59.625|1.1462264150943395|              0.0625|           24.3125|0.44229675952245595|          54.96875|               20.875|          6.40625|0.32334384858044163|           19.8125|               5.40625|           13.3125|0.7486818980667839|          17.78125|             12.46875|            9.0625|            21.875|           30.9375|           8.21875|          20.84375|           29.0625| 1.102661596958175|1.0494752623688155| 1.064516129032258|          12.96875|           9.15625|              7.75|            5.9375|            10.875|            14.125|             3.375|           3.28125|          17.40625|          17.90625|       27|         7|           34|0.7941176470588235| 79.79411764705883|        68.76470588235294| 1.160393498716852| 0.08823529411764706|28.235294117647058| 0.4933196300102775| 57.23529411764706|   25.647058823529413|8.735294117647058| 0.3907894736842105|22.352941176470587|     8.235294117647058|14.588235294117647|0.7025495750708215|20.764705882352942|    9.235294117647058| 9.794117647058824|25.823529411764707| 35.61764705882353|6.9411764705882355|18.941176470588236| 25.88235294117647|1.4110169491525424|1.3633540372670807|1.3761363636363637| 16.61764705882353|13.617647058823529| 4.617647058823529| 5.852941176470588|11.352941176470589| 9.147058823529411|               3.5|2.3529411764705883|14.352941176470589|19.029411764705884|   6|   -4|       2| 0.13786764705882348| 11.450367647058826|   9.139705882352942| 0.01416708362251251|0.025735294117647065|  3.922794117647058| 0.05102287048782156|   2.266544117647058|  4.772058823529413|   2.329044117647058| 0.06744562510376889|   2.540441176470587|   2.829044117647058|  1.2757352941176467|-0.04613232299596237|   2.983455882352942| -3.233455882352942|  0.7316176470588243|  3.9485294117647065|   4.680147058823529|-1.2775735294117645| -1.9025735294117645|  -3.180147058823529|  0.3083553521943674|  0.3138787748982652|  0.3116202346041057|  3.648897058823529|   4.461397058823529| -3.132352941176471|-0.08455882352941213|0.47794117647058876|  -4.977941176470589|               0.125| -0.9283088235294117|-3.0533088235294112|  1.123161764705884|-3.0|\n",
            "|  2022| 1240| 1120|     0|       15|       02|       27|         5|           32|           0.84375|          78.71875|                 67.03125|1.1743589743589744|               0.125|           27.9375|0.43952802359882004|           63.5625|              22.6875|            8.125|0.32019704433497537|            25.375|                6.6875|          14.71875|0.7325038880248833|          20.09375|             14.96875|          10.21875|          25.71875|           35.9375|           9.09375|          22.65625|             31.75|1.1237113402061856|1.1351724137931034|1.1318897637795275|          14.53125|           11.0625|           8.78125|            7.4375|          11.65625|           14.1875|           7.84375|           3.84375|          18.53125|            17.625|       19|        10|           29|0.6551724137931034|              71.0|        66.62068965517241| 1.065734989648033| 0.10344827586206896| 25.06896551724138|  0.460126582278481| 54.48275862068966|   24.137931034482758| 8.89655172413793|0.38222222222222224|23.275862068965516|     8.655172413793103| 11.96551724137931|0.6830708661417323|17.517241379310345|    9.689655172413794| 7.896551724137931|25.517241379310345| 33.41379310344828| 8.344827586206897|21.551724137931036|29.896551724137932|0.9462809917355371|             1.184|1.1176470588235294|13.517241379310345|12.827586206896552|6.0344827586206895| 6.517241379310345|12.482758620689655| 10.89655172413793|               3.0| 2.586206896551724|14.413793103448276|15.689655172413794|  -8|    5|      -3|-0.18857758620689657|           -7.71875| -0.4105603448275872|-0.10862398471094137|-0.02155172413793...| -2.868534482758619|0.020598558679660983|  -9.079741379310342|  1.450431034482758|  0.7715517241379306|0.062025177887246874|  -2.099137931034484|  1.9676724137931032| -2.7532327586206904|-0.04943302188315102|  -2.576508620689655| -5.279094827586206| -2.3221982758620694| -0.2015086206896548| -2.5237068965517224|-0.7489224137931032| -1.1045258620689644| -1.8534482758620676|-0.17743034847064842|0.048827586206896534|-0.01424270495599...|-1.0140086206896548|  1.7650862068965516|-2.7467672413793105| -0.9202586206896548| 0.8265086206896548| -3.2909482758620694|            -4.84375| -1.2575431034482758| -4.117456896551724|-1.9353448275862064|13.0|\n",
            "|  2022| 1261| 1235|     1|       06|       11|       20|        12|           32|             0.625|          66.46875|                     63.0|1.0550595238095237|              0.0625|              24.5| 0.4387241186345831|          55.84375|             21.96875|          6.71875| 0.3213751868460389|          20.90625|                5.6875|             10.75|  0.68389662027833|          15.71875|               13.375|              7.75|          21.15625|          28.90625|           7.78125|          22.34375|            30.125|0.9959839357429718|0.9468531468531468|0.9595435684647303|          14.71875|              11.5|           8.40625|           7.21875|            13.125|              15.5|            3.0625|            3.9375|          18.03125|          17.28125|       22|        11|           33|0.6666666666666666| 73.12121212121212|        63.54545454545455| 1.150691463996185| 0.06060606060606061| 26.12121212121212| 0.4402451481103167|59.333333333333336|   21.060606060606062|6.545454545454546| 0.3185840707964602|20.545454545454547|                   7.0|14.333333333333334|0.7321981424148607|19.575757575757574|   14.424242424242424|10.575757575757576|23.454545454545453| 34.03030303030303| 9.666666666666666| 22.03030303030303|31.696969696969695|1.0940438871473355|   1.0646492434663|1.0736137667304015|12.727272727272727|11.363636363636363|11.090909090909092|6.9393939393939394|14.090909090909092|16.666666666666668| 4.363636363636363| 3.393939393939394|19.333333333333332|16.606060606060606|   2|   -1|       1| 0.04166666666666663|  6.652462121212125|  0.5454545454545467| 0.09563194018666121|-0.00189393939393...|  1.621212121212121|0.001521029475733...|  3.4895833333333357|-0.9081439393939377|-0.17329545454545414|-0.00279111604957...|-0.36079545454545325|              1.3125|   3.583333333333334| 0.04830152213653072|  3.8570075757575744| 1.0492424242424239|   2.825757575757576|  2.2982954545454533|   5.124053030303031|  1.885416666666666|-0.31344696969696884|  1.5719696969696955| 0.09805995140436363| 0.11779609661315316| 0.11407019826567122|-1.9914772727272734| -0.1363636363636367| 2.6846590909090917|-0.27935606060606055| 0.9659090909090917|  1.1666666666666679|  1.3011363636363633|  -0.543560606060606| 1.3020833333333321|-0.6751893939393945|-5.0|\n",
            "|  2022| 1395| 1371|     0|       09|       08|       20|        10|           30|0.6666666666666666| 71.56666666666666|                     66.3|1.0794369029663147| 0.03333333333333333|25.166666666666668| 0.4164368450082736| 60.43333333333333|   23.666666666666668|7.166666666666667| 0.3333333333333333|              21.5|     6.266666666666667|14.066666666666666|0.7562724014336918|              18.6|                 12.7|10.666666666666666|25.133333333333333|              35.8|               9.2|23.366666666666667| 32.56666666666667|1.1594202898550725|1.0756062767475036|1.0992835209825997|10.033333333333333|11.433333333333334|               7.1|               6.4|11.566666666666666|              11.9| 5.466666666666667|               4.3|              15.7|16.233333333333334|       20|        12|           32|             0.625|          68.09375|                     65.0|1.0475961538461538|             0.03125|          25.28125| 0.4403919433859554|          57.40625|                 24.0|           5.5625|  0.303236797274276|          18.34375|                6.1875|          11.96875|0.6684118673647469|          17.90625|              10.8125|          11.40625|          24.28125|           35.6875|           8.03125|            20.125|          28.15625|1.4202334630350195|1.2065217391304348| 1.267480577136515|            13.625|              13.0|           6.28125|           7.03125|          13.46875|          11.59375|           4.21875|           3.34375|           15.3125|          15.96875|   0|    2|       2|-0.04166666666666663| -3.472916666666663| -1.2999999999999972|-0.03184074912016088|-0.00208333333333...|0.11458333333333215|0.023955098377681783|   -3.02708333333333|0.33333333333333215|  -1.604166666666667|-0.03009653605905732|            -3.15625|-0.07916666666666661| -2.0979166666666664| -0.0878605340689449| -0.6937500000000014|-1.8874999999999993|  0.7395833333333339| -0.8520833333333329|-0.11249999999999716|-1.1687499999999993|  -3.241666666666667|   -4.41041666666667|   0.260813173179947| 0.13091546238293117| 0.16819705615391523|  3.591666666666667|  1.5666666666666664|-0.8187499999999996|  0.6312499999999996| 1.9020833333333336|-0.30625000000000036| -1.2479166666666668| -0.9562499999999998|-0.3874999999999993|-0.2645833333333343| 1.0|\n",
            "|  2022| 1272| 1211|     0|       09|       01|       26|         3|           29| 0.896551724137931| 87.82758620689656|        65.34482758620689|1.3440633245382585|                 0.0| 32.93103448275862| 0.5270419426048565| 62.48275862068966|   24.379310344827587|8.379310344827585|0.37850467289719625|22.137931034482758|     6.689655172413793|13.586206896551724|0.7309833024118738|18.586206896551722|     9.89655172413793| 8.344827586206897| 29.96551724137931|38.310344827586206| 7.896551724137931| 21.79310344827586|29.689655172413794| 1.056768558951965|             1.375|1.2903600464576075|18.103448275862068|  9.89655172413793| 6.655172413793103| 6.241379310344827|11.620689655172415|11.586206896551724| 5.724137931034483|2.6551724137931036|15.413793103448276| 17.82758620689655|       21|        10|           31|0.6774193548387096| 75.41935483870968|        68.38709677419355|1.1028301886792453|                 0.0| 26.93548387096774|0.47068771138669674|57.225806451612904|    23.35483870967742| 6.32258064516129|  0.358974358974359|17.612903225806452|     8.096774193548388|15.225806451612904|0.6920821114369502|              22.0|   13.580645161290322|11.064516129032258|24.322580645161292| 35.38709677419355| 9.806451612903226| 19.70967741935484|29.516129032258064|1.1282894736842106|1.2340425531914894|1.1989071038251367| 16.06451612903226| 13.32258064516129| 8.709677419354838| 9.419354838709678|15.806451612903226|14.387096774193548|  5.67741935483871|3.6129032258064515| 18.70967741935484| 18.70967741935484|  -5|    7|       2|-0.21913236929922142|-12.408231368186875|   3.042269187986662|-0.24123313585901318|                 0.0| -5.995550611790879|-0.05635423121815...| -5.2569521690767544|-1.0244716351501673| -2.0567296996662954|-0.01953031392283...|  -4.525027808676306|  1.4071190211345952|  1.6395995550611797|-0.03890119097492...|  3.4137931034482776| 3.6840934371523915|   2.719688542825361|  -5.642936596218018|  -2.923248053392655| 1.9098998887652954| -2.0834260289210214|-0.17352614015572954| 0.07152091473224553|-0.14095744680851063|-0.09145294263247083| -2.038932146829808|  3.4260289210233594|  2.054505005561735|  3.1779755283648505|  4.185761957730811|   2.800889877641824|-0.04671857619577313|  0.9577308120133479|  3.295884315906564| 0.8820912124582883| 8.0|\n",
            "|  2022| 1314| 1181|     0|       08|       02|       28|         6|           34|0.8235294117647058| 80.17647058823529|         67.1470588235294|1.1940429259745948|0.029411764705882353|29.676470588235293|0.48838334946757017| 60.76470588235294|   26.235294117647058|8.176470588235293|0.36772486772486773|22.235294117647058|     6.676470588235294|12.647058823529411|0.7288135593220338|17.352941176470587|                  8.0| 9.411764705882353|26.323529411764707| 35.73529411764706| 9.323529411764707|21.352941176470587|30.676470588235293|1.0094637223974763|1.2327823691460056| 1.164908916586769|16.794117647058822|13.588235294117647| 6.470588235294118| 6.235294117647059| 9.911764705882353|              10.5|5.4411764705882355|3.1176470588235294|13.647058823529411|15.735294117647058|       24|         9|           33|0.7272727272727273| 77.51515151515152|        71.72727272727273|1.0806928601605408| 0.06060606060606061|27.636363636363637| 0.4528301886792453| 61.03030303030303|   26.939393939393938|8.272727272727273| 0.3620689655172414|22.848484848484848|                   8.0|13.969696969696969|0.7721943048576214| 18.09090909090909|    9.848484848484848| 9.303030303030303|27.636363636363637| 36.93939393939394| 6.242424242424242| 23.21212121212121|29.454545454545453|1.4902912621359223|1.1906005221932114|1.2541152263374487|14.818181818181818| 12.93939393939394| 5.393939393939394| 6.606060606060606|11.333333333333334| 9.666666666666666|3.8484848484848486| 3.242424242424242|14.363636363636363|16.363636363636363|  -4|    3|      -1|-0.09625668449197855|-2.6613190730837744|   4.580213903743328|-0.11335006581405405|0.031194295900178255| -2.040106951871657|-0.03555316078832488| 0.26559714795008915| 0.7040998217468797| 0.09625668449197988|-0.00565590220762...|  0.6131907308377897|  1.3235294117647056|  1.3226381461675576| 0.04338074553558757|   0.737967914438503| 1.8484848484848477| -0.1087344028520505|  1.3128342245989302|  1.2040998217468797|-3.0811051693404643|   1.859180035650624| -1.2219251336898402| 0.48082753973844605|-0.04218184695279...| 0.08920630975067967|-1.9759358288770041| -0.6488413547237073|-1.0766488413547242| 0.37076648841354753| 1.4215686274509807| -0.8333333333333339| -1.5926916221033869| 0.12477718360071277| 0.7165775401069521| 0.6283422459893053| 6.0|\n",
            "|  2022| 1242| 1166|     1|       01|       09|       22|        11|           33|0.6666666666666666| 69.03030303030303|        65.93939393939394|          1.046875| 0.06060606060606061|25.757575757575758|0.45045045045045046| 57.18181818181818|    24.96969696969697|6.696969696969697| 0.3065187239944521|21.848484848484848|    6.7272727272727275|10.818181818181818|0.7285714285714285|14.848484848484848|    9.272727272727273| 8.242424242424242|27.393939393939394| 35.63636363636363| 9.454545454545455| 22.78787878787879| 32.24242424242424|0.8717948717948718| 1.202127659574468| 1.105263157894737|13.151515151515152|11.181818181818182| 5.363636363636363| 6.818181818181818|13.363636363636363| 9.848484848484848| 4.424242424242424| 3.303030303030303|13.424242424242424|15.333333333333334|       28|         6|           34|0.8235294117647058| 78.58823529411765|         68.1470588235294|1.1532153646957273| 0.08823529411764706|28.647058823529413|0.48098765432098767| 59.55882352941177|    25.08823529411765|7.147058823529412|0.35526315789473684| 20.11764705882353|     6.176470588235294|14.147058823529411|0.7243975903614458|19.529411764705884|   11.794117647058824| 9.941176470588236|25.058823529411764|              35.0| 8.970588235294118|20.970588235294116|29.941176470588236|1.1081967213114754|1.1949509116409538| 1.168958742632613|15.441176470588236|11.911764705882353| 6.411764705882353| 6.852941176470588|12.029411764705882|12.088235294117647| 4.147058823529412| 3.088235294117647|15.882352941176471|17.647058823529413|   6|   -5|       1|  0.1568627450980392|  9.557932263814621|  2.2076648841354682| 0.10634036469572727|0.027629233511586457| 2.8894830659536552| 0.03053720387053721|   2.377005347593588|0.11853832442067969|  0.4500891265597149| 0.04874443390028471| -1.7308377896613187| -0.5508021390374331|   3.328877005347593|-0.00417383820998...|   4.680926916221036|  2.521390374331551|  1.6987522281639933|   -2.33511586452763| -0.6363636363636331|-0.4839572192513373|  -1.817290552584673| -2.3012477718360067|  0.2364018495166036|-0.00717674793351...| 0.06369558473787595| 2.2896613190730832|  0.7299465240641716|   1.04812834224599|0.034759358288769526| -1.334224598930481|   2.239750445632799|-0.27718360071301174|-0.21479500891265602|  2.458110516934047|  2.313725490196079|-8.0|\n",
            "|  2022| 1181| 1314|     1|       02|       08|       24|         9|           33|0.7272727272727273| 77.51515151515152|        71.72727272727273|1.0806928601605408| 0.06060606060606061|27.636363636363637| 0.4528301886792453| 61.03030303030303|   26.939393939393938|8.272727272727273| 0.3620689655172414|22.848484848484848|                   8.0|13.969696969696969|0.7721943048576214| 18.09090909090909|    9.848484848484848| 9.303030303030303|27.636363636363637| 36.93939393939394| 6.242424242424242| 23.21212121212121|29.454545454545453|1.4902912621359223|1.1906005221932114|1.2541152263374487|14.818181818181818| 12.93939393939394| 5.393939393939394| 6.606060606060606|11.333333333333334| 9.666666666666666|3.8484848484848486| 3.242424242424242|14.363636363636363|16.363636363636363|       28|         6|           34|0.8235294117647058| 80.17647058823529|         67.1470588235294|1.1940429259745948|0.029411764705882353|29.676470588235293|0.48838334946757017| 60.76470588235294|   26.235294117647058|8.176470588235293|0.36772486772486773|22.235294117647058|     6.676470588235294|12.647058823529411|0.7288135593220338|17.352941176470587|                  8.0| 9.411764705882353|26.323529411764707| 35.73529411764706| 9.323529411764707|21.352941176470587|30.676470588235293|1.0094637223974763|1.2327823691460056| 1.164908916586769|16.794117647058822|13.588235294117647| 6.470588235294118| 6.235294117647059| 9.911764705882353|              10.5|5.4411764705882355|3.1176470588235294|13.647058823529411|15.735294117647058|   4|   -3|       1| 0.09625668449197855| 2.6613190730837744|  -4.580213903743328| 0.11335006581405405|-0.03119429590017...|  2.040106951871657| 0.03555316078832488|-0.26559714795008915|-0.7040998217468797|-0.09625668449197988|0.005655902207626351| -0.6131907308377897| -1.3235294117647056| -1.3226381461675576|-0.04338074553558757|  -0.737967914438503|-1.8484848484848477|  0.1087344028520505| -1.3128342245989302| -1.2040998217468797| 3.0811051693404643|  -1.859180035650624|  1.2219251336898402|-0.48082753973844605|0.042181846952794144|-0.08920630975067967| 1.9759358288770041|  0.6488413547237073| 1.0766488413547242|-0.37076648841354753|-1.4215686274509807|  0.8333333333333339|  1.5926916221033869|-0.12477718360071277|-0.7165775401069521|-0.6283422459893053|-6.0|\n",
            "|  2022| 1276| 1437|     1|       11|       02|       26|         7|           33|0.7878787878787878| 72.63636363636364|        63.09090909090909|1.1512968299711817|0.030303030303030304|24.606060606060606| 0.4370290635091496|56.303030303030305|   22.666666666666668|9.303030303030303|0.35906432748538014| 25.90909090909091|     7.393939393939394|14.121212121212121| 0.823321554770318|17.151515151515152|   10.363636363636363| 8.727272727272727| 23.12121212121212|31.848484848484848| 7.818181818181818| 21.09090909090909| 28.90909090909091|1.1162790697674418| 1.096264367816092|  1.10167714884696| 12.06060606060606|11.333333333333334| 6.242424242424242| 4.696969696969697| 9.393939393939394|11.727272727272727| 2.242424242424242| 3.303030303030303|15.242424242424242| 16.78787878787879|       17|        14|           31|0.5483870967741935| 73.03225806451613|        69.87096774193549|1.0452446906740536|                 0.0|27.096774193548388| 0.4682274247491639| 57.87096774193548|   26.032258064516128|6.354838709677419| 0.3396551724137931| 18.70967741935484|     6.516129032258065|12.483870967741936|0.7456647398843931|16.741935483870968|   11.290322580645162| 8.741935483870968|23.967741935483872| 32.70967741935484| 6.870967741935484|21.032258064516128|27.903225806451612| 1.272300469483568|1.1395705521472392|1.1722543352601156|14.193548387096774|10.838709677419354| 4.774193548387097| 5.258064516129032|11.096774193548388| 9.612903225806452| 3.096774193548387|3.2903225806451615|15.548387096774194|15.903225806451612|  -9|    7|      -2|-0.23949169110459434| 0.3958944281524879|   6.780058651026394|-0.10605213929712809|-0.03030303030303...| 2.4907135874877824|0.031198361240014294|   1.567937438905176| 3.3655913978494603| -2.9481915933528837|-0.01940915507158...|   -7.19941348973607| -0.8778103616813286| -1.6373411534701852|-0.07765681488592491| -0.4095796676441843| 0.9266862170087986|0.014662756598241344|  0.8465298142717508|  0.8611925708699921|-0.9472140762463344|-0.05865102639296...|  -1.005865102639298| 0.15602139971612616|  0.0433061843311473| 0.07057718641315547| 2.1329423264907135|-0.49462365591397983|-1.4682306940371452|  0.5610948191593348| 1.7028347996089934| -2.1143695014662747|  0.8543499511241448|-0.01270772238514...|0.30596285434995174|-0.8846529814271769| 9.0|\n",
            "|  2022| 1277| 1172|     1|       07|       10|       26|         6|           32|            0.8125|            74.625|                  65.8125|1.1339031339031338|             0.03125|          26.15625| 0.4771949828962372|           54.8125|               23.125|          8.65625| 0.3841886269070735|          22.53125|               8.15625|          13.65625|  0.75736568457539|          18.03125|             11.40625|           6.34375|          25.03125|            31.375|           6.59375|              22.5|          29.09375|0.9620853080568721|            1.1125|1.0784103114930184|            14.375|          12.09375|             4.625|               5.0|           9.40625|          10.65625|           2.59375|           2.28125|          14.84375|          18.03125|       22|        12|           34|0.6470588235294118| 72.08823529411765|        68.44117647058823|1.0532874946282766|                 0.0|              26.0| 0.4568475452196382|56.911764705882355|   24.735294117647058|7.176470588235294|0.37770897832817335|              19.0|     7.029411764705882|12.911764705882353|0.7465986394557823|17.294117647058822|   11.941176470588236|               8.5|25.205882352941178|33.705882352941174| 8.147058823529411|21.352941176470587|              29.5|1.0433212996389891|1.1804407713498624|1.1425722831505483|15.794117647058824|12.794117647058824| 5.823529411764706| 6.470588235294118|12.705882352941176|10.088235294117647|5.0588235294117645|3.2941176470588234|16.941176470588236|16.970588235294116|  -4|    6|       2| -0.1654411764705882| -2.536764705882348|   2.628676470588232|-0.08061563927485715|            -0.03125|           -0.15625|-0.02034743767659...|   2.099264705882355|  1.610294117647058| -1.4797794117647056|-0.00647964857890...|            -3.53125| -1.1268382352941178| -0.7444852941176467|-0.01076704511960...| -0.7371323529411775| 0.5349264705882355|             2.15625| 0.17463235294117752|   2.330882352941174| 1.5533088235294112|  -1.147058823529413|             0.40625| 0.08123599158211703| 0.06794077134986232|  0.0641619716575299| 1.4191176470588243|  0.7003676470588243| 1.1985294117647056|  1.4705882352941178| 3.2996323529411757| -0.5680147058823533|  2.4650735294117645|  1.0128676470588234| 2.0974264705882355| -1.060661764705884|-3.0|\n",
            "|  2022| 1389| 1345|     1|       15|       03|       27|         7|           34|0.7941176470588235| 79.79411764705883|        68.76470588235294| 1.160393498716852| 0.08823529411764706|28.235294117647058| 0.4933196300102775| 57.23529411764706|   25.647058823529413|8.735294117647058| 0.3907894736842105|22.352941176470587|     8.235294117647058|14.588235294117647|0.7025495750708215|20.764705882352942|    9.235294117647058| 9.794117647058824|25.823529411764707| 35.61764705882353|6.9411764705882355|18.941176470588236| 25.88235294117647|1.4110169491525424|1.3633540372670807|1.3761363636363637| 16.61764705882353|13.617647058823529| 4.617647058823529| 5.852941176470588|11.352941176470589| 9.147058823529411|               3.5|2.3529411764705883|14.352941176470589|19.029411764705884|       18|        11|           29|0.6206896551724138| 66.17241379310344|       62.241379310344826| 1.063157894736842|0.034482758620689655| 23.20689655172414| 0.4254108723135272| 54.55172413793103|   20.379310344827587|5.758620689655173|0.34791666666666665|16.551724137931036|     5.620689655172414|              14.0| 0.684654300168634|20.448275862068964|   15.862068965517242| 9.068965517241379| 24.20689655172414|33.275862068965516| 7.620689655172414|22.310344827586206| 29.93103448275862|1.1900452488687783|1.0850077279752706|1.1117511520737327| 11.96551724137931|10.517241379310345| 7.310344827586207| 7.068965517241379|13.137931034482758|13.241379310344827| 4.896551724137931|               5.0|19.620689655172413| 18.24137931034483|  -9|    4|      -5|-0.17342799188640967|-13.621703853955381|  -6.523326572008116|-0.09723560398000997|-0.05375253549695741| -5.028397565922919|-0.06790875769675031|  -2.683569979716026| -5.267748478701826| -2.9766734279918854|-0.04287280701754387|  -5.801217038539551| -2.6146044624746443| -0.5882352941176467|-0.01789527490218...| -0.3164300202839776|  6.626774847870184| -0.7251521298174453| -1.6166328600405677|  -2.341784989858013| 0.6795131845841782|   3.369168356997971|   4.048681541582148|-0.22097170028376412|-0.27834630929181015|-0.26438521156263106| -4.652129817444219|  -3.100405679513184| 2.6926977687626783|  1.2160243407707911| 1.7849898580121693|   4.094320486815416|  1.3965517241379306|  2.6470588235294117|  5.267748478701824|-0.7880324543610548|12.0|\n",
            "|  2022| 1344| 1242|     0|       04|       01|       28|         6|           34|0.8235294117647058| 78.58823529411765|         68.1470588235294|1.1532153646957273| 0.08823529411764706|28.647058823529413|0.48098765432098767| 59.55882352941177|    25.08823529411765|7.147058823529412|0.35526315789473684| 20.11764705882353|     6.176470588235294|14.147058823529411|0.7243975903614458|19.529411764705884|   11.794117647058824| 9.941176470588236|25.058823529411764|              35.0| 8.970588235294118|20.970588235294116|29.941176470588236|1.1081967213114754|1.1949509116409538| 1.168958742632613|15.441176470588236|11.911764705882353| 6.411764705882353| 6.852941176470588|12.029411764705882|12.088235294117647| 4.147058823529412| 3.088235294117647|15.882352941176471|17.647058823529413|       25|         5|           30|0.8333333333333334|              71.8|                     67.0|1.0716417910447762| 0.16666666666666666|24.433333333333334| 0.4373508353221957| 55.86666666666667|   24.566666666666666|              7.3| 0.3427230046948357|              21.3|     6.733333333333333|15.633333333333333|0.7260061919504643|21.533333333333335|   11.133333333333333| 8.833333333333334|24.733333333333334| 33.56666666666667|               8.3|22.133333333333333|30.433333333333334|1.0642570281124497|1.1174698795180722|1.1029572836801753|              13.2|11.366666666666667| 5.033333333333333| 6.033333333333333|              10.9|              10.1|3.7666666666666666| 3.433333333333333|15.966666666666667|              18.8|  -3|   -1|      -4|0.009803921568627527| -6.788235294117655|  -1.147058823529406|-0.08157357365095108| 0.07843137254901959|-4.2137254901960794|-0.04363681899879196|  -3.692156862745101|-0.5215686274509821|  0.1529411764705877|-0.01254015319990115|  1.1823529411764717|   0.556862745098039|  1.4862745098039216|0.001608601589018...|   2.003921568627451|-0.6607843137254914| -1.1078431372549016| -0.3254901960784302|   -1.43333333333333| -0.670588235294117|  1.1627450980392169| 0.49215686274509807|-0.04393969319902569| -0.0774810321228816|-0.06600145895243759| -2.241176470588236| -0.5450980392156861|  -1.37843137254902| -0.8196078431372547| -1.129411764705882|  -1.988235294117647| -0.3803921568627455| 0.34509803921568594|0.08431372549019578| 1.1529411764705877| 3.0|\n",
            "|  2022| 1276| 1161|     0|       11|       06|       24|         5|           29|0.8275862068965517| 73.24137931034483|        65.86206896551724| 1.112041884816754| 0.06896551724137931|26.379310344827587| 0.4823455233291299|54.689655172413794|   23.896551724137932|7.620689655172414| 0.3570274636510501|21.344827586206897|     8.137931034482758|12.862068965517242|0.7738589211618258|16.620689655172413|    9.931034482758621|5.9655172413793105| 23.93103448275862|29.896551724137932| 7.413793103448276|22.586206896551722|              30.0|0.8046511627906977|1.0595419847328245| 0.996551724137931| 14.10344827586207| 12.03448275862069| 6.206896551724138| 5.482758620689655| 9.586206896551724|11.310344827586206|3.0689655172413794| 2.793103448275862|              15.0|17.379310344827587|       17|        14|           31|0.5483870967741935| 73.03225806451613|        69.87096774193549|1.0452446906740536|                 0.0|27.096774193548388| 0.4682274247491639| 57.87096774193548|   26.032258064516128|6.354838709677419| 0.3396551724137931| 18.70967741935484|     6.516129032258065|12.483870967741936|0.7456647398843931|16.741935483870968|   11.290322580645162| 8.741935483870968|23.967741935483872| 32.70967741935484| 6.870967741935484|21.032258064516128|27.903225806451612| 1.272300469483568|1.1395705521472392|1.1722543352601156|14.193548387096774|10.838709677419354| 4.774193548387097| 5.258064516129032|11.096774193548388| 9.612903225806452| 3.096774193548387|3.2903225806451615|15.548387096774194|15.903225806451612|  -7|    9|       2| -0.2791991101223582|-0.2091212458286975|   4.008898776418249|-0.06679719414270036|-0.06896551724137931| 0.7174638487208007|-0.01411809857996...|   3.181312569521687| 2.1357063403781957| -1.2658509454949947|-0.01737229123725...|  -2.635150166852057|  -1.621802002224693|-0.37819799777530605|-0.02819418127743...| 0.12124582869855516|  1.359288097886541|  2.7764182424916575|0.036707452725252665|  2.8131256952169075|-0.5428253615127918| -1.5539488320355943|  -2.096774193548388|  0.4676493066928703| 0.08002856741441478| 0.17570261112218455|0.09010011123470463| -1.1957730812013363| -1.432703003337041|-0.22469410456062278| 1.5105672969966637| -1.6974416017797544|0.027808676307007563|  0.4972191323692994|  0.548387096774194| -1.476084538375975| 5.0|\n",
            "|  2022| 1116| 1436|     1|       04|       13|       27|         5|           32|           0.84375|             74.75|                  60.6875| 1.231719876416066|             0.03125|           27.4375|0.49353569421023047|          55.59375|              22.5625|           8.8125|0.36766623207301175|          23.96875|               7.09375|           11.0625|0.7468354430379747|           14.8125|              8.46875|           5.78125|           26.0625|          31.84375|           5.46875|          21.59375|           27.0625|1.0571428571428572|1.2069464544138928|1.1766743648960738|           15.0625|            9.8125|           5.21875|           4.90625|           9.34375|          10.65625|           2.40625|            2.8125|          13.96875|          16.09375|       25|         8|           33|0.7575757575757576| 76.93939393939394|        68.54545454545455|1.1224580017683465| 0.06060606060606061|26.636363636363637|             0.4395| 60.60606060606061|   23.727272727272727|6.363636363636363|0.30656934306569344|20.757575757575758|     7.424242424242424|17.303030303030305|0.7532981530343008| 22.96969696969697|   13.666666666666666| 9.696969696969697|25.484848484848484| 35.18181818181818| 7.606060606060606|23.696969696969695|31.303030303030305|1.2749003984063745|1.0754475703324808|1.1239109390125848|14.090909090909092|12.909090909090908|7.7272727272727275| 6.878787878787879|12.151515151515152|14.575757575757576| 4.181818181818182| 3.484848484848485|16.848484848484848| 19.78787878787879|  -2|    3|       1|-0.08617424242424243| 2.1893939393939377|   7.857954545454547|-0.10926187464771941|0.029356060606060608|-0.8011363636363633|-0.05403569421023047|   5.012310606060609| 1.1647727272727266| -2.4488636363636367| -0.0610968890073183|  -3.211174242424242| 0.33049242424242387|  6.2405303030303045|0.006462709996326144|   8.157196969696969|  5.197916666666666|  3.9157196969696972| -0.5776515151515156|    3.33806818181818| 2.1373106060606064|  2.1032196969696955|  4.2405303030303045| 0.21775754126351732|-0.13149888408141197|-0.05276342588348...|-0.9715909090909083|  3.0965909090909083| 2.5085227272727275|   1.972537878787879| 2.8077651515151523|   3.919507575757576|  1.7755681818181817|  0.6723484848484849| 2.8797348484848477|  3.694128787878789|-9.0|\n",
            "|  2022| 1314| 1266|     1|       08|       09|       19|        12|           31|0.6129032258064516| 74.38709677419355|        70.87096774193549|1.0496131087847065| 0.06451612903225806| 26.93548387096774| 0.4533116178067318| 59.41935483870968|   25.483870967741936|8.612903225806452| 0.3472041612483745|24.806451612903224|                   7.0|11.903225806451612|0.7469635627530364|15.935483870967742|   12.903225806451612|               6.0|25.451612903225808|31.451612903225808|10.741935483870968|25.161290322580644|35.903225806451616|0.5585585585585585|1.0115384615384615| 0.876010781671159|              16.0|              14.0| 7.870967741935484| 7.096774193548387|12.129032258064516|12.935483870967742| 5.096774193548387| 3.161290322580645|17.451612903225808|15.258064516129032|       24|         9|           33|0.7272727272727273| 77.51515151515152|        71.72727272727273|1.0806928601605408| 0.06060606060606061|27.636363636363637| 0.4528301886792453| 61.03030303030303|   26.939393939393938|8.272727272727273| 0.3620689655172414|22.848484848484848|                   8.0|13.969696969696969|0.7721943048576214| 18.09090909090909|    9.848484848484848| 9.303030303030303|27.636363636363637| 36.93939393939394| 6.242424242424242| 23.21212121212121|29.454545454545453|1.4902912621359223|1.1906005221932114|1.2541152263374487|14.818181818181818| 12.93939393939394| 5.393939393939394| 6.606060606060606|11.333333333333334| 9.666666666666666|3.8484848484848486| 3.242424242424242|14.363636363636363|16.363636363636363|   5|   -3|       2| 0.11436950146627567|  3.128054740957964|  0.8563049853372462|0.031079751375834297|-0.00391006842619...| 0.7008797653958965|-4.81429127486499E-4|  1.6109481915933515| 1.4555229716520017| -0.3401759530791786|0.014864804268866882| -1.9579667644183765|                 1.0|  2.0664711632453567| 0.02523074210458498|   2.155425219941348|-3.0547409579667644|  3.3030303030303028|   2.184750733137829|    5.48778103616813| -4.499511241446726|  -1.949169110459433|  -6.448680351906162|  0.9317327035773638| 0.17906206065474994|  0.3781044446662897|-1.1818181818181817| -1.0606060606060606|-2.4770283479960904| -0.4907135874877806|-0.7956989247311821|  -3.268817204301076| -1.2482893450635384| 0.08113391984359719|-3.0879765395894445| 1.1055718475073313|-1.0|\n",
            "+------+-----+-----+------+---------+---------+---------+----------+-------------+------------------+------------------+-------------------------+------------------+--------------------+------------------+-------------------+------------------+---------------------+-----------------+-------------------+------------------+----------------------+------------------+------------------+------------------+---------------------+------------------+------------------+------------------+------------------+------------------+------------------+------------------+------------------+------------------+------------------+------------------+------------------+------------------+------------------+------------------+------------------+------------------+------------------+------------------+---------+----------+-------------+------------------+------------------+-------------------------+------------------+--------------------+------------------+-------------------+------------------+---------------------+-----------------+-------------------+------------------+----------------------+------------------+------------------+------------------+---------------------+------------------+------------------+------------------+------------------+------------------+------------------+------------------+------------------+------------------+------------------+------------------+------------------+------------------+------------------+------------------+------------------+------------------+------------------+------------------+----+-----+--------+--------------------+-------------------+--------------------+--------------------+--------------------+-------------------+--------------------+--------------------+-------------------+--------------------+--------------------+--------------------+--------------------+--------------------+--------------------+--------------------+-------------------+--------------------+--------------------+--------------------+-------------------+--------------------+--------------------+--------------------+--------------------+--------------------+-------------------+--------------------+-------------------+--------------------+-------------------+--------------------+--------------------+--------------------+-------------------+-------------------+----+\n",
            "only showing top 20 rows\n",
            "\n"
          ]
        }
      ]
    },
    {
      "cell_type": "code",
      "source": [
        "outscores =  outscores.drop(\"Team1OppPFPerGame\", \"Team2OppPFPerGame\",\n",
        "                            'Team1PFPerGame','Team2PFPerGame',\n",
        "                            \"Team1Wins\",\"Team2Wins\",\n",
        "                            \"Team1Loses\",\"Team2Loses\",\n",
        "                            \"Team1NumGames\",\"Team2NumGames\",\n",
        "                            \"Team1WinRatio\",\"Team2WinRatio\",\n",
        "                            \"Team1PointsPerGame\",\"Team2PointsPerGame\",\n",
        "                            \"Team1PointsAllowedPerGame\",\"Team2PointsAllowedPerGame\",\n",
        "                            \"Team1PointsRatio\",\"Team2PointsRatio\",\n",
        "                            \"Team1OTsPerGame\",\"Team2OTsPerGame\",\n",
        "                            \"Team1FGPerGame\",\"Team2FGPerGame\",\n",
        "                            \"Team1FGRatio\",\"Team2FGRatio\",\n",
        "                            \"Team1FGAPerGame\",\"Team2FGAPerGame\",\n",
        "                            \"Team1FGAllowedPerGame\",\"Team2FGAllowedPerGame\",\n",
        "                            \"Team1FG3PerGame\",\"Team2FG3PerGame\",\n",
        "                            \"Team1FG3Ratio\",\"Team2FG3Ratio\",\n",
        "                            \"Team1FG3APerGame\",\"Team2FG3APerGame\",\n",
        "                            \"Team1FG3AllowedPerGame\",\"Team2FG3AllowedPerGame\",\n",
        "                            \"Team1FTPerGame\",\"Team2FTPerGame\",\n",
        "                            \"Team1FTRatio\",\"Team2FTRatio\",\n",
        "                            \"Team1FTAPerGame\",\"Team2FTAPerGame\",\n",
        "                            \"Team1FTAllowedPerGame\",\"Team2FTAllowedPerGame\",\n",
        "                            \"Team1ORPerGame\",\"Team2ORPerGame\",\n",
        "                            \"Team1DRPerGame\",\"Team2DRPerGame\",\n",
        "                            \"Team1TRPerGame\",\"Team2TRPerGame\",\n",
        "                            \"Team1OppORPerGame\",\"Team2OppORPerGame\",\n",
        "                            'Team1OppDRPerGame','Team2OppDRPerGame',\n",
        "                            'Team1OppTRPerGame','Team2OppTRPerGame',\n",
        "                            'Team1ORRatio','Team2ORRatio',\n",
        "                            'Team1DRRatio','Team2DRRatio',\n",
        "                            'Team1TRRatio','Team2TRRatio',\n",
        "                            'Team1AstPerGame','Team2AstPerGame',\n",
        "                            'Team1OppAstPerGame','Team2OppAstPerGame',\n",
        "                            'Team1StlPerGame','Team2StlPerGame',\n",
        "                            'Team1OppStlPerGame','Team2OppStlPerGame',\n",
        "                            'Team1TOPerGame','Team2TOPerGame',\n",
        "                            'Team1OppTOPerGame','Team2OppTOPerGame',\n",
        "                            'Team1BlkPerGame','Team2BlkPerGame',\n",
        "                            'Team1OppBlkPerGame','Team2OppBlkPerGame',\n",
        "                            'Team1PFPerGame','Team2PFPerGame',\n",
        "                            'Team1OppPFPerGame','Team2OppPFPerGame'\n",
        "                            'Team1Seed','Team2Seed')\n",
        "outscores2022 = outscores.filter(outscores.Season == 2022)\n",
        "outscores = outscores.filter(outscores.Season < 2022)"
      ],
      "metadata": {
        "id": "odQAzC_QfpkF"
      },
      "execution_count": 28,
      "outputs": []
    },
    {
      "cell_type": "code",
      "source": [
        "# Assemble all the features with VectorAssembler\n",
        "required_features = ['WinRatio',\n",
        " 'PointsPerGame',\n",
        " 'PointsAllowedPerGame',\n",
        " 'PointsRatio',\n",
        " 'OTsPerGame',\n",
        " 'FGPerGame',\n",
        " 'FGRatio',\n",
        " 'FGAPerGame',\n",
        " 'FGAllowedPerGame',\n",
        " 'FG3PerGame',\n",
        " 'FG3Ratio',\n",
        " 'FG3APerGame',\n",
        " 'FG3AllowedPerGame',\n",
        " 'FTPerGame',\n",
        " 'FTRatio',\n",
        " 'FTAPerGame',\n",
        " 'FTAllowedPerGame',\n",
        " 'ORPerGame',\n",
        " 'DRPerGame',\n",
        " 'TRPerGame',\n",
        " 'OppORPerGame',\n",
        " 'OppDRPerGame',\n",
        " 'OppTRPerGame',\n",
        " 'ORRatio',\n",
        " 'DRRatio',\n",
        " 'TRRatio',\n",
        " 'AstPerGame',\n",
        " 'OppAstPerGame',\n",
        " 'StlPerGame',\n",
        " 'OppStlPerGame',\n",
        " 'TOPerGame',\n",
        " 'OppTOPerGame',\n",
        " 'BlkPerGame',\n",
        " 'OppBlkPerGame',\n",
        " 'PFPerGame',\n",
        " 'OppPFPerGame',\n",
        " 'Seed']\n",
        "from pyspark.ml.feature import VectorAssembler\n",
        "assembler = VectorAssembler(inputCols=required_features, outputCol='features')\n",
        "transformed_data = assembler.transform(outscores)"
      ],
      "metadata": {
        "id": "uGvcb_qyxout"
      },
      "execution_count": 29,
      "outputs": []
    },
    {
      "cell_type": "code",
      "source": [
        "(training_data, test_data) = transformed_data.randomSplit([0.8,0.2], seed=1797)"
      ],
      "metadata": {
        "id": "2HgrfXIt2ni3"
      },
      "execution_count": 30,
      "outputs": []
    },
    {
      "cell_type": "code",
      "source": [
        "from pyspark.ml.classification import LogisticRegression\n",
        "lr = LogisticRegression(featuresCol = 'features', labelCol='Result', maxIter=10, regParam=0.3, elasticNetParam=0.8)\n",
        "lrModel = lr.fit(training_data)\n",
        "print(\"Coefficients: \" + str(lrModel.coefficients))\n",
        "print(\"Intercept: \" + str(lrModel.intercept))"
      ],
      "metadata": {
        "id": "Gkq1Tqbj2pyL",
        "colab": {
          "base_uri": "https://localhost:8080/"
        },
        "outputId": "73f6f873-5e69-4aeb-cec5-c9f4a363467c"
      },
      "execution_count": 31,
      "outputs": [
        {
          "output_type": "stream",
          "name": "stdout",
          "text": [
            "Coefficients: (37,[36],[-0.0030319906068168256])\n",
            "Intercept: -0.009564394134002167\n"
          ]
        }
      ]
    },
    {
      "cell_type": "code",
      "source": [
        "trainingSummary = lrModel.summary\n",
        "# Print the coefficients and intercept for multinomial logistic regression\n",
        "print(\"Coefficients: \\n\" + str(lrModel.coefficientMatrix))\n",
        "print(\"Intercept: \" + str(lrModel.interceptVector))\n",
        "\n",
        "trainingSummary = lrModel.summary\n",
        "\n",
        "# Obtain the objective per iteration\n",
        "objectiveHistory = trainingSummary.objectiveHistory\n",
        "print(\"objectiveHistory:\")\n",
        "for objective in objectiveHistory:\n",
        "    print(objective)\n",
        "\n",
        "# for multiclass, we can inspect metrics on a per-label basis\n",
        "print(\"False positive rate by label:\")\n",
        "for i, rate in enumerate(trainingSummary.falsePositiveRateByLabel):\n",
        "    print(\"label %d: %s\" % (i, rate))\n",
        "\n",
        "print(\"True positive rate by label:\")\n",
        "for i, rate in enumerate(trainingSummary.truePositiveRateByLabel):\n",
        "    print(\"label %d: %s\" % (i, rate))\n",
        "\n",
        "print(\"Precision by label:\")\n",
        "for i, prec in enumerate(trainingSummary.precisionByLabel):\n",
        "    print(\"label %d: %s\" % (i, prec))\n",
        "\n",
        "print(\"Recall by label:\")\n",
        "for i, rec in enumerate(trainingSummary.recallByLabel):\n",
        "    print(\"label %d: %s\" % (i, rec))\n",
        "\n",
        "print(\"F-measure by label:\")\n",
        "for i, f in enumerate(trainingSummary.fMeasureByLabel()):\n",
        "    print(\"label %d: %s\" % (i, f))\n",
        "\n",
        "accuracy = trainingSummary.accuracy\n",
        "falsePositiveRate = trainingSummary.weightedFalsePositiveRate\n",
        "truePositiveRate = trainingSummary.weightedTruePositiveRate\n",
        "fMeasure = trainingSummary.weightedFMeasure()\n",
        "precision = trainingSummary.weightedPrecision\n",
        "recall = trainingSummary.weightedRecall\n",
        "print(\"Accuracy: %s\\nFPR: %s\\nTPR: %s\\nF-measure: %s\\nPrecision: %s\\nRecall: %s\"\n",
        "      % (accuracy, falsePositiveRate, truePositiveRate, fMeasure, precision, recall))"
      ],
      "metadata": {
        "id": "bKEp5JdYnLm5",
        "colab": {
          "base_uri": "https://localhost:8080/"
        },
        "outputId": "6c781e13-8439-46e6-ab52-9d5b398e4aa8"
      },
      "execution_count": 32,
      "outputs": [
        {
          "output_type": "stream",
          "name": "stdout",
          "text": [
            "Coefficients: \n",
            "1 X 37 CSRMatrix\n",
            "(0,36) -0.003\n",
            "Intercept: [-0.009564394134002167]\n",
            "objectiveHistory:\n",
            "0.6931359498626991\n",
            "0.6931181307634059\n",
            "0.6930841203513257\n",
            "0.6930697377940142\n",
            "0.6930636639059421\n",
            "0.6930610911825082\n",
            "0.6930600036479969\n",
            "0.6930595433398796\n",
            "0.6930593486753839\n",
            "0.6930592663068558\n",
            "0.6930592314666304\n",
            "False positive rate by label:\n",
            "label 0: 0.4962962962962963\n",
            "label 1: 0.13941299790356393\n",
            "True positive rate by label:\n",
            "label 0: 0.860587002096436\n",
            "label 1: 0.5037037037037037\n",
            "Precision by label:\n",
            "label 0: 0.6364341085271318\n",
            "label 1: 0.7816091954022989\n",
            "Recall by label:\n",
            "label 0: 0.860587002096436\n",
            "label 1: 0.5037037037037037\n",
            "F-measure by label:\n",
            "label 0: 0.731729055258467\n",
            "label 1: 0.6126126126126126\n",
            "Accuracy: 0.6829910479199579\n",
            "FPR: 0.3187003421198181\n",
            "TPR: 0.6829910479199578\n",
            "F-measure: 0.6724531003873072\n",
            "Precision: 0.7086776351711723\n",
            "Recall: 0.6829910479199578\n"
          ]
        }
      ]
    },
    {
      "cell_type": "markdown",
      "source": [
        "# Predict 2022 Season"
      ],
      "metadata": {
        "id": "uDdraHoNODz1"
      }
    },
    {
      "cell_type": "code",
      "source": [
        "from pyspark.ml.feature import VectorAssembler\n",
        "assembler = VectorAssembler(inputCols=required_features, outputCol='features')\n",
        "test_data = assembler.transform(outscores2022)\n",
        "predictions = lrModel.transform(test_data)"
      ],
      "metadata": {
        "id": "AatTvfK5lmuH"
      },
      "execution_count": 33,
      "outputs": []
    },
    {
      "cell_type": "code",
      "source": [
        "predictions.columns"
      ],
      "metadata": {
        "id": "2fhwP8qO8JO-",
        "colab": {
          "base_uri": "https://localhost:8080/"
        },
        "outputId": "1451e5db-3a8f-49ea-8342-7cd1220c6270"
      },
      "execution_count": 34,
      "outputs": [
        {
          "output_type": "execute_result",
          "data": {
            "text/plain": [
              "['Season',\n",
              " 'Team1',\n",
              " 'Team2',\n",
              " 'Result',\n",
              " 'Team1Seed',\n",
              " 'Wins',\n",
              " 'Loses',\n",
              " 'NumGames',\n",
              " 'WinRatio',\n",
              " 'PointsPerGame',\n",
              " 'PointsAllowedPerGame',\n",
              " 'PointsRatio',\n",
              " 'OTsPerGame',\n",
              " 'FGPerGame',\n",
              " 'FGRatio',\n",
              " 'FGAPerGame',\n",
              " 'FGAllowedPerGame',\n",
              " 'FG3PerGame',\n",
              " 'FG3Ratio',\n",
              " 'FG3APerGame',\n",
              " 'FG3AllowedPerGame',\n",
              " 'FTPerGame',\n",
              " 'FTRatio',\n",
              " 'FTAPerGame',\n",
              " 'FTAllowedPerGame',\n",
              " 'ORPerGame',\n",
              " 'DRPerGame',\n",
              " 'TRPerGame',\n",
              " 'OppORPerGame',\n",
              " 'OppDRPerGame',\n",
              " 'OppTRPerGame',\n",
              " 'ORRatio',\n",
              " 'DRRatio',\n",
              " 'TRRatio',\n",
              " 'AstPerGame',\n",
              " 'OppAstPerGame',\n",
              " 'StlPerGame',\n",
              " 'OppStlPerGame',\n",
              " 'TOPerGame',\n",
              " 'OppTOPerGame',\n",
              " 'BlkPerGame',\n",
              " 'OppBlkPerGame',\n",
              " 'PFPerGame',\n",
              " 'OppPFPerGame',\n",
              " 'Seed',\n",
              " 'features',\n",
              " 'rawPrediction',\n",
              " 'probability',\n",
              " 'prediction']"
            ]
          },
          "metadata": {},
          "execution_count": 34
        }
      ]
    },
    {
      "cell_type": "code",
      "source": [
        "predictions.select(\"prediction\",\"features\").show(126)"
      ],
      "metadata": {
        "id": "2o8bULaLoL3m",
        "colab": {
          "base_uri": "https://localhost:8080/"
        },
        "outputId": "f5e1bf17-f1ab-41f9-b789-c385e75b1272"
      },
      "execution_count": 35,
      "outputs": [
        {
          "output_type": "stream",
          "name": "stdout",
          "text": [
            "+----------+--------------------+\n",
            "|prediction|            features|\n",
            "+----------+--------------------+\n",
            "|       0.0|[-0.1545454545454...|\n",
            "|       0.0|[-0.0962566844919...|\n",
            "|       0.0|[0.13897596656217...|\n",
            "|       1.0|[0.07157258064516...|\n",
            "|       0.0|[-0.0539772727272...|\n",
            "|       0.0|[0.13786764705882...|\n",
            "|       0.0|[-0.1885775862068...|\n",
            "|       1.0|[0.04166666666666...|\n",
            "|       0.0|[-0.0416666666666...|\n",
            "|       0.0|[-0.2191323692992...|\n",
            "|       0.0|[-0.0962566844919...|\n",
            "|       1.0|[0.15686274509803...|\n",
            "|       1.0|[0.09625668449197...|\n",
            "|       0.0|[-0.2394916911045...|\n",
            "|       0.0|[-0.1654411764705...|\n",
            "|       0.0|[-0.1734279918864...|\n",
            "|       0.0|[0.00980392156862...|\n",
            "|       0.0|[-0.2791991101223...|\n",
            "|       1.0|[-0.0861742424242...|\n",
            "|       0.0|[0.11436950146627...|\n",
            "|       0.0|[0.16544117647058...|\n",
            "|       1.0|[0.10658307210031...|\n",
            "|       0.0|[-0.1683569979716...|\n",
            "|       0.0|[-0.1568627450980...|\n",
            "|       0.0|[0.03552769070010...|\n",
            "|       0.0|[-0.2235294117647...|\n",
            "|       0.0|[8.92857142857139...|\n",
            "|       1.0|[0.21913236929922...|\n",
            "|       0.0|[-0.1143695014662...|\n",
            "|       1.0|[0.16835699797160...|\n",
            "|       0.0|[0.08617424242424...|\n",
            "|       1.0|[-0.0416666666666...|\n",
            "|       1.0|[0.05882352941176...|\n",
            "|       0.0|[-0.1265597147950...|\n",
            "|       1.0|[0.29655172413793...|\n",
            "|       0.0|[-0.3103448275862...|\n",
            "|       0.0|[-0.1408602150537...|\n",
            "|       1.0|[-0.0355276907001...|\n",
            "|       1.0|[0.16718913270637...|\n",
            "|       1.0|[0.10752688172043...|\n",
            "|       0.0|[0.03565062388591...|\n",
            "|       0.0|[-0.2965517241379...|\n",
            "|       0.0|[-0.0909090909090...|\n",
            "|       1.0|[0.03472222222222...|\n",
            "|       0.0|[-0.0356506238859...|\n",
            "|       0.0|[-0.0852272727272...|\n",
            "|       1.0|[0.05397727272727...|\n",
            "|       1.0|[0.18857758620689...|\n",
            "|       0.0|[-0.0882352941176...|\n",
            "|       0.0|[0.14086021505376...|\n",
            "|       0.0|[-0.1671891327063...|\n",
            "|       1.0|[0.27919911012235...|\n",
            "|       0.0|[-0.2867647058823...|\n",
            "|       0.0|[0.07157258064516...|\n",
            "|       0.0|[-0.0752688172043...|\n",
            "|       0.0|[-0.1515151515151...|\n",
            "|       1.0|[0.23949169110459...|\n",
            "|       0.0|[-0.3057040998217...|\n",
            "|       1.0|[0.28676470588235...|\n",
            "|       0.0|[-0.0021645021645...|\n",
            "|       1.0|[0.17342799188640...|\n",
            "|       1.0|[0.17647058823529...|\n",
            "|       0.0|[-0.0719696969696...|\n",
            "|       1.0|[0.16813294232649...|\n",
            "|       0.0|[-0.1075268817204...|\n",
            "|       0.0|[-0.1378676470588...|\n",
            "|       1.0|[0.17342799188640...|\n",
            "|       0.0|[0.14326375711574...|\n",
            "|       0.0|[-0.0716911764705...|\n",
            "|       0.0|[-0.0416666666666...|\n",
            "|       0.0|[-0.0098039215686...|\n",
            "|       0.0|[0.07435344827586...|\n",
            "|       0.0|[-0.2394916911045...|\n",
            "|       0.0|[0.00705645161290...|\n",
            "|       1.0|[0.31034482758620...|\n",
            "|       1.0|[0.14678030303030...|\n",
            "|       0.0|[0.09090909090909...|\n",
            "|       0.0|[-0.1764705882352...|\n",
            "|       0.0|[-0.0347222222222...|\n",
            "|       1.0|[0.15151515151515...|\n",
            "|       1.0|[0.15454545454545...|\n",
            "|       0.0|[0.08823529411764...|\n",
            "|       0.0|[-0.0070564516129...|\n",
            "|       0.0|[-0.0659536541889...|\n",
            "|       0.0|[-0.1104594330400...|\n",
            "|       1.0|[0.17619047619047...|\n",
            "|       0.0|[0.06595365418894...|\n",
            "|       1.0|[-0.0715725806451...|\n",
            "|       1.0|[0.07169117647058...|\n",
            "|       1.0|[-0.0743534482758...|\n",
            "|       1.0|[0.09625668449197...|\n",
            "|       1.0|[0.08571428571428...|\n",
            "|       0.0|[0.04166666666666...|\n",
            "|       0.0|[-0.1681329423264...|\n",
            "|       0.0|[-0.1734279918864...|\n",
            "|       0.0|[-0.0650623885918...|\n",
            "|       0.0|[0.11045943304007...|\n",
            "|       0.0|[0.07526881720430...|\n",
            "|       1.0|[0.22352941176470...|\n",
            "|       1.0|[0.14919354838709...|\n",
            "|       0.0|[-0.0588235294117...|\n",
            "|       0.0|[0.07196969696969...|\n",
            "|       1.0|[-0.0459558823529...|\n",
            "|       1.0|[0.30570409982174...|\n",
            "|       0.0|[-0.1491935483870...|\n",
            "|       0.0|[-0.1761904761904...|\n",
            "|       0.0|[-0.1389759665621...|\n",
            "|       0.0|[-0.1065830721003...|\n",
            "|       0.0|[-0.1467803030303...|\n",
            "|       0.0|[0.06506238859180...|\n",
            "|       0.0|[-0.1432637571157...|\n",
            "|       0.0|[-0.0578747628083...|\n",
            "|       1.0|[0.05787476280834...|\n",
            "|       0.0|[-0.0857142857142...|\n",
            "|       0.0|[0.04166666666666...|\n",
            "|       0.0|[0.04595588235294...|\n",
            "|       0.0|[0.21228448275862...|\n",
            "|       0.0|[0.08366935483870...|\n",
            "|       1.0|[0.23949169110459...|\n",
            "|       0.0|[-0.2122844827586...|\n",
            "|       1.0|[-8.9285714285713...|\n",
            "|       1.0|[0.08522727272727...|\n",
            "|       1.0|[0.00216450216450...|\n",
            "|       1.0|[-0.0836693548387...|\n",
            "|       1.0|[0.12655971479500...|\n",
            "|       0.0|[-0.0715725806451...|\n",
            "+----------+--------------------+\n",
            "\n"
          ]
        }
      ]
    },
    {
      "cell_type": "code",
      "source": [
        "output = predictions.select(\"Team1\",\"Team2\",\"prediction\",\"probability\").sort(predictions.Team1)\n",
        "\n",
        "output = output.withColumnRenamed(\"Team1\", \"TeamID\")\n",
        "output = output.join(Teams, ['TeamID'])\n",
        "\n",
        "output = output.withColumnRenamed(\"TeamID\", \"Team1\")\n",
        "output = output.withColumnRenamed(\"TeamName\", \"Team1Name\")\n",
        "output = output.withColumnRenamed(\"Team2\", \"TeamID\")\n",
        "output = output.join(Teams, ['TeamID'])\n",
        "\n",
        "output = output.withColumnRenamed(\"TeamID\", \"Team2\")\n",
        "output = output.withColumnRenamed(\"TeamName\", \"Team2Name\")\n",
        "\n",
        "output =  output.drop(\"FirstD1Season\",\"LastD1Season\")"
      ],
      "metadata": {
        "id": "wc7Fuigf-yF2"
      },
      "execution_count": 36,
      "outputs": []
    },
    {
      "cell_type": "code",
      "source": [
        "# has every game twice as this was the only way to make sure the model didn't know if the winner was team 1 or 2\n",
        "output.sort(output.Team1, output.Team2).show(126, truncate=False)"
      ],
      "metadata": {
        "colab": {
          "base_uri": "https://localhost:8080/"
        },
        "id": "PFxYQ0M0mWB-",
        "outputId": "ef4d70d1-7c59-424e-823c-f2cb9c2b7f6c"
      },
      "execution_count": 37,
      "outputs": [
        {
          "output_type": "stream",
          "name": "stdout",
          "text": [
            "+-----+-----+----------+----------------------------------------+---------------+---------------+\n",
            "|Team2|Team1|prediction|probability                             |Team1Name      |Team2Name      |\n",
            "+-----+-----+----------+----------------------------------------+---------------+---------------+\n",
            "|1417 |1103 |0.0       |[0.5092120348559779,0.4907879651440221] |Akron          |UCLA           |\n",
            "|1323 |1104 |1.0       |[0.4986011139249371,0.5013988860750629] |Alabama        |Notre Dame     |\n",
            "|1222 |1112 |1.0       |[0.4993591082776725,0.5006408917223275] |Arizona        |Houston        |\n",
            "|1395 |1112 |1.0       |[0.4963271833816865,0.5036728166183135] |Arizona        |TCU            |\n",
            "|1460 |1112 |1.0       |[0.4910220988021832,0.5089779011978168] |Arizona        |Wright St      |\n",
            "|1181 |1116 |0.0       |[0.5039070143144767,0.4960929856855233] |Arkansas       |Duke           |\n",
            "|1211 |1116 |0.0       |[0.504664956124323,0.49533504387567695] |Arkansas       |Gonzaga        |\n",
            "|1308 |1116 |1.0       |[0.4963271833816865,0.5036728166183135] |Arkansas       |New Mexico St  |\n",
            "|1436 |1116 |1.0       |[0.4955692356513815,0.5044307643486186] |Arkansas       |Vermont        |\n",
            "|1240 |1120 |1.0       |[0.49253768319921604,0.5074623168007839]|Auburn         |Jacksonville St|\n",
            "|1274 |1120 |1.0       |[0.4963271833816865,0.5036728166183135] |Auburn         |Miami FL       |\n",
            "|1313 |1124 |1.0       |[0.4910220988021832,0.5089779011978168] |Baylor         |Norfolk St     |\n",
            "|1314 |1124 |1.0       |[0.4970851479930957,0.5029148520069042] |Baylor         |North Carolina |\n",
            "|1272 |1129 |0.0       |[0.5016330950744741,0.49836690492552593]|Boise St       |Memphis        |\n",
            "|1228 |1151 |0.0       |[0.5092120348559779,0.4907879651440221] |Chattanooga    |Illinois       |\n",
            "|1458 |1159 |0.0       |[0.5107274262644786,0.48927257373552135]|Colgate        |Wisconsin      |\n",
            "|1276 |1161 |1.0       |[0.4986011139249371,0.5013988860750629] |Colorado St    |Michigan       |\n",
            "|1308 |1163 |1.0       |[0.4970851479930957,0.5029148520069042] |Connecticut    |New Mexico St  |\n",
            "|1242 |1166 |0.0       |[0.5084542739194402,0.4915457260805598] |Creighton      |Kansas         |\n",
            "|1361 |1166 |0.0       |[0.5031490545472276,0.4968509454527724] |Creighton      |San Diego St   |\n",
            "|1181 |1168 |0.0       |[0.5122426205312236,0.4877573794687764] |CS Fullerton   |Duke           |\n",
            "|1277 |1172 |0.0       |[0.504664956124323,0.49533504387567695] |Davidson       |Michigan St    |\n",
            "|1437 |1174 |0.0       |[0.5122426205312236,0.4877573794687764] |Delaware       |Villanova      |\n",
            "|1116 |1181 |0.0       |[0.5008751023365479,0.49912489766345214]|Duke           |Arkansas       |\n",
            "|1168 |1181 |1.0       |[0.49253768319921604,0.5074623168007839]|Duke           |CS Fullerton   |\n",
            "|1277 |1181 |1.0       |[0.4986011139249371,0.5013988860750629] |Duke           |Michigan St    |\n",
            "|1314 |1181 |1.0       |[0.49784312600209835,0.5021568739979017]|Duke           |North Carolina |\n",
            "|1403 |1181 |0.0       |[0.5016330950744741,0.49836690492552593]|Duke           |Texas Tech     |\n",
            "|1211 |1209 |0.0       |[0.5137575898422806,0.4862424101577194] |Georgia St     |Gonzaga        |\n",
            "|1116 |1211 |0.0       |[0.5001171055762467,0.49988289442375333]|Gonzaga        |Arkansas       |\n",
            "|1209 |1211 |1.0       |[0.4910220988021832,0.5089779011978168] |Gonzaga        |Georgia St     |\n",
            "|1272 |1211 |1.0       |[0.4963271833816865,0.5036728166183135] |Gonzaga        |Memphis        |\n",
            "|1112 |1222 |0.0       |[0.5054228764936748,0.4945771235063252] |Houston        |Arizona        |\n",
            "|1228 |1222 |0.0       |[0.5031490545472276,0.4968509454527724] |Houston        |Illinois       |\n",
            "|1412 |1222 |1.0       |[0.4970851479930957,0.5029148520069042] |Houston        |UAB            |\n",
            "|1437 |1222 |0.0       |[0.504664956124323,0.49533504387567695] |Houston        |Villanova      |\n",
            "|1151 |1228 |1.0       |[0.4955692356513815,0.5044307643486186] |Illinois       |Chattanooga    |\n",
            "|1222 |1228 |0.0       |[0.5016330950744741,0.49836690492552593]|Illinois       |Houston        |\n",
            "|1388 |1231 |0.0       |[0.5076964741341412,0.4923035258658588] |Indiana        |St Mary's CA   |\n",
            "|1350 |1234 |1.0       |[0.4970851479930957,0.5029148520069042] |Iowa           |Richmond       |\n",
            "|1261 |1235 |0.0       |[0.5061807719398342,0.49381922806016576]|Iowa St        |LSU            |\n",
            "|1274 |1235 |0.0       |[0.5031490545472276,0.4968509454527724] |Iowa St        |Miami FL       |\n",
            "|1458 |1235 |0.0       |[0.5084542739194402,0.4915457260805598] |Iowa St        |Wisconsin      |\n",
            "|1120 |1240 |0.0       |[0.5122426205312236,0.4877573794687764] |Jacksonville St|Auburn         |\n",
            "|1166 |1242 |1.0       |[0.4963271833816865,0.5036728166183135] |Kansas         |Creighton      |\n",
            "|1274 |1242 |1.0       |[0.4955692356513815,0.5044307643486186] |Kansas         |Miami FL       |\n",
            "|1314 |1242 |1.0       |[0.4970851479930957,0.5029148520069042] |Kansas         |North Carolina |\n",
            "|1344 |1242 |0.0       |[0.5001171055762467,0.49988289442375333]|Kansas         |Providence     |\n",
            "|1411 |1242 |1.0       |[0.4910220988021832,0.5089779011978168] |Kansas         |TX Southern    |\n",
            "|1437 |1242 |0.0       |[0.5016330950744741,0.49836690492552593]|Kansas         |Villanova      |\n",
            "|1389 |1246 |1.0       |[0.49253768319921604,0.5074623168007839]|Kentucky       |St Peter's     |\n",
            "|1397 |1255 |0.0       |[0.5107274262644786,0.48927257373552135]|Longwood       |Tennessee      |\n",
            "|1326 |1260 |0.0       |[0.504664956124323,0.49533504387567695] |Loyola-Chicago |Ohio St        |\n",
            "|1235 |1261 |1.0       |[0.4986011139249371,0.5013988860750629] |LSU            |Iowa St        |\n",
            "|1314 |1266 |0.0       |[0.5031490545472276,0.4968509454527724] |Marquette      |North Carolina |\n",
            "|1129 |1272 |0.0       |[0.5031490545472276,0.4968509454527724] |Memphis        |Boise St       |\n",
            "|1211 |1272 |0.0       |[0.5084542739194402,0.4915457260805598] |Memphis        |Gonzaga        |\n",
            "|1120 |1274 |0.0       |[0.5084542739194402,0.4915457260805598] |Miami FL       |Auburn         |\n",
            "|1235 |1274 |0.0       |[0.5016330950744741,0.49836690492552593]|Miami FL       |Iowa St        |\n",
            "|1242 |1274 |0.0       |[0.5092120348559779,0.4907879651440221] |Miami FL       |Kansas         |\n",
            "|1425 |1274 |0.0       |[0.504664956124323,0.49533504387567695] |Miami FL       |USC            |\n",
            "|1161 |1276 |0.0       |[0.5061807719398342,0.49381922806016576]|Michigan       |Colorado St    |\n",
            "|1397 |1276 |0.0       |[0.5084542739194402,0.4915457260805598] |Michigan       |Tennessee      |\n",
            "|1437 |1276 |0.0       |[0.5092120348559779,0.4907879651440221] |Michigan       |Villanova      |\n",
            "|1172 |1277 |0.0       |[0.5001171055762467,0.49988289442375333]|Michigan St    |Davidson       |\n",
            "|1181 |1277 |0.0       |[0.5061807719398342,0.49381922806016576]|Michigan St    |Duke           |\n",
            "|1403 |1286 |0.0       |[0.5107274262644786,0.48927257373552135]|Montana St     |Texas Tech     |\n",
            "|1362 |1293 |0.0       |[0.5001171055762467,0.49988289442375333]|Murray St      |San Francisco  |\n",
            "|1389 |1293 |1.0       |[0.4963271833816865,0.5036728166183135] |Murray St      |St Peter's     |\n",
            "|1116 |1308 |0.0       |[0.5084542739194402,0.4915457260805598] |New Mexico St  |Arkansas       |\n",
            "|1163 |1308 |0.0       |[0.5076964741341412,0.4923035258658588] |New Mexico St  |Connecticut    |\n",
            "|1124 |1313 |0.0       |[0.5137575898422806,0.4862424101577194] |Norfolk St     |Baylor         |\n",
            "|1124 |1314 |0.0       |[0.5076964741341412,0.4923035258658588] |North Carolina |Baylor         |\n",
            "|1181 |1314 |0.0       |[0.5069386389805622,0.49306136101943776]|North Carolina |Duke           |\n",
            "|1242 |1314 |0.0       |[0.5076964741341412,0.4923035258658588] |North Carolina |Kansas         |\n",
            "|1266 |1314 |0.0       |[0.5016330950744741,0.49836690492552593]|North Carolina |Marquette      |\n",
            "|1389 |1314 |1.0       |[0.4970851479930957,0.5029148520069042] |North Carolina |St Peter's     |\n",
            "|1417 |1314 |0.0       |[0.5054228764936748,0.4945771235063252] |North Carolina |UCLA           |\n",
            "|1104 |1323 |0.0       |[0.5061807719398342,0.49381922806016576]|Notre Dame     |Alabama        |\n",
            "|1403 |1323 |0.0       |[0.5084542739194402,0.4915457260805598] |Notre Dame     |Texas Tech     |\n",
            "|1260 |1326 |0.0       |[0.5001171055762467,0.49988289442375333]|Ohio St        |Loyola-Chicago |\n",
            "|1437 |1326 |0.0       |[0.5061807719398342,0.49381922806016576]|Ohio St        |Villanova      |\n",
            "|1242 |1344 |0.0       |[0.504664956124323,0.49533504387567695] |Providence     |Kansas         |\n",
            "|1350 |1344 |1.0       |[0.4963271833816865,0.5036728166183135] |Providence     |Richmond       |\n",
            "|1355 |1344 |1.0       |[0.4955692356513815,0.5044307643486186] |Providence     |S Dakota St    |\n",
            "|1389 |1345 |1.0       |[0.49329552857716197,0.506704471422838] |Purdue         |St Peter's     |\n",
            "|1400 |1345 |0.0       |[0.5001171055762467,0.49988289442375333]|Purdue         |Texas          |\n",
            "|1463 |1345 |1.0       |[0.49405340476651216,0.5059465952334878]|Purdue         |Yale           |\n",
            "|1234 |1350 |0.0       |[0.5076964741341412,0.4923035258658588] |Richmond       |Iowa           |\n",
            "|1344 |1350 |0.0       |[0.5084542739194402,0.4915457260805598] |Richmond       |Providence     |\n",
            "|1344 |1355 |0.0       |[0.5092120348559779,0.4907879651440221] |S Dakota St    |Providence     |\n",
            "|1166 |1361 |0.0       |[0.5016330950744741,0.49836690492552593]|San Diego St   |Creighton      |\n",
            "|1293 |1362 |0.0       |[0.504664956124323,0.49533504387567695] |San Francisco  |Murray St      |\n",
            "|1395 |1371 |0.0       |[0.5016330950744741,0.49836690492552593]|Seton Hall     |TCU            |\n",
            "|1231 |1388 |1.0       |[0.4970851479930957,0.5029148520069042] |St Mary's CA   |Indiana        |\n",
            "|1417 |1388 |0.0       |[0.5031490545472276,0.4968509454527724] |St Mary's CA   |UCLA           |\n",
            "|1246 |1389 |0.0       |[0.5122426205312236,0.4877573794687764] |St Peter's     |Kentucky       |\n",
            "|1293 |1389 |0.0       |[0.5084542739194402,0.4915457260805598] |St Peter's     |Murray St      |\n",
            "|1314 |1389 |0.0       |[0.5076964741341412,0.4923035258658588] |St Peter's     |North Carolina |\n",
            "|1345 |1389 |0.0       |[0.5114850497793049,0.48851495022069513]|St Peter's     |Purdue         |\n",
            "|1112 |1395 |0.0       |[0.5084542739194402,0.4915457260805598] |TCU            |Arizona        |\n",
            "|1371 |1395 |0.0       |[0.5031490545472276,0.4968509454527724] |TCU            |Seton Hall     |\n",
            "|1255 |1397 |1.0       |[0.49405340476651216,0.5059465952334878]|Tennessee      |Longwood       |\n",
            "|1276 |1397 |1.0       |[0.4963271833816865,0.5036728166183135] |Tennessee      |Michigan       |\n",
            "|1345 |1400 |0.0       |[0.504664956124323,0.49533504387567695] |Texas          |Purdue         |\n",
            "|1439 |1400 |1.0       |[0.4986011139249371,0.5013988860750629] |Texas          |Virginia Tech  |\n",
            "|1181 |1403 |0.0       |[0.5031490545472276,0.4968509454527724] |Texas Tech     |Duke           |\n",
            "|1286 |1403 |1.0       |[0.49405340476651216,0.5059465952334878]|Texas Tech     |Montana St     |\n",
            "|1323 |1403 |1.0       |[0.4963271833816865,0.5036728166183135] |Texas Tech     |Notre Dame     |\n",
            "|1242 |1411 |0.0       |[0.5137575898422806,0.4862424101577194] |TX Southern    |Kansas         |\n",
            "|1222 |1412 |0.0       |[0.5076964741341412,0.4923035258658588] |UAB            |Houston        |\n",
            "|1103 |1417 |1.0       |[0.4955692356513815,0.5044307643486186] |UCLA           |Akron          |\n",
            "|1314 |1417 |1.0       |[0.4993591082776725,0.5006408917223275] |UCLA           |North Carolina |\n",
            "|1388 |1417 |0.0       |[0.5016330950744741,0.49836690492552593]|UCLA           |St Mary's CA   |\n",
            "|1274 |1425 |0.0       |[0.5001171055762467,0.49988289442375333]|USC            |Miami FL       |\n",
            "|1116 |1436 |0.0       |[0.5092120348559779,0.4907879651440221] |Vermont        |Arkansas       |\n",
            "|1174 |1437 |1.0       |[0.49253768319921604,0.5074623168007839]|Villanova      |Delaware       |\n",
            "|1222 |1437 |0.0       |[0.5001171055762467,0.49988289442375333]|Villanova      |Houston        |\n",
            "|1242 |1437 |0.0       |[0.5031490545472276,0.4968509454527724] |Villanova      |Kansas         |\n",
            "|1276 |1437 |1.0       |[0.4955692356513815,0.5044307643486186] |Villanova      |Michigan       |\n",
            "|1326 |1437 |1.0       |[0.4986011139249371,0.5013988860750629] |Villanova      |Ohio St        |\n",
            "|1400 |1439 |0.0       |[0.5061807719398342,0.49381922806016576]|Virginia Tech  |Texas          |\n",
            "|1159 |1458 |1.0       |[0.49405340476651216,0.5059465952334878]|Wisconsin      |Colgate        |\n",
            "|1235 |1458 |1.0       |[0.4963271833816865,0.5036728166183135] |Wisconsin      |Iowa St        |\n",
            "|1112 |1460 |0.0       |[0.5137575898422806,0.4862424101577194] |Wright St      |Arizona        |\n",
            "|1345 |1463 |0.0       |[0.5107274262644786,0.48927257373552135]|Yale           |Purdue         |\n",
            "+-----+-----+----------+----------------------------------------+---------------+---------------+\n",
            "\n"
          ]
        }
      ]
    },
    {
      "cell_type": "code",
      "source": [
        "from sklearn.metrics import confusion_matrix\n",
        "import matplotlib.pyplot as plt\n",
        "import seaborn as sns\n",
        "\n",
        "y_test = test_data.select('Result').collect()\n",
        "preds = predictions.select('prediction').collect()\n",
        "\n",
        "cm = confusion_matrix(y_test, preds)\n",
        "plt.figure(figsize=(9,9))\n",
        "sns.heatmap(cm, annot=True, fmt=\".3f\", linewidths=.5, square=True, cmap='Blues_r');\n",
        "plt.ylabel('Actual label');\n",
        "plt.xlabel('Predicted label');\n",
        "plt.title('2022 Predictions: Confusion matrix');"
      ],
      "metadata": {
        "colab": {
          "base_uri": "https://localhost:8080/",
          "height": 520
        },
        "id": "tHt4yx8pctqK",
        "outputId": "3bbe24ec-9c12-41b0-f6a8-ab562d9ab737"
      },
      "execution_count": 38,
      "outputs": [
        {
          "output_type": "display_data",
          "data": {
            "text/plain": [
              "<Figure size 648x648 with 2 Axes>"
            ],
            "image/png": "[encoded data removed]"
          },
          "metadata": {
            "needs_background": "light"
          }
        }
      ]
    },
    {
      "cell_type": "markdown",
      "source": [
        "Predictions:\n",
        "Each game is predicted twice, as they are put through the model two times for the model to not be able to predict \n",
        "\n",
        "## Round of 64: \n",
        "\n",
        "Gonzaga (1211) vs Georgia State (1209):\n",
        "*   Predicted: Gonzaga, Gonzaga\n",
        "*   Result: Gonzaga\n",
        "\n",
        "Boise State (1129) vs Memphis (1272):\n",
        "*   Predicted: Memphis, **Boise State**\n",
        "*   Result: Memphis\n",
        "\n",
        "UCONN (1163) vs New Mexico State (1308):\n",
        "*   Predicted: UConn, UConn\n",
        "*   Result: New Mexico State\n",
        "\n",
        "Arkansas (1116) vs Vermont (1436):\n",
        "*   Predicted: Arkansas, Arkansas\n",
        "*   Result: Arkansas\n",
        "\n",
        "Alabama (1104) vs Notre Dame (1323):\n",
        "*   Predicted: Alabama, Alabama\n",
        "*   Result: Notre Dame\n",
        "\n",
        "Texas Tech (1403) vs Montana State (1286):\n",
        "*   Predicted: Texas Tech, Texas Tech\n",
        "*   Result: Texas Tech\n",
        "\n",
        "Michigan State (1277) vs Davidson (1172):\n",
        "*   Predicted: **Michigan State**, Davidson\n",
        "*   Result: Michigan State\n",
        "\n",
        "Duke (1181) vs CSU Fullerton (1168):\n",
        "*   Predicted: Duke, Duke\n",
        "*   Result: Duke\n",
        "\n",
        "Baylor (1124) vs Norfolk State (1313):\n",
        "*   Predicted: Baylor, Baylor\n",
        "*   Result: Baylor\n",
        "\n",
        "North Carolina (1314) vs Marquette (1266):\n",
        "*   Predicted: Marquette, **North Carolina**\n",
        "*   Result: North Carolina\n",
        "\n",
        "Saint Marry's (1388) vs Indiana (1231):\n",
        "*   Predicted: Saint Mary's, Saint Mary's\n",
        "*   Result: Saint Marry's\n",
        "\n",
        "UCLA (1417) vs Akron (1103):\n",
        "*   Predicted: UCLA, UCLA\n",
        "*   Result: UCLA\n",
        "\n",
        "Texas (1400) vs Virginia Tech (1439):\n",
        "*   Predicted: Texas, Texas\n",
        "*   Result: Texas\n",
        "\n",
        "Purdue (1345) vs Yale (1463):\n",
        "*   Predicted: Purdue, Purdue\n",
        "*   Result: Purdue\n",
        "\n",
        "Murray State (1293) vs San Francisco (1362):\n",
        "*   Predicted: **Murray State**, San Francisco\n",
        "*   Result: Murray State\n",
        "\n",
        "Kentucky (1246) vs Saint Peter's (1389):\n",
        "*   Predicted: Kentucky, Kentucky\n",
        "*   Result: Saint Peter's\n",
        "\n",
        "Arizona (1112) vs  Wright State (1460):\n",
        "*   Predicted: Arizona, Arizona\n",
        "*   Result: Arizona\n",
        "\n",
        "Seton Hall (1371) vs TCU (1395):\n",
        "*   Predicted: TCU, **Seton Hall**\n",
        "*   Result: TCU\n",
        "\n",
        "Houston (1222) vs UAB (1412):\n",
        "*   Predicted: Houston, Houston\n",
        "*   Result: Houston\n",
        "\n",
        "Illinois (1228) vs Chattanooga (1151):\n",
        "*   Predicted: Illinois, Illinois\n",
        "*   Result: Illinois\n",
        "\n",
        "Colorado State (1161) vs Michigan (1276):\n",
        "*   Predicted: Colorado State, Colorado State\n",
        "*   Result: Michigan\n",
        "\n",
        "Tennessee (1397) vs Longwood (1255):\n",
        "*   Predicted: Tennessee, Tennessee\n",
        "*   Result: Tennessee\n",
        "\n",
        "Ohio State (1326) vs Loyola Chicago (1260):\n",
        "*   Predicted: **Ohio State**, Loyola Chicago\n",
        "*   Result: Ohio State\n",
        "\n",
        "Villanova (1437) vs Delaware (1174):\n",
        "*   Predicted: Villanova, Villanova\n",
        "*   Result: Villanova\n",
        "\n",
        "Kansas (1242) vs Texas Southern (1411):\n",
        "*   Predicted: Kansas, Kansas\n",
        "*   Result: Kansas\n",
        "\n",
        "San Diego State (1361) vs Creighton (1166):\n",
        "*   Predicted: Creighton, **San Diego State**\n",
        "*   Result: Creighton\n",
        "\n",
        "Iowa (1234) vs Richmond (1350):\n",
        "*   Predicted: Iowa, Iowa\n",
        "*   Result: Richmond\n",
        "\n",
        "Providence (1344) vs South Dakota State (1355):\n",
        "*   Predicted: Providence, Providence\n",
        "*   Result: Providence\n",
        "\n",
        "LSU (1261) vs Iowa State (1235):\n",
        "*   Predicted: LSU, LSU\n",
        "*   Result: Iowa State\n",
        "\n",
        "Wisconsin (1458) vs Colgate (1159):\n",
        "*   Predicted: Wisconsin, Wisconsin\n",
        "*   Result: Wisconsin\n",
        "\n",
        "USC (1425) vs Miami (1274):\n",
        "*   Predicted: **USC**, Miami\n",
        "*   Result: Miami\n",
        "\n",
        "Auburn (1120) vs Jacksonville State (1240):\n",
        "*   Predicted: Auburn, Auburn\n",
        "*   Result: Auburn\n",
        "\n",
        "\n",
        "## Round of 32:\n",
        "\n",
        "Gonzaga (1211) vs Memphis (1272):\n",
        "*   Predicted: Gonzaga, Gonzaga\n",
        "*   Result: Gonzaga\n",
        "\n",
        "Arkansas (1116) vs New Mexico State (1308):\n",
        "*   Predicted: Arkansas, Arkansas\n",
        "*   Result: Arkansas\n",
        "\n",
        "Texas Tech (1403) vs Notre Dame (1323):\n",
        "*   Predicted: Texas Tech, Texas Tech\n",
        "*   Result: Texas Tech\n",
        "\n",
        "Michigan State (1277) vs Duke (1181):\n",
        "*   Predicted: Duke, Duke\n",
        "*   Result: Duke\n",
        "\n",
        "Baylor (1124) vs North Carolina (1314):\n",
        "*   Predicted: Baylor, Baylor\n",
        "*   Result: North Carolina\n",
        "\n",
        "Saint Mary's (1388) vs UCLA (1417):\n",
        "*   Predicted: Saint Mary's, **UCLA**\n",
        "*   Result: UCLA\n",
        "\n",
        "Texas (1400) vs Purdue (1345):\n",
        "*   Predicted: Texas, **Purdue**\n",
        "*   Result: Purdue\n",
        "\n",
        "Murray State (1293) vs Saint Peter's (1389):\n",
        "*   Predicted: Murray State, Murray State\n",
        "*   Result: Saint Peter's\n",
        "\n",
        "Arizona (1112) vs TCU (1395):\n",
        "*   Predicted: Arizona, Arizona\n",
        "*   Result: Arizona\n",
        "\n",
        "Houston (1222) vs Illinois (1228):\n",
        "*   Predicted: Houston, **Illinois**\n",
        "*   Result: Houston\n",
        "\n",
        "Tennessee (1397) vs Michigan (1276):\n",
        "*   Predicted: Tennessee, Tennessee\n",
        "*   Result: Michigan\n",
        "\n",
        "Ohio State (1326) vs Villanova (1437):\n",
        "*   Predicted: Villanova, Villanova\n",
        "*   Result: Villanova\n",
        "\n",
        "Kansas (1242) vs Creighton (1166):\n",
        "*   Predicted: Kansas, Kansas\n",
        "*   Result: Kansas\n",
        "\n",
        "Providence (1344) vs Richmond (1350):\n",
        "*   Predicted: Providence, Providence\n",
        "*   Result: Providence\n",
        "\n",
        "Wisconsin (1458) vs Iowa State (1235):\n",
        "*   Predicted: Wisconsin, Wisconsin\n",
        "*   Result: Iowa State\n",
        "\n",
        "Auburn (1120) vs Miami (1274):\n",
        "*   Predicted: Auburn, Auburn\n",
        "*   Result: Miami\n",
        "\n",
        "\n",
        "## Sweet 16:\n",
        "\n",
        "Gonzaga (1211) vs Arkansas (1116):\n",
        "*   Predicted: Gonzaga, **Arkansas**\n",
        "*   Result: Arkansas\n",
        "\n",
        "Texas Tech (1403) vs Duke (1181):\n",
        "*   Predicted: Texas Tech, **Duke**\n",
        "*   Result: Duke\n",
        "\n",
        "UCLA (1417) vs North Carolina (1314):\n",
        "*   Predicted: UCLA, UCLA\n",
        "*   Result: North Carolina\n",
        "\n",
        "Saint Peter's (1389) vs Purdue (1345):\n",
        "*   Predicted: Purdue, Purdue\n",
        "*   Result: Saint Peter's\n",
        "\n",
        "Arizona (1112) vs Houston (1222):\n",
        "*   Predicted: Arizona, Arizona\n",
        "*   Result: Houston\n",
        "\n",
        "Villanova (1437) vs Michigan (1276):\n",
        "*   Predicted: Villanova, Villanova\n",
        "*   Result: Villanova\n",
        "\n",
        "Kansas (1242) vs Providence (1344):\n",
        "*   Predicted: **Kansas**, Providence\n",
        "*   Result: Kansas\n",
        "\n",
        "Miami (1274) vs Iowa State (1235):\n",
        "*   Predicted: **Miami**, Iowa State\n",
        "*   Result: Miami\n",
        "\n",
        "\n",
        "## Elite 8:\n",
        "\n",
        "Duke (1181) vs Arkansas (1116):\n",
        "*   Predicted: **Duke**, Arkansas\n",
        "*   Result: Duke\n",
        "\n",
        "Saint Peter's (1389) vs North Carolina (1314):\n",
        "*   Predicted: North Carolina, North Carolina\n",
        "*   Result: North Carolina\n",
        "\n",
        "Villanova (1437) vs Houston (1222):\n",
        "*   Predicted: **Villanova**, Houston\n",
        "*   Result: Villanova\n",
        "\n",
        "Kansas (1242) vs Miami (1274):\n",
        "*   Predicted: Kansas, Kansas\n",
        "*   Result: Kansas\n",
        "\n",
        "\n",
        "## Final Four:\n",
        "\n",
        "Duke (1181) vs North Carolina (1314):\n",
        "*   Predicted: Duke, Duke\n",
        "*   Result: North Carolina\n",
        "\n",
        "Villanova (1437) vs Kansas (1242):\n",
        "*   Predicted: Villanova, **Kansas**\n",
        "*   Result: Kansas\n",
        "\n",
        "\n",
        "## Championship:\n",
        "\n",
        "Kansas (1242) vs North Carolina (1314):\n",
        "*   Predicted: Kansas, Kansas\n",
        "*   Result: Kansas"
      ],
      "metadata": {
        "id": "sqAbD3YwpZ7g"
      }
    }
  ],
  "metadata": {
    "colab": {
      "name": "FinalProjectMadness.ipynb",
      "provenance": [],
      "collapsed_sections": [],
      "include_colab_link": true
    },
    "kernelspec": {
      "display_name": "Python 3",
      "name": "python3"
    },
    "language_info": {
      "name": "python"
    }
  },
  "nbformat": 4,
  "nbformat_minor": 0
}