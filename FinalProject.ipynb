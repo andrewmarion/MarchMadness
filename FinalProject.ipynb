{
  "cells": [
    {
      "cell_type": "markdown",
      "metadata": {
        "id": "view-in-github",
        "colab_type": "text"
      },
      "source": [
        "<a href=\"https://colab.research.google.com/github/andrewmarion/MarchMadness/blob/main/FinalProject.ipynb\" target=\"_parent\"><img src=\"https://colab.research.google.com/assets/colab-badge.svg\" alt=\"Open In Colab\"/></a>"
      ]
    },
    {
      "cell_type": "markdown",
      "metadata": {
        "id": "_r8xWz3M_ZR1"
      },
      "source": [
        "# March Madness\n",
        "## Final Project\n",
        "### Group 15: Andrew Marion, Dallas Hutchinson, Aydan Koyles\n"
      ]
    },
    {
      "cell_type": "markdown",
      "metadata": {
        "id": "VMwv7b_M6nxw"
      },
      "source": [
        "# Setting Up File"
      ]
    },
    {
      "cell_type": "code",
      "execution_count": 1,
      "metadata": {
        "id": "XFeSHdrg4QCK"
      },
      "outputs": [],
      "source": [
        "!apt-get install openjdk-8-jdk-headless -qq > /dev/null\n",
        "!wget -q https://archive.apache.org/dist/spark/spark-3.2.0/spark-3.2.0-bin-hadoop3.2.tgz\n",
        "!tar xf spark-3.2.0-bin-hadoop3.2.tgz\n",
        "!pip install -q findspark"
      ]
    },
    {
      "cell_type": "code",
      "execution_count": 2,
      "metadata": {
        "id": "Iyz-0-no4f6U",
        "colab": {
          "base_uri": "https://localhost:8080/"
        },
        "outputId": "58db0d5a-da59-4a20-da7d-17d1d6d913ba"
      },
      "outputs": [
        {
          "output_type": "stream",
          "name": "stdout",
          "text": [
            "Drive already mounted at /content/gdrive; to attempt to forcibly remount, call drive.mount(\"/content/gdrive\", force_remount=True).\n"
          ]
        }
      ],
      "source": [
        "from google.colab import drive\n",
        "\n",
        "drive.mount('/content/gdrive')"
      ]
    },
    {
      "cell_type": "code",
      "execution_count": 3,
      "metadata": {
        "id": "Sf6DkghV4ikT"
      },
      "outputs": [],
      "source": [
        "import os\n",
        "os.environ[\"JAVA_HOME\"] = \"/usr/lib/jvm/java-8-openjdk-amd64\"\n",
        "os.environ[\"SPARK_HOME\"] = \"spark-3.2.0-bin-hadoop3.2\""
      ]
    },
    {
      "cell_type": "code",
      "execution_count": 4,
      "metadata": {
        "id": "nBXgfIgm4kBS"
      },
      "outputs": [],
      "source": [
        "import findspark\n",
        "findspark.init()"
      ]
    },
    {
      "cell_type": "code",
      "execution_count": 5,
      "metadata": {
        "colab": {
          "base_uri": "https://localhost:8080/",
          "height": 197
        },
        "id": "gHPsL6db5j-7",
        "outputId": "73f907cb-d96f-4056-92db-082a05c18614"
      },
      "outputs": [
        {
          "output_type": "execute_result",
          "data": {
            "text/plain": [
              "<SparkContext master=local[*] appName=pyspark-shell>"
            ],
            "text/html": [
              "\n",
              "        <div>\n",
              "            <p><b>SparkContext</b></p>\n",
              "\n",
              "            <p><a href=\"http://5a4e301e6400:4040\">Spark UI</a></p>\n",
              "\n",
              "            <dl>\n",
              "              <dt>Version</dt>\n",
              "                <dd><code>v3.2.0</code></dd>\n",
              "              <dt>Master</dt>\n",
              "                <dd><code>local[*]</code></dd>\n",
              "              <dt>AppName</dt>\n",
              "                <dd><code>pyspark-shell</code></dd>\n",
              "            </dl>\n",
              "        </div>\n",
              "        "
            ]
          },
          "metadata": {},
          "execution_count": 5
        }
      ],
      "source": [
        "from pyspark.sql import SparkSession\n",
        "spark = SparkSession.builder.master(\"local[*]\").getOrCreate()\n",
        "sc = spark.sparkContext\n",
        "sc"
      ]
    },
    {
      "cell_type": "markdown",
      "metadata": {
        "id": "JttbqUXL_gYp"
      },
      "source": [
        "# Imports"
      ]
    },
    {
      "cell_type": "code",
      "execution_count": 26,
      "metadata": {
        "id": "iAcoi-tS5m_s"
      },
      "outputs": [],
      "source": [
        "import json\n",
        "from pyspark.mllib.classification import LogisticRegressionModel,LogisticRegressionWithLBFGS, SVMWithSGD, SVMModel\n",
        "from pyspark.mllib.regression import LabeledPoint, LinearRegressionWithSGD, LinearRegressionModel\n",
        "from pyspark.mllib.clustering import *\n",
        "import pyspark.sql\n",
        "from pyspark.sql import Row\n",
        "from pyspark.sql.types import *\n",
        "from pyspark.sql import SparkSession\n",
        "from pyspark.mllib.stat import Statistics\n",
        "from pyspark.ml.linalg import Vectors\n",
        "from pyspark.ml.stat import Correlation\n",
        "from pyspark.ml.clustering import LDA\n",
        "import numpy as np\n",
        "import pyspark.sql.functions as f\n",
        "from pyspark.sql.functions import lit"
      ]
    },
    {
      "cell_type": "markdown",
      "metadata": {
        "id": "6RwqudsixElg"
      },
      "source": [
        "# Read in csv file"
      ]
    },
    {
      "cell_type": "code",
      "execution_count": 89,
      "metadata": {
        "id": "nPFml9US6Vsk"
      },
      "outputs": [],
      "source": [
        "RegularSeason = spark.read.option(\"header\",True).csv(\"/content/gdrive/MyDrive/MDataFiles_Stage1/MRegularSeasonDetailedResults.csv\", inferSchema = True)\n",
        "Seeds = spark.read.option(\"header\",True).csv(\"/content/gdrive/MyDrive/MDataFiles_Stage1/MNCAATourneySeeds.csv\", inferSchema = True)\n",
        "Tourney = spark.read.option(\"header\",True).csv(\"/content/gdrive/MyDrive/MDataFiles_Stage1/MNCAATourneyDetailedResults.csv\", inferSchema = True)\n",
        "Massey = spark.read.option(\"header\",True).csv(\"/content/gdrive/MyDrive/MDataFiles_Stage1/MMasseyOrdinals.csv\", inferSchema = True)\n",
        "Conferences = spark.read.option(\"header\",True).csv(\"/content/gdrive/MyDrive/MDataFiles_Stage1/MNCAATourneySeeds.csv\", inferSchema = True)\n",
        "Coaches = spark.read.option(\"header\",True).csv(\"/content/gdrive/MyDrive/MDataFiles_Stage1/MTeamCoaches.csv\", inferSchema = True)\n",
        "TourneyCompact = spark.read.option(\"header\",True).csv(\"/content/gdrive/MyDrive/MDataFiles_Stage1/MNCAATourneyCompactResults.csv\", inferSchema = True)\n"
      ]
    },
    {
      "cell_type": "markdown",
      "metadata": {
        "id": "5nWnumC2_kTJ"
      },
      "source": [
        "# Clean / Explore Data"
      ]
    },
    {
      "cell_type": "markdown",
      "source": [
        "## Season Input"
      ],
      "metadata": {
        "id": "8hnp-xo1s9cO"
      }
    },
    {
      "cell_type": "code",
      "execution_count": 9,
      "metadata": {
        "id": "Th6pwnvVqQIu"
      },
      "outputs": [],
      "source": [
        "WinTeams = RegularSeason.groupBy('Season', 'WTeamID').sum('WScore','LScore','NumOT','WFGM','WFGA','WFGM3','WFGA3','WFTM','WFTA','WOR','WDR','WAst','WTO','WStl','WBlk','WPF','LFGM','LFGA','LFGM3','LFGA3','LFTM','LFTA','LOR','LDR','LAst','LTO','LStl','LBlk','LPF')\n",
        "LoseTeams = RegularSeason.groupBy('Season', 'LTeamID').sum('WScore','LScore','NumOT','WFGM','WFGA','WFGM3','WFGA3','WFTM','WFTA','WOR','WDR','WAst','WTO','WStl','WBlk','WPF','LFGM','LFGA','LFGM3','LFGA3','LFTM','LFTA','LOR','LDR','LAst','LTO','LStl','LBlk','LPF')"
      ]
    },
    {
      "cell_type": "code",
      "execution_count": 10,
      "metadata": {
        "colab": {
          "base_uri": "https://localhost:8080/"
        },
        "id": "5RwYbtfmX9Kr",
        "outputId": "b31207e5-5345-441c-d2ac-e951b968c856"
      },
      "outputs": [
        {
          "output_type": "stream",
          "name": "stdout",
          "text": [
            "+------+------+----+-----+--------+\n",
            "|Season|TeamID|Wins|Loses|NumGames|\n",
            "+------+------+----+-----+--------+\n",
            "|  2003|  1226|  13|   14|      27|\n",
            "|  2003|  1189|  10|   15|      25|\n",
            "|  2009|  1401|  23|    9|      32|\n",
            "|  2011|  1431|  24|    9|      33|\n",
            "|  2006|  1173|  13|   17|      30|\n",
            "|  2006|  1153|  18|   12|      30|\n",
            "|  2007|  1275|  18|   14|      32|\n",
            "|  2007|  1175|  20|   12|      32|\n",
            "|  2008|  1145|   6|   25|      31|\n",
            "|  2008|  1313|  16|   15|      31|\n",
            "|  2008|  1229|  23|    9|      32|\n",
            "|  2008|  1325|  19|   12|      31|\n",
            "|  2009|  1286|  13|   17|      30|\n",
            "|  2009|  1189|   9|   20|      29|\n",
            "|  2009|  1267|  12|   17|      29|\n",
            "|  2012|  1334|   9|   19|      28|\n",
            "|  2013|  1158|  24|    9|      33|\n",
            "|  2013|  1104|  20|   12|      32|\n",
            "|  2015|  1165|  12|   17|      29|\n",
            "|  2015|  1337|  17|   13|      30|\n",
            "+------+------+----+-----+--------+\n",
            "only showing top 20 rows\n",
            "\n"
          ]
        }
      ],
      "source": [
        "NumWin = RegularSeason.groupBy('Season', 'WTeamID').count()\n",
        "NumWin = NumWin.withColumnRenamed(\"count\", \"Wins\")\n",
        "NumWin = NumWin.withColumnRenamed(\"WTeamID\", \"TeamID\")\n",
        "\n",
        "NumLose = RegularSeason.groupBy('Season', 'LTeamID').count()\n",
        "NumLose = NumLose.withColumnRenamed(\"count\", \"Loses\")\n",
        "NumLose = NumLose.withColumnRenamed(\"LTeamID\", \"TeamID\")\n",
        "\n",
        "merged_df = NumWin.join(NumLose, ['Season','TeamID'])\n",
        "merged_df = merged_df.withColumn('NumGames', merged_df.Wins + merged_df.Loses)\n",
        "merged_df.show()"
      ]
    },
    {
      "cell_type": "markdown",
      "metadata": {
        "id": "uuc2LaZ35di9"
      },
      "source": [
        "for win team: rename all w to generaric ones and all L to opp as they are opponent stats.\n",
        "\n",
        "Also add count to get number of wins\n",
        "\n",
        "\n"
      ]
    },
    {
      "cell_type": "markdown",
      "metadata": {
        "id": "Ze_I7Wuh5oqr"
      },
      "source": [
        "for lose team: rename all L to generaric ones and all W to opp as they are opponent stats\n",
        "\n",
        "Also add count to get number of loses"
      ]
    },
    {
      "cell_type": "markdown",
      "metadata": {
        "id": "Gtx1iOhA7ns_"
      },
      "source": [
        "the combine them off of team id"
      ]
    },
    {
      "cell_type": "code",
      "execution_count": 11,
      "metadata": {
        "id": "zQoWWIxE2vrS"
      },
      "outputs": [],
      "source": [
        "# Get all win stats for each team\n",
        "WinTeams = WinTeams.withColumnRenamed(\"WTeamID\", \"TeamID\")\n",
        "WinTeams = WinTeams.withColumnRenamed(\"sum(WScore)\", \"WPTS\")\n",
        "WinTeams = WinTeams.withColumnRenamed(\"sum(LScore)\", \"WOppPTS\")\n",
        "WinTeams = WinTeams.withColumnRenamed(\"sum(NumOT)\", \"WOTs\")\n",
        "WinTeams = WinTeams.withColumnRenamed(\"sum(WFGM)\", \"WFGM\")\n",
        "WinTeams = WinTeams.withColumnRenamed(\"sum(WFGA)\", \"WFGA\")\n",
        "WinTeams = WinTeams.withColumnRenamed(\"sum(WFGA3)\", \"WFGA3\")\n",
        "WinTeams = WinTeams.withColumnRenamed(\"sum(WFGM3)\", \"WFGM3\")\n",
        "WinTeams = WinTeams.withColumnRenamed(\"sum(WFTA)\", \"WFTA\")\n",
        "WinTeams = WinTeams.withColumnRenamed(\"sum(WFTM)\", \"WFTM\")\n",
        "WinTeams = WinTeams.withColumnRenamed(\"sum(WOR)\", \"WOR\")\n",
        "WinTeams = WinTeams.withColumnRenamed(\"sum(WDR)\", \"WDR\")\n",
        "WinTeams = WinTeams.withColumnRenamed(\"sum(WAst)\", \"WAST\")\n",
        "WinTeams = WinTeams.withColumnRenamed(\"sum(WTO)\", \"WTO\")\n",
        "WinTeams = WinTeams.withColumnRenamed(\"sum(WStl)\", \"WSTL\")\n",
        "WinTeams = WinTeams.withColumnRenamed(\"sum(WBlk)\", \"WBLK\")\n",
        "WinTeams = WinTeams.withColumnRenamed(\"sum(WPF)\", \"WPF\")\n",
        "WinTeams = WinTeams.withColumnRenamed(\"sum(LFGM)\", \"WOppFGM\")\n",
        "WinTeams = WinTeams.withColumnRenamed(\"sum(LFGA)\", \"WOppFGA\")\n",
        "WinTeams = WinTeams.withColumnRenamed(\"sum(LFGA3)\", \"WOppFGA3\")\n",
        "WinTeams = WinTeams.withColumnRenamed(\"sum(LFGM3)\", \"WOppFGM3\")\n",
        "WinTeams = WinTeams.withColumnRenamed(\"sum(LFTA)\", \"WOppFTA\")\n",
        "WinTeams = WinTeams.withColumnRenamed(\"sum(LFTM)\", \"WOppFTM\")\n",
        "WinTeams = WinTeams.withColumnRenamed(\"sum(LOR)\", \"WOppOR\")\n",
        "WinTeams = WinTeams.withColumnRenamed(\"sum(LDR)\", \"WOppDR\")\n",
        "WinTeams = WinTeams.withColumnRenamed(\"sum(LAst)\", \"WOppAST\")\n",
        "WinTeams = WinTeams.withColumnRenamed(\"sum(LTO)\", \"WOppTO\")\n",
        "WinTeams = WinTeams.withColumnRenamed(\"sum(LStl)\", \"WOppSTL\")\n",
        "WinTeams = WinTeams.withColumnRenamed(\"sum(LBlk)\", \"WOppBLK\")\n",
        "WinTeams = WinTeams.withColumnRenamed(\"sum(LPF)\", \"WOppPF\")"
      ]
    },
    {
      "cell_type": "code",
      "execution_count": 12,
      "metadata": {
        "id": "jiRv0yOyWcEq"
      },
      "outputs": [],
      "source": [
        "# Get all loss stats for each team\n",
        "LoseTeams = LoseTeams.withColumnRenamed(\"LTeamID\", \"TeamID\")\n",
        "LoseTeams = LoseTeams.withColumnRenamed(\"sum(WScore)\", \"LOppPTS\")\n",
        "LoseTeams = LoseTeams.withColumnRenamed(\"sum(LScore)\", \"LPTS\")\n",
        "LoseTeams = LoseTeams.withColumnRenamed(\"sum(NumOT)\", \"LOTs\")\n",
        "LoseTeams = LoseTeams.withColumnRenamed(\"sum(WFGM)\", \"LOppFGM\")\n",
        "LoseTeams = LoseTeams.withColumnRenamed(\"sum(WFGA)\", \"LOppFGA\")\n",
        "LoseTeams = LoseTeams.withColumnRenamed(\"sum(WFGA3)\", \"LOppFGA3\")\n",
        "LoseTeams = LoseTeams.withColumnRenamed(\"sum(WFGM3)\", \"LOppFGM3\")\n",
        "LoseTeams = LoseTeams.withColumnRenamed(\"sum(WFTA)\", \"LOppFTA\")\n",
        "LoseTeams = LoseTeams.withColumnRenamed(\"sum(WFTM)\", \"LOppFTM\")\n",
        "LoseTeams = LoseTeams.withColumnRenamed(\"sum(WOR)\", \"LOppOR\")\n",
        "LoseTeams = LoseTeams.withColumnRenamed(\"sum(WDR)\", \"LOppDR\")\n",
        "LoseTeams = LoseTeams.withColumnRenamed(\"sum(WAst)\", \"LOppAST\")\n",
        "LoseTeams = LoseTeams.withColumnRenamed(\"sum(WTO)\", \"LOppTO\")\n",
        "LoseTeams = LoseTeams.withColumnRenamed(\"sum(WStl)\", \"LOppSTL\")\n",
        "LoseTeams = LoseTeams.withColumnRenamed(\"sum(WBlk)\", \"LOppBLK\")\n",
        "LoseTeams = LoseTeams.withColumnRenamed(\"sum(WPF)\", \"LOppPF\")\n",
        "LoseTeams = LoseTeams.withColumnRenamed(\"sum(LFGM)\", \"LFGM\")\n",
        "LoseTeams = LoseTeams.withColumnRenamed(\"sum(LFGA)\", \"LFGA\")\n",
        "LoseTeams = LoseTeams.withColumnRenamed(\"sum(LFGA3)\", \"LFGA3\")\n",
        "LoseTeams = LoseTeams.withColumnRenamed(\"sum(LFGM3)\", \"LFGM3\")\n",
        "LoseTeams = LoseTeams.withColumnRenamed(\"sum(LFTA)\", \"LFTA\")\n",
        "LoseTeams = LoseTeams.withColumnRenamed(\"sum(LFTM)\", \"LFTM\")\n",
        "LoseTeams = LoseTeams.withColumnRenamed(\"sum(LOR)\", \"LOR\")\n",
        "LoseTeams = LoseTeams.withColumnRenamed(\"sum(LDR)\", \"LDR\")\n",
        "LoseTeams = LoseTeams.withColumnRenamed(\"sum(LAst)\", \"LAST\")\n",
        "LoseTeams = LoseTeams.withColumnRenamed(\"sum(LTO)\", \"LTO\")\n",
        "LoseTeams = LoseTeams.withColumnRenamed(\"sum(LStl)\", \"LSTL\")\n",
        "LoseTeams = LoseTeams.withColumnRenamed(\"sum(LBlk)\", \"LBLK\")\n",
        "LoseTeams = LoseTeams.withColumnRenamed(\"sum(LPF)\", \"LPF\")"
      ]
    },
    {
      "cell_type": "code",
      "source": [
        "#LoseTeams.filter(LoseTeams.Season == 2022).show()"
      ],
      "metadata": {
        "id": "nObPxnvvyvsW"
      },
      "execution_count": 13,
      "outputs": []
    },
    {
      "cell_type": "code",
      "source": [
        "# combine win teams and lose teams\n",
        "Season = WinTeams.join(LoseTeams, ['Season','TeamID'])"
      ],
      "metadata": {
        "id": "18Nr9TSh4udU"
      },
      "execution_count": 14,
      "outputs": []
    },
    {
      "cell_type": "code",
      "source": [
        "# Combine coluns\n",
        "Season = Season.withColumn(\"OppPTS\", Season.WOppPTS + Season.LOppPTS) \n",
        "Season = Season.withColumn(\"PTS\", Season.WPTS + Season.LPTS) \n",
        "Season = Season.withColumn(\"OTs\", Season.WOTs + Season.LOTs) \n",
        "Season = Season.withColumn(\"OppFGM\", Season.WOppFGM + Season.LOppFGM)\n",
        "Season = Season.withColumn(\"OppFGA\", Season.WOppFGA + Season.LOppFGA)\n",
        "Season = Season.withColumn(\"OppFGA3\", Season.WOppFGA3 + Season.LOppFGA3)\n",
        "Season = Season.withColumn(\"OppFGM3\", Season.WOppFGM3 + Season.LOppFGM3) \n",
        "Season = Season.withColumn(\"OppFTA\", Season.WOppFTA + Season.LOppFTA) \n",
        "Season = Season.withColumn(\"OppFTM\", Season.WOppFTM + Season.LOppFTM) \n",
        "Season = Season.withColumn(\"OppOR\", Season.WOppOR + Season.LOppOR) \n",
        "Season = Season.withColumn(\"OppDR\", Season.WOppDR + Season.LOppDR) \n",
        "Season = Season.withColumn(\"OppAST\", Season.WOppAST + Season.LOppAST) \n",
        "Season = Season.withColumn(\"OppTO\", Season.WOppTO + Season.LOppTO) \n",
        "Season = Season.withColumn(\"OppSTL\", Season.WOppSTL + Season.LOppSTL) \n",
        "Season = Season.withColumn(\"OppBLK\", Season.WOppBLK + Season.LOppBLK) \n",
        "Season = Season.withColumn(\"OppPF\", Season.WOppPF + Season.LOppPF) \n",
        "Season = Season.withColumn(\"FGM\", Season.WFGM + Season.LFGM) \n",
        "Season = Season.withColumn(\"FGA\", Season.WFGA + Season.LFGA) \n",
        "Season = Season.withColumn(\"FGA3\", Season.WFGA3 + Season.LFGA3) \n",
        "Season = Season.withColumn(\"FGM3\", Season.WFGM3 + Season.LFGM3) \n",
        "Season = Season.withColumn(\"FTA\", Season.WFTA + Season.LFTA) \n",
        "Season = Season.withColumn(\"FTM\", Season.WFTM + Season.LFTM) \n",
        "Season = Season.withColumn(\"OR\", Season.WOR + Season.LOR) \n",
        "Season = Season.withColumn(\"DR\", Season.WDR + Season.LDR) \n",
        "Season = Season.withColumn(\"AST\", Season.WAST + Season.LAST)\n",
        "Season = Season.withColumn(\"TO\", Season.WTO + Season.LTO) \n",
        "Season = Season.withColumn(\"STL\", Season.WSTL + Season.LSTL)\n",
        "Season = Season.withColumn(\"BLK\", Season.WBLK + Season.LBLK)\n",
        "Season = Season.withColumn(\"PF\", Season.WPF + Season.LPF)\n",
        "\n",
        "# Drop Unwanted Columns\n",
        "Season =  Season.drop(\"WPTS\",\"WOppPTS\",\"WOTs\",\"WFGM\",\"WFGA\",\"WFGM3\",\"WFGA3\",\"WFTM\",\"WFTA\",\"WOR\",\"WDR\",\"WAST\",\"WTO\",\"WSTL\",\"WBLK\",\"WPF\",\"WOppFGM\",\"WOppFGA\",\"WOppFGM3\",\"WOppFGA3\",\"WOppFTM\",\"WOppFTA\",\"WOppOR\",\"WOppDR\",\"WOppAST\",\"WOppTO\",\"WOppSTL\",\"WOppBLK\",\"WOppPF\",\"LOppPTS\",\"LPTS\",\"LOTs\",\"LOppFGM\",\"LOppFGA\",\"LOppFGM3\",\"LOppFGA3\",\"LOppFTM\",\"LOppFTA\",\"LOppOR\",\"LOppDR\",\"LOppAST\",\"LOppTO\",\"LOppSTL\",\"LOppBLK\",\"LOppPF\",\"LFGM\",\"LFGA\",\"LFGM3\",\"LFGA3\",\"LFTM\",\"LFTA\",\"LOR\",\"LDR\",\"LAST\",\"LTO\",\"LSTL\",\"LBLK\",\"LPF\")"
      ],
      "metadata": {
        "id": "vXpWsAaGx2md"
      },
      "execution_count": 15,
      "outputs": []
    },
    {
      "cell_type": "code",
      "source": [
        "# Combine merged and season\n",
        "Season_Stats = Season.join(merged_df, ['Season','TeamID'])"
      ],
      "metadata": {
        "id": "vaiJQYmdRj6U"
      },
      "execution_count": 16,
      "outputs": []
    },
    {
      "cell_type": "markdown",
      "source": [
        "Make season stats for input"
      ],
      "metadata": {
        "id": "Asy10tvTR_Hm"
      }
    },
    {
      "cell_type": "code",
      "source": [
        "#Wins, PPG, PPG Allowed, Points Ratio, OTs\n",
        "#RegularSeasonInput['WinRatio'] = combinedTeams['Wins'] / combinedTeams['NumGames']\n",
        "RegularSeasonInput = Season_Stats.withColumn(\"WinRatio\", Season_Stats.Wins /  Season_Stats.NumGames) \n",
        "#RegularSeasonInput['PointsPerGame'] = combinedTeams['Points'] / combinedTeams['NumGames']\n",
        "RegularSeasonInput = RegularSeasonInput.withColumn(\"PointsPerGame\", Season_Stats.PTS /  Season_Stats.NumGames)\n",
        "#RegularSeasonInput['PointsAllowedPerGame'] = combinedTeams['OppPoints'] / combinedTeams['NumGames']\n",
        "RegularSeasonInput = RegularSeasonInput.withColumn(\"PointsAllowedPerGame\", Season_Stats.OppPTS /  Season_Stats.NumGames)\n",
        "#RegularSeasonInput['PointsRatio'] = combinedTeams['Points'] / combinedTeams['OppPoints']\n",
        "RegularSeasonInput = RegularSeasonInput.withColumn(\"PointsRatio\", Season_Stats.PTS /  Season_Stats.OppPTS)\n",
        "#RegularSeasonInput['OTsPerGame'] = combinedTeams['NumOT'] / combinedTeams['NumGames']\n",
        "RegularSeasonInput = RegularSeasonInput.withColumn(\"OTsPerGame\", Season_Stats.OTs /  Season_Stats.NumGames)\n",
        "#Field Goals\n",
        "#RegularSeasonInput['FGPerGame'] = combinedTeams['FGM'] / combinedTeams['NumGames']\n",
        "RegularSeasonInput = RegularSeasonInput.withColumn(\"FGPerGame\", Season_Stats.FGM /  Season_Stats.NumGames)\n",
        "#RegularSeasonInput['FGRatio'] = combinedTeams['FGM'] / combinedTeams['FGA']\n",
        "RegularSeasonInput = RegularSeasonInput.withColumn(\"FGRatio\", Season_Stats.FGM /  Season_Stats.FGA)\n",
        "#RegularSeasonInput['FGAPerGame'] = combinedTeams['FGA'] / combinedTeams['NumGames']\n",
        "RegularSeasonInput = RegularSeasonInput.withColumn(\"FGAPerGame\", Season_Stats.FGA /  Season_Stats.NumGames)\n",
        "#RegularSeasonInput['FGAllowedPerGame'] = combinedTeams['OppFGM'] / combinedTeams['NumGames']\n",
        "RegularSeasonInput = RegularSeasonInput.withColumn(\"FGAllowedPerGame\", Season_Stats.OppFGM /  Season_Stats.NumGames)\n",
        "#Three Pointers\n",
        "#RegularSeasonInput['FG3PerGame'] = combinedTeams['FGM3'] / combinedTeams['NumGames']\n",
        "RegularSeasonInput = RegularSeasonInput.withColumn(\"FG3PerGame\", Season_Stats.FGM3 /  Season_Stats.NumGames)\n",
        "#RegularSeasonInput['FG3Ratio'] = combinedTeams['FGM3'] / combinedTeams['FGA3']\n",
        "RegularSeasonInput = RegularSeasonInput.withColumn(\"FG3Ratio'\", Season_Stats.FGM3 /  Season_Stats.FGA3)\n",
        "#RegularSeasonInput['FG3APerGame'] = combinedTeams['FGA3'] / combinedTeams['NumGames']\n",
        "RegularSeasonInput = RegularSeasonInput.withColumn(\"FG3APerGame\", Season_Stats.FGA3 /  Season_Stats.NumGames)\n",
        "#RegularSeasonInput['FG3AllowedPerGame'] = combinedTeams['OppFGM3'] / combinedTeams['NumGames']\n",
        "RegularSeasonInput = RegularSeasonInput.withColumn(\"FG3AllowedPerGame\", Season_Stats.OppFGM3 /  Season_Stats.NumGames)\n",
        "#Free Throws\n",
        "#RegularSeasonInput['FTPerGame'] = combinedTeams['FTM'] / combinedTeams['NumGames']\n",
        "RegularSeasonInput = RegularSeasonInput.withColumn(\"FTPerGame\", Season_Stats.FTM /  Season_Stats.NumGames)\n",
        "#RegularSeasonInput['FTRatio'] = combinedTeams['FTM'] / combinedTeams['FTA']\n",
        "RegularSeasonInput = RegularSeasonInput.withColumn(\"FTRatio\", Season_Stats.FTM /  Season_Stats.FTA)\n",
        "#RegularSeasonInput['FTAPerGame'] = combinedTeams['FTA'] / combinedTeams['NumGames']\n",
        "RegularSeasonInput = RegularSeasonInput.withColumn(\"FTAPerGame\", Season_Stats.FTA /  Season_Stats.NumGames)\n",
        "#RegularSeasonInput['FTllowedPerGame'] = combinedTeams['OppFTM'] / combinedTeams['NumGames']\n",
        "RegularSeasonInput = RegularSeasonInput.withColumn(\"FTllowedPerGame\", Season_Stats.OppFTM /  Season_Stats.NumGames)\n",
        "#Rebounds\n",
        "#RegularSeasonInput['ORPerGame'] = combinedTeams['OR'] / combinedTeams['NumGames']\n",
        "RegularSeasonInput = RegularSeasonInput.withColumn(\"ORPerGame\", Season_Stats.OR /  Season_Stats.NumGames)\n",
        "#RegularSeasonInput['DRPerGame'] = combinedTeams['DR'] / combinedTeams['NumGames']\n",
        "RegularSeasonInput = RegularSeasonInput.withColumn(\"DRPerGame\", Season_Stats.DR /  Season_Stats.NumGames)\n",
        "#RegularSeasonInput['TRPerGame'] = (combinedTeams['OR'] + combinedTeams['DR']) / combinedTeams['NumGames']\n",
        "RegularSeasonInput = RegularSeasonInput.withColumn(\"TRPerGame\", (Season_Stats.OR+ Season_Stats.DR) /  Season_Stats.NumGames)\n",
        "#RegularSeasonInput['OppORPerGame'] = combinedTeams['OppOR'] / combinedTeams['NumGames']\n",
        "RegularSeasonInput = RegularSeasonInput.withColumn(\"OppORPerGame\", Season_Stats.OppOR /  Season_Stats.NumGames)\n",
        "#RegularSeasonInput['OppDRPerGame'] = combinedTeams['OppDR'] / combinedTeams['NumGames']\n",
        "RegularSeasonInput = RegularSeasonInput.withColumn(\"OppDRPerGam\", Season_Stats.OppDR /  Season_Stats.NumGames)\n",
        "#RegularSeasonInput['OppTRPerGame'] = (combinedTeams['OppOR'] + combinedTeams['OppDR']) / combinedTeams['NumGames']\n",
        "RegularSeasonInput = RegularSeasonInput.withColumn(\"OppTRPerGame\", (Season_Stats.OppOR +  Season_Stats.OppDR) / Season_Stats.NumGames)\n",
        "#RegularSeasonInput['ORRatio'] = combinedTeams['OR'] / combinedTeams['OppOR']\n",
        "RegularSeasonInput = RegularSeasonInput.withColumn(\"ORRatio\", Season_Stats.OR /  Season_Stats.OppOR)\n",
        "#RegularSeasonInput['DRRatio'] = combinedTeams['DR'] / combinedTeams['OppDR']\n",
        "RegularSeasonInput = RegularSeasonInput.withColumn(\"DRRatio\", Season_Stats.DR /  Season_Stats.OppDR)\n",
        "#RegularSeasonInput['TRRatio'] = (combinedTeams['OR'] + combinedTeams['DR']) / (combinedTeams['OppOR'] + combinedTeams['OppDR'])\n",
        "RegularSeasonInput = RegularSeasonInput.withColumn(\"TRRatio\", (Season_Stats.OR +  Season_Stats.DR) / (Season_Stats.OppOR +  Season_Stats.OppDR))\n",
        "#Assists\n",
        "#RegularSeasonInput['AstPerGame'] = combinedTeams['Ast'] / combinedTeams['NumGames']\n",
        "RegularSeasonInput = RegularSeasonInput.withColumn(\"AstPerGame\", Season_Stats.AST /  Season_Stats.NumGames)\n",
        "#RegularSeasonInput['OppAstPerGame'] = combinedTeams['OppAst'] / combinedTeams['NumGames']\n",
        "RegularSeasonInput = RegularSeasonInput.withColumn(\"OppAstPerGame\", Season_Stats.OppAST /  Season_Stats.NumGames)\n",
        "#Steals\n",
        "#RegularSeasonInput['StlPerGame'] = combinedTeams['Stl'] / combinedTeams['NumGames']\n",
        "RegularSeasonInput = RegularSeasonInput.withColumn(\"StlPerGame\", Season_Stats.STL /  Season_Stats.NumGames)\n",
        "#RegularSeasonInput['OppStlPerGame'] = combinedTeams['OppStl'] / combinedTeams['NumGames']\n",
        "RegularSeasonInput = RegularSeasonInput.withColumn(\"OppStlPerGame\", Season_Stats.OppSTL /  Season_Stats.NumGames)\n",
        "#Turnovers\n",
        "#RegularSeasonInput['TOPerGame'] = combinedTeams['TO'] / combinedTeams['NumGames']\n",
        "RegularSeasonInput = RegularSeasonInput.withColumn(\"TOPerGame\", Season_Stats.TO / Season_Stats.NumGames)\n",
        "#RegularSeasonInput['OppTOPerGame'] = combinedTeams['OppTO'] / combinedTeams['NumGames']\n",
        "RegularSeasonInput = RegularSeasonInput.withColumn(\"OppTOPerGame\", Season_Stats.OppTO / Season_Stats.NumGames)\n",
        "#Blocks\n",
        "#RegularSeasonInput['BlkPerGame'] = combinedTeams['Blk'] / combinedTeams['NumGames']\n",
        "RegularSeasonInput = RegularSeasonInput.withColumn(\"BlkPerGame\", Season_Stats.BLK / Season_Stats.NumGames)\n",
        "#RegularSeasonInput['OppBlkPerGame'] = combinedTeams['OppBlk'] / combinedTeams['NumGames']\n",
        "RegularSeasonInput = RegularSeasonInput.withColumn(\"OppBlkPerGame\", Season_Stats.OppBLK /  Season_Stats.NumGames)\n",
        "#Personal Fouls\n",
        "#RegularSeasonInput['PFPerGame'] = combinedTeams['PF'] / combinedTeams['NumGames']\n",
        "RegularSeasonInput = RegularSeasonInput.withColumn(\"PFPerGame\", Season_Stats.PF /  Season_Stats.NumGames)\n",
        "#RegularSeasonInput['OppPFPerGame'] = combinedTeams['OppPF'] / combinedTeams['NumGames']\n",
        "RegularSeasonInput = RegularSeasonInput.withColumn(\"OppPFPerGame\", Season_Stats.OppPF /  Season_Stats.NumGames)\n",
        "\n",
        "#drop unwanted columns\n",
        "RegularSeasonInput =  RegularSeasonInput.drop(\"PTS\",\"OppPTS\",\"OTs\",\"FGM\",\"FGA\",\"FGM3\",\"FGA3\",\"FTM\",\"FTA\",\"OR\",\"DR\",\"AST\",\"TO\",\"STL\",\"BLK\",\"PF\",\"OppFGM\",\"OppFGA\",\"OppFGM3\",\"OppFGA3\",\"OppFTM\",\"OppFTA\",\"OppOR\",\"OppDR\",\"OppAST\",\"OppTO\",\"OppSTL\",\"OppBLK\",\"OppPF\")\n",
        "#show\n",
        "RegularSeasonInput.show()"
      ],
      "metadata": {
        "colab": {
          "base_uri": "https://localhost:8080/"
        },
        "id": "s_W3B0bwSRv0",
        "outputId": "cf9dfadf-9ae0-4188-9a84-590b5ede04ca"
      },
      "execution_count": 17,
      "outputs": [
        {
          "output_type": "stream",
          "name": "stdout",
          "text": [
            "+------+------+----+-----+--------+-------------------+------------------+--------------------+------------------+--------------------+------------------+-------------------+------------------+------------------+------------------+-------------------+------------------+------------------+------------------+------------------+------------------+------------------+------------------+------------------+------------------+------------------+------------------+------------------+------------------+------------------+------------------+------------------+------------------+------------------+------------------+------------------+------------------+------------------+------------------+------------------+------------------+\n",
            "|Season|TeamID|Wins|Loses|NumGames|           WinRatio|     PointsPerGame|PointsAllowedPerGame|       PointsRatio|          OTsPerGame|         FGPerGame|            FGRatio|        FGAPerGame|  FGAllowedPerGame|        FG3PerGame|          FG3Ratio'|       FG3APerGame| FG3AllowedPerGame|         FTPerGame|           FTRatio|        FTAPerGame|   FTllowedPerGame|         ORPerGame|         DRPerGame|         TRPerGame|      OppORPerGame|       OppDRPerGam|      OppTRPerGame|           ORRatio|           DRRatio|           TRRatio|        AstPerGame|     OppAstPerGame|        StlPerGame|     OppStlPerGame|         TOPerGame|      OppTOPerGame|        BlkPerGame|     OppBlkPerGame|         PFPerGame|      OppPFPerGame|\n",
            "+------+------+----+-----+--------+-------------------+------------------+--------------------+------------------+--------------------+------------------+-------------------+------------------+------------------+------------------+-------------------+------------------+------------------+------------------+------------------+------------------+------------------+------------------+------------------+------------------+------------------+------------------+------------------+------------------+------------------+------------------+------------------+------------------+------------------+------------------+------------------+------------------+------------------+------------------+------------------+------------------+\n",
            "|  2003|  1102|  12|   16|      28|0.42857142857142855|             57.25|                57.0|1.0043859649122806|                 0.0|19.142857142857142|0.48114901256732495|39.785714285714285|19.285714285714285| 7.821428571428571|0.37564322469982847|20.821428571428573|              4.75|11.142857142857142| 0.651356993736952|17.107142857142858|13.678571428571429| 4.178571428571429|16.821428571428573|              21.0| 9.607142857142858|20.142857142857142|             29.75|0.4349442379182156|0.8351063829787234|0.7058823529411765|              13.0| 9.142857142857142| 5.964285714285714| 5.428571428571429|11.428571428571429|12.964285714285714|1.7857142857142858|1.5714285714285714|             18.75|18.357142857142858|\n",
            "|  2003|  1103|  13|   14|      27|0.48148148148148145| 78.77777777777777|   78.14814814814815|1.0080568720379146|  0.2962962962962963| 27.14814814814815| 0.4860742705570292|55.851851851851855| 27.77777777777778| 5.444444444444445| 0.3387096774193548|16.074074074074073| 6.666666666666667|19.037037037037038|0.7363896848137536| 25.85185185185185|15.925925925925926| 9.777777777777779|19.925925925925927|29.703703703703702|12.037037037037036|22.037037037037038|34.074074074074076|0.8123076923076923|0.9042016806722689|0.8717391304347826|15.222222222222221|15.481481481481481|7.2592592592592595| 6.407407407407407| 12.62962962962963|15.333333333333334|2.3333333333333335|2.8518518518518516| 19.85185185185185|22.444444444444443|\n",
            "|  2003|  1104|  17|   11|      28| 0.6071428571428571| 69.28571428571429|                65.0| 1.065934065934066| 0.03571428571428571|24.035714285714285| 0.4203622735790131| 57.17857142857143|             23.25| 6.357142857142857|0.32014388489208634|19.857142857142858| 6.357142857142857|14.857142857142858|0.7098976109215017|20.928571428571427|12.142857142857142|13.571428571428571|23.928571428571427|              37.5|10.892857142857142|22.642857142857142|33.535714285714285|1.2459016393442623|1.0567823343848581|1.1182108626198084|12.107142857142858|11.678571428571429| 6.607142857142857| 5.535714285714286|13.285714285714286|13.857142857142858|3.7857142857142856|3.1785714285714284|18.035714285714285|             19.25|\n",
            "|  2003|  1105|   7|   19|      26| 0.2692307692307692| 71.76923076923077|   76.65384615384616|0.9362769693928751| 0.15384615384615385|24.384615384615383|0.39575530586766544| 61.61538461538461|              27.0| 7.576923076923077| 0.3648148148148148| 20.76923076923077| 6.269230769230769|15.423076923076923|0.7059859154929577|21.846153846153847|16.384615384615383|              13.5|23.115384615384617| 36.61538461538461|13.192307692307692|26.384615384615383| 39.57692307692308|1.0233236151603498|0.8760932944606414|0.9251700680272109|14.538461538461538|15.807692307692308| 9.307692307692308| 9.384615384615385|18.653846153846153|18.807692307692307| 2.076923076923077|4.1923076923076925| 20.23076923076923|19.076923076923077|\n",
            "|  2003|  1106|  13|   15|      28| 0.4642857142857143|63.607142857142854|               63.75|0.9977591036414566| 0.03571428571428571|23.428571428571427|0.42377260981912146|55.285714285714285|21.714285714285715| 6.107142857142857|0.34615384615384615|17.642857142857142| 4.785714285714286|10.642857142857142|0.6464208242950108|16.464285714285715|15.535714285714286|12.285714285714286|23.857142857142858|36.142857142857146|11.321428571428571|22.357142857142858| 33.67857142857143| 1.085173501577287|1.0670926517571886|1.0731707317073171|11.678571428571429|11.785714285714286| 8.357142857142858| 8.785714285714286|17.035714285714285|15.071428571428571| 3.142857142857143|3.1785714285714284|18.178571428571427|16.142857142857142|\n",
            "|  2003|  1107|   7|   21|      28|               0.25| 65.92857142857143|   75.71428571428571| 0.870754716981132| 0.21428571428571427|24.035714285714285|  0.418272218769422|57.464285714285715|28.821428571428573| 7.928571428571429|  0.357487922705314|22.178571428571427| 6.571428571428571| 9.928571428571429|0.7335092348284961|13.535714285714286|              11.5|              8.25|             20.25|              28.5|13.392857142857142|27.071428571428573|40.464285714285715|             0.616|0.7480211081794196|  0.70432480141218|11.928571428571429|             18.75| 6.857142857142857| 5.535714285714286|12.571428571428571|14.964285714285714|2.0357142857142856|3.5357142857142856|15.892857142857142|15.928571428571429|\n",
            "|  2003|  1108|  14|   19|      33|0.42424242424242425|  69.0909090909091|   73.12121212121212|0.9448818897637795| 0.06060606060606061|24.939393939393938| 0.4246646026831785| 58.72727272727273|25.757575757575758| 5.212121212121212|0.31910946196660483|16.333333333333332| 5.515151515151516|              14.0|0.6685962373371924|20.939393939393938| 16.09090909090909|13.121212121212121| 23.21212121212121|36.333333333333336|12.575757575757576|23.727272727272727|36.303030303030305|1.0433734939759036|0.9782886334610472|1.0008347245409015|13.848484848484848|15.454545454545455| 8.181818181818182| 8.575757575757576|18.454545454545453|16.727272727272727| 3.515151515151515| 2.878787878787879|19.666666666666668|              19.0|\n",
            "|  2003|  1110|  16|   14|      30| 0.5333333333333333| 66.36666666666666|                61.9|1.0721593968766827| 0.06666666666666667|23.166666666666668| 0.4327521793275218| 53.53333333333333|              22.7| 8.766666666666667|0.37896253602305474|23.133333333333333| 6.266666666666667|11.266666666666667|0.6814516129032258|16.533333333333335|10.233333333333333|              10.0|23.133333333333333| 33.13333333333333|              11.0|23.133333333333333| 34.13333333333333|0.9090909090909091|               1.0|       0.970703125|14.233333333333333|12.133333333333333|               6.4|               5.9|13.166666666666666|14.566666666666666|1.7333333333333334|3.1333333333333333|18.133333333333333|17.066666666666666|\n",
            "|  2003|  1111|  16|   10|      26| 0.6153846153846154| 83.26923076923077|   81.73076923076923|1.0188235294117647| 0.15384615384615385|28.615384615384617|0.44364937388193204|              64.5|29.884615384615383|7.1923076923076925| 0.3274956217162872| 21.96153846153846|7.8076923076923075|18.846153846153847|0.7195301027900147|26.192307692307693|14.153846153846153|              13.0|25.307692307692307| 38.30769230769231| 13.26923076923077|26.615384615384617| 39.88461538461539|0.9797101449275363|0.9508670520231214|0.9604628736740598| 15.23076923076923|16.615384615384617| 9.846153846153847| 8.923076923076923|16.192307692307693|18.692307692307693| 4.615384615384615|3.8846153846153846|18.692307692307693|21.076923076923077|\n",
            "|  2003|  1112|  25|    3|      28| 0.8928571428571429| 85.21428571428571|               70.25|1.2130147432638536| 0.07142857142857142|30.321428571428573|0.46141304347826084| 65.71428571428571|26.357142857142858| 7.035714285714286| 0.3505338078291815|20.071428571428573| 6.321428571428571|17.535714285714285|0.7014285714285714|              25.0|11.214285714285714|15.178571428571429|27.642857142857142| 42.82142857142857|13.107142857142858|23.285714285714285|36.392857142857146|1.1580381471389645| 1.187116564417178|1.1766437684003925|17.642857142857142|15.464285714285714| 8.464285714285714| 5.964285714285714|14.785714285714286|16.857142857142858| 4.214285714285714| 2.392857142857143|             17.75|22.071428571428573|\n",
            "|  2003|  1113|  18|   11|      29| 0.6206896551724138| 75.96551724137932|   69.17241379310344|1.0982053838484547| 0.06896551724137931| 27.20689655172414| 0.4781818181818182| 56.89655172413793| 24.79310344827586|               4.0| 0.3178082191780822|12.586206896551724| 5.448275862068965|17.551724137931036|0.6697368421052632| 26.20689655172414|14.137931034482758|13.689655172413794|23.310344827586206|              37.0|              11.0|20.551724137931036|31.551724137931036| 1.244514106583072|1.1342281879194631|1.1726775956284152|15.551724137931034|14.068965517241379| 5.206896551724138|               6.0|              14.0|15.517241379310345| 4.241379310344827|3.9310344827586206|19.413793103448278|22.862068965517242|\n",
            "|  2003|  1114|  16|   12|      28| 0.5714285714285714| 70.03571428571429|   70.07142857142857|0.9994903160040775|                0.25|23.857142857142858| 0.4483221476510067|53.214285714285715|24.857142857142858| 6.785714285714286|         0.37109375|18.285714285714285| 5.964285714285714|15.535714285714286|0.6926751592356688|22.428571428571427|14.392857142857142|10.535714285714286|22.857142857142858|33.392857142857146|11.857142857142858|22.607142857142858|34.464285714285715|0.8885542168674698|1.0110584518167456|0.9689119170984456|              11.5|12.392857142857142| 6.607142857142857| 5.892857142857143|15.964285714285714|15.464285714285714| 2.357142857142857|3.2857142857142856|              20.5|20.464285714285715|\n",
            "|  2003|  1115|   4|   24|      28|0.14285714285714285|              54.5|   74.17857142857143|0.7347135291285508| 0.03571428571428571|             19.25|0.35460526315789476|54.285714285714285|25.321428571428573|              4.75| 0.2817796610169492|16.857142857142858| 6.357142857142857|             11.25|0.6389452332657201|17.607142857142858|17.178571428571427| 9.964285714285714|21.035714285714285|              31.0|15.071428571428571|28.392857142857142|43.464285714285715|0.6611374407582938| 0.740880503144654|0.7132292522596549|10.178571428571429|             14.75| 7.964285714285714| 9.642857142857142|19.107142857142858|17.357142857142858|              2.75|3.6785714285714284|             20.25|             17.75|\n",
            "|  2003|  1116|   9|   19|      28|0.32142857142857145|61.642857142857146|   66.53571428571429|0.9264626945786366|                 0.0|21.821428571428573|0.39267352185089976| 55.57142857142857|22.071428571428573| 6.071428571428571| 0.3102189781021898|19.571428571428573| 5.714285714285714|11.928571428571429|0.6094890510948905|19.571428571428573|16.678571428571427|14.535714285714286|23.428571428571427|37.964285714285715|10.321428571428571|22.214285714285715|32.535714285714285|1.4083044982698962|1.0546623794212218|1.1668496158068058| 9.821428571428571|11.571428571428571| 6.464285714285714| 7.464285714285714|16.678571428571427|13.285714285714286|3.5357142857142856| 3.892857142857143|20.928571428571427|18.142857142857142|\n",
            "|  2003|  1117|  11|   15|      26| 0.4230769230769231| 71.11538461538461|    69.8076923076923| 1.018732782369146|0.038461538461538464|23.692307692307693|0.43319268635724334| 54.69230769230769| 22.73076923076923| 7.923076923076923|0.37117117117117115|21.346153846153847|6.1923076923076925|15.807692307692308|0.7378815080789947|21.423076923076923|18.153846153846153|10.961538461538462|20.384615384615383|31.346153846153847| 11.73076923076923|23.384615384615383| 35.11538461538461|0.9344262295081968|0.8717105263157895|0.8926615553121577|11.923076923076923|11.538461538461538| 7.153846153846154|5.8076923076923075| 13.26923076923077|15.653846153846153|1.6538461538461537| 2.730769230769231|21.423076923076923|19.692307692307693|\n",
            "|  2003|  1119|   3|   22|      25|               0.12|             53.68|               67.48|0.7954949614700652|                 0.0|              19.6| 0.4117647058823529|              47.6|              21.8|              5.88| 0.3559322033898305|             16.52|              8.48|               8.6|0.6761006289308176|             12.72|              15.4|              7.92|             21.56|             29.48|             10.64|             21.96|              32.6|0.7443609022556391|0.9817850637522769|0.9042944785276074|             11.72|             12.96|              5.56|              7.12|             17.36|             12.88|               1.6|              3.52|             19.32|             16.76|\n",
            "|  2003|  1120|  19|   11|      30| 0.6333333333333333|              70.1|   65.56666666666666|1.0691408235892221|                 0.0|              25.7|0.46983546617915906|              54.7|              23.8| 5.633333333333334| 0.3448979591836735|16.333333333333332|               6.9|13.066666666666666|0.6621621621621622|19.733333333333334|11.066666666666666|11.933333333333334|22.566666666666666|              34.5|12.233333333333333|              20.6|32.833333333333336|0.9754768392370572|1.0954692556634305|1.0507614213197969|              13.4|12.666666666666666| 8.033333333333333| 7.833333333333333|              15.9|              15.8| 4.966666666666667|2.6666666666666665|16.366666666666667|19.133333333333333|\n",
            "|  2003|  1122|  20|    7|      27| 0.7407407407407407| 69.70370370370371|   67.70370370370371|1.0295404814004376| 0.14814814814814814|23.555555555555557| 0.4523470839260313|52.074074074074076|24.296296296296298|               6.0|0.34913793103448276|17.185185185185187| 6.296296296296297| 16.59259259259259| 0.691358024691358|              24.0|12.814814814814815| 10.62962962962963| 24.22222222222222|34.851851851851855|11.666666666666666| 22.51851851851852| 34.18518518518518|0.9111111111111111| 1.075657894736842|1.0195016251354279|13.407407407407407|13.333333333333334| 7.037037037037037| 6.814814814814815|15.222222222222221|              14.0| 4.666666666666667| 3.259259259259259|18.666666666666668| 20.25925925925926|\n",
            "|  2003|  1123|  13|   17|      30|0.43333333333333335|              73.3|   76.03333333333333| 0.964050854888207| 0.03333333333333333|25.933333333333334| 0.4288864388092613| 60.46666666666667|25.433333333333334| 5.366666666666666|              0.322|16.666666666666668| 5.266666666666667|16.066666666666666|0.7259036144578314|22.133333333333333|              19.9|13.166666666666666|21.733333333333334|              34.9|              10.9|24.966666666666665| 35.86666666666667|1.2079510703363914|0.8704939919893191|0.9730483271375465|              10.5|              14.7|               5.2| 5.633333333333334|12.833333333333334|14.533333333333333|               2.2| 2.066666666666667|22.866666666666667|21.133333333333333|\n",
            "|  2003|  1124|  14|   14|      28|                0.5|              69.0|   68.39285714285714|1.0088772845953002| 0.03571428571428571|23.607142857142858|0.40701970443349755|              58.0|26.535714285714285| 9.071428571428571|0.34185733512786004|26.535714285714285| 5.428571428571429|12.714285714285714| 0.725050916496945|17.535714285714285| 9.892857142857142|11.714285714285714|23.178571428571427|34.892857142857146|12.142857142857142|25.464285714285715|37.607142857142854|0.9647058823529412|0.9102384291725105|0.9278252611585945|14.214285714285714|13.821428571428571| 8.321428571428571| 5.571428571428571|13.285714285714286|14.678571428571429|2.9642857142857144|3.0714285714285716|             15.75|16.642857142857142|\n",
            "+------+------+----+-----+--------+-------------------+------------------+--------------------+------------------+--------------------+------------------+-------------------+------------------+------------------+------------------+-------------------+------------------+------------------+------------------+------------------+------------------+------------------+------------------+------------------+------------------+------------------+------------------+------------------+------------------+------------------+------------------+------------------+------------------+------------------+------------------+------------------+------------------+------------------+------------------+------------------+------------------+\n",
            "only showing top 20 rows\n",
            "\n"
          ]
        }
      ]
    },
    {
      "cell_type": "code",
      "source": [
        "RegularSeasonInput.describe().show()"
      ],
      "metadata": {
        "colab": {
          "base_uri": "https://localhost:8080/"
        },
        "id": "Eiy9OjE0dqpP",
        "outputId": "f7d7c35f-9cba-426a-9af0-c9f6e16a19b0"
      },
      "execution_count": 18,
      "outputs": [
        {
          "output_type": "stream",
          "name": "stdout",
          "text": [
            "+-------+------------------+------------------+------------------+------------------+-----------------+-------------------+-----------------+--------------------+------------------+-------------------+------------------+--------------------+------------------+------------------+------------------+--------------------+------------------+------------------+------------------+--------------------+------------------+------------------+------------------+------------------+------------------+------------------+------------------+------------------+-------------------+-------------------+-------------------+------------------+------------------+------------------+------------------+------------------+------------------+------------------+------------------+------------------+------------------+\n",
            "|summary|            Season|            TeamID|              Wins|             Loses|         NumGames|           WinRatio|    PointsPerGame|PointsAllowedPerGame|       PointsRatio|         OTsPerGame|         FGPerGame|             FGRatio|        FGAPerGame|  FGAllowedPerGame|        FG3PerGame|           FG3Ratio'|       FG3APerGame| FG3AllowedPerGame|         FTPerGame|             FTRatio|        FTAPerGame|   FTllowedPerGame|         ORPerGame|         DRPerGame|         TRPerGame|      OppORPerGame|       OppDRPerGam|      OppTRPerGame|            ORRatio|            DRRatio|            TRRatio|        AstPerGame|     OppAstPerGame|        StlPerGame|     OppStlPerGame|         TOPerGame|      OppTOPerGame|        BlkPerGame|     OppBlkPerGame|         PFPerGame|      OppPFPerGame|\n",
            "+-------+------------------+------------------+------------------+------------------+-----------------+-------------------+-----------------+--------------------+------------------+-------------------+------------------+--------------------+------------------+------------------+------------------+--------------------+------------------+------------------+------------------+--------------------+------------------+------------------+------------------+------------------+------------------+------------------+------------------+------------------+-------------------+-------------------+-------------------+------------------+------------------+------------------+------------------+------------------+------------------+------------------+------------------+------------------+------------------+\n",
            "|  count|              6880|              6880|              6880|              6880|             6880|               6880|             6880|                6880|              6880|               6880|              6880|                6880|              6880|              6880|              6880|                6880|              6880|              6880|              6880|                6880|              6880|              6880|              6880|              6880|              6880|              6880|              6880|              6880|               6880|               6880|               6880|              6880|              6880|              6880|              6880|              6880|              6880|              6880|              6880|              6880|              6880|\n",
            "|   mean|2012.6283430232559|1284.7686046511628|14.582848837209303| 14.56671511627907|29.14956395348837| 0.4945275835113406|69.47553561335133|   69.67187210193983| 1.001411249565924|0.06839992190941178| 24.43400584585863|  0.4359907511754905|  56.0409923077743|24.498067557181894| 6.682397094172056| 0.34299224789996574|19.439541735970128| 6.693248767745478|13.925093726654437|  0.6969570958807261|19.986511359339143|13.982456816730153|10.674718089802639|23.690467004224775|34.365185094027346|10.692466277895907|23.752330328697482| 34.44479660659328| 1.0092545752953759| 1.0045615314888954|  1.003390625573526|13.039136800588658|13.092811276746792| 6.492132432071143| 6.511480920922774|13.551989699524592|13.524508112079527|3.3090320868259857| 3.330402620803045|17.829686078576827|17.796164146051016|\n",
            "| stddev| 5.741065264333785|104.72825968197245| 6.152715321216036|5.3127698739299225|3.456520763557277|0.18722489276053536|5.807404283726616|   5.540485113953746|0.0959885992544631|0.06034968111819119| 2.156541186352199|0.026359934583297717|3.5741326891642915|2.2072489458474447|1.4007240100965974|0.028804299230990843|3.5409315659404976| 1.114949949383532|2.1409672441599237|0.039274322761512576| 2.904785675064701| 2.213183342826345|1.9667777801091935| 2.000012036062356|2.9353081307269275|1.6133026830531303|2.1103963513519206|2.8173561665585614|0.18689242234398398|0.11761409695538264|0.11072965509687774| 1.858290723610949| 1.761744440269163|1.2572927797340752|1.0324101966527441|1.8298022938531162|1.8847716822045266| 1.088525016102091| 0.635785775012166| 3.468461683594015|   3.3387750037674|\n",
            "|    min|              2003|              1101|                 1|                 1|                4|            0.03125|            49.24|   50.42857142857143|0.6504530281354316|                0.0|             16.12| 0.34207240948813983|39.785714285714285|16.962962962962962|1.8387096774193548| 0.23783783783783785| 6.064516129032258|3.1785714285714284|               7.0|  0.5424610051993067|10.346153846153847|7.3478260869565215|              3.56|15.357142857142858|             20.76| 5.181818181818182|15.733333333333333|23.566666666666666|0.39555555555555555| 0.6361767728674204| 0.6463262764632628| 7.612903225806452|               7.7|             2.875|3.3666666666666667| 7.387096774193548|           6.96875|0.6551724137931034|1.4516129032258065|               0.0|               0.0|\n",
            "|    max|              2022|              1472|                33|                31|               36| 0.9705882352941176|95.55172413793103|   98.20689655172414|1.3916849015317287|                0.4|33.857142857142854|  0.5357950263752826| 78.62068965517241|              37.2|             13.25|  0.4506024096385542|              40.3| 11.62962962962963|21.484848484848484|  0.8328981723237598|           31.1875| 23.51851851851852| 17.25925925925926| 31.12121212121212| 46.13793103448276|16.807692307692307|34.666666666666664| 49.06896551724138| 1.8912280701754387|  1.524031007751938| 1.4842657342657342|21.484848484848484| 22.24137931034483|13.241379310344827|11.642857142857142|22.321428571428573|24.275862068965516| 9.333333333333334|               6.0|27.884615384615383| 25.17241379310345|\n",
            "+-------+------------------+------------------+------------------+------------------+-----------------+-------------------+-----------------+--------------------+------------------+-------------------+------------------+--------------------+------------------+------------------+------------------+--------------------+------------------+------------------+------------------+--------------------+------------------+------------------+------------------+------------------+------------------+------------------+------------------+------------------+-------------------+-------------------+-------------------+------------------+------------------+------------------+------------------+------------------+------------------+------------------+------------------+------------------+------------------+\n",
            "\n"
          ]
        }
      ]
    },
    {
      "cell_type": "markdown",
      "source": [
        "## Tourney Input"
      ],
      "metadata": {
        "id": "ux-GHsxRs_9s"
      }
    },
    {
      "cell_type": "code",
      "source": [
        "Seeds = Seeds.withColumn('Seed', Seeds.Seed.substr(2,2))\n",
        "Seeds.show()"
      ],
      "metadata": {
        "colab": {
          "base_uri": "https://localhost:8080/"
        },
        "id": "lxIFqgpWtMkl",
        "outputId": "0a437ad0-bbf2-4707-f9ab-2a338e4ca869"
      },
      "execution_count": 90,
      "outputs": [
        {
          "output_type": "stream",
          "name": "stdout",
          "text": [
            "+------+----+------+\n",
            "|Season|Seed|TeamID|\n",
            "+------+----+------+\n",
            "|  1985|  01|  1207|\n",
            "|  1985|  02|  1210|\n",
            "|  1985|  03|  1228|\n",
            "|  1985|  04|  1260|\n",
            "|  1985|  05|  1374|\n",
            "|  1985|  06|  1208|\n",
            "|  1985|  07|  1393|\n",
            "|  1985|  08|  1396|\n",
            "|  1985|  09|  1439|\n",
            "|  1985|  10|  1177|\n",
            "|  1985|  11|  1455|\n",
            "|  1985|  12|  1330|\n",
            "|  1985|  13|  1233|\n",
            "|  1985|  14|  1318|\n",
            "|  1985|  15|  1273|\n",
            "|  1985|  16|  1250|\n",
            "|  1985|  01|  1385|\n",
            "|  1985|  02|  1433|\n",
            "|  1985|  03|  1301|\n",
            "|  1985|  04|  1424|\n",
            "+------+----+------+\n",
            "only showing top 20 rows\n",
            "\n"
          ]
        }
      ]
    },
    {
      "cell_type": "code",
      "source": [
        "Seeds.describe().show()"
      ],
      "metadata": {
        "colab": {
          "base_uri": "https://localhost:8080/"
        },
        "id": "XKcV0pqJoIfT",
        "outputId": "42516a39-e3a7-4e1a-c1a2-86d4b60447cb"
      },
      "execution_count": 91,
      "outputs": [
        {
          "output_type": "stream",
          "name": "stdout",
          "text": [
            "+-------+------------------+-----------------+------------------+\n",
            "|summary|            Season|             Seed|            TeamID|\n",
            "+-------+------------------+-----------------+------------------+\n",
            "|  count|              2354|             2354|              2354|\n",
            "|   mean|2002.7625318606626|8.620220900594733|1291.5747663551401|\n",
            "| stddev|10.475078296853514|4.646193415404665|103.31555675390796|\n",
            "|    min|              1985|               01|              1101|\n",
            "|    max|              2021|               16|              1463|\n",
            "+-------+------------------+-----------------+------------------+\n",
            "\n"
          ]
        }
      ]
    },
    {
      "cell_type": "code",
      "source": [
        "Winners = TourneyCompact.withColumnRenamed(\"WTeamID\",\"TeamID\")\n",
        "Winners =  Winners.drop(\"DayNum\",\"WScore\",\"WLoc\",\"NumOT\",\"LScore\")\n",
        "Winners = Winners.join(Seeds, ['Season','TeamID'])\n",
        "Winners = Winners.withColumnRenamed(\"Seed\",\"Team1Seed\")\n",
        "Winners = Winners.withColumnRenamed(\"TeamID\",\"Team1\")\n",
        "Winners = Winners.withColumnRenamed(\"LTeamID\",\"TeamID\")\n",
        "Winners = Winners.join(Seeds, ['Season','TeamID'])\n",
        "Winners = Winners.withColumnRenamed(\"TeamID\",\"Team2\")\n",
        "Winners = Winners.withColumnRenamed(\"Seed\",\"Team2Seed\")\n",
        "Winners = Winners.withColumn(\"Result\",lit(1))\n",
        "print('winner')\n",
        "Winners.show()\n",
        "\n",
        "Losers = Winners.withColumn(\"Result\",lit(0))\n",
        "print('loser')\n",
        "Losers.show()"
      ],
      "metadata": {
        "colab": {
          "base_uri": "https://localhost:8080/"
        },
        "id": "1BCEWQykio0h",
        "outputId": "e9987e24-48fb-4ee1-8b18-b062e24da32d"
      },
      "execution_count": 116,
      "outputs": [
        {
          "output_type": "stream",
          "name": "stdout",
          "text": [
            "winner\n",
            "+------+-----+-----+---------+---------+------+\n",
            "|Season|Team2|Team1|Team1Seed|Team2Seed|Result|\n",
            "+------+-----+-----+---------+---------+------+\n",
            "|  1985| 1385| 1207|       01|       01|     1|\n",
            "|  1985| 1210| 1207|       01|       02|     1|\n",
            "|  1985| 1260| 1207|       01|       04|     1|\n",
            "|  1985| 1396| 1207|       01|       08|     1|\n",
            "|  1985| 1250| 1207|       01|       16|     1|\n",
            "|  1985| 1228| 1210|       02|       03|     1|\n",
            "|  1985| 1393| 1210|       02|       07|     1|\n",
            "|  1985| 1273| 1210|       02|       15|     1|\n",
            "|  1985| 1208| 1228|       03|       06|     1|\n",
            "|  1985| 1318| 1228|       03|       14|     1|\n",
            "|  1985| 1374| 1260|       04|       05|     1|\n",
            "|  1985| 1233| 1260|       04|       13|     1|\n",
            "|  1985| 1330| 1374|       05|       12|     1|\n",
            "|  1985| 1455| 1208|       06|       11|     1|\n",
            "|  1985| 1177| 1393|       07|       10|     1|\n",
            "|  1985| 1439| 1396|       08|       09|     1|\n",
            "|  1985| 1301| 1385|       01|       03|     1|\n",
            "|  1985| 1246| 1385|       01|       12|     1|\n",
            "|  1985| 1116| 1385|       01|       09|     1|\n",
            "|  1985| 1380| 1385|       01|       16|     1|\n",
            "+------+-----+-----+---------+---------+------+\n",
            "only showing top 20 rows\n",
            "\n",
            "loser\n",
            "+------+-----+-----+---------+---------+------+\n",
            "|Season|Team2|Team1|Team1Seed|Team2Seed|Result|\n",
            "+------+-----+-----+---------+---------+------+\n",
            "|  1985| 1385| 1207|       01|       01|     0|\n",
            "|  1985| 1210| 1207|       01|       02|     0|\n",
            "|  1985| 1260| 1207|       01|       04|     0|\n",
            "|  1985| 1396| 1207|       01|       08|     0|\n",
            "|  1985| 1250| 1207|       01|       16|     0|\n",
            "|  1985| 1228| 1210|       02|       03|     0|\n",
            "|  1985| 1393| 1210|       02|       07|     0|\n",
            "|  1985| 1273| 1210|       02|       15|     0|\n",
            "|  1985| 1208| 1228|       03|       06|     0|\n",
            "|  1985| 1318| 1228|       03|       14|     0|\n",
            "|  1985| 1374| 1260|       04|       05|     0|\n",
            "|  1985| 1233| 1260|       04|       13|     0|\n",
            "|  1985| 1330| 1374|       05|       12|     0|\n",
            "|  1985| 1455| 1208|       06|       11|     0|\n",
            "|  1985| 1177| 1393|       07|       10|     0|\n",
            "|  1985| 1439| 1396|       08|       09|     0|\n",
            "|  1985| 1301| 1385|       01|       03|     0|\n",
            "|  1985| 1246| 1385|       01|       12|     0|\n",
            "|  1985| 1116| 1385|       01|       09|     0|\n",
            "|  1985| 1380| 1385|       01|       16|     0|\n",
            "+------+-----+-----+---------+---------+------+\n",
            "only showing top 20 rows\n",
            "\n"
          ]
        }
      ]
    },
    {
      "cell_type": "code",
      "source": [
        "TourneyInput = Winners.union(Losers)\n",
        "TourneyInput.show()\n",
        "TourneyInput.describe().show()"
      ],
      "metadata": {
        "colab": {
          "base_uri": "https://localhost:8080/"
        },
        "id": "ZFstBpXJm0i6",
        "outputId": "49ba6500-6349-401d-8b93-4186c40dc739"
      },
      "execution_count": 117,
      "outputs": [
        {
          "output_type": "stream",
          "name": "stdout",
          "text": [
            "+------+-----+-----+---------+---------+------+\n",
            "|Season|Team2|Team1|Team1Seed|Team2Seed|Result|\n",
            "+------+-----+-----+---------+---------+------+\n",
            "|  1985| 1385| 1207|       01|       01|     1|\n",
            "|  1985| 1210| 1207|       01|       02|     1|\n",
            "|  1985| 1260| 1207|       01|       04|     1|\n",
            "|  1985| 1396| 1207|       01|       08|     1|\n",
            "|  1985| 1250| 1207|       01|       16|     1|\n",
            "|  1985| 1228| 1210|       02|       03|     1|\n",
            "|  1985| 1393| 1210|       02|       07|     1|\n",
            "|  1985| 1273| 1210|       02|       15|     1|\n",
            "|  1985| 1208| 1228|       03|       06|     1|\n",
            "|  1985| 1318| 1228|       03|       14|     1|\n",
            "|  1985| 1374| 1260|       04|       05|     1|\n",
            "|  1985| 1233| 1260|       04|       13|     1|\n",
            "|  1985| 1330| 1374|       05|       12|     1|\n",
            "|  1985| 1455| 1208|       06|       11|     1|\n",
            "|  1985| 1177| 1393|       07|       10|     1|\n",
            "|  1985| 1439| 1396|       08|       09|     1|\n",
            "|  1985| 1301| 1385|       01|       03|     1|\n",
            "|  1985| 1246| 1385|       01|       12|     1|\n",
            "|  1985| 1116| 1385|       01|       09|     1|\n",
            "|  1985| 1380| 1385|       01|       16|     1|\n",
            "+------+-----+-----+---------+---------+------+\n",
            "only showing top 20 rows\n",
            "\n",
            "+-------+------------------+------------------+------------------+------------------+-----------------+------------------+\n",
            "|summary|            Season|             Team2|             Team1|         Team1Seed|        Team2Seed|            Result|\n",
            "+-------+------------------+------------------+------------------+------------------+-----------------+------------------+\n",
            "|  count|              4634|              4634|              4634|              4634|             4634|              4634|\n",
            "|   mean|2002.7583081570997|1292.0181268882175|   1286.5369011653| 4.986189037548554|8.723349158394475|               0.5|\n",
            "| stddev|  10.4699141926874|103.28169572577961|100.97782685992966|3.8441221651885957|4.601807413879459|0.5000539578051536|\n",
            "|    min|              1985|              1101|              1101|                01|               01|                 0|\n",
            "|    max|              2021|              1463|              1463|                16|               16|                 1|\n",
            "+-------+------------------+------------------+------------------+------------------+-----------------+------------------+\n",
            "\n"
          ]
        }
      ]
    },
    {
      "cell_type": "markdown",
      "source": [
        "# Make Final Input Dataframe"
      ],
      "metadata": {
        "id": "955iOH6cxjq4"
      }
    },
    {
      "cell_type": "code",
      "source": [
        "#combine tourney and season"
      ],
      "metadata": {
        "id": "pDfVeSbLyvjR"
      },
      "execution_count": null,
      "outputs": []
    },
    {
      "cell_type": "markdown",
      "source": [
        "# Model Building"
      ],
      "metadata": {
        "id": "GOjUd98MyMlQ"
      }
    },
    {
      "cell_type": "code",
      "source": [
        "spark.conf.set(\"spark.sql.execution.arrow.enabled\",\"true\")\n",
        "df=spark.createDataFrame(outscores) \n",
        "df.printSchema()\n",
        "df.show()"
      ],
      "metadata": {
        "id": "ZH-nFf2Q2r_T"
      },
      "execution_count": null,
      "outputs": []
    },
    {
      "cell_type": "code",
      "source": [
        "# Assemble all the features with VectorAssembler\n",
        "required_features = ['WinRatio',\n",
        " 'PointsPerGame',\n",
        " 'PointsAllowedPerGame',\n",
        " 'PointsRatio',\n",
        " 'OTsPerGame',\n",
        " 'FGPerGame',\n",
        " 'FGRatio',\n",
        " 'FGAPerGame',\n",
        " 'FGAllowedPerGame',\n",
        " 'FG3PerGame',\n",
        " 'FG3Ratio',\n",
        " 'FG3APerGame',\n",
        " 'FG3AllowedPerGame',\n",
        " 'FTPerGame',\n",
        " 'FTRatio',\n",
        " 'FTAPerGame',\n",
        " 'FTllowedPerGame',\n",
        " 'ORPerGame',\n",
        " 'DRPerGame',\n",
        " 'TRPerGame',\n",
        " 'OppORPerGame',\n",
        " 'OppDRPerGame',\n",
        " 'OppTRPerGame',\n",
        " 'ORRatio',\n",
        " 'DRRatio',\n",
        " 'TRRatio',\n",
        " 'AstPerGame',\n",
        " 'OppAstPerGame',\n",
        " 'StlPerGame',\n",
        " 'OppStlPerGame',\n",
        " 'TOPerGame',\n",
        " 'OppTOPerGame',\n",
        " 'BlkPerGame',\n",
        " 'OppBlkPerGame',\n",
        " 'PFPerGame',\n",
        " 'OppPFPerGame',\n",
        " 'Seed']\n",
        "from pyspark.ml.feature import VectorAssembler\n",
        "assembler = VectorAssembler(inputCols=required_features, outputCol='features')\n",
        "transformed_data = assembler.transform(df)"
      ],
      "metadata": {
        "id": "uGvcb_qyxout"
      },
      "execution_count": null,
      "outputs": []
    },
    {
      "cell_type": "code",
      "source": [
        "transformed_data.show()"
      ],
      "metadata": {
        "id": "5pGmn1hu2nAN"
      },
      "execution_count": null,
      "outputs": []
    },
    {
      "cell_type": "code",
      "source": [
        "(training_data, test_data) = transformed_data.randomSplit([0.8,0.2])"
      ],
      "metadata": {
        "id": "2HgrfXIt2ni3"
      },
      "execution_count": null,
      "outputs": []
    },
    {
      "cell_type": "code",
      "source": [
        "from pyspark.ml.classification import LogisticRegression\n",
        "lr = LogisticRegression(featuresCol = 'features', labelCol='Result', maxIter=10, regParam=0.3, elasticNetParam=0.8)\n",
        "M1 = lr.fit(training_data)\n",
        "print(\"Coefficients: \" + str(M1.coefficients))\n",
        "print(\"Intercept: \" + str(M1.intercept))"
      ],
      "metadata": {
        "id": "Gkq1Tqbj2pyL"
      },
      "execution_count": null,
      "outputs": []
    },
    {
      "cell_type": "markdown",
      "source": [
        "# TO DO\n",
        "\n",
        "1.   Get 2022 seeds\n",
        "2. Combine all regular season stats with Tournament input\n",
        "3.   Break off 2022\n",
        "4.   Make Model\n",
        "\n"
      ],
      "metadata": {
        "id": "ktQUUrrUzE3S"
      }
    }
  ],
  "metadata": {
    "colab": {
      "name": "FinalProject.ipynb",
      "provenance": [],
      "collapsed_sections": [
        "8hnp-xo1s9cO",
        "ux-GHsxRs_9s"
      ],
      "authorship_tag": "ABX9TyPD2qdFeUnQTIzd3vLe/0v0",
      "include_colab_link": true
    },
    "kernelspec": {
      "display_name": "Python 3",
      "name": "python3"
    },
    "language_info": {
      "name": "python"
    }
  },
  "nbformat": 4,
  "nbformat_minor": 0
}