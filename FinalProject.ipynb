{
  "cells": [
    {
      "cell_type": "markdown",
      "metadata": {
        "id": "view-in-github",
        "colab_type": "text"
      },
      "source": [
        "<a href=\"https://colab.research.google.com/github/andrewmarion/MarchMadness/blob/main/FinalProject.ipynb\" target=\"_parent\"><img src=\"https://colab.research.google.com/assets/colab-badge.svg\" alt=\"Open In Colab\"/></a>"
      ]
    },
    {
      "cell_type": "markdown",
      "metadata": {
        "id": "_r8xWz3M_ZR1"
      },
      "source": [
        "# March Madness\n",
        "## Final Project\n",
        "### Group 15: Andrew Marion, Dallas Hutchinson, Aydan Koyles\n"
      ]
    },
    {
      "cell_type": "markdown",
      "metadata": {
        "id": "VMwv7b_M6nxw"
      },
      "source": [
        "# Setting Up File"
      ]
    },
    {
      "cell_type": "code",
      "execution_count": 1,
      "metadata": {
        "id": "XFeSHdrg4QCK"
      },
      "outputs": [],
      "source": [
        "!apt-get install openjdk-8-jdk-headless -qq > /dev/null\n",
        "!wget -q https://archive.apache.org/dist/spark/spark-3.2.0/spark-3.2.0-bin-hadoop3.2.tgz\n",
        "!tar xf spark-3.2.0-bin-hadoop3.2.tgz\n",
        "!pip install -q findspark"
      ]
    },
    {
      "cell_type": "code",
      "execution_count": 2,
      "metadata": {
        "id": "Iyz-0-no4f6U",
        "colab": {
          "base_uri": "https://localhost:8080/"
        },
        "outputId": "db55af85-7ee2-4546-c1f3-22f01b21c31e"
      },
      "outputs": [
        {
          "output_type": "stream",
          "name": "stdout",
          "text": [
            "Drive already mounted at /content/gdrive; to attempt to forcibly remount, call drive.mount(\"/content/gdrive\", force_remount=True).\n"
          ]
        }
      ],
      "source": [
        "from google.colab import drive\n",
        "\n",
        "drive.mount('/content/gdrive')"
      ]
    },
    {
      "cell_type": "code",
      "execution_count": 3,
      "metadata": {
        "id": "Sf6DkghV4ikT"
      },
      "outputs": [],
      "source": [
        "import os\n",
        "os.environ[\"JAVA_HOME\"] = \"/usr/lib/jvm/java-8-openjdk-amd64\"\n",
        "os.environ[\"SPARK_HOME\"] = \"spark-3.2.0-bin-hadoop3.2\""
      ]
    },
    {
      "cell_type": "code",
      "execution_count": 4,
      "metadata": {
        "id": "nBXgfIgm4kBS"
      },
      "outputs": [],
      "source": [
        "import findspark\n",
        "findspark.init()"
      ]
    },
    {
      "cell_type": "code",
      "execution_count": 5,
      "metadata": {
        "colab": {
          "base_uri": "https://localhost:8080/",
          "height": 0
        },
        "id": "gHPsL6db5j-7",
        "outputId": "56fa890d-6981-48a5-ed6c-fa08486fd3d9"
      },
      "outputs": [
        {
          "output_type": "execute_result",
          "data": {
            "text/plain": [
              "<SparkContext master=local[*] appName=pyspark-shell>"
            ],
            "text/html": [
              "\n",
              "        <div>\n",
              "            <p><b>SparkContext</b></p>\n",
              "\n",
              "            <p><a href=\"http://5a4e301e6400:4040\">Spark UI</a></p>\n",
              "\n",
              "            <dl>\n",
              "              <dt>Version</dt>\n",
              "                <dd><code>v3.2.0</code></dd>\n",
              "              <dt>Master</dt>\n",
              "                <dd><code>local[*]</code></dd>\n",
              "              <dt>AppName</dt>\n",
              "                <dd><code>pyspark-shell</code></dd>\n",
              "            </dl>\n",
              "        </div>\n",
              "        "
            ]
          },
          "metadata": {},
          "execution_count": 5
        }
      ],
      "source": [
        "from pyspark.sql import SparkSession\n",
        "spark = SparkSession.builder.master(\"local[*]\").getOrCreate()\n",
        "sc = spark.sparkContext\n",
        "sc"
      ]
    },
    {
      "cell_type": "markdown",
      "metadata": {
        "id": "JttbqUXL_gYp"
      },
      "source": [
        "# Imports"
      ]
    },
    {
      "cell_type": "code",
      "execution_count": 6,
      "metadata": {
        "id": "iAcoi-tS5m_s"
      },
      "outputs": [],
      "source": [
        "import json\n",
        "from pyspark.mllib.classification import LogisticRegressionModel,LogisticRegressionWithLBFGS, SVMWithSGD, SVMModel\n",
        "from pyspark.mllib.regression import LabeledPoint, LinearRegressionWithSGD, LinearRegressionModel\n",
        "from pyspark.mllib.clustering import *\n",
        "import pyspark.sql\n",
        "from pyspark.sql import Row\n",
        "from pyspark.sql.types import *\n",
        "from pyspark.sql import SparkSession\n",
        "from pyspark.mllib.stat import Statistics\n",
        "from pyspark.ml.linalg import Vectors\n",
        "from pyspark.ml.stat import Correlation\n",
        "from pyspark.ml.clustering import LDA\n",
        "import numpy as np\n",
        "import pyspark.sql.functions as f\n",
        "from pyspark.sql.functions import lit"
      ]
    },
    {
      "cell_type": "markdown",
      "metadata": {
        "id": "6RwqudsixElg"
      },
      "source": [
        "# Read in csv file"
      ]
    },
    {
      "cell_type": "code",
      "execution_count": 7,
      "metadata": {
        "id": "nPFml9US6Vsk"
      },
      "outputs": [],
      "source": [
        "RegularSeason = spark.read.option(\"header\",True).csv(\"/content/gdrive/MyDrive/MDataFiles_Stage1/MRegularSeasonDetailedResults.csv\", inferSchema = True)\n",
        "Seeds = spark.read.option(\"header\",True).csv(\"/content/gdrive/MyDrive/MDataFiles_Stage1/MNCAATourneySeeds.csv\", inferSchema = True)\n",
        "Tourney = spark.read.option(\"header\",True).csv(\"/content/gdrive/MyDrive/MDataFiles_Stage1/MNCAATourneyDetailedResults.csv\", inferSchema = True)\n",
        "Massey = spark.read.option(\"header\",True).csv(\"/content/gdrive/MyDrive/MDataFiles_Stage1/MMasseyOrdinals.csv\", inferSchema = True)\n",
        "Conferences = spark.read.option(\"header\",True).csv(\"/content/gdrive/MyDrive/MDataFiles_Stage1/MNCAATourneySeeds.csv\", inferSchema = True)\n",
        "Coaches = spark.read.option(\"header\",True).csv(\"/content/gdrive/MyDrive/MDataFiles_Stage1/MTeamCoaches.csv\", inferSchema = True)\n",
        "TourneyCompact = spark.read.option(\"header\",True).csv(\"/content/gdrive/MyDrive/MDataFiles_Stage1/MNCAATourneyCompactResults.csv\", inferSchema = True)\n"
      ]
    },
    {
      "cell_type": "markdown",
      "metadata": {
        "id": "5nWnumC2_kTJ"
      },
      "source": [
        "# Clean / Explore Data"
      ]
    },
    {
      "cell_type": "markdown",
      "source": [
        "## Season Input"
      ],
      "metadata": {
        "id": "8hnp-xo1s9cO"
      }
    },
    {
      "cell_type": "code",
      "execution_count": 8,
      "metadata": {
        "id": "Th6pwnvVqQIu"
      },
      "outputs": [],
      "source": [
        "WinTeams = RegularSeason.groupBy('Season', 'WTeamID').sum('WScore','LScore','NumOT','WFGM','WFGA','WFGM3','WFGA3','WFTM','WFTA','WOR','WDR','WAst','WTO','WStl','WBlk','WPF','LFGM','LFGA','LFGM3','LFGA3','LFTM','LFTA','LOR','LDR','LAst','LTO','LStl','LBlk','LPF')\n",
        "LoseTeams = RegularSeason.groupBy('Season', 'LTeamID').sum('WScore','LScore','NumOT','WFGM','WFGA','WFGM3','WFGA3','WFTM','WFTA','WOR','WDR','WAst','WTO','WStl','WBlk','WPF','LFGM','LFGA','LFGM3','LFGA3','LFTM','LFTA','LOR','LDR','LAst','LTO','LStl','LBlk','LPF')"
      ]
    },
    {
      "cell_type": "code",
      "execution_count": 9,
      "metadata": {
        "colab": {
          "base_uri": "https://localhost:8080/"
        },
        "id": "5RwYbtfmX9Kr",
        "outputId": "1a5a104e-3c42-4f74-979e-eb3d5f2a845d"
      },
      "outputs": [
        {
          "output_type": "stream",
          "name": "stdout",
          "text": [
            "+------+------+----+-----+--------+\n",
            "|Season|TeamID|Wins|Loses|NumGames|\n",
            "+------+------+----+-----+--------+\n",
            "|  2003|  1226|  13|   14|      27|\n",
            "|  2003|  1189|  10|   15|      25|\n",
            "|  2009|  1401|  23|    9|      32|\n",
            "|  2011|  1431|  24|    9|      33|\n",
            "|  2006|  1173|  13|   17|      30|\n",
            "|  2006|  1153|  18|   12|      30|\n",
            "|  2007|  1275|  18|   14|      32|\n",
            "|  2007|  1175|  20|   12|      32|\n",
            "|  2008|  1145|   6|   25|      31|\n",
            "|  2008|  1313|  16|   15|      31|\n",
            "|  2008|  1229|  23|    9|      32|\n",
            "|  2008|  1325|  19|   12|      31|\n",
            "|  2009|  1286|  13|   17|      30|\n",
            "|  2009|  1189|   9|   20|      29|\n",
            "|  2009|  1267|  12|   17|      29|\n",
            "|  2012|  1334|   9|   19|      28|\n",
            "|  2013|  1158|  24|    9|      33|\n",
            "|  2013|  1104|  20|   12|      32|\n",
            "|  2015|  1165|  12|   17|      29|\n",
            "|  2015|  1337|  17|   13|      30|\n",
            "+------+------+----+-----+--------+\n",
            "only showing top 20 rows\n",
            "\n"
          ]
        }
      ],
      "source": [
        "NumWin = RegularSeason.groupBy('Season', 'WTeamID').count()\n",
        "NumWin = NumWin.withColumnRenamed(\"count\", \"Wins\")\n",
        "NumWin = NumWin.withColumnRenamed(\"WTeamID\", \"TeamID\")\n",
        "\n",
        "NumLose = RegularSeason.groupBy('Season', 'LTeamID').count()\n",
        "NumLose = NumLose.withColumnRenamed(\"count\", \"Loses\")\n",
        "NumLose = NumLose.withColumnRenamed(\"LTeamID\", \"TeamID\")\n",
        "\n",
        "merged_df = NumWin.join(NumLose, ['Season','TeamID'])\n",
        "merged_df = merged_df.withColumn('NumGames', merged_df.Wins + merged_df.Loses)\n",
        "merged_df.show()"
      ]
    },
    {
      "cell_type": "markdown",
      "metadata": {
        "id": "uuc2LaZ35di9"
      },
      "source": [
        "for win team: rename all w to generaric ones and all L to opp as they are opponent stats.\n",
        "\n",
        "Also add count to get number of wins\n",
        "\n",
        "\n"
      ]
    },
    {
      "cell_type": "markdown",
      "metadata": {
        "id": "Ze_I7Wuh5oqr"
      },
      "source": [
        "for lose team: rename all L to generaric ones and all W to opp as they are opponent stats\n",
        "\n",
        "Also add count to get number of loses"
      ]
    },
    {
      "cell_type": "markdown",
      "metadata": {
        "id": "Gtx1iOhA7ns_"
      },
      "source": [
        "the combine them off of team id"
      ]
    },
    {
      "cell_type": "code",
      "execution_count": 10,
      "metadata": {
        "id": "zQoWWIxE2vrS"
      },
      "outputs": [],
      "source": [
        "# Get all win stats for each team\n",
        "WinTeams = WinTeams.withColumnRenamed(\"WTeamID\", \"TeamID\")\n",
        "WinTeams = WinTeams.withColumnRenamed(\"sum(WScore)\", \"WPTS\")\n",
        "WinTeams = WinTeams.withColumnRenamed(\"sum(LScore)\", \"WOppPTS\")\n",
        "WinTeams = WinTeams.withColumnRenamed(\"sum(NumOT)\", \"WOTs\")\n",
        "WinTeams = WinTeams.withColumnRenamed(\"sum(WFGM)\", \"WFGM\")\n",
        "WinTeams = WinTeams.withColumnRenamed(\"sum(WFGA)\", \"WFGA\")\n",
        "WinTeams = WinTeams.withColumnRenamed(\"sum(WFGA3)\", \"WFGA3\")\n",
        "WinTeams = WinTeams.withColumnRenamed(\"sum(WFGM3)\", \"WFGM3\")\n",
        "WinTeams = WinTeams.withColumnRenamed(\"sum(WFTA)\", \"WFTA\")\n",
        "WinTeams = WinTeams.withColumnRenamed(\"sum(WFTM)\", \"WFTM\")\n",
        "WinTeams = WinTeams.withColumnRenamed(\"sum(WOR)\", \"WOR\")\n",
        "WinTeams = WinTeams.withColumnRenamed(\"sum(WDR)\", \"WDR\")\n",
        "WinTeams = WinTeams.withColumnRenamed(\"sum(WAst)\", \"WAST\")\n",
        "WinTeams = WinTeams.withColumnRenamed(\"sum(WTO)\", \"WTO\")\n",
        "WinTeams = WinTeams.withColumnRenamed(\"sum(WStl)\", \"WSTL\")\n",
        "WinTeams = WinTeams.withColumnRenamed(\"sum(WBlk)\", \"WBLK\")\n",
        "WinTeams = WinTeams.withColumnRenamed(\"sum(WPF)\", \"WPF\")\n",
        "WinTeams = WinTeams.withColumnRenamed(\"sum(LFGM)\", \"WOppFGM\")\n",
        "WinTeams = WinTeams.withColumnRenamed(\"sum(LFGA)\", \"WOppFGA\")\n",
        "WinTeams = WinTeams.withColumnRenamed(\"sum(LFGA3)\", \"WOppFGA3\")\n",
        "WinTeams = WinTeams.withColumnRenamed(\"sum(LFGM3)\", \"WOppFGM3\")\n",
        "WinTeams = WinTeams.withColumnRenamed(\"sum(LFTA)\", \"WOppFTA\")\n",
        "WinTeams = WinTeams.withColumnRenamed(\"sum(LFTM)\", \"WOppFTM\")\n",
        "WinTeams = WinTeams.withColumnRenamed(\"sum(LOR)\", \"WOppOR\")\n",
        "WinTeams = WinTeams.withColumnRenamed(\"sum(LDR)\", \"WOppDR\")\n",
        "WinTeams = WinTeams.withColumnRenamed(\"sum(LAst)\", \"WOppAST\")\n",
        "WinTeams = WinTeams.withColumnRenamed(\"sum(LTO)\", \"WOppTO\")\n",
        "WinTeams = WinTeams.withColumnRenamed(\"sum(LStl)\", \"WOppSTL\")\n",
        "WinTeams = WinTeams.withColumnRenamed(\"sum(LBlk)\", \"WOppBLK\")\n",
        "WinTeams = WinTeams.withColumnRenamed(\"sum(LPF)\", \"WOppPF\")"
      ]
    },
    {
      "cell_type": "code",
      "execution_count": 11,
      "metadata": {
        "id": "jiRv0yOyWcEq"
      },
      "outputs": [],
      "source": [
        "# Get all loss stats for each team\n",
        "LoseTeams = LoseTeams.withColumnRenamed(\"LTeamID\", \"TeamID\")\n",
        "LoseTeams = LoseTeams.withColumnRenamed(\"sum(WScore)\", \"LOppPTS\")\n",
        "LoseTeams = LoseTeams.withColumnRenamed(\"sum(LScore)\", \"LPTS\")\n",
        "LoseTeams = LoseTeams.withColumnRenamed(\"sum(NumOT)\", \"LOTs\")\n",
        "LoseTeams = LoseTeams.withColumnRenamed(\"sum(WFGM)\", \"LOppFGM\")\n",
        "LoseTeams = LoseTeams.withColumnRenamed(\"sum(WFGA)\", \"LOppFGA\")\n",
        "LoseTeams = LoseTeams.withColumnRenamed(\"sum(WFGA3)\", \"LOppFGA3\")\n",
        "LoseTeams = LoseTeams.withColumnRenamed(\"sum(WFGM3)\", \"LOppFGM3\")\n",
        "LoseTeams = LoseTeams.withColumnRenamed(\"sum(WFTA)\", \"LOppFTA\")\n",
        "LoseTeams = LoseTeams.withColumnRenamed(\"sum(WFTM)\", \"LOppFTM\")\n",
        "LoseTeams = LoseTeams.withColumnRenamed(\"sum(WOR)\", \"LOppOR\")\n",
        "LoseTeams = LoseTeams.withColumnRenamed(\"sum(WDR)\", \"LOppDR\")\n",
        "LoseTeams = LoseTeams.withColumnRenamed(\"sum(WAst)\", \"LOppAST\")\n",
        "LoseTeams = LoseTeams.withColumnRenamed(\"sum(WTO)\", \"LOppTO\")\n",
        "LoseTeams = LoseTeams.withColumnRenamed(\"sum(WStl)\", \"LOppSTL\")\n",
        "LoseTeams = LoseTeams.withColumnRenamed(\"sum(WBlk)\", \"LOppBLK\")\n",
        "LoseTeams = LoseTeams.withColumnRenamed(\"sum(WPF)\", \"LOppPF\")\n",
        "LoseTeams = LoseTeams.withColumnRenamed(\"sum(LFGM)\", \"LFGM\")\n",
        "LoseTeams = LoseTeams.withColumnRenamed(\"sum(LFGA)\", \"LFGA\")\n",
        "LoseTeams = LoseTeams.withColumnRenamed(\"sum(LFGA3)\", \"LFGA3\")\n",
        "LoseTeams = LoseTeams.withColumnRenamed(\"sum(LFGM3)\", \"LFGM3\")\n",
        "LoseTeams = LoseTeams.withColumnRenamed(\"sum(LFTA)\", \"LFTA\")\n",
        "LoseTeams = LoseTeams.withColumnRenamed(\"sum(LFTM)\", \"LFTM\")\n",
        "LoseTeams = LoseTeams.withColumnRenamed(\"sum(LOR)\", \"LOR\")\n",
        "LoseTeams = LoseTeams.withColumnRenamed(\"sum(LDR)\", \"LDR\")\n",
        "LoseTeams = LoseTeams.withColumnRenamed(\"sum(LAst)\", \"LAST\")\n",
        "LoseTeams = LoseTeams.withColumnRenamed(\"sum(LTO)\", \"LTO\")\n",
        "LoseTeams = LoseTeams.withColumnRenamed(\"sum(LStl)\", \"LSTL\")\n",
        "LoseTeams = LoseTeams.withColumnRenamed(\"sum(LBlk)\", \"LBLK\")\n",
        "LoseTeams = LoseTeams.withColumnRenamed(\"sum(LPF)\", \"LPF\")"
      ]
    },
    {
      "cell_type": "code",
      "source": [
        "#LoseTeams.filter(LoseTeams.Season == 2022).show()"
      ],
      "metadata": {
        "id": "nObPxnvvyvsW"
      },
      "execution_count": 12,
      "outputs": []
    },
    {
      "cell_type": "code",
      "source": [
        "# combine win teams and lose teams\n",
        "Season = WinTeams.join(LoseTeams, ['Season','TeamID'])"
      ],
      "metadata": {
        "id": "18Nr9TSh4udU"
      },
      "execution_count": 13,
      "outputs": []
    },
    {
      "cell_type": "code",
      "source": [
        "# Combine coluns\n",
        "Season = Season.withColumn(\"OppPTS\", Season.WOppPTS + Season.LOppPTS) \n",
        "Season = Season.withColumn(\"PTS\", Season.WPTS + Season.LPTS) \n",
        "Season = Season.withColumn(\"OTs\", Season.WOTs + Season.LOTs) \n",
        "Season = Season.withColumn(\"OppFGM\", Season.WOppFGM + Season.LOppFGM)\n",
        "Season = Season.withColumn(\"OppFGA\", Season.WOppFGA + Season.LOppFGA)\n",
        "Season = Season.withColumn(\"OppFGA3\", Season.WOppFGA3 + Season.LOppFGA3)\n",
        "Season = Season.withColumn(\"OppFGM3\", Season.WOppFGM3 + Season.LOppFGM3) \n",
        "Season = Season.withColumn(\"OppFTA\", Season.WOppFTA + Season.LOppFTA) \n",
        "Season = Season.withColumn(\"OppFTM\", Season.WOppFTM + Season.LOppFTM) \n",
        "Season = Season.withColumn(\"OppOR\", Season.WOppOR + Season.LOppOR) \n",
        "Season = Season.withColumn(\"OppDR\", Season.WOppDR + Season.LOppDR) \n",
        "Season = Season.withColumn(\"OppAST\", Season.WOppAST + Season.LOppAST) \n",
        "Season = Season.withColumn(\"OppTO\", Season.WOppTO + Season.LOppTO) \n",
        "Season = Season.withColumn(\"OppSTL\", Season.WOppSTL + Season.LOppSTL) \n",
        "Season = Season.withColumn(\"OppBLK\", Season.WOppBLK + Season.LOppBLK) \n",
        "Season = Season.withColumn(\"OppPF\", Season.WOppPF + Season.LOppPF) \n",
        "Season = Season.withColumn(\"FGM\", Season.WFGM + Season.LFGM) \n",
        "Season = Season.withColumn(\"FGA\", Season.WFGA + Season.LFGA) \n",
        "Season = Season.withColumn(\"FGA3\", Season.WFGA3 + Season.LFGA3) \n",
        "Season = Season.withColumn(\"FGM3\", Season.WFGM3 + Season.LFGM3) \n",
        "Season = Season.withColumn(\"FTA\", Season.WFTA + Season.LFTA) \n",
        "Season = Season.withColumn(\"FTM\", Season.WFTM + Season.LFTM) \n",
        "Season = Season.withColumn(\"OR\", Season.WOR + Season.LOR) \n",
        "Season = Season.withColumn(\"DR\", Season.WDR + Season.LDR) \n",
        "Season = Season.withColumn(\"AST\", Season.WAST + Season.LAST)\n",
        "Season = Season.withColumn(\"TO\", Season.WTO + Season.LTO) \n",
        "Season = Season.withColumn(\"STL\", Season.WSTL + Season.LSTL)\n",
        "Season = Season.withColumn(\"BLK\", Season.WBLK + Season.LBLK)\n",
        "Season = Season.withColumn(\"PF\", Season.WPF + Season.LPF)\n",
        "\n",
        "# Drop Unwanted Columns\n",
        "Season =  Season.drop(\"WPTS\",\"WOppPTS\",\"WOTs\",\"WFGM\",\"WFGA\",\"WFGM3\",\"WFGA3\",\"WFTM\",\"WFTA\",\"WOR\",\"WDR\",\"WAST\",\"WTO\",\"WSTL\",\"WBLK\",\"WPF\",\"WOppFGM\",\"WOppFGA\",\"WOppFGM3\",\"WOppFGA3\",\"WOppFTM\",\"WOppFTA\",\"WOppOR\",\"WOppDR\",\"WOppAST\",\"WOppTO\",\"WOppSTL\",\"WOppBLK\",\"WOppPF\",\"LOppPTS\",\"LPTS\",\"LOTs\",\"LOppFGM\",\"LOppFGA\",\"LOppFGM3\",\"LOppFGA3\",\"LOppFTM\",\"LOppFTA\",\"LOppOR\",\"LOppDR\",\"LOppAST\",\"LOppTO\",\"LOppSTL\",\"LOppBLK\",\"LOppPF\",\"LFGM\",\"LFGA\",\"LFGM3\",\"LFGA3\",\"LFTM\",\"LFTA\",\"LOR\",\"LDR\",\"LAST\",\"LTO\",\"LSTL\",\"LBLK\",\"LPF\")"
      ],
      "metadata": {
        "id": "vXpWsAaGx2md"
      },
      "execution_count": 14,
      "outputs": []
    },
    {
      "cell_type": "code",
      "source": [
        "# Combine merged and season\n",
        "Season_Stats = Season.join(merged_df, ['Season','TeamID'])"
      ],
      "metadata": {
        "id": "vaiJQYmdRj6U"
      },
      "execution_count": 15,
      "outputs": []
    },
    {
      "cell_type": "markdown",
      "source": [
        "Make season stats for input"
      ],
      "metadata": {
        "id": "Asy10tvTR_Hm"
      }
    },
    {
      "cell_type": "code",
      "source": [
        "#Wins, PPG, PPG Allowed, Points Ratio, OTs\n",
        "#RegularSeasonInput['WinRatio'] = combinedTeams['Wins'] / combinedTeams['NumGames']\n",
        "RegularSeasonInput = Season_Stats.withColumn(\"WinRatio\", Season_Stats.Wins /  Season_Stats.NumGames) \n",
        "#RegularSeasonInput['PointsPerGame'] = combinedTeams['Points'] / combinedTeams['NumGames']\n",
        "RegularSeasonInput = RegularSeasonInput.withColumn(\"PointsPerGame\", Season_Stats.PTS /  Season_Stats.NumGames)\n",
        "#RegularSeasonInput['PointsAllowedPerGame'] = combinedTeams['OppPoints'] / combinedTeams['NumGames']\n",
        "RegularSeasonInput = RegularSeasonInput.withColumn(\"PointsAllowedPerGame\", Season_Stats.OppPTS /  Season_Stats.NumGames)\n",
        "#RegularSeasonInput['PointsRatio'] = combinedTeams['Points'] / combinedTeams['OppPoints']\n",
        "RegularSeasonInput = RegularSeasonInput.withColumn(\"PointsRatio\", Season_Stats.PTS /  Season_Stats.OppPTS)\n",
        "#RegularSeasonInput['OTsPerGame'] = combinedTeams['NumOT'] / combinedTeams['NumGames']\n",
        "RegularSeasonInput = RegularSeasonInput.withColumn(\"OTsPerGame\", Season_Stats.OTs /  Season_Stats.NumGames)\n",
        "#Field Goals\n",
        "#RegularSeasonInput['FGPerGame'] = combinedTeams['FGM'] / combinedTeams['NumGames']\n",
        "RegularSeasonInput = RegularSeasonInput.withColumn(\"FGPerGame\", Season_Stats.FGM /  Season_Stats.NumGames)\n",
        "#RegularSeasonInput['FGRatio'] = combinedTeams['FGM'] / combinedTeams['FGA']\n",
        "RegularSeasonInput = RegularSeasonInput.withColumn(\"FGRatio\", Season_Stats.FGM /  Season_Stats.FGA)\n",
        "#RegularSeasonInput['FGAPerGame'] = combinedTeams['FGA'] / combinedTeams['NumGames']\n",
        "RegularSeasonInput = RegularSeasonInput.withColumn(\"FGAPerGame\", Season_Stats.FGA /  Season_Stats.NumGames)\n",
        "#RegularSeasonInput['FGAllowedPerGame'] = combinedTeams['OppFGM'] / combinedTeams['NumGames']\n",
        "RegularSeasonInput = RegularSeasonInput.withColumn(\"FGAllowedPerGame\", Season_Stats.OppFGM /  Season_Stats.NumGames)\n",
        "#Three Pointers\n",
        "#RegularSeasonInput['FG3PerGame'] = combinedTeams['FGM3'] / combinedTeams['NumGames']\n",
        "RegularSeasonInput = RegularSeasonInput.withColumn(\"FG3PerGame\", Season_Stats.FGM3 /  Season_Stats.NumGames)\n",
        "#RegularSeasonInput['FG3Ratio'] = combinedTeams['FGM3'] / combinedTeams['FGA3']\n",
        "RegularSeasonInput = RegularSeasonInput.withColumn(\"FG3Ratio\", Season_Stats.FGM3 /  Season_Stats.FGA3)\n",
        "#RegularSeasonInput['FG3APerGame'] = combinedTeams['FGA3'] / combinedTeams['NumGames']\n",
        "RegularSeasonInput = RegularSeasonInput.withColumn(\"FG3APerGame\", Season_Stats.FGA3 /  Season_Stats.NumGames)\n",
        "#RegularSeasonInput['FG3AllowedPerGame'] = combinedTeams['OppFGM3'] / combinedTeams['NumGames']\n",
        "RegularSeasonInput = RegularSeasonInput.withColumn(\"FG3AllowedPerGame\", Season_Stats.OppFGM3 /  Season_Stats.NumGames)\n",
        "#Free Throws\n",
        "#RegularSeasonInput['FTPerGame'] = combinedTeams['FTM'] / combinedTeams['NumGames']\n",
        "RegularSeasonInput = RegularSeasonInput.withColumn(\"FTPerGame\", Season_Stats.FTM /  Season_Stats.NumGames)\n",
        "#RegularSeasonInput['FTRatio'] = combinedTeams['FTM'] / combinedTeams['FTA']\n",
        "RegularSeasonInput = RegularSeasonInput.withColumn(\"FTRatio\", Season_Stats.FTM /  Season_Stats.FTA)\n",
        "#RegularSeasonInput['FTAPerGame'] = combinedTeams['FTA'] / combinedTeams['NumGames']\n",
        "RegularSeasonInput = RegularSeasonInput.withColumn(\"FTAPerGame\", Season_Stats.FTA /  Season_Stats.NumGames)\n",
        "#RegularSeasonInput['FTllowedPerGame'] = combinedTeams['OppFTM'] / combinedTeams['NumGames']\n",
        "RegularSeasonInput = RegularSeasonInput.withColumn(\"FTllowedPerGame\", Season_Stats.OppFTM /  Season_Stats.NumGames)\n",
        "#Rebounds\n",
        "#RegularSeasonInput['ORPerGame'] = combinedTeams['OR'] / combinedTeams['NumGames']\n",
        "RegularSeasonInput = RegularSeasonInput.withColumn(\"ORPerGame\", Season_Stats.OR /  Season_Stats.NumGames)\n",
        "#RegularSeasonInput['DRPerGame'] = combinedTeams['DR'] / combinedTeams['NumGames']\n",
        "RegularSeasonInput = RegularSeasonInput.withColumn(\"DRPerGame\", Season_Stats.DR /  Season_Stats.NumGames)\n",
        "#RegularSeasonInput['TRPerGame'] = (combinedTeams['OR'] + combinedTeams['DR']) / combinedTeams['NumGames']\n",
        "RegularSeasonInput = RegularSeasonInput.withColumn(\"TRPerGame\", (Season_Stats.OR+ Season_Stats.DR) /  Season_Stats.NumGames)\n",
        "#RegularSeasonInput['OppORPerGame'] = combinedTeams['OppOR'] / combinedTeams['NumGames']\n",
        "RegularSeasonInput = RegularSeasonInput.withColumn(\"OppORPerGame\", Season_Stats.OppOR /  Season_Stats.NumGames)\n",
        "#RegularSeasonInput['OppDRPerGame'] = combinedTeams['OppDR'] / combinedTeams['NumGames']\n",
        "RegularSeasonInput = RegularSeasonInput.withColumn(\"OppDRPerGame\", Season_Stats.OppDR /  Season_Stats.NumGames)\n",
        "#RegularSeasonInput['OppTRPerGame'] = (combinedTeams['OppOR'] + combinedTeams['OppDR']) / combinedTeams['NumGames']\n",
        "RegularSeasonInput = RegularSeasonInput.withColumn(\"OppTRPerGame\", (Season_Stats.OppOR +  Season_Stats.OppDR) / Season_Stats.NumGames)\n",
        "#RegularSeasonInput['ORRatio'] = combinedTeams['OR'] / combinedTeams['OppOR']\n",
        "RegularSeasonInput = RegularSeasonInput.withColumn(\"ORRatio\", Season_Stats.OR /  Season_Stats.OppOR)\n",
        "#RegularSeasonInput['DRRatio'] = combinedTeams['DR'] / combinedTeams['OppDR']\n",
        "RegularSeasonInput = RegularSeasonInput.withColumn(\"DRRatio\", Season_Stats.DR /  Season_Stats.OppDR)\n",
        "#RegularSeasonInput['TRRatio'] = (combinedTeams['OR'] + combinedTeams['DR']) / (combinedTeams['OppOR'] + combinedTeams['OppDR'])\n",
        "RegularSeasonInput = RegularSeasonInput.withColumn(\"TRRatio\", (Season_Stats.OR +  Season_Stats.DR) / (Season_Stats.OppOR +  Season_Stats.OppDR))\n",
        "#Assists\n",
        "#RegularSeasonInput['AstPerGame'] = combinedTeams['Ast'] / combinedTeams['NumGames']\n",
        "RegularSeasonInput = RegularSeasonInput.withColumn(\"AstPerGame\", Season_Stats.AST /  Season_Stats.NumGames)\n",
        "#RegularSeasonInput['OppAstPerGame'] = combinedTeams['OppAst'] / combinedTeams['NumGames']\n",
        "RegularSeasonInput = RegularSeasonInput.withColumn(\"OppAstPerGame\", Season_Stats.OppAST /  Season_Stats.NumGames)\n",
        "#Steals\n",
        "#RegularSeasonInput['StlPerGame'] = combinedTeams['Stl'] / combinedTeams['NumGames']\n",
        "RegularSeasonInput = RegularSeasonInput.withColumn(\"StlPerGame\", Season_Stats.STL /  Season_Stats.NumGames)\n",
        "#RegularSeasonInput['OppStlPerGame'] = combinedTeams['OppStl'] / combinedTeams['NumGames']\n",
        "RegularSeasonInput = RegularSeasonInput.withColumn(\"OppStlPerGame\", Season_Stats.OppSTL /  Season_Stats.NumGames)\n",
        "#Turnovers\n",
        "#RegularSeasonInput['TOPerGame'] = combinedTeams['TO'] / combinedTeams['NumGames']\n",
        "RegularSeasonInput = RegularSeasonInput.withColumn(\"TOPerGame\", Season_Stats.TO / Season_Stats.NumGames)\n",
        "#RegularSeasonInput['OppTOPerGame'] = combinedTeams['OppTO'] / combinedTeams['NumGames']\n",
        "RegularSeasonInput = RegularSeasonInput.withColumn(\"OppTOPerGame\", Season_Stats.OppTO / Season_Stats.NumGames)\n",
        "#Blocks\n",
        "#RegularSeasonInput['BlkPerGame'] = combinedTeams['Blk'] / combinedTeams['NumGames']\n",
        "RegularSeasonInput = RegularSeasonInput.withColumn(\"BlkPerGame\", Season_Stats.BLK / Season_Stats.NumGames)\n",
        "#RegularSeasonInput['OppBlkPerGame'] = combinedTeams['OppBlk'] / combinedTeams['NumGames']\n",
        "RegularSeasonInput = RegularSeasonInput.withColumn(\"OppBlkPerGame\", Season_Stats.OppBLK /  Season_Stats.NumGames)\n",
        "#Personal Fouls\n",
        "#RegularSeasonInput['PFPerGame'] = combinedTeams['PF'] / combinedTeams['NumGames']\n",
        "RegularSeasonInput = RegularSeasonInput.withColumn(\"PFPerGame\", Season_Stats.PF /  Season_Stats.NumGames)\n",
        "#RegularSeasonInput['OppPFPerGame'] = combinedTeams['OppPF'] / combinedTeams['NumGames']\n",
        "RegularSeasonInput = RegularSeasonInput.withColumn(\"OppPFPerGame\", Season_Stats.OppPF /  Season_Stats.NumGames)\n",
        "\n",
        "#drop unwanted columns\n",
        "RegularSeasonInput =  RegularSeasonInput.drop(\"PTS\",\"OppPTS\",\"OTs\",\"FGM\",\"FGA\",\"FGM3\",\"FGA3\",\"FTM\",\"FTA\",\"OR\",\"DR\",\"AST\",\"TO\",\"STL\",\"BLK\",\"PF\",\"OppFGM\",\"OppFGA\",\"OppFGM3\",\"OppFGA3\",\"OppFTM\",\"OppFTA\",\"OppOR\",\"OppDR\",\"OppAST\",\"OppTO\",\"OppSTL\",\"OppBLK\",\"OppPF\")\n",
        "#show\n",
        "RegularSeasonInput.show()"
      ],
      "metadata": {
        "colab": {
          "base_uri": "https://localhost:8080/"
        },
        "id": "s_W3B0bwSRv0",
        "outputId": "c278d6dd-e66c-46d5-d955-c1e7639655cc"
      },
      "execution_count": 16,
      "outputs": [
        {
          "output_type": "stream",
          "name": "stdout",
          "text": [
            "+------+------+----+-----+--------+-------------------+------------------+--------------------+------------------+--------------------+------------------+-------------------+------------------+------------------+------------------+-------------------+------------------+------------------+------------------+------------------+------------------+------------------+------------------+------------------+------------------+------------------+------------------+------------------+------------------+------------------+------------------+------------------+------------------+------------------+------------------+------------------+------------------+------------------+------------------+------------------+------------------+\n",
            "|Season|TeamID|Wins|Loses|NumGames|           WinRatio|     PointsPerGame|PointsAllowedPerGame|       PointsRatio|          OTsPerGame|         FGPerGame|            FGRatio|        FGAPerGame|  FGAllowedPerGame|        FG3PerGame|           FG3Ratio|       FG3APerGame| FG3AllowedPerGame|         FTPerGame|           FTRatio|        FTAPerGame|   FTllowedPerGame|         ORPerGame|         DRPerGame|         TRPerGame|      OppORPerGame|      OppDRPerGame|      OppTRPerGame|           ORRatio|           DRRatio|           TRRatio|        AstPerGame|     OppAstPerGame|        StlPerGame|     OppStlPerGame|         TOPerGame|      OppTOPerGame|        BlkPerGame|     OppBlkPerGame|         PFPerGame|      OppPFPerGame|\n",
            "+------+------+----+-----+--------+-------------------+------------------+--------------------+------------------+--------------------+------------------+-------------------+------------------+------------------+------------------+-------------------+------------------+------------------+------------------+------------------+------------------+------------------+------------------+------------------+------------------+------------------+------------------+------------------+------------------+------------------+------------------+------------------+------------------+------------------+------------------+------------------+------------------+------------------+------------------+------------------+------------------+\n",
            "|  2003|  1102|  12|   16|      28|0.42857142857142855|             57.25|                57.0|1.0043859649122806|                 0.0|19.142857142857142|0.48114901256732495|39.785714285714285|19.285714285714285| 7.821428571428571|0.37564322469982847|20.821428571428573|              4.75|11.142857142857142| 0.651356993736952|17.107142857142858|13.678571428571429| 4.178571428571429|16.821428571428573|              21.0| 9.607142857142858|20.142857142857142|             29.75|0.4349442379182156|0.8351063829787234|0.7058823529411765|              13.0| 9.142857142857142| 5.964285714285714| 5.428571428571429|11.428571428571429|12.964285714285714|1.7857142857142858|1.5714285714285714|             18.75|18.357142857142858|\n",
            "|  2003|  1103|  13|   14|      27|0.48148148148148145| 78.77777777777777|   78.14814814814815|1.0080568720379146|  0.2962962962962963| 27.14814814814815| 0.4860742705570292|55.851851851851855| 27.77777777777778| 5.444444444444445| 0.3387096774193548|16.074074074074073| 6.666666666666667|19.037037037037038|0.7363896848137536| 25.85185185185185|15.925925925925926| 9.777777777777779|19.925925925925927|29.703703703703702|12.037037037037036|22.037037037037038|34.074074074074076|0.8123076923076923|0.9042016806722689|0.8717391304347826|15.222222222222221|15.481481481481481|7.2592592592592595| 6.407407407407407| 12.62962962962963|15.333333333333334|2.3333333333333335|2.8518518518518516| 19.85185185185185|22.444444444444443|\n",
            "|  2003|  1104|  17|   11|      28| 0.6071428571428571| 69.28571428571429|                65.0| 1.065934065934066| 0.03571428571428571|24.035714285714285| 0.4203622735790131| 57.17857142857143|             23.25| 6.357142857142857|0.32014388489208634|19.857142857142858| 6.357142857142857|14.857142857142858|0.7098976109215017|20.928571428571427|12.142857142857142|13.571428571428571|23.928571428571427|              37.5|10.892857142857142|22.642857142857142|33.535714285714285|1.2459016393442623|1.0567823343848581|1.1182108626198084|12.107142857142858|11.678571428571429| 6.607142857142857| 5.535714285714286|13.285714285714286|13.857142857142858|3.7857142857142856|3.1785714285714284|18.035714285714285|             19.25|\n",
            "|  2003|  1105|   7|   19|      26| 0.2692307692307692| 71.76923076923077|   76.65384615384616|0.9362769693928751| 0.15384615384615385|24.384615384615383|0.39575530586766544| 61.61538461538461|              27.0| 7.576923076923077| 0.3648148148148148| 20.76923076923077| 6.269230769230769|15.423076923076923|0.7059859154929577|21.846153846153847|16.384615384615383|              13.5|23.115384615384617| 36.61538461538461|13.192307692307692|26.384615384615383| 39.57692307692308|1.0233236151603498|0.8760932944606414|0.9251700680272109|14.538461538461538|15.807692307692308| 9.307692307692308| 9.384615384615385|18.653846153846153|18.807692307692307| 2.076923076923077|4.1923076923076925| 20.23076923076923|19.076923076923077|\n",
            "|  2003|  1106|  13|   15|      28| 0.4642857142857143|63.607142857142854|               63.75|0.9977591036414566| 0.03571428571428571|23.428571428571427|0.42377260981912146|55.285714285714285|21.714285714285715| 6.107142857142857|0.34615384615384615|17.642857142857142| 4.785714285714286|10.642857142857142|0.6464208242950108|16.464285714285715|15.535714285714286|12.285714285714286|23.857142857142858|36.142857142857146|11.321428571428571|22.357142857142858| 33.67857142857143| 1.085173501577287|1.0670926517571886|1.0731707317073171|11.678571428571429|11.785714285714286| 8.357142857142858| 8.785714285714286|17.035714285714285|15.071428571428571| 3.142857142857143|3.1785714285714284|18.178571428571427|16.142857142857142|\n",
            "|  2003|  1107|   7|   21|      28|               0.25| 65.92857142857143|   75.71428571428571| 0.870754716981132| 0.21428571428571427|24.035714285714285|  0.418272218769422|57.464285714285715|28.821428571428573| 7.928571428571429|  0.357487922705314|22.178571428571427| 6.571428571428571| 9.928571428571429|0.7335092348284961|13.535714285714286|              11.5|              8.25|             20.25|              28.5|13.392857142857142|27.071428571428573|40.464285714285715|             0.616|0.7480211081794196|  0.70432480141218|11.928571428571429|             18.75| 6.857142857142857| 5.535714285714286|12.571428571428571|14.964285714285714|2.0357142857142856|3.5357142857142856|15.892857142857142|15.928571428571429|\n",
            "|  2003|  1108|  14|   19|      33|0.42424242424242425|  69.0909090909091|   73.12121212121212|0.9448818897637795| 0.06060606060606061|24.939393939393938| 0.4246646026831785| 58.72727272727273|25.757575757575758| 5.212121212121212|0.31910946196660483|16.333333333333332| 5.515151515151516|              14.0|0.6685962373371924|20.939393939393938| 16.09090909090909|13.121212121212121| 23.21212121212121|36.333333333333336|12.575757575757576|23.727272727272727|36.303030303030305|1.0433734939759036|0.9782886334610472|1.0008347245409015|13.848484848484848|15.454545454545455| 8.181818181818182| 8.575757575757576|18.454545454545453|16.727272727272727| 3.515151515151515| 2.878787878787879|19.666666666666668|              19.0|\n",
            "|  2003|  1110|  16|   14|      30| 0.5333333333333333| 66.36666666666666|                61.9|1.0721593968766827| 0.06666666666666667|23.166666666666668| 0.4327521793275218| 53.53333333333333|              22.7| 8.766666666666667|0.37896253602305474|23.133333333333333| 6.266666666666667|11.266666666666667|0.6814516129032258|16.533333333333335|10.233333333333333|              10.0|23.133333333333333| 33.13333333333333|              11.0|23.133333333333333| 34.13333333333333|0.9090909090909091|               1.0|       0.970703125|14.233333333333333|12.133333333333333|               6.4|               5.9|13.166666666666666|14.566666666666666|1.7333333333333334|3.1333333333333333|18.133333333333333|17.066666666666666|\n",
            "|  2003|  1111|  16|   10|      26| 0.6153846153846154| 83.26923076923077|   81.73076923076923|1.0188235294117647| 0.15384615384615385|28.615384615384617|0.44364937388193204|              64.5|29.884615384615383|7.1923076923076925| 0.3274956217162872| 21.96153846153846|7.8076923076923075|18.846153846153847|0.7195301027900147|26.192307692307693|14.153846153846153|              13.0|25.307692307692307| 38.30769230769231| 13.26923076923077|26.615384615384617| 39.88461538461539|0.9797101449275363|0.9508670520231214|0.9604628736740598| 15.23076923076923|16.615384615384617| 9.846153846153847| 8.923076923076923|16.192307692307693|18.692307692307693| 4.615384615384615|3.8846153846153846|18.692307692307693|21.076923076923077|\n",
            "|  2003|  1112|  25|    3|      28| 0.8928571428571429| 85.21428571428571|               70.25|1.2130147432638536| 0.07142857142857142|30.321428571428573|0.46141304347826084| 65.71428571428571|26.357142857142858| 7.035714285714286| 0.3505338078291815|20.071428571428573| 6.321428571428571|17.535714285714285|0.7014285714285714|              25.0|11.214285714285714|15.178571428571429|27.642857142857142| 42.82142857142857|13.107142857142858|23.285714285714285|36.392857142857146|1.1580381471389645| 1.187116564417178|1.1766437684003925|17.642857142857142|15.464285714285714| 8.464285714285714| 5.964285714285714|14.785714285714286|16.857142857142858| 4.214285714285714| 2.392857142857143|             17.75|22.071428571428573|\n",
            "|  2003|  1113|  18|   11|      29| 0.6206896551724138| 75.96551724137932|   69.17241379310344|1.0982053838484547| 0.06896551724137931| 27.20689655172414| 0.4781818181818182| 56.89655172413793| 24.79310344827586|               4.0| 0.3178082191780822|12.586206896551724| 5.448275862068965|17.551724137931036|0.6697368421052632| 26.20689655172414|14.137931034482758|13.689655172413794|23.310344827586206|              37.0|              11.0|20.551724137931036|31.551724137931036| 1.244514106583072|1.1342281879194631|1.1726775956284152|15.551724137931034|14.068965517241379| 5.206896551724138|               6.0|              14.0|15.517241379310345| 4.241379310344827|3.9310344827586206|19.413793103448278|22.862068965517242|\n",
            "|  2003|  1114|  16|   12|      28| 0.5714285714285714| 70.03571428571429|   70.07142857142857|0.9994903160040775|                0.25|23.857142857142858| 0.4483221476510067|53.214285714285715|24.857142857142858| 6.785714285714286|         0.37109375|18.285714285714285| 5.964285714285714|15.535714285714286|0.6926751592356688|22.428571428571427|14.392857142857142|10.535714285714286|22.857142857142858|33.392857142857146|11.857142857142858|22.607142857142858|34.464285714285715|0.8885542168674698|1.0110584518167456|0.9689119170984456|              11.5|12.392857142857142| 6.607142857142857| 5.892857142857143|15.964285714285714|15.464285714285714| 2.357142857142857|3.2857142857142856|              20.5|20.464285714285715|\n",
            "|  2003|  1115|   4|   24|      28|0.14285714285714285|              54.5|   74.17857142857143|0.7347135291285508| 0.03571428571428571|             19.25|0.35460526315789476|54.285714285714285|25.321428571428573|              4.75| 0.2817796610169492|16.857142857142858| 6.357142857142857|             11.25|0.6389452332657201|17.607142857142858|17.178571428571427| 9.964285714285714|21.035714285714285|              31.0|15.071428571428571|28.392857142857142|43.464285714285715|0.6611374407582938| 0.740880503144654|0.7132292522596549|10.178571428571429|             14.75| 7.964285714285714| 9.642857142857142|19.107142857142858|17.357142857142858|              2.75|3.6785714285714284|             20.25|             17.75|\n",
            "|  2003|  1116|   9|   19|      28|0.32142857142857145|61.642857142857146|   66.53571428571429|0.9264626945786366|                 0.0|21.821428571428573|0.39267352185089976| 55.57142857142857|22.071428571428573| 6.071428571428571| 0.3102189781021898|19.571428571428573| 5.714285714285714|11.928571428571429|0.6094890510948905|19.571428571428573|16.678571428571427|14.535714285714286|23.428571428571427|37.964285714285715|10.321428571428571|22.214285714285715|32.535714285714285|1.4083044982698962|1.0546623794212218|1.1668496158068058| 9.821428571428571|11.571428571428571| 6.464285714285714| 7.464285714285714|16.678571428571427|13.285714285714286|3.5357142857142856| 3.892857142857143|20.928571428571427|18.142857142857142|\n",
            "|  2003|  1117|  11|   15|      26| 0.4230769230769231| 71.11538461538461|    69.8076923076923| 1.018732782369146|0.038461538461538464|23.692307692307693|0.43319268635724334| 54.69230769230769| 22.73076923076923| 7.923076923076923|0.37117117117117115|21.346153846153847|6.1923076923076925|15.807692307692308|0.7378815080789947|21.423076923076923|18.153846153846153|10.961538461538462|20.384615384615383|31.346153846153847| 11.73076923076923|23.384615384615383| 35.11538461538461|0.9344262295081968|0.8717105263157895|0.8926615553121577|11.923076923076923|11.538461538461538| 7.153846153846154|5.8076923076923075| 13.26923076923077|15.653846153846153|1.6538461538461537| 2.730769230769231|21.423076923076923|19.692307692307693|\n",
            "|  2003|  1119|   3|   22|      25|               0.12|             53.68|               67.48|0.7954949614700652|                 0.0|              19.6| 0.4117647058823529|              47.6|              21.8|              5.88| 0.3559322033898305|             16.52|              8.48|               8.6|0.6761006289308176|             12.72|              15.4|              7.92|             21.56|             29.48|             10.64|             21.96|              32.6|0.7443609022556391|0.9817850637522769|0.9042944785276074|             11.72|             12.96|              5.56|              7.12|             17.36|             12.88|               1.6|              3.52|             19.32|             16.76|\n",
            "|  2003|  1120|  19|   11|      30| 0.6333333333333333|              70.1|   65.56666666666666|1.0691408235892221|                 0.0|              25.7|0.46983546617915906|              54.7|              23.8| 5.633333333333334| 0.3448979591836735|16.333333333333332|               6.9|13.066666666666666|0.6621621621621622|19.733333333333334|11.066666666666666|11.933333333333334|22.566666666666666|              34.5|12.233333333333333|              20.6|32.833333333333336|0.9754768392370572|1.0954692556634305|1.0507614213197969|              13.4|12.666666666666666| 8.033333333333333| 7.833333333333333|              15.9|              15.8| 4.966666666666667|2.6666666666666665|16.366666666666667|19.133333333333333|\n",
            "|  2003|  1122|  20|    7|      27| 0.7407407407407407| 69.70370370370371|   67.70370370370371|1.0295404814004376| 0.14814814814814814|23.555555555555557| 0.4523470839260313|52.074074074074076|24.296296296296298|               6.0|0.34913793103448276|17.185185185185187| 6.296296296296297| 16.59259259259259| 0.691358024691358|              24.0|12.814814814814815| 10.62962962962963| 24.22222222222222|34.851851851851855|11.666666666666666| 22.51851851851852| 34.18518518518518|0.9111111111111111| 1.075657894736842|1.0195016251354279|13.407407407407407|13.333333333333334| 7.037037037037037| 6.814814814814815|15.222222222222221|              14.0| 4.666666666666667| 3.259259259259259|18.666666666666668| 20.25925925925926|\n",
            "|  2003|  1123|  13|   17|      30|0.43333333333333335|              73.3|   76.03333333333333| 0.964050854888207| 0.03333333333333333|25.933333333333334| 0.4288864388092613| 60.46666666666667|25.433333333333334| 5.366666666666666|              0.322|16.666666666666668| 5.266666666666667|16.066666666666666|0.7259036144578314|22.133333333333333|              19.9|13.166666666666666|21.733333333333334|              34.9|              10.9|24.966666666666665| 35.86666666666667|1.2079510703363914|0.8704939919893191|0.9730483271375465|              10.5|              14.7|               5.2| 5.633333333333334|12.833333333333334|14.533333333333333|               2.2| 2.066666666666667|22.866666666666667|21.133333333333333|\n",
            "|  2003|  1124|  14|   14|      28|                0.5|              69.0|   68.39285714285714|1.0088772845953002| 0.03571428571428571|23.607142857142858|0.40701970443349755|              58.0|26.535714285714285| 9.071428571428571|0.34185733512786004|26.535714285714285| 5.428571428571429|12.714285714285714| 0.725050916496945|17.535714285714285| 9.892857142857142|11.714285714285714|23.178571428571427|34.892857142857146|12.142857142857142|25.464285714285715|37.607142857142854|0.9647058823529412|0.9102384291725105|0.9278252611585945|14.214285714285714|13.821428571428571| 8.321428571428571| 5.571428571428571|13.285714285714286|14.678571428571429|2.9642857142857144|3.0714285714285716|             15.75|16.642857142857142|\n",
            "+------+------+----+-----+--------+-------------------+------------------+--------------------+------------------+--------------------+------------------+-------------------+------------------+------------------+------------------+-------------------+------------------+------------------+------------------+------------------+------------------+------------------+------------------+------------------+------------------+------------------+------------------+------------------+------------------+------------------+------------------+------------------+------------------+------------------+------------------+------------------+------------------+------------------+------------------+------------------+------------------+\n",
            "only showing top 20 rows\n",
            "\n"
          ]
        }
      ]
    },
    {
      "cell_type": "code",
      "source": [
        "RegularSeasonInput.describe().show()"
      ],
      "metadata": {
        "colab": {
          "base_uri": "https://localhost:8080/"
        },
        "id": "Eiy9OjE0dqpP",
        "outputId": "f9bb1cfe-e954-4220-8bd7-4715591f89d6"
      },
      "execution_count": 17,
      "outputs": [
        {
          "output_type": "stream",
          "name": "stdout",
          "text": [
            "+-------+------------------+------------------+------------------+------------------+-----------------+-------------------+-----------------+--------------------+------------------+-------------------+------------------+--------------------+------------------+------------------+------------------+--------------------+------------------+------------------+------------------+--------------------+------------------+------------------+------------------+------------------+------------------+------------------+------------------+------------------+-------------------+-------------------+-------------------+------------------+------------------+------------------+------------------+------------------+------------------+------------------+------------------+------------------+------------------+\n",
            "|summary|            Season|            TeamID|              Wins|             Loses|         NumGames|           WinRatio|    PointsPerGame|PointsAllowedPerGame|       PointsRatio|         OTsPerGame|         FGPerGame|             FGRatio|        FGAPerGame|  FGAllowedPerGame|        FG3PerGame|            FG3Ratio|       FG3APerGame| FG3AllowedPerGame|         FTPerGame|             FTRatio|        FTAPerGame|   FTllowedPerGame|         ORPerGame|         DRPerGame|         TRPerGame|      OppORPerGame|      OppDRPerGame|      OppTRPerGame|            ORRatio|            DRRatio|            TRRatio|        AstPerGame|     OppAstPerGame|        StlPerGame|     OppStlPerGame|         TOPerGame|      OppTOPerGame|        BlkPerGame|     OppBlkPerGame|         PFPerGame|      OppPFPerGame|\n",
            "+-------+------------------+------------------+------------------+------------------+-----------------+-------------------+-----------------+--------------------+------------------+-------------------+------------------+--------------------+------------------+------------------+------------------+--------------------+------------------+------------------+------------------+--------------------+------------------+------------------+------------------+------------------+------------------+------------------+------------------+------------------+-------------------+-------------------+-------------------+------------------+------------------+------------------+------------------+------------------+------------------+------------------+------------------+------------------+------------------+\n",
            "|  count|              6880|              6880|              6880|              6880|             6880|               6880|             6880|                6880|              6880|               6880|              6880|                6880|              6880|              6880|              6880|                6880|              6880|              6880|              6880|                6880|              6880|              6880|              6880|              6880|              6880|              6880|              6880|              6880|               6880|               6880|               6880|              6880|              6880|              6880|              6880|              6880|              6880|              6880|              6880|              6880|              6880|\n",
            "|   mean|2012.6283430232559|1284.7686046511628|14.582848837209303| 14.56671511627907|29.14956395348837| 0.4945275835113406|69.47553561335133|   69.67187210193983| 1.001411249565924|0.06839992190941178| 24.43400584585863|  0.4359907511754905|  56.0409923077743|24.498067557181894| 6.682397094172056| 0.34299224789996574|19.439541735970128| 6.693248767745478|13.925093726654437|  0.6969570958807261|19.986511359339143|13.982456816730153|10.674718089802639|23.690467004224775|34.365185094027346|10.692466277895907|23.752330328697482| 34.44479660659328| 1.0092545752953759| 1.0045615314888954|  1.003390625573526|13.039136800588658|13.092811276746792| 6.492132432071143| 6.511480920922774|13.551989699524592|13.524508112079527|3.3090320868259857| 3.330402620803045|17.829686078576827|17.796164146051016|\n",
            "| stddev| 5.741065264333785|104.72825968197245| 6.152715321216036|5.3127698739299225|3.456520763557277|0.18722489276053536|5.807404283726616|   5.540485113953746|0.0959885992544631|0.06034968111819119| 2.156541186352199|0.026359934583297717|3.5741326891642915|2.2072489458474447|1.4007240100965974|0.028804299230990843|3.5409315659404976| 1.114949949383532|2.1409672441599237|0.039274322761512576| 2.904785675064701| 2.213183342826345|1.9667777801091935| 2.000012036062356|2.9353081307269275|1.6133026830531303|2.1103963513519206|2.8173561665585614|0.18689242234398398|0.11761409695538264|0.11072965509687774| 1.858290723610949| 1.761744440269163|1.2572927797340752|1.0324101966527441|1.8298022938531162|1.8847716822045266| 1.088525016102091| 0.635785775012166| 3.468461683594015|   3.3387750037674|\n",
            "|    min|              2003|              1101|                 1|                 1|                4|            0.03125|            49.24|   50.42857142857143|0.6504530281354316|                0.0|             16.12| 0.34207240948813983|39.785714285714285|16.962962962962962|1.8387096774193548| 0.23783783783783785| 6.064516129032258|3.1785714285714284|               7.0|  0.5424610051993067|10.346153846153847|7.3478260869565215|              3.56|15.357142857142858|             20.76| 5.181818181818182|15.733333333333333|23.566666666666666|0.39555555555555555| 0.6361767728674204| 0.6463262764632628| 7.612903225806452|               7.7|             2.875|3.3666666666666667| 7.387096774193548|           6.96875|0.6551724137931034|1.4516129032258065|               0.0|               0.0|\n",
            "|    max|              2022|              1472|                33|                31|               36| 0.9705882352941176|95.55172413793103|   98.20689655172414|1.3916849015317287|                0.4|33.857142857142854|  0.5357950263752826| 78.62068965517241|              37.2|             13.25|  0.4506024096385542|              40.3| 11.62962962962963|21.484848484848484|  0.8328981723237598|           31.1875| 23.51851851851852| 17.25925925925926| 31.12121212121212| 46.13793103448276|16.807692307692307|34.666666666666664| 49.06896551724138| 1.8912280701754387|  1.524031007751938| 1.4842657342657342|21.484848484848484| 22.24137931034483|13.241379310344827|11.642857142857142|22.321428571428573|24.275862068965516| 9.333333333333334|               6.0|27.884615384615383| 25.17241379310345|\n",
            "+-------+------------------+------------------+------------------+------------------+-----------------+-------------------+-----------------+--------------------+------------------+-------------------+------------------+--------------------+------------------+------------------+------------------+--------------------+------------------+------------------+------------------+--------------------+------------------+------------------+------------------+------------------+------------------+------------------+------------------+------------------+-------------------+-------------------+-------------------+------------------+------------------+------------------+------------------+------------------+------------------+------------------+------------------+------------------+------------------+\n",
            "\n"
          ]
        }
      ]
    },
    {
      "cell_type": "markdown",
      "source": [
        "## Tourney Input"
      ],
      "metadata": {
        "id": "ux-GHsxRs_9s"
      }
    },
    {
      "cell_type": "code",
      "source": [
        "Seeds = Seeds.withColumn('Seed', Seeds.Seed.substr(2,2))"
      ],
      "metadata": {
        "id": "lxIFqgpWtMkl"
      },
      "execution_count": 18,
      "outputs": []
    },
    {
      "cell_type": "code",
      "source": [
        "Seeds.describe().show()"
      ],
      "metadata": {
        "colab": {
          "base_uri": "https://localhost:8080/"
        },
        "id": "XKcV0pqJoIfT",
        "outputId": "bd050346-c89a-4830-846e-2c540a4f3446"
      },
      "execution_count": 19,
      "outputs": [
        {
          "output_type": "stream",
          "name": "stdout",
          "text": [
            "+-------+------------------+-----------------+------------------+\n",
            "|summary|            Season|             Seed|            TeamID|\n",
            "+-------+------------------+-----------------+------------------+\n",
            "|  count|              2354|             2354|              2354|\n",
            "|   mean|2002.7625318606626|8.620220900594733|1291.5747663551401|\n",
            "| stddev|10.475078296853514|4.646193415404665|103.31555675390796|\n",
            "|    min|              1985|               01|              1101|\n",
            "|    max|              2021|               16|              1463|\n",
            "+-------+------------------+-----------------+------------------+\n",
            "\n"
          ]
        }
      ]
    },
    {
      "cell_type": "code",
      "source": [
        "Winners = TourneyCompact.withColumnRenamed(\"WTeamID\",\"TeamID\")\n",
        "Winners =  Winners.drop(\"DayNum\",\"WScore\",\"WLoc\",\"NumOT\",\"LScore\")\n",
        "Winners = Winners.join(Seeds, ['Season','TeamID'])\n",
        "Winners = Winners.withColumnRenamed(\"Seed\",\"Team1Seed\")\n",
        "Winners = Winners.withColumnRenamed(\"TeamID\",\"Team1\")\n",
        "Winners = Winners.withColumnRenamed(\"LTeamID\",\"TeamID\")\n",
        "Winners = Winners.join(Seeds, ['Season','TeamID'])\n",
        "Winners = Winners.withColumnRenamed(\"TeamID\",\"Team2\")\n",
        "Winners = Winners.withColumnRenamed(\"Seed\",\"Team2Seed\")\n",
        "Winners = Winners.withColumn(\"Result\",lit(1))\n",
        "\n",
        "Losers = TourneyCompact.withColumnRenamed(\"LTeamID\",\"TeamID\")\n",
        "Losers = Losers.drop(\"DayNum\",\"WScore\",\"WLoc\",\"NumOT\",\"LScore\")\n",
        "Losers = Losers.join(Seeds, ['Season','TeamID'])\n",
        "Losers = Losers.withColumnRenamed(\"Seed\",\"Team1Seed\")\n",
        "Losers = Losers.withColumnRenamed(\"TeamID\",\"Team1\")\n",
        "Losers = Losers.withColumnRenamed(\"WTeamID\",\"TeamID\")\n",
        "Losers = Losers.join(Seeds, ['Season','TeamID'])\n",
        "Losers = Losers.withColumnRenamed(\"TeamID\",\"Team2\")\n",
        "Losers = Losers.withColumnRenamed(\"Seed\",\"Team2Seed\")\n",
        "Losers = Losers.withColumn(\"Result\",lit(0))\n",
        "\n",
        "'''Losers = Winners.withColumn(\"Result\",lit(0))\n",
        "Losers = Losers.withColumnRenamed(\"Team1\",\"Team\")\n",
        "Losers = Losers.withColumnRenamed(\"Team2\",\"Team1\")\n",
        "Losers = Losers.withColumnRenamed(\"Team\",\"Team2\")'''\n",
        "\n",
        "Losers.filter(Losers.Team2 == 1328).filter(Losers.Season == 2003).show()\n",
        "Losers.filter(Losers.Team1 == 1328).filter(Losers.Season == 2003).show()\n",
        "Winners.filter(Winners.Team1 == 1328).filter(Winners.Season == 2003).show()\n",
        "Winners.filter(Winners.Team2 == 1328).filter(Winners.Season == 2003).show()"
      ],
      "metadata": {
        "colab": {
          "base_uri": "https://localhost:8080/"
        },
        "id": "1BCEWQykio0h",
        "outputId": "98d90f98-f18b-4366-adcf-0b6c78025c10"
      },
      "execution_count": 20,
      "outputs": [
        {
          "output_type": "stream",
          "name": "stdout",
          "text": [
            "+------+-----+-----+---------+---------+------+\n",
            "|Season|Team2|Team1|Team1Seed|Team2Seed|Result|\n",
            "+------+-----+-----+---------+---------+------+\n",
            "|  2003| 1328| 1143|       08|       01|     0|\n",
            "|  2003| 1328| 1139|       12|       01|     0|\n",
            "|  2003| 1328| 1354|       16|       01|     0|\n",
            "+------+-----+-----+---------+---------+------+\n",
            "\n",
            "+------+-----+-----+---------+---------+------+\n",
            "|Season|Team2|Team1|Team1Seed|Team2Seed|Result|\n",
            "+------+-----+-----+---------+---------+------+\n",
            "|  2003| 1393| 1328|       01|       03|     0|\n",
            "+------+-----+-----+---------+---------+------+\n",
            "\n",
            "+------+-----+-----+---------+---------+------+\n",
            "|Season|Team2|Team1|Team1Seed|Team2Seed|Result|\n",
            "+------+-----+-----+---------+---------+------+\n",
            "|  2003| 1139| 1328|       01|       12|     1|\n",
            "|  2003| 1143| 1328|       01|       08|     1|\n",
            "|  2003| 1354| 1328|       01|       16|     1|\n",
            "+------+-----+-----+---------+---------+------+\n",
            "\n",
            "+------+-----+-----+---------+---------+------+\n",
            "|Season|Team2|Team1|Team1Seed|Team2Seed|Result|\n",
            "+------+-----+-----+---------+---------+------+\n",
            "|  2003| 1328| 1393|       03|       01|     1|\n",
            "+------+-----+-----+---------+---------+------+\n",
            "\n"
          ]
        }
      ]
    },
    {
      "cell_type": "code",
      "source": [
        "TourneyInput = Winners.union(Losers)\n",
        "TourneyInput.filter(TourneyInput.Team2 == 1328).filter(TourneyInput.Season == 2003).show()\n",
        "TourneyInput.filter(TourneyInput.Team1 == 1328).filter(TourneyInput.Season == 2003).show()\n",
        "#TourneyInput = TourneyInput.filter(TourneyInput.Season >= 2003)\n",
        "#TourneyInput.show()\n",
        "#TourneyInput.describe().show()"
      ],
      "metadata": {
        "colab": {
          "base_uri": "https://localhost:8080/"
        },
        "id": "ZFstBpXJm0i6",
        "outputId": "937d17dd-a14f-46ad-d734-37abe6704261"
      },
      "execution_count": 21,
      "outputs": [
        {
          "output_type": "stream",
          "name": "stdout",
          "text": [
            "+------+-----+-----+---------+---------+------+\n",
            "|Season|Team2|Team1|Team1Seed|Team2Seed|Result|\n",
            "+------+-----+-----+---------+---------+------+\n",
            "|  2003| 1328| 1393|       03|       01|     1|\n",
            "|  2003| 1328| 1143|       08|       01|     0|\n",
            "|  2003| 1328| 1139|       12|       01|     0|\n",
            "|  2003| 1328| 1354|       16|       01|     0|\n",
            "+------+-----+-----+---------+---------+------+\n",
            "\n",
            "+------+-----+-----+---------+---------+------+\n",
            "|Season|Team2|Team1|Team1Seed|Team2Seed|Result|\n",
            "+------+-----+-----+---------+---------+------+\n",
            "|  2003| 1139| 1328|       01|       12|     1|\n",
            "|  2003| 1143| 1328|       01|       08|     1|\n",
            "|  2003| 1354| 1328|       01|       16|     1|\n",
            "|  2003| 1393| 1328|       01|       03|     0|\n",
            "+------+-----+-----+---------+---------+------+\n",
            "\n"
          ]
        }
      ]
    },
    {
      "cell_type": "markdown",
      "source": [
        "# Make Final Input Dataframe"
      ],
      "metadata": {
        "id": "955iOH6cxjq4"
      }
    },
    {
      "cell_type": "code",
      "source": [
        "RegularSeasonInput.filter(RegularSeasonInput.Season == 2022).show()"
      ],
      "metadata": {
        "colab": {
          "base_uri": "https://localhost:8080/"
        },
        "id": "w4wGb7vR65SB",
        "outputId": "d3014d8b-7d00-4398-f6c4-243019507334"
      },
      "execution_count": 99,
      "outputs": [
        {
          "output_type": "stream",
          "name": "stdout",
          "text": [
            "+------+------+----+-----+--------+-------------------+-----------------+--------------------+------------------+--------------------+------------------+-------------------+------------------+------------------+------------------+-------------------+------------------+------------------+------------------+------------------+------------------+------------------+------------------+------------------+------------------+------------------+------------------+------------------+------------------+------------------+------------------+------------------+------------------+------------------+------------------+------------------+------------------+------------------+------------------+------------------+------------------+\n",
            "|Season|TeamID|Wins|Loses|NumGames|           WinRatio|    PointsPerGame|PointsAllowedPerGame|       PointsRatio|          OTsPerGame|         FGPerGame|            FGRatio|        FGAPerGame|  FGAllowedPerGame|        FG3PerGame|           FG3Ratio|       FG3APerGame| FG3AllowedPerGame|         FTPerGame|           FTRatio|        FTAPerGame|   FTllowedPerGame|         ORPerGame|         DRPerGame|         TRPerGame|      OppORPerGame|      OppDRPerGame|      OppTRPerGame|           ORRatio|           DRRatio|           TRRatio|        AstPerGame|     OppAstPerGame|        StlPerGame|     OppStlPerGame|         TOPerGame|      OppTOPerGame|        BlkPerGame|     OppBlkPerGame|         PFPerGame|      OppPFPerGame|\n",
            "+------+------+----+-----+--------+-------------------+-----------------+--------------------+------------------+--------------------+------------------+-------------------+------------------+------------------+------------------+-------------------+------------------+------------------+------------------+------------------+------------------+------------------+------------------+------------------+------------------+------------------+------------------+------------------+------------------+------------------+------------------+------------------+------------------+------------------+------------------+------------------+------------------+------------------+------------------+------------------+------------------+\n",
            "|  2022|  1101|  12|    7|      19|  0.631578947368421|73.52631578947368|   70.15789473684211|1.0480120030007503| 0.15789473684210525|25.263157894736842|0.42328042328042326| 59.68421052631579|22.736842105263158| 6.894736842105263| 0.3195121951219512| 21.57894736842105| 7.315789473684211|16.105263157894736|              0.72| 22.36842105263158| 17.36842105263158| 8.789473684210526| 20.36842105263158|29.157894736842106| 8.052631578947368|26.210526315789473| 34.26315789473684| 1.091503267973856|0.7771084337349398|0.8509984639016898|14.210526315789474|11.789473684210526|10.368421052631579| 5.631578947368421|12.421052631578947| 19.68421052631579|1.6842105263157894|3.9473684210526314|22.736842105263158| 21.57894736842105|\n",
            "|  2022|  1102|  10|   11|      21|0.47619047619047616|59.95238095238095|  63.333333333333336|0.9466165413533835|                 0.0|21.857142857142858|0.44563106796116503| 49.04761904761905| 22.19047619047619| 7.857142857142857| 0.3540772532188841| 22.19047619047619| 4.809523809523809| 8.380952380952381|0.6423357664233577|13.047619047619047|14.142857142857142| 4.809523809523809|20.285714285714285|25.095238095238095| 8.047619047619047|22.952380952380953|              31.0|0.5976331360946746|0.8838174273858921|0.8095238095238095|12.952380952380953| 9.761904761904763|6.0476190476190474| 5.571428571428571|12.095238095238095|12.952380952380953|3.3333333333333335|3.0952380952380953| 18.19047619047619|17.047619047619047|\n",
            "|  2022|  1103|  13|    6|      19| 0.6842105263157895|68.57894736842105|   64.84210526315789|  1.05762987012987|                 0.0| 23.63157894736842|0.44367588932806323| 53.26315789473684|24.157894736842106|7.7894736842105265|0.34660421545667447|22.473684210526315| 6.684210526315789|13.526315789473685|0.6710182767624021|20.157894736842106| 9.842105263157896| 8.105263157894736|23.789473684210527|31.894736842105264| 7.526315789473684|21.157894736842106| 28.68421052631579|1.0769230769230769|1.1243781094527363| 1.111926605504587|11.631578947368421|  9.68421052631579| 4.947368421052632|5.7368421052631575|11.157894736842104|10.421052631578947| 2.736842105263158|2.4210526315789473|16.105263157894736| 19.05263157894737|\n",
            "|  2022|  1104|  14|    9|      23| 0.6086956521739131|80.21739130434783|   75.56521739130434|1.0615650172612199|                 0.0|27.956521739130434| 0.4407128169979438| 63.43478260869565| 26.82608695652174| 9.043478260869565|0.30453879941434847|29.695652173913043| 7.173913043478261| 15.26086956521739| 0.714867617107943|21.347826086956523| 14.73913043478261|              12.0| 24.91304347826087| 36.91304347826087|10.478260869565217| 23.17391304347826| 33.65217391304348|1.1452282157676348| 1.075046904315197|1.0968992248062015|14.173913043478262|11.956521739130435| 7.217391304347826| 7.260869565217392| 13.26086956521739|12.782608695652174| 4.869565217391305|3.9130434782608696| 18.47826086956522|18.869565217391305|\n",
            "|  2022|  1105|   5|   16|      21|0.23809523809523808|57.95238095238095|   67.76190476190476|0.8552354181307098|                 0.0|21.571428571428573| 0.3756218905472637| 57.42857142857143|23.666666666666668|3.9523809523809526|0.26688102893890675| 14.80952380952381| 8.285714285714286|10.857142857142858|0.6765578635014837|16.047619047619047|12.142857142857142| 8.857142857142858|21.714285714285715|30.571428571428573| 9.476190476190476|              26.0|35.476190476190474|0.9346733668341709|0.8351648351648352|0.8617449664429531| 9.571428571428571|14.857142857142858| 8.142857142857142| 7.619047619047619|13.857142857142858| 13.80952380952381|2.8095238095238093|3.0476190476190474|16.571428571428573|15.619047619047619|\n",
            "|  2022|  1106|   6|   17|      23| 0.2608695652173913|66.78260869565217|   74.82608695652173|0.8925043579314352|0.043478260869565216|23.608695652173914|0.41418764302059496|              57.0| 26.26086956521739| 6.086956521739131|0.32710280373831774|18.608695652173914| 7.782608695652174|13.478260869565217|0.6981981981981982|19.304347826086957|14.521739130434783| 7.956521739130435|22.434782608695652|30.391304347826086|11.304347826086957| 23.91304347826087| 35.21739130434783|0.7038461538461539|0.9381818181818182|0.8629629629629629|11.347826086956522|14.652173913043478|7.3478260869565215|7.6521739130434785|14.782608695652174|13.304347826086957| 3.739130434782609| 4.130434782608695|17.956521739130434| 16.91304347826087|\n",
            "|  2022|  1107|  10|   13|      23|0.43478260869565216|62.04347826086956|   65.17391304347827| 0.951967978652435| 0.13043478260869565|              23.0|  0.411033411033411| 55.95652173913044|23.347826086956523| 5.869565217391305| 0.3176470588235294| 18.47826086956522| 7.086956521739131|10.173913043478262|0.7155963302752294|14.217391304347826|11.391304347826088| 7.086956521739131|22.217391304347824|29.304347826086957| 7.434782608695652| 23.52173913043478|30.956521739130434|0.9532163742690059| 0.944547134935305|0.9466292134831461| 9.347826086956522|12.608695652173912| 6.782608695652174| 5.260869565217392|12.217391304347826|13.043478260869565| 2.739130434782609|4.3478260869565215| 18.17391304347826|15.173913043478262|\n",
            "|  2022|  1108|   9|   14|      23|  0.391304347826087|64.95652173913044|   71.95652173913044|0.9027190332326284|                 0.0|              23.0|0.41039565554693563| 56.04347826086956|25.304347826086957| 5.434782608695652| 0.3255208333333333|16.695652173913043| 7.130434782608695|13.521739130434783| 0.731764705882353| 18.47826086956522|14.217391304347826| 8.652173913043478|21.043478260869566|29.695652173913043| 7.521739130434782|22.043478260869566|29.565217391304348|1.1502890173410405|0.9546351084812623|1.0044117647058823| 9.652173913043478|              15.0|7.6521739130434785| 7.086956521739131|13.391304347826088|12.956521739130435| 2.347826086956522| 3.652173913043478|17.391304347826086|17.391304347826086|\n",
            "|  2022|  1110|   6|   16|      22| 0.2727272727272727|63.68181818181818|   73.22727272727273|0.8696461824953445| 0.09090909090909091|24.681818181818183| 0.4491315136476427| 54.95454545454545|27.818181818181817| 5.181818181818182| 0.3285302593659942|15.772727272727273|6.7727272727272725| 9.136363636363637|0.6790540540540541|13.454545454545455|10.818181818181818| 6.863636363636363|20.818181818181817|27.681818181818183| 7.545454545454546|23.454545454545453|              31.0|0.9096385542168675|0.8875968992248062|0.8929618768328446|12.227272727272727|13.954545454545455| 6.136363636363637|6.7727272727272725|12.272727272727273|10.909090909090908|2.9545454545454546|               3.0|              15.0|14.181818181818182|\n",
            "|  2022|  1111|  12|   10|      22| 0.5454545454545454|64.95454545454545|   65.81818181818181| 0.986878453038674|0.045454545454545456|23.545454545454547| 0.4101346001583531| 57.40909090909091|25.045454545454547| 7.909090909090909|0.32162661737523107| 24.59090909090909| 7.090909090909091| 9.954545454545455| 0.655688622754491|15.181818181818182| 8.636363636363637| 8.136363636363637|22.045454545454547|30.181818181818183| 7.136363636363637|24.636363636363637|31.772727272727273|1.1401273885350318|0.8948339483394834| 0.949928469241774|11.863636363636363|              14.0| 5.636363636363637| 4.909090909090909| 9.454545454545455|11.181818181818182|1.8636363636363635|3.4545454545454546|13.181818181818182|15.409090909090908|\n",
            "|  2022|  1112|  20|    2|      22| 0.9090909090909091|85.13636363636364|   65.13636363636364|1.3070481507327285|0.045454545454545456|30.681818181818183| 0.4838709677419355| 63.40909090909091|24.181818181818183|7.7727272727272725|0.33595284872298625|23.136363636363637|7.2727272727272725|              16.0|0.7242798353909465| 22.09090909090909|               9.5|11.681818181818182|29.272727272727273| 40.95454545454545|10.136363636363637|20.545454545454547|30.681818181818183|1.1524663677130045| 1.424778761061947| 1.334814814814815| 20.09090909090909|11.863636363636363| 6.909090909090909| 6.909090909090909|13.454545454545455|13.045454545454545| 6.409090909090909|               2.5|16.681818181818183| 18.90909090909091|\n",
            "|  2022|  1113|   7|   14|      21| 0.3333333333333333|64.19047619047619|   69.95238095238095|0.9176310415248469| 0.19047619047619047|24.142857142857142|0.38850574712643676|62.142857142857146|23.952380952380953| 6.857142857142857| 0.2891566265060241|23.714285714285715| 7.714285714285714| 9.047619047619047|0.6737588652482269|13.428571428571429|14.333333333333334| 8.428571428571429|23.714285714285715|32.142857142857146|10.380952380952381|28.285714285714285|38.666666666666664|0.8119266055045872|0.8383838383838383|0.8312807881773399|12.523809523809524| 13.80952380952381| 6.523809523809524| 5.666666666666667|11.476190476190476|12.952380952380953| 4.571428571428571|3.2857142857142856|19.333333333333332|15.904761904761905|\n",
            "|  2022|  1114|   4|   13|      17|0.23529411764705882|65.41176470588235|   76.88235294117646|0.8508033664881408| 0.23529411764705882|22.470588235294116| 0.4068157614483493| 55.23529411764706|28.176470588235293| 6.529411764705882| 0.3135593220338983|20.823529411764707| 8.588235294117647|13.941176470588236|0.7452830188679245|18.705882352941178|11.941176470588236| 6.882352941176471|20.058823529411764|26.941176470588236| 8.117647058823529|26.294117647058822|34.411764705882355|0.8478260869565217|0.7628635346756152|0.7829059829059829|12.647058823529411|16.352941176470587| 6.411764705882353| 6.235294117647059|12.823529411764707|13.352941176470589|2.2941176470588234| 2.823529411764706| 17.11764705882353|17.529411764705884|\n",
            "|  2022|  1115|   3|   19|      22|0.13636363636363635|60.81818181818182|   78.54545454545455|0.7743055555555556|0.045454545454545456| 21.59090909090909| 0.3964941569282137| 54.45454545454545|29.136363636363637|               6.0|0.27049180327868855|22.181818181818183| 6.181818181818182|11.636363636363637|0.6863270777479893|16.954545454545453|14.090909090909092| 6.636363636363637|18.545454545454547|25.181818181818183| 9.954545454545455|              26.0| 35.95454545454545|0.6666666666666666|0.7132867132867133|0.7003792667509482|10.772727272727273|15.727272727272727| 6.181818181818182| 7.909090909090909|13.636363636363637|12.363636363636363|2.6818181818181817| 3.772727272727273|17.272727272727273| 16.09090909090909|\n",
            "|  2022|  1116|  18|    5|      23|  0.782608695652174|78.56521739130434|   67.95652173913044|1.1561100447856685|0.043478260869565216|27.782608695652176| 0.4551282051282051| 61.04347826086956|23.391304347826086| 6.260869565217392|0.30638297872340425|20.434782608695652| 7.782608695652174| 16.73913043478261|0.7375478927203065|22.695652173913043|13.391304347826088|  9.73913043478261|25.782608695652176| 35.52173913043478| 6.608695652173913|23.434782608695652|30.043478260869566|1.4736842105263157|1.1001855287569573| 1.182344428364689|15.173913043478262| 12.91304347826087| 8.173913043478262| 6.913043478260869|12.347826086956522|14.826086956521738| 4.391304347826087|3.0434782608695654|16.695652173913043|19.434782608695652|\n",
            "|  2022|  1117|  12|    6|      18| 0.6666666666666666|             70.5|   68.44444444444444|1.0300324675324675| 0.05555555555555555|25.166666666666668|0.44985104270109233| 55.94444444444444| 25.77777777777778| 6.055555555555555|0.34276729559748426|17.666666666666668| 6.166666666666667| 14.11111111111111|0.7492625368731564|18.833333333333332|10.722222222222221|  9.11111111111111|24.555555555555557|33.666666666666664|10.166666666666666|22.666666666666668|32.833333333333336|0.8961748633879781|1.0833333333333333|1.0253807106598984| 15.61111111111111|12.777777777777779| 7.222222222222222|               7.0| 13.61111111111111|              13.0|3.2777777777777777|3.5555555555555554|16.444444444444443| 17.27777777777778|\n",
            "|  2022|  1119|  11|   11|      22|                0.5|             68.5|    71.4090909090909|0.9592616168045831| 0.09090909090909091| 25.09090909090909|            0.43125| 58.18181818181818|26.954545454545453|               6.5|0.32207207207207206|20.181818181818183| 8.636363636363637|11.818181818181818|0.6161137440758294|19.181818181818183| 8.863636363636363| 8.909090909090908|24.272727272727273| 33.18181818181818| 7.818181818181818|24.772727272727273| 32.59090909090909|1.1395348837209303|0.9798165137614679|1.0181311018131103|              12.5|14.545454545454545| 7.681818181818182|7.7272727272727275|12.818181818181818|12.954545454545455|1.6363636363636365| 4.318181818181818|14.636363636363637|17.681818181818183|\n",
            "|  2022|  1120|  22|    1|      23| 0.9565217391304348|80.34782608695652|    66.3913043478261|1.2102161100196465| 0.08695652173913043| 28.73913043478261| 0.4508867667121419| 63.73913043478261|22.652173913043477|  8.26086956521739| 0.3247863247863248|25.434782608695652| 6.956521739130435|14.608695652173912|0.7417218543046358|19.695652173913043|14.130434782608695|10.043478260869565|25.565217391304348|35.608695652173914| 8.217391304347826|21.869565217391305| 30.08695652173913|1.2222222222222223| 1.168986083499006|1.1835260115606936|14.565217391304348|11.217391304347826| 9.043478260869565| 6.782608695652174|10.956521739130435| 14.26086956521739| 8.043478260869565| 3.608695652173913|              18.0|17.130434782608695|\n",
            "|  2022|  1122|   5|   14|      19| 0.2631578947368421|62.78947368421053|   70.52631578947368|0.8902985074626866| 0.10526315789473684|22.842105263157894| 0.4121557454890788|55.421052631578945| 25.05263157894737|7.2105263157894735|0.30444444444444446| 23.68421052631579| 7.157894736842105| 9.894736842105264|0.6988847583643123|14.157894736842104|13.263157894736842| 8.631578947368421|              21.0| 29.63157894736842| 8.578947368421053| 23.57894736842105|  32.1578947368421|1.0061349693251533|          0.890625|0.9214402618657938|13.368421052631579|14.157894736842104|6.2105263157894735| 7.052631578947368|13.789473684210526|12.631578947368421| 1.631578947368421|3.8947368421052633| 16.68421052631579|              16.0|\n",
            "|  2022|  1123|  10|   11|      21|0.47619047619047616|74.42857142857143|   77.66666666666667|0.9583077866339669|                 0.0|25.428571428571427|0.44686192468619246|56.904761904761905|27.238095238095237| 8.666666666666666|0.36327345309381237|23.857142857142858| 9.142857142857142|14.904761904761905|0.6924778761061947|21.523809523809526|14.047619047619047| 8.095238095238095| 24.19047619047619|32.285714285714285| 8.761904761904763|24.333333333333332|33.095238095238095|0.9239130434782609|0.9941291585127201|0.9755395683453237|12.952380952380953|13.666666666666666| 5.476190476190476| 7.428571428571429|13.619047619047619|11.619047619047619| 2.142857142857143|3.0952380952380953| 18.38095238095238|19.857142857142858|\n",
            "+------+------+----+-----+--------+-------------------+-----------------+--------------------+------------------+--------------------+------------------+-------------------+------------------+------------------+------------------+-------------------+------------------+------------------+------------------+------------------+------------------+------------------+------------------+------------------+------------------+------------------+------------------+------------------+------------------+------------------+------------------+------------------+------------------+------------------+------------------+------------------+------------------+------------------+------------------+------------------+------------------+\n",
            "only showing top 20 rows\n",
            "\n"
          ]
        }
      ]
    },
    {
      "cell_type": "code",
      "source": [
        "TourneyInput.filter(TourneyInput.Team1 == 1328).filter(TourneyInput.Season == 2003).show()\n",
        "TourneyInput.filter(TourneyInput.Team2 == 1328).filter(TourneyInput.Season == 2003).show()"
      ],
      "metadata": {
        "colab": {
          "base_uri": "https://localhost:8080/"
        },
        "id": "pdAtFD-p65cx",
        "outputId": "d8603f19-9703-49fa-bc42-5e021683a7b8"
      },
      "execution_count": 23,
      "outputs": [
        {
          "output_type": "stream",
          "name": "stdout",
          "text": [
            "+------+-----+-----+---------+---------+------+\n",
            "|Season|Team2|Team1|Team1Seed|Team2Seed|Result|\n",
            "+------+-----+-----+---------+---------+------+\n",
            "|  2003| 1139| 1328|       01|       12|     1|\n",
            "|  2003| 1143| 1328|       01|       08|     1|\n",
            "|  2003| 1354| 1328|       01|       16|     1|\n",
            "|  2003| 1393| 1328|       01|       03|     0|\n",
            "+------+-----+-----+---------+---------+------+\n",
            "\n",
            "+------+-----+-----+---------+---------+------+\n",
            "|Season|Team2|Team1|Team1Seed|Team2Seed|Result|\n",
            "+------+-----+-----+---------+---------+------+\n",
            "|  2003| 1328| 1393|       03|       01|     1|\n",
            "|  2003| 1328| 1143|       08|       01|     0|\n",
            "|  2003| 1328| 1139|       12|       01|     0|\n",
            "|  2003| 1328| 1354|       16|       01|     0|\n",
            "+------+-----+-----+---------+---------+------+\n",
            "\n"
          ]
        }
      ]
    },
    {
      "cell_type": "code",
      "source": [
        "RegularSeasonInput.columns\n",
        "# Team 1\n",
        "outscores1 = RegularSeasonInput.withColumnRenamed('TeamID','Team1')\n",
        "outscores1 = outscores1.join(TourneyInput, ['Season','Team1'])\n",
        "outscores1 = outscores1.withColumnRenamed('Wins','Team1Wins')\n",
        "outscores1 = outscores1.withColumnRenamed('Loses','Team1Loses')\n",
        "outscores1 = outscores1.withColumnRenamed('NumGames','Team1NumGames')\n",
        "outscores1 = outscores1.withColumnRenamed('WinRatio','Team1WinRatio')\n",
        "outscores1 = outscores1.withColumnRenamed('PointsPerGame','Team1PointsPerGame')\n",
        "outscores1 = outscores1.withColumnRenamed('PointsAllowedPerGame','Team1PointsAllowedPerGame')\n",
        "outscores1 = outscores1.withColumnRenamed('PointsRatio','Team1PointsRatio')\n",
        "outscores1 = outscores1.withColumnRenamed('OTsPerGame','Team1OTsPerGame')\n",
        "outscores1 = outscores1.withColumnRenamed('FGPerGame','Team1FGPerGame')\n",
        "outscores1 = outscores1.withColumnRenamed('FGRatio','Team1FGRatio')\n",
        "outscores1 = outscores1.withColumnRenamed('FGAPerGame','Team1FGAPerGame')\n",
        "outscores1 = outscores1.withColumnRenamed('FGAllowedPerGame','Team1FGAllowedPerGame')\n",
        "outscores1 = outscores1.withColumnRenamed('FG3PerGame','Team1FG3PerGame')\n",
        "outscores1 = outscores1.withColumnRenamed('FG3Ratio','Team1FG3Ratio')\n",
        "outscores1 = outscores1.withColumnRenamed('FG3APerGame','Team1FG3APerGame')\n",
        "outscores1 = outscores1.withColumnRenamed('FG3AllowedPerGame','Team1FG3AllowedPerGame')\n",
        "outscores1 = outscores1.withColumnRenamed('FTPerGame','Team1FTPerGame')\n",
        "outscores1 = outscores1.withColumnRenamed('FTRatio','Team1FTRatio')\n",
        "outscores1 = outscores1.withColumnRenamed('FTAPerGame','Team1FTAPerGame')\n",
        "outscores1 = outscores1.withColumnRenamed('FTllowedPerGame','Team1FTAllowedPerGame')\n",
        "outscores1 = outscores1.withColumnRenamed('ORPerGame','Team1ORPerGame')\n",
        "outscores1 = outscores1.withColumnRenamed('DRPerGame','Team1DRPerGame')\n",
        "outscores1 = outscores1.withColumnRenamed('TRPerGame','Team1TRPerGame')\n",
        "outscores1 = outscores1.withColumnRenamed('OppORPerGame','Team1OppORPerGame')\n",
        "outscores1 = outscores1.withColumnRenamed('OppDRPerGame','Team1OppDRPerGame')\n",
        "outscores1 = outscores1.withColumnRenamed('OppTRPerGame','Team1OppTRPerGame')\n",
        "outscores1 = outscores1.withColumnRenamed('ORRatio','Team1ORRatio')\n",
        "outscores1 = outscores1.withColumnRenamed('DRRatio','Team1DRRatio')\n",
        "outscores1 = outscores1.withColumnRenamed('TRRatio','Team1TRRatio')\n",
        "outscores1 = outscores1.withColumnRenamed('AstPerGame','Team1AstPerGame')\n",
        "outscores1 = outscores1.withColumnRenamed('OppAstPerGame','Team1OppAstPerGame')\n",
        "outscores1 = outscores1.withColumnRenamed('StlPerGame','Team1StlPerGame')\n",
        "outscores1 = outscores1.withColumnRenamed('OppStlPerGame','Team1OppStlPerGame')\n",
        "outscores1 = outscores1.withColumnRenamed('TOPerGame','Team1TOPerGame')\n",
        "outscores1 = outscores1.withColumnRenamed('OppTOPerGame','Team1OppTOPerGame')\n",
        "outscores1 = outscores1.withColumnRenamed('BlkPerGame','Team1BlkPerGame')\n",
        "outscores1 = outscores1.withColumnRenamed('OppBlkPerGame','Team1OppBlkPerGame')\n",
        "outscores1 = outscores1.withColumnRenamed('PFPerGame','Team1PFPerGame')\n",
        "outscores1 = outscores1.withColumnRenamed('OppPFPerGame','Team1OppPFPerGame')\n",
        "outscores1.show()"
      ],
      "metadata": {
        "colab": {
          "base_uri": "https://localhost:8080/"
        },
        "id": "GNu-LUQd7LzU",
        "outputId": "22c30219-7a37-46db-f9d6-2a57104ebabd"
      },
      "execution_count": 56,
      "outputs": [
        {
          "output_type": "stream",
          "name": "stdout",
          "text": [
            "+------+-----+---------+----------+-------------+------------------+------------------+-------------------------+------------------+-------------------+------------------+-------------------+------------------+---------------------+-----------------+-------------------+------------------+----------------------+------------------+------------------+------------------+---------------------+------------------+------------------+------------------+------------------+------------------+------------------+------------------+------------------+------------------+------------------+------------------+-----------------+------------------+------------------+------------------+------------------+------------------+------------------+------------------+-----+---------+---------+------+\n",
            "|Season|Team1|Team1Wins|Team1Loses|Team1NumGames|     Team1WinRatio|Team1PointsPerGame|Team1PointsAllowedPerGame|  Team1PointsRatio|    Team1OTsPerGame|    Team1FGPerGame|       Team1FGRatio|   Team1FGAPerGame|Team1FGAllowedPerGame|  Team1FG3PerGame|      Team1FG3Ratio|  Team1FG3APerGame|Team1FG3AllowedPerGame|    Team1FTPerGame|      Team1FTRatio|   Team1FTAPerGame|Team1FTAllowedPerGame|    Team1ORPerGame|    Team1DRPerGame|    Team1TRPerGame| Team1OppORPerGame| Team1OppDRPerGame| Team1OppTRPerGame|      Team1ORRatio|      Team1DRRatio|      Team1TRRatio|   Team1AstPerGame|Team1OppAstPerGame|  Team1StlPerGame|Team1OppStlPerGame|    Team1TOPerGame| Team1OppTOPerGame|   Team1BlkPerGame|Team1OppBlkPerGame|    Team1PFPerGame| Team1OppPFPerGame|Team2|Team1Seed|Team2Seed|Result|\n",
            "+------+-----+---------+----------+-------------+------------------+------------------+-------------------------+------------------+-------------------+------------------+-------------------+------------------+---------------------+-----------------+-------------------+------------------+----------------------+------------------+------------------+------------------+---------------------+------------------+------------------+------------------+------------------+------------------+------------------+------------------+------------------+------------------+------------------+------------------+-----------------+------------------+------------------+------------------+------------------+------------------+------------------+------------------+-----+---------+---------+------+\n",
            "|  2003| 1104|       17|        11|           28|0.6071428571428571| 69.28571428571429|                     65.0| 1.065934065934066|0.03571428571428571|24.035714285714285| 0.4203622735790131| 57.17857142857143|                23.25|6.357142857142857|0.32014388489208634|19.857142857142858|     6.357142857142857|14.857142857142858|0.7098976109215017|20.928571428571427|   12.142857142857142|13.571428571428571|23.928571428571427|              37.5|10.892857142857142|22.642857142857142|33.535714285714285|1.2459016393442623|1.0567823343848581|1.1182108626198084|12.107142857142858|11.678571428571429|6.607142857142857| 5.535714285714286|13.285714285714286|13.857142857142858|3.7857142857142856|3.1785714285714284|18.035714285714285|             19.25| 1231|       10|       07|     0|\n",
            "|  2003| 1112|       25|         3|           28|0.8928571428571429| 85.21428571428571|                    70.25|1.2130147432638536|0.07142857142857142|30.321428571428573|0.46141304347826084| 65.71428571428571|   26.357142857142858|7.035714285714286| 0.3505338078291815|20.071428571428573|     6.321428571428571|17.535714285714285|0.7014285714285714|              25.0|   11.214285714285714|15.178571428571429|27.642857142857142| 42.82142857142857|13.107142857142858|23.285714285714285|36.392857142857146|1.1580381471389645| 1.187116564417178|1.1766437684003925|17.642857142857142|15.464285714285714|8.464285714285714| 5.964285714285714|14.785714285714286|16.857142857142858| 4.214285714285714| 2.392857142857143|             17.75|22.071428571428573| 1242|       01|       02|     0|\n",
            "|  2003| 1112|       25|         3|           28|0.8928571428571429| 85.21428571428571|                    70.25|1.2130147432638536|0.07142857142857142|30.321428571428573|0.46141304347826084| 65.71428571428571|   26.357142857142858|7.035714285714286| 0.3505338078291815|20.071428571428573|     6.321428571428571|17.535714285714285|0.7014285714285714|              25.0|   11.214285714285714|15.178571428571429|27.642857142857142| 42.82142857142857|13.107142857142858|23.285714285714285|36.392857142857146|1.1580381471389645| 1.187116564417178|1.1766437684003925|17.642857142857142|15.464285714285714|8.464285714285714| 5.964285714285714|14.785714285714286|16.857142857142858| 4.214285714285714| 2.392857142857143|             17.75|22.071428571428573| 1436|       01|       16|     1|\n",
            "|  2003| 1112|       25|         3|           28|0.8928571428571429| 85.21428571428571|                    70.25|1.2130147432638536|0.07142857142857142|30.321428571428573|0.46141304347826084| 65.71428571428571|   26.357142857142858|7.035714285714286| 0.3505338078291815|20.071428571428573|     6.321428571428571|17.535714285714285|0.7014285714285714|              25.0|   11.214285714285714|15.178571428571429|27.642857142857142| 42.82142857142857|13.107142857142858|23.285714285714285|36.392857142857146|1.1580381471389645| 1.187116564417178|1.1766437684003925|17.642857142857142|15.464285714285714|8.464285714285714| 5.964285714285714|14.785714285714286|16.857142857142858| 4.214285714285714| 2.392857142857143|             17.75|22.071428571428573| 1211|       01|       09|     1|\n",
            "|  2003| 1112|       25|         3|           28|0.8928571428571429| 85.21428571428571|                    70.25|1.2130147432638536|0.07142857142857142|30.321428571428573|0.46141304347826084| 65.71428571428571|   26.357142857142858|7.035714285714286| 0.3505338078291815|20.071428571428573|     6.321428571428571|17.535714285714285|0.7014285714285714|              25.0|   11.214285714285714|15.178571428571429|27.642857142857142| 42.82142857142857|13.107142857142858|23.285714285714285|36.392857142857146|1.1580381471389645| 1.187116564417178|1.1766437684003925|17.642857142857142|15.464285714285714|8.464285714285714| 5.964285714285714|14.785714285714286|16.857142857142858| 4.214285714285714| 2.392857142857143|             17.75|22.071428571428573| 1323|       01|       05|     1|\n",
            "|  2003| 1113|       18|        11|           29|0.6206896551724138| 75.96551724137932|        69.17241379310344|1.0982053838484547|0.06896551724137931| 27.20689655172414| 0.4781818181818182| 56.89655172413793|    24.79310344827586|              4.0| 0.3178082191780822|12.586206896551724|     5.448275862068965|17.551724137931036|0.6697368421052632| 26.20689655172414|   14.137931034482758|13.689655172413794|23.310344827586206|              37.0|              11.0|20.551724137931036|31.551724137931036| 1.244514106583072|1.1342281879194631|1.1726775956284152|15.551724137931034|14.068965517241379|5.206896551724138|               6.0|              14.0|15.517241379310345| 4.241379310344827|3.9310344827586206|19.413793103448278|22.862068965517242| 1242|       10|       02|     0|\n",
            "|  2003| 1113|       18|        11|           29|0.6206896551724138| 75.96551724137932|        69.17241379310344|1.0982053838484547|0.06896551724137931| 27.20689655172414| 0.4781818181818182| 56.89655172413793|    24.79310344827586|              4.0| 0.3178082191780822|12.586206896551724|     5.448275862068965|17.551724137931036|0.6697368421052632| 26.20689655172414|   14.137931034482758|13.689655172413794|23.310344827586206|              37.0|              11.0|20.551724137931036|31.551724137931036| 1.244514106583072|1.1342281879194631|1.1726775956284152|15.551724137931034|14.068965517241379|5.206896551724138|               6.0|              14.0|15.517241379310345| 4.241379310344827|3.9310344827586206|19.413793103448278|22.862068965517242| 1272|       10|       07|     1|\n",
            "|  2003| 1120|       19|        11|           30|0.6333333333333333|              70.1|        65.56666666666666|1.0691408235892221|                0.0|              25.7|0.46983546617915906|              54.7|                 23.8|5.633333333333334| 0.3448979591836735|16.333333333333332|                   6.9|13.066666666666666|0.6621621621621622|19.733333333333334|   11.066666666666666|11.933333333333334|22.566666666666666|              34.5|12.233333333333333|              20.6|32.833333333333336|0.9754768392370572|1.0954692556634305|1.0507614213197969|              13.4|12.666666666666666|8.033333333333333| 7.833333333333333|              15.9|              15.8| 4.966666666666667|2.6666666666666665|16.366666666666667|19.133333333333333| 1393|       10|       03|     0|\n",
            "|  2003| 1120|       19|        11|           30|0.6333333333333333|              70.1|        65.56666666666666|1.0691408235892221|                0.0|              25.7|0.46983546617915906|              54.7|                 23.8|5.633333333333334| 0.3448979591836735|16.333333333333332|                   6.9|13.066666666666666|0.6621621621621622|19.733333333333334|   11.066666666666666|11.933333333333334|22.566666666666666|              34.5|12.233333333333333|              20.6|32.833333333333336|0.9754768392370572|1.0954692556634305|1.0507614213197969|              13.4|12.666666666666666|8.033333333333333| 7.833333333333333|              15.9|              15.8| 4.966666666666667|2.6666666666666665|16.366666666666667|19.133333333333333| 1386|       10|       07|     1|\n",
            "|  2003| 1120|       19|        11|           30|0.6333333333333333|              70.1|        65.56666666666666|1.0691408235892221|                0.0|              25.7|0.46983546617915906|              54.7|                 23.8|5.633333333333334| 0.3448979591836735|16.333333333333332|                   6.9|13.066666666666666|0.6621621621621622|19.733333333333334|   11.066666666666666|11.933333333333334|22.566666666666666|              34.5|12.233333333333333|              20.6|32.833333333333336|0.9754768392370572|1.0954692556634305|1.0507614213197969|              13.4|12.666666666666666|8.033333333333333| 7.833333333333333|              15.9|              15.8| 4.966666666666667|2.6666666666666665|16.366666666666667|19.133333333333333| 1448|       10|       02|     1|\n",
            "|  2003| 1122|       20|         7|           27|0.7407407407407407| 69.70370370370371|        67.70370370370371|1.0295404814004376|0.14814814814814814|23.555555555555557| 0.4523470839260313|52.074074074074076|   24.296296296296298|              6.0|0.34913793103448276|17.185185185185187|     6.296296296296297| 16.59259259259259| 0.691358024691358|              24.0|   12.814814814814815| 10.62962962962963| 24.22222222222222|34.851851851851855|11.666666666666666| 22.51851851851852| 34.18518518518518|0.9111111111111111| 1.075657894736842|1.0195016251354279|13.407407407407407|13.333333333333334|7.037037037037037| 6.814814814814815|15.222222222222221|              14.0| 4.666666666666667| 3.259259259259259|18.666666666666668| 20.25925925925926| 1257|       13|       04|     0|\n",
            "|  2003| 1139|       24|         5|           29|0.8275862068965517| 68.58620689655173|        60.93103448275862|1.1256366723259763|0.13793103448275862| 24.06896551724138|0.47515316541865216|  50.6551724137931|    23.03448275862069|8.482758620689655|0.38801261829652994|21.862068965517242|     4.896551724137931| 11.96551724137931|0.7229166666666667|16.551724137931036|     9.96551724137931| 7.827586206896552|20.379310344827587| 28.20689655172414|10.448275862068966| 20.20689655172414|30.655172413793103|0.7491749174917491|1.0085324232081911|0.9201349831271091| 12.96551724137931| 9.620689655172415|6.344827586206897| 4.758620689655173|10.413793103448276|              12.0|1.8620689655172413|2.8620689655172415| 16.06896551724138| 16.82758620689655| 1328|       12|       01|     0|\n",
            "|  2003| 1139|       24|         5|           29|0.8275862068965517| 68.58620689655173|        60.93103448275862|1.1256366723259763|0.13793103448275862| 24.06896551724138|0.47515316541865216|  50.6551724137931|    23.03448275862069|8.482758620689655|0.38801261829652994|21.862068965517242|     4.896551724137931| 11.96551724137931|0.7229166666666667|16.551724137931036|     9.96551724137931| 7.827586206896552|20.379310344827587| 28.20689655172414|10.448275862068966| 20.20689655172414|30.655172413793103|0.7491749174917491|1.0085324232081911|0.9201349831271091| 12.96551724137931| 9.620689655172415|6.344827586206897| 4.758620689655173|10.413793103448276|              12.0|1.8620689655172413|2.8620689655172415| 16.06896551724138| 16.82758620689655| 1280|       12|       05|     1|\n",
            "|  2003| 1139|       24|         5|           29|0.8275862068965517| 68.58620689655173|        60.93103448275862|1.1256366723259763|0.13793103448275862| 24.06896551724138|0.47515316541865216|  50.6551724137931|    23.03448275862069|8.482758620689655|0.38801261829652994|21.862068965517242|     4.896551724137931| 11.96551724137931|0.7229166666666667|16.551724137931036|     9.96551724137931| 7.827586206896552|20.379310344827587| 28.20689655172414|10.448275862068966| 20.20689655172414|30.655172413793103|0.7491749174917491|1.0085324232081911|0.9201349831271091| 12.96551724137931| 9.620689655172415|6.344827586206897| 4.758620689655173|10.413793103448276|              12.0|1.8620689655172413|2.8620689655172415| 16.06896551724138| 16.82758620689655| 1257|       12|       04|     1|\n",
            "|  2003| 1140|       23|         8|           31|0.7419354838709677| 72.45161290322581|        63.67741935483871|1.1377912867274569|0.03225806451612903|24.032258064516128|0.46884833228445566| 51.25806451612903|   20.967741935483872|6.193548387096774|              0.384|16.129032258064516|                   5.0|18.193548387096776| 0.753004005340454|24.161290322580644|   16.741935483870968|10.870967741935484|24.419354838709676| 35.29032258064516|10.419354838709678|20.193548387096776|30.612903225806452| 1.043343653250774|  1.20926517571885|1.1527924130663856|13.419354838709678|10.774193548387096|6.935483870967742| 5.483870967741935|13.741935483870968|14.483870967741936|2.5161290322580645| 2.225806451612903|21.419354838709676|21.387096774193548| 1163|       12|       05|     0|\n",
            "|  2003| 1141|       23|         6|           29|0.7931034482758621| 79.34482758620689|        73.24137931034483|1.0833333333333333|                0.0|26.620689655172413| 0.5052356020942408|52.689655172413794|   26.344827586206897|6.827586206896552|0.38076923076923075| 17.93103448275862|    4.9655172413793105|19.275862068965516|0.7657534246575343| 25.17241379310345|   15.586206896551724|10.586206896551724|23.275862068965516| 33.86206896551724|12.241379310344827|18.896551724137932|31.137931034482758|0.8647887323943662|1.2317518248175183|1.0874861572535992|15.620689655172415|11.793103448275861|7.103448275862069| 8.448275862068966| 18.24137931034483| 16.06896551724138|               4.0|2.4827586206896552| 20.96551724137931|21.689655172413794| 1181|       11|       03|     0|\n",
            "|  2003| 1141|       23|         6|           29|0.7931034482758621| 79.34482758620689|        73.24137931034483|1.0833333333333333|                0.0|26.620689655172413| 0.5052356020942408|52.689655172413794|   26.344827586206897|6.827586206896552|0.38076923076923075| 17.93103448275862|    4.9655172413793105|19.275862068965516|0.7657534246575343| 25.17241379310345|   15.586206896551724|10.586206896551724|23.275862068965516| 33.86206896551724|12.241379310344827|18.896551724137932|31.137931034482758|0.8647887323943662|1.2317518248175183|1.0874861572535992|15.620689655172415|11.793103448275861|7.103448275862069| 8.448275862068966| 18.24137931034483| 16.06896551724138|               4.0|2.4827586206896552| 20.96551724137931|21.689655172413794| 1166|       11|       06|     1|\n",
            "|  2003| 1143|       21|         8|           29|0.7241379310344828| 74.48275862068965|        69.75862068965517|1.0677212061295107|0.10344827586206896|27.344827586206897|0.46564885496183206|58.724137931034484|   25.379310344827587|6.413793103448276| 0.3765182186234818| 17.03448275862069|     7.103448275862069|13.379310344827585|0.6855123674911661|19.517241379310345|    11.89655172413793|11.241379310344827|24.379310344827587| 35.62068965517241|11.172413793103448|              23.0|34.172413793103445|1.0061728395061729|1.0599700149925038|1.0423814328960646|              16.0| 16.03448275862069|6.551724137931035| 5.931034482758621|14.172413793103448|14.931034482758621| 2.793103448275862|2.5172413793103448|17.103448275862068|19.103448275862068| 1328|       08|       01|     0|\n",
            "|  2003| 1143|       21|         8|           29|0.7241379310344828| 74.48275862068965|        69.75862068965517|1.0677212061295107|0.10344827586206896|27.344827586206897|0.46564885496183206|58.724137931034484|   25.379310344827587|6.413793103448276| 0.3765182186234818| 17.03448275862069|     7.103448275862069|13.379310344827585|0.6855123674911661|19.517241379310345|    11.89655172413793|11.241379310344827|24.379310344827587| 35.62068965517241|11.172413793103448|              23.0|34.172413793103445|1.0061728395061729|1.0599700149925038|1.0423814328960646|              16.0| 16.03448275862069|6.551724137931035| 5.931034482758621|14.172413793103448|14.931034482758621| 2.793103448275862|2.5172413793103448|17.103448275862068|19.103448275862068| 1301|       08|       09|     1|\n",
            "|  2003| 1153|       17|        11|           28|0.6071428571428571| 67.32142857142857|                     61.5|  1.09465737514518|                0.0|22.892857142857142| 0.4039067422810334| 56.67857142857143|                21.25|6.678571428571429| 0.3424908424908425|              19.5|     5.928571428571429|14.857142857142858|0.6898839137645107|21.535714285714285|   13.071428571428571|12.142857142857142|23.392857142857142|35.535714285714285|11.107142857142858|24.142857142857142|             35.25|1.0932475884244373|0.9689349112426036|1.0081053698074975|12.285714285714286|             11.75|5.178571428571429| 4.142857142857143|10.607142857142858|13.928571428571429|              4.25|3.0357142857142856|18.964285714285715|              20.0| 1211|       08|       09|     0|\n",
            "+------+-----+---------+----------+-------------+------------------+------------------+-------------------------+------------------+-------------------+------------------+-------------------+------------------+---------------------+-----------------+-------------------+------------------+----------------------+------------------+------------------+------------------+---------------------+------------------+------------------+------------------+------------------+------------------+------------------+------------------+------------------+------------------+------------------+------------------+-----------------+------------------+------------------+------------------+------------------+------------------+------------------+------------------+-----+---------+---------+------+\n",
            "only showing top 20 rows\n",
            "\n"
          ]
        }
      ]
    },
    {
      "cell_type": "code",
      "source": [
        "outscores2 = RegularSeasonInput.withColumnRenamed('TeamID','Team2')\n",
        "outscores2 = outscores2.join(TourneyInput, ['Season','Team2'])\n",
        "#outscores2.show()\n",
        "\n",
        "#rename columns\n",
        "outscores2 = outscores2.withColumnRenamed('Wins','Team2Wins')\n",
        "outscores2 = outscores2.withColumnRenamed('Loses','Team2Loses')\n",
        "outscores2 = outscores2.withColumnRenamed('NumGames','Team2NumGames')\n",
        "outscores2 = outscores2.withColumnRenamed('WinRatio','Team2WinRatio')\n",
        "outscores2 = outscores2.withColumnRenamed('PointsPerGame','Team2PointsPerGame')\n",
        "outscores2 = outscores2.withColumnRenamed('PointsAllowedPerGame','Team2PointsAllowedPerGame')\n",
        "outscores2 = outscores2.withColumnRenamed('PointsRatio','Team2PointsRatio')\n",
        "outscores2 = outscores2.withColumnRenamed('OTsPerGame','Team2OTsPerGame')\n",
        "outscores2 = outscores2.withColumnRenamed('FGPerGame','Team2FGPerGame')\n",
        "outscores2 = outscores2.withColumnRenamed('FGRatio','Team2FGRatio')\n",
        "outscores2 = outscores2.withColumnRenamed('FGAPerGame','Team2FGAPerGame')\n",
        "outscores2 = outscores2.withColumnRenamed('FGAllowedPerGame','Team2FGAllowedPerGame')\n",
        "outscores2 = outscores2.withColumnRenamed('FG3PerGame','Team2FG3PerGame')\n",
        "outscores2 = outscores2.withColumnRenamed('FG3Ratio','Team2FG3Ratio')\n",
        "outscores2 = outscores2.withColumnRenamed('FG3APerGame','Team2FG3APerGame')\n",
        "outscores2 = outscores2.withColumnRenamed('FG3AllowedPerGame','Team2FG3AllowedPerGame')\n",
        "outscores2 = outscores2.withColumnRenamed('FTPerGame','Team2FTPerGame')\n",
        "outscores2 = outscores2.withColumnRenamed('FTRatio','Team2FTRatio')\n",
        "outscores2 = outscores2.withColumnRenamed('FTAPerGame','Team2FTAPerGame')\n",
        "outscores2 = outscores2.withColumnRenamed('FTllowedPerGame','Team2FTAllowedPerGame')\n",
        "outscores2 = outscores2.withColumnRenamed('ORPerGame','Team2ORPerGame')\n",
        "outscores2 = outscores2.withColumnRenamed('DRPerGame','Team2DRPerGame')\n",
        "outscores2 = outscores2.withColumnRenamed('TRPerGame','Team2TRPerGame')\n",
        "outscores2 = outscores2.withColumnRenamed('OppORPerGame','Team2OppORPerGame')\n",
        "outscores2 = outscores2.withColumnRenamed('OppDRPerGame','Team2OppDRPerGame')\n",
        "outscores2 = outscores2.withColumnRenamed('OppTRPerGame','Team2OppTRPerGame')\n",
        "outscores2 = outscores2.withColumnRenamed('ORRatio','Team2ORRatio')\n",
        "outscores2 = outscores2.withColumnRenamed('DRRatio','Team2DRRatio')\n",
        "outscores2 = outscores2.withColumnRenamed('TRRatio','Team2TRRatio')\n",
        "outscores2 = outscores2.withColumnRenamed('AstPerGame','Team2AstPerGame')\n",
        "outscores2 = outscores2.withColumnRenamed('OppAstPerGame','Team2OppAstPerGame')\n",
        "outscores2 = outscores2.withColumnRenamed('StlPerGame','Team2StlPerGame')\n",
        "outscores2 = outscores2.withColumnRenamed('OppStlPerGame','Team2OppStlPerGame')\n",
        "outscores2 = outscores2.withColumnRenamed('TOPerGame','Team2TOPerGame')\n",
        "outscores2 = outscores2.withColumnRenamed('OppTOPerGame','Team2OppTOPerGame')\n",
        "outscores2 = outscores2.withColumnRenamed('BlkPerGame','Team2BlkPerGame')\n",
        "outscores2 = outscores2.withColumnRenamed('OppBlkPerGame','Team2OppBlkPerGame')\n",
        "outscores2 = outscores2.withColumnRenamed('PFPerGame','Team2PFPerGame')\n",
        "outscores2 = outscores2.withColumnRenamed('OppPFPerGame','Team2OppPFPerGame')\n",
        "\n",
        "#outscores2.show()\n",
        "\n",
        "outscores2.show()\n",
        "print(outscores1.count())\n",
        "print(outscores2.count())"
      ],
      "metadata": {
        "colab": {
          "base_uri": "https://localhost:8080/"
        },
        "id": "CLXGhXOl9R9f",
        "outputId": "8a0ae0fc-96df-40d0-e9b3-6dcb24050e5c"
      },
      "execution_count": 61,
      "outputs": [
        {
          "output_type": "stream",
          "name": "stdout",
          "text": [
            "+------+-----+---------+----------+-------------+------------------+------------------+-------------------------+------------------+-------------------+------------------+-------------------+------------------+---------------------+-----------------+-------------------+------------------+----------------------+------------------+------------------+------------------+---------------------+------------------+------------------+------------------+------------------+------------------+------------------+------------------+------------------+------------------+------------------+------------------+-----------------+------------------+------------------+------------------+------------------+------------------+------------------+------------------+-----+---------+---------+------+\n",
            "|Season|Team2|Team2Wins|Team2Loses|Team2NumGames|     Team2WinRatio|Team2PointsPerGame|Team2PointsAllowedPerGame|  Team2PointsRatio|    Team2OTsPerGame|    Team2FGPerGame|       Team2FGRatio|   Team2FGAPerGame|Team2FGAllowedPerGame|  Team2FG3PerGame|      Team2FG3Ratio|  Team2FG3APerGame|Team2FG3AllowedPerGame|    Team2FTPerGame|      Team2FTRatio|   Team2FTAPerGame|Team2FTAllowedPerGame|    Team2ORPerGame|    Team2DRPerGame|    Team2TRPerGame| Team2OppORPerGame| Team2OppDRPerGame| Team2OppTRPerGame|      Team2ORRatio|      Team2DRRatio|      Team2TRRatio|   Team2AstPerGame|Team2OppAstPerGame|  Team2StlPerGame|Team2OppStlPerGame|    Team2TOPerGame| Team2OppTOPerGame|   Team2BlkPerGame|Team2OppBlkPerGame|    Team2PFPerGame| Team2OppPFPerGame|Team1|Team1Seed|Team2Seed|Result|\n",
            "+------+-----+---------+----------+-------------+------------------+------------------+-------------------------+------------------+-------------------+------------------+-------------------+------------------+---------------------+-----------------+-------------------+------------------+----------------------+------------------+------------------+------------------+---------------------+------------------+------------------+------------------+------------------+------------------+------------------+------------------+------------------+------------------+------------------+------------------+-----------------+------------------+------------------+------------------+------------------+------------------+------------------+------------------+-----+---------+---------+------+\n",
            "|  2003| 1104|       17|        11|           28|0.6071428571428571| 69.28571428571429|                     65.0| 1.065934065934066|0.03571428571428571|24.035714285714285| 0.4203622735790131| 57.17857142857143|                23.25|6.357142857142857|0.32014388489208634|19.857142857142858|     6.357142857142857|14.857142857142858|0.7098976109215017|20.928571428571427|   12.142857142857142|13.571428571428571|23.928571428571427|              37.5|10.892857142857142|22.642857142857142|33.535714285714285|1.2459016393442623|1.0567823343848581|1.1182108626198084|12.107142857142858|11.678571428571429|6.607142857142857| 5.535714285714286|13.285714285714286|13.857142857142858|3.7857142857142856|3.1785714285714284|18.035714285714285|             19.25| 1231|       07|       10|     1|\n",
            "|  2003| 1112|       25|         3|           28|0.8928571428571429| 85.21428571428571|                    70.25|1.2130147432638536|0.07142857142857142|30.321428571428573|0.46141304347826084| 65.71428571428571|   26.357142857142858|7.035714285714286| 0.3505338078291815|20.071428571428573|     6.321428571428571|17.535714285714285|0.7014285714285714|              25.0|   11.214285714285714|15.178571428571429|27.642857142857142| 42.82142857142857|13.107142857142858|23.285714285714285|36.392857142857146|1.1580381471389645| 1.187116564417178|1.1766437684003925|17.642857142857142|15.464285714285714|8.464285714285714| 5.964285714285714|14.785714285714286|16.857142857142858| 4.214285714285714| 2.392857142857143|             17.75|22.071428571428573| 1436|       16|       01|     0|\n",
            "|  2003| 1112|       25|         3|           28|0.8928571428571429| 85.21428571428571|                    70.25|1.2130147432638536|0.07142857142857142|30.321428571428573|0.46141304347826084| 65.71428571428571|   26.357142857142858|7.035714285714286| 0.3505338078291815|20.071428571428573|     6.321428571428571|17.535714285714285|0.7014285714285714|              25.0|   11.214285714285714|15.178571428571429|27.642857142857142| 42.82142857142857|13.107142857142858|23.285714285714285|36.392857142857146|1.1580381471389645| 1.187116564417178|1.1766437684003925|17.642857142857142|15.464285714285714|8.464285714285714| 5.964285714285714|14.785714285714286|16.857142857142858| 4.214285714285714| 2.392857142857143|             17.75|22.071428571428573| 1211|       09|       01|     0|\n",
            "|  2003| 1112|       25|         3|           28|0.8928571428571429| 85.21428571428571|                    70.25|1.2130147432638536|0.07142857142857142|30.321428571428573|0.46141304347826084| 65.71428571428571|   26.357142857142858|7.035714285714286| 0.3505338078291815|20.071428571428573|     6.321428571428571|17.535714285714285|0.7014285714285714|              25.0|   11.214285714285714|15.178571428571429|27.642857142857142| 42.82142857142857|13.107142857142858|23.285714285714285|36.392857142857146|1.1580381471389645| 1.187116564417178|1.1766437684003925|17.642857142857142|15.464285714285714|8.464285714285714| 5.964285714285714|14.785714285714286|16.857142857142858| 4.214285714285714| 2.392857142857143|             17.75|22.071428571428573| 1323|       05|       01|     0|\n",
            "|  2003| 1112|       25|         3|           28|0.8928571428571429| 85.21428571428571|                    70.25|1.2130147432638536|0.07142857142857142|30.321428571428573|0.46141304347826084| 65.71428571428571|   26.357142857142858|7.035714285714286| 0.3505338078291815|20.071428571428573|     6.321428571428571|17.535714285714285|0.7014285714285714|              25.0|   11.214285714285714|15.178571428571429|27.642857142857142| 42.82142857142857|13.107142857142858|23.285714285714285|36.392857142857146|1.1580381471389645| 1.187116564417178|1.1766437684003925|17.642857142857142|15.464285714285714|8.464285714285714| 5.964285714285714|14.785714285714286|16.857142857142858| 4.214285714285714| 2.392857142857143|             17.75|22.071428571428573| 1242|       02|       01|     1|\n",
            "|  2003| 1113|       18|        11|           29|0.6206896551724138| 75.96551724137932|        69.17241379310344|1.0982053838484547|0.06896551724137931| 27.20689655172414| 0.4781818181818182| 56.89655172413793|    24.79310344827586|              4.0| 0.3178082191780822|12.586206896551724|     5.448275862068965|17.551724137931036|0.6697368421052632| 26.20689655172414|   14.137931034482758|13.689655172413794|23.310344827586206|              37.0|              11.0|20.551724137931036|31.551724137931036| 1.244514106583072|1.1342281879194631|1.1726775956284152|15.551724137931034|14.068965517241379|5.206896551724138|               6.0|              14.0|15.517241379310345| 4.241379310344827|3.9310344827586206|19.413793103448278|22.862068965517242| 1272|       07|       10|     0|\n",
            "|  2003| 1113|       18|        11|           29|0.6206896551724138| 75.96551724137932|        69.17241379310344|1.0982053838484547|0.06896551724137931| 27.20689655172414| 0.4781818181818182| 56.89655172413793|    24.79310344827586|              4.0| 0.3178082191780822|12.586206896551724|     5.448275862068965|17.551724137931036|0.6697368421052632| 26.20689655172414|   14.137931034482758|13.689655172413794|23.310344827586206|              37.0|              11.0|20.551724137931036|31.551724137931036| 1.244514106583072|1.1342281879194631|1.1726775956284152|15.551724137931034|14.068965517241379|5.206896551724138|               6.0|              14.0|15.517241379310345| 4.241379310344827|3.9310344827586206|19.413793103448278|22.862068965517242| 1242|       02|       10|     1|\n",
            "|  2003| 1120|       19|        11|           30|0.6333333333333333|              70.1|        65.56666666666666|1.0691408235892221|                0.0|              25.7|0.46983546617915906|              54.7|                 23.8|5.633333333333334| 0.3448979591836735|16.333333333333332|                   6.9|13.066666666666666|0.6621621621621622|19.733333333333334|   11.066666666666666|11.933333333333334|22.566666666666666|              34.5|12.233333333333333|              20.6|32.833333333333336|0.9754768392370572|1.0954692556634305|1.0507614213197969|              13.4|12.666666666666666|8.033333333333333| 7.833333333333333|              15.9|              15.8| 4.966666666666667|2.6666666666666665|16.366666666666667|19.133333333333333| 1386|       07|       10|     0|\n",
            "|  2003| 1120|       19|        11|           30|0.6333333333333333|              70.1|        65.56666666666666|1.0691408235892221|                0.0|              25.7|0.46983546617915906|              54.7|                 23.8|5.633333333333334| 0.3448979591836735|16.333333333333332|                   6.9|13.066666666666666|0.6621621621621622|19.733333333333334|   11.066666666666666|11.933333333333334|22.566666666666666|              34.5|12.233333333333333|              20.6|32.833333333333336|0.9754768392370572|1.0954692556634305|1.0507614213197969|              13.4|12.666666666666666|8.033333333333333| 7.833333333333333|              15.9|              15.8| 4.966666666666667|2.6666666666666665|16.366666666666667|19.133333333333333| 1448|       02|       10|     0|\n",
            "|  2003| 1120|       19|        11|           30|0.6333333333333333|              70.1|        65.56666666666666|1.0691408235892221|                0.0|              25.7|0.46983546617915906|              54.7|                 23.8|5.633333333333334| 0.3448979591836735|16.333333333333332|                   6.9|13.066666666666666|0.6621621621621622|19.733333333333334|   11.066666666666666|11.933333333333334|22.566666666666666|              34.5|12.233333333333333|              20.6|32.833333333333336|0.9754768392370572|1.0954692556634305|1.0507614213197969|              13.4|12.666666666666666|8.033333333333333| 7.833333333333333|              15.9|              15.8| 4.966666666666667|2.6666666666666665|16.366666666666667|19.133333333333333| 1393|       03|       10|     1|\n",
            "|  2003| 1122|       20|         7|           27|0.7407407407407407| 69.70370370370371|        67.70370370370371|1.0295404814004376|0.14814814814814814|23.555555555555557| 0.4523470839260313|52.074074074074076|   24.296296296296298|              6.0|0.34913793103448276|17.185185185185187|     6.296296296296297| 16.59259259259259| 0.691358024691358|              24.0|   12.814814814814815| 10.62962962962963| 24.22222222222222|34.851851851851855|11.666666666666666| 22.51851851851852| 34.18518518518518|0.9111111111111111| 1.075657894736842|1.0195016251354279|13.407407407407407|13.333333333333334|7.037037037037037| 6.814814814814815|15.222222222222221|              14.0| 4.666666666666667| 3.259259259259259|18.666666666666668| 20.25925925925926| 1257|       04|       13|     1|\n",
            "|  2003| 1139|       24|         5|           29|0.8275862068965517| 68.58620689655173|        60.93103448275862|1.1256366723259763|0.13793103448275862| 24.06896551724138|0.47515316541865216|  50.6551724137931|    23.03448275862069|8.482758620689655|0.38801261829652994|21.862068965517242|     4.896551724137931| 11.96551724137931|0.7229166666666667|16.551724137931036|     9.96551724137931| 7.827586206896552|20.379310344827587| 28.20689655172414|10.448275862068966| 20.20689655172414|30.655172413793103|0.7491749174917491|1.0085324232081911|0.9201349831271091| 12.96551724137931| 9.620689655172415|6.344827586206897| 4.758620689655173|10.413793103448276|              12.0|1.8620689655172413|2.8620689655172415| 16.06896551724138| 16.82758620689655| 1280|       05|       12|     0|\n",
            "|  2003| 1139|       24|         5|           29|0.8275862068965517| 68.58620689655173|        60.93103448275862|1.1256366723259763|0.13793103448275862| 24.06896551724138|0.47515316541865216|  50.6551724137931|    23.03448275862069|8.482758620689655|0.38801261829652994|21.862068965517242|     4.896551724137931| 11.96551724137931|0.7229166666666667|16.551724137931036|     9.96551724137931| 7.827586206896552|20.379310344827587| 28.20689655172414|10.448275862068966| 20.20689655172414|30.655172413793103|0.7491749174917491|1.0085324232081911|0.9201349831271091| 12.96551724137931| 9.620689655172415|6.344827586206897| 4.758620689655173|10.413793103448276|              12.0|1.8620689655172413|2.8620689655172415| 16.06896551724138| 16.82758620689655| 1257|       04|       12|     0|\n",
            "|  2003| 1139|       24|         5|           29|0.8275862068965517| 68.58620689655173|        60.93103448275862|1.1256366723259763|0.13793103448275862| 24.06896551724138|0.47515316541865216|  50.6551724137931|    23.03448275862069|8.482758620689655|0.38801261829652994|21.862068965517242|     4.896551724137931| 11.96551724137931|0.7229166666666667|16.551724137931036|     9.96551724137931| 7.827586206896552|20.379310344827587| 28.20689655172414|10.448275862068966| 20.20689655172414|30.655172413793103|0.7491749174917491|1.0085324232081911|0.9201349831271091| 12.96551724137931| 9.620689655172415|6.344827586206897| 4.758620689655173|10.413793103448276|              12.0|1.8620689655172413|2.8620689655172415| 16.06896551724138| 16.82758620689655| 1328|       01|       12|     1|\n",
            "|  2003| 1140|       23|         8|           31|0.7419354838709677| 72.45161290322581|        63.67741935483871|1.1377912867274569|0.03225806451612903|24.032258064516128|0.46884833228445566| 51.25806451612903|   20.967741935483872|6.193548387096774|              0.384|16.129032258064516|                   5.0|18.193548387096776| 0.753004005340454|24.161290322580644|   16.741935483870968|10.870967741935484|24.419354838709676| 35.29032258064516|10.419354838709678|20.193548387096776|30.612903225806452| 1.043343653250774|  1.20926517571885|1.1527924130663856|13.419354838709678|10.774193548387096|6.935483870967742| 5.483870967741935|13.741935483870968|14.483870967741936|2.5161290322580645| 2.225806451612903|21.419354838709676|21.387096774193548| 1163|       05|       12|     1|\n",
            "|  2003| 1141|       23|         6|           29|0.7931034482758621| 79.34482758620689|        73.24137931034483|1.0833333333333333|                0.0|26.620689655172413| 0.5052356020942408|52.689655172413794|   26.344827586206897|6.827586206896552|0.38076923076923075| 17.93103448275862|    4.9655172413793105|19.275862068965516|0.7657534246575343| 25.17241379310345|   15.586206896551724|10.586206896551724|23.275862068965516| 33.86206896551724|12.241379310344827|18.896551724137932|31.137931034482758|0.8647887323943662|1.2317518248175183|1.0874861572535992|15.620689655172415|11.793103448275861|7.103448275862069| 8.448275862068966| 18.24137931034483| 16.06896551724138|               4.0|2.4827586206896552| 20.96551724137931|21.689655172413794| 1166|       06|       11|     0|\n",
            "|  2003| 1141|       23|         6|           29|0.7931034482758621| 79.34482758620689|        73.24137931034483|1.0833333333333333|                0.0|26.620689655172413| 0.5052356020942408|52.689655172413794|   26.344827586206897|6.827586206896552|0.38076923076923075| 17.93103448275862|    4.9655172413793105|19.275862068965516|0.7657534246575343| 25.17241379310345|   15.586206896551724|10.586206896551724|23.275862068965516| 33.86206896551724|12.241379310344827|18.896551724137932|31.137931034482758|0.8647887323943662|1.2317518248175183|1.0874861572535992|15.620689655172415|11.793103448275861|7.103448275862069| 8.448275862068966| 18.24137931034483| 16.06896551724138|               4.0|2.4827586206896552| 20.96551724137931|21.689655172413794| 1181|       03|       11|     1|\n",
            "|  2003| 1143|       21|         8|           29|0.7241379310344828| 74.48275862068965|        69.75862068965517|1.0677212061295107|0.10344827586206896|27.344827586206897|0.46564885496183206|58.724137931034484|   25.379310344827587|6.413793103448276| 0.3765182186234818| 17.03448275862069|     7.103448275862069|13.379310344827585|0.6855123674911661|19.517241379310345|    11.89655172413793|11.241379310344827|24.379310344827587| 35.62068965517241|11.172413793103448|              23.0|34.172413793103445|1.0061728395061729|1.0599700149925038|1.0423814328960646|              16.0| 16.03448275862069|6.551724137931035| 5.931034482758621|14.172413793103448|14.931034482758621| 2.793103448275862|2.5172413793103448|17.103448275862068|19.103448275862068| 1301|       09|       08|     0|\n",
            "|  2003| 1143|       21|         8|           29|0.7241379310344828| 74.48275862068965|        69.75862068965517|1.0677212061295107|0.10344827586206896|27.344827586206897|0.46564885496183206|58.724137931034484|   25.379310344827587|6.413793103448276| 0.3765182186234818| 17.03448275862069|     7.103448275862069|13.379310344827585|0.6855123674911661|19.517241379310345|    11.89655172413793|11.241379310344827|24.379310344827587| 35.62068965517241|11.172413793103448|              23.0|34.172413793103445|1.0061728395061729|1.0599700149925038|1.0423814328960646|              16.0| 16.03448275862069|6.551724137931035| 5.931034482758621|14.172413793103448|14.931034482758621| 2.793103448275862|2.5172413793103448|17.103448275862068|19.103448275862068| 1328|       01|       08|     1|\n",
            "|  2003| 1153|       17|        11|           28|0.6071428571428571| 67.32142857142857|                     61.5|  1.09465737514518|                0.0|22.892857142857142| 0.4039067422810334| 56.67857142857143|                21.25|6.678571428571429| 0.3424908424908425|              19.5|     5.928571428571429|14.857142857142858|0.6898839137645107|21.535714285714285|   13.071428571428571|12.142857142857142|23.392857142857142|35.535714285714285|11.107142857142858|24.142857142857142|             35.25|1.0932475884244373|0.9689349112426036|1.0081053698074975|12.285714285714286|             11.75|5.178571428571429| 4.142857142857143|10.607142857142858|13.928571428571429|              4.25|3.0357142857142856|18.964285714285715|              20.0| 1211|       09|       08|     1|\n",
            "+------+-----+---------+----------+-------------+------------------+------------------+-------------------------+------------------+-------------------+------------------+-------------------+------------------+---------------------+-----------------+-------------------+------------------+----------------------+------------------+------------------+------------------+---------------------+------------------+------------------+------------------+------------------+------------------+------------------+------------------+------------------+------------------+------------------+------------------+-----------------+------------------+------------------+------------------+------------------+------------------+------------------+------------------+-----+---------+---------+------+\n",
            "only showing top 20 rows\n",
            "\n",
            "2349\n",
            "2349\n"
          ]
        }
      ]
    },
    {
      "cell_type": "code",
      "source": [
        "outscores = outscores2.join(outscores1, ['Season','Team1','Team2','Result','Team1Seed','Team2Seed'])\n",
        "outscores.show()\n",
        "print(outscores.count())"
      ],
      "metadata": {
        "colab": {
          "base_uri": "https://localhost:8080/"
        },
        "id": "3YM8k7LNJdJe",
        "outputId": "cd054f7b-b2e0-4652-cca4-77d16b778fa5"
      },
      "execution_count": 89,
      "outputs": [
        {
          "output_type": "stream",
          "name": "stdout",
          "text": [
            "+------+-----+-----+------+---------+---------+---------+----------+-------------+------------------+------------------+-------------------------+------------------+--------------------+------------------+-------------------+------------------+---------------------+------------------+-------------------+------------------+----------------------+------------------+------------------+------------------+---------------------+------------------+------------------+------------------+------------------+------------------+------------------+------------------+------------------+------------------+------------------+------------------+------------------+------------------+------------------+------------------+------------------+------------------+------------------+------------------+---------+----------+-------------+------------------+------------------+-------------------------+------------------+--------------------+------------------+-------------------+------------------+---------------------+------------------+-------------------+------------------+----------------------+------------------+------------------+------------------+---------------------+------------------+------------------+------------------+------------------+------------------+------------------+------------------+------------------+------------------+------------------+------------------+-----------------+------------------+------------------+------------------+------------------+------------------+------------------+------------------+\n",
            "|Season|Team1|Team2|Result|Team1Seed|Team2Seed|Team2Wins|Team2Loses|Team2NumGames|     Team2WinRatio|Team2PointsPerGame|Team2PointsAllowedPerGame|  Team2PointsRatio|     Team2OTsPerGame|    Team2FGPerGame|       Team2FGRatio|   Team2FGAPerGame|Team2FGAllowedPerGame|   Team2FG3PerGame|      Team2FG3Ratio|  Team2FG3APerGame|Team2FG3AllowedPerGame|    Team2FTPerGame|      Team2FTRatio|   Team2FTAPerGame|Team2FTAllowedPerGame|    Team2ORPerGame|    Team2DRPerGame|    Team2TRPerGame| Team2OppORPerGame| Team2OppDRPerGame| Team2OppTRPerGame|      Team2ORRatio|      Team2DRRatio|      Team2TRRatio|   Team2AstPerGame|Team2OppAstPerGame|   Team2StlPerGame|Team2OppStlPerGame|    Team2TOPerGame| Team2OppTOPerGame|   Team2BlkPerGame|Team2OppBlkPerGame|    Team2PFPerGame| Team2OppPFPerGame|Team1Wins|Team1Loses|Team1NumGames|     Team1WinRatio|Team1PointsPerGame|Team1PointsAllowedPerGame|  Team1PointsRatio|     Team1OTsPerGame|    Team1FGPerGame|       Team1FGRatio|   Team1FGAPerGame|Team1FGAllowedPerGame|   Team1FG3PerGame|      Team1FG3Ratio|  Team1FG3APerGame|Team1FG3AllowedPerGame|    Team1FTPerGame|      Team1FTRatio|   Team1FTAPerGame|Team1FTAllowedPerGame|    Team1ORPerGame|    Team1DRPerGame|    Team1TRPerGame| Team1OppORPerGame| Team1OppDRPerGame| Team1OppTRPerGame|      Team1ORRatio|      Team1DRRatio|      Team1TRRatio|   Team1AstPerGame|Team1OppAstPerGame|  Team1StlPerGame|Team1OppStlPerGame|    Team1TOPerGame| Team1OppTOPerGame|   Team1BlkPerGame|Team1OppBlkPerGame|    Team1PFPerGame| Team1OppPFPerGame|\n",
            "+------+-----+-----+------+---------+---------+---------+----------+-------------+------------------+------------------+-------------------------+------------------+--------------------+------------------+-------------------+------------------+---------------------+------------------+-------------------+------------------+----------------------+------------------+------------------+------------------+---------------------+------------------+------------------+------------------+------------------+------------------+------------------+------------------+------------------+------------------+------------------+------------------+------------------+------------------+------------------+------------------+------------------+------------------+------------------+------------------+---------+----------+-------------+------------------+------------------+-------------------------+------------------+--------------------+------------------+-------------------+------------------+---------------------+------------------+-------------------+------------------+----------------------+------------------+------------------+------------------+---------------------+------------------+------------------+------------------+------------------+------------------+------------------+------------------+------------------+------------------+------------------+------------------+-----------------+------------------+------------------+------------------+------------------+------------------+------------------+------------------+\n",
            "|  2005| 1242| 1137|     0|       03|       14|       22|         9|           31|0.7096774193548387| 63.58064516129032|        58.45161290322581|1.0877483443708609| 0.03225806451612903|21.258064516129032| 0.4452702702702703| 47.74193548387097|   19.580645161290324| 6.612903225806452| 0.3761467889908257|17.580645161290324|                   6.0|14.451612903225806|0.6978193146417445| 20.70967741935484|   13.290322580645162|  9.35483870967742|22.419354838709676|31.774193548387096| 10.96774193548387|20.225806451612904|31.193548387096776|0.8529411764705882|1.1084529505582137|1.0186142709410548|12.451612903225806|10.451612903225806|               8.0| 7.032258064516129|15.774193548387096|15.870967741935484|               3.0|2.5161290322580645|18.870967741935484|18.838709677419356|       23|         6|           29|0.7931034482758621| 75.44827586206897|        65.24137931034483|1.1564482029598309| 0.13793103448275862| 26.93103448275862|0.47680097680097683| 56.48275862068966|   22.103448275862068| 6.793103448275862| 0.3731060606060606| 18.20689655172414|     6.275862068965517|14.793103448275861|0.6897106109324759|21.448275862068964|   14.758620689655173|11.793103448275861| 25.96551724137931|37.758620689655174|              13.0|21.379310344827587| 34.37931034482759|0.9071618037135278|1.2145161290322581| 1.098294884653962|16.586206896551722|10.655172413793103|6.620689655172414| 7.103448275862069|14.482758620689655| 14.10344827586207|3.8620689655172415|2.8275862068965516| 19.24137931034483|19.689655172413794|\n",
            "|  2008| 1280| 1272|     0|       08|       01|       33|         1|           34|0.9705882352941176| 79.67647058823529|        60.61764705882353| 1.314410480349345|0.029411764705882353|28.764705882352942| 0.4657142857142857| 61.76470588235294|   21.647058823529413|7.9411764705882355|0.35019455252918286|22.676470588235293|     4.852941176470588|14.205882352941176|0.5955610357583231|23.852941176470587|   12.470588235294118|14.117647058823529|26.676470588235293|40.794117647058826|11.029411764705882|23.235294117647058| 34.26470588235294|              1.28|1.1481012658227847| 1.190557939914163|16.029411764705884|10.617647058823529| 8.705882352941176| 5.911764705882353|12.205882352941176| 16.58823529411765| 6.088235294117647|3.2058823529411766|17.441176470588236| 19.41176470588235|       22|        10|           32|            0.6875|          73.09375|                  65.0625|1.1234390009606148|               0.125|          26.09375|0.46107123136388733|          56.59375|               23.125|           6.96875| 0.3343328335832084|          20.84375|               6.96875|           13.9375|0.6435786435786436|          21.65625|             11.84375|          12.21875|          28.65625|            40.875|            13.875|              22.5|            36.375|0.8806306306306306| 1.273611111111111|1.1237113402061856|          13.21875|          11.46875|              6.0|              6.75|          15.28125|          12.71875|            7.9375|            3.1875|           16.5625|          19.03125|\n",
            "|  2009| 1320| 1345|     0|       12|       05|       25|         9|           34|0.7352941176470589|  69.3529411764706|        59.11764705882353| 1.173134328358209| 0.08823529411764706|24.823529411764707|0.44656084656084655|55.588235294117645|   21.147058823529413| 6.705882352941177| 0.3507692307692308| 19.11764705882353|    5.5588235294117645|              13.0|0.7004754358161648|18.558823529411764|   11.264705882352942| 9.676470588235293|24.558823529411764| 34.23529411764706|11.264705882352942|23.264705882352942|34.529411764705884|0.8590078328981723|1.0556257901390644|0.9914821124361158|15.117647058823529|12.264705882352942| 7.235294117647059| 5.294117647058823|11.647058823529411|15.117647058823529| 4.823529411764706|2.8823529411764706|17.352941176470587|17.352941176470587|       23|        10|           33| 0.696969696969697|  67.6969696969697|        63.54545454545455|1.0653314258464472| 0.18181818181818182|22.606060606060606| 0.4554334554334554| 49.63636363636363|   22.303030303030305| 6.363636363636363| 0.3465346534653465|18.363636363636363|     7.181818181818182| 16.12121212121212|0.7524752475247525|21.424242424242426|   11.757575757575758| 8.666666666666666|24.848484848484848|33.515151515151516| 8.909090909090908|21.515151515151516|30.424242424242426|0.9727891156462585|1.1549295774647887|1.1015936254980079|12.212121212121213|12.090909090909092|4.242424242424242| 4.878787878787879|11.606060606060606|10.666666666666666|2.4242424242424243|2.1818181818181817| 18.12121212121212|19.666666666666668|\n",
            "|  2014| 1276| 1246|     0|       02|       08|       24|        10|           34|0.7058823529411765| 75.91176470588235|         66.6470588235294|1.1390114739629302| 0.08823529411764706|25.176470588235293|0.45123879810226675|55.794117647058826|   23.205882352941178| 5.088235294117647|  0.325187969924812|15.647058823529411|     5.352941176470588|20.470588235294116|0.6823529411764706|              30.0|   14.882352941176471|14.647058823529411|              26.5| 41.14705882352941|11.323529411764707|20.029411764705884|31.352941176470587|1.2935064935064935|1.3230543318649046|1.3123827392120075|              11.5|10.382352941176471| 4.764705882352941| 5.764705882352941|12.205882352941176|              11.0| 6.235294117647059|3.1176470588235294|              19.0| 22.58823529411765|       25|         8|           33|0.7575757575757576| 74.39393939393939|        65.36363636363636|1.1381548446917014| 0.06060606060606061|25.606060606060606| 0.4757882882882883| 53.81818181818182|   24.333333333333332| 8.484848484848484|0.39381153305203936|21.545454545454547|     5.636363636363637|14.696969696969697|0.7613814756671899|19.303030303030305|    11.06060606060606| 8.848484848484848|22.939393939393938| 31.78787878787879| 9.303030303030303|21.727272727272727| 31.03030303030303|0.9511400651465798|1.0557880055788005|      1.0244140625|14.212121212121213| 11.93939393939394|5.121212121212121|  5.03030303030303| 9.393939393939394|10.969696969696969| 2.515151515151515| 2.515151515151515|14.545454545454545|17.242424242424242|\n",
            "|  2019| 1387| 1439|     0|       13|       04|       24|         8|           32|              0.75|              74.0|                 62.09375|1.1917463512833417|             0.03125|             25.75|0.47547605308713214|          54.15625|              21.5625|           9.59375| 0.3940949935815148|          24.34375|               8.84375|          12.90625|0.7577981651376147|          17.03125|               10.125|           8.90625|           23.6875|          32.59375|            8.9375|              21.0|           29.9375|0.9965034965034965|1.1279761904761905|1.0887265135699373|          15.34375|          12.15625|           6.65625|            5.0625|            11.375|          14.09375|            2.3125|           2.90625|          15.28125|           16.3125|       23|        12|           35|0.6571428571428571| 67.05714285714286|        63.74285714285714| 1.051994621246078|                 0.0|23.885714285714286|              0.418|57.142857142857146|   22.228571428571428| 5.742857142857143|0.30828220858895705| 18.62857142857143|     6.457142857142857|13.542857142857143|0.5977301387137453| 22.65714285714286|    12.82857142857143| 13.82857142857143|25.942857142857143| 39.77142857142857|               8.8|24.457142857142856| 33.25714285714286|1.5714285714285714| 1.060747663551402|1.1958762886597938|12.971428571428572|              12.2|7.085714285714285| 5.914285714285715|12.714285714285714|12.971428571428572| 4.057142857142857| 3.914285714285714|17.485714285714284|18.857142857142858|\n",
            "|  2003| 1181| 1161|     1|       03|       14|       17|        13|           30|0.5666666666666667|              74.0|        72.66666666666667| 1.018348623853211| 0.03333333333333333|              26.4| 0.5067178502879078|              52.1|   25.833333333333332|               4.2| 0.3631123919308357|11.566666666666666|     5.633333333333334|              17.0|0.7005494505494505|24.266666666666666|   15.366666666666667|              10.8|23.466666666666665|34.266666666666666|              12.0|19.066666666666666|31.066666666666666|               0.9|1.2307692307692308|1.1030042918454936|              15.5|13.233333333333333| 5.333333333333333| 9.033333333333333|16.133333333333333|12.233333333333333| 4.233333333333333| 3.066666666666667|20.566666666666666|              21.3|       24|         6|           30|               0.8| 81.96666666666667|                     70.4|1.1642992424242424| 0.06666666666666667|27.366666666666667| 0.4535911602209945|60.333333333333336|   25.066666666666666| 7.333333333333333| 0.3559870550161812|              20.6|     4.933333333333334|              19.9|0.7090261282660333|28.066666666666666|   15.333333333333334|13.766666666666667|              23.1| 36.86666666666667|              12.2|22.633333333333333|34.833333333333336|1.1284153005464481|1.0206185567010309|1.0583732057416269|13.833333333333334|12.333333333333334|              8.5| 6.433333333333334|14.033333333333333|17.833333333333332| 5.133333333333334|               4.1|21.266666666666666|              23.2|\n",
            "|  2003| 1443| 1228|     0|       13|       04|       24|         6|           30|               0.8| 75.43333333333334|                     61.4| 1.228555917480999|                 0.0|              27.1|0.48566308243727596|              55.8|   20.333333333333332| 7.433333333333334| 0.3685950413223141|20.166666666666668|                   5.7|              13.8|0.7225130890052356|              19.1|   15.033333333333333| 9.733333333333333|              25.4| 35.13333333333333|11.133333333333333|              21.2|32.333333333333336| 0.874251497005988|1.1981132075471699|1.0865979381443298|18.266666666666666|11.033333333333333|               7.0|               5.7|13.166666666666666|14.833333333333334|               3.1|               2.5|19.133333333333333|              18.2|       23|         8|           31|0.7419354838709677| 73.09677419354838|        66.41935483870968|1.1005342399222924| 0.03225806451612903| 25.70967741935484| 0.4598961338718984|55.903225806451616|    24.29032258064516| 7.709677419354839| 0.3665644171779141|21.032258064516128|     4.612903225806452| 13.96774193548387|0.6620795107033639|21.096774193548388|   13.225806451612904|12.161290322580646|23.258064516129032| 35.41935483870968| 11.35483870967742|21.612903225806452| 32.96774193548387|1.0710227272727273|1.0761194029850747|1.0743639921722115|14.193548387096774|              12.0|7.064516129032258| 5.967741935483871|15.161290322580646|15.741935483870968|3.5483870967741935|2.5483870967741935|18.451612903225808|19.419354838709676|\n",
            "|  2004| 1196| 1264|     0|       05|       12|       24|         5|           29|0.8275862068965517| 74.34482758620689|        63.44827586206897|1.1717391304347826|                 0.0|24.379310344827587| 0.4415990006246096|55.206896551724135|    21.75862068965517| 5.758620689655173|   0.36784140969163|15.655172413793103|     4.655172413793103| 19.82758620689655|0.7595772787318362|26.103448275862068|   15.275862068965518|12.172413793103448|22.689655172413794| 34.86206896551724|11.724137931034482|              22.0|33.724137931034484|1.0382352941176471| 1.031347962382445|1.0337423312883436|10.793103448275861|11.206896551724139| 9.448275862068966| 6.241379310344827|              13.0| 16.93103448275862| 4.172413793103448| 4.275862068965517|20.310344827586206| 21.17241379310345|       20|        10|           30|0.6666666666666666| 76.96666666666667|        69.13333333333334| 1.113307618129219| 0.06666666666666667|26.933333333333334| 0.4826762246117085|              55.8|                 24.0|               8.2|0.37962962962962965|              21.6|     6.866666666666666|              14.9|0.7525252525252525|              19.8|   14.266666666666667|10.233333333333333|24.933333333333334|35.166666666666664|              12.9|              21.1|              34.0|0.7932816537467701|1.1816745655608214|1.0343137254901962|16.266666666666666|              14.5|6.533333333333333| 7.333333333333333|14.666666666666666|13.566666666666666|3.1333333333333333|3.1333333333333333|18.866666666666667|18.966666666666665|\n",
            "|  2004| 1329| 1386|     1|       02|       01|       27|         1|           28|0.9642857142857143| 77.78571428571429|                     61.5| 1.264808362369338|                 0.0|27.178571428571427|0.47861635220125787|56.785714285714285|   22.107142857142858|              9.75| 0.4068554396423249|23.964285714285715|     4.428571428571429|13.678571428571429|0.7027522935779816|19.464285714285715|   12.857142857142858| 9.678571428571429|             23.25| 32.92857142857143|13.642857142857142|23.035714285714285| 36.67857142857143|0.7094240837696335|1.0093023255813953|0.8977604673807206|16.535714285714285|11.642857142857142| 9.142857142857142| 6.714285714285714|11.714285714285714|16.571428571428573|3.5714285714285716| 2.392857142857143|17.035714285714285|17.964285714285715|       26|         3|           29| 0.896551724137931| 78.20689655172414|        63.89655172413793|1.2239611440906637| 0.10344827586206896|28.896551724137932| 0.5128518971848225|  56.3448275862069|   22.862068965517242| 4.827586206896552| 0.3783783783783784|12.758620689655173|     5.068965517241379|15.586206896551724|0.6953846153846154|22.413793103448278|    13.10344827586207|11.379310344827585| 24.17241379310345| 35.55172413793103|11.655172413793103|19.689655172413794|31.344827586206897|0.9763313609467456|1.2276707530647986|1.1342134213421342| 16.06896551724138|12.137931034482758|7.862068965517241|               6.0|13.448275862068966|15.551724137931034| 3.586206896551724| 3.103448275862069|19.413793103448278|20.344827586206897|\n",
            "|  2006| 1196| 1206|     1|       03|       11|       23|         7|           30|0.7666666666666667|              69.4|       58.833333333333336|1.1796033994334278| 0.06666666666666667|25.733333333333334|0.48370927318295737|              53.2|   21.233333333333334| 5.933333333333334|0.35177865612648224|16.866666666666667|     5.933333333333334|              12.0|0.6679035250463822|17.966666666666665|   10.433333333333334|              10.1|              24.8|              34.9|11.366666666666667|20.866666666666667|32.233333333333334|0.8885630498533724|1.1884984025559104|1.0827300930713548|15.166666666666666|              11.0|               7.3|               6.7|              13.2|13.933333333333334| 3.533333333333333|               3.8|              15.4|16.533333333333335|       27|         6|           33|0.8181818181818182| 79.27272727272727|        64.78787878787878|1.2235734331150607|0.030303030303030304|27.636363636363637| 0.5080779944289694| 54.39393939393939|   23.545454545454547| 7.393939393939394|0.39418416801292405|18.757575757575758|     6.121212121212121|16.606060606060606|0.7345844504021448|22.606060606060606|   11.575757575757576|10.606060606060606|24.636363636363637| 35.24242424242424|12.333333333333334|19.696969696969695| 32.03030303030303|  0.85995085995086|1.2507692307692309|1.1002838221381268| 17.03030303030303|11.333333333333334|8.030303030303031| 7.545454545454546|14.878787878787879|16.272727272727273|4.9393939393939394|2.6666666666666665| 16.12121212121212| 18.87878787878788|\n",
            "|  2009| 1257| 1287|     1|       01|       16|       17|        15|           32|           0.53125|          69.34375|                  68.6875|1.0095541401273886|              0.0625|          23.71875|0.43520642201834864|              54.5|                23.25|           5.09375| 0.3273092369477912|           15.5625|               7.15625|           16.8125|0.7240915208613729|          23.21875|             15.03125|           13.5625|           24.8125|            38.375|            10.375|           20.8125|           31.1875|1.3072289156626506|1.1921921921921923|1.2304609218436873|          12.40625|           13.1875|           6.40625|           6.78125|          15.40625|            12.375|           3.96875|             3.875|          19.21875|           19.3125|       28|         5|           33|0.8484848484848485| 73.93939393939394|        61.60606060606061|1.2001967535661584|0.030303030303030304| 26.78787878787879|  0.450790413054564| 59.42424242424242|   22.181818181818183|  8.06060606060606| 0.3604336043360434|22.363636363636363|     5.212121212121212|12.303030303030303|0.6434231378763867| 19.12121212121212|   12.030303030303031|12.575757575757576|25.424242424242426|              38.0|11.878787878787879|23.636363636363637|35.515151515151516| 1.058673469387755|1.0756410256410256|1.0699658703071673|16.575757575757574|11.666666666666666|9.272727272727273|6.7272727272727275|13.666666666666666|16.393939393939394| 6.181818181818182| 3.303030303030303|17.151515151515152|16.939393939393938|\n",
            "|  2009| 1393| 1372|     1|       03|       14|       20|         7|           27|0.7407407407407407| 64.22222222222223|       58.074074074074076|1.1058673469387754|  0.1111111111111111| 23.88888888888889|  0.433759246805649|55.074074074074076|    19.85185185185185| 5.555555555555555| 0.3191489361702128| 17.40740740740741|     4.074074074074074| 10.88888888888889|0.6636568848758465| 16.40740740740741|   14.296296296296296| 9.037037037037036|24.814814814814813|33.851851851851855| 9.666666666666666|25.074074074074073| 34.74074074074074|0.9348659003831418|0.9896602658788775|0.9744136460554371|12.444444444444445| 8.703703703703704| 5.666666666666667|5.7407407407407405|11.925925925925926|14.185185185185185| 3.074074074074074|3.4074074074074074| 18.40740740740741| 16.14814814814815|       25|         9|           34|0.7352941176470589| 80.97058823529412|        72.91176470588235|1.1105284388866479| 0.29411764705882354|29.323529411764707| 0.4875305623471883| 60.14705882352941|   27.294117647058822| 6.852941176470588| 0.3535660091047041| 19.38235294117647|     7.323529411764706|15.470588235294118|0.6399026763990268|24.176470588235293|                 11.0|12.735294117647058|26.823529411764707| 39.55882352941177|              15.0| 22.58823529411765|37.588235294117645|0.8490196078431372|            1.1875|1.0524256651017214|18.176470588235293|              16.5|7.647058823529412| 8.205882352941176|15.176470588235293|14.323529411764707| 5.088235294117647|               4.0|15.676470588235293|19.794117647058822|\n",
            "|  2010| 1452| 1449|     1|       02|       11|       24|         9|           33|0.7272727272727273| 79.78787878787878|        69.93939393939394|1.1408145580589255|0.030303030303030304| 27.87878787878788| 0.4520884520884521|61.666666666666664|   23.666666666666668| 5.181818181818182|0.32509505703422054| 15.93939393939394|     4.757575757575758|18.848484848484848|0.7274853801169591| 25.90909090909091|   17.848484848484848|13.515151515151516| 24.87878787878788| 38.39393939393939|11.515151515151516|22.606060606060606|34.121212121212125|1.1736842105263159|1.1005361930294906| 1.125222024866785|              14.0| 10.93939393939394|7.2727272727272725|6.0606060606060606|12.787878787878787| 16.09090909090909|3.9393939393939394| 3.090909090909091|21.606060606060606|21.363636363636363|       27|         6|           33|0.8181818181818182| 72.96969696969697|        63.78787878787879|1.1439429928741092| 0.15151515151515152|25.272727272727273| 0.4339229968782518| 58.24242424242424|   21.939393939393938|6.9393939393939394| 0.3357771260997067|20.666666666666668|     5.424242424242424|15.484848484848484|0.6961852861035422|22.242424242424242|   14.484848484848484|15.575757575757576|22.757575757575758|38.333333333333336|10.333333333333334|21.151515151515152|31.484848484848484|1.5073313782991202|1.0759312320916905|1.2175168431183832|15.696969696969697|11.515151515151516|5.606060606060606|5.9393939393939394|11.727272727272727|13.545454545454545|               4.0|2.5757575757575757|18.333333333333332| 20.90909090909091|\n",
            "|  2011| 1163| 1137|     1|       03|       14|       25|         8|           33|0.7575757575757576| 70.75757575757575|        63.42424242424242|1.1156235069278548|0.030303030303030304|24.575757575757574| 0.4495565410199557|54.666666666666664|   21.666666666666668| 6.878787878787879| 0.4024822695035461| 17.09090909090909|     6.363636363636363|14.727272727272727|0.7864077669902912|18.727272727272727|   13.727272727272727| 8.151515151515152| 25.96969696969697|34.121212121212125|10.484848484848484|23.242424242424242| 33.72727272727273|0.7774566473988439|1.1173402868318123|1.0116801437556155|14.727272727272727|12.181818181818182| 4.757575757575758| 5.484848484848484|11.363636363636363| 11.93939393939394|3.1818181818181817| 2.515151515151515|18.242424242424242|17.606060606060606|       26|         9|           35|0.7428571428571429|              73.4|        66.37142857142857|1.1058975462763667| 0.17142857142857143|              26.0| 0.4329210275927688| 60.05714285714286|   24.314285714285713| 5.828571428571428|0.33170731707317075|17.571428571428573|     6.314285714285714|15.571428571428571|0.7548476454293629| 20.62857142857143|   11.428571428571429|14.428571428571429|25.142857142857142| 39.57142857142857|13.342857142857143|22.142857142857142| 35.48571428571429|1.0813704496788008| 1.135483870967742|1.1151368760064413|13.114285714285714|12.514285714285714|6.628571428571429| 6.171428571428572|11.742857142857142|12.142857142857142| 5.628571428571429|               3.8| 16.02857142857143|              18.8|\n",
            "|  2013| 1112| 1217|     1|       06|       14|       18|         9|           27|0.6666666666666666| 68.92592592592592|        64.22222222222223|1.0732410611303345|  0.1111111111111111|22.703703703703702| 0.4826771653543307| 47.03703703703704|   23.666666666666668|  6.37037037037037|0.40093240093240096| 15.88888888888889|     4.962962962962963| 17.14814814814815|         0.7234375|23.703703703703702|   11.925925925925926| 7.148148148148148|21.962962962962962| 29.11111111111111|10.148148148148149| 20.25925925925926| 30.40740740740741|0.7043795620437956|1.0840950639853748|0.9573690621193667|13.074074074074074|11.814814814814815|  7.37037037037037| 6.222222222222222|13.666666666666666| 13.62962962962963| 4.148148148148148|3.3333333333333335| 15.11111111111111| 19.74074074074074|       25|         7|           32|           0.78125|          73.28125|                  63.6875|1.1506378802747792|             0.03125|          25.03125| 0.4497473329590118|          55.65625|              22.6875|           7.65625|  0.362962962962963|          21.09375|               5.96875|           15.5625|0.7477477477477478|           20.8125|             12.34375|          11.53125|          24.71875|             36.25|           9.21875|          21.03125|             30.25|1.2508474576271187| 1.175334323922734|1.1983471074380165|          13.84375|           11.1875|           6.9375|           6.15625|          13.09375|          13.78125|           3.90625|             3.375|          16.34375|            17.875|\n",
            "|  2015| 1374| 1417|     0|       06|       11|       20|        13|           33|0.6060606060606061|              72.0|        68.03030303030303|1.0583518930957683| 0.06060606060606061|25.727272727272727| 0.4405812143227815| 58.39393939393939|   23.606060606060606| 6.212121212121212|0.36347517730496454| 17.09090909090909|     7.848484848484849|14.333333333333334|0.6757142857142857| 21.21212121212121|   12.969696969696969|12.303030303030303|25.666666666666668| 37.96969696969697|10.030303030303031| 24.03030303030303| 34.06060606060606|1.2265861027190332|1.0680958385876418|1.1147686832740213|13.909090909090908|13.787878787878787| 6.848484848484849|6.2727272727272725|11.878787878787879|12.606060606060606| 3.727272727272727| 3.303030303030303| 17.87878787878788| 18.09090909090909|       26|         6|           32|            0.8125|          69.40625|                 59.71875| 1.162218733647305|             0.03125|          24.65625|0.48256880733944957|          51.09375|             20.28125|           4.21875|               0.36|          11.71875|               7.84375|            15.875|0.7045769764216366|          22.53125|              11.3125|          11.21875|          25.15625|            36.375|           10.4375|           19.0625|              29.5|1.0748502994011977| 1.319672131147541|1.2330508474576272|           15.5625|              12.5|          6.78125|            6.5625|           12.4375|          12.65625|           4.03125|           3.46875|          16.28125|          18.84375|\n",
            "|  2016| 1320| 1401|     0|       11|       03|       26|         8|           34|0.7647058823529411| 75.91176470588235|        65.52941176470588|1.1584380610412925|0.058823529411764705|26.647058823529413| 0.4494047619047619|59.294117647058826|   23.029411764705884| 7.676470588235294| 0.3503355704697987| 21.91176470588235|     7.382352941176471|14.941176470588236|0.6728476821192053|22.205882352941178|   12.088235294117647|12.823529411764707|26.058823529411764| 38.88235294117647|11.088235294117647|23.764705882352942| 34.85294117647059| 1.156498673740053|1.0965346534653466|1.1156118143459917| 16.88235294117647|12.941176470588236| 6.911764705882353|5.0588235294117645|11.794117647058824|14.294117647058824| 3.764705882352941|3.4705882352941178| 18.08823529411765|19.323529411764707|       21|        12|           33|0.6363636363636364| 67.54545454545455|        62.90909090909091| 1.073699421965318|0.030303030303030304|23.363636363636363| 0.4543311726576311| 51.42424242424242|   23.272727272727273| 8.090909090909092|0.37186629526462395|21.757575757575758|      6.96969696969697|12.727272727272727|0.7540394973070018| 16.87878787878788|    9.393939393939394| 5.363636363636363|24.333333333333332|29.696969696969695| 9.121212121212121|25.060606060606062| 34.18181818181818|0.5880398671096345|0.9709794437726723|0.8687943262411347|11.848484848484848|12.181818181818182|5.787878787878788| 4.666666666666667| 9.696969696969697|11.969696969696969|2.6363636363636362| 2.696969696969697|15.333333333333334|18.303030303030305|\n",
            "|  2019| 1332| 1414|     1|       12|       13|       29|         5|           34|0.8529411764705882| 72.47058823529412|        63.61764705882353|  1.13915857605178|                 0.0|26.941176470588236|  0.456857855361596|58.970588235294116|   21.852941176470587| 6.794117647058823| 0.3598130841121495| 18.88235294117647|     6.235294117647059|11.794117647058824| 0.699825479930192|16.852941176470587|   13.676470588235293|11.647058823529411| 28.38235294117647|40.029411764705884|10.264705882352942|              23.0| 33.26470588235294|1.1346704871060171|1.2340153452685423|1.2033598585322722|13.235294117647058| 9.382352941176471|               5.5| 5.088235294117647|11.529411764705882|11.205882352941176| 4.264705882352941| 2.735294117647059|              18.5|16.735294117647058|       23|        12|           35|0.6571428571428571| 70.48571428571428|        62.94285714285714|1.1198365864729913| 0.02857142857142857|25.314285714285713|0.44951801116184675| 56.31428571428572|    21.34285714285714|               7.6| 0.3432258064516129|22.142857142857142|     7.057142857142857|12.257142857142858|0.7185929648241206|17.057142857142857|                 13.2| 9.714285714285714|24.714285714285715| 34.42857142857143| 9.657142857142857| 23.02857142857143| 32.68571428571428|1.0059171597633136|1.0732009925558312|1.0533216783216783|13.342857142857143|11.885714285714286|7.771428571428571| 5.228571428571429|              11.8|13.971428571428572| 4.228571428571429|2.7714285714285714|17.771428571428572|16.857142857142858|\n",
            "|  2021| 1199| 1276|     0|       04|       01|       20|         4|           24|0.8333333333333334|             76.25|                   65.375|1.1663479923518165|0.041666666666666664|            27.875| 0.4837310195227766|            57.625|   23.833333333333332| 7.541666666666667|0.38675213675213677|              19.5|                 6.625|12.958333333333334|            0.7775|16.666666666666668|   11.083333333333334| 8.083333333333334|27.083333333333332|35.166666666666664| 7.458333333333333|21.166666666666668|            28.625|1.0837988826815643| 1.279527559055118|1.2285298398835516|15.458333333333334|            10.125| 4.416666666666667| 4.791666666666667|10.666666666666666|               9.5| 4.291666666666667|2.6666666666666665| 6.208333333333333|             6.625|       16|         6|           22|0.7272727272727273|  78.9090909090909|        70.31818181818181|1.1221719457013575| 0.09090909090909091|28.181818181818183| 0.4743687834736037| 59.40909090909091|   23.363636363636363| 8.227272727272727| 0.3900862068965517| 21.09090909090909|     7.818181818181818|14.318181818181818|0.7377049180327869| 19.40909090909091|   15.772727272727273|10.409090909090908|24.272727272727273| 34.68181818181818| 9.772727272727273|19.863636363636363|29.636363636363637|1.0651162790697675|1.2219679633867278|1.1702453987730062|14.590909090909092|              11.5|7.409090909090909| 7.136363636363637|14.136363636363637|13.590909090909092| 5.136363636363637|2.8636363636363638| 6.545454545454546| 5.545454545454546|\n",
            "|  2005| 1153| 1246|     0|       07|       02|       25|         5|           30|0.8333333333333334| 73.73333333333333|                     61.9| 1.191168551427033| 0.03333333333333333|              26.5| 0.4590069284064665|57.733333333333334|   21.866666666666667| 6.533333333333333|0.33793103448275863|19.333333333333332|     6.566666666666666|              14.2|0.6635514018691588|              21.4|                 11.6|              12.7|              22.9|              35.6|11.733333333333333|              22.2| 33.93333333333333|1.0823863636363635|1.0315315315315314|1.0491159135559922|15.266666666666667|11.133333333333333|               9.4|               5.1|13.033333333333333|18.133333333333333| 4.433333333333334| 3.433333333333333|              16.8|18.433333333333334|       24|         7|           31|0.7741935483870968| 76.41935483870968|        64.41935483870968| 1.186279419128693| 0.06451612903225806|25.548387096774192|0.43878116343490303|58.225806451612904|    22.70967741935484| 6.612903225806452| 0.3474576271186441|19.032258064516128|     7.032258064516129| 18.70967741935484|0.6929510155316607|              27.0|    11.96774193548387|14.387096774193548| 27.06451612903226| 41.45161290322581|14.548387096774194|21.838709677419356| 36.38709677419355|0.9889135254988913| 1.239290989660266|1.1391843971631206|              15.0|11.064516129032258|5.483870967741935| 5.870967741935484|13.451612903225806|14.290322580645162| 6.870967741935484| 2.193548387096774|17.677419354838708|22.193548387096776|\n",
            "+------+-----+-----+------+---------+---------+---------+----------+-------------+------------------+------------------+-------------------------+------------------+--------------------+------------------+-------------------+------------------+---------------------+------------------+-------------------+------------------+----------------------+------------------+------------------+------------------+---------------------+------------------+------------------+------------------+------------------+------------------+------------------+------------------+------------------+------------------+------------------+------------------+------------------+------------------+------------------+------------------+------------------+------------------+------------------+------------------+---------+----------+-------------+------------------+------------------+-------------------------+------------------+--------------------+------------------+-------------------+------------------+---------------------+------------------+-------------------+------------------+----------------------+------------------+------------------+------------------+---------------------+------------------+------------------+------------------+------------------+------------------+------------------+------------------+------------------+------------------+------------------+------------------+-----------------+------------------+------------------+------------------+------------------+------------------+------------------+------------------+\n",
            "only showing top 20 rows\n",
            "\n",
            "2336\n"
          ]
        }
      ]
    },
    {
      "cell_type": "code",
      "source": [
        "notin = outscores2.join(outscores1, ['Season','Team1','Team2'],\"left_anti\")\n",
        "notin.show()\n",
        "print(notin.count())\n",
        "\n",
        "notin = outscores1.join(outscores2, ['Season','Team1','Team2'],\"left_anti\")\n",
        "notin.show()\n",
        "print(notin.count())\n",
        "# combine on season, team 1, team 2 and result"
      ],
      "metadata": {
        "colab": {
          "base_uri": "https://localhost:8080/"
        },
        "id": "HaE3wDpY_M_x",
        "outputId": "290b83c1-047c-4b42-de8e-7442dc242f61"
      },
      "execution_count": 88,
      "outputs": [
        {
          "output_type": "stream",
          "name": "stdout",
          "text": [
            "+------+-----+-----+---------+----------+-------------+-------------------+------------------+-------------------------+------------------+--------------------+------------------+-------------------+------------------+---------------------+------------------+-------------------+------------------+----------------------+------------------+------------------+------------------+---------------------+------------------+------------------+------------------+------------------+------------------+------------------+------------------+------------------+------------------+------------------+------------------+-----------------+------------------+------------------+------------------+------------------+------------------+------------------+------------------+---------+---------+------+\n",
            "|Season|Team1|Team2|Team2Wins|Team2Loses|Team2NumGames|      Team2WinRatio|Team2PointsPerGame|Team2PointsAllowedPerGame|  Team2PointsRatio|     Team2OTsPerGame|    Team2FGPerGame|       Team2FGRatio|   Team2FGAPerGame|Team2FGAllowedPerGame|   Team2FG3PerGame|      Team2FG3Ratio|  Team2FG3APerGame|Team2FG3AllowedPerGame|    Team2FTPerGame|      Team2FTRatio|   Team2FTAPerGame|Team2FTAllowedPerGame|    Team2ORPerGame|    Team2DRPerGame|    Team2TRPerGame| Team2OppORPerGame| Team2OppDRPerGame| Team2OppTRPerGame|      Team2ORRatio|      Team2DRRatio|      Team2TRRatio|   Team2AstPerGame|Team2OppAstPerGame|  Team2StlPerGame|Team2OppStlPerGame|    Team2TOPerGame| Team2OppTOPerGame|   Team2BlkPerGame|Team2OppBlkPerGame|    Team2PFPerGame| Team2OppPFPerGame|Team1Seed|Team2Seed|Result|\n",
            "+------+-----+-----+---------+----------+-------------+-------------------+------------------+-------------------------+------------------+--------------------+------------------+-------------------+------------------+---------------------+------------------+-------------------+------------------+----------------------+------------------+------------------+------------------+---------------------+------------------+------------------+------------------+------------------+------------------+------------------+------------------+------------------+------------------+------------------+------------------+-----------------+------------------+------------------+------------------+------------------+------------------+------------------+------------------+---------+---------+------+\n",
            "|  2015| 1246| 1452|       23|         9|           32|            0.71875|           73.9375|                 66.84375|1.1061243571762507|              0.0625|          25.40625|0.41164556962025317|          61.71875|             21.78125|           6.65625| 0.3183856502242152|          20.90625|               5.40625|          16.46875|0.6604010025062657|           24.9375|               17.875|          16.84375|           19.9375|          36.78125|           8.90625|           24.3125|          33.21875|1.8912280701754387|0.8200514138817481|1.1072436500470366|          14.53125|           11.6875|          10.9375|           5.78125|           13.0625|            19.625|           2.84375|           4.03125|          23.34375|          22.46875|       01|       05|     1|\n",
            "|  2021| 1211| 1166|       20|         8|           28| 0.7142857142857143| 76.96428571428571|        68.28571428571429| 1.127092050209205| 0.07142857142857142|28.464285714285715|0.47582089552238804| 59.82142857142857|   24.785714285714285| 9.714285714285714| 0.3665768194070081|              26.5|     7.642857142857143|10.321428571428571|0.6422222222222222|16.071428571428573|   11.071428571428571| 6.892857142857143|25.714285714285715|32.607142857142854| 8.964285714285714|24.285714285714285|             33.25|0.7689243027888446|1.0588235294117647|0.9806659505907627|15.857142857142858|12.714285714285714|7.071428571428571| 5.714285714285714|10.785714285714286|             12.25|               3.5| 2.892857142857143|              3.75| 3.642857142857143|       01|       05|     1|\n",
            "|  2021| 1211| 1313|       14|         7|           21| 0.6666666666666666| 75.14285714285714|        70.57142857142857|1.0647773279352226|0.047619047619047616|25.476190476190474|0.42971887550200805|59.285714285714285|   22.904761904761905|7.9523809523809526|0.37360178970917224|21.285714285714285|      8.19047619047619|16.238095238095237|0.7089397089397089|22.904761904761905|   16.571428571428573| 8.238095238095237|24.761904761904763|              33.0| 8.761904761904763|24.285714285714285| 33.04761904761905|0.9402173913043478|1.0196078431372548|0.9985590778097982|12.238095238095237|12.523809523809524|6.380952380952381| 5.380952380952381|12.619047619047619|14.666666666666666|3.1904761904761907| 3.761904761904762| 7.380952380952381| 7.619047619047619|       01|       16|     1|\n",
            "|  2015| 1246| 1214|       16|        17|           33|0.48484848484848486| 67.15151515151516|                     68.0|0.9875222816399287|0.030303030303030304|22.818181818181817|0.40768814293448835| 55.96969696969697|   22.545454545454547| 5.666666666666667| 0.3040650406504065|18.636363636363637|     5.696969696969697|15.848484848484848|0.6521197007481296|24.303030303030305|    17.21212121212121|12.242424242424242|24.848484848484848| 37.09090909090909|11.121212121212121| 25.03030303030303| 36.15151515151515|1.1008174386920981|0.9927360774818402|1.0259849119865885|10.606060606060606|10.151515151515152|6.666666666666667| 5.393939393939394|14.212121212121213|13.969696969696969| 4.090909090909091| 3.757575757575758|21.545454545454547|20.424242424242426|       01|       16|     1|\n",
            "|  2021| 1211| 1328|       15|        10|           25|                0.6|             74.76|                    69.24|1.0797227036395147|                0.12|              26.8| 0.4416611733684904|             60.68|                25.48|               8.0|  0.338409475465313|             23.64|                  8.16|             13.16| 0.744343891402715|             17.68|                10.12|              8.72|              24.8|             33.52|              8.64|             24.92|             33.56|1.0092592592592593|0.9951845906902087|  0.99880810488677|              13.4|             11.96|             7.36|               5.6|             10.48|             12.68|              3.44|              3.04|               4.0|              4.44|       01|       08|     1|\n",
            "|  2021| 1211| 1425|       22|         7|           29| 0.7586206896551724| 74.75862068965517|        65.10344827586206|1.1483050847457628| 0.13793103448275862| 27.17241379310345|0.46710136336692354|58.172413793103445|   23.551724137931036| 6.310344827586207|0.34790874524714827|18.137931034482758|     7.206896551724138| 14.10344827586207|0.6471518987341772| 21.79310344827586|   10.793103448275861|10.482758620689655| 25.82758620689655|36.310344827586206| 8.448275862068966| 21.06896551724138|29.517241379310345|1.2408163265306122| 1.225859247135843| 1.230140186915888|13.655172413793103|12.448275862068966|4.793103448275862| 5.448275862068965| 12.10344827586207|              11.0| 5.241379310344827|2.8275862068965516| 4.482758620689655| 5.413793103448276|       01|       06|     1|\n",
            "|  2015| 1246| 1153|       22|        10|           32|             0.6875|            62.375|                 55.28125|1.1283210853589598|             0.09375|            22.375|0.45287792536369387|          49.40625|              20.4375|           5.03125| 0.3333333333333333|          15.09375|                  5.75|          12.59375|0.6739130434782609|           18.6875|              8.65625|          10.96875|             23.25|          34.21875|          10.84375|          18.40625|             29.25|1.0115273775216138| 1.263157894736842| 1.169871794871795|            11.875|          11.09375|           6.5625|           5.53125|          12.78125|           12.1875|            5.4375|              2.75|          14.65625|           17.1875|       01|       08|     1|\n",
            "|  2015| 1246| 1458|       31|         3|           34| 0.9117647058823529| 71.88235294117646|        56.11764705882353| 1.280922431865828|0.058823529411764705|25.294117647058822| 0.4796430563301729| 52.73529411764706|   21.823529411764707| 6.970588235294118| 0.3574660633484163|              19.5|                   5.0|14.323529411764707|0.7633228840125392|18.764705882352942|    7.470588235294118| 9.470588235294118|24.205882352941178|  33.6764705882353| 7.529411764705882|20.176470588235293|27.705882352941178|         1.2578125|1.1997084548104957|1.2154989384288748|12.705882352941176| 8.911764705882353|4.529411764705882|3.9705882352941178| 7.411764705882353| 9.970588235294118|               3.5|1.9705882352941178|12.029411764705882|18.058823529411764|       01|       01|     0|\n",
            "|  2015| 1246| 1323|       29|         5|           34| 0.8529411764705882| 78.82352941176471|         65.6470588235294| 1.200716845878136| 0.11764705882352941|27.794117647058822| 0.5099838100377766|              54.5|    24.91176470588235| 8.264705882352942| 0.3924581005586592|21.058823529411764|     6.264705882352941|14.970588235294118|0.7398255813953488|20.235294117647058|    9.558823529411764| 8.323529411764707|24.441176470588236| 32.76470588235294|11.294117647058824|21.323529411764707| 32.61764705882353|0.7369791666666666| 1.146206896551724|1.0045085662759243|15.117647058823529|12.735294117647058|6.882352941176471| 5.176470588235294| 9.382352941176471|11.294117647058824|3.5588235294117645| 2.235294117647059|14.205882352941176|16.970588235294116|       01|       03|     1|\n",
            "|  2014| 1455| 1246|       24|        10|           34| 0.7058823529411765| 75.91176470588235|         66.6470588235294|1.1390114739629302| 0.08823529411764706|25.176470588235293|0.45123879810226675|55.794117647058826|   23.205882352941178| 5.088235294117647|  0.325187969924812|15.647058823529411|     5.352941176470588|20.470588235294116|0.6823529411764706|              30.0|   14.882352941176471|14.647058823529411|              26.5| 41.14705882352941|11.323529411764707|20.029411764705884|31.352941176470587|1.2935064935064935|1.3230543318649046|1.3123827392120075|              11.5|10.382352941176471|4.764705882352941| 5.764705882352941|12.205882352941176|              11.0| 6.235294117647059|3.1176470588235294|              19.0| 22.58823529411765|       01|       08|     0|\n",
            "|  2014| 1455| 1142|       11|        19|           30|0.36666666666666664|              62.0|        64.73333333333333|0.9577754891864058|                 0.0|21.733333333333334| 0.4037151702786378|53.833333333333336|   21.933333333333334| 6.333333333333333| 0.3350970017636684|              18.9|     5.266666666666667|              12.2|0.6866791744840526|17.766666666666666|                 15.6|10.733333333333333|20.733333333333334|31.466666666666665|10.233333333333333|24.066666666666666|              34.3|1.0488599348534202|0.8614958448753463|0.9173955296404276|11.366666666666667|12.166666666666666|5.533333333333333| 4.533333333333333| 8.966666666666667|10.833333333333334|2.6666666666666665|               3.6|              18.8|15.633333333333333|       01|       16|     1|\n",
            "|  2021| 1211| 1124|       22|         2|           24| 0.9166666666666666|            84.375|        66.41666666666667|1.2703889585947303|0.041666666666666664|31.083333333333332| 0.4930601454064772|63.041666666666664|   23.958333333333332|10.333333333333334|  0.418212478920742|24.708333333333332|     6.458333333333333|            11.875|0.6968215158924206|17.041666666666668|   12.041666666666666|11.333333333333334|            22.375|33.708333333333336| 9.291666666666666|            20.125|29.416666666666668|1.2197309417040358|1.1118012422360248|1.1458923512747876|17.041666666666668|            12.375|8.958333333333334| 6.166666666666667|12.166666666666666|16.833333333333332|              3.75|3.8333333333333335|              5.25| 4.916666666666667|       01|       01|     0|\n",
            "|  2021| 1211| 1417|       17|         9|           26| 0.6538461538461539| 72.84615384615384|                     68.5|1.0634475014037057| 0.23076923076923078|26.384615384615383|0.46195286195286195| 57.11538461538461|   24.615384615384617| 6.653846153846154| 0.3673036093418259|18.115384615384617|    7.6923076923076925|13.423076923076923|0.7210743801652892|18.615384615384617|   11.576923076923077|  8.76923076923077|24.192307692307693| 32.96153846153846| 6.653846153846154| 21.46153846153846|28.115384615384617|1.3179190751445087|1.1272401433691757|1.1723666210670314|13.615384615384615|12.153846153846153|5.076923076923077| 5.076923076923077|10.884615384615385|11.153846153846153|2.6538461538461537| 2.769230769230769| 4.346153846153846|4.3076923076923075|       01|       11|     1|\n",
            "+------+-----+-----+---------+----------+-------------+-------------------+------------------+-------------------------+------------------+--------------------+------------------+-------------------+------------------+---------------------+------------------+-------------------+------------------+----------------------+------------------+------------------+------------------+---------------------+------------------+------------------+------------------+------------------+------------------+------------------+------------------+------------------+------------------+------------------+------------------+-----------------+------------------+------------------+------------------+------------------+------------------+------------------+------------------+---------+---------+------+\n",
            "\n",
            "13\n",
            "+------+-----+-----+---------+----------+-------------+-------------------+------------------+-------------------------+------------------+--------------------+------------------+-------------------+------------------+---------------------+------------------+-------------------+------------------+----------------------+------------------+------------------+------------------+---------------------+------------------+------------------+------------------+------------------+------------------+------------------+------------------+------------------+------------------+------------------+------------------+-----------------+------------------+------------------+------------------+------------------+------------------+------------------+------------------+---------+---------+------+\n",
            "|Season|Team1|Team2|Team1Wins|Team1Loses|Team1NumGames|      Team1WinRatio|Team1PointsPerGame|Team1PointsAllowedPerGame|  Team1PointsRatio|     Team1OTsPerGame|    Team1FGPerGame|       Team1FGRatio|   Team1FGAPerGame|Team1FGAllowedPerGame|   Team1FG3PerGame|      Team1FG3Ratio|  Team1FG3APerGame|Team1FG3AllowedPerGame|    Team1FTPerGame|      Team1FTRatio|   Team1FTAPerGame|Team1FTAllowedPerGame|    Team1ORPerGame|    Team1DRPerGame|    Team1TRPerGame| Team1OppORPerGame| Team1OppDRPerGame| Team1OppTRPerGame|      Team1ORRatio|      Team1DRRatio|      Team1TRRatio|   Team1AstPerGame|Team1OppAstPerGame|  Team1StlPerGame|Team1OppStlPerGame|    Team1TOPerGame| Team1OppTOPerGame|   Team1BlkPerGame|Team1OppBlkPerGame|    Team1PFPerGame| Team1OppPFPerGame|Team1Seed|Team2Seed|Result|\n",
            "+------+-----+-----+---------+----------+-------------+-------------------+------------------+-------------------------+------------------+--------------------+------------------+-------------------+------------------+---------------------+------------------+-------------------+------------------+----------------------+------------------+------------------+------------------+---------------------+------------------+------------------+------------------+------------------+------------------+------------------+------------------+------------------+------------------+------------------+------------------+-----------------+------------------+------------------+------------------+------------------+------------------+------------------+------------------+---------+---------+------+\n",
            "|  2015| 1458| 1246|       31|         3|           34| 0.9117647058823529| 71.88235294117646|        56.11764705882353| 1.280922431865828|0.058823529411764705|25.294117647058822| 0.4796430563301729| 52.73529411764706|   21.823529411764707| 6.970588235294118| 0.3574660633484163|              19.5|                   5.0|14.323529411764707|0.7633228840125392|18.764705882352942|    7.470588235294118| 9.470588235294118|24.205882352941178|  33.6764705882353| 7.529411764705882|20.176470588235293|27.705882352941178|         1.2578125|1.1997084548104957|1.2154989384288748|12.705882352941176| 8.911764705882353|4.529411764705882|3.9705882352941178| 7.411764705882353| 9.970588235294118|               3.5|1.9705882352941178|12.029411764705882|18.058823529411764|       01|       01|     1|\n",
            "|  2015| 1214| 1246|       16|        17|           33|0.48484848484848486| 67.15151515151516|                     68.0|0.9875222816399287|0.030303030303030304|22.818181818181817|0.40768814293448835| 55.96969696969697|   22.545454545454547| 5.666666666666667| 0.3040650406504065|18.636363636363637|     5.696969696969697|15.848484848484848|0.6521197007481296|24.303030303030305|    17.21212121212121|12.242424242424242|24.848484848484848| 37.09090909090909|11.121212121212121| 25.03030303030303| 36.15151515151515|1.1008174386920981|0.9927360774818402|1.0259849119865885|10.606060606060606|10.151515151515152|6.666666666666667| 5.393939393939394|14.212121212121213|13.969696969696969| 4.090909090909091| 3.757575757575758|21.545454545454547|20.424242424242426|       16|       01|     0|\n",
            "|  2021| 1328| 1211|       15|        10|           25|                0.6|             74.76|                    69.24|1.0797227036395147|                0.12|              26.8| 0.4416611733684904|             60.68|                25.48|               8.0|  0.338409475465313|             23.64|                  8.16|             13.16| 0.744343891402715|             17.68|                10.12|              8.72|              24.8|             33.52|              8.64|             24.92|             33.56|1.0092592592592593|0.9951845906902087|  0.99880810488677|              13.4|             11.96|             7.36|               5.6|             10.48|             12.68|              3.44|              3.04|               4.0|              4.44|       08|       01|     0|\n",
            "|  2021| 1124| 1211|       22|         2|           24| 0.9166666666666666|            84.375|        66.41666666666667|1.2703889585947303|0.041666666666666664|31.083333333333332| 0.4930601454064772|63.041666666666664|   23.958333333333332|10.333333333333334|  0.418212478920742|24.708333333333332|     6.458333333333333|            11.875|0.6968215158924206|17.041666666666668|   12.041666666666666|11.333333333333334|            22.375|33.708333333333336| 9.291666666666666|            20.125|29.416666666666668|1.2197309417040358|1.1118012422360248|1.1458923512747876|17.041666666666668|            12.375|8.958333333333334| 6.166666666666667|12.166666666666666|16.833333333333332|              3.75|3.8333333333333335|              5.25| 4.916666666666667|       01|       01|     1|\n",
            "|  2021| 1166| 1211|       20|         8|           28| 0.7142857142857143| 76.96428571428571|        68.28571428571429| 1.127092050209205| 0.07142857142857142|28.464285714285715|0.47582089552238804| 59.82142857142857|   24.785714285714285| 9.714285714285714| 0.3665768194070081|              26.5|     7.642857142857143|10.321428571428571|0.6422222222222222|16.071428571428573|   11.071428571428571| 6.892857142857143|25.714285714285715|32.607142857142854| 8.964285714285714|24.285714285714285|             33.25|0.7689243027888446|1.0588235294117647|0.9806659505907627|15.857142857142858|12.714285714285714|7.071428571428571| 5.714285714285714|10.785714285714286|             12.25|               3.5| 2.892857142857143|              3.75| 3.642857142857143|       05|       01|     0|\n",
            "|  2021| 1425| 1211|       22|         7|           29| 0.7586206896551724| 74.75862068965517|        65.10344827586206|1.1483050847457628| 0.13793103448275862| 27.17241379310345|0.46710136336692354|58.172413793103445|   23.551724137931036| 6.310344827586207|0.34790874524714827|18.137931034482758|     7.206896551724138| 14.10344827586207|0.6471518987341772| 21.79310344827586|   10.793103448275861|10.482758620689655| 25.82758620689655|36.310344827586206| 8.448275862068966| 21.06896551724138|29.517241379310345|1.2408163265306122| 1.225859247135843| 1.230140186915888|13.655172413793103|12.448275862068966|4.793103448275862| 5.448275862068965| 12.10344827586207|              11.0| 5.241379310344827|2.8275862068965516| 4.482758620689655| 5.413793103448276|       06|       01|     0|\n",
            "|  2014| 1142| 1455|       11|        19|           30|0.36666666666666664|              62.0|        64.73333333333333|0.9577754891864058|                 0.0|21.733333333333334| 0.4037151702786378|53.833333333333336|   21.933333333333334| 6.333333333333333| 0.3350970017636684|              18.9|     5.266666666666667|              12.2|0.6866791744840526|17.766666666666666|                 15.6|10.733333333333333|20.733333333333334|31.466666666666665|10.233333333333333|24.066666666666666|              34.3|1.0488599348534202|0.8614958448753463|0.9173955296404276|11.366666666666667|12.166666666666666|5.533333333333333| 4.533333333333333| 8.966666666666667|10.833333333333334|2.6666666666666665|               3.6|              18.8|15.633333333333333|       16|       01|     0|\n",
            "|  2015| 1452| 1246|       23|         9|           32|            0.71875|           73.9375|                 66.84375|1.1061243571762507|              0.0625|          25.40625|0.41164556962025317|          61.71875|             21.78125|           6.65625| 0.3183856502242152|          20.90625|               5.40625|          16.46875|0.6604010025062657|           24.9375|               17.875|          16.84375|           19.9375|          36.78125|           8.90625|           24.3125|          33.21875|1.8912280701754387|0.8200514138817481|1.1072436500470366|          14.53125|           11.6875|          10.9375|           5.78125|           13.0625|            19.625|           2.84375|           4.03125|          23.34375|          22.46875|       05|       01|     0|\n",
            "|  2021| 1313| 1211|       14|         7|           21| 0.6666666666666666| 75.14285714285714|        70.57142857142857|1.0647773279352226|0.047619047619047616|25.476190476190474|0.42971887550200805|59.285714285714285|   22.904761904761905|7.9523809523809526|0.37360178970917224|21.285714285714285|      8.19047619047619|16.238095238095237|0.7089397089397089|22.904761904761905|   16.571428571428573| 8.238095238095237|24.761904761904763|              33.0| 8.761904761904763|24.285714285714285| 33.04761904761905|0.9402173913043478|1.0196078431372548|0.9985590778097982|12.238095238095237|12.523809523809524|6.380952380952381| 5.380952380952381|12.619047619047619|14.666666666666666|3.1904761904761907| 3.761904761904762| 7.380952380952381| 7.619047619047619|       16|       01|     0|\n",
            "|  2021| 1417| 1211|       17|         9|           26| 0.6538461538461539| 72.84615384615384|                     68.5|1.0634475014037057| 0.23076923076923078|26.384615384615383|0.46195286195286195| 57.11538461538461|   24.615384615384617| 6.653846153846154| 0.3673036093418259|18.115384615384617|    7.6923076923076925|13.423076923076923|0.7210743801652892|18.615384615384617|   11.576923076923077|  8.76923076923077|24.192307692307693| 32.96153846153846| 6.653846153846154| 21.46153846153846|28.115384615384617|1.3179190751445087|1.1272401433691757|1.1723666210670314|13.615384615384615|12.153846153846153|5.076923076923077| 5.076923076923077|10.884615384615385|11.153846153846153|2.6538461538461537| 2.769230769230769| 4.346153846153846|4.3076923076923075|       11|       01|     0|\n",
            "|  2015| 1153| 1246|       22|        10|           32|             0.6875|            62.375|                 55.28125|1.1283210853589598|             0.09375|            22.375|0.45287792536369387|          49.40625|              20.4375|           5.03125| 0.3333333333333333|          15.09375|                  5.75|          12.59375|0.6739130434782609|           18.6875|              8.65625|          10.96875|             23.25|          34.21875|          10.84375|          18.40625|             29.25|1.0115273775216138| 1.263157894736842| 1.169871794871795|            11.875|          11.09375|           6.5625|           5.53125|          12.78125|           12.1875|            5.4375|              2.75|          14.65625|           17.1875|       08|       01|     0|\n",
            "|  2015| 1323| 1246|       29|         5|           34| 0.8529411764705882| 78.82352941176471|         65.6470588235294| 1.200716845878136| 0.11764705882352941|27.794117647058822| 0.5099838100377766|              54.5|    24.91176470588235| 8.264705882352942| 0.3924581005586592|21.058823529411764|     6.264705882352941|14.970588235294118|0.7398255813953488|20.235294117647058|    9.558823529411764| 8.323529411764707|24.441176470588236| 32.76470588235294|11.294117647058824|21.323529411764707| 32.61764705882353|0.7369791666666666| 1.146206896551724|1.0045085662759243|15.117647058823529|12.735294117647058|6.882352941176471| 5.176470588235294| 9.382352941176471|11.294117647058824|3.5588235294117645| 2.235294117647059|14.205882352941176|16.970588235294116|       03|       01|     0|\n",
            "|  2014| 1246| 1455|       24|        10|           34| 0.7058823529411765| 75.91176470588235|         66.6470588235294|1.1390114739629302| 0.08823529411764706|25.176470588235293|0.45123879810226675|55.794117647058826|   23.205882352941178| 5.088235294117647|  0.325187969924812|15.647058823529411|     5.352941176470588|20.470588235294116|0.6823529411764706|              30.0|   14.882352941176471|14.647058823529411|              26.5| 41.14705882352941|11.323529411764707|20.029411764705884|31.352941176470587|1.2935064935064935|1.3230543318649046|1.3123827392120075|              11.5|10.382352941176471|4.764705882352941| 5.764705882352941|12.205882352941176|              11.0| 6.235294117647059|3.1176470588235294|              19.0| 22.58823529411765|       08|       01|     1|\n",
            "+------+-----+-----+---------+----------+-------------+-------------------+------------------+-------------------------+------------------+--------------------+------------------+-------------------+------------------+---------------------+------------------+-------------------+------------------+----------------------+------------------+------------------+------------------+---------------------+------------------+------------------+------------------+------------------+------------------+------------------+------------------+------------------+------------------+------------------+------------------+-----------------+------------------+------------------+------------------+------------------+------------------+------------------+------------------+---------+---------+------+\n",
            "\n",
            "13\n"
          ]
        }
      ]
    },
    {
      "cell_type": "code",
      "source": [
        "# Team 2\n",
        "#outscores = RegularSeasonInput.withColumnRenamed\n",
        "#combine tourney and season"
      ],
      "metadata": {
        "id": "pDfVeSbLyvjR"
      },
      "execution_count": 27,
      "outputs": []
    },
    {
      "cell_type": "markdown",
      "source": [
        "# Model Building"
      ],
      "metadata": {
        "id": "GOjUd98MyMlQ"
      }
    },
    {
      "cell_type": "code",
      "source": [
        "outscores = outscores.withColumn('Wins',outscores.Team1Wins - outscores.Team2Wins)\n",
        "#outscores = outscores.withColumn('Loses','Team2Loses')\n",
        "outscores = outscores.withColumn('Loses',outscores.Team1Loses - outscores.Team2Loses)\n",
        "\n",
        "#outscores = outscores.withColumn('NumGames','Team2NumGames')\n",
        "outscores = outscores.withColumn('NumGames',outscores.Team1NumGames - outscores.Team2NumGames)\n",
        "\n",
        "#outscores = outscores.withColumn('WinRatio','Team2WinRatio')\n",
        "outscores = outscores.withColumn('WinRatio',outscores.Team1WinRatio - outscores.Team2WinRatio)\n",
        "\n",
        "#outscores = outscores.withColumn('PointsPerGame','Team2PointsPerGame')\n",
        "outscores = outscores.withColumn('PointsPerGame',outscores.Team1PointsPerGame - outscores.Team2PointsPerGame)\n",
        "\n",
        "#outscores = outscores.withColumn('PointsAllowedPerGame','Team2PointsAllowedPerGame')\n",
        "outscores = outscores.withColumn('PointsAllowedPerGame',outscores.Team1PointsAllowedPerGame - outscores.Team2PointsAllowedPerGame)\n",
        "\n",
        "#outscores = outscores.withColumn('PointsRatio','Team2PointsRatio')\n",
        "outscores = outscores.withColumn('PointsRatio',outscores.Team1PointsRatio - outscores.Team2PointsRatio)\n",
        "\n",
        "#outscores = outscores.withColumn('OTsPerGame','Team2OTsPerGame')\n",
        "outscores = outscores.withColumn('OTsPerGame',outscores.Team1OTsPerGame - outscores.Team2OTsPerGame)\n",
        "\n",
        "#outscores = outscores.withColumn('FGPerGame','Team2FGPerGame')\n",
        "outscores = outscores.withColumn('FGPerGame',outscores.Team1FGPerGame - outscores.Team2FGPerGame)\n",
        "\n",
        "#outscores = outscores.withColumn('FGRatio','Team2FGRatio')\n",
        "outscores = outscores.withColumn('FGRatio',outscores.Team1FGRatio - outscores.Team2FGRatio)\n",
        "\n",
        "#outscores = outscores.withColumn('FGAPerGame','Team2FGAPerGame')\n",
        "outscores = outscores.withColumn('FGAPerGame',outscores.Team1FGAPerGame - outscores.Team2FGAPerGame)\n",
        "\n",
        "#outscores = outscores.withColumnRenamed('FGAllowedPerGame','Team2FGAllowedPerGame')\n",
        "outscores = outscores.withColumn('FGAllowedPerGame',outscores.Team1FGAllowedPerGame - outscores.Team2FGAllowedPerGame)\n",
        "\n",
        "#outscores = outscores.withColumnRenamed('FG3PerGame','Team2FG3PerGame')\n",
        "outscores = outscores.withColumn('FG3PerGame',outscores.Team1FG3PerGame - outscores.Team2FG3PerGame)\n",
        "\n",
        "#outscores = outscores.withColumnRenamed('FG3Ratio','Team2FG3Ratio')\n",
        "outscores = outscores.withColumn('FG3Ratio',outscores.Team1FG3Ratio - outscores.Team2FG3Ratio)\n",
        "\n",
        "#outscores = outscores.withColumnRenamed('FG3APerGame','Team2FG3APerGame')\n",
        "outscores = outscores.withColumn('FG3APerGame',outscores.Team1FG3APerGame - outscores.Team2FG3APerGame)\n",
        "\n",
        "#outscores = outscores.withColumnRenamed('FG3AllowedPerGame','Team2FG3AllowedPerGame')\n",
        "outscores = outscores.withColumn('FG3AllowedPerGame',outscores.Team1FG3AllowedPerGame - outscores.Team2FG3AllowedPerGame)\n",
        "\n",
        "#outscores = outscores.withColumnRenamed('FTPerGame','Team2FTPerGame')\n",
        "outscores = outscores.withColumn('FTPerGame',outscores.Team1FTPerGame - outscores.Team2FTPerGame)\n",
        "\n",
        "#outscores = outscores.withColumnRenamed('FTRatio','Team2FTRatio')\n",
        "outscores = outscores.withColumn('FTRatio',outscores.Team1FTRatio - outscores.Team2FTRatio)\n",
        "\n",
        "#outscores = outscores.withColumnRenamed('FTAPerGame','Team2FTAPerGame')\n",
        "outscores = outscores.withColumn('FTAPerGame',outscores.Team1FTAPerGame - outscores.Team2FTAPerGame)\n",
        "\n",
        "#outscores = outscores.withColumnRenamed('FTllowedPerGame','Team2FTllowedPerGame')\n",
        "outscores = outscores.withColumn('FTAllowedPerGame',outscores.Team1FTAllowedPerGame - outscores.Team2FTAllowedPerGame)\n",
        "\n",
        "#outscores = outscores.withColumnRenamed('ORPerGame','Team2ORPerGame')\n",
        "outscores = outscores.withColumn('ORPerGame',outscores.Team1ORPerGame - outscores.Team2ORPerGame)\n",
        "\n",
        "#outscores = outscores.withColumnRenamed('DRPerGame','Team2DRPerGame')\n",
        "outscores = outscores.withColumn('DRPerGame',outscores.Team1DRPerGame - outscores.Team2DRPerGame)\n",
        "\n",
        "#outscores = outscores.withColumnRenamed('TRPerGame','Team2TRPerGame')\n",
        "outscores = outscores.withColumn('TRPerGame',outscores.Team1TRPerGame - outscores.Team2TRPerGame)\n",
        "\n",
        "#outscores = outscores.withColumn('OppORPerGame','Team2OppORPerGame')\n",
        "outscores = outscores.withColumn('OppORPerGame',outscores.Team1OppORPerGame - outscores.Team2OppORPerGame)\n",
        "\n",
        "#outscores = outscores.withColumn('OppDRPerGame','Team2OppDRPerGame')\n",
        "outscores = outscores.withColumn('OppDRPerGame',outscores.Team1OppDRPerGame - outscores.Team2OppDRPerGame)\n",
        "\n",
        "#outscores = outscores.withColumn('OppTRPerGame','Team2OppTRPerGame')\n",
        "outscores = outscores.withColumn('OppTRPerGame',outscores.Team1OppTRPerGame - outscores.Team2OppTRPerGame)\n",
        "\n",
        "#outscores = outscores.withColumn('ORRatio','Team2ORRatio')\n",
        "outscores = outscores.withColumn('ORRatio',outscores.Team1ORRatio - outscores.Team2ORRatio)\n",
        "\n",
        "#outscores = outscores.withColumn('DRRatio','Team2DRRatio')\n",
        "outscores = outscores.withColumn('DRRatio',outscores.Team1DRRatio - outscores.Team2DRRatio)\n",
        "\n",
        "#outscores = outscores.withColumn('TRRatio','Team2TRRatio')\n",
        "outscores = outscores.withColumn('TRRatio',outscores.Team1TRRatio - outscores.Team2TRRatio)\n",
        "\n",
        "#outscores = outscores.withColumn('AstPerGame','Team2AstPerGame')\n",
        "outscores = outscores.withColumn('AstPerGame',outscores.Team1AstPerGame - outscores.Team2AstPerGame)\n",
        "\n",
        "#outscores = outscores.withColumn('OppAstPerGame','Team2OppAstPerGame')\n",
        "outscores = outscores.withColumn('OppAstPerGame',outscores.Team1OppAstPerGame - outscores.Team2OppAstPerGame)\n",
        "\n",
        "#outscores = outscores.withColumn('StlPerGame','Team2StlPerGame')\n",
        "outscores = outscores.withColumn('StlPerGame',outscores.Team1StlPerGame - outscores.Team2StlPerGame)\n",
        "\n",
        "#outscores = outscores.withColumn('OppStlPerGame','Team2OppStlPerGame')\n",
        "outscores = outscores.withColumn('OppStlPerGame',outscores.Team1OppStlPerGame - outscores.Team2OppStlPerGame)\n",
        "\n",
        "#outscores = outscores.withColumn('TOPerGame','Team2TOPerGame')\n",
        "outscores = outscores.withColumn('TOPerGame',outscores.Team1TOPerGame - outscores.Team2TOPerGame)\n",
        "\n",
        "#outscores = outscores.withColumn('OppTOPerGame','Team2OppTOPerGame')\n",
        "outscores = outscores.withColumn('OppTOPerGame',outscores.Team1OppTOPerGame - outscores.Team2OppTOPerGame)\n",
        "\n",
        "#outscores = outscores.withColumn('BlkPerGame','Team2BlkPerGame')\n",
        "outscores = outscores.withColumn('BlkPerGame',outscores.Team1BlkPerGame - outscores.Team2BlkPerGame)\n",
        "\n",
        "#outscores = outscores.withColumn('OppBlkPerGame','Team2OppBlkPerGame')\n",
        "outscores = outscores.withColumn('OppBlkPerGame',outscores.Team1OppBlkPerGame - outscores.Team2OppBlkPerGame)\n",
        "\n",
        "#outscores = outscores.withColumn('PFPerGame','Team2PFPerGame')\n",
        "outscores = outscores.withColumn('PFPerGame',outscores.Team1PFPerGame - outscores.Team2PFPerGame)\n",
        "\n",
        "#outscores = outscores.withColumn('OppPFPerGame','Team2OppPFPerGame')\n",
        "outscores = outscores.withColumn('OppPFPerGame',outscores.Team1OppPFPerGame - outscores.Team2OppPFPerGame)\n",
        "\n",
        "outscores = outscores.withColumn('Seed',outscores.Team1Seed - outscores.Team2Seed)\n",
        "\n",
        "outscores.show()"
      ],
      "metadata": {
        "colab": {
          "base_uri": "https://localhost:8080/"
        },
        "id": "ZH-nFf2Q2r_T",
        "outputId": "cf18066f-e89a-47c6-8ae8-ee1cc3ac3e6c"
      },
      "execution_count": 90,
      "outputs": [
        {
          "output_type": "stream",
          "name": "stdout",
          "text": [
            "+------+-----+-----+------+---------+---------+---------+----------+-------------+------------------+------------------+-------------------------+------------------+--------------------+------------------+-------------------+------------------+---------------------+------------------+-------------------+------------------+----------------------+------------------+------------------+------------------+---------------------+------------------+------------------+------------------+------------------+------------------+------------------+------------------+------------------+------------------+------------------+------------------+------------------+------------------+------------------+------------------+------------------+------------------+------------------+------------------+---------+----------+-------------+------------------+------------------+-------------------------+------------------+--------------------+------------------+-------------------+------------------+---------------------+------------------+-------------------+------------------+----------------------+------------------+------------------+------------------+---------------------+------------------+------------------+------------------+------------------+------------------+------------------+------------------+------------------+------------------+------------------+------------------+-----------------+------------------+------------------+------------------+------------------+------------------+------------------+------------------+----+-----+--------+--------------------+-------------------+--------------------+--------------------+--------------------+-------------------+--------------------+-------------------+--------------------+-------------------+--------------------+--------------------+--------------------+--------------------+--------------------+-------------------+--------------------+-------------------+--------------------+--------------------+-------------------+-------------------+--------------------+--------------------+--------------------+--------------------+-------------------+--------------------+--------------------+--------------------+--------------------+--------------------+--------------------+--------------------+-------------------+--------------------+-----+\n",
            "|Season|Team1|Team2|Result|Team1Seed|Team2Seed|Team2Wins|Team2Loses|Team2NumGames|     Team2WinRatio|Team2PointsPerGame|Team2PointsAllowedPerGame|  Team2PointsRatio|     Team2OTsPerGame|    Team2FGPerGame|       Team2FGRatio|   Team2FGAPerGame|Team2FGAllowedPerGame|   Team2FG3PerGame|      Team2FG3Ratio|  Team2FG3APerGame|Team2FG3AllowedPerGame|    Team2FTPerGame|      Team2FTRatio|   Team2FTAPerGame|Team2FTAllowedPerGame|    Team2ORPerGame|    Team2DRPerGame|    Team2TRPerGame| Team2OppORPerGame| Team2OppDRPerGame| Team2OppTRPerGame|      Team2ORRatio|      Team2DRRatio|      Team2TRRatio|   Team2AstPerGame|Team2OppAstPerGame|   Team2StlPerGame|Team2OppStlPerGame|    Team2TOPerGame| Team2OppTOPerGame|   Team2BlkPerGame|Team2OppBlkPerGame|    Team2PFPerGame| Team2OppPFPerGame|Team1Wins|Team1Loses|Team1NumGames|     Team1WinRatio|Team1PointsPerGame|Team1PointsAllowedPerGame|  Team1PointsRatio|     Team1OTsPerGame|    Team1FGPerGame|       Team1FGRatio|   Team1FGAPerGame|Team1FGAllowedPerGame|   Team1FG3PerGame|      Team1FG3Ratio|  Team1FG3APerGame|Team1FG3AllowedPerGame|    Team1FTPerGame|      Team1FTRatio|   Team1FTAPerGame|Team1FTAllowedPerGame|    Team1ORPerGame|    Team1DRPerGame|    Team1TRPerGame| Team1OppORPerGame| Team1OppDRPerGame| Team1OppTRPerGame|      Team1ORRatio|      Team1DRRatio|      Team1TRRatio|   Team1AstPerGame|Team1OppAstPerGame|  Team1StlPerGame|Team1OppStlPerGame|    Team1TOPerGame| Team1OppTOPerGame|   Team1BlkPerGame|Team1OppBlkPerGame|    Team1PFPerGame| Team1OppPFPerGame|Wins|Loses|NumGames|            WinRatio|      PointsPerGame|PointsAllowedPerGame|         PointsRatio|          OTsPerGame|          FGPerGame|             FGRatio|         FGAPerGame|    FGAllowedPerGame|         FG3PerGame|            FG3Ratio|         FG3APerGame|   FG3AllowedPerGame|           FTPerGame|             FTRatio|         FTAPerGame|    FTAllowedPerGame|          ORPerGame|           DRPerGame|           TRPerGame|       OppORPerGame|       OppDRPerGame|        OppTRPerGame|             ORRatio|             DRRatio|             TRRatio|         AstPerGame|       OppAstPerGame|          StlPerGame|       OppStlPerGame|           TOPerGame|        OppTOPerGame|          BlkPerGame|       OppBlkPerGame|          PFPerGame|        OppPFPerGame| Seed|\n",
            "+------+-----+-----+------+---------+---------+---------+----------+-------------+------------------+------------------+-------------------------+------------------+--------------------+------------------+-------------------+------------------+---------------------+------------------+-------------------+------------------+----------------------+------------------+------------------+------------------+---------------------+------------------+------------------+------------------+------------------+------------------+------------------+------------------+------------------+------------------+------------------+------------------+------------------+------------------+------------------+------------------+------------------+------------------+------------------+------------------+---------+----------+-------------+------------------+------------------+-------------------------+------------------+--------------------+------------------+-------------------+------------------+---------------------+------------------+-------------------+------------------+----------------------+------------------+------------------+------------------+---------------------+------------------+------------------+------------------+------------------+------------------+------------------+------------------+------------------+------------------+------------------+------------------+-----------------+------------------+------------------+------------------+------------------+------------------+------------------+------------------+----+-----+--------+--------------------+-------------------+--------------------+--------------------+--------------------+-------------------+--------------------+-------------------+--------------------+-------------------+--------------------+--------------------+--------------------+--------------------+--------------------+-------------------+--------------------+-------------------+--------------------+--------------------+-------------------+-------------------+--------------------+--------------------+--------------------+--------------------+-------------------+--------------------+--------------------+--------------------+--------------------+--------------------+--------------------+--------------------+-------------------+--------------------+-----+\n",
            "|  2005| 1242| 1137|     0|       03|       14|       22|         9|           31|0.7096774193548387| 63.58064516129032|        58.45161290322581|1.0877483443708609| 0.03225806451612903|21.258064516129032| 0.4452702702702703| 47.74193548387097|   19.580645161290324| 6.612903225806452| 0.3761467889908257|17.580645161290324|                   6.0|14.451612903225806|0.6978193146417445| 20.70967741935484|   13.290322580645162|  9.35483870967742|22.419354838709676|31.774193548387096| 10.96774193548387|20.225806451612904|31.193548387096776|0.8529411764705882|1.1084529505582137|1.0186142709410548|12.451612903225806|10.451612903225806|               8.0| 7.032258064516129|15.774193548387096|15.870967741935484|               3.0|2.5161290322580645|18.870967741935484|18.838709677419356|       23|         6|           29|0.7931034482758621| 75.44827586206897|        65.24137931034483|1.1564482029598309| 0.13793103448275862| 26.93103448275862|0.47680097680097683| 56.48275862068966|   22.103448275862068| 6.793103448275862| 0.3731060606060606| 18.20689655172414|     6.275862068965517|14.793103448275861|0.6897106109324759|21.448275862068964|   14.758620689655173|11.793103448275861| 25.96551724137931|37.758620689655174|              13.0|21.379310344827587| 34.37931034482759|0.9071618037135278|1.2145161290322581| 1.098294884653962|16.586206896551722|10.655172413793103|6.620689655172414| 7.103448275862069|14.482758620689655| 14.10344827586207|3.8620689655172415|2.8275862068965516| 19.24137931034483|19.689655172413794|   1|   -3|      -2| 0.08342602892102335| 11.867630700778648|   6.789766407119018| 0.06869985858896999| 0.10567296996662959|  5.672969966629587|0.031530706530706554|   8.74082313681869|  2.5228031145717438|0.18020022246941014|-0.00304072838476...|   0.626251390433815|  0.2758620689655169| 0.34149054505005516|-0.00810870370926...| 0.7385984427141246|  1.4682981090100107| 2.4382647385984413|  3.5461624026696335|   5.984427141268078|   2.03225806451613| 1.1535038932146833|  3.1857619577308114|0.054220627242939634| 0.10606317847404445| 0.07968061371290713|  4.134593993325916| 0.20355951056729715| -1.3793103448275863| 0.07119021134594039| -1.2914349276974413| -1.7675194660734146|  0.8620689655172415|  0.3114571746384871| 0.3704115684093452|  0.8509454949944377|-11.0|\n",
            "|  2008| 1280| 1272|     0|       08|       01|       33|         1|           34|0.9705882352941176| 79.67647058823529|        60.61764705882353| 1.314410480349345|0.029411764705882353|28.764705882352942| 0.4657142857142857| 61.76470588235294|   21.647058823529413|7.9411764705882355|0.35019455252918286|22.676470588235293|     4.852941176470588|14.205882352941176|0.5955610357583231|23.852941176470587|   12.470588235294118|14.117647058823529|26.676470588235293|40.794117647058826|11.029411764705882|23.235294117647058| 34.26470588235294|              1.28|1.1481012658227847| 1.190557939914163|16.029411764705884|10.617647058823529| 8.705882352941176| 5.911764705882353|12.205882352941176| 16.58823529411765| 6.088235294117647|3.2058823529411766|17.441176470588236| 19.41176470588235|       22|        10|           32|            0.6875|          73.09375|                  65.0625|1.1234390009606148|               0.125|          26.09375|0.46107123136388733|          56.59375|               23.125|           6.96875| 0.3343328335832084|          20.84375|               6.96875|           13.9375|0.6435786435786436|          21.65625|             11.84375|          12.21875|          28.65625|            40.875|            13.875|              22.5|            36.375|0.8806306306306306| 1.273611111111111|1.1237113402061856|          13.21875|          11.46875|              6.0|              6.75|          15.28125|          12.71875|            7.9375|            3.1875|           16.5625|          19.03125| -11|    9|      -2|-0.28308823529411764|  -6.58272058823529|   4.444852941176471|-0.19097147938873027| 0.09558823529411764| -2.670955882352942|-0.00464305435039...| -5.170955882352942|   1.477941176470587|-0.9724264705882355|-0.01586171894597...| -1.8327205882352935|   2.115808823529412|-0.26838235294117574|0.048017607820320496| -2.196691176470587| -0.6268382352941178| -1.898897058823529|  1.9797794117647065| 0.08088235294117396| 2.8455882352941178| -0.735294117647058|   2.110294117647058| -0.3993693693693694| 0.12550984528832632|-0.06684659970797746| -2.810661764705884|   0.851102941176471| -2.7058823529411757|  0.8382352941176467|  3.0753676470588243| -3.8694852941176485|  1.8492647058823533|-0.01838235294117...|-0.8786764705882355| -0.3805147058823515|  7.0|\n",
            "|  2009| 1320| 1345|     0|       12|       05|       25|         9|           34|0.7352941176470589|  69.3529411764706|        59.11764705882353| 1.173134328358209| 0.08823529411764706|24.823529411764707|0.44656084656084655|55.588235294117645|   21.147058823529413| 6.705882352941177| 0.3507692307692308| 19.11764705882353|    5.5588235294117645|              13.0|0.7004754358161648|18.558823529411764|   11.264705882352942| 9.676470588235293|24.558823529411764| 34.23529411764706|11.264705882352942|23.264705882352942|34.529411764705884|0.8590078328981723|1.0556257901390644|0.9914821124361158|15.117647058823529|12.264705882352942| 7.235294117647059| 5.294117647058823|11.647058823529411|15.117647058823529| 4.823529411764706|2.8823529411764706|17.352941176470587|17.352941176470587|       23|        10|           33| 0.696969696969697|  67.6969696969697|        63.54545454545455|1.0653314258464472| 0.18181818181818182|22.606060606060606| 0.4554334554334554| 49.63636363636363|   22.303030303030305| 6.363636363636363| 0.3465346534653465|18.363636363636363|     7.181818181818182| 16.12121212121212|0.7524752475247525|21.424242424242426|   11.757575757575758| 8.666666666666666|24.848484848484848|33.515151515151516| 8.909090909090908|21.515151515151516|30.424242424242426|0.9727891156462585|1.1549295774647887|1.1015936254980079|12.212121212121213|12.090909090909092|4.242424242424242| 4.878787878787879|11.606060606060606|10.666666666666666|2.4242424242424243|2.1818181818181817| 18.12121212121212|19.666666666666668|  -2|    1|      -1|-0.03832442067736186|-1.6559714795008915|   4.427807486631018|-0.10780290251176172| 0.09358288770053476| -2.217468805704101|0.008872608872608878| -5.951871657754012|  1.1559714795008915|-0.3422459893048133|-0.00423457730388...| -0.7540106951871657|  1.6229946524064172|   3.121212121212121|0.051999811708587695|  2.865418894830661|  0.4928698752228158|-1.0098039215686274| 0.28966131907308323| -0.7201426024955424|-2.3556149732620337|-1.7495543672014264|  -4.105169340463458| 0.11378128274808619| 0.09930378732572431| 0.11011151306189204| -2.905525846702316| -0.1737967914438503| -2.9928698752228167| -0.4153297682709445|-0.04099821746880572|  -4.450980392156863| -2.3992869875222813| -0.7005347593582889| 0.7682709447415341|   2.313725490196081|  7.0|\n",
            "|  2014| 1276| 1246|     0|       02|       08|       24|        10|           34|0.7058823529411765| 75.91176470588235|         66.6470588235294|1.1390114739629302| 0.08823529411764706|25.176470588235293|0.45123879810226675|55.794117647058826|   23.205882352941178| 5.088235294117647|  0.325187969924812|15.647058823529411|     5.352941176470588|20.470588235294116|0.6823529411764706|              30.0|   14.882352941176471|14.647058823529411|              26.5| 41.14705882352941|11.323529411764707|20.029411764705884|31.352941176470587|1.2935064935064935|1.3230543318649046|1.3123827392120075|              11.5|10.382352941176471| 4.764705882352941| 5.764705882352941|12.205882352941176|              11.0| 6.235294117647059|3.1176470588235294|              19.0| 22.58823529411765|       25|         8|           33|0.7575757575757576| 74.39393939393939|        65.36363636363636|1.1381548446917014| 0.06060606060606061|25.606060606060606| 0.4757882882882883| 53.81818181818182|   24.333333333333332| 8.484848484848484|0.39381153305203936|21.545454545454547|     5.636363636363637|14.696969696969697|0.7613814756671899|19.303030303030305|    11.06060606060606| 8.848484848484848|22.939393939393938| 31.78787878787879| 9.303030303030303|21.727272727272727| 31.03030303030303|0.9511400651465798|1.0557880055788005|      1.0244140625|14.212121212121213| 11.93939393939394|5.121212121212121|  5.03030303030303| 9.393939393939394|10.969696969696969| 2.515151515151515| 2.515151515151515|14.545454545454545|17.242424242424242|   1|   -2|      -1| 0.05169340463458105| -1.517825311942957| -1.2834224598930462|-8.56629271228870...|-0.02762923351158...|0.42959001782531203| 0.02454949018602154| -1.975935828877006|  1.1274509803921546| 3.3966131907308377| 0.06862356312722734|  5.8983957219251355|  0.2834224598930488|  -5.773618538324419| 0.07902853449071934|-10.696969696969695| -3.8217468805704105|-5.7985739750445635| -3.5606060606060623|  -9.359180035650624|-2.0204991087344037| 1.6978609625668426| -0.3226381461675558| -0.3423664283599137|-0.26726632628610414|-0.28796867671200754|  2.712121212121213|  1.5570409982174684|    0.35650623885918| -0.7344028520499108| -2.8119429590017813|-0.03030303030303...| -3.7201426024955437| -0.6024955436720143| -4.454545454545455|  -5.345811051693406| -6.0|\n",
            "|  2019| 1387| 1439|     0|       13|       04|       24|         8|           32|              0.75|              74.0|                 62.09375|1.1917463512833417|             0.03125|             25.75|0.47547605308713214|          54.15625|              21.5625|           9.59375| 0.3940949935815148|          24.34375|               8.84375|          12.90625|0.7577981651376147|          17.03125|               10.125|           8.90625|           23.6875|          32.59375|            8.9375|              21.0|           29.9375|0.9965034965034965|1.1279761904761905|1.0887265135699373|          15.34375|          12.15625|           6.65625|            5.0625|            11.375|          14.09375|            2.3125|           2.90625|          15.28125|           16.3125|       23|        12|           35|0.6571428571428571| 67.05714285714286|        63.74285714285714| 1.051994621246078|                 0.0|23.885714285714286|              0.418|57.142857142857146|   22.228571428571428| 5.742857142857143|0.30828220858895705| 18.62857142857143|     6.457142857142857|13.542857142857143|0.5977301387137453| 22.65714285714286|    12.82857142857143| 13.82857142857143|25.942857142857143| 39.77142857142857|               8.8|24.457142857142856| 33.25714285714286|1.5714285714285714| 1.060747663551402|1.1958762886597938|12.971428571428572|              12.2|7.085714285714285| 5.914285714285715|12.714285714285714|12.971428571428572| 4.057142857142857| 3.914285714285714|17.485714285714284|18.857142857142858|  -1|    4|       3|-0.09285714285714286| -6.942857142857136|  1.6491071428571402| -0.1397517300372637|            -0.03125|-1.8642857142857139|-0.05747605308713216|  2.986607142857146|  0.6660714285714278| -3.850892857142857|-0.08581278499255773|   -5.71517857142857| -2.3866071428571427|  0.6366071428571427|-0.16006802642386941|  5.625892857142858|   2.703571428571429|  4.922321428571429|   2.255357142857143|   7.177678571428572|-0.1374999999999993| 3.4571428571428555|    3.31964285714286|  0.5749250749250749|-0.06722852692478853| 0.10714977508985646|-2.3723214285714285| 0.04374999999999929|  0.4294642857142854|  0.8517857142857146|  1.3392857142857135| -1.1223214285714285|   1.744642857142857|  1.0080357142857141|  2.204464285714284|  2.5446428571428577|  9.0|\n",
            "|  2003| 1181| 1161|     1|       03|       14|       17|        13|           30|0.5666666666666667|              74.0|        72.66666666666667| 1.018348623853211| 0.03333333333333333|              26.4| 0.5067178502879078|              52.1|   25.833333333333332|               4.2| 0.3631123919308357|11.566666666666666|     5.633333333333334|              17.0|0.7005494505494505|24.266666666666666|   15.366666666666667|              10.8|23.466666666666665|34.266666666666666|              12.0|19.066666666666666|31.066666666666666|               0.9|1.2307692307692308|1.1030042918454936|              15.5|13.233333333333333| 5.333333333333333| 9.033333333333333|16.133333333333333|12.233333333333333| 4.233333333333333| 3.066666666666667|20.566666666666666|              21.3|       24|         6|           30|               0.8| 81.96666666666667|                     70.4|1.1642992424242424| 0.06666666666666667|27.366666666666667| 0.4535911602209945|60.333333333333336|   25.066666666666666| 7.333333333333333| 0.3559870550161812|              20.6|     4.933333333333334|              19.9|0.7090261282660333|28.066666666666666|   15.333333333333334|13.766666666666667|              23.1| 36.86666666666667|              12.2|22.633333333333333|34.833333333333336|1.1284153005464481|1.0206185567010309|1.0583732057416269|13.833333333333334|12.333333333333334|              8.5| 6.433333333333334|14.033333333333333|17.833333333333332| 5.133333333333334|               4.1|21.266666666666666|              23.2|   7|   -7|       0|  0.2333333333333334|  7.966666666666669| -2.2666666666666657| 0.14595061857103153| 0.03333333333333333| 0.9666666666666686|-0.05312669006691334|  8.233333333333334| -0.7666666666666657|  3.133333333333333|-0.00712533691465...|   9.033333333333335| -0.7000000000000002|  2.8999999999999986|0.008476677716582781| 3.8000000000000007|-0.03333333333333...|  2.966666666666667| -0.3666666666666636|  2.6000000000000014| 0.1999999999999993| 3.5666666666666664|  3.7666666666666693|  0.2284153005464481|-0.21015067406819998|-0.04463108610386679| -1.666666666666666| -0.8999999999999986|   3.166666666666667| -2.5999999999999996| -2.0999999999999996|                 5.6|  0.9000000000000004|  1.0333333333333328| 0.6999999999999993|  1.8999999999999986|-11.0|\n",
            "|  2003| 1443| 1228|     0|       13|       04|       24|         6|           30|               0.8| 75.43333333333334|                     61.4| 1.228555917480999|                 0.0|              27.1|0.48566308243727596|              55.8|   20.333333333333332| 7.433333333333334| 0.3685950413223141|20.166666666666668|                   5.7|              13.8|0.7225130890052356|              19.1|   15.033333333333333| 9.733333333333333|              25.4| 35.13333333333333|11.133333333333333|              21.2|32.333333333333336| 0.874251497005988|1.1981132075471699|1.0865979381443298|18.266666666666666|11.033333333333333|               7.0|               5.7|13.166666666666666|14.833333333333334|               3.1|               2.5|19.133333333333333|              18.2|       23|         8|           31|0.7419354838709677| 73.09677419354838|        66.41935483870968|1.1005342399222924| 0.03225806451612903| 25.70967741935484| 0.4598961338718984|55.903225806451616|    24.29032258064516| 7.709677419354839| 0.3665644171779141|21.032258064516128|     4.612903225806452| 13.96774193548387|0.6620795107033639|21.096774193548388|   13.225806451612904|12.161290322580646|23.258064516129032| 35.41935483870968| 11.35483870967742|21.612903225806452| 32.96774193548387|1.0710227272727273|1.0761194029850747|1.0743639921722115|14.193548387096774|              12.0|7.064516129032258| 5.967741935483871|15.161290322580646|15.741935483870968|3.5483870967741935|2.5483870967741935|18.451612903225808|19.419354838709676|  -1|    2|       1|-0.05806451612903...|-2.3365591397849528|   5.019354838709681|-0.12802167755870664| 0.03225806451612903|-1.3903225806451616|-0.02576694856537...| 0.1032258064516185|   3.956989247311828| 0.2763440860215054|-0.00203062414439...|  0.8655913978494603| -1.0870967741935482|  0.1677419354838694|-0.06043357830187168| 1.9967741935483865| -1.8075268817204293| 2.4279569892473134| -2.1419354838709666| 0.28602150537634685|0.22150537634408707|0.41290322580645267|  0.6344086021505362| 0.19677123026673926|-0.12199380456209519|-0.01223394597211...| -4.073118279569892|  0.9666666666666668| 0.06451612903225801|  0.2677419354838708|  1.9946236559139798|   0.908602150537634|  0.4483870967741934|0.048387096774193505| -0.681720430107525|  1.2193548387096769|  9.0|\n",
            "|  2004| 1196| 1264|     0|       05|       12|       24|         5|           29|0.8275862068965517| 74.34482758620689|        63.44827586206897|1.1717391304347826|                 0.0|24.379310344827587| 0.4415990006246096|55.206896551724135|    21.75862068965517| 5.758620689655173|   0.36784140969163|15.655172413793103|     4.655172413793103| 19.82758620689655|0.7595772787318362|26.103448275862068|   15.275862068965518|12.172413793103448|22.689655172413794| 34.86206896551724|11.724137931034482|              22.0|33.724137931034484|1.0382352941176471| 1.031347962382445|1.0337423312883436|10.793103448275861|11.206896551724139| 9.448275862068966| 6.241379310344827|              13.0| 16.93103448275862| 4.172413793103448| 4.275862068965517|20.310344827586206| 21.17241379310345|       20|        10|           30|0.6666666666666666| 76.96666666666667|        69.13333333333334| 1.113307618129219| 0.06666666666666667|26.933333333333334| 0.4826762246117085|              55.8|                 24.0|               8.2|0.37962962962962965|              21.6|     6.866666666666666|              14.9|0.7525252525252525|              19.8|   14.266666666666667|10.233333333333333|24.933333333333334|35.166666666666664|              12.9|              21.1|              34.0|0.7932816537467701|1.1816745655608214|1.0343137254901962|16.266666666666666|              14.5|6.533333333333333| 7.333333333333333|14.666666666666666|13.566666666666666|3.1333333333333333|3.1333333333333333|18.866666666666667|18.966666666666665|  -4|    5|       1|-0.16091954022988508|  2.621839080459779|   5.685057471264372|-0.05843151230556365| 0.06666666666666667| 2.5540229885057464|  0.0410772239870989| 0.5931034482758619|   2.241379310344829| 2.4413793103448267|0.011788219937999667|   5.944827586206898|   2.211494252873563|  -4.927586206896551|-0.00705202620658...| -6.303448275862067| -1.0091954022988503| -1.939080459770116|    2.24367816091954| 0.30459770114942586| 1.1758620689655181|-0.8999999999999986|   0.275862068965516|-0.24495364037087708| 0.15032660317837632| 5.71394201852593E-4| 5.4735632183908045|   3.293103448275861|  -2.914942528735633|  1.0919540229885056|   1.666666666666666|  -3.364367816091953|  -1.039080459770115| -1.1425287356321836|-1.4436781609195393| -2.2057471264367834| -7.0|\n",
            "|  2004| 1329| 1386|     1|       02|       01|       27|         1|           28|0.9642857142857143| 77.78571428571429|                     61.5| 1.264808362369338|                 0.0|27.178571428571427|0.47861635220125787|56.785714285714285|   22.107142857142858|              9.75| 0.4068554396423249|23.964285714285715|     4.428571428571429|13.678571428571429|0.7027522935779816|19.464285714285715|   12.857142857142858| 9.678571428571429|             23.25| 32.92857142857143|13.642857142857142|23.035714285714285| 36.67857142857143|0.7094240837696335|1.0093023255813953|0.8977604673807206|16.535714285714285|11.642857142857142| 9.142857142857142| 6.714285714285714|11.714285714285714|16.571428571428573|3.5714285714285716| 2.392857142857143|17.035714285714285|17.964285714285715|       26|         3|           29| 0.896551724137931| 78.20689655172414|        63.89655172413793|1.2239611440906637| 0.10344827586206896|28.896551724137932| 0.5128518971848225|  56.3448275862069|   22.862068965517242| 4.827586206896552| 0.3783783783783784|12.758620689655173|     5.068965517241379|15.586206896551724|0.6953846153846154|22.413793103448278|    13.10344827586207|11.379310344827585| 24.17241379310345| 35.55172413793103|11.655172413793103|19.689655172413794|31.344827586206897|0.9763313609467456|1.2276707530647986|1.1342134213421342| 16.06896551724138|12.137931034482758|7.862068965517241|               6.0|13.448275862068966|15.551724137931034| 3.586206896551724| 3.103448275862069|19.413793103448278|20.344827586206897|  -1|    2|       1|-0.06773399014778325|0.42118226600985054|   2.396551724137929|-0.04084721827867...| 0.10344827586206896| 1.7179802955665053|0.034235544983564625|-0.4408866995073879|  0.7549261083743843| -4.922413793103448| -0.0284770612639465| -11.205665024630543|  0.6403940886699502|  1.9076354679802954|-0.00736767819336...| 2.9495073891625623| 0.24630541871921174| 1.7007389162561566|  0.9224137931034484|  2.6231527093596014|-1.9876847290640391| -3.346059113300491|  -5.333743842364534| 0.26690727717711205| 0.21836842748340324| 0.23645295396141364|-0.4667487684729039| 0.49507389162561566| -1.2807881773399012| -0.7142857142857144|  1.7339901477832527| -1.0197044334975391| 0.01477832512315258|  0.7105911330049262|  2.378078817733993|  2.3805418719211815|  1.0|\n",
            "|  2006| 1196| 1206|     1|       03|       11|       23|         7|           30|0.7666666666666667|              69.4|       58.833333333333336|1.1796033994334278| 0.06666666666666667|25.733333333333334|0.48370927318295737|              53.2|   21.233333333333334| 5.933333333333334|0.35177865612648224|16.866666666666667|     5.933333333333334|              12.0|0.6679035250463822|17.966666666666665|   10.433333333333334|              10.1|              24.8|              34.9|11.366666666666667|20.866666666666667|32.233333333333334|0.8885630498533724|1.1884984025559104|1.0827300930713548|15.166666666666666|              11.0|               7.3|               6.7|              13.2|13.933333333333334| 3.533333333333333|               3.8|              15.4|16.533333333333335|       27|         6|           33|0.8181818181818182| 79.27272727272727|        64.78787878787878|1.2235734331150607|0.030303030303030304|27.636363636363637| 0.5080779944289694| 54.39393939393939|   23.545454545454547| 7.393939393939394|0.39418416801292405|18.757575757575758|     6.121212121212121|16.606060606060606|0.7345844504021448|22.606060606060606|   11.575757575757576|10.606060606060606|24.636363636363637| 35.24242424242424|12.333333333333334|19.696969696969695| 32.03030303030303|  0.85995085995086|1.2507692307692309|1.1002838221381268| 17.03030303030303|11.333333333333334|8.030303030303031| 7.545454545454546|14.878787878787879|16.272727272727273|4.9393939393939394|2.6666666666666665| 16.12121212121212| 18.87878787878788|   4|   -1|       3|0.051515151515151514|   9.87272727272726|   5.954545454545446| 0.04397003368163288|-0.03636363636363636| 1.9030303030303024|0.024368721246012026|  1.193939393939388|  2.3121212121212125|   1.46060606060606|0.042405511886441816|  1.8909090909090907| 0.18787878787878753|  4.6060606060606055| 0.06668092535576264| 4.6393939393939405|  1.1424242424242426| 0.5060606060606059|-0.16363636363636402| 0.34242424242424363| 0.9666666666666668|-1.1696969696969717|-0.20303030303030312|-0.02861218990251...| 0.06227082821332042|0.017553729066771995|  1.863636363636365|  0.3333333333333339|  0.7303030303030313|  0.8454545454545457|  1.6787878787878796|    2.33939393939394|  1.4060606060606062| -1.1333333333333333| 0.7212121212121207|   2.345454545454544| -8.0|\n",
            "|  2009| 1257| 1287|     1|       01|       16|       17|        15|           32|           0.53125|          69.34375|                  68.6875|1.0095541401273886|              0.0625|          23.71875|0.43520642201834864|              54.5|                23.25|           5.09375| 0.3273092369477912|           15.5625|               7.15625|           16.8125|0.7240915208613729|          23.21875|             15.03125|           13.5625|           24.8125|            38.375|            10.375|           20.8125|           31.1875|1.3072289156626506|1.1921921921921923|1.2304609218436873|          12.40625|           13.1875|           6.40625|           6.78125|          15.40625|            12.375|           3.96875|             3.875|          19.21875|           19.3125|       28|         5|           33|0.8484848484848485| 73.93939393939394|        61.60606060606061|1.2001967535661584|0.030303030303030304| 26.78787878787879|  0.450790413054564| 59.42424242424242|   22.181818181818183|  8.06060606060606| 0.3604336043360434|22.363636363636363|     5.212121212121212|12.303030303030303|0.6434231378763867| 19.12121212121212|   12.030303030303031|12.575757575757576|25.424242424242426|              38.0|11.878787878787879|23.636363636363637|35.515151515151516| 1.058673469387755|1.0756410256410256|1.0699658703071673|16.575757575757574|11.666666666666666|9.272727272727273|6.7272727272727275|13.666666666666666|16.393939393939394| 6.181818181818182| 3.303030303030303|17.151515151515152|16.939393939393938|  11|  -10|       1|  0.3172348484848485|  4.595643939393938|  -7.081439393939391| 0.19064261343876976|-0.03219696969696...|  3.069128787878789|0.015583991036215383|  4.924242424242422| -1.0681818181818166| 2.9668560606060606|0.033124367388252196|   6.801136363636363|  -1.944128787878788|  -4.509469696969697|-0.08066838298498613| -4.097537878787879|  -3.000946969696969|-0.9867424242424239|  0.6117424242424256|              -0.375|  1.503787878787879| 2.8238636363636367|   4.327651515151516|-0.24855544627489556|-0.11655116655116671|   -0.16049505153652|  4.169507575757574|  -1.520833333333334|  2.8664772727272734|-0.05397727272727...|  -1.739583333333334|  4.0189393939393945|  2.2130681818181817| -0.5719696969696968|-2.0672348484848477| -2.3731060606060623|-15.0|\n",
            "|  2009| 1393| 1372|     1|       03|       14|       20|         7|           27|0.7407407407407407| 64.22222222222223|       58.074074074074076|1.1058673469387754|  0.1111111111111111| 23.88888888888889|  0.433759246805649|55.074074074074076|    19.85185185185185| 5.555555555555555| 0.3191489361702128| 17.40740740740741|     4.074074074074074| 10.88888888888889|0.6636568848758465| 16.40740740740741|   14.296296296296296| 9.037037037037036|24.814814814814813|33.851851851851855| 9.666666666666666|25.074074074074073| 34.74074074074074|0.9348659003831418|0.9896602658788775|0.9744136460554371|12.444444444444445| 8.703703703703704| 5.666666666666667|5.7407407407407405|11.925925925925926|14.185185185185185| 3.074074074074074|3.4074074074074074| 18.40740740740741| 16.14814814814815|       25|         9|           34|0.7352941176470589| 80.97058823529412|        72.91176470588235|1.1105284388866479| 0.29411764705882354|29.323529411764707| 0.4875305623471883| 60.14705882352941|   27.294117647058822| 6.852941176470588| 0.3535660091047041| 19.38235294117647|     7.323529411764706|15.470588235294118|0.6399026763990268|24.176470588235293|                 11.0|12.735294117647058|26.823529411764707| 39.55882352941177|              15.0| 22.58823529411765|37.588235294117645|0.8490196078431372|            1.1875|1.0524256651017214|18.176470588235293|              16.5|7.647058823529412| 8.205882352941176|15.176470588235293|14.323529411764707| 5.088235294117647|               4.0|15.676470588235293|19.794117647058822|   5|    2|       7|-0.00544662309368...| 16.748366013071887|  14.837690631808272|0.004661091947872453| 0.18300653594771243|  5.434640522875817|  0.0537713155415393|  5.072984749455337|   7.442265795206971| 1.2973856209150325| 0.03441707293449131|  1.9749455337690627|   3.249455337690631|  4.5816993464052285|-0.02375420847681975|  7.769063180827885|  -3.296296296296296| 3.6982570806100217|  2.0087145969498934|   5.706971677559913|  5.333333333333334| -2.485838779956424|  2.8474945533769045|-0.08584629254000453| 0.19783973412112255|  0.0780120190462843|  5.732026143790849|   7.796296296296296|  1.9803921568627452|  2.4651416122004353|   3.250544662309368|  0.1383442265795214|   2.014161220043573|  0.5925925925925926| -2.730936819172115|  3.6459694989106737|-11.0|\n",
            "|  2010| 1452| 1449|     1|       02|       11|       24|         9|           33|0.7272727272727273| 79.78787878787878|        69.93939393939394|1.1408145580589255|0.030303030303030304| 27.87878787878788| 0.4520884520884521|61.666666666666664|   23.666666666666668| 5.181818181818182|0.32509505703422054| 15.93939393939394|     4.757575757575758|18.848484848484848|0.7274853801169591| 25.90909090909091|   17.848484848484848|13.515151515151516| 24.87878787878788| 38.39393939393939|11.515151515151516|22.606060606060606|34.121212121212125|1.1736842105263159|1.1005361930294906| 1.125222024866785|              14.0| 10.93939393939394|7.2727272727272725|6.0606060606060606|12.787878787878787| 16.09090909090909|3.9393939393939394| 3.090909090909091|21.606060606060606|21.363636363636363|       27|         6|           33|0.8181818181818182| 72.96969696969697|        63.78787878787879|1.1439429928741092| 0.15151515151515152|25.272727272727273| 0.4339229968782518| 58.24242424242424|   21.939393939393938|6.9393939393939394| 0.3357771260997067|20.666666666666668|     5.424242424242424|15.484848484848484|0.6961852861035422|22.242424242424242|   14.484848484848484|15.575757575757576|22.757575757575758|38.333333333333336|10.333333333333334|21.151515151515152|31.484848484848484|1.5073313782991202|1.0759312320916905|1.2175168431183832|15.696969696969697|11.515151515151516|5.606060606060606|5.9393939393939394|11.727272727272727|13.545454545454545|               4.0|2.5757575757575757|18.333333333333332| 20.90909090909091|   3|   -3|       0| 0.09090909090909094| -6.818181818181813|  -6.151515151515149|0.003128434815183656| 0.12121212121212122|-2.6060606060606055| -0.0181654552102003| -3.424242424242422| -1.7272727272727302| 1.7575757575757578|0.010682069065486188|   4.727272727272728|  0.6666666666666661| -3.3636363636363633|-0.03130009401341...| -3.666666666666668| -3.3636363636363633| 2.0606060606060606|  -2.121212121212121|-0.06060606060605522|-1.1818181818181817|-1.4545454545454533| -2.6363636363636402| 0.33364716777280434|-0.02460496093780007| 0.09229481825159813| 1.6969696969696972|  0.5757575757575761|  -1.666666666666666| -0.1212121212121211| -1.0606060606060606|  -2.545454545454545| 0.06060606060606055| -0.5151515151515151|-3.2727272727272734|-0.45454545454545325| -9.0|\n",
            "|  2011| 1163| 1137|     1|       03|       14|       25|         8|           33|0.7575757575757576| 70.75757575757575|        63.42424242424242|1.1156235069278548|0.030303030303030304|24.575757575757574| 0.4495565410199557|54.666666666666664|   21.666666666666668| 6.878787878787879| 0.4024822695035461| 17.09090909090909|     6.363636363636363|14.727272727272727|0.7864077669902912|18.727272727272727|   13.727272727272727| 8.151515151515152| 25.96969696969697|34.121212121212125|10.484848484848484|23.242424242424242| 33.72727272727273|0.7774566473988439|1.1173402868318123|1.0116801437556155|14.727272727272727|12.181818181818182| 4.757575757575758| 5.484848484848484|11.363636363636363| 11.93939393939394|3.1818181818181817| 2.515151515151515|18.242424242424242|17.606060606060606|       26|         9|           35|0.7428571428571429|              73.4|        66.37142857142857|1.1058975462763667| 0.17142857142857143|              26.0| 0.4329210275927688| 60.05714285714286|   24.314285714285713| 5.828571428571428|0.33170731707317075|17.571428571428573|     6.314285714285714|15.571428571428571|0.7548476454293629| 20.62857142857143|   11.428571428571429|14.428571428571429|25.142857142857142| 39.57142857142857|13.342857142857143|22.142857142857142| 35.48571428571429|1.0813704496788008| 1.135483870967742|1.1151368760064413|13.114285714285714|12.514285714285714|6.628571428571429| 6.171428571428572|11.742857142857142|12.142857142857142| 5.628571428571429|               3.8| 16.02857142857143|              18.8|   1|    1|       2|-0.01471861471861...|  2.642424242424255|  2.9471861471861445|-0.00972596065148812| 0.14112554112554113| 1.4242424242424256|-0.01663551342718...|  5.390476190476193|  2.6476190476190453|-1.0502164502164506|-0.07077495243037535|   0.480519480519483|-0.04935064935064...|  0.8441558441558445|-0.03156012156092...| 1.9012987012987033|  -2.298701298701298|  6.277056277056277| -0.8268398268398265|   5.450216450216445|  2.858008658008659|-1.0995670995670999|   1.758441558441561|  0.3039138022799569|0.018143584135929647| 0.10345673225082574|-1.6129870129870127|  0.3324675324675326|  1.8709956709956712|  0.6865800865800873|  0.3792207792207787|  0.2034632034632029|  2.4467532467532473|  1.2848484848484847|-2.2138528138528137|  1.1939393939393952|-11.0|\n",
            "|  2013| 1112| 1217|     1|       06|       14|       18|         9|           27|0.6666666666666666| 68.92592592592592|        64.22222222222223|1.0732410611303345|  0.1111111111111111|22.703703703703702| 0.4826771653543307| 47.03703703703704|   23.666666666666668|  6.37037037037037|0.40093240093240096| 15.88888888888889|     4.962962962962963| 17.14814814814815|         0.7234375|23.703703703703702|   11.925925925925926| 7.148148148148148|21.962962962962962| 29.11111111111111|10.148148148148149| 20.25925925925926| 30.40740740740741|0.7043795620437956|1.0840950639853748|0.9573690621193667|13.074074074074074|11.814814814814815|  7.37037037037037| 6.222222222222222|13.666666666666666| 13.62962962962963| 4.148148148148148|3.3333333333333335| 15.11111111111111| 19.74074074074074|       25|         7|           32|           0.78125|          73.28125|                  63.6875|1.1506378802747792|             0.03125|          25.03125| 0.4497473329590118|          55.65625|              22.6875|           7.65625|  0.362962962962963|          21.09375|               5.96875|           15.5625|0.7477477477477478|           20.8125|             12.34375|          11.53125|          24.71875|             36.25|           9.21875|          21.03125|             30.25|1.2508474576271187| 1.175334323922734|1.1983471074380165|          13.84375|           11.1875|           6.9375|           6.15625|          13.09375|          13.78125|           3.90625|             3.375|          16.34375|            17.875|   7|   -2|       5| 0.11458333333333337|  4.355324074074076| -0.5347222222222285| 0.07739681914444474| -0.0798611111111111| 2.3275462962962976|-0.03292983239531888|  8.619212962962962| -0.9791666666666679| 1.2858796296296298|-0.03796943796943797|   5.204861111111111|  1.0057870370370372| -1.5856481481481488|0.024310247747747815|-2.8912037037037024|  0.4178240740740744|  4.383101851851852|   2.755787037037038|   7.138888888888889|-0.9293981481481488| 0.7719907407407405|-0.15740740740740833|  0.5464678955833231| 0.09123925993735926| 0.24097804531864986| 0.7696759259259256| -0.6273148148148149|-0.43287037037037024|-0.06597222222222232| -0.5729166666666661| 0.15162037037037024|-0.24189814814814792| 0.04166666666666652| 1.2326388888888893| -1.8657407407407405| -8.0|\n",
            "|  2015| 1374| 1417|     0|       06|       11|       20|        13|           33|0.6060606060606061|              72.0|        68.03030303030303|1.0583518930957683| 0.06060606060606061|25.727272727272727| 0.4405812143227815| 58.39393939393939|   23.606060606060606| 6.212121212121212|0.36347517730496454| 17.09090909090909|     7.848484848484849|14.333333333333334|0.6757142857142857| 21.21212121212121|   12.969696969696969|12.303030303030303|25.666666666666668| 37.96969696969697|10.030303030303031| 24.03030303030303| 34.06060606060606|1.2265861027190332|1.0680958385876418|1.1147686832740213|13.909090909090908|13.787878787878787| 6.848484848484849|6.2727272727272725|11.878787878787879|12.606060606060606| 3.727272727272727| 3.303030303030303| 17.87878787878788| 18.09090909090909|       26|         6|           32|            0.8125|          69.40625|                 59.71875| 1.162218733647305|             0.03125|          24.65625|0.48256880733944957|          51.09375|             20.28125|           4.21875|               0.36|          11.71875|               7.84375|            15.875|0.7045769764216366|          22.53125|              11.3125|          11.21875|          25.15625|            36.375|           10.4375|           19.0625|              29.5|1.0748502994011977| 1.319672131147541|1.2330508474576272|           15.5625|              12.5|          6.78125|            6.5625|           12.4375|          12.65625|           4.03125|           3.46875|          16.28125|          18.84375|   6|   -7|      -1| 0.20643939393939392|           -2.59375|  -8.311553030303031| 0.10386684055153683|-0.02935606060606...|-1.0710227272727266|0.041987593016668046| -7.300189393939391| -3.3248106060606055| -1.993371212121212|-0.00347517730496...|   -5.37215909090909|-0.00473484848484...|   1.541666666666666|0.028862690707350924|  1.319128787878789| -1.6571969696969688|-1.0842803030303028| -0.5104166666666679| -1.5946969696969688|0.40719696969696884| -4.967803030303031|  -4.560606060606062|-0.15173580331783554|  0.2515762925598992| 0.11828216418360582| 1.6534090909090917| -1.2878787878787872|-0.06723484848484862|  0.2897727272727275|  0.5587121212121211| 0.05018939393939448| 0.30397727272727293|  0.1657196969696968| -1.597537878787879|  0.7528409090909101| -5.0|\n",
            "|  2016| 1320| 1401|     0|       11|       03|       26|         8|           34|0.7647058823529411| 75.91176470588235|        65.52941176470588|1.1584380610412925|0.058823529411764705|26.647058823529413| 0.4494047619047619|59.294117647058826|   23.029411764705884| 7.676470588235294| 0.3503355704697987| 21.91176470588235|     7.382352941176471|14.941176470588236|0.6728476821192053|22.205882352941178|   12.088235294117647|12.823529411764707|26.058823529411764| 38.88235294117647|11.088235294117647|23.764705882352942| 34.85294117647059| 1.156498673740053|1.0965346534653466|1.1156118143459917| 16.88235294117647|12.941176470588236| 6.911764705882353|5.0588235294117645|11.794117647058824|14.294117647058824| 3.764705882352941|3.4705882352941178| 18.08823529411765|19.323529411764707|       21|        12|           33|0.6363636363636364| 67.54545454545455|        62.90909090909091| 1.073699421965318|0.030303030303030304|23.363636363636363| 0.4543311726576311| 51.42424242424242|   23.272727272727273| 8.090909090909092|0.37186629526462395|21.757575757575758|      6.96969696969697|12.727272727272727|0.7540394973070018| 16.87878787878788|    9.393939393939394| 5.363636363636363|24.333333333333332|29.696969696969695| 9.121212121212121|25.060606060606062| 34.18181818181818|0.5880398671096345|0.9709794437726723|0.8687943262411347|11.848484848484848|12.181818181818182|5.787878787878788| 4.666666666666667| 9.696969696969697|11.969696969696969|2.6363636363636362| 2.696969696969697|15.333333333333334|18.303030303030305|  -5|    4|      -1|-0.12834224598930477| -8.366310160427801| -2.6203208556149775|-0.08473863907597456| -0.0285204991087344|-3.2834224598930497|0.004926410752869204| -7.869875222816404| 0.24331550802138935|0.41443850267379734|0.021530724794825262| -0.1541889483065937| -0.4126559714795013|  -2.213903743315509|  0.0811918151877965| -5.327094474153299| -2.6942959001782523| -7.459893048128343| -1.7254901960784323|  -9.185383244206776|-1.9670231729055256| 1.2959001782531203| -0.6711229946524071| -0.5684588066304186| -0.1255552096926743|-0.24681748810485693| -5.033868092691623| -0.7593582887700538| -1.1238859180035652|-0.39215686274509753|  -2.097147950089127| -2.3244206773618554| -1.1283422459893049|  -0.773618538324421|-2.7549019607843146|  -1.020499108734402|  8.0|\n",
            "|  2019| 1332| 1414|     1|       12|       13|       29|         5|           34|0.8529411764705882| 72.47058823529412|        63.61764705882353|  1.13915857605178|                 0.0|26.941176470588236|  0.456857855361596|58.970588235294116|   21.852941176470587| 6.794117647058823| 0.3598130841121495| 18.88235294117647|     6.235294117647059|11.794117647058824| 0.699825479930192|16.852941176470587|   13.676470588235293|11.647058823529411| 28.38235294117647|40.029411764705884|10.264705882352942|              23.0| 33.26470588235294|1.1346704871060171|1.2340153452685423|1.2033598585322722|13.235294117647058| 9.382352941176471|               5.5| 5.088235294117647|11.529411764705882|11.205882352941176| 4.264705882352941| 2.735294117647059|              18.5|16.735294117647058|       23|        12|           35|0.6571428571428571| 70.48571428571428|        62.94285714285714|1.1198365864729913| 0.02857142857142857|25.314285714285713|0.44951801116184675| 56.31428571428572|    21.34285714285714|               7.6| 0.3432258064516129|22.142857142857142|     7.057142857142857|12.257142857142858|0.7185929648241206|17.057142857142857|                 13.2| 9.714285714285714|24.714285714285715| 34.42857142857143| 9.657142857142857| 23.02857142857143| 32.68571428571428|1.0059171597633136|1.0732009925558312|1.0533216783216783|13.342857142857143|11.885714285714286|7.771428571428571| 5.228571428571429|              11.8|13.971428571428572| 4.228571428571429|2.7714285714285714|17.771428571428572|16.857142857142858|  -6|    7|       1|-0.19579831932773106|-1.9848739495798355| -0.6747899159663859|-0.01932198957878...| 0.02857142857142857|-1.6268907563025223|-0.00733984419974...|-2.6563025210083993| -0.5100840336134453| 0.8058823529411763|-0.01658727766053...|  3.2605042016806713|  0.8218487394957981| 0.46302521008403374|0.018767484893928654|0.20420168067226996| -0.4764705882352942|-1.9327731092436977| -3.6680672268907557|  -5.600840336134453|-0.6075630252100854|0.02857142857142847| -0.5789915966386587| -0.1287533273427035|-0.16081435271271105| -0.1500381802105939|0.10756302521008543|   2.503361344537815|  2.2714285714285714|  0.1403361344537819| 0.27058823529411846|   2.765546218487396|-0.03613445378151248| 0.03613445378151248|-0.7285714285714278| 0.12184873949579966| -1.0|\n",
            "|  2021| 1199| 1276|     0|       04|       01|       20|         4|           24|0.8333333333333334|             76.25|                   65.375|1.1663479923518165|0.041666666666666664|            27.875| 0.4837310195227766|            57.625|   23.833333333333332| 7.541666666666667|0.38675213675213677|              19.5|                 6.625|12.958333333333334|            0.7775|16.666666666666668|   11.083333333333334| 8.083333333333334|27.083333333333332|35.166666666666664| 7.458333333333333|21.166666666666668|            28.625|1.0837988826815643| 1.279527559055118|1.2285298398835516|15.458333333333334|            10.125| 4.416666666666667| 4.791666666666667|10.666666666666666|               9.5| 4.291666666666667|2.6666666666666665| 6.208333333333333|             6.625|       16|         6|           22|0.7272727272727273|  78.9090909090909|        70.31818181818181|1.1221719457013575| 0.09090909090909091|28.181818181818183| 0.4743687834736037| 59.40909090909091|   23.363636363636363| 8.227272727272727| 0.3900862068965517| 21.09090909090909|     7.818181818181818|14.318181818181818|0.7377049180327869| 19.40909090909091|   15.772727272727273|10.409090909090908|24.272727272727273| 34.68181818181818| 9.772727272727273|19.863636363636363|29.636363636363637|1.0651162790697675|1.2219679633867278|1.1702453987730062|14.590909090909092|              11.5|7.409090909090909| 7.136363636363637|14.136363636363637|13.590909090909092| 5.136363636363637|2.8636363636363638| 6.545454545454546| 5.545454545454546|  -4|    2|      -2|-0.10606060606060608| 2.6590909090909065|   4.943181818181813|-0.04417604665045...| 0.04924242424242425|0.30681818181818343|-0.00936223604917...| 1.7840909090909065|-0.46969696969696884| 0.6856060606060597|0.003334070144414...|    1.59090909090909|  1.1931818181818183|  1.3598484848484844|-0.03979508196721304|  2.742424242424242|  4.6893939393939394| 2.3257575757575744| -2.8106060606060588| -0.4848484848484844| 2.3143939393939403|-1.3030303030303045|  1.0113636363636367|-0.01868260361179...|-0.05755959566839...|-0.05828444111054...|-0.8674242424242422|               1.375|   2.992424242424242|  2.3446969696969697|  3.4696969696969706|   4.090909090909092|  0.8446969696969697| 0.19696969696969724| 0.3371212121212128| -1.0795454545454541|  3.0|\n",
            "|  2005| 1153| 1246|     0|       07|       02|       25|         5|           30|0.8333333333333334| 73.73333333333333|                     61.9| 1.191168551427033| 0.03333333333333333|              26.5| 0.4590069284064665|57.733333333333334|   21.866666666666667| 6.533333333333333|0.33793103448275863|19.333333333333332|     6.566666666666666|              14.2|0.6635514018691588|              21.4|                 11.6|              12.7|              22.9|              35.6|11.733333333333333|              22.2| 33.93333333333333|1.0823863636363635|1.0315315315315314|1.0491159135559922|15.266666666666667|11.133333333333333|               9.4|               5.1|13.033333333333333|18.133333333333333| 4.433333333333334| 3.433333333333333|              16.8|18.433333333333334|       24|         7|           31|0.7741935483870968| 76.41935483870968|        64.41935483870968| 1.186279419128693| 0.06451612903225806|25.548387096774192|0.43878116343490303|58.225806451612904|    22.70967741935484| 6.612903225806452| 0.3474576271186441|19.032258064516128|     7.032258064516129| 18.70967741935484|0.6929510155316607|              27.0|    11.96774193548387|14.387096774193548| 27.06451612903226| 41.45161290322581|14.548387096774194|21.838709677419356| 36.38709677419355|0.9889135254988913| 1.239290989660266|1.1391843971631206|              15.0|11.064516129032258|5.483870967741935| 5.870967741935484|13.451612903225806|14.290322580645162| 6.870967741935484| 2.193548387096774|17.677419354838708|22.193548387096776|  -1|    2|       1|-0.05913978494623662| 2.6860215053763454|   2.519354838709681|-0.00488913229833...| 0.03118279569892473|-0.9516129032258078|-0.02022576497156...|0.49247311827956963|  0.8430107526881727|0.07956989247311874|0.009526592635885456|-0.30107526881720403|  0.4655913978494626|   4.509677419354841|0.029399613662501878|  5.600000000000001| 0.36774193548387046| 1.6870967741935488|   4.164516129032261|   5.851612903225806| 2.8150537634408614|-0.3612903225806434|  2.4537634408602216| -0.0934728381374722| 0.20775945812873453| 0.09006848360712838|-0.2666666666666675|-0.06881720430107485| -3.9161290322580653|  0.7709677419354843| 0.41827956989247284|  -3.843010752688171|  2.4376344086021504|  -1.239784946236559| 0.8774193548387075|  3.7602150537634422|  5.0|\n",
            "+------+-----+-----+------+---------+---------+---------+----------+-------------+------------------+------------------+-------------------------+------------------+--------------------+------------------+-------------------+------------------+---------------------+------------------+-------------------+------------------+----------------------+------------------+------------------+------------------+---------------------+------------------+------------------+------------------+------------------+------------------+------------------+------------------+------------------+------------------+------------------+------------------+------------------+------------------+------------------+------------------+------------------+------------------+------------------+------------------+---------+----------+-------------+------------------+------------------+-------------------------+------------------+--------------------+------------------+-------------------+------------------+---------------------+------------------+-------------------+------------------+----------------------+------------------+------------------+------------------+---------------------+------------------+------------------+------------------+------------------+------------------+------------------+------------------+------------------+------------------+------------------+------------------+-----------------+------------------+------------------+------------------+------------------+------------------+------------------+------------------+----+-----+--------+--------------------+-------------------+--------------------+--------------------+--------------------+-------------------+--------------------+-------------------+--------------------+-------------------+--------------------+--------------------+--------------------+--------------------+--------------------+-------------------+--------------------+-------------------+--------------------+--------------------+-------------------+-------------------+--------------------+--------------------+--------------------+--------------------+-------------------+--------------------+--------------------+--------------------+--------------------+--------------------+--------------------+--------------------+-------------------+--------------------+-----+\n",
            "only showing top 20 rows\n",
            "\n"
          ]
        }
      ]
    },
    {
      "cell_type": "code",
      "source": [
        "outscores =  outscores.drop(\"Team1OppPFPerGame\", \"Team2OppPFPerGame\",\n",
        "                            'Team1PFPerGame','Team2PFPerGame',\n",
        "                            \"Team1Wins\",\"Team2Wins\",\n",
        "                            \"Team1Loses\",\"Team2Loses\",\n",
        "                            \"Team1NumGames\",\"Team2NumGames\",\n",
        "                            \"Team1WinRatio\",\"Team2WinRatio\",\n",
        "                            \"Team1PointsPerGame\",\"Team2PointsPerGame\",\n",
        "                            \"Team1PointsAllowedPerGame\",\"Team2PointsAllowedPerGame\",\n",
        "                            \"Team1PointsRatio\",\"Team2PointsRatio\",\n",
        "                            \"Team1OTsPerGame\",\"Team2OTsPerGame\",\n",
        "                            \"Team1FGPerGame\",\"Team2FGPerGame\",\n",
        "                            \"Team1FGRatio\",\"Team2FGRatio\",\n",
        "                            \"Team1FGAPerGame\",\"Team2FGAPerGame\",\n",
        "                            \"Team1FGAllowedPerGame\",\"Team2FGAllowedPerGame\",\n",
        "                            \"Team1FG3PerGame\",\"Team2FG3PerGame\",\n",
        "                            \"Team1FG3Ratio\",\"Team2FG3Ratio\",\n",
        "                            \"Team1FG3APerGame\",\"Team2FG3APerGame\",\n",
        "                            \"Team1FG3AllowedPerGame\",\"Team2FG3AllowedPerGame\",\n",
        "                            \"Team1FTPerGame\",\"Team2FTPerGame\",\n",
        "                            \"Team1FTRatio\",\"Team2FTRatio\",\n",
        "                            \"Team1FTAPerGame\",\"Team2FTAPerGame\",\n",
        "                            \"Team1FTAllowedPerGame\",\"Team2FTAllowedPerGame\",\n",
        "                            \"Team1ORPerGame\",\"Team2ORPerGame\",\n",
        "                            \"Team1DRPerGame\",\"Team2DRPerGame\",\n",
        "                            \"Team1TRPerGame\",\"Team2TRPerGame\",\n",
        "                            \"Team1OppORPerGame\",\"Team2OppORPerGame\",\n",
        "                            'Team1OppDRPerGame','Team2OppDRPerGame',\n",
        "                            'Team1OppTRPerGame','Team2OppTRPerGame',\n",
        "                            'Team1ORRatio','Team2ORRatio',\n",
        "                            'Team1DRRatio','Team2DRRatio',\n",
        "                            'Team1TRRatio','Team2TRRatio',\n",
        "                            'Team1AstPerGame','Team2AstPerGame',\n",
        "                            'Team1OppAstPerGame','Team2OppAstPerGame',\n",
        "                            'Team1StlPerGame','Team2StlPerGame',\n",
        "                            'Team1OppStlPerGame','Team2OppStlPerGame',\n",
        "                            'Team1TOPerGame','Team2TOPerGame',\n",
        "                            'Team1OppTOPerGame','Team2OppTOPerGame',\n",
        "                            'Team1BlkPerGame','Team2BlkPerGame',\n",
        "                            'Team1OppBlkPerGame','Team2OppBlkPerGame',\n",
        "                            'Team1PFPerGame','Team2PFPerGame',\n",
        "                            'Team1OppPFPerGame','Team2OppPFPerGame'\n",
        "                            'Team1Seed','Team2Seed')\n",
        "outscores2022 = outscores.filter(outscores.Season == 2022)\n",
        "outscores2022.show()\n",
        "outscores = outscores.filter(outscores.Season < 2022)\n",
        "outscores.show()"
      ],
      "metadata": {
        "colab": {
          "base_uri": "https://localhost:8080/"
        },
        "id": "odQAzC_QfpkF",
        "outputId": "70bd9ec1-22d3-4542-8109-f4c4ef7679ef"
      },
      "execution_count": 98,
      "outputs": [
        {
          "output_type": "stream",
          "name": "stdout",
          "text": [
            "+------+-----+-----+------+---------+----+-----+--------+--------+-------------+--------------------+-----------+----------+---------+-------+----------+----------------+----------+--------+-----------+-----------------+---------+-------+----------+----------------+---------+---------+---------+------------+------------+------------+-------+-------+-------+----------+-------------+----------+-------------+---------+------------+----------+-------------+---------+------------+----+\n",
            "|Season|Team1|Team2|Result|Team1Seed|Wins|Loses|NumGames|WinRatio|PointsPerGame|PointsAllowedPerGame|PointsRatio|OTsPerGame|FGPerGame|FGRatio|FGAPerGame|FGAllowedPerGame|FG3PerGame|FG3Ratio|FG3APerGame|FG3AllowedPerGame|FTPerGame|FTRatio|FTAPerGame|FTAllowedPerGame|ORPerGame|DRPerGame|TRPerGame|OppORPerGame|OppDRPerGame|OppTRPerGame|ORRatio|DRRatio|TRRatio|AstPerGame|OppAstPerGame|StlPerGame|OppStlPerGame|TOPerGame|OppTOPerGame|BlkPerGame|OppBlkPerGame|PFPerGame|OppPFPerGame|Seed|\n",
            "+------+-----+-----+------+---------+----+-----+--------+--------+-------------+--------------------+-----------+----------+---------+-------+----------+----------------+----------+--------+-----------+-----------------+---------+-------+----------+----------------+---------+---------+---------+------------+------------+------------+-------+-------+-------+----------+-------------+----------+-------------+---------+------------+----------+-------------+---------+------------+----+\n",
            "+------+-----+-----+------+---------+----+-----+--------+--------+-------------+--------------------+-----------+----------+---------+-------+----------+----------------+----------+--------+-----------+-----------------+---------+-------+----------+----------------+---------+---------+---------+------------+------------+------------+-------+-------+-------+----------+-------------+----------+-------------+---------+------------+----------+-------------+---------+------------+----+\n",
            "\n",
            "+------+-----+-----+------+---------+----+-----+--------+--------------------+-------------------+--------------------+--------------------+--------------------+-------------------+--------------------+-------------------+--------------------+-------------------+--------------------+--------------------+--------------------+--------------------+--------------------+-------------------+--------------------+-------------------+--------------------+--------------------+-------------------+-------------------+--------------------+--------------------+--------------------+--------------------+-------------------+--------------------+--------------------+--------------------+--------------------+--------------------+--------------------+--------------------+-------------------+--------------------+-----+\n",
            "|Season|Team1|Team2|Result|Team1Seed|Wins|Loses|NumGames|            WinRatio|      PointsPerGame|PointsAllowedPerGame|         PointsRatio|          OTsPerGame|          FGPerGame|             FGRatio|         FGAPerGame|    FGAllowedPerGame|         FG3PerGame|            FG3Ratio|         FG3APerGame|   FG3AllowedPerGame|           FTPerGame|             FTRatio|         FTAPerGame|    FTAllowedPerGame|          ORPerGame|           DRPerGame|           TRPerGame|       OppORPerGame|       OppDRPerGame|        OppTRPerGame|             ORRatio|             DRRatio|             TRRatio|         AstPerGame|       OppAstPerGame|          StlPerGame|       OppStlPerGame|           TOPerGame|        OppTOPerGame|          BlkPerGame|       OppBlkPerGame|          PFPerGame|        OppPFPerGame| Seed|\n",
            "+------+-----+-----+------+---------+----+-----+--------+--------------------+-------------------+--------------------+--------------------+--------------------+-------------------+--------------------+-------------------+--------------------+-------------------+--------------------+--------------------+--------------------+--------------------+--------------------+-------------------+--------------------+-------------------+--------------------+--------------------+-------------------+-------------------+--------------------+--------------------+--------------------+--------------------+-------------------+--------------------+--------------------+--------------------+--------------------+--------------------+--------------------+--------------------+-------------------+--------------------+-----+\n",
            "|  2005| 1242| 1137|     0|       03|   1|   -3|      -2| 0.08342602892102335| 11.867630700778648|   6.789766407119018| 0.06869985858896999| 0.10567296996662959|  5.672969966629587|0.031530706530706554|   8.74082313681869|  2.5228031145717438|0.18020022246941014|-0.00304072838476...|   0.626251390433815|  0.2758620689655169| 0.34149054505005516|-0.00810870370926...| 0.7385984427141246|  1.4682981090100107| 2.4382647385984413|  3.5461624026696335|   5.984427141268078|   2.03225806451613| 1.1535038932146833|  3.1857619577308114|0.054220627242939634| 0.10606317847404445| 0.07968061371290713|  4.134593993325916| 0.20355951056729715| -1.3793103448275863| 0.07119021134594039| -1.2914349276974413| -1.7675194660734146|  0.8620689655172415|  0.3114571746384871| 0.3704115684093452|  0.8509454949944377|-11.0|\n",
            "|  2008| 1280| 1272|     0|       08| -11|    9|      -2|-0.28308823529411764|  -6.58272058823529|   4.444852941176471|-0.19097147938873027| 0.09558823529411764| -2.670955882352942|-0.00464305435039...| -5.170955882352942|   1.477941176470587|-0.9724264705882355|-0.01586171894597...| -1.8327205882352935|   2.115808823529412|-0.26838235294117574|0.048017607820320496| -2.196691176470587| -0.6268382352941178| -1.898897058823529|  1.9797794117647065| 0.08088235294117396| 2.8455882352941178| -0.735294117647058|   2.110294117647058| -0.3993693693693694| 0.12550984528832632|-0.06684659970797746| -2.810661764705884|   0.851102941176471| -2.7058823529411757|  0.8382352941176467|  3.0753676470588243| -3.8694852941176485|  1.8492647058823533|-0.01838235294117...|-0.8786764705882355| -0.3805147058823515|  7.0|\n",
            "|  2009| 1320| 1345|     0|       12|  -2|    1|      -1|-0.03832442067736186|-1.6559714795008915|   4.427807486631018|-0.10780290251176172| 0.09358288770053476| -2.217468805704101|0.008872608872608878| -5.951871657754012|  1.1559714795008915|-0.3422459893048133|-0.00423457730388...| -0.7540106951871657|  1.6229946524064172|   3.121212121212121|0.051999811708587695|  2.865418894830661|  0.4928698752228158|-1.0098039215686274| 0.28966131907308323| -0.7201426024955424|-2.3556149732620337|-1.7495543672014264|  -4.105169340463458| 0.11378128274808619| 0.09930378732572431| 0.11011151306189204| -2.905525846702316| -0.1737967914438503| -2.9928698752228167| -0.4153297682709445|-0.04099821746880572|  -4.450980392156863| -2.3992869875222813| -0.7005347593582889| 0.7682709447415341|   2.313725490196081|  7.0|\n",
            "|  2014| 1276| 1246|     0|       02|   1|   -2|      -1| 0.05169340463458105| -1.517825311942957| -1.2834224598930462|-8.56629271228870...|-0.02762923351158...|0.42959001782531203| 0.02454949018602154| -1.975935828877006|  1.1274509803921546| 3.3966131907308377| 0.06862356312722734|  5.8983957219251355|  0.2834224598930488|  -5.773618538324419| 0.07902853449071934|-10.696969696969695| -3.8217468805704105|-5.7985739750445635| -3.5606060606060623|  -9.359180035650624|-2.0204991087344037| 1.6978609625668426| -0.3226381461675558| -0.3423664283599137|-0.26726632628610414|-0.28796867671200754|  2.712121212121213|  1.5570409982174684|    0.35650623885918| -0.7344028520499108| -2.8119429590017813|-0.03030303030303...| -3.7201426024955437| -0.6024955436720143| -4.454545454545455|  -5.345811051693406| -6.0|\n",
            "|  2019| 1387| 1439|     0|       13|  -1|    4|       3|-0.09285714285714286| -6.942857142857136|  1.6491071428571402| -0.1397517300372637|            -0.03125|-1.8642857142857139|-0.05747605308713216|  2.986607142857146|  0.6660714285714278| -3.850892857142857|-0.08581278499255773|   -5.71517857142857| -2.3866071428571427|  0.6366071428571427|-0.16006802642386941|  5.625892857142858|   2.703571428571429|  4.922321428571429|   2.255357142857143|   7.177678571428572|-0.1374999999999993| 3.4571428571428555|    3.31964285714286|  0.5749250749250749|-0.06722852692478853| 0.10714977508985646|-2.3723214285714285| 0.04374999999999929|  0.4294642857142854|  0.8517857142857146|  1.3392857142857135| -1.1223214285714285|   1.744642857142857|  1.0080357142857141|  2.204464285714284|  2.5446428571428577|  9.0|\n",
            "|  2003| 1181| 1161|     1|       03|   7|   -7|       0|  0.2333333333333334|  7.966666666666669| -2.2666666666666657| 0.14595061857103153| 0.03333333333333333| 0.9666666666666686|-0.05312669006691334|  8.233333333333334| -0.7666666666666657|  3.133333333333333|-0.00712533691465...|   9.033333333333335| -0.7000000000000002|  2.8999999999999986|0.008476677716582781| 3.8000000000000007|-0.03333333333333...|  2.966666666666667| -0.3666666666666636|  2.6000000000000014| 0.1999999999999993| 3.5666666666666664|  3.7666666666666693|  0.2284153005464481|-0.21015067406819998|-0.04463108610386679| -1.666666666666666| -0.8999999999999986|   3.166666666666667| -2.5999999999999996| -2.0999999999999996|                 5.6|  0.9000000000000004|  1.0333333333333328| 0.6999999999999993|  1.8999999999999986|-11.0|\n",
            "|  2003| 1443| 1228|     0|       13|  -1|    2|       1|-0.05806451612903...|-2.3365591397849528|   5.019354838709681|-0.12802167755870664| 0.03225806451612903|-1.3903225806451616|-0.02576694856537...| 0.1032258064516185|   3.956989247311828| 0.2763440860215054|-0.00203062414439...|  0.8655913978494603| -1.0870967741935482|  0.1677419354838694|-0.06043357830187168| 1.9967741935483865| -1.8075268817204293| 2.4279569892473134| -2.1419354838709666| 0.28602150537634685|0.22150537634408707|0.41290322580645267|  0.6344086021505362| 0.19677123026673926|-0.12199380456209519|-0.01223394597211...| -4.073118279569892|  0.9666666666666668| 0.06451612903225801|  0.2677419354838708|  1.9946236559139798|   0.908602150537634|  0.4483870967741934|0.048387096774193505| -0.681720430107525|  1.2193548387096769|  9.0|\n",
            "|  2004| 1196| 1264|     0|       05|  -4|    5|       1|-0.16091954022988508|  2.621839080459779|   5.685057471264372|-0.05843151230556365| 0.06666666666666667| 2.5540229885057464|  0.0410772239870989| 0.5931034482758619|   2.241379310344829| 2.4413793103448267|0.011788219937999667|   5.944827586206898|   2.211494252873563|  -4.927586206896551|-0.00705202620658...| -6.303448275862067| -1.0091954022988503| -1.939080459770116|    2.24367816091954| 0.30459770114942586| 1.1758620689655181|-0.8999999999999986|   0.275862068965516|-0.24495364037087708| 0.15032660317837632| 5.71394201852593E-4| 5.4735632183908045|   3.293103448275861|  -2.914942528735633|  1.0919540229885056|   1.666666666666666|  -3.364367816091953|  -1.039080459770115| -1.1425287356321836|-1.4436781609195393| -2.2057471264367834| -7.0|\n",
            "|  2004| 1329| 1386|     1|       02|  -1|    2|       1|-0.06773399014778325|0.42118226600985054|   2.396551724137929|-0.04084721827867...| 0.10344827586206896| 1.7179802955665053|0.034235544983564625|-0.4408866995073879|  0.7549261083743843| -4.922413793103448| -0.0284770612639465| -11.205665024630543|  0.6403940886699502|  1.9076354679802954|-0.00736767819336...| 2.9495073891625623| 0.24630541871921174| 1.7007389162561566|  0.9224137931034484|  2.6231527093596014|-1.9876847290640391| -3.346059113300491|  -5.333743842364534| 0.26690727717711205| 0.21836842748340324| 0.23645295396141364|-0.4667487684729039| 0.49507389162561566| -1.2807881773399012| -0.7142857142857144|  1.7339901477832527| -1.0197044334975391| 0.01477832512315258|  0.7105911330049262|  2.378078817733993|  2.3805418719211815|  1.0|\n",
            "|  2006| 1196| 1206|     1|       03|   4|   -1|       3|0.051515151515151514|   9.87272727272726|   5.954545454545446| 0.04397003368163288|-0.03636363636363636| 1.9030303030303024|0.024368721246012026|  1.193939393939388|  2.3121212121212125|   1.46060606060606|0.042405511886441816|  1.8909090909090907| 0.18787878787878753|  4.6060606060606055| 0.06668092535576264| 4.6393939393939405|  1.1424242424242426| 0.5060606060606059|-0.16363636363636402| 0.34242424242424363| 0.9666666666666668|-1.1696969696969717|-0.20303030303030312|-0.02861218990251...| 0.06227082821332042|0.017553729066771995|  1.863636363636365|  0.3333333333333339|  0.7303030303030313|  0.8454545454545457|  1.6787878787878796|    2.33939393939394|  1.4060606060606062| -1.1333333333333333| 0.7212121212121207|   2.345454545454544| -8.0|\n",
            "|  2009| 1257| 1287|     1|       01|  11|  -10|       1|  0.3172348484848485|  4.595643939393938|  -7.081439393939391| 0.19064261343876976|-0.03219696969696...|  3.069128787878789|0.015583991036215383|  4.924242424242422| -1.0681818181818166| 2.9668560606060606|0.033124367388252196|   6.801136363636363|  -1.944128787878788|  -4.509469696969697|-0.08066838298498613| -4.097537878787879|  -3.000946969696969|-0.9867424242424239|  0.6117424242424256|              -0.375|  1.503787878787879| 2.8238636363636367|   4.327651515151516|-0.24855544627489556|-0.11655116655116671|   -0.16049505153652|  4.169507575757574|  -1.520833333333334|  2.8664772727272734|-0.05397727272727...|  -1.739583333333334|  4.0189393939393945|  2.2130681818181817| -0.5719696969696968|-2.0672348484848477| -2.3731060606060623|-15.0|\n",
            "|  2009| 1393| 1372|     1|       03|   5|    2|       7|-0.00544662309368...| 16.748366013071887|  14.837690631808272|0.004661091947872453| 0.18300653594771243|  5.434640522875817|  0.0537713155415393|  5.072984749455337|   7.442265795206971| 1.2973856209150325| 0.03441707293449131|  1.9749455337690627|   3.249455337690631|  4.5816993464052285|-0.02375420847681975|  7.769063180827885|  -3.296296296296296| 3.6982570806100217|  2.0087145969498934|   5.706971677559913|  5.333333333333334| -2.485838779956424|  2.8474945533769045|-0.08584629254000453| 0.19783973412112255|  0.0780120190462843|  5.732026143790849|   7.796296296296296|  1.9803921568627452|  2.4651416122004353|   3.250544662309368|  0.1383442265795214|   2.014161220043573|  0.5925925925925926| -2.730936819172115|  3.6459694989106737|-11.0|\n",
            "|  2010| 1452| 1449|     1|       02|   3|   -3|       0| 0.09090909090909094| -6.818181818181813|  -6.151515151515149|0.003128434815183656| 0.12121212121212122|-2.6060606060606055| -0.0181654552102003| -3.424242424242422| -1.7272727272727302| 1.7575757575757578|0.010682069065486188|   4.727272727272728|  0.6666666666666661| -3.3636363636363633|-0.03130009401341...| -3.666666666666668| -3.3636363636363633| 2.0606060606060606|  -2.121212121212121|-0.06060606060605522|-1.1818181818181817|-1.4545454545454533| -2.6363636363636402| 0.33364716777280434|-0.02460496093780007| 0.09229481825159813| 1.6969696969696972|  0.5757575757575761|  -1.666666666666666| -0.1212121212121211| -1.0606060606060606|  -2.545454545454545| 0.06060606060606055| -0.5151515151515151|-3.2727272727272734|-0.45454545454545325| -9.0|\n",
            "|  2011| 1163| 1137|     1|       03|   1|    1|       2|-0.01471861471861...|  2.642424242424255|  2.9471861471861445|-0.00972596065148812| 0.14112554112554113| 1.4242424242424256|-0.01663551342718...|  5.390476190476193|  2.6476190476190453|-1.0502164502164506|-0.07077495243037535|   0.480519480519483|-0.04935064935064...|  0.8441558441558445|-0.03156012156092...| 1.9012987012987033|  -2.298701298701298|  6.277056277056277| -0.8268398268398265|   5.450216450216445|  2.858008658008659|-1.0995670995670999|   1.758441558441561|  0.3039138022799569|0.018143584135929647| 0.10345673225082574|-1.6129870129870127|  0.3324675324675326|  1.8709956709956712|  0.6865800865800873|  0.3792207792207787|  0.2034632034632029|  2.4467532467532473|  1.2848484848484847|-2.2138528138528137|  1.1939393939393952|-11.0|\n",
            "|  2013| 1112| 1217|     1|       06|   7|   -2|       5| 0.11458333333333337|  4.355324074074076| -0.5347222222222285| 0.07739681914444474| -0.0798611111111111| 2.3275462962962976|-0.03292983239531888|  8.619212962962962| -0.9791666666666679| 1.2858796296296298|-0.03796943796943797|   5.204861111111111|  1.0057870370370372| -1.5856481481481488|0.024310247747747815|-2.8912037037037024|  0.4178240740740744|  4.383101851851852|   2.755787037037038|   7.138888888888889|-0.9293981481481488| 0.7719907407407405|-0.15740740740740833|  0.5464678955833231| 0.09123925993735926| 0.24097804531864986| 0.7696759259259256| -0.6273148148148149|-0.43287037037037024|-0.06597222222222232| -0.5729166666666661| 0.15162037037037024|-0.24189814814814792| 0.04166666666666652| 1.2326388888888893| -1.8657407407407405| -8.0|\n",
            "|  2015| 1374| 1417|     0|       06|   6|   -7|      -1| 0.20643939393939392|           -2.59375|  -8.311553030303031| 0.10386684055153683|-0.02935606060606...|-1.0710227272727266|0.041987593016668046| -7.300189393939391| -3.3248106060606055| -1.993371212121212|-0.00347517730496...|   -5.37215909090909|-0.00473484848484...|   1.541666666666666|0.028862690707350924|  1.319128787878789| -1.6571969696969688|-1.0842803030303028| -0.5104166666666679| -1.5946969696969688|0.40719696969696884| -4.967803030303031|  -4.560606060606062|-0.15173580331783554|  0.2515762925598992| 0.11828216418360582| 1.6534090909090917| -1.2878787878787872|-0.06723484848484862|  0.2897727272727275|  0.5587121212121211| 0.05018939393939448| 0.30397727272727293|  0.1657196969696968| -1.597537878787879|  0.7528409090909101| -5.0|\n",
            "|  2016| 1320| 1401|     0|       11|  -5|    4|      -1|-0.12834224598930477| -8.366310160427801| -2.6203208556149775|-0.08473863907597456| -0.0285204991087344|-3.2834224598930497|0.004926410752869204| -7.869875222816404| 0.24331550802138935|0.41443850267379734|0.021530724794825262| -0.1541889483065937| -0.4126559714795013|  -2.213903743315509|  0.0811918151877965| -5.327094474153299| -2.6942959001782523| -7.459893048128343| -1.7254901960784323|  -9.185383244206776|-1.9670231729055256| 1.2959001782531203| -0.6711229946524071| -0.5684588066304186| -0.1255552096926743|-0.24681748810485693| -5.033868092691623| -0.7593582887700538| -1.1238859180035652|-0.39215686274509753|  -2.097147950089127| -2.3244206773618554| -1.1283422459893049|  -0.773618538324421|-2.7549019607843146|  -1.020499108734402|  8.0|\n",
            "|  2019| 1332| 1414|     1|       12|  -6|    7|       1|-0.19579831932773106|-1.9848739495798355| -0.6747899159663859|-0.01932198957878...| 0.02857142857142857|-1.6268907563025223|-0.00733984419974...|-2.6563025210083993| -0.5100840336134453| 0.8058823529411763|-0.01658727766053...|  3.2605042016806713|  0.8218487394957981| 0.46302521008403374|0.018767484893928654|0.20420168067226996| -0.4764705882352942|-1.9327731092436977| -3.6680672268907557|  -5.600840336134453|-0.6075630252100854|0.02857142857142847| -0.5789915966386587| -0.1287533273427035|-0.16081435271271105| -0.1500381802105939|0.10756302521008543|   2.503361344537815|  2.2714285714285714|  0.1403361344537819| 0.27058823529411846|   2.765546218487396|-0.03613445378151248| 0.03613445378151248|-0.7285714285714278| 0.12184873949579966| -1.0|\n",
            "|  2021| 1199| 1276|     0|       04|  -4|    2|      -2|-0.10606060606060608| 2.6590909090909065|   4.943181818181813|-0.04417604665045...| 0.04924242424242425|0.30681818181818343|-0.00936223604917...| 1.7840909090909065|-0.46969696969696884| 0.6856060606060597|0.003334070144414...|    1.59090909090909|  1.1931818181818183|  1.3598484848484844|-0.03979508196721304|  2.742424242424242|  4.6893939393939394| 2.3257575757575744| -2.8106060606060588| -0.4848484848484844| 2.3143939393939403|-1.3030303030303045|  1.0113636363636367|-0.01868260361179...|-0.05755959566839...|-0.05828444111054...|-0.8674242424242422|               1.375|   2.992424242424242|  2.3446969696969697|  3.4696969696969706|   4.090909090909092|  0.8446969696969697| 0.19696969696969724| 0.3371212121212128| -1.0795454545454541|  3.0|\n",
            "|  2005| 1153| 1246|     0|       07|  -1|    2|       1|-0.05913978494623662| 2.6860215053763454|   2.519354838709681|-0.00488913229833...| 0.03118279569892473|-0.9516129032258078|-0.02022576497156...|0.49247311827956963|  0.8430107526881727|0.07956989247311874|0.009526592635885456|-0.30107526881720403|  0.4655913978494626|   4.509677419354841|0.029399613662501878|  5.600000000000001| 0.36774193548387046| 1.6870967741935488|   4.164516129032261|   5.851612903225806| 2.8150537634408614|-0.3612903225806434|  2.4537634408602216| -0.0934728381374722| 0.20775945812873453| 0.09006848360712838|-0.2666666666666675|-0.06881720430107485| -3.9161290322580653|  0.7709677419354843| 0.41827956989247284|  -3.843010752688171|  2.4376344086021504|  -1.239784946236559| 0.8774193548387075|  3.7602150537634422|  5.0|\n",
            "+------+-----+-----+------+---------+----+-----+--------+--------------------+-------------------+--------------------+--------------------+--------------------+-------------------+--------------------+-------------------+--------------------+-------------------+--------------------+--------------------+--------------------+--------------------+--------------------+-------------------+--------------------+-------------------+--------------------+--------------------+-------------------+-------------------+--------------------+--------------------+--------------------+--------------------+-------------------+--------------------+--------------------+--------------------+--------------------+--------------------+--------------------+--------------------+-------------------+--------------------+-----+\n",
            "only showing top 20 rows\n",
            "\n"
          ]
        }
      ]
    },
    {
      "cell_type": "code",
      "source": [
        "# Assemble all the features with VectorAssembler\n",
        "required_features = ['WinRatio',\n",
        " 'PointsPerGame',\n",
        " 'PointsAllowedPerGame',\n",
        " 'PointsRatio',\n",
        " 'OTsPerGame',\n",
        " 'FGPerGame',\n",
        " 'FGRatio',\n",
        " 'FGAPerGame',\n",
        " 'FGAllowedPerGame',\n",
        " 'FG3PerGame',\n",
        " 'FG3Ratio',\n",
        " 'FG3APerGame',\n",
        " 'FG3AllowedPerGame',\n",
        " 'FTPerGame',\n",
        " 'FTRatio',\n",
        " 'FTAPerGame',\n",
        " 'FTAllowedPerGame',\n",
        " 'ORPerGame',\n",
        " 'DRPerGame',\n",
        " 'TRPerGame',\n",
        " 'OppORPerGame',\n",
        " 'OppDRPerGame',\n",
        " 'OppTRPerGame',\n",
        " 'ORRatio',\n",
        " 'DRRatio',\n",
        " 'TRRatio',\n",
        " 'AstPerGame',\n",
        " 'OppAstPerGame',\n",
        " 'StlPerGame',\n",
        " 'OppStlPerGame',\n",
        " 'TOPerGame',\n",
        " 'OppTOPerGame',\n",
        " 'BlkPerGame',\n",
        " 'OppBlkPerGame',\n",
        " 'PFPerGame',\n",
        " 'OppPFPerGame',\n",
        " 'Seed']\n",
        "from pyspark.ml.feature import VectorAssembler\n",
        "assembler = VectorAssembler(inputCols=required_features, outputCol='features')\n",
        "transformed_data = assembler.transform(outscores)"
      ],
      "metadata": {
        "id": "uGvcb_qyxout"
      },
      "execution_count": 93,
      "outputs": []
    },
    {
      "cell_type": "code",
      "source": [
        "transformed_data.show()"
      ],
      "metadata": {
        "colab": {
          "base_uri": "https://localhost:8080/"
        },
        "id": "5pGmn1hu2nAN",
        "outputId": "a12a9075-10c4-483d-db72-da47cf409e10"
      },
      "execution_count": 94,
      "outputs": [
        {
          "output_type": "stream",
          "name": "stdout",
          "text": [
            "+------+-----+-----+------+---------+----+-----+--------+--------------------+-------------------+--------------------+--------------------+--------------------+-------------------+--------------------+-------------------+--------------------+-------------------+--------------------+--------------------+--------------------+--------------------+--------------------+-------------------+--------------------+-------------------+--------------------+--------------------+-------------------+-------------------+--------------------+--------------------+--------------------+--------------------+-------------------+--------------------+--------------------+--------------------+--------------------+--------------------+--------------------+--------------------+-------------------+--------------------+-----+--------------------+\n",
            "|Season|Team1|Team2|Result|Team1Seed|Wins|Loses|NumGames|            WinRatio|      PointsPerGame|PointsAllowedPerGame|         PointsRatio|          OTsPerGame|          FGPerGame|             FGRatio|         FGAPerGame|    FGAllowedPerGame|         FG3PerGame|            FG3Ratio|         FG3APerGame|   FG3AllowedPerGame|           FTPerGame|             FTRatio|         FTAPerGame|    FTAllowedPerGame|          ORPerGame|           DRPerGame|           TRPerGame|       OppORPerGame|       OppDRPerGame|        OppTRPerGame|             ORRatio|             DRRatio|             TRRatio|         AstPerGame|       OppAstPerGame|          StlPerGame|       OppStlPerGame|           TOPerGame|        OppTOPerGame|          BlkPerGame|       OppBlkPerGame|          PFPerGame|        OppPFPerGame| Seed|            features|\n",
            "+------+-----+-----+------+---------+----+-----+--------+--------------------+-------------------+--------------------+--------------------+--------------------+-------------------+--------------------+-------------------+--------------------+-------------------+--------------------+--------------------+--------------------+--------------------+--------------------+-------------------+--------------------+-------------------+--------------------+--------------------+-------------------+-------------------+--------------------+--------------------+--------------------+--------------------+-------------------+--------------------+--------------------+--------------------+--------------------+--------------------+--------------------+--------------------+-------------------+--------------------+-----+--------------------+\n",
            "|  2005| 1242| 1137|     0|       03|   1|   -3|      -2| 0.08342602892102335| 11.867630700778648|   6.789766407119018| 0.06869985858896999| 0.10567296996662959|  5.672969966629587|0.031530706530706554|   8.74082313681869|  2.5228031145717438|0.18020022246941014|-0.00304072838476...|   0.626251390433815|  0.2758620689655169| 0.34149054505005516|-0.00810870370926...| 0.7385984427141246|  1.4682981090100107| 2.4382647385984413|  3.5461624026696335|   5.984427141268078|   2.03225806451613| 1.1535038932146833|  3.1857619577308114|0.054220627242939634| 0.10606317847404445| 0.07968061371290713|  4.134593993325916| 0.20355951056729715| -1.3793103448275863| 0.07119021134594039| -1.2914349276974413| -1.7675194660734146|  0.8620689655172415|  0.3114571746384871| 0.3704115684093452|  0.8509454949944377|-11.0|[0.08342602892102...|\n",
            "|  2008| 1280| 1272|     0|       08| -11|    9|      -2|-0.28308823529411764|  -6.58272058823529|   4.444852941176471|-0.19097147938873027| 0.09558823529411764| -2.670955882352942|-0.00464305435039...| -5.170955882352942|   1.477941176470587|-0.9724264705882355|-0.01586171894597...| -1.8327205882352935|   2.115808823529412|-0.26838235294117574|0.048017607820320496| -2.196691176470587| -0.6268382352941178| -1.898897058823529|  1.9797794117647065| 0.08088235294117396| 2.8455882352941178| -0.735294117647058|   2.110294117647058| -0.3993693693693694| 0.12550984528832632|-0.06684659970797746| -2.810661764705884|   0.851102941176471| -2.7058823529411757|  0.8382352941176467|  3.0753676470588243| -3.8694852941176485|  1.8492647058823533|-0.01838235294117...|-0.8786764705882355| -0.3805147058823515|  7.0|[-0.2830882352941...|\n",
            "|  2009| 1320| 1345|     0|       12|  -2|    1|      -1|-0.03832442067736186|-1.6559714795008915|   4.427807486631018|-0.10780290251176172| 0.09358288770053476| -2.217468805704101|0.008872608872608878| -5.951871657754012|  1.1559714795008915|-0.3422459893048133|-0.00423457730388...| -0.7540106951871657|  1.6229946524064172|   3.121212121212121|0.051999811708587695|  2.865418894830661|  0.4928698752228158|-1.0098039215686274| 0.28966131907308323| -0.7201426024955424|-2.3556149732620337|-1.7495543672014264|  -4.105169340463458| 0.11378128274808619| 0.09930378732572431| 0.11011151306189204| -2.905525846702316| -0.1737967914438503| -2.9928698752228167| -0.4153297682709445|-0.04099821746880572|  -4.450980392156863| -2.3992869875222813| -0.7005347593582889| 0.7682709447415341|   2.313725490196081|  7.0|[-0.0383244206773...|\n",
            "|  2014| 1276| 1246|     0|       02|   1|   -2|      -1| 0.05169340463458105| -1.517825311942957| -1.2834224598930462|-8.56629271228870...|-0.02762923351158...|0.42959001782531203| 0.02454949018602154| -1.975935828877006|  1.1274509803921546| 3.3966131907308377| 0.06862356312722734|  5.8983957219251355|  0.2834224598930488|  -5.773618538324419| 0.07902853449071934|-10.696969696969695| -3.8217468805704105|-5.7985739750445635| -3.5606060606060623|  -9.359180035650624|-2.0204991087344037| 1.6978609625668426| -0.3226381461675558| -0.3423664283599137|-0.26726632628610414|-0.28796867671200754|  2.712121212121213|  1.5570409982174684|    0.35650623885918| -0.7344028520499108| -2.8119429590017813|-0.03030303030303...| -3.7201426024955437| -0.6024955436720143| -4.454545454545455|  -5.345811051693406| -6.0|[0.05169340463458...|\n",
            "|  2019| 1387| 1439|     0|       13|  -1|    4|       3|-0.09285714285714286| -6.942857142857136|  1.6491071428571402| -0.1397517300372637|            -0.03125|-1.8642857142857139|-0.05747605308713216|  2.986607142857146|  0.6660714285714278| -3.850892857142857|-0.08581278499255773|   -5.71517857142857| -2.3866071428571427|  0.6366071428571427|-0.16006802642386941|  5.625892857142858|   2.703571428571429|  4.922321428571429|   2.255357142857143|   7.177678571428572|-0.1374999999999993| 3.4571428571428555|    3.31964285714286|  0.5749250749250749|-0.06722852692478853| 0.10714977508985646|-2.3723214285714285| 0.04374999999999929|  0.4294642857142854|  0.8517857142857146|  1.3392857142857135| -1.1223214285714285|   1.744642857142857|  1.0080357142857141|  2.204464285714284|  2.5446428571428577|  9.0|[-0.0928571428571...|\n",
            "|  2003| 1181| 1161|     1|       03|   7|   -7|       0|  0.2333333333333334|  7.966666666666669| -2.2666666666666657| 0.14595061857103153| 0.03333333333333333| 0.9666666666666686|-0.05312669006691334|  8.233333333333334| -0.7666666666666657|  3.133333333333333|-0.00712533691465...|   9.033333333333335| -0.7000000000000002|  2.8999999999999986|0.008476677716582781| 3.8000000000000007|-0.03333333333333...|  2.966666666666667| -0.3666666666666636|  2.6000000000000014| 0.1999999999999993| 3.5666666666666664|  3.7666666666666693|  0.2284153005464481|-0.21015067406819998|-0.04463108610386679| -1.666666666666666| -0.8999999999999986|   3.166666666666667| -2.5999999999999996| -2.0999999999999996|                 5.6|  0.9000000000000004|  1.0333333333333328| 0.6999999999999993|  1.8999999999999986|-11.0|[0.23333333333333...|\n",
            "|  2003| 1443| 1228|     0|       13|  -1|    2|       1|-0.05806451612903...|-2.3365591397849528|   5.019354838709681|-0.12802167755870664| 0.03225806451612903|-1.3903225806451616|-0.02576694856537...| 0.1032258064516185|   3.956989247311828| 0.2763440860215054|-0.00203062414439...|  0.8655913978494603| -1.0870967741935482|  0.1677419354838694|-0.06043357830187168| 1.9967741935483865| -1.8075268817204293| 2.4279569892473134| -2.1419354838709666| 0.28602150537634685|0.22150537634408707|0.41290322580645267|  0.6344086021505362| 0.19677123026673926|-0.12199380456209519|-0.01223394597211...| -4.073118279569892|  0.9666666666666668| 0.06451612903225801|  0.2677419354838708|  1.9946236559139798|   0.908602150537634|  0.4483870967741934|0.048387096774193505| -0.681720430107525|  1.2193548387096769|  9.0|[-0.0580645161290...|\n",
            "|  2004| 1196| 1264|     0|       05|  -4|    5|       1|-0.16091954022988508|  2.621839080459779|   5.685057471264372|-0.05843151230556365| 0.06666666666666667| 2.5540229885057464|  0.0410772239870989| 0.5931034482758619|   2.241379310344829| 2.4413793103448267|0.011788219937999667|   5.944827586206898|   2.211494252873563|  -4.927586206896551|-0.00705202620658...| -6.303448275862067| -1.0091954022988503| -1.939080459770116|    2.24367816091954| 0.30459770114942586| 1.1758620689655181|-0.8999999999999986|   0.275862068965516|-0.24495364037087708| 0.15032660317837632| 5.71394201852593E-4| 5.4735632183908045|   3.293103448275861|  -2.914942528735633|  1.0919540229885056|   1.666666666666666|  -3.364367816091953|  -1.039080459770115| -1.1425287356321836|-1.4436781609195393| -2.2057471264367834| -7.0|[-0.1609195402298...|\n",
            "|  2004| 1329| 1386|     1|       02|  -1|    2|       1|-0.06773399014778325|0.42118226600985054|   2.396551724137929|-0.04084721827867...| 0.10344827586206896| 1.7179802955665053|0.034235544983564625|-0.4408866995073879|  0.7549261083743843| -4.922413793103448| -0.0284770612639465| -11.205665024630543|  0.6403940886699502|  1.9076354679802954|-0.00736767819336...| 2.9495073891625623| 0.24630541871921174| 1.7007389162561566|  0.9224137931034484|  2.6231527093596014|-1.9876847290640391| -3.346059113300491|  -5.333743842364534| 0.26690727717711205| 0.21836842748340324| 0.23645295396141364|-0.4667487684729039| 0.49507389162561566| -1.2807881773399012| -0.7142857142857144|  1.7339901477832527| -1.0197044334975391| 0.01477832512315258|  0.7105911330049262|  2.378078817733993|  2.3805418719211815|  1.0|[-0.0677339901477...|\n",
            "|  2006| 1196| 1206|     1|       03|   4|   -1|       3|0.051515151515151514|   9.87272727272726|   5.954545454545446| 0.04397003368163288|-0.03636363636363636| 1.9030303030303024|0.024368721246012026|  1.193939393939388|  2.3121212121212125|   1.46060606060606|0.042405511886441816|  1.8909090909090907| 0.18787878787878753|  4.6060606060606055| 0.06668092535576264| 4.6393939393939405|  1.1424242424242426| 0.5060606060606059|-0.16363636363636402| 0.34242424242424363| 0.9666666666666668|-1.1696969696969717|-0.20303030303030312|-0.02861218990251...| 0.06227082821332042|0.017553729066771995|  1.863636363636365|  0.3333333333333339|  0.7303030303030313|  0.8454545454545457|  1.6787878787878796|    2.33939393939394|  1.4060606060606062| -1.1333333333333333| 0.7212121212121207|   2.345454545454544| -8.0|[0.05151515151515...|\n",
            "|  2009| 1257| 1287|     1|       01|  11|  -10|       1|  0.3172348484848485|  4.595643939393938|  -7.081439393939391| 0.19064261343876976|-0.03219696969696...|  3.069128787878789|0.015583991036215383|  4.924242424242422| -1.0681818181818166| 2.9668560606060606|0.033124367388252196|   6.801136363636363|  -1.944128787878788|  -4.509469696969697|-0.08066838298498613| -4.097537878787879|  -3.000946969696969|-0.9867424242424239|  0.6117424242424256|              -0.375|  1.503787878787879| 2.8238636363636367|   4.327651515151516|-0.24855544627489556|-0.11655116655116671|   -0.16049505153652|  4.169507575757574|  -1.520833333333334|  2.8664772727272734|-0.05397727272727...|  -1.739583333333334|  4.0189393939393945|  2.2130681818181817| -0.5719696969696968|-2.0672348484848477| -2.3731060606060623|-15.0|[0.31723484848484...|\n",
            "|  2009| 1393| 1372|     1|       03|   5|    2|       7|-0.00544662309368...| 16.748366013071887|  14.837690631808272|0.004661091947872453| 0.18300653594771243|  5.434640522875817|  0.0537713155415393|  5.072984749455337|   7.442265795206971| 1.2973856209150325| 0.03441707293449131|  1.9749455337690627|   3.249455337690631|  4.5816993464052285|-0.02375420847681975|  7.769063180827885|  -3.296296296296296| 3.6982570806100217|  2.0087145969498934|   5.706971677559913|  5.333333333333334| -2.485838779956424|  2.8474945533769045|-0.08584629254000453| 0.19783973412112255|  0.0780120190462843|  5.732026143790849|   7.796296296296296|  1.9803921568627452|  2.4651416122004353|   3.250544662309368|  0.1383442265795214|   2.014161220043573|  0.5925925925925926| -2.730936819172115|  3.6459694989106737|-11.0|[-0.0054466230936...|\n",
            "|  2010| 1452| 1449|     1|       02|   3|   -3|       0| 0.09090909090909094| -6.818181818181813|  -6.151515151515149|0.003128434815183656| 0.12121212121212122|-2.6060606060606055| -0.0181654552102003| -3.424242424242422| -1.7272727272727302| 1.7575757575757578|0.010682069065486188|   4.727272727272728|  0.6666666666666661| -3.3636363636363633|-0.03130009401341...| -3.666666666666668| -3.3636363636363633| 2.0606060606060606|  -2.121212121212121|-0.06060606060605522|-1.1818181818181817|-1.4545454545454533| -2.6363636363636402| 0.33364716777280434|-0.02460496093780007| 0.09229481825159813| 1.6969696969696972|  0.5757575757575761|  -1.666666666666666| -0.1212121212121211| -1.0606060606060606|  -2.545454545454545| 0.06060606060606055| -0.5151515151515151|-3.2727272727272734|-0.45454545454545325| -9.0|[0.09090909090909...|\n",
            "|  2011| 1163| 1137|     1|       03|   1|    1|       2|-0.01471861471861...|  2.642424242424255|  2.9471861471861445|-0.00972596065148812| 0.14112554112554113| 1.4242424242424256|-0.01663551342718...|  5.390476190476193|  2.6476190476190453|-1.0502164502164506|-0.07077495243037535|   0.480519480519483|-0.04935064935064...|  0.8441558441558445|-0.03156012156092...| 1.9012987012987033|  -2.298701298701298|  6.277056277056277| -0.8268398268398265|   5.450216450216445|  2.858008658008659|-1.0995670995670999|   1.758441558441561|  0.3039138022799569|0.018143584135929647| 0.10345673225082574|-1.6129870129870127|  0.3324675324675326|  1.8709956709956712|  0.6865800865800873|  0.3792207792207787|  0.2034632034632029|  2.4467532467532473|  1.2848484848484847|-2.2138528138528137|  1.1939393939393952|-11.0|[-0.0147186147186...|\n",
            "|  2013| 1112| 1217|     1|       06|   7|   -2|       5| 0.11458333333333337|  4.355324074074076| -0.5347222222222285| 0.07739681914444474| -0.0798611111111111| 2.3275462962962976|-0.03292983239531888|  8.619212962962962| -0.9791666666666679| 1.2858796296296298|-0.03796943796943797|   5.204861111111111|  1.0057870370370372| -1.5856481481481488|0.024310247747747815|-2.8912037037037024|  0.4178240740740744|  4.383101851851852|   2.755787037037038|   7.138888888888889|-0.9293981481481488| 0.7719907407407405|-0.15740740740740833|  0.5464678955833231| 0.09123925993735926| 0.24097804531864986| 0.7696759259259256| -0.6273148148148149|-0.43287037037037024|-0.06597222222222232| -0.5729166666666661| 0.15162037037037024|-0.24189814814814792| 0.04166666666666652| 1.2326388888888893| -1.8657407407407405| -8.0|[0.11458333333333...|\n",
            "|  2015| 1374| 1417|     0|       06|   6|   -7|      -1| 0.20643939393939392|           -2.59375|  -8.311553030303031| 0.10386684055153683|-0.02935606060606...|-1.0710227272727266|0.041987593016668046| -7.300189393939391| -3.3248106060606055| -1.993371212121212|-0.00347517730496...|   -5.37215909090909|-0.00473484848484...|   1.541666666666666|0.028862690707350924|  1.319128787878789| -1.6571969696969688|-1.0842803030303028| -0.5104166666666679| -1.5946969696969688|0.40719696969696884| -4.967803030303031|  -4.560606060606062|-0.15173580331783554|  0.2515762925598992| 0.11828216418360582| 1.6534090909090917| -1.2878787878787872|-0.06723484848484862|  0.2897727272727275|  0.5587121212121211| 0.05018939393939448| 0.30397727272727293|  0.1657196969696968| -1.597537878787879|  0.7528409090909101| -5.0|[0.20643939393939...|\n",
            "|  2016| 1320| 1401|     0|       11|  -5|    4|      -1|-0.12834224598930477| -8.366310160427801| -2.6203208556149775|-0.08473863907597456| -0.0285204991087344|-3.2834224598930497|0.004926410752869204| -7.869875222816404| 0.24331550802138935|0.41443850267379734|0.021530724794825262| -0.1541889483065937| -0.4126559714795013|  -2.213903743315509|  0.0811918151877965| -5.327094474153299| -2.6942959001782523| -7.459893048128343| -1.7254901960784323|  -9.185383244206776|-1.9670231729055256| 1.2959001782531203| -0.6711229946524071| -0.5684588066304186| -0.1255552096926743|-0.24681748810485693| -5.033868092691623| -0.7593582887700538| -1.1238859180035652|-0.39215686274509753|  -2.097147950089127| -2.3244206773618554| -1.1283422459893049|  -0.773618538324421|-2.7549019607843146|  -1.020499108734402|  8.0|[-0.1283422459893...|\n",
            "|  2019| 1332| 1414|     1|       12|  -6|    7|       1|-0.19579831932773106|-1.9848739495798355| -0.6747899159663859|-0.01932198957878...| 0.02857142857142857|-1.6268907563025223|-0.00733984419974...|-2.6563025210083993| -0.5100840336134453| 0.8058823529411763|-0.01658727766053...|  3.2605042016806713|  0.8218487394957981| 0.46302521008403374|0.018767484893928654|0.20420168067226996| -0.4764705882352942|-1.9327731092436977| -3.6680672268907557|  -5.600840336134453|-0.6075630252100854|0.02857142857142847| -0.5789915966386587| -0.1287533273427035|-0.16081435271271105| -0.1500381802105939|0.10756302521008543|   2.503361344537815|  2.2714285714285714|  0.1403361344537819| 0.27058823529411846|   2.765546218487396|-0.03613445378151248| 0.03613445378151248|-0.7285714285714278| 0.12184873949579966| -1.0|[-0.1957983193277...|\n",
            "|  2021| 1199| 1276|     0|       04|  -4|    2|      -2|-0.10606060606060608| 2.6590909090909065|   4.943181818181813|-0.04417604665045...| 0.04924242424242425|0.30681818181818343|-0.00936223604917...| 1.7840909090909065|-0.46969696969696884| 0.6856060606060597|0.003334070144414...|    1.59090909090909|  1.1931818181818183|  1.3598484848484844|-0.03979508196721304|  2.742424242424242|  4.6893939393939394| 2.3257575757575744| -2.8106060606060588| -0.4848484848484844| 2.3143939393939403|-1.3030303030303045|  1.0113636363636367|-0.01868260361179...|-0.05755959566839...|-0.05828444111054...|-0.8674242424242422|               1.375|   2.992424242424242|  2.3446969696969697|  3.4696969696969706|   4.090909090909092|  0.8446969696969697| 0.19696969696969724| 0.3371212121212128| -1.0795454545454541|  3.0|[-0.1060606060606...|\n",
            "|  2005| 1153| 1246|     0|       07|  -1|    2|       1|-0.05913978494623662| 2.6860215053763454|   2.519354838709681|-0.00488913229833...| 0.03118279569892473|-0.9516129032258078|-0.02022576497156...|0.49247311827956963|  0.8430107526881727|0.07956989247311874|0.009526592635885456|-0.30107526881720403|  0.4655913978494626|   4.509677419354841|0.029399613662501878|  5.600000000000001| 0.36774193548387046| 1.6870967741935488|   4.164516129032261|   5.851612903225806| 2.8150537634408614|-0.3612903225806434|  2.4537634408602216| -0.0934728381374722| 0.20775945812873453| 0.09006848360712838|-0.2666666666666675|-0.06881720430107485| -3.9161290322580653|  0.7709677419354843| 0.41827956989247284|  -3.843010752688171|  2.4376344086021504|  -1.239784946236559| 0.8774193548387075|  3.7602150537634422|  5.0|[-0.0591397849462...|\n",
            "+------+-----+-----+------+---------+----+-----+--------+--------------------+-------------------+--------------------+--------------------+--------------------+-------------------+--------------------+-------------------+--------------------+-------------------+--------------------+--------------------+--------------------+--------------------+--------------------+-------------------+--------------------+-------------------+--------------------+--------------------+-------------------+-------------------+--------------------+--------------------+--------------------+--------------------+-------------------+--------------------+--------------------+--------------------+--------------------+--------------------+--------------------+--------------------+-------------------+--------------------+-----+--------------------+\n",
            "only showing top 20 rows\n",
            "\n"
          ]
        }
      ]
    },
    {
      "cell_type": "code",
      "source": [
        "(training_data, test_data) = transformed_data.randomSplit([0.8,0.2])"
      ],
      "metadata": {
        "id": "2HgrfXIt2ni3"
      },
      "execution_count": 95,
      "outputs": []
    },
    {
      "cell_type": "code",
      "source": [
        "from pyspark.ml.classification import LogisticRegression\n",
        "lr = LogisticRegression(featuresCol = 'features', labelCol='Result', maxIter=10, regParam=0.3, elasticNetParam=0.8)\n",
        "lrModel = lr.fit(training_data)\n",
        "print(\"Coefficients: \" + str(lrModel.coefficients))\n",
        "print(\"Intercept: \" + str(lrModel.intercept))"
      ],
      "metadata": {
        "colab": {
          "base_uri": "https://localhost:8080/"
        },
        "id": "Gkq1Tqbj2pyL",
        "outputId": "a736e14f-904c-46c7-8169-2670b0d8b926"
      },
      "execution_count": 100,
      "outputs": [
        {
          "output_type": "stream",
          "name": "stdout",
          "text": [
            "Coefficients: (37,[],[])\n",
            "Intercept: 0.001091107582334557\n"
          ]
        }
      ]
    },
    {
      "cell_type": "code",
      "source": [
        "trainingSummary = lrModel.summary\n",
        "# Print the coefficients and intercept for multinomial logistic regression\n",
        "print(\"Coefficients: \\n\" + str(lrModel.coefficientMatrix))\n",
        "print(\"Intercept: \" + str(lrModel.interceptVector))\n",
        "\n",
        "trainingSummary = lrModel.summary\n",
        "\n",
        "# Obtain the objective per iteration\n",
        "objectiveHistory = trainingSummary.objectiveHistory\n",
        "print(\"objectiveHistory:\")\n",
        "for objective in objectiveHistory:\n",
        "    print(objective)\n",
        "\n",
        "# for multiclass, we can inspect metrics on a per-label basis\n",
        "print(\"False positive rate by label:\")\n",
        "for i, rate in enumerate(trainingSummary.falsePositiveRateByLabel):\n",
        "    print(\"label %d: %s\" % (i, rate))\n",
        "\n",
        "print(\"True positive rate by label:\")\n",
        "for i, rate in enumerate(trainingSummary.truePositiveRateByLabel):\n",
        "    print(\"label %d: %s\" % (i, rate))\n",
        "\n",
        "print(\"Precision by label:\")\n",
        "for i, prec in enumerate(trainingSummary.precisionByLabel):\n",
        "    print(\"label %d: %s\" % (i, prec))\n",
        "\n",
        "print(\"Recall by label:\")\n",
        "for i, rec in enumerate(trainingSummary.recallByLabel):\n",
        "    print(\"label %d: %s\" % (i, rec))\n",
        "\n",
        "print(\"F-measure by label:\")\n",
        "for i, f in enumerate(trainingSummary.fMeasureByLabel()):\n",
        "    print(\"label %d: %s\" % (i, f))\n",
        "\n",
        "accuracy = trainingSummary.accuracy\n",
        "falsePositiveRate = trainingSummary.weightedFalsePositiveRate\n",
        "truePositiveRate = trainingSummary.weightedTruePositiveRate\n",
        "fMeasure = trainingSummary.weightedFMeasure()\n",
        "precision = trainingSummary.weightedPrecision\n",
        "recall = trainingSummary.weightedRecall\n",
        "print(\"Accuracy: %s\\nFPR: %s\\nTPR: %s\\nF-measure: %s\\nPrecision: %s\\nRecall: %s\"\n",
        "      % (accuracy, falsePositiveRate, truePositiveRate, fMeasure, precision, recall))"
      ],
      "metadata": {
        "colab": {
          "base_uri": "https://localhost:8080/"
        },
        "id": "bKEp5JdYnLm5",
        "outputId": "21943a8b-4bf5-4682-f4c0-5cda11d5723b"
      },
      "execution_count": 102,
      "outputs": [
        {
          "output_type": "stream",
          "name": "stdout",
          "text": [
            "Coefficients: \n",
            "1 X 37 CSRMatrix\n",
            "\n",
            "Intercept: [0.001091107582334557]\n",
            "objectiveHistory:\n",
            "0.6931470317454949\n",
            "False positive rate by label:\n",
            "label 0: 0.0\n",
            "label 1: 1.0\n",
            "True positive rate by label:\n",
            "label 0: 0.0\n",
            "label 1: 1.0\n",
            "Precision by label:\n",
            "label 0: 0.0\n",
            "label 1: 0.5002727768685216\n",
            "Recall by label:\n",
            "label 0: 0.0\n",
            "label 1: 1.0\n",
            "F-measure by label:\n",
            "label 0: 0.0\n",
            "label 1: 0.6669090909090909\n",
            "Accuracy: 0.5002727768685216\n",
            "FPR: 0.5002727768685216\n",
            "TPR: 0.5002727768685216\n",
            "F-measure: 0.3336364628279522\n",
            "Precision: 0.25027285127574156\n",
            "Recall: 0.5002727768685216\n"
          ]
        }
      ]
    },
    {
      "cell_type": "markdown",
      "source": [
        "# TO DO\n",
        "\n",
        "1.   Get 2022 seeds\n",
        "2.   Break off 2022\n",
        "3.   Make Model\n",
        "\n"
      ],
      "metadata": {
        "id": "ktQUUrrUzE3S"
      }
    }
  ],
  "metadata": {
    "colab": {
      "name": "FinalProject.ipynb",
      "provenance": [],
      "collapsed_sections": [
        "VMwv7b_M6nxw",
        "JttbqUXL_gYp",
        "6RwqudsixElg",
        "5nWnumC2_kTJ"
      ],
      "authorship_tag": "ABX9TyMKxk+7YRdI5ig8Udg1rmP3",
      "include_colab_link": true
    },
    "kernelspec": {
      "display_name": "Python 3",
      "name": "python3"
    },
    "language_info": {
      "name": "python"
    }
  },
  "nbformat": 4,
  "nbformat_minor": 0
}