{
  "cells": [
    {
      "cell_type": "markdown",
      "metadata": {
        "id": "view-in-github",
        "colab_type": "text"
      },
      "source": [
        "<a href=\"https://colab.research.google.com/github/andrewmarion/MarchMadness/blob/main/FinalProject.ipynb\" target=\"_parent\"><img src=\"https://colab.research.google.com/assets/colab-badge.svg\" alt=\"Open In Colab\"/></a>"
      ]
    },
    {
      "cell_type": "markdown",
      "metadata": {
        "id": "_r8xWz3M_ZR1"
      },
      "source": [
        "# March Madness\n",
        "## Final Project\n",
        "### Group 15: Andrew Marion, Dallas Hutchinson, Aydan Koyles\n"
      ]
    },
    {
      "cell_type": "markdown",
      "metadata": {
        "id": "VMwv7b_M6nxw"
      },
      "source": [
        "# Setting Up File"
      ]
    },
    {
      "cell_type": "code",
      "execution_count": 118,
      "metadata": {
        "id": "XFeSHdrg4QCK"
      },
      "outputs": [],
      "source": [
        "!apt-get install openjdk-8-jdk-headless -qq > /dev/null\n",
        "!wget -q https://archive.apache.org/dist/spark/spark-3.2.0/spark-3.2.0-bin-hadoop3.2.tgz\n",
        "!tar xf spark-3.2.0-bin-hadoop3.2.tgz\n",
        "!pip install -q findspark"
      ]
    },
    {
      "cell_type": "code",
      "execution_count": 119,
      "metadata": {
        "id": "Iyz-0-no4f6U",
        "colab": {
          "base_uri": "https://localhost:8080/"
        },
        "outputId": "cc150d0b-86f8-451b-94e2-a079f8e1260b"
      },
      "outputs": [
        {
          "output_type": "stream",
          "name": "stdout",
          "text": [
            "Drive already mounted at /content/gdrive; to attempt to forcibly remount, call drive.mount(\"/content/gdrive\", force_remount=True).\n"
          ]
        }
      ],
      "source": [
        "from google.colab import drive\n",
        "\n",
        "drive.mount('/content/gdrive')"
      ]
    },
    {
      "cell_type": "code",
      "execution_count": 120,
      "metadata": {
        "id": "Sf6DkghV4ikT"
      },
      "outputs": [],
      "source": [
        "import os\n",
        "os.environ[\"JAVA_HOME\"] = \"/usr/lib/jvm/java-8-openjdk-amd64\"\n",
        "os.environ[\"SPARK_HOME\"] = \"spark-3.2.0-bin-hadoop3.2\""
      ]
    },
    {
      "cell_type": "code",
      "execution_count": 121,
      "metadata": {
        "id": "nBXgfIgm4kBS"
      },
      "outputs": [],
      "source": [
        "import findspark\n",
        "findspark.init()"
      ]
    },
    {
      "cell_type": "code",
      "execution_count": 122,
      "metadata": {
        "colab": {
          "base_uri": "https://localhost:8080/",
          "height": 0
        },
        "id": "gHPsL6db5j-7",
        "outputId": "c4b73e10-a6e5-448c-ad16-9ef44463a8b2"
      },
      "outputs": [
        {
          "output_type": "execute_result",
          "data": {
            "text/plain": [
              "<SparkContext master=local[*] appName=pyspark-shell>"
            ],
            "text/html": [
              "\n",
              "        <div>\n",
              "            <p><b>SparkContext</b></p>\n",
              "\n",
              "            <p><a href=\"http://5a4e301e6400:4040\">Spark UI</a></p>\n",
              "\n",
              "            <dl>\n",
              "              <dt>Version</dt>\n",
              "                <dd><code>v3.2.0</code></dd>\n",
              "              <dt>Master</dt>\n",
              "                <dd><code>local[*]</code></dd>\n",
              "              <dt>AppName</dt>\n",
              "                <dd><code>pyspark-shell</code></dd>\n",
              "            </dl>\n",
              "        </div>\n",
              "        "
            ]
          },
          "metadata": {},
          "execution_count": 122
        }
      ],
      "source": [
        "from pyspark.sql import SparkSession\n",
        "spark = SparkSession.builder.master(\"local[*]\").getOrCreate()\n",
        "sc = spark.sparkContext\n",
        "sc"
      ]
    },
    {
      "cell_type": "markdown",
      "metadata": {
        "id": "JttbqUXL_gYp"
      },
      "source": [
        "# Imports"
      ]
    },
    {
      "cell_type": "code",
      "execution_count": 123,
      "metadata": {
        "id": "iAcoi-tS5m_s"
      },
      "outputs": [],
      "source": [
        "import json\n",
        "from pyspark.mllib.classification import LogisticRegressionModel,LogisticRegressionWithLBFGS, SVMWithSGD, SVMModel\n",
        "from pyspark.mllib.regression import LabeledPoint, LinearRegressionWithSGD, LinearRegressionModel\n",
        "from pyspark.mllib.clustering import *\n",
        "import pyspark.sql\n",
        "from pyspark.sql import Row\n",
        "from pyspark.sql.types import *\n",
        "from pyspark.sql import SparkSession\n",
        "from pyspark.mllib.stat import Statistics\n",
        "from pyspark.ml.linalg import Vectors\n",
        "from pyspark.ml.stat import Correlation\n",
        "from pyspark.ml.clustering import LDA\n",
        "import numpy as np\n",
        "import pyspark.sql.functions as f\n",
        "from pyspark.sql.functions import lit"
      ]
    },
    {
      "cell_type": "markdown",
      "metadata": {
        "id": "6RwqudsixElg"
      },
      "source": [
        "# Read in csv file"
      ]
    },
    {
      "cell_type": "code",
      "execution_count": 124,
      "metadata": {
        "id": "nPFml9US6Vsk"
      },
      "outputs": [],
      "source": [
        "RegularSeason = spark.read.option(\"header\",True).csv(\"/content/gdrive/MyDrive/MDataFiles_Stage1/MRegularSeasonDetailedResults.csv\", inferSchema = True)\n",
        "Seeds = spark.read.option(\"header\",True).csv(\"/content/gdrive/MyDrive/MDataFiles_Stage1/MNCAATourneySeeds.csv\", inferSchema = True)\n",
        "Tourney = spark.read.option(\"header\",True).csv(\"/content/gdrive/MyDrive/MDataFiles_Stage1/MNCAATourneyDetailedResults.csv\", inferSchema = True)\n",
        "Massey = spark.read.option(\"header\",True).csv(\"/content/gdrive/MyDrive/MDataFiles_Stage1/MMasseyOrdinals.csv\", inferSchema = True)\n",
        "Conferences = spark.read.option(\"header\",True).csv(\"/content/gdrive/MyDrive/MDataFiles_Stage1/MNCAATourneySeeds.csv\", inferSchema = True)\n",
        "Coaches = spark.read.option(\"header\",True).csv(\"/content/gdrive/MyDrive/MDataFiles_Stage1/MTeamCoaches.csv\", inferSchema = True)\n",
        "TourneyCompact = spark.read.option(\"header\",True).csv(\"/content/gdrive/MyDrive/MDataFiles_Stage1/MNCAATourneyCompactResults.csv\", inferSchema = True)\n"
      ]
    },
    {
      "cell_type": "markdown",
      "metadata": {
        "id": "5nWnumC2_kTJ"
      },
      "source": [
        "# Clean / Explore Data"
      ]
    },
    {
      "cell_type": "markdown",
      "source": [
        "## Season Input"
      ],
      "metadata": {
        "id": "8hnp-xo1s9cO"
      }
    },
    {
      "cell_type": "code",
      "execution_count": 125,
      "metadata": {
        "id": "Th6pwnvVqQIu"
      },
      "outputs": [],
      "source": [
        "WinTeams = RegularSeason.groupBy('Season', 'WTeamID').sum('WScore','LScore','NumOT','WFGM','WFGA','WFGM3','WFGA3','WFTM','WFTA','WOR','WDR','WAst','WTO','WStl','WBlk','WPF','LFGM','LFGA','LFGM3','LFGA3','LFTM','LFTA','LOR','LDR','LAst','LTO','LStl','LBlk','LPF')\n",
        "LoseTeams = RegularSeason.groupBy('Season', 'LTeamID').sum('WScore','LScore','NumOT','WFGM','WFGA','WFGM3','WFGA3','WFTM','WFTA','WOR','WDR','WAst','WTO','WStl','WBlk','WPF','LFGM','LFGA','LFGM3','LFGA3','LFTM','LFTA','LOR','LDR','LAst','LTO','LStl','LBlk','LPF')"
      ]
    },
    {
      "cell_type": "code",
      "execution_count": 126,
      "metadata": {
        "colab": {
          "base_uri": "https://localhost:8080/"
        },
        "id": "5RwYbtfmX9Kr",
        "outputId": "5b2ee6e2-07c4-436f-d58d-7da063111640"
      },
      "outputs": [
        {
          "output_type": "stream",
          "name": "stdout",
          "text": [
            "+------+------+----+-----+--------+\n",
            "|Season|TeamID|Wins|Loses|NumGames|\n",
            "+------+------+----+-----+--------+\n",
            "|  2003|  1226|  13|   14|      27|\n",
            "|  2003|  1189|  10|   15|      25|\n",
            "|  2009|  1401|  23|    9|      32|\n",
            "|  2011|  1431|  24|    9|      33|\n",
            "|  2006|  1173|  13|   17|      30|\n",
            "|  2006|  1153|  18|   12|      30|\n",
            "|  2007|  1275|  18|   14|      32|\n",
            "|  2007|  1175|  20|   12|      32|\n",
            "|  2008|  1145|   6|   25|      31|\n",
            "|  2008|  1313|  16|   15|      31|\n",
            "|  2008|  1229|  23|    9|      32|\n",
            "|  2008|  1325|  19|   12|      31|\n",
            "|  2009|  1286|  13|   17|      30|\n",
            "|  2009|  1189|   9|   20|      29|\n",
            "|  2009|  1267|  12|   17|      29|\n",
            "|  2012|  1334|   9|   19|      28|\n",
            "|  2013|  1158|  24|    9|      33|\n",
            "|  2013|  1104|  20|   12|      32|\n",
            "|  2015|  1165|  12|   17|      29|\n",
            "|  2015|  1337|  17|   13|      30|\n",
            "+------+------+----+-----+--------+\n",
            "only showing top 20 rows\n",
            "\n"
          ]
        }
      ],
      "source": [
        "NumWin = RegularSeason.groupBy('Season', 'WTeamID').count()\n",
        "NumWin = NumWin.withColumnRenamed(\"count\", \"Wins\")\n",
        "NumWin = NumWin.withColumnRenamed(\"WTeamID\", \"TeamID\")\n",
        "\n",
        "NumLose = RegularSeason.groupBy('Season', 'LTeamID').count()\n",
        "NumLose = NumLose.withColumnRenamed(\"count\", \"Loses\")\n",
        "NumLose = NumLose.withColumnRenamed(\"LTeamID\", \"TeamID\")\n",
        "\n",
        "merged_df = NumWin.join(NumLose, ['Season','TeamID'])\n",
        "merged_df = merged_df.withColumn('NumGames', merged_df.Wins + merged_df.Loses)\n",
        "merged_df.show()"
      ]
    },
    {
      "cell_type": "markdown",
      "metadata": {
        "id": "uuc2LaZ35di9"
      },
      "source": [
        "for win team: rename all w to generaric ones and all L to opp as they are opponent stats.\n",
        "\n",
        "Also add count to get number of wins\n",
        "\n",
        "\n"
      ]
    },
    {
      "cell_type": "markdown",
      "metadata": {
        "id": "Ze_I7Wuh5oqr"
      },
      "source": [
        "for lose team: rename all L to generaric ones and all W to opp as they are opponent stats\n",
        "\n",
        "Also add count to get number of loses"
      ]
    },
    {
      "cell_type": "markdown",
      "metadata": {
        "id": "Gtx1iOhA7ns_"
      },
      "source": [
        "the combine them off of team id"
      ]
    },
    {
      "cell_type": "code",
      "execution_count": 127,
      "metadata": {
        "id": "zQoWWIxE2vrS"
      },
      "outputs": [],
      "source": [
        "# Get all win stats for each team\n",
        "WinTeams = WinTeams.withColumnRenamed(\"WTeamID\", \"TeamID\")\n",
        "WinTeams = WinTeams.withColumnRenamed(\"sum(WScore)\", \"WPTS\")\n",
        "WinTeams = WinTeams.withColumnRenamed(\"sum(LScore)\", \"WOppPTS\")\n",
        "WinTeams = WinTeams.withColumnRenamed(\"sum(NumOT)\", \"WOTs\")\n",
        "WinTeams = WinTeams.withColumnRenamed(\"sum(WFGM)\", \"WFGM\")\n",
        "WinTeams = WinTeams.withColumnRenamed(\"sum(WFGA)\", \"WFGA\")\n",
        "WinTeams = WinTeams.withColumnRenamed(\"sum(WFGA3)\", \"WFGA3\")\n",
        "WinTeams = WinTeams.withColumnRenamed(\"sum(WFGM3)\", \"WFGM3\")\n",
        "WinTeams = WinTeams.withColumnRenamed(\"sum(WFTA)\", \"WFTA\")\n",
        "WinTeams = WinTeams.withColumnRenamed(\"sum(WFTM)\", \"WFTM\")\n",
        "WinTeams = WinTeams.withColumnRenamed(\"sum(WOR)\", \"WOR\")\n",
        "WinTeams = WinTeams.withColumnRenamed(\"sum(WDR)\", \"WDR\")\n",
        "WinTeams = WinTeams.withColumnRenamed(\"sum(WAst)\", \"WAST\")\n",
        "WinTeams = WinTeams.withColumnRenamed(\"sum(WTO)\", \"WTO\")\n",
        "WinTeams = WinTeams.withColumnRenamed(\"sum(WStl)\", \"WSTL\")\n",
        "WinTeams = WinTeams.withColumnRenamed(\"sum(WBlk)\", \"WBLK\")\n",
        "WinTeams = WinTeams.withColumnRenamed(\"sum(WPF)\", \"WPF\")\n",
        "WinTeams = WinTeams.withColumnRenamed(\"sum(LFGM)\", \"WOppFGM\")\n",
        "WinTeams = WinTeams.withColumnRenamed(\"sum(LFGA)\", \"WOppFGA\")\n",
        "WinTeams = WinTeams.withColumnRenamed(\"sum(LFGA3)\", \"WOppFGA3\")\n",
        "WinTeams = WinTeams.withColumnRenamed(\"sum(LFGM3)\", \"WOppFGM3\")\n",
        "WinTeams = WinTeams.withColumnRenamed(\"sum(LFTA)\", \"WOppFTA\")\n",
        "WinTeams = WinTeams.withColumnRenamed(\"sum(LFTM)\", \"WOppFTM\")\n",
        "WinTeams = WinTeams.withColumnRenamed(\"sum(LOR)\", \"WOppOR\")\n",
        "WinTeams = WinTeams.withColumnRenamed(\"sum(LDR)\", \"WOppDR\")\n",
        "WinTeams = WinTeams.withColumnRenamed(\"sum(LAst)\", \"WOppAST\")\n",
        "WinTeams = WinTeams.withColumnRenamed(\"sum(LTO)\", \"WOppTO\")\n",
        "WinTeams = WinTeams.withColumnRenamed(\"sum(LStl)\", \"WOppSTL\")\n",
        "WinTeams = WinTeams.withColumnRenamed(\"sum(LBlk)\", \"WOppBLK\")\n",
        "WinTeams = WinTeams.withColumnRenamed(\"sum(LPF)\", \"WOppPF\")"
      ]
    },
    {
      "cell_type": "code",
      "execution_count": 128,
      "metadata": {
        "id": "jiRv0yOyWcEq"
      },
      "outputs": [],
      "source": [
        "# Get all loss stats for each team\n",
        "LoseTeams = LoseTeams.withColumnRenamed(\"LTeamID\", \"TeamID\")\n",
        "LoseTeams = LoseTeams.withColumnRenamed(\"sum(WScore)\", \"LOppPTS\")\n",
        "LoseTeams = LoseTeams.withColumnRenamed(\"sum(LScore)\", \"LPTS\")\n",
        "LoseTeams = LoseTeams.withColumnRenamed(\"sum(NumOT)\", \"LOTs\")\n",
        "LoseTeams = LoseTeams.withColumnRenamed(\"sum(WFGM)\", \"LOppFGM\")\n",
        "LoseTeams = LoseTeams.withColumnRenamed(\"sum(WFGA)\", \"LOppFGA\")\n",
        "LoseTeams = LoseTeams.withColumnRenamed(\"sum(WFGA3)\", \"LOppFGA3\")\n",
        "LoseTeams = LoseTeams.withColumnRenamed(\"sum(WFGM3)\", \"LOppFGM3\")\n",
        "LoseTeams = LoseTeams.withColumnRenamed(\"sum(WFTA)\", \"LOppFTA\")\n",
        "LoseTeams = LoseTeams.withColumnRenamed(\"sum(WFTM)\", \"LOppFTM\")\n",
        "LoseTeams = LoseTeams.withColumnRenamed(\"sum(WOR)\", \"LOppOR\")\n",
        "LoseTeams = LoseTeams.withColumnRenamed(\"sum(WDR)\", \"LOppDR\")\n",
        "LoseTeams = LoseTeams.withColumnRenamed(\"sum(WAst)\", \"LOppAST\")\n",
        "LoseTeams = LoseTeams.withColumnRenamed(\"sum(WTO)\", \"LOppTO\")\n",
        "LoseTeams = LoseTeams.withColumnRenamed(\"sum(WStl)\", \"LOppSTL\")\n",
        "LoseTeams = LoseTeams.withColumnRenamed(\"sum(WBlk)\", \"LOppBLK\")\n",
        "LoseTeams = LoseTeams.withColumnRenamed(\"sum(WPF)\", \"LOppPF\")\n",
        "LoseTeams = LoseTeams.withColumnRenamed(\"sum(LFGM)\", \"LFGM\")\n",
        "LoseTeams = LoseTeams.withColumnRenamed(\"sum(LFGA)\", \"LFGA\")\n",
        "LoseTeams = LoseTeams.withColumnRenamed(\"sum(LFGA3)\", \"LFGA3\")\n",
        "LoseTeams = LoseTeams.withColumnRenamed(\"sum(LFGM3)\", \"LFGM3\")\n",
        "LoseTeams = LoseTeams.withColumnRenamed(\"sum(LFTA)\", \"LFTA\")\n",
        "LoseTeams = LoseTeams.withColumnRenamed(\"sum(LFTM)\", \"LFTM\")\n",
        "LoseTeams = LoseTeams.withColumnRenamed(\"sum(LOR)\", \"LOR\")\n",
        "LoseTeams = LoseTeams.withColumnRenamed(\"sum(LDR)\", \"LDR\")\n",
        "LoseTeams = LoseTeams.withColumnRenamed(\"sum(LAst)\", \"LAST\")\n",
        "LoseTeams = LoseTeams.withColumnRenamed(\"sum(LTO)\", \"LTO\")\n",
        "LoseTeams = LoseTeams.withColumnRenamed(\"sum(LStl)\", \"LSTL\")\n",
        "LoseTeams = LoseTeams.withColumnRenamed(\"sum(LBlk)\", \"LBLK\")\n",
        "LoseTeams = LoseTeams.withColumnRenamed(\"sum(LPF)\", \"LPF\")"
      ]
    },
    {
      "cell_type": "code",
      "source": [
        "#LoseTeams.filter(LoseTeams.Season == 2022).show()"
      ],
      "metadata": {
        "id": "nObPxnvvyvsW"
      },
      "execution_count": 129,
      "outputs": []
    },
    {
      "cell_type": "code",
      "source": [
        "# combine win teams and lose teams\n",
        "Season = WinTeams.join(LoseTeams, ['Season','TeamID'])"
      ],
      "metadata": {
        "id": "18Nr9TSh4udU"
      },
      "execution_count": 130,
      "outputs": []
    },
    {
      "cell_type": "code",
      "source": [
        "# Combine coluns\n",
        "Season = Season.withColumn(\"OppPTS\", Season.WOppPTS + Season.LOppPTS) \n",
        "Season = Season.withColumn(\"PTS\", Season.WPTS + Season.LPTS) \n",
        "Season = Season.withColumn(\"OTs\", Season.WOTs + Season.LOTs) \n",
        "Season = Season.withColumn(\"OppFGM\", Season.WOppFGM + Season.LOppFGM)\n",
        "Season = Season.withColumn(\"OppFGA\", Season.WOppFGA + Season.LOppFGA)\n",
        "Season = Season.withColumn(\"OppFGA3\", Season.WOppFGA3 + Season.LOppFGA3)\n",
        "Season = Season.withColumn(\"OppFGM3\", Season.WOppFGM3 + Season.LOppFGM3) \n",
        "Season = Season.withColumn(\"OppFTA\", Season.WOppFTA + Season.LOppFTA) \n",
        "Season = Season.withColumn(\"OppFTM\", Season.WOppFTM + Season.LOppFTM) \n",
        "Season = Season.withColumn(\"OppOR\", Season.WOppOR + Season.LOppOR) \n",
        "Season = Season.withColumn(\"OppDR\", Season.WOppDR + Season.LOppDR) \n",
        "Season = Season.withColumn(\"OppAST\", Season.WOppAST + Season.LOppAST) \n",
        "Season = Season.withColumn(\"OppTO\", Season.WOppTO + Season.LOppTO) \n",
        "Season = Season.withColumn(\"OppSTL\", Season.WOppSTL + Season.LOppSTL) \n",
        "Season = Season.withColumn(\"OppBLK\", Season.WOppBLK + Season.LOppBLK) \n",
        "Season = Season.withColumn(\"OppPF\", Season.WOppPF + Season.LOppPF) \n",
        "Season = Season.withColumn(\"FGM\", Season.WFGM + Season.LFGM) \n",
        "Season = Season.withColumn(\"FGA\", Season.WFGA + Season.LFGA) \n",
        "Season = Season.withColumn(\"FGA3\", Season.WFGA3 + Season.LFGA3) \n",
        "Season = Season.withColumn(\"FGM3\", Season.WFGM3 + Season.LFGM3) \n",
        "Season = Season.withColumn(\"FTA\", Season.WFTA + Season.LFTA) \n",
        "Season = Season.withColumn(\"FTM\", Season.WFTM + Season.LFTM) \n",
        "Season = Season.withColumn(\"OR\", Season.WOR + Season.LOR) \n",
        "Season = Season.withColumn(\"DR\", Season.WDR + Season.LDR) \n",
        "Season = Season.withColumn(\"AST\", Season.WAST + Season.LAST)\n",
        "Season = Season.withColumn(\"TO\", Season.WTO + Season.LTO) \n",
        "Season = Season.withColumn(\"STL\", Season.WSTL + Season.LSTL)\n",
        "Season = Season.withColumn(\"BLK\", Season.WBLK + Season.LBLK)\n",
        "Season = Season.withColumn(\"PF\", Season.WPF + Season.LPF)\n",
        "\n",
        "# Drop Unwanted Columns\n",
        "Season =  Season.drop(\"WPTS\",\"WOppPTS\",\"WOTs\",\"WFGM\",\"WFGA\",\"WFGM3\",\"WFGA3\",\"WFTM\",\"WFTA\",\"WOR\",\"WDR\",\"WAST\",\"WTO\",\"WSTL\",\"WBLK\",\"WPF\",\"WOppFGM\",\"WOppFGA\",\"WOppFGM3\",\"WOppFGA3\",\"WOppFTM\",\"WOppFTA\",\"WOppOR\",\"WOppDR\",\"WOppAST\",\"WOppTO\",\"WOppSTL\",\"WOppBLK\",\"WOppPF\",\"LOppPTS\",\"LPTS\",\"LOTs\",\"LOppFGM\",\"LOppFGA\",\"LOppFGM3\",\"LOppFGA3\",\"LOppFTM\",\"LOppFTA\",\"LOppOR\",\"LOppDR\",\"LOppAST\",\"LOppTO\",\"LOppSTL\",\"LOppBLK\",\"LOppPF\",\"LFGM\",\"LFGA\",\"LFGM3\",\"LFGA3\",\"LFTM\",\"LFTA\",\"LOR\",\"LDR\",\"LAST\",\"LTO\",\"LSTL\",\"LBLK\",\"LPF\")"
      ],
      "metadata": {
        "id": "vXpWsAaGx2md"
      },
      "execution_count": 131,
      "outputs": []
    },
    {
      "cell_type": "code",
      "source": [
        "# Combine merged and season\n",
        "Season_Stats = Season.join(merged_df, ['Season','TeamID'])"
      ],
      "metadata": {
        "id": "vaiJQYmdRj6U"
      },
      "execution_count": 132,
      "outputs": []
    },
    {
      "cell_type": "markdown",
      "source": [
        "Make season stats for input"
      ],
      "metadata": {
        "id": "Asy10tvTR_Hm"
      }
    },
    {
      "cell_type": "code",
      "source": [
        "#Wins, PPG, PPG Allowed, Points Ratio, OTs\n",
        "#RegularSeasonInput['WinRatio'] = combinedTeams['Wins'] / combinedTeams['NumGames']\n",
        "RegularSeasonInput = Season_Stats.withColumn(\"WinRatio\", Season_Stats.Wins /  Season_Stats.NumGames) \n",
        "#RegularSeasonInput['PointsPerGame'] = combinedTeams['Points'] / combinedTeams['NumGames']\n",
        "RegularSeasonInput = RegularSeasonInput.withColumn(\"PointsPerGame\", Season_Stats.PTS /  Season_Stats.NumGames)\n",
        "#RegularSeasonInput['PointsAllowedPerGame'] = combinedTeams['OppPoints'] / combinedTeams['NumGames']\n",
        "RegularSeasonInput = RegularSeasonInput.withColumn(\"PointsAllowedPerGame\", Season_Stats.OppPTS /  Season_Stats.NumGames)\n",
        "#RegularSeasonInput['PointsRatio'] = combinedTeams['Points'] / combinedTeams['OppPoints']\n",
        "RegularSeasonInput = RegularSeasonInput.withColumn(\"PointsRatio\", Season_Stats.PTS /  Season_Stats.OppPTS)\n",
        "#RegularSeasonInput['OTsPerGame'] = combinedTeams['NumOT'] / combinedTeams['NumGames']\n",
        "RegularSeasonInput = RegularSeasonInput.withColumn(\"OTsPerGame\", Season_Stats.OTs /  Season_Stats.NumGames)\n",
        "#Field Goals\n",
        "#RegularSeasonInput['FGPerGame'] = combinedTeams['FGM'] / combinedTeams['NumGames']\n",
        "RegularSeasonInput = RegularSeasonInput.withColumn(\"FGPerGame\", Season_Stats.FGM /  Season_Stats.NumGames)\n",
        "#RegularSeasonInput['FGRatio'] = combinedTeams['FGM'] / combinedTeams['FGA']\n",
        "RegularSeasonInput = RegularSeasonInput.withColumn(\"FGRatio\", Season_Stats.FGM /  Season_Stats.FGA)\n",
        "#RegularSeasonInput['FGAPerGame'] = combinedTeams['FGA'] / combinedTeams['NumGames']\n",
        "RegularSeasonInput = RegularSeasonInput.withColumn(\"FGAPerGame\", Season_Stats.FGA /  Season_Stats.NumGames)\n",
        "#RegularSeasonInput['FGAllowedPerGame'] = combinedTeams['OppFGM'] / combinedTeams['NumGames']\n",
        "RegularSeasonInput = RegularSeasonInput.withColumn(\"FGAllowedPerGame\", Season_Stats.OppFGM /  Season_Stats.NumGames)\n",
        "#Three Pointers\n",
        "#RegularSeasonInput['FG3PerGame'] = combinedTeams['FGM3'] / combinedTeams['NumGames']\n",
        "RegularSeasonInput = RegularSeasonInput.withColumn(\"FG3PerGame\", Season_Stats.FGM3 /  Season_Stats.NumGames)\n",
        "#RegularSeasonInput['FG3Ratio'] = combinedTeams['FGM3'] / combinedTeams['FGA3']\n",
        "RegularSeasonInput = RegularSeasonInput.withColumn(\"FG3Ratio'\", Season_Stats.FGM3 /  Season_Stats.FGA3)\n",
        "#RegularSeasonInput['FG3APerGame'] = combinedTeams['FGA3'] / combinedTeams['NumGames']\n",
        "RegularSeasonInput = RegularSeasonInput.withColumn(\"FG3APerGame\", Season_Stats.FGA3 /  Season_Stats.NumGames)\n",
        "#RegularSeasonInput['FG3AllowedPerGame'] = combinedTeams['OppFGM3'] / combinedTeams['NumGames']\n",
        "RegularSeasonInput = RegularSeasonInput.withColumn(\"FG3AllowedPerGame\", Season_Stats.OppFGM3 /  Season_Stats.NumGames)\n",
        "#Free Throws\n",
        "#RegularSeasonInput['FTPerGame'] = combinedTeams['FTM'] / combinedTeams['NumGames']\n",
        "RegularSeasonInput = RegularSeasonInput.withColumn(\"FTPerGame\", Season_Stats.FTM /  Season_Stats.NumGames)\n",
        "#RegularSeasonInput['FTRatio'] = combinedTeams['FTM'] / combinedTeams['FTA']\n",
        "RegularSeasonInput = RegularSeasonInput.withColumn(\"FTRatio\", Season_Stats.FTM /  Season_Stats.FTA)\n",
        "#RegularSeasonInput['FTAPerGame'] = combinedTeams['FTA'] / combinedTeams['NumGames']\n",
        "RegularSeasonInput = RegularSeasonInput.withColumn(\"FTAPerGame\", Season_Stats.FTA /  Season_Stats.NumGames)\n",
        "#RegularSeasonInput['FTllowedPerGame'] = combinedTeams['OppFTM'] / combinedTeams['NumGames']\n",
        "RegularSeasonInput = RegularSeasonInput.withColumn(\"FTllowedPerGame\", Season_Stats.OppFTM /  Season_Stats.NumGames)\n",
        "#Rebounds\n",
        "#RegularSeasonInput['ORPerGame'] = combinedTeams['OR'] / combinedTeams['NumGames']\n",
        "RegularSeasonInput = RegularSeasonInput.withColumn(\"ORPerGame\", Season_Stats.OR /  Season_Stats.NumGames)\n",
        "#RegularSeasonInput['DRPerGame'] = combinedTeams['DR'] / combinedTeams['NumGames']\n",
        "RegularSeasonInput = RegularSeasonInput.withColumn(\"DRPerGame\", Season_Stats.DR /  Season_Stats.NumGames)\n",
        "#RegularSeasonInput['TRPerGame'] = (combinedTeams['OR'] + combinedTeams['DR']) / combinedTeams['NumGames']\n",
        "RegularSeasonInput = RegularSeasonInput.withColumn(\"TRPerGame\", (Season_Stats.OR+ Season_Stats.DR) /  Season_Stats.NumGames)\n",
        "#RegularSeasonInput['OppORPerGame'] = combinedTeams['OppOR'] / combinedTeams['NumGames']\n",
        "RegularSeasonInput = RegularSeasonInput.withColumn(\"OppORPerGame\", Season_Stats.OppOR /  Season_Stats.NumGames)\n",
        "#RegularSeasonInput['OppDRPerGame'] = combinedTeams['OppDR'] / combinedTeams['NumGames']\n",
        "RegularSeasonInput = RegularSeasonInput.withColumn(\"OppDRPerGam\", Season_Stats.OppDR /  Season_Stats.NumGames)\n",
        "#RegularSeasonInput['OppTRPerGame'] = (combinedTeams['OppOR'] + combinedTeams['OppDR']) / combinedTeams['NumGames']\n",
        "RegularSeasonInput = RegularSeasonInput.withColumn(\"OppTRPerGame\", (Season_Stats.OppOR +  Season_Stats.OppDR) / Season_Stats.NumGames)\n",
        "#RegularSeasonInput['ORRatio'] = combinedTeams['OR'] / combinedTeams['OppOR']\n",
        "RegularSeasonInput = RegularSeasonInput.withColumn(\"ORRatio\", Season_Stats.OR /  Season_Stats.OppOR)\n",
        "#RegularSeasonInput['DRRatio'] = combinedTeams['DR'] / combinedTeams['OppDR']\n",
        "RegularSeasonInput = RegularSeasonInput.withColumn(\"DRRatio\", Season_Stats.DR /  Season_Stats.OppDR)\n",
        "#RegularSeasonInput['TRRatio'] = (combinedTeams['OR'] + combinedTeams['DR']) / (combinedTeams['OppOR'] + combinedTeams['OppDR'])\n",
        "RegularSeasonInput = RegularSeasonInput.withColumn(\"TRRatio\", (Season_Stats.OR +  Season_Stats.DR) / (Season_Stats.OppOR +  Season_Stats.OppDR))\n",
        "#Assists\n",
        "#RegularSeasonInput['AstPerGame'] = combinedTeams['Ast'] / combinedTeams['NumGames']\n",
        "RegularSeasonInput = RegularSeasonInput.withColumn(\"AstPerGame\", Season_Stats.AST /  Season_Stats.NumGames)\n",
        "#RegularSeasonInput['OppAstPerGame'] = combinedTeams['OppAst'] / combinedTeams['NumGames']\n",
        "RegularSeasonInput = RegularSeasonInput.withColumn(\"OppAstPerGame\", Season_Stats.OppAST /  Season_Stats.NumGames)\n",
        "#Steals\n",
        "#RegularSeasonInput['StlPerGame'] = combinedTeams['Stl'] / combinedTeams['NumGames']\n",
        "RegularSeasonInput = RegularSeasonInput.withColumn(\"StlPerGame\", Season_Stats.STL /  Season_Stats.NumGames)\n",
        "#RegularSeasonInput['OppStlPerGame'] = combinedTeams['OppStl'] / combinedTeams['NumGames']\n",
        "RegularSeasonInput = RegularSeasonInput.withColumn(\"OppStlPerGame\", Season_Stats.OppSTL /  Season_Stats.NumGames)\n",
        "#Turnovers\n",
        "#RegularSeasonInput['TOPerGame'] = combinedTeams['TO'] / combinedTeams['NumGames']\n",
        "RegularSeasonInput = RegularSeasonInput.withColumn(\"TOPerGame\", Season_Stats.TO / Season_Stats.NumGames)\n",
        "#RegularSeasonInput['OppTOPerGame'] = combinedTeams['OppTO'] / combinedTeams['NumGames']\n",
        "RegularSeasonInput = RegularSeasonInput.withColumn(\"OppTOPerGame\", Season_Stats.OppTO / Season_Stats.NumGames)\n",
        "#Blocks\n",
        "#RegularSeasonInput['BlkPerGame'] = combinedTeams['Blk'] / combinedTeams['NumGames']\n",
        "RegularSeasonInput = RegularSeasonInput.withColumn(\"BlkPerGame\", Season_Stats.BLK / Season_Stats.NumGames)\n",
        "#RegularSeasonInput['OppBlkPerGame'] = combinedTeams['OppBlk'] / combinedTeams['NumGames']\n",
        "RegularSeasonInput = RegularSeasonInput.withColumn(\"OppBlkPerGame\", Season_Stats.OppBLK /  Season_Stats.NumGames)\n",
        "#Personal Fouls\n",
        "#RegularSeasonInput['PFPerGame'] = combinedTeams['PF'] / combinedTeams['NumGames']\n",
        "RegularSeasonInput = RegularSeasonInput.withColumn(\"PFPerGame\", Season_Stats.PF /  Season_Stats.NumGames)\n",
        "#RegularSeasonInput['OppPFPerGame'] = combinedTeams['OppPF'] / combinedTeams['NumGames']\n",
        "RegularSeasonInput = RegularSeasonInput.withColumn(\"OppPFPerGame\", Season_Stats.OppPF /  Season_Stats.NumGames)\n",
        "\n",
        "#drop unwanted columns\n",
        "RegularSeasonInput =  RegularSeasonInput.drop(\"PTS\",\"OppPTS\",\"OTs\",\"FGM\",\"FGA\",\"FGM3\",\"FGA3\",\"FTM\",\"FTA\",\"OR\",\"DR\",\"AST\",\"TO\",\"STL\",\"BLK\",\"PF\",\"OppFGM\",\"OppFGA\",\"OppFGM3\",\"OppFGA3\",\"OppFTM\",\"OppFTA\",\"OppOR\",\"OppDR\",\"OppAST\",\"OppTO\",\"OppSTL\",\"OppBLK\",\"OppPF\")\n",
        "#show\n",
        "RegularSeasonInput.show()"
      ],
      "metadata": {
        "colab": {
          "base_uri": "https://localhost:8080/"
        },
        "id": "s_W3B0bwSRv0",
        "outputId": "082fba43-4b0c-45fa-f436-850895a1b469"
      },
      "execution_count": 133,
      "outputs": [
        {
          "output_type": "stream",
          "name": "stdout",
          "text": [
            "+------+------+----+-----+--------+-------------------+------------------+--------------------+------------------+--------------------+------------------+-------------------+------------------+------------------+------------------+-------------------+------------------+------------------+------------------+------------------+------------------+------------------+------------------+------------------+------------------+------------------+------------------+------------------+------------------+------------------+------------------+------------------+------------------+------------------+------------------+------------------+------------------+------------------+------------------+------------------+------------------+\n",
            "|Season|TeamID|Wins|Loses|NumGames|           WinRatio|     PointsPerGame|PointsAllowedPerGame|       PointsRatio|          OTsPerGame|         FGPerGame|            FGRatio|        FGAPerGame|  FGAllowedPerGame|        FG3PerGame|          FG3Ratio'|       FG3APerGame| FG3AllowedPerGame|         FTPerGame|           FTRatio|        FTAPerGame|   FTllowedPerGame|         ORPerGame|         DRPerGame|         TRPerGame|      OppORPerGame|       OppDRPerGam|      OppTRPerGame|           ORRatio|           DRRatio|           TRRatio|        AstPerGame|     OppAstPerGame|        StlPerGame|     OppStlPerGame|         TOPerGame|      OppTOPerGame|        BlkPerGame|     OppBlkPerGame|         PFPerGame|      OppPFPerGame|\n",
            "+------+------+----+-----+--------+-------------------+------------------+--------------------+------------------+--------------------+------------------+-------------------+------------------+------------------+------------------+-------------------+------------------+------------------+------------------+------------------+------------------+------------------+------------------+------------------+------------------+------------------+------------------+------------------+------------------+------------------+------------------+------------------+------------------+------------------+------------------+------------------+------------------+------------------+------------------+------------------+------------------+\n",
            "|  2003|  1102|  12|   16|      28|0.42857142857142855|             57.25|                57.0|1.0043859649122806|                 0.0|19.142857142857142|0.48114901256732495|39.785714285714285|19.285714285714285| 7.821428571428571|0.37564322469982847|20.821428571428573|              4.75|11.142857142857142| 0.651356993736952|17.107142857142858|13.678571428571429| 4.178571428571429|16.821428571428573|              21.0| 9.607142857142858|20.142857142857142|             29.75|0.4349442379182156|0.8351063829787234|0.7058823529411765|              13.0| 9.142857142857142| 5.964285714285714| 5.428571428571429|11.428571428571429|12.964285714285714|1.7857142857142858|1.5714285714285714|             18.75|18.357142857142858|\n",
            "|  2003|  1103|  13|   14|      27|0.48148148148148145| 78.77777777777777|   78.14814814814815|1.0080568720379146|  0.2962962962962963| 27.14814814814815| 0.4860742705570292|55.851851851851855| 27.77777777777778| 5.444444444444445| 0.3387096774193548|16.074074074074073| 6.666666666666667|19.037037037037038|0.7363896848137536| 25.85185185185185|15.925925925925926| 9.777777777777779|19.925925925925927|29.703703703703702|12.037037037037036|22.037037037037038|34.074074074074076|0.8123076923076923|0.9042016806722689|0.8717391304347826|15.222222222222221|15.481481481481481|7.2592592592592595| 6.407407407407407| 12.62962962962963|15.333333333333334|2.3333333333333335|2.8518518518518516| 19.85185185185185|22.444444444444443|\n",
            "|  2003|  1104|  17|   11|      28| 0.6071428571428571| 69.28571428571429|                65.0| 1.065934065934066| 0.03571428571428571|24.035714285714285| 0.4203622735790131| 57.17857142857143|             23.25| 6.357142857142857|0.32014388489208634|19.857142857142858| 6.357142857142857|14.857142857142858|0.7098976109215017|20.928571428571427|12.142857142857142|13.571428571428571|23.928571428571427|              37.5|10.892857142857142|22.642857142857142|33.535714285714285|1.2459016393442623|1.0567823343848581|1.1182108626198084|12.107142857142858|11.678571428571429| 6.607142857142857| 5.535714285714286|13.285714285714286|13.857142857142858|3.7857142857142856|3.1785714285714284|18.035714285714285|             19.25|\n",
            "|  2003|  1105|   7|   19|      26| 0.2692307692307692| 71.76923076923077|   76.65384615384616|0.9362769693928751| 0.15384615384615385|24.384615384615383|0.39575530586766544| 61.61538461538461|              27.0| 7.576923076923077| 0.3648148148148148| 20.76923076923077| 6.269230769230769|15.423076923076923|0.7059859154929577|21.846153846153847|16.384615384615383|              13.5|23.115384615384617| 36.61538461538461|13.192307692307692|26.384615384615383| 39.57692307692308|1.0233236151603498|0.8760932944606414|0.9251700680272109|14.538461538461538|15.807692307692308| 9.307692307692308| 9.384615384615385|18.653846153846153|18.807692307692307| 2.076923076923077|4.1923076923076925| 20.23076923076923|19.076923076923077|\n",
            "|  2003|  1106|  13|   15|      28| 0.4642857142857143|63.607142857142854|               63.75|0.9977591036414566| 0.03571428571428571|23.428571428571427|0.42377260981912146|55.285714285714285|21.714285714285715| 6.107142857142857|0.34615384615384615|17.642857142857142| 4.785714285714286|10.642857142857142|0.6464208242950108|16.464285714285715|15.535714285714286|12.285714285714286|23.857142857142858|36.142857142857146|11.321428571428571|22.357142857142858| 33.67857142857143| 1.085173501577287|1.0670926517571886|1.0731707317073171|11.678571428571429|11.785714285714286| 8.357142857142858| 8.785714285714286|17.035714285714285|15.071428571428571| 3.142857142857143|3.1785714285714284|18.178571428571427|16.142857142857142|\n",
            "|  2003|  1107|   7|   21|      28|               0.25| 65.92857142857143|   75.71428571428571| 0.870754716981132| 0.21428571428571427|24.035714285714285|  0.418272218769422|57.464285714285715|28.821428571428573| 7.928571428571429|  0.357487922705314|22.178571428571427| 6.571428571428571| 9.928571428571429|0.7335092348284961|13.535714285714286|              11.5|              8.25|             20.25|              28.5|13.392857142857142|27.071428571428573|40.464285714285715|             0.616|0.7480211081794196|  0.70432480141218|11.928571428571429|             18.75| 6.857142857142857| 5.535714285714286|12.571428571428571|14.964285714285714|2.0357142857142856|3.5357142857142856|15.892857142857142|15.928571428571429|\n",
            "|  2003|  1108|  14|   19|      33|0.42424242424242425|  69.0909090909091|   73.12121212121212|0.9448818897637795| 0.06060606060606061|24.939393939393938| 0.4246646026831785| 58.72727272727273|25.757575757575758| 5.212121212121212|0.31910946196660483|16.333333333333332| 5.515151515151516|              14.0|0.6685962373371924|20.939393939393938| 16.09090909090909|13.121212121212121| 23.21212121212121|36.333333333333336|12.575757575757576|23.727272727272727|36.303030303030305|1.0433734939759036|0.9782886334610472|1.0008347245409015|13.848484848484848|15.454545454545455| 8.181818181818182| 8.575757575757576|18.454545454545453|16.727272727272727| 3.515151515151515| 2.878787878787879|19.666666666666668|              19.0|\n",
            "|  2003|  1110|  16|   14|      30| 0.5333333333333333| 66.36666666666666|                61.9|1.0721593968766827| 0.06666666666666667|23.166666666666668| 0.4327521793275218| 53.53333333333333|              22.7| 8.766666666666667|0.37896253602305474|23.133333333333333| 6.266666666666667|11.266666666666667|0.6814516129032258|16.533333333333335|10.233333333333333|              10.0|23.133333333333333| 33.13333333333333|              11.0|23.133333333333333| 34.13333333333333|0.9090909090909091|               1.0|       0.970703125|14.233333333333333|12.133333333333333|               6.4|               5.9|13.166666666666666|14.566666666666666|1.7333333333333334|3.1333333333333333|18.133333333333333|17.066666666666666|\n",
            "|  2003|  1111|  16|   10|      26| 0.6153846153846154| 83.26923076923077|   81.73076923076923|1.0188235294117647| 0.15384615384615385|28.615384615384617|0.44364937388193204|              64.5|29.884615384615383|7.1923076923076925| 0.3274956217162872| 21.96153846153846|7.8076923076923075|18.846153846153847|0.7195301027900147|26.192307692307693|14.153846153846153|              13.0|25.307692307692307| 38.30769230769231| 13.26923076923077|26.615384615384617| 39.88461538461539|0.9797101449275363|0.9508670520231214|0.9604628736740598| 15.23076923076923|16.615384615384617| 9.846153846153847| 8.923076923076923|16.192307692307693|18.692307692307693| 4.615384615384615|3.8846153846153846|18.692307692307693|21.076923076923077|\n",
            "|  2003|  1112|  25|    3|      28| 0.8928571428571429| 85.21428571428571|               70.25|1.2130147432638536| 0.07142857142857142|30.321428571428573|0.46141304347826084| 65.71428571428571|26.357142857142858| 7.035714285714286| 0.3505338078291815|20.071428571428573| 6.321428571428571|17.535714285714285|0.7014285714285714|              25.0|11.214285714285714|15.178571428571429|27.642857142857142| 42.82142857142857|13.107142857142858|23.285714285714285|36.392857142857146|1.1580381471389645| 1.187116564417178|1.1766437684003925|17.642857142857142|15.464285714285714| 8.464285714285714| 5.964285714285714|14.785714285714286|16.857142857142858| 4.214285714285714| 2.392857142857143|             17.75|22.071428571428573|\n",
            "|  2003|  1113|  18|   11|      29| 0.6206896551724138| 75.96551724137932|   69.17241379310344|1.0982053838484547| 0.06896551724137931| 27.20689655172414| 0.4781818181818182| 56.89655172413793| 24.79310344827586|               4.0| 0.3178082191780822|12.586206896551724| 5.448275862068965|17.551724137931036|0.6697368421052632| 26.20689655172414|14.137931034482758|13.689655172413794|23.310344827586206|              37.0|              11.0|20.551724137931036|31.551724137931036| 1.244514106583072|1.1342281879194631|1.1726775956284152|15.551724137931034|14.068965517241379| 5.206896551724138|               6.0|              14.0|15.517241379310345| 4.241379310344827|3.9310344827586206|19.413793103448278|22.862068965517242|\n",
            "|  2003|  1114|  16|   12|      28| 0.5714285714285714| 70.03571428571429|   70.07142857142857|0.9994903160040775|                0.25|23.857142857142858| 0.4483221476510067|53.214285714285715|24.857142857142858| 6.785714285714286|         0.37109375|18.285714285714285| 5.964285714285714|15.535714285714286|0.6926751592356688|22.428571428571427|14.392857142857142|10.535714285714286|22.857142857142858|33.392857142857146|11.857142857142858|22.607142857142858|34.464285714285715|0.8885542168674698|1.0110584518167456|0.9689119170984456|              11.5|12.392857142857142| 6.607142857142857| 5.892857142857143|15.964285714285714|15.464285714285714| 2.357142857142857|3.2857142857142856|              20.5|20.464285714285715|\n",
            "|  2003|  1115|   4|   24|      28|0.14285714285714285|              54.5|   74.17857142857143|0.7347135291285508| 0.03571428571428571|             19.25|0.35460526315789476|54.285714285714285|25.321428571428573|              4.75| 0.2817796610169492|16.857142857142858| 6.357142857142857|             11.25|0.6389452332657201|17.607142857142858|17.178571428571427| 9.964285714285714|21.035714285714285|              31.0|15.071428571428571|28.392857142857142|43.464285714285715|0.6611374407582938| 0.740880503144654|0.7132292522596549|10.178571428571429|             14.75| 7.964285714285714| 9.642857142857142|19.107142857142858|17.357142857142858|              2.75|3.6785714285714284|             20.25|             17.75|\n",
            "|  2003|  1116|   9|   19|      28|0.32142857142857145|61.642857142857146|   66.53571428571429|0.9264626945786366|                 0.0|21.821428571428573|0.39267352185089976| 55.57142857142857|22.071428571428573| 6.071428571428571| 0.3102189781021898|19.571428571428573| 5.714285714285714|11.928571428571429|0.6094890510948905|19.571428571428573|16.678571428571427|14.535714285714286|23.428571428571427|37.964285714285715|10.321428571428571|22.214285714285715|32.535714285714285|1.4083044982698962|1.0546623794212218|1.1668496158068058| 9.821428571428571|11.571428571428571| 6.464285714285714| 7.464285714285714|16.678571428571427|13.285714285714286|3.5357142857142856| 3.892857142857143|20.928571428571427|18.142857142857142|\n",
            "|  2003|  1117|  11|   15|      26| 0.4230769230769231| 71.11538461538461|    69.8076923076923| 1.018732782369146|0.038461538461538464|23.692307692307693|0.43319268635724334| 54.69230769230769| 22.73076923076923| 7.923076923076923|0.37117117117117115|21.346153846153847|6.1923076923076925|15.807692307692308|0.7378815080789947|21.423076923076923|18.153846153846153|10.961538461538462|20.384615384615383|31.346153846153847| 11.73076923076923|23.384615384615383| 35.11538461538461|0.9344262295081968|0.8717105263157895|0.8926615553121577|11.923076923076923|11.538461538461538| 7.153846153846154|5.8076923076923075| 13.26923076923077|15.653846153846153|1.6538461538461537| 2.730769230769231|21.423076923076923|19.692307692307693|\n",
            "|  2003|  1119|   3|   22|      25|               0.12|             53.68|               67.48|0.7954949614700652|                 0.0|              19.6| 0.4117647058823529|              47.6|              21.8|              5.88| 0.3559322033898305|             16.52|              8.48|               8.6|0.6761006289308176|             12.72|              15.4|              7.92|             21.56|             29.48|             10.64|             21.96|              32.6|0.7443609022556391|0.9817850637522769|0.9042944785276074|             11.72|             12.96|              5.56|              7.12|             17.36|             12.88|               1.6|              3.52|             19.32|             16.76|\n",
            "|  2003|  1120|  19|   11|      30| 0.6333333333333333|              70.1|   65.56666666666666|1.0691408235892221|                 0.0|              25.7|0.46983546617915906|              54.7|              23.8| 5.633333333333334| 0.3448979591836735|16.333333333333332|               6.9|13.066666666666666|0.6621621621621622|19.733333333333334|11.066666666666666|11.933333333333334|22.566666666666666|              34.5|12.233333333333333|              20.6|32.833333333333336|0.9754768392370572|1.0954692556634305|1.0507614213197969|              13.4|12.666666666666666| 8.033333333333333| 7.833333333333333|              15.9|              15.8| 4.966666666666667|2.6666666666666665|16.366666666666667|19.133333333333333|\n",
            "|  2003|  1122|  20|    7|      27| 0.7407407407407407| 69.70370370370371|   67.70370370370371|1.0295404814004376| 0.14814814814814814|23.555555555555557| 0.4523470839260313|52.074074074074076|24.296296296296298|               6.0|0.34913793103448276|17.185185185185187| 6.296296296296297| 16.59259259259259| 0.691358024691358|              24.0|12.814814814814815| 10.62962962962963| 24.22222222222222|34.851851851851855|11.666666666666666| 22.51851851851852| 34.18518518518518|0.9111111111111111| 1.075657894736842|1.0195016251354279|13.407407407407407|13.333333333333334| 7.037037037037037| 6.814814814814815|15.222222222222221|              14.0| 4.666666666666667| 3.259259259259259|18.666666666666668| 20.25925925925926|\n",
            "|  2003|  1123|  13|   17|      30|0.43333333333333335|              73.3|   76.03333333333333| 0.964050854888207| 0.03333333333333333|25.933333333333334| 0.4288864388092613| 60.46666666666667|25.433333333333334| 5.366666666666666|              0.322|16.666666666666668| 5.266666666666667|16.066666666666666|0.7259036144578314|22.133333333333333|              19.9|13.166666666666666|21.733333333333334|              34.9|              10.9|24.966666666666665| 35.86666666666667|1.2079510703363914|0.8704939919893191|0.9730483271375465|              10.5|              14.7|               5.2| 5.633333333333334|12.833333333333334|14.533333333333333|               2.2| 2.066666666666667|22.866666666666667|21.133333333333333|\n",
            "|  2003|  1124|  14|   14|      28|                0.5|              69.0|   68.39285714285714|1.0088772845953002| 0.03571428571428571|23.607142857142858|0.40701970443349755|              58.0|26.535714285714285| 9.071428571428571|0.34185733512786004|26.535714285714285| 5.428571428571429|12.714285714285714| 0.725050916496945|17.535714285714285| 9.892857142857142|11.714285714285714|23.178571428571427|34.892857142857146|12.142857142857142|25.464285714285715|37.607142857142854|0.9647058823529412|0.9102384291725105|0.9278252611585945|14.214285714285714|13.821428571428571| 8.321428571428571| 5.571428571428571|13.285714285714286|14.678571428571429|2.9642857142857144|3.0714285714285716|             15.75|16.642857142857142|\n",
            "+------+------+----+-----+--------+-------------------+------------------+--------------------+------------------+--------------------+------------------+-------------------+------------------+------------------+------------------+-------------------+------------------+------------------+------------------+------------------+------------------+------------------+------------------+------------------+------------------+------------------+------------------+------------------+------------------+------------------+------------------+------------------+------------------+------------------+------------------+------------------+------------------+------------------+------------------+------------------+------------------+\n",
            "only showing top 20 rows\n",
            "\n"
          ]
        }
      ]
    },
    {
      "cell_type": "code",
      "source": [
        "RegularSeasonInput.describe().show()"
      ],
      "metadata": {
        "colab": {
          "base_uri": "https://localhost:8080/"
        },
        "id": "Eiy9OjE0dqpP",
        "outputId": "3c98b2f8-fc0b-4104-bb2f-afc79363d82c"
      },
      "execution_count": 134,
      "outputs": [
        {
          "output_type": "stream",
          "name": "stdout",
          "text": [
            "+-------+------------------+------------------+------------------+------------------+-----------------+-------------------+-----------------+--------------------+------------------+-------------------+------------------+--------------------+------------------+------------------+------------------+--------------------+------------------+------------------+------------------+--------------------+------------------+------------------+------------------+------------------+------------------+------------------+------------------+------------------+-------------------+-------------------+-------------------+------------------+------------------+------------------+------------------+------------------+------------------+------------------+------------------+------------------+------------------+\n",
            "|summary|            Season|            TeamID|              Wins|             Loses|         NumGames|           WinRatio|    PointsPerGame|PointsAllowedPerGame|       PointsRatio|         OTsPerGame|         FGPerGame|             FGRatio|        FGAPerGame|  FGAllowedPerGame|        FG3PerGame|           FG3Ratio'|       FG3APerGame| FG3AllowedPerGame|         FTPerGame|             FTRatio|        FTAPerGame|   FTllowedPerGame|         ORPerGame|         DRPerGame|         TRPerGame|      OppORPerGame|       OppDRPerGam|      OppTRPerGame|            ORRatio|            DRRatio|            TRRatio|        AstPerGame|     OppAstPerGame|        StlPerGame|     OppStlPerGame|         TOPerGame|      OppTOPerGame|        BlkPerGame|     OppBlkPerGame|         PFPerGame|      OppPFPerGame|\n",
            "+-------+------------------+------------------+------------------+------------------+-----------------+-------------------+-----------------+--------------------+------------------+-------------------+------------------+--------------------+------------------+------------------+------------------+--------------------+------------------+------------------+------------------+--------------------+------------------+------------------+------------------+------------------+------------------+------------------+------------------+------------------+-------------------+-------------------+-------------------+------------------+------------------+------------------+------------------+------------------+------------------+------------------+------------------+------------------+------------------+\n",
            "|  count|              6880|              6880|              6880|              6880|             6880|               6880|             6880|                6880|              6880|               6880|              6880|                6880|              6880|              6880|              6880|                6880|              6880|              6880|              6880|                6880|              6880|              6880|              6880|              6880|              6880|              6880|              6880|              6880|               6880|               6880|               6880|              6880|              6880|              6880|              6880|              6880|              6880|              6880|              6880|              6880|              6880|\n",
            "|   mean|2012.6283430232559|1284.7686046511628|14.582848837209303| 14.56671511627907|29.14956395348837| 0.4945275835113406|69.47553561335133|   69.67187210193983| 1.001411249565924|0.06839992190941178| 24.43400584585863|  0.4359907511754905|  56.0409923077743|24.498067557181894| 6.682397094172056| 0.34299224789996574|19.439541735970128| 6.693248767745478|13.925093726654437|  0.6969570958807261|19.986511359339143|13.982456816730153|10.674718089802639|23.690467004224775|34.365185094027346|10.692466277895907|23.752330328697482| 34.44479660659328| 1.0092545752953759| 1.0045615314888954|  1.003390625573526|13.039136800588658|13.092811276746792| 6.492132432071143| 6.511480920922774|13.551989699524592|13.524508112079527|3.3090320868259857| 3.330402620803045|17.829686078576827|17.796164146051016|\n",
            "| stddev| 5.741065264333785|104.72825968197245| 6.152715321216036|5.3127698739299225|3.456520763557277|0.18722489276053536|5.807404283726616|   5.540485113953746|0.0959885992544631|0.06034968111819119| 2.156541186352199|0.026359934583297717|3.5741326891642915|2.2072489458474447|1.4007240100965974|0.028804299230990843|3.5409315659404976| 1.114949949383532|2.1409672441599237|0.039274322761512576| 2.904785675064701| 2.213183342826345|1.9667777801091935| 2.000012036062356|2.9353081307269275|1.6133026830531303|2.1103963513519206|2.8173561665585614|0.18689242234398398|0.11761409695538264|0.11072965509687774| 1.858290723610949| 1.761744440269163|1.2572927797340752|1.0324101966527441|1.8298022938531162|1.8847716822045266| 1.088525016102091| 0.635785775012166| 3.468461683594015|   3.3387750037674|\n",
            "|    min|              2003|              1101|                 1|                 1|                4|            0.03125|            49.24|   50.42857142857143|0.6504530281354316|                0.0|             16.12| 0.34207240948813983|39.785714285714285|16.962962962962962|1.8387096774193548| 0.23783783783783785| 6.064516129032258|3.1785714285714284|               7.0|  0.5424610051993067|10.346153846153847|7.3478260869565215|              3.56|15.357142857142858|             20.76| 5.181818181818182|15.733333333333333|23.566666666666666|0.39555555555555555| 0.6361767728674204| 0.6463262764632628| 7.612903225806452|               7.7|             2.875|3.3666666666666667| 7.387096774193548|           6.96875|0.6551724137931034|1.4516129032258065|               0.0|               0.0|\n",
            "|    max|              2022|              1472|                33|                31|               36| 0.9705882352941176|95.55172413793103|   98.20689655172414|1.3916849015317287|                0.4|33.857142857142854|  0.5357950263752826| 78.62068965517241|              37.2|             13.25|  0.4506024096385542|              40.3| 11.62962962962963|21.484848484848484|  0.8328981723237598|           31.1875| 23.51851851851852| 17.25925925925926| 31.12121212121212| 46.13793103448276|16.807692307692307|34.666666666666664| 49.06896551724138| 1.8912280701754387|  1.524031007751938| 1.4842657342657342|21.484848484848484| 22.24137931034483|13.241379310344827|11.642857142857142|22.321428571428573|24.275862068965516| 9.333333333333334|               6.0|27.884615384615383| 25.17241379310345|\n",
            "+-------+------------------+------------------+------------------+------------------+-----------------+-------------------+-----------------+--------------------+------------------+-------------------+------------------+--------------------+------------------+------------------+------------------+--------------------+------------------+------------------+------------------+--------------------+------------------+------------------+------------------+------------------+------------------+------------------+------------------+------------------+-------------------+-------------------+-------------------+------------------+------------------+------------------+------------------+------------------+------------------+------------------+------------------+------------------+------------------+\n",
            "\n"
          ]
        }
      ]
    },
    {
      "cell_type": "markdown",
      "source": [
        "## Tourney Input"
      ],
      "metadata": {
        "id": "ux-GHsxRs_9s"
      }
    },
    {
      "cell_type": "code",
      "source": [
        "Seeds = Seeds.withColumn('Seed', Seeds.Seed.substr(2,2))"
      ],
      "metadata": {
        "id": "lxIFqgpWtMkl"
      },
      "execution_count": 135,
      "outputs": []
    },
    {
      "cell_type": "code",
      "source": [
        "Seeds.describe().show()"
      ],
      "metadata": {
        "colab": {
          "base_uri": "https://localhost:8080/"
        },
        "id": "XKcV0pqJoIfT",
        "outputId": "052625cd-8d6d-4706-c5da-0a2a9a59bc1b"
      },
      "execution_count": 136,
      "outputs": [
        {
          "output_type": "stream",
          "name": "stdout",
          "text": [
            "+-------+------------------+-----------------+------------------+\n",
            "|summary|            Season|             Seed|            TeamID|\n",
            "+-------+------------------+-----------------+------------------+\n",
            "|  count|              2354|             2354|              2354|\n",
            "|   mean|2002.7625318606626|8.620220900594733|1291.5747663551401|\n",
            "| stddev|10.475078296853514|4.646193415404665|103.31555675390796|\n",
            "|    min|              1985|               01|              1101|\n",
            "|    max|              2021|               16|              1463|\n",
            "+-------+------------------+-----------------+------------------+\n",
            "\n"
          ]
        }
      ]
    },
    {
      "cell_type": "code",
      "source": [
        "Winners = TourneyCompact.withColumnRenamed(\"WTeamID\",\"TeamID\")\n",
        "Winners =  Winners.drop(\"DayNum\",\"WScore\",\"WLoc\",\"NumOT\",\"LScore\")\n",
        "Winners = Winners.join(Seeds, ['Season','TeamID'])\n",
        "Winners = Winners.withColumnRenamed(\"Seed\",\"Team1Seed\")\n",
        "Winners = Winners.withColumnRenamed(\"TeamID\",\"Team1\")\n",
        "Winners = Winners.withColumnRenamed(\"LTeamID\",\"TeamID\")\n",
        "Winners = Winners.join(Seeds, ['Season','TeamID'])\n",
        "Winners = Winners.withColumnRenamed(\"TeamID\",\"Team2\")\n",
        "Winners = Winners.withColumnRenamed(\"Seed\",\"Team2Seed\")\n",
        "Winners = Winners.withColumn(\"Result\",lit(1))\n",
        "\n",
        "Losers = TourneyCompact.withColumnRenamed(\"LTeamID\",\"TeamID\")\n",
        "Losers = Losers.drop(\"DayNum\",\"WScore\",\"WLoc\",\"NumOT\",\"LScore\")\n",
        "Losers = Losers.join(Seeds, ['Season','TeamID'])\n",
        "Losers = Losers.withColumnRenamed(\"Seed\",\"Team1Seed\")\n",
        "Losers = Losers.withColumnRenamed(\"TeamID\",\"Team1\")\n",
        "Losers = Losers.withColumnRenamed(\"WTeamID\",\"TeamID\")\n",
        "Losers = Losers.join(Seeds, ['Season','TeamID'])\n",
        "Losers = Losers.withColumnRenamed(\"TeamID\",\"Team2\")\n",
        "Losers = Losers.withColumnRenamed(\"Seed\",\"Team2Seed\")\n",
        "Losers = Losers.withColumn(\"Result\",lit(0))\n",
        "\n",
        "'''Losers = Winners.withColumn(\"Result\",lit(0))\n",
        "Losers = Losers.withColumnRenamed(\"Team1\",\"Team\")\n",
        "Losers = Losers.withColumnRenamed(\"Team2\",\"Team1\")\n",
        "Losers = Losers.withColumnRenamed(\"Team\",\"Team2\")'''\n",
        "\n",
        "Losers.filter(Losers.Team2 == 1328).filter(Losers.Season == 2003).show()\n",
        "Losers.filter(Losers.Team1 == 1328).filter(Losers.Season == 2003).show()\n",
        "Winners.filter(Winners.Team1 == 1328).filter(Winners.Season == 2003).show()\n",
        "Winners.filter(Winners.Team2 == 1328).filter(Winners.Season == 2003).show()"
      ],
      "metadata": {
        "colab": {
          "base_uri": "https://localhost:8080/"
        },
        "id": "1BCEWQykio0h",
        "outputId": "57720df9-f6b7-44d0-b2cc-764bdd6adcd4"
      },
      "execution_count": 179,
      "outputs": [
        {
          "output_type": "stream",
          "name": "stdout",
          "text": [
            "+------+-----+-----+---------+---------+------+\n",
            "|Season|Team2|Team1|Team1Seed|Team2Seed|Result|\n",
            "+------+-----+-----+---------+---------+------+\n",
            "|  2003| 1328| 1143|       08|       01|     0|\n",
            "|  2003| 1328| 1139|       12|       01|     0|\n",
            "|  2003| 1328| 1354|       16|       01|     0|\n",
            "+------+-----+-----+---------+---------+------+\n",
            "\n",
            "+------+-----+-----+---------+---------+------+\n",
            "|Season|Team2|Team1|Team1Seed|Team2Seed|Result|\n",
            "+------+-----+-----+---------+---------+------+\n",
            "|  2003| 1393| 1328|       01|       03|     0|\n",
            "+------+-----+-----+---------+---------+------+\n",
            "\n",
            "+------+-----+-----+---------+---------+------+\n",
            "|Season|Team2|Team1|Team1Seed|Team2Seed|Result|\n",
            "+------+-----+-----+---------+---------+------+\n",
            "|  2003| 1139| 1328|       01|       12|     1|\n",
            "|  2003| 1143| 1328|       01|       08|     1|\n",
            "|  2003| 1354| 1328|       01|       16|     1|\n",
            "+------+-----+-----+---------+---------+------+\n",
            "\n",
            "+------+-----+-----+---------+---------+------+\n",
            "|Season|Team2|Team1|Team1Seed|Team2Seed|Result|\n",
            "+------+-----+-----+---------+---------+------+\n",
            "|  2003| 1328| 1393|       03|       01|     1|\n",
            "+------+-----+-----+---------+---------+------+\n",
            "\n"
          ]
        }
      ]
    },
    {
      "cell_type": "code",
      "source": [
        "TourneyInput = Winners.union(Losers)\n",
        "TourneyInput.filter(TourneyInput.Team2 == 1328).filter(TourneyInput.Season == 2003).show()\n",
        "TourneyInput.filter(TourneyInput.Team1 == 1328).filter(TourneyInput.Season == 2003).show()\n",
        "#TourneyInput = TourneyInput.filter(TourneyInput.Season >= 2003)\n",
        "#TourneyInput.show()\n",
        "#TourneyInput.describe().show()"
      ],
      "metadata": {
        "colab": {
          "base_uri": "https://localhost:8080/"
        },
        "id": "ZFstBpXJm0i6",
        "outputId": "9b627390-a377-4a55-b517-ef6b3102a512"
      },
      "execution_count": 180,
      "outputs": [
        {
          "output_type": "stream",
          "name": "stdout",
          "text": [
            "+------+-----+-----+---------+---------+------+\n",
            "|Season|Team2|Team1|Team1Seed|Team2Seed|Result|\n",
            "+------+-----+-----+---------+---------+------+\n",
            "|  2003| 1328| 1393|       03|       01|     1|\n",
            "|  2003| 1328| 1143|       08|       01|     0|\n",
            "|  2003| 1328| 1139|       12|       01|     0|\n",
            "|  2003| 1328| 1354|       16|       01|     0|\n",
            "+------+-----+-----+---------+---------+------+\n",
            "\n",
            "+------+-----+-----+---------+---------+------+\n",
            "|Season|Team2|Team1|Team1Seed|Team2Seed|Result|\n",
            "+------+-----+-----+---------+---------+------+\n",
            "|  2003| 1139| 1328|       01|       12|     1|\n",
            "|  2003| 1143| 1328|       01|       08|     1|\n",
            "|  2003| 1354| 1328|       01|       16|     1|\n",
            "|  2003| 1393| 1328|       01|       03|     0|\n",
            "+------+-----+-----+---------+---------+------+\n",
            "\n"
          ]
        }
      ]
    },
    {
      "cell_type": "markdown",
      "source": [
        "# Make Final Input Dataframe"
      ],
      "metadata": {
        "id": "955iOH6cxjq4"
      }
    },
    {
      "cell_type": "code",
      "source": [
        "RegularSeasonInput.filter(RegularSeasonInput.TeamID == 1102).show()"
      ],
      "metadata": {
        "colab": {
          "base_uri": "https://localhost:8080/"
        },
        "id": "w4wGb7vR65SB",
        "outputId": "dc0d56f2-e1a2-4cd0-aa74-ad9d8930e58f"
      },
      "execution_count": 162,
      "outputs": [
        {
          "output_type": "stream",
          "name": "stdout",
          "text": [
            "+------+------+----+-----+--------+-------------------+------------------+--------------------+------------------+--------------------+------------------+-------------------+------------------+------------------+------------------+-------------------+------------------+------------------+------------------+------------------+------------------+------------------+-----------------+------------------+------------------+------------------+------------------+------------------+-------------------+------------------+------------------+------------------+------------------+------------------+-----------------+------------------+------------------+------------------+------------------+------------------+------------------+\n",
            "|Season|TeamID|Wins|Loses|NumGames|           WinRatio|     PointsPerGame|PointsAllowedPerGame|       PointsRatio|          OTsPerGame|         FGPerGame|            FGRatio|        FGAPerGame|  FGAllowedPerGame|        FG3PerGame|          FG3Ratio'|       FG3APerGame| FG3AllowedPerGame|         FTPerGame|           FTRatio|        FTAPerGame|   FTllowedPerGame|        ORPerGame|         DRPerGame|         TRPerGame|      OppORPerGame|       OppDRPerGam|      OppTRPerGame|            ORRatio|           DRRatio|           TRRatio|        AstPerGame|     OppAstPerGame|        StlPerGame|    OppStlPerGame|         TOPerGame|      OppTOPerGame|        BlkPerGame|     OppBlkPerGame|         PFPerGame|      OppPFPerGame|\n",
            "+------+------+----+-----+--------+-------------------+------------------+--------------------+------------------+--------------------+------------------+-------------------+------------------+------------------+------------------+-------------------+------------------+------------------+------------------+------------------+------------------+------------------+-----------------+------------------+------------------+------------------+------------------+------------------+-------------------+------------------+------------------+------------------+------------------+------------------+-----------------+------------------+------------------+------------------+------------------+------------------+------------------+\n",
            "|  2003|  1102|  12|   16|      28|0.42857142857142855|             57.25|                57.0|1.0043859649122806|                 0.0|19.142857142857142|0.48114901256732495|39.785714285714285|19.285714285714285| 7.821428571428571|0.37564322469982847|20.821428571428573|              4.75|11.142857142857142| 0.651356993736952|17.107142857142858|13.678571428571429|4.178571428571429|16.821428571428573|              21.0| 9.607142857142858|20.142857142857142|             29.75| 0.4349442379182156|0.8351063829787234|0.7058823529411765|              13.0| 9.142857142857142| 5.964285714285714|5.428571428571429|11.428571428571429|12.964285714285714|1.7857142857142858|1.5714285714285714|             18.75|18.357142857142858|\n",
            "|  2004|  1102|  22|    6|      28| 0.7857142857142857| 60.17857142857143|   50.42857142857143|1.1933427762039661|                 0.0|20.285714285714285| 0.4825828377230246|42.035714285714285|18.142857142857142| 8.464285714285714|0.38102893890675243|22.214285714285715|3.1785714285714284|11.142857142857142|0.7090909090909091|15.714285714285714|10.964285714285714|6.142857142857143|15.357142857142858|              21.5| 9.285714285714286|18.535714285714285|27.821428571428573| 0.6615384615384615|0.8285163776493256| 0.772785622593068|             13.25| 8.321428571428571| 7.785714285714286|4.464285714285714|10.785714285714286|16.428571428571427| 2.357142857142857|              1.75|16.642857142857142|18.107142857142858|\n",
            "|  2005|  1102|  17|   12|      29| 0.5862068965517241|61.241379310344826|   55.13793103448276|1.1106941838649156| 0.06896551724137931|21.413793103448278| 0.4486994219653179|47.724137931034484| 19.20689655172414|  8.89655172413793| 0.3644067796610169|24.413793103448278| 3.793103448275862| 9.517241379310345|0.7282321899736148|13.068965517241379|12.931034482758621|7.620689655172414|15.413793103448276| 23.03448275862069| 8.620689655172415| 20.79310344827586|29.413793103448278|              0.884|0.7412935323383084|0.7831184056271981|13.655172413793103|  8.89655172413793| 8.793103448275861|4.689655172413793|10.068965517241379|16.482758620689655|1.7241379310344827| 2.206896551724138|16.482758620689655|16.310344827586206|\n",
            "|  2006|  1102|  22|    6|      28| 0.7857142857142857|              63.5|   54.57142857142857|1.1636125654450262|                 0.0|21.928571428571427|0.48119122257053293| 45.57142857142857|19.785714285714285| 8.607142857142858| 0.3970345963756178|21.678571428571427| 4.892857142857143|11.035714285714286|0.7463768115942029|14.785714285714286|10.107142857142858|6.785714285714286|17.785714285714285|24.571428571428573|10.214285714285714|19.035714285714285|             29.25| 0.6643356643356644|0.9343339587242027|0.8400488400488401|14.178571428571429|10.142857142857142|               8.0|4.142857142857143|10.928571428571429|14.964285714285714| 2.107142857142857| 2.607142857142857|15.392857142857142|15.857142857142858|\n",
            "|  2007|  1102|  22|    8|      30| 0.7333333333333333|              68.5|                56.9|1.2038664323374342|                 0.0|              22.8|0.48579545454545453| 46.93333333333333|21.066666666666666| 9.066666666666666| 0.4035608308605341|22.466666666666665| 5.433333333333334|13.833333333333334|  0.76007326007326|              18.2| 9.333333333333334|6.466666666666667|20.866666666666667|27.333333333333332| 9.166666666666666|              20.3|29.466666666666665| 0.7054545454545454|1.0279146141215108|0.9276018099547512|15.033333333333333|11.666666666666666| 6.266666666666667|4.533333333333333|10.166666666666666|14.033333333333333|1.4666666666666666| 3.066666666666667|15.166666666666666|18.866666666666667|\n",
            "|  2008|  1102|  14|   14|      28|                0.5| 57.57142857142857|   57.32142857142857|1.0043613707165109| 0.07142857142857142|18.535714285714285|0.43723673125526535|42.392857142857146|19.107142857142858| 7.107142857142857| 0.3754716981132076|18.928571428571427| 7.571428571428571|13.392857142857142|0.6944444444444444|19.285714285714285|11.535714285714286|             5.25|21.357142857142858|26.607142857142858| 9.392857142857142|21.857142857142858|             31.25|   0.55893536121673|0.9771241830065359|0.8514285714285714|11.928571428571429|12.071428571428571| 6.178571428571429|5.857142857142857|12.678571428571429|13.571428571428571|1.7857142857142858|              2.75|17.178571428571427|              19.0|\n",
            "|  2009|  1102|   8|   21|      29|0.27586206896551724| 57.41379310344828|  62.310344827586206|0.9214167127836193|                 0.0| 19.17241379310345| 0.4350547730829421| 44.06896551724138| 20.17241379310345| 6.517241379310345|0.37058823529411766|17.586206896551722| 7.344827586206897|12.551724137931034| 0.674074074074074|18.620689655172413|14.620689655172415|6.931034482758621|20.896551724137932| 27.82758620689655|  9.10344827586207|21.448275862068964|30.551724137931036| 0.7613636363636364|0.9742765273311897|0.9108352144469526| 11.89655172413793|12.586206896551724| 5.068965517241379|6.310344827586207|13.551724137931034|11.586206896551724|2.1724137931034484|3.5172413793103448| 17.79310344827586|18.379310344827587|\n",
            "|  2010|  1102|   8|   21|      29|0.27586206896551724| 55.62068965517241|   62.96551724137931|0.8833515881708652|                 0.0|              20.0|0.43872919818456885| 45.58620689655172|21.448275862068964| 5.620689655172414|0.31047619047619046|18.103448275862068| 7.206896551724138|              10.0|0.6373626373626373|15.689655172413794|12.862068965517242|6.758620689655173|19.862068965517242|26.620689655172413| 8.862068965517242| 22.20689655172414| 31.06896551724138| 0.7626459143968871|0.8944099378881988|0.8568257491675916|12.275862068965518|              13.0| 4.827586206896552|5.931034482758621|12.793103448275861|11.655172413793103|1.5172413793103448|2.9310344827586206|17.551724137931036| 16.03448275862069|\n",
            "|  2011|  1102|  14|   14|      28|                0.5|             64.25|   64.78571428571429|0.9917309812568909| 0.07142857142857142|22.428571428571427|0.46865671641791046|47.857142857142854|22.142857142857142| 6.678571428571429| 0.3762575452716298|             17.75| 8.321428571428571|12.714285714285714|0.7007874015748031|18.142857142857142|12.178571428571429|5.857142857142857|22.428571428571427|28.285714285714285|11.714285714285714|22.857142857142858| 34.57142857142857|                0.5|           0.98125|0.8181818181818182|15.428571428571429|             14.25| 6.214285714285714|5.571428571428571|11.928571428571429|12.964285714285714|2.5357142857142856|              3.25|17.428571428571427|18.321428571428573|\n",
            "|  2012|  1102|  11|   16|      27| 0.4074074074074074|60.666666666666664|   63.25925925925926|0.9590163934426229| 0.07407407407407407| 20.88888888888889| 0.4444444444444444|              47.0| 21.25925925925926|6.2592592592592595| 0.3333333333333333| 18.77777777777778| 6.851851851851852| 12.62962962962963|             0.682| 18.51851851851852| 13.88888888888889|5.851851851851852|22.296296296296298| 28.14814814814815| 10.25925925925926| 23.74074074074074|              34.0| 0.5703971119133574|0.9391575663026521|0.8278867102396514| 13.37037037037037| 12.88888888888889|6.2592592592592595|6.777777777777778|              13.0|13.592592592592593| 2.962962962962963|2.6666666666666665|              17.0|18.074074074074073|\n",
            "|  2013|  1102|  15|   13|      28| 0.5357142857142857| 68.92857142857143|   68.42857142857143|1.0073068893528183| 0.03571428571428571|24.392857142857142| 0.4710344827586207|51.785714285714285|24.178571428571427| 8.321428571428571|  0.380718954248366|21.857142857142858| 6.928571428571429|11.821428571428571|0.7274725274725274|             16.25|13.142857142857142|6.857142857142857|22.178571428571427|29.035714285714285|10.571428571428571|22.571428571428573|33.142857142857146| 0.6486486486486487|0.9825949367088608|0.8760775862068966|              15.5|14.357142857142858| 6.214285714285714|5.821428571428571|11.928571428571429|12.428571428571429|1.7142857142857142| 3.142857142857143|17.607142857142858|16.642857142857142|\n",
            "|  2014|  1102|  10|   18|      28|0.35714285714285715| 64.57142857142857|   70.35714285714286| 0.917766497461929| 0.07142857142857142|22.071428571428573| 0.4259131633356306| 51.82142857142857|23.357142857142858| 7.142857142857143|0.32894736842105265|21.714285714285715| 7.178571428571429|13.285714285714286|0.6901669758812616|             19.25|16.464285714285715|8.714285714285714|22.857142857142858|31.571428571428573| 9.892857142857142|24.321428571428573|34.214285714285715| 0.8808664259927798|0.9397944199706314|0.9227557411273486|13.392857142857142|13.642857142857142| 5.285714285714286|6.964285714285714|13.464285714285714|11.678571428571429|2.9642857142857144| 4.535714285714286|18.892857142857142|18.571428571428573|\n",
            "|  2015|  1102|  12|   17|      29|0.41379310344827586| 64.72413793103448|   65.86206896551724|0.9827225130890053|0.034482758620689655|23.620689655172413|0.46535326086956524|50.758620689655174|22.689655172413794| 7.172413793103448| 0.3543441226575809| 20.24137931034483| 8.137931034482758|10.310344827586206|0.6585903083700441|15.655172413793103|12.344827586206897|8.793103448275861| 20.79310344827586|29.586206896551722| 10.03448275862069| 21.06896551724138|31.103448275862068| 0.8762886597938144|0.9869067103109657|0.9512195121951219| 14.89655172413793|14.448275862068966| 6.310344827586207|5.793103448275862|11.724137931034482|12.379310344827585|1.9655172413793103|3.6206896551724137| 17.82758620689655| 17.06896551724138|\n",
            "|  2016|  1102|  12|   18|      30|                0.4| 67.43333333333334|                73.6| 0.916213768115942| 0.13333333333333333|23.233333333333334|0.42216838279830404| 55.03333333333333|              24.7|               6.3| 0.3339222614840989|18.866666666666667| 9.233333333333333|14.666666666666666|0.6738131699846861|21.766666666666666|14.966666666666667|              8.8|              25.5|              34.3| 9.966666666666667|              27.3|37.266666666666666|  0.882943143812709|0.9340659340659341|0.9203935599284436|13.033333333333333|14.633333333333333|               6.1|              6.5|              13.2|13.566666666666666|1.6666666666666667| 4.333333333333333|19.333333333333332|              20.6|\n",
            "|  2017|  1102|  10|   21|      31| 0.3225806451612903| 71.54838709677419|   75.61290322580645|0.9462457337883959|  0.0967741935483871|24.225806451612904|0.42792022792022794| 56.61290322580645|26.258064516129032| 7.935483870967742|0.36283185840707965|21.870967741935484| 9.774193548387096|15.161290322580646|0.7164634146341463|21.161290322580644| 13.32258064516129|9.451612903225806|25.258064516129032| 34.70967741935484| 8.225806451612904|26.225806451612904| 34.45161290322581| 1.1490196078431372|0.9630996309963099|1.0074906367041199|14.483870967741936|15.838709677419354| 5.903225806451613|6.290322580645161|12.483870967741936|12.193548387096774|1.8064516129032258|3.4838709677419355|17.903225806451612|20.580645161290324|\n",
            "|  2018|  1102|  10|   19|      29| 0.3448275862068966|  66.6896551724138|   72.72413793103448|0.9170222854433381|0.034482758620689655| 22.75862068965517| 0.4056545789797173| 56.10344827586207| 25.24137931034483| 7.931034482758621| 0.3248587570621469|24.413793103448278| 9.275862068965518|13.241379310344827|0.7384615384615385| 17.93103448275862| 12.96551724137931|9.827586206896552|22.689655172413794| 32.51724137931034| 9.172413793103448| 26.03448275862069|35.206896551724135| 1.0714285714285714| 0.871523178807947|0.9236043095004897| 13.89655172413793|14.586206896551724| 6.448275862068965|5.586206896551724|12.758620689655173| 13.96551724137931|2.6206896551724137| 3.586206896551724|18.137931034482758|18.724137931034484|\n",
            "|  2019|  1102|  13|   18|      31|0.41935483870967744| 67.38709677419355|   71.90322580645162|0.9371915657245401|                 0.0|24.741935483870968| 0.4472303206997085| 55.32258064516129| 25.70967741935484| 7.258064516129032| 0.3237410071942446|22.419354838709676| 9.419354838709678| 10.64516129032258|0.6804123711340206| 15.64516129032258|11.064516129032258|7.741935483870968|25.548387096774192| 33.29032258064516| 8.129032258064516|25.677419354838708|33.806451612903224| 0.9523809523809523|0.9949748743718593|0.9847328244274809|13.290322580645162|14.064516129032258| 4.806451612903226|7.129032258064516|13.193548387096774|12.161290322580646|1.8064516129032258|2.7096774193548385|16.967741935483872|17.193548387096776|\n",
            "|  2020|  1102|  11|   20|      31| 0.3548387096774194|  72.2258064516129|   75.61290322580645|0.9552047781569966|                 0.0|24.838709677419356|0.45081967213114754|55.096774193548384|26.580645161290324| 8.580645161290322|0.36944444444444446|23.225806451612904| 10.35483870967742| 13.96774193548387|0.7240802675585284| 19.29032258064516|12.096774193548388|7.419354838709677|24.741935483870968| 32.16129032258065| 7.290322580645161|25.516129032258064|32.806451612903224| 1.0176991150442478|0.9696586599241467|0.9803343166175025|14.483870967741936|14.580645161290322| 4.967741935483871|6.290322580645161|12.451612903225806| 11.32258064516129|1.2258064516129032| 2.806451612903226|16.870967741935484| 18.93548387096774|\n",
            "|  2021|  1102|   5|   20|      25|                0.2|             58.72|               71.92|0.8164627363737486|                 0.0|             20.88| 0.4461538461538462|              46.8|             26.16|              6.96| 0.3301707779886148|             21.08|              7.76|              10.0|0.6925207756232687|             14.44|             11.84|             3.56|              17.2|             20.76|               9.0|             23.12|             32.12|0.39555555555555555|0.7439446366782007|0.6463262764632628|             12.32|             14.72|              7.08|              6.0|             13.16|             13.36|              2.48|              2.12|              4.92|              4.52|\n",
            "|  2022|  1102|  10|   11|      21|0.47619047619047616| 59.95238095238095|  63.333333333333336|0.9466165413533835|                 0.0|21.857142857142858|0.44563106796116503| 49.04761904761905| 22.19047619047619| 7.857142857142857| 0.3540772532188841| 22.19047619047619| 4.809523809523809| 8.380952380952381|0.6423357664233577|13.047619047619047|14.142857142857142|4.809523809523809|20.285714285714285|25.095238095238095| 8.047619047619047|22.952380952380953|              31.0| 0.5976331360946746|0.8838174273858921|0.8095238095238095|12.952380952380953| 9.761904761904763|6.0476190476190474|5.571428571428571|12.095238095238095|12.952380952380953|3.3333333333333335|3.0952380952380953| 18.19047619047619|17.047619047619047|\n",
            "+------+------+----+-----+--------+-------------------+------------------+--------------------+------------------+--------------------+------------------+-------------------+------------------+------------------+------------------+-------------------+------------------+------------------+------------------+------------------+------------------+------------------+-----------------+------------------+------------------+------------------+------------------+------------------+-------------------+------------------+------------------+------------------+------------------+------------------+-----------------+------------------+------------------+------------------+------------------+------------------+------------------+\n",
            "\n"
          ]
        }
      ]
    },
    {
      "cell_type": "code",
      "source": [
        "TourneyInput.filter(TourneyInput.Team1 == 1328).filter(TourneyInput.Season == 2003).show()\n",
        "TourneyInput.filter(TourneyInput.Team2 == 1328).filter(TourneyInput.Season == 2003).show()"
      ],
      "metadata": {
        "colab": {
          "base_uri": "https://localhost:8080/"
        },
        "id": "pdAtFD-p65cx",
        "outputId": "ed049a9a-4b3a-4d95-8a21-e2d725cd80d1"
      },
      "execution_count": 171,
      "outputs": [
        {
          "output_type": "stream",
          "name": "stdout",
          "text": [
            "+------+-----+-----+---------+---------+------+\n",
            "|Season|Team2|Team1|Team1Seed|Team2Seed|Result|\n",
            "+------+-----+-----+---------+---------+------+\n",
            "|  2003| 1139| 1328|       01|       12|     1|\n",
            "|  2003| 1143| 1328|       01|       08|     1|\n",
            "|  2003| 1354| 1328|       01|       16|     1|\n",
            "|  2003| 1139| 1328|       01|       12|     0|\n",
            "|  2003| 1143| 1328|       01|       08|     0|\n",
            "|  2003| 1354| 1328|       01|       16|     0|\n",
            "+------+-----+-----+---------+---------+------+\n",
            "\n",
            "+------+-----+-----+---------+---------+------+\n",
            "|Season|Team2|Team1|Team1Seed|Team2Seed|Result|\n",
            "+------+-----+-----+---------+---------+------+\n",
            "|  2003| 1328| 1393|       03|       01|     1|\n",
            "|  2003| 1328| 1393|       03|       01|     0|\n",
            "+------+-----+-----+---------+---------+------+\n",
            "\n"
          ]
        }
      ]
    },
    {
      "cell_type": "code",
      "source": [
        "RegularSeasonInput.columns\n",
        "# Team 1\n",
        "outscores1 = RegularSeasonInput.withColumnRenamed('TeamID','Team1')\n",
        "#outscores = RegularSeasonInput.withColumnRenamed\n",
        "#combine tourney and season\n",
        "outscores1 = outscores1.join(TourneyInput, ['Season','Team1'])\n",
        "outscores1.show()"
      ],
      "metadata": {
        "colab": {
          "base_uri": "https://localhost:8080/"
        },
        "id": "GNu-LUQd7LzU",
        "outputId": "99b74d78-1e76-466a-8619-4ac61da3e0bc"
      },
      "execution_count": 150,
      "outputs": [
        {
          "output_type": "stream",
          "name": "stdout",
          "text": [
            "+------+-----+----+-----+--------+------------------+-----------------+--------------------+------------------+-------------------+------------------+-------------------+------------------+------------------+-----------------+-------------------+------------------+------------------+------------------+------------------+------------------+------------------+------------------+------------------+-----------------+------------------+------------------+------------------+------------------+------------------+------------------+------------------+------------------+-----------------+-----------------+------------------+------------------+------------------+------------------+------------------+------------------+-----+---------+---------+------+\n",
            "|Season|Team1|Wins|Loses|NumGames|          WinRatio|    PointsPerGame|PointsAllowedPerGame|       PointsRatio|         OTsPerGame|         FGPerGame|            FGRatio|        FGAPerGame|  FGAllowedPerGame|       FG3PerGame|          FG3Ratio'|       FG3APerGame| FG3AllowedPerGame|         FTPerGame|           FTRatio|        FTAPerGame|   FTllowedPerGame|         ORPerGame|         DRPerGame|        TRPerGame|      OppORPerGame|       OppDRPerGam|      OppTRPerGame|           ORRatio|           DRRatio|           TRRatio|        AstPerGame|     OppAstPerGame|       StlPerGame|    OppStlPerGame|         TOPerGame|      OppTOPerGame|        BlkPerGame|     OppBlkPerGame|         PFPerGame|      OppPFPerGame|Team2|Team1Seed|Team2Seed|Result|\n",
            "+------+-----+----+-----+--------+------------------+-----------------+--------------------+------------------+-------------------+------------------+-------------------+------------------+------------------+-----------------+-------------------+------------------+------------------+------------------+------------------+------------------+------------------+------------------+------------------+-----------------+------------------+------------------+------------------+------------------+------------------+------------------+------------------+------------------+-----------------+-----------------+------------------+------------------+------------------+------------------+------------------+------------------+-----+---------+---------+------+\n",
            "|  2003| 1112|  25|    3|      28|0.8928571428571429|85.21428571428571|               70.25|1.2130147432638536|0.07142857142857142|30.321428571428573|0.46141304347826084| 65.71428571428571|26.357142857142858|7.035714285714286| 0.3505338078291815|20.071428571428573| 6.321428571428571|17.535714285714285|0.7014285714285714|              25.0|11.214285714285714|15.178571428571429|27.642857142857142|42.82142857142857|13.107142857142858|23.285714285714285|36.392857142857146|1.1580381471389645| 1.187116564417178|1.1766437684003925|17.642857142857142|15.464285714285714|8.464285714285714|5.964285714285714|14.785714285714286|16.857142857142858| 4.214285714285714| 2.392857142857143|             17.75|22.071428571428573| 1436|       01|       16|     0|\n",
            "|  2003| 1112|  25|    3|      28|0.8928571428571429|85.21428571428571|               70.25|1.2130147432638536|0.07142857142857142|30.321428571428573|0.46141304347826084| 65.71428571428571|26.357142857142858|7.035714285714286| 0.3505338078291815|20.071428571428573| 6.321428571428571|17.535714285714285|0.7014285714285714|              25.0|11.214285714285714|15.178571428571429|27.642857142857142|42.82142857142857|13.107142857142858|23.285714285714285|36.392857142857146|1.1580381471389645| 1.187116564417178|1.1766437684003925|17.642857142857142|15.464285714285714|8.464285714285714|5.964285714285714|14.785714285714286|16.857142857142858| 4.214285714285714| 2.392857142857143|             17.75|22.071428571428573| 1211|       01|       09|     0|\n",
            "|  2003| 1112|  25|    3|      28|0.8928571428571429|85.21428571428571|               70.25|1.2130147432638536|0.07142857142857142|30.321428571428573|0.46141304347826084| 65.71428571428571|26.357142857142858|7.035714285714286| 0.3505338078291815|20.071428571428573| 6.321428571428571|17.535714285714285|0.7014285714285714|              25.0|11.214285714285714|15.178571428571429|27.642857142857142|42.82142857142857|13.107142857142858|23.285714285714285|36.392857142857146|1.1580381471389645| 1.187116564417178|1.1766437684003925|17.642857142857142|15.464285714285714|8.464285714285714|5.964285714285714|14.785714285714286|16.857142857142858| 4.214285714285714| 2.392857142857143|             17.75|22.071428571428573| 1323|       01|       05|     0|\n",
            "|  2003| 1112|  25|    3|      28|0.8928571428571429|85.21428571428571|               70.25|1.2130147432638536|0.07142857142857142|30.321428571428573|0.46141304347826084| 65.71428571428571|26.357142857142858|7.035714285714286| 0.3505338078291815|20.071428571428573| 6.321428571428571|17.535714285714285|0.7014285714285714|              25.0|11.214285714285714|15.178571428571429|27.642857142857142|42.82142857142857|13.107142857142858|23.285714285714285|36.392857142857146|1.1580381471389645| 1.187116564417178|1.1766437684003925|17.642857142857142|15.464285714285714|8.464285714285714|5.964285714285714|14.785714285714286|16.857142857142858| 4.214285714285714| 2.392857142857143|             17.75|22.071428571428573| 1436|       01|       16|     1|\n",
            "|  2003| 1112|  25|    3|      28|0.8928571428571429|85.21428571428571|               70.25|1.2130147432638536|0.07142857142857142|30.321428571428573|0.46141304347826084| 65.71428571428571|26.357142857142858|7.035714285714286| 0.3505338078291815|20.071428571428573| 6.321428571428571|17.535714285714285|0.7014285714285714|              25.0|11.214285714285714|15.178571428571429|27.642857142857142|42.82142857142857|13.107142857142858|23.285714285714285|36.392857142857146|1.1580381471389645| 1.187116564417178|1.1766437684003925|17.642857142857142|15.464285714285714|8.464285714285714|5.964285714285714|14.785714285714286|16.857142857142858| 4.214285714285714| 2.392857142857143|             17.75|22.071428571428573| 1211|       01|       09|     1|\n",
            "|  2003| 1112|  25|    3|      28|0.8928571428571429|85.21428571428571|               70.25|1.2130147432638536|0.07142857142857142|30.321428571428573|0.46141304347826084| 65.71428571428571|26.357142857142858|7.035714285714286| 0.3505338078291815|20.071428571428573| 6.321428571428571|17.535714285714285|0.7014285714285714|              25.0|11.214285714285714|15.178571428571429|27.642857142857142|42.82142857142857|13.107142857142858|23.285714285714285|36.392857142857146|1.1580381471389645| 1.187116564417178|1.1766437684003925|17.642857142857142|15.464285714285714|8.464285714285714|5.964285714285714|14.785714285714286|16.857142857142858| 4.214285714285714| 2.392857142857143|             17.75|22.071428571428573| 1323|       01|       05|     1|\n",
            "|  2003| 1113|  18|   11|      29|0.6206896551724138|75.96551724137932|   69.17241379310344|1.0982053838484547|0.06896551724137931| 27.20689655172414| 0.4781818181818182| 56.89655172413793| 24.79310344827586|              4.0| 0.3178082191780822|12.586206896551724| 5.448275862068965|17.551724137931036|0.6697368421052632| 26.20689655172414|14.137931034482758|13.689655172413794|23.310344827586206|             37.0|              11.0|20.551724137931036|31.551724137931036| 1.244514106583072|1.1342281879194631|1.1726775956284152|15.551724137931034|14.068965517241379|5.206896551724138|              6.0|              14.0|15.517241379310345| 4.241379310344827|3.9310344827586206|19.413793103448278|22.862068965517242| 1272|       10|       07|     0|\n",
            "|  2003| 1113|  18|   11|      29|0.6206896551724138|75.96551724137932|   69.17241379310344|1.0982053838484547|0.06896551724137931| 27.20689655172414| 0.4781818181818182| 56.89655172413793| 24.79310344827586|              4.0| 0.3178082191780822|12.586206896551724| 5.448275862068965|17.551724137931036|0.6697368421052632| 26.20689655172414|14.137931034482758|13.689655172413794|23.310344827586206|             37.0|              11.0|20.551724137931036|31.551724137931036| 1.244514106583072|1.1342281879194631|1.1726775956284152|15.551724137931034|14.068965517241379|5.206896551724138|              6.0|              14.0|15.517241379310345| 4.241379310344827|3.9310344827586206|19.413793103448278|22.862068965517242| 1272|       10|       07|     1|\n",
            "|  2003| 1120|  19|   11|      30|0.6333333333333333|             70.1|   65.56666666666666|1.0691408235892221|                0.0|              25.7|0.46983546617915906|              54.7|              23.8|5.633333333333334| 0.3448979591836735|16.333333333333332|               6.9|13.066666666666666|0.6621621621621622|19.733333333333334|11.066666666666666|11.933333333333334|22.566666666666666|             34.5|12.233333333333333|              20.6|32.833333333333336|0.9754768392370572|1.0954692556634305|1.0507614213197969|              13.4|12.666666666666666|8.033333333333333|7.833333333333333|              15.9|              15.8| 4.966666666666667|2.6666666666666665|16.366666666666667|19.133333333333333| 1386|       10|       07|     0|\n",
            "|  2003| 1120|  19|   11|      30|0.6333333333333333|             70.1|   65.56666666666666|1.0691408235892221|                0.0|              25.7|0.46983546617915906|              54.7|              23.8|5.633333333333334| 0.3448979591836735|16.333333333333332|               6.9|13.066666666666666|0.6621621621621622|19.733333333333334|11.066666666666666|11.933333333333334|22.566666666666666|             34.5|12.233333333333333|              20.6|32.833333333333336|0.9754768392370572|1.0954692556634305|1.0507614213197969|              13.4|12.666666666666666|8.033333333333333|7.833333333333333|              15.9|              15.8| 4.966666666666667|2.6666666666666665|16.366666666666667|19.133333333333333| 1448|       10|       02|     0|\n",
            "|  2003| 1120|  19|   11|      30|0.6333333333333333|             70.1|   65.56666666666666|1.0691408235892221|                0.0|              25.7|0.46983546617915906|              54.7|              23.8|5.633333333333334| 0.3448979591836735|16.333333333333332|               6.9|13.066666666666666|0.6621621621621622|19.733333333333334|11.066666666666666|11.933333333333334|22.566666666666666|             34.5|12.233333333333333|              20.6|32.833333333333336|0.9754768392370572|1.0954692556634305|1.0507614213197969|              13.4|12.666666666666666|8.033333333333333|7.833333333333333|              15.9|              15.8| 4.966666666666667|2.6666666666666665|16.366666666666667|19.133333333333333| 1386|       10|       07|     1|\n",
            "|  2003| 1120|  19|   11|      30|0.6333333333333333|             70.1|   65.56666666666666|1.0691408235892221|                0.0|              25.7|0.46983546617915906|              54.7|              23.8|5.633333333333334| 0.3448979591836735|16.333333333333332|               6.9|13.066666666666666|0.6621621621621622|19.733333333333334|11.066666666666666|11.933333333333334|22.566666666666666|             34.5|12.233333333333333|              20.6|32.833333333333336|0.9754768392370572|1.0954692556634305|1.0507614213197969|              13.4|12.666666666666666|8.033333333333333|7.833333333333333|              15.9|              15.8| 4.966666666666667|2.6666666666666665|16.366666666666667|19.133333333333333| 1448|       10|       02|     1|\n",
            "|  2003| 1139|  24|    5|      29|0.8275862068965517|68.58620689655173|   60.93103448275862|1.1256366723259763|0.13793103448275862| 24.06896551724138|0.47515316541865216|  50.6551724137931| 23.03448275862069|8.482758620689655|0.38801261829652994|21.862068965517242| 4.896551724137931| 11.96551724137931|0.7229166666666667|16.551724137931036|  9.96551724137931| 7.827586206896552|20.379310344827587|28.20689655172414|10.448275862068966| 20.20689655172414|30.655172413793103|0.7491749174917491|1.0085324232081911|0.9201349831271091| 12.96551724137931| 9.620689655172415|6.344827586206897|4.758620689655173|10.413793103448276|              12.0|1.8620689655172413|2.8620689655172415| 16.06896551724138| 16.82758620689655| 1280|       12|       05|     0|\n",
            "|  2003| 1139|  24|    5|      29|0.8275862068965517|68.58620689655173|   60.93103448275862|1.1256366723259763|0.13793103448275862| 24.06896551724138|0.47515316541865216|  50.6551724137931| 23.03448275862069|8.482758620689655|0.38801261829652994|21.862068965517242| 4.896551724137931| 11.96551724137931|0.7229166666666667|16.551724137931036|  9.96551724137931| 7.827586206896552|20.379310344827587|28.20689655172414|10.448275862068966| 20.20689655172414|30.655172413793103|0.7491749174917491|1.0085324232081911|0.9201349831271091| 12.96551724137931| 9.620689655172415|6.344827586206897|4.758620689655173|10.413793103448276|              12.0|1.8620689655172413|2.8620689655172415| 16.06896551724138| 16.82758620689655| 1257|       12|       04|     0|\n",
            "|  2003| 1139|  24|    5|      29|0.8275862068965517|68.58620689655173|   60.93103448275862|1.1256366723259763|0.13793103448275862| 24.06896551724138|0.47515316541865216|  50.6551724137931| 23.03448275862069|8.482758620689655|0.38801261829652994|21.862068965517242| 4.896551724137931| 11.96551724137931|0.7229166666666667|16.551724137931036|  9.96551724137931| 7.827586206896552|20.379310344827587|28.20689655172414|10.448275862068966| 20.20689655172414|30.655172413793103|0.7491749174917491|1.0085324232081911|0.9201349831271091| 12.96551724137931| 9.620689655172415|6.344827586206897|4.758620689655173|10.413793103448276|              12.0|1.8620689655172413|2.8620689655172415| 16.06896551724138| 16.82758620689655| 1280|       12|       05|     1|\n",
            "|  2003| 1139|  24|    5|      29|0.8275862068965517|68.58620689655173|   60.93103448275862|1.1256366723259763|0.13793103448275862| 24.06896551724138|0.47515316541865216|  50.6551724137931| 23.03448275862069|8.482758620689655|0.38801261829652994|21.862068965517242| 4.896551724137931| 11.96551724137931|0.7229166666666667|16.551724137931036|  9.96551724137931| 7.827586206896552|20.379310344827587|28.20689655172414|10.448275862068966| 20.20689655172414|30.655172413793103|0.7491749174917491|1.0085324232081911|0.9201349831271091| 12.96551724137931| 9.620689655172415|6.344827586206897|4.758620689655173|10.413793103448276|              12.0|1.8620689655172413|2.8620689655172415| 16.06896551724138| 16.82758620689655| 1257|       12|       04|     1|\n",
            "|  2003| 1141|  23|    6|      29|0.7931034482758621|79.34482758620689|   73.24137931034483|1.0833333333333333|                0.0|26.620689655172413| 0.5052356020942408|52.689655172413794|26.344827586206897|6.827586206896552|0.38076923076923075| 17.93103448275862|4.9655172413793105|19.275862068965516|0.7657534246575343| 25.17241379310345|15.586206896551724|10.586206896551724|23.275862068965516|33.86206896551724|12.241379310344827|18.896551724137932|31.137931034482758|0.8647887323943662|1.2317518248175183|1.0874861572535992|15.620689655172415|11.793103448275861|7.103448275862069|8.448275862068966| 18.24137931034483| 16.06896551724138|               4.0|2.4827586206896552| 20.96551724137931|21.689655172413794| 1166|       11|       06|     0|\n",
            "|  2003| 1141|  23|    6|      29|0.7931034482758621|79.34482758620689|   73.24137931034483|1.0833333333333333|                0.0|26.620689655172413| 0.5052356020942408|52.689655172413794|26.344827586206897|6.827586206896552|0.38076923076923075| 17.93103448275862|4.9655172413793105|19.275862068965516|0.7657534246575343| 25.17241379310345|15.586206896551724|10.586206896551724|23.275862068965516|33.86206896551724|12.241379310344827|18.896551724137932|31.137931034482758|0.8647887323943662|1.2317518248175183|1.0874861572535992|15.620689655172415|11.793103448275861|7.103448275862069|8.448275862068966| 18.24137931034483| 16.06896551724138|               4.0|2.4827586206896552| 20.96551724137931|21.689655172413794| 1166|       11|       06|     1|\n",
            "|  2003| 1143|  21|    8|      29|0.7241379310344828|74.48275862068965|   69.75862068965517|1.0677212061295107|0.10344827586206896|27.344827586206897|0.46564885496183206|58.724137931034484|25.379310344827587|6.413793103448276| 0.3765182186234818| 17.03448275862069| 7.103448275862069|13.379310344827585|0.6855123674911661|19.517241379310345| 11.89655172413793|11.241379310344827|24.379310344827587|35.62068965517241|11.172413793103448|              23.0|34.172413793103445|1.0061728395061729|1.0599700149925038|1.0423814328960646|              16.0| 16.03448275862069|6.551724137931035|5.931034482758621|14.172413793103448|14.931034482758621| 2.793103448275862|2.5172413793103448|17.103448275862068|19.103448275862068| 1301|       08|       09|     0|\n",
            "|  2003| 1143|  21|    8|      29|0.7241379310344828|74.48275862068965|   69.75862068965517|1.0677212061295107|0.10344827586206896|27.344827586206897|0.46564885496183206|58.724137931034484|25.379310344827587|6.413793103448276| 0.3765182186234818| 17.03448275862069| 7.103448275862069|13.379310344827585|0.6855123674911661|19.517241379310345| 11.89655172413793|11.241379310344827|24.379310344827587|35.62068965517241|11.172413793103448|              23.0|34.172413793103445|1.0061728395061729|1.0599700149925038|1.0423814328960646|              16.0| 16.03448275862069|6.551724137931035|5.931034482758621|14.172413793103448|14.931034482758621| 2.793103448275862|2.5172413793103448|17.103448275862068|19.103448275862068| 1301|       08|       09|     1|\n",
            "+------+-----+----+-----+--------+------------------+-----------------+--------------------+------------------+-------------------+------------------+-------------------+------------------+------------------+-----------------+-------------------+------------------+------------------+------------------+------------------+------------------+------------------+------------------+------------------+-----------------+------------------+------------------+------------------+------------------+------------------+------------------+------------------+------------------+-----------------+-----------------+------------------+------------------+------------------+------------------+------------------+------------------+-----+---------+---------+------+\n",
            "only showing top 20 rows\n",
            "\n"
          ]
        }
      ]
    },
    {
      "cell_type": "code",
      "source": [
        "outscores2 = RegularSeasonInput.withColumnRenamed('TeamID','Team2')\n",
        "outscores2 = outscores2.join(TourneyInput, ['Season','Team2'])\n",
        "\n",
        "'''#rename columns\n",
        "outscores2 = outscores2.withColumnRenamed('Wins','Team2Wins')\n",
        "outscores2 = outscores2.withColumnRenamed('Loses','Team2Loses')\n",
        "outscores2 = outscores2.withColumnRenamed('NumGames','Team2NumGames')\n",
        "outscores2 = outscores2.withColumnRenamed('WinRatio','Team2WinRatio')\n",
        "outscores2 = outscores2.withColumnRenamed('PointsPerGame','Team2PointsPerGame')\n",
        "outscores2 = outscores2.withColumnRenamed('PointsAllowedPerGame','Team2PointsAllowedPerGame')\n",
        "outscores2 = outscores2.withColumnRenamed('','Team2')\n",
        "outscores2 = outscores2.withColumnRenamed('','Team2')\n",
        "outscores2 = outscores2.withColumnRenamed('','Team2')\n",
        "outscores2 = outscores2.withColumnRenamed('','Team2')\n",
        "outscores2 = outscores2.withColumnRenamed('','Team2')\n",
        "PointsAllowedPerGame|       PointsRatio|         OTsPerGame|         FGPerGame|            FGRatio|        FGAPerGame|  FGAllowedPerGame|       FG3PerGame|          FG3Ratio'|       FG3APerGame| FG3AllowedPerGame|         FTPerGame|           FTRatio|        FTAPerGame|   FTllowedPerGame|         ORPerGame|         DRPerGame|         TRPerGame|      OppORPerGame|       OppDRPerGam|      OppTRPerGame|           ORRatio|           DRRatio|           TRRatio|        AstPerGame|     OppAstPerGame|       StlPerGame|    OppStlPerGame|         TOPerGame|      OppTOPerGame|        BlkPerGame|     OppBlkPerGame|         PFPerGame|      OppPFPerGame|Team1|Team1Seed|Team2Seed|Result|\n",
        "'''\n",
        "#outscores2.show()\n",
        "\n",
        "outscores2.filter(outscores2.Team2 == 1436).show()"
      ],
      "metadata": {
        "colab": {
          "base_uri": "https://localhost:8080/"
        },
        "id": "CLXGhXOl9R9f",
        "outputId": "d36282cc-e4e8-4a95-ac6f-1c66c129ee66"
      },
      "execution_count": 161,
      "outputs": [
        {
          "output_type": "stream",
          "name": "stdout",
          "text": [
            "+------+-----+----+-----+--------+------------------+-----------------+--------------------+------------------+--------------------+------------------+-------------------+------------------+------------------+------------------+-------------------+------------------+-----------------+------------------+------------------+------------------+------------------+------------------+------------------+------------------+------------------+------------------+------------------+------------------+------------------+------------------+------------------+------------------+-----------------+-----------------+------------------+------------------+------------------+------------------+------------------+------------------+-----+---------+---------+------+\n",
            "|Season|Team2|Wins|Loses|NumGames|          WinRatio|    PointsPerGame|PointsAllowedPerGame|       PointsRatio|          OTsPerGame|         FGPerGame|            FGRatio|        FGAPerGame|  FGAllowedPerGame|        FG3PerGame|          FG3Ratio'|       FG3APerGame|FG3AllowedPerGame|         FTPerGame|           FTRatio|        FTAPerGame|   FTllowedPerGame|         ORPerGame|         DRPerGame|         TRPerGame|      OppORPerGame|       OppDRPerGam|      OppTRPerGame|           ORRatio|           DRRatio|           TRRatio|        AstPerGame|     OppAstPerGame|       StlPerGame|    OppStlPerGame|         TOPerGame|      OppTOPerGame|        BlkPerGame|     OppBlkPerGame|         PFPerGame|      OppPFPerGame|Team1|Team1Seed|Team2Seed|Result|\n",
            "+------+-----+----+-----+--------+------------------+-----------------+--------------------+------------------+--------------------+------------------+-------------------+------------------+------------------+------------------+-------------------+------------------+-----------------+------------------+------------------+------------------+------------------+------------------+------------------+------------------+------------------+------------------+------------------+------------------+------------------+------------------+------------------+------------------+-----------------+-----------------+------------------+------------------+------------------+------------------+------------------+------------------+-----+---------+---------+------+\n",
            "|  2003| 1436|  19|   10|      29|0.6551724137931034|67.79310344827586|   63.13793103448276|1.0737302020753687| 0.06896551724137931| 24.82758620689655| 0.4444444444444444| 55.86206896551724| 22.75862068965517| 5.275862068965517|0.34075723830734966|15.482758620689655|7.068965517241379|12.862068965517242|0.6578483245149912|19.551724137931036|10.551724137931034| 12.96551724137931|25.724137931034484|38.689655172413794| 9.586206896551724|21.862068965517242|31.448275862068964|1.3525179856115108|1.1766561514195584| 1.230263157894737|14.206896551724139|13.275862068965518|6.862068965517241|7.103448275862069|14.068965517241379|              13.0|2.9655172413793105|3.6551724137931036| 15.89655172413793| 17.93103448275862| 1112|       01|       16|     1|\n",
            "|  2003| 1436|  19|   10|      29|0.6551724137931034|67.79310344827586|   63.13793103448276|1.0737302020753687| 0.06896551724137931| 24.82758620689655| 0.4444444444444444| 55.86206896551724| 22.75862068965517| 5.275862068965517|0.34075723830734966|15.482758620689655|7.068965517241379|12.862068965517242|0.6578483245149912|19.551724137931036|10.551724137931034| 12.96551724137931|25.724137931034484|38.689655172413794| 9.586206896551724|21.862068965517242|31.448275862068964|1.3525179856115108|1.1766561514195584| 1.230263157894737|14.206896551724139|13.275862068965518|6.862068965517241|7.103448275862069|14.068965517241379|              13.0|2.9655172413793105|3.6551724137931036| 15.89655172413793| 17.93103448275862| 1112|       01|       16|     0|\n",
            "|  2004| 1436|  22|    8|      30|0.7333333333333333|             66.4|                62.1| 1.069243156199678|                 0.0|23.833333333333332| 0.4261025029797378| 55.93333333333333|23.733333333333334|               6.4| 0.3282051282051282|              19.5|6.266666666666667|12.333333333333334|0.6788990825688074|18.166666666666668| 8.366666666666667|11.633333333333333|              24.9| 36.53333333333333| 9.733333333333333|23.833333333333332| 33.56666666666667|1.1952054794520548|1.0447552447552448|1.0883813306852035|14.566666666666666|              13.7|              7.0|6.266666666666667|12.566666666666666|              13.0|2.8666666666666667| 4.133333333333334|15.266666666666667|17.733333333333334| 1163|       02|       15|     1|\n",
            "|  2004| 1436|  22|    8|      30|0.7333333333333333|             66.4|                62.1| 1.069243156199678|                 0.0|23.833333333333332| 0.4261025029797378| 55.93333333333333|23.733333333333334|               6.4| 0.3282051282051282|              19.5|6.266666666666667|12.333333333333334|0.6788990825688074|18.166666666666668| 8.366666666666667|11.633333333333333|              24.9| 36.53333333333333| 9.733333333333333|23.833333333333332| 33.56666666666667|1.1952054794520548|1.0447552447552448|1.0883813306852035|14.566666666666666|              13.7|              7.0|6.266666666666667|12.566666666666666|              13.0|2.8666666666666667| 4.133333333333334|15.266666666666667|17.733333333333334| 1163|       02|       15|     0|\n",
            "|  2005| 1436|  24|    6|      30|               0.8|             72.6|   61.93333333333333|1.1722282023681379|                 0.0|25.366666666666667| 0.4416715031921068| 57.43333333333333|              22.7|               8.5| 0.3601694915254237|              23.6|6.166666666666667|13.366666666666667|0.7199281867145422|18.566666666666666|10.366666666666667|12.033333333333333|25.866666666666667|              37.9| 9.033333333333333|23.166666666666668|              32.2|1.3321033210332103|1.1165467625899281|1.1770186335403727|              15.8|12.266666666666667|6.733333333333333|6.166666666666667|11.866666666666667|              12.6|               1.9|               2.8|15.833333333333334|              17.6| 1277|       05|       13|     1|\n",
            "|  2005| 1436|  24|    6|      30|               0.8|             72.6|   61.93333333333333|1.1722282023681379|                 0.0|25.366666666666667| 0.4416715031921068| 57.43333333333333|              22.7|               8.5| 0.3601694915254237|              23.6|6.166666666666667|13.366666666666667|0.7199281867145422|18.566666666666666|10.366666666666667|12.033333333333333|25.866666666666667|              37.9| 9.033333333333333|23.166666666666668|              32.2|1.3321033210332103|1.1165467625899281|1.1770186335403727|              15.8|12.266666666666667|6.733333333333333|6.166666666666667|11.866666666666667|              12.6|               1.9|               2.8|15.833333333333334|              17.6| 1277|       05|       13|     0|\n",
            "|  2010| 1436|  25|    9|      34|0.7352941176470589|70.61764705882354|    64.3529411764706|1.0973491773308959|0.029411764705882353| 23.61764705882353| 0.4416941694169417|53.470588235294116| 22.58823529411765| 4.735294117647059| 0.3207171314741036|14.764705882352942|5.470588235294118|18.647058823529413|0.6891304347826087|27.058823529411764|13.705882352941176|12.264705882352942|24.852941176470587| 37.11764705882353|12.411764705882353| 21.58823529411765|              34.0|0.9881516587677726| 1.151226158038147|1.0916955017301038|12.058823529411764|10.676470588235293|6.794117647058823|6.911764705882353|14.058823529411764|13.617647058823529| 4.117647058823529|3.6470588235294117|18.352941176470587|22.441176470588236| 1393|       01|       16|     1|\n",
            "|  2010| 1436|  25|    9|      34|0.7352941176470589|70.61764705882354|    64.3529411764706|1.0973491773308959|0.029411764705882353| 23.61764705882353| 0.4416941694169417|53.470588235294116| 22.58823529411765| 4.735294117647059| 0.3207171314741036|14.764705882352942|5.470588235294118|18.647058823529413|0.6891304347826087|27.058823529411764|13.705882352941176|12.264705882352942|24.852941176470587| 37.11764705882353|12.411764705882353| 21.58823529411765|              34.0|0.9881516587677726| 1.151226158038147|1.0916955017301038|12.058823529411764|10.676470588235293|6.794117647058823|6.911764705882353|14.058823529411764|13.617647058823529| 4.117647058823529|3.6470588235294117|18.352941176470587|22.441176470588236| 1393|       01|       16|     0|\n",
            "|  2012| 1436|  23|   11|      34|0.6764705882352942|67.23529411764706|                60.5|1.1113271754982985| 0.08823529411764706|23.470588235294116| 0.4430871737923376|52.970588235294116|21.647058823529413| 5.411764705882353| 0.3458646616541353|15.647058823529411|5.352941176470588|14.882352941176471|0.7419354838709677|20.058823529411764|11.852941176470589|11.058823529411764|24.294117647058822| 35.35294117647059|10.382352941176471|21.323529411764707|31.705882352941178| 1.065155807365439|1.1393103448275863|1.1150278293135436|13.264705882352942| 9.941176470588236|6.235294117647059|5.647058823529412|12.352941176470589|12.764705882352942|2.3823529411764706| 3.235294117647059|17.323529411764707|18.764705882352942| 1314|       01|       16|     1|\n",
            "|  2012| 1436|  23|   11|      34|0.6764705882352942|67.23529411764706|                60.5|1.1113271754982985| 0.08823529411764706|23.470588235294116| 0.4430871737923376|52.970588235294116|21.647058823529413| 5.411764705882353| 0.3458646616541353|15.647058823529411|5.352941176470588|14.882352941176471|0.7419354838709677|20.058823529411764|11.852941176470589|11.058823529411764|24.294117647058822| 35.35294117647059|10.382352941176471|21.323529411764707|31.705882352941178| 1.065155807365439|1.1393103448275863|1.1150278293135436|13.264705882352942| 9.941176470588236|6.235294117647059|5.647058823529412|12.352941176470589|12.764705882352942|2.3823529411764706| 3.235294117647059|17.323529411764707|18.764705882352942| 1314|       01|       16|     0|\n",
            "|  2017| 1436|  28|    5|      33|0.8484848484848485|73.39393939393939|   62.84848484848485| 1.167791706846673|                 0.0|26.939393939393938|0.49664804469273743| 54.24242424242424|23.454545454545453|6.2727272727272725| 0.3670212765957447| 17.09090909090909|5.696969696969697|13.242424242424242|0.7003205128205128| 18.90909090909091|10.242424242424242| 9.181818181818182|24.424242424242426| 33.60606060606061| 8.969696969696969|21.333333333333332|30.303030303030305|1.0236486486486487|1.1448863636363635|             1.109|13.242424242424242|10.363636363636363|5.575757575757576|5.393939393939394|11.151515151515152|12.878787878787879| 4.454545454545454| 2.696969696969697| 16.09090909090909|18.575757575757574| 1345|       04|       13|     1|\n",
            "|  2017| 1436|  28|    5|      33|0.8484848484848485|73.39393939393939|   62.84848484848485| 1.167791706846673|                 0.0|26.939393939393938|0.49664804469273743| 54.24242424242424|23.454545454545453|6.2727272727272725| 0.3670212765957447| 17.09090909090909|5.696969696969697|13.242424242424242|0.7003205128205128| 18.90909090909091|10.242424242424242| 9.181818181818182|24.424242424242426| 33.60606060606061| 8.969696969696969|21.333333333333332|30.303030303030305|1.0236486486486487|1.1448863636363635|             1.109|13.242424242424242|10.363636363636363|5.575757575757576|5.393939393939394|11.151515151515152|12.878787878787879| 4.454545454545454| 2.696969696969697| 16.09090909090909|18.575757575757574| 1345|       04|       13|     0|\n",
            "|  2019| 1436|  26|    6|      32|            0.8125|         72.40625|            62.84375|1.1521631029338637|                 0.0|           24.8125| 0.4526795895096921|           54.8125|           22.6875|            7.8125| 0.3531073446327684|            22.125|             7.25|          14.96875|0.7531446540880503|            19.875|          10.21875|            8.9375|          25.71875|          34.65625|            7.1875|          23.59375|          30.78125|1.2434782608695651|1.0900662251655628|1.1258883248730964|              11.5|          10.71875|          5.40625|          5.46875|              11.0|            12.875|            3.9375|            2.8125|          16.59375|          19.40625| 1199|       04|       13|     1|\n",
            "|  2019| 1436|  26|    6|      32|            0.8125|         72.40625|            62.84375|1.1521631029338637|                 0.0|           24.8125| 0.4526795895096921|           54.8125|           22.6875|            7.8125| 0.3531073446327684|            22.125|             7.25|          14.96875|0.7531446540880503|            19.875|          10.21875|            8.9375|          25.71875|          34.65625|            7.1875|          23.59375|          30.78125|1.2434782608695651|1.0900662251655628|1.1258883248730964|              11.5|          10.71875|          5.40625|          5.46875|              11.0|            12.875|            3.9375|            2.8125|          16.59375|          19.40625| 1199|       04|       13|     0|\n",
            "+------+-----+----+-----+--------+------------------+-----------------+--------------------+------------------+--------------------+------------------+-------------------+------------------+------------------+------------------+-------------------+------------------+-----------------+------------------+------------------+------------------+------------------+------------------+------------------+------------------+------------------+------------------+------------------+------------------+------------------+------------------+------------------+------------------+-----------------+-----------------+------------------+------------------+------------------+------------------+------------------+------------------+-----+---------+---------+------+\n",
            "\n"
          ]
        }
      ]
    },
    {
      "cell_type": "code",
      "source": [
        "# combine on season, team 1, team 2 and result"
      ],
      "metadata": {
        "id": "HaE3wDpY_M_x"
      },
      "execution_count": null,
      "outputs": []
    },
    {
      "cell_type": "code",
      "source": [
        "# Team 2\n",
        "#outscores = RegularSeasonInput.withColumnRenamed\n",
        "#combine tourney and season"
      ],
      "metadata": {
        "id": "pDfVeSbLyvjR"
      },
      "execution_count": 139,
      "outputs": []
    },
    {
      "cell_type": "markdown",
      "source": [
        "# Model Building"
      ],
      "metadata": {
        "id": "GOjUd98MyMlQ"
      }
    },
    {
      "cell_type": "code",
      "source": [
        "spark.conf.set(\"spark.sql.execution.arrow.enabled\",\"true\")\n",
        "df=spark.createDataFrame(outscores) \n",
        "df.printSchema()\n",
        "df.show()"
      ],
      "metadata": {
        "colab": {
          "base_uri": "https://localhost:8080/",
          "height": 222
        },
        "id": "ZH-nFf2Q2r_T",
        "outputId": "72c52ce0-698c-47e3-aefa-43d41660bdb7"
      },
      "execution_count": 140,
      "outputs": [
        {
          "output_type": "error",
          "ename": "NameError",
          "evalue": "ignored",
          "traceback": [
            "\u001b[0;31m---------------------------------------------------------------------------\u001b[0m",
            "\u001b[0;31mNameError\u001b[0m                                 Traceback (most recent call last)",
            "\u001b[0;32m<ipython-input-140-e56f4b5f3a67>\u001b[0m in \u001b[0;36m<module>\u001b[0;34m()\u001b[0m\n\u001b[1;32m      1\u001b[0m \u001b[0mspark\u001b[0m\u001b[0;34m.\u001b[0m\u001b[0mconf\u001b[0m\u001b[0;34m.\u001b[0m\u001b[0mset\u001b[0m\u001b[0;34m(\u001b[0m\u001b[0;34m\"spark.sql.execution.arrow.enabled\"\u001b[0m\u001b[0;34m,\u001b[0m\u001b[0;34m\"true\"\u001b[0m\u001b[0;34m)\u001b[0m\u001b[0;34m\u001b[0m\u001b[0;34m\u001b[0m\u001b[0m\n\u001b[0;32m----> 2\u001b[0;31m \u001b[0mdf\u001b[0m\u001b[0;34m=\u001b[0m\u001b[0mspark\u001b[0m\u001b[0;34m.\u001b[0m\u001b[0mcreateDataFrame\u001b[0m\u001b[0;34m(\u001b[0m\u001b[0moutscores\u001b[0m\u001b[0;34m)\u001b[0m\u001b[0;34m\u001b[0m\u001b[0;34m\u001b[0m\u001b[0m\n\u001b[0m\u001b[1;32m      3\u001b[0m \u001b[0mdf\u001b[0m\u001b[0;34m.\u001b[0m\u001b[0mprintSchema\u001b[0m\u001b[0;34m(\u001b[0m\u001b[0;34m)\u001b[0m\u001b[0;34m\u001b[0m\u001b[0;34m\u001b[0m\u001b[0m\n\u001b[1;32m      4\u001b[0m \u001b[0mdf\u001b[0m\u001b[0;34m.\u001b[0m\u001b[0mshow\u001b[0m\u001b[0;34m(\u001b[0m\u001b[0;34m)\u001b[0m\u001b[0;34m\u001b[0m\u001b[0;34m\u001b[0m\u001b[0m\n",
            "\u001b[0;31mNameError\u001b[0m: name 'outscores' is not defined"
          ]
        }
      ]
    },
    {
      "cell_type": "code",
      "source": [
        "# Assemble all the features with VectorAssembler\n",
        "required_features = ['WinRatio',\n",
        " 'PointsPerGame',\n",
        " 'PointsAllowedPerGame',\n",
        " 'PointsRatio',\n",
        " 'OTsPerGame',\n",
        " 'FGPerGame',\n",
        " 'FGRatio',\n",
        " 'FGAPerGame',\n",
        " 'FGAllowedPerGame',\n",
        " 'FG3PerGame',\n",
        " 'FG3Ratio',\n",
        " 'FG3APerGame',\n",
        " 'FG3AllowedPerGame',\n",
        " 'FTPerGame',\n",
        " 'FTRatio',\n",
        " 'FTAPerGame',\n",
        " 'FTllowedPerGame',\n",
        " 'ORPerGame',\n",
        " 'DRPerGame',\n",
        " 'TRPerGame',\n",
        " 'OppORPerGame',\n",
        " 'OppDRPerGame',\n",
        " 'OppTRPerGame',\n",
        " 'ORRatio',\n",
        " 'DRRatio',\n",
        " 'TRRatio',\n",
        " 'AstPerGame',\n",
        " 'OppAstPerGame',\n",
        " 'StlPerGame',\n",
        " 'OppStlPerGame',\n",
        " 'TOPerGame',\n",
        " 'OppTOPerGame',\n",
        " 'BlkPerGame',\n",
        " 'OppBlkPerGame',\n",
        " 'PFPerGame',\n",
        " 'OppPFPerGame',\n",
        " 'Seed']\n",
        "from pyspark.ml.feature import VectorAssembler\n",
        "assembler = VectorAssembler(inputCols=required_features, outputCol='features')\n",
        "transformed_data = assembler.transform(df)"
      ],
      "metadata": {
        "id": "uGvcb_qyxout"
      },
      "execution_count": null,
      "outputs": []
    },
    {
      "cell_type": "code",
      "source": [
        "transformed_data.show()"
      ],
      "metadata": {
        "id": "5pGmn1hu2nAN"
      },
      "execution_count": null,
      "outputs": []
    },
    {
      "cell_type": "code",
      "source": [
        "(training_data, test_data) = transformed_data.randomSplit([0.8,0.2])"
      ],
      "metadata": {
        "id": "2HgrfXIt2ni3"
      },
      "execution_count": null,
      "outputs": []
    },
    {
      "cell_type": "code",
      "source": [
        "from pyspark.ml.classification import LogisticRegression\n",
        "lr = LogisticRegression(featuresCol = 'features', labelCol='Result', maxIter=10, regParam=0.3, elasticNetParam=0.8)\n",
        "M1 = lr.fit(training_data)\n",
        "print(\"Coefficients: \" + str(M1.coefficients))\n",
        "print(\"Intercept: \" + str(M1.intercept))"
      ],
      "metadata": {
        "id": "Gkq1Tqbj2pyL"
      },
      "execution_count": null,
      "outputs": []
    },
    {
      "cell_type": "markdown",
      "source": [
        "# TO DO\n",
        "\n",
        "1.   Get 2022 seeds\n",
        "2.   FIX TOURNEY INPUT\n",
        "3. Combine all regular season stats with Tournament input\n",
        "4.   Break off 2022\n",
        "5.   Make Model\n",
        "\n"
      ],
      "metadata": {
        "id": "ktQUUrrUzE3S"
      }
    }
  ],
  "metadata": {
    "colab": {
      "name": "FinalProject.ipynb",
      "provenance": [],
      "collapsed_sections": [
        "VMwv7b_M6nxw",
        "JttbqUXL_gYp",
        "6RwqudsixElg",
        "8hnp-xo1s9cO",
        "GOjUd98MyMlQ"
      ],
      "authorship_tag": "ABX9TyNau27v0EBsZAhlzrhhOzNh",
      "include_colab_link": true
    },
    "kernelspec": {
      "display_name": "Python 3",
      "name": "python3"
    },
    "language_info": {
      "name": "python"
    }
  },
  "nbformat": 4,
  "nbformat_minor": 0
}