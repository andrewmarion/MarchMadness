{
  "cells": [
    {
      "cell_type": "markdown",
      "metadata": {
        "id": "view-in-github",
        "colab_type": "text"
      },
      "source": [
        "<a href=\"https://colab.research.google.com/github/andrewmarion/MarchMadness/blob/main/FinalProject.ipynb\" target=\"_parent\"><img src=\"https://colab.research.google.com/assets/colab-badge.svg\" alt=\"Open In Colab\"/></a>"
      ]
    },
    {
      "cell_type": "markdown",
      "metadata": {
        "id": "_r8xWz3M_ZR1"
      },
      "source": [
        "# March Madness\n",
        "## Final Project\n",
        "### Group 15: Andrew Marion, Dallas Hutchinson, Aydan Koyles\n"
      ]
    },
    {
      "cell_type": "markdown",
      "metadata": {
        "id": "VMwv7b_M6nxw"
      },
      "source": [
        "# Setting Up File"
      ]
    },
    {
      "cell_type": "code",
      "execution_count": 1,
      "metadata": {
        "id": "XFeSHdrg4QCK"
      },
      "outputs": [],
      "source": [
        "!apt-get install openjdk-8-jdk-headless -qq > /dev/null\n",
        "!wget -q https://archive.apache.org/dist/spark/spark-3.2.0/spark-3.2.0-bin-hadoop3.2.tgz\n",
        "!tar xf spark-3.2.0-bin-hadoop3.2.tgz\n",
        "!pip install -q findspark"
      ]
    },
    {
      "cell_type": "code",
      "execution_count": 2,
      "metadata": {
        "id": "Iyz-0-no4f6U",
        "colab": {
          "base_uri": "https://localhost:8080/"
        },
        "outputId": "b7cc77a1-1fec-4e84-976a-0fa27bd422ad"
      },
      "outputs": [
        {
          "output_type": "stream",
          "name": "stdout",
          "text": [
            "Drive already mounted at /content/gdrive; to attempt to forcibly remount, call drive.mount(\"/content/gdrive\", force_remount=True).\n"
          ]
        }
      ],
      "source": [
        "from google.colab import drive\n",
        "\n",
        "drive.mount('/content/gdrive')"
      ]
    },
    {
      "cell_type": "code",
      "execution_count": 3,
      "metadata": {
        "id": "Sf6DkghV4ikT"
      },
      "outputs": [],
      "source": [
        "import os\n",
        "os.environ[\"JAVA_HOME\"] = \"/usr/lib/jvm/java-8-openjdk-amd64\"\n",
        "os.environ[\"SPARK_HOME\"] = \"spark-3.2.0-bin-hadoop3.2\""
      ]
    },
    {
      "cell_type": "code",
      "execution_count": 4,
      "metadata": {
        "id": "nBXgfIgm4kBS"
      },
      "outputs": [],
      "source": [
        "import findspark\n",
        "findspark.init()"
      ]
    },
    {
      "cell_type": "code",
      "execution_count": 5,
      "metadata": {
        "colab": {
          "base_uri": "https://localhost:8080/",
          "height": 0
        },
        "id": "gHPsL6db5j-7",
        "outputId": "0e79ed0a-7cee-40fb-8409-4c2935be32d0"
      },
      "outputs": [
        {
          "output_type": "execute_result",
          "data": {
            "text/plain": [
              "<SparkContext master=local[*] appName=pyspark-shell>"
            ],
            "text/html": [
              "\n",
              "        <div>\n",
              "            <p><b>SparkContext</b></p>\n",
              "\n",
              "            <p><a href=\"http://31aec0284f06:4040\">Spark UI</a></p>\n",
              "\n",
              "            <dl>\n",
              "              <dt>Version</dt>\n",
              "                <dd><code>v3.2.0</code></dd>\n",
              "              <dt>Master</dt>\n",
              "                <dd><code>local[*]</code></dd>\n",
              "              <dt>AppName</dt>\n",
              "                <dd><code>pyspark-shell</code></dd>\n",
              "            </dl>\n",
              "        </div>\n",
              "        "
            ]
          },
          "metadata": {},
          "execution_count": 5
        }
      ],
      "source": [
        "from pyspark.sql import SparkSession\n",
        "spark = SparkSession.builder.master(\"local[*]\").getOrCreate()\n",
        "sc = spark.sparkContext\n",
        "sc"
      ]
    },
    {
      "cell_type": "markdown",
      "metadata": {
        "id": "JttbqUXL_gYp"
      },
      "source": [
        "# Imports"
      ]
    },
    {
      "cell_type": "code",
      "execution_count": 6,
      "metadata": {
        "id": "iAcoi-tS5m_s"
      },
      "outputs": [],
      "source": [
        "import json\n",
        "from pyspark.mllib.classification import LogisticRegressionModel,LogisticRegressionWithLBFGS, SVMWithSGD, SVMModel\n",
        "from pyspark.mllib.regression import LabeledPoint, LinearRegressionWithSGD, LinearRegressionModel\n",
        "from pyspark.mllib.clustering import *\n",
        "import pyspark.sql\n",
        "from pyspark.sql import Row\n",
        "from pyspark.sql.types import *\n",
        "from pyspark.sql import SparkSession\n",
        "from pyspark.mllib.stat import Statistics\n",
        "from pyspark.ml.linalg import Vectors\n",
        "from pyspark.ml.stat import Correlation\n",
        "from pyspark.ml.clustering import LDA\n",
        "import numpy as np\n",
        "import pyspark.sql.functions as f\n",
        "from pyspark.sql.functions import lit"
      ]
    },
    {
      "cell_type": "markdown",
      "metadata": {
        "id": "6RwqudsixElg"
      },
      "source": [
        "# Read in csv file"
      ]
    },
    {
      "cell_type": "code",
      "execution_count": 7,
      "metadata": {
        "id": "nPFml9US6Vsk"
      },
      "outputs": [],
      "source": [
        "RegularSeason = spark.read.option(\"header\",True).csv(\"/content/gdrive/MyDrive/MDataFiles_Stage1/MRegularSeasonDetailedResults.csv\", inferSchema = True)\n",
        "Seeds = spark.read.option(\"header\",True).csv(\"/content/gdrive/MyDrive/MDataFiles_Stage1/MNCAATourneySeeds.csv\", inferSchema = True)\n",
        "Tourney = spark.read.option(\"header\",True).csv(\"/content/gdrive/MyDrive/MDataFiles_Stage1/MNCAATourneyDetailedResults.csv\", inferSchema = True)\n",
        "Massey = spark.read.option(\"header\",True).csv(\"/content/gdrive/MyDrive/MDataFiles_Stage1/MMasseyOrdinals_thruDay128.csv\", inferSchema = True)\n",
        "Conferences = spark.read.option(\"header\",True).csv(\"/content/gdrive/MyDrive/MDataFiles_Stage1/MNCAATourneySeeds.csv\", inferSchema = True)\n",
        "Coaches = spark.read.option(\"header\",True).csv(\"/content/gdrive/MyDrive/MDataFiles_Stage1/MTeamCoaches.csv\", inferSchema = True)\n",
        "TourneyCompact = spark.read.option(\"header\",True).csv(\"/content/gdrive/MyDrive/MDataFiles_Stage1/MNCAATourneyCompactResults.csv\", inferSchema = True)\n"
      ]
    },
    {
      "cell_type": "markdown",
      "metadata": {
        "id": "5nWnumC2_kTJ"
      },
      "source": [
        "# Clean / Explore Data"
      ]
    },
    {
      "cell_type": "markdown",
      "source": [
        "## Season Input"
      ],
      "metadata": {
        "id": "8hnp-xo1s9cO"
      }
    },
    {
      "cell_type": "code",
      "execution_count": 8,
      "metadata": {
        "id": "Th6pwnvVqQIu"
      },
      "outputs": [],
      "source": [
        "WinTeams = RegularSeason.groupBy('Season', 'WTeamID').sum('WScore','LScore','NumOT','WFGM','WFGA','WFGM3','WFGA3','WFTM','WFTA','WOR','WDR','WAst','WTO','WStl','WBlk','WPF','LFGM','LFGA','LFGM3','LFGA3','LFTM','LFTA','LOR','LDR','LAst','LTO','LStl','LBlk','LPF')\n",
        "LoseTeams = RegularSeason.groupBy('Season', 'LTeamID').sum('WScore','LScore','NumOT','WFGM','WFGA','WFGM3','WFGA3','WFTM','WFTA','WOR','WDR','WAst','WTO','WStl','WBlk','WPF','LFGM','LFGA','LFGM3','LFGA3','LFTM','LFTA','LOR','LDR','LAst','LTO','LStl','LBlk','LPF')"
      ]
    },
    {
      "cell_type": "code",
      "execution_count": 9,
      "metadata": {
        "id": "5RwYbtfmX9Kr"
      },
      "outputs": [],
      "source": [
        "NumWin = RegularSeason.groupBy('Season', 'WTeamID').count()\n",
        "NumWin = NumWin.withColumnRenamed(\"count\", \"Wins\")\n",
        "NumWin = NumWin.withColumnRenamed(\"WTeamID\", \"TeamID\")\n",
        "\n",
        "NumLose = RegularSeason.groupBy('Season', 'LTeamID').count()\n",
        "NumLose = NumLose.withColumnRenamed(\"count\", \"Loses\")\n",
        "NumLose = NumLose.withColumnRenamed(\"LTeamID\", \"TeamID\")\n",
        "\n",
        "merged_df = NumWin.join(NumLose, ['Season','TeamID'])\n",
        "merged_df = merged_df.withColumn('NumGames', merged_df.Wins + merged_df.Loses)"
      ]
    },
    {
      "cell_type": "code",
      "execution_count": 10,
      "metadata": {
        "id": "zQoWWIxE2vrS"
      },
      "outputs": [],
      "source": [
        "# Get all win stats for each team\n",
        "WinTeams = WinTeams.withColumnRenamed(\"WTeamID\", \"TeamID\")\n",
        "WinTeams = WinTeams.withColumnRenamed(\"sum(WScore)\", \"WPTS\")\n",
        "WinTeams = WinTeams.withColumnRenamed(\"sum(LScore)\", \"WOppPTS\")\n",
        "WinTeams = WinTeams.withColumnRenamed(\"sum(NumOT)\", \"WOTs\")\n",
        "WinTeams = WinTeams.withColumnRenamed(\"sum(WFGM)\", \"WFGM\")\n",
        "WinTeams = WinTeams.withColumnRenamed(\"sum(WFGA)\", \"WFGA\")\n",
        "WinTeams = WinTeams.withColumnRenamed(\"sum(WFGA3)\", \"WFGA3\")\n",
        "WinTeams = WinTeams.withColumnRenamed(\"sum(WFGM3)\", \"WFGM3\")\n",
        "WinTeams = WinTeams.withColumnRenamed(\"sum(WFTA)\", \"WFTA\")\n",
        "WinTeams = WinTeams.withColumnRenamed(\"sum(WFTM)\", \"WFTM\")\n",
        "WinTeams = WinTeams.withColumnRenamed(\"sum(WOR)\", \"WOR\")\n",
        "WinTeams = WinTeams.withColumnRenamed(\"sum(WDR)\", \"WDR\")\n",
        "WinTeams = WinTeams.withColumnRenamed(\"sum(WAst)\", \"WAST\")\n",
        "WinTeams = WinTeams.withColumnRenamed(\"sum(WTO)\", \"WTO\")\n",
        "WinTeams = WinTeams.withColumnRenamed(\"sum(WStl)\", \"WSTL\")\n",
        "WinTeams = WinTeams.withColumnRenamed(\"sum(WBlk)\", \"WBLK\")\n",
        "WinTeams = WinTeams.withColumnRenamed(\"sum(WPF)\", \"WPF\")\n",
        "WinTeams = WinTeams.withColumnRenamed(\"sum(LFGM)\", \"WOppFGM\")\n",
        "WinTeams = WinTeams.withColumnRenamed(\"sum(LFGA)\", \"WOppFGA\")\n",
        "WinTeams = WinTeams.withColumnRenamed(\"sum(LFGA3)\", \"WOppFGA3\")\n",
        "WinTeams = WinTeams.withColumnRenamed(\"sum(LFGM3)\", \"WOppFGM3\")\n",
        "WinTeams = WinTeams.withColumnRenamed(\"sum(LFTA)\", \"WOppFTA\")\n",
        "WinTeams = WinTeams.withColumnRenamed(\"sum(LFTM)\", \"WOppFTM\")\n",
        "WinTeams = WinTeams.withColumnRenamed(\"sum(LOR)\", \"WOppOR\")\n",
        "WinTeams = WinTeams.withColumnRenamed(\"sum(LDR)\", \"WOppDR\")\n",
        "WinTeams = WinTeams.withColumnRenamed(\"sum(LAst)\", \"WOppAST\")\n",
        "WinTeams = WinTeams.withColumnRenamed(\"sum(LTO)\", \"WOppTO\")\n",
        "WinTeams = WinTeams.withColumnRenamed(\"sum(LStl)\", \"WOppSTL\")\n",
        "WinTeams = WinTeams.withColumnRenamed(\"sum(LBlk)\", \"WOppBLK\")\n",
        "WinTeams = WinTeams.withColumnRenamed(\"sum(LPF)\", \"WOppPF\")"
      ]
    },
    {
      "cell_type": "code",
      "execution_count": 11,
      "metadata": {
        "id": "jiRv0yOyWcEq"
      },
      "outputs": [],
      "source": [
        "# Get all loss stats for each team\n",
        "LoseTeams = LoseTeams.withColumnRenamed(\"LTeamID\", \"TeamID\")\n",
        "LoseTeams = LoseTeams.withColumnRenamed(\"sum(WScore)\", \"LOppPTS\")\n",
        "LoseTeams = LoseTeams.withColumnRenamed(\"sum(LScore)\", \"LPTS\")\n",
        "LoseTeams = LoseTeams.withColumnRenamed(\"sum(NumOT)\", \"LOTs\")\n",
        "LoseTeams = LoseTeams.withColumnRenamed(\"sum(WFGM)\", \"LOppFGM\")\n",
        "LoseTeams = LoseTeams.withColumnRenamed(\"sum(WFGA)\", \"LOppFGA\")\n",
        "LoseTeams = LoseTeams.withColumnRenamed(\"sum(WFGA3)\", \"LOppFGA3\")\n",
        "LoseTeams = LoseTeams.withColumnRenamed(\"sum(WFGM3)\", \"LOppFGM3\")\n",
        "LoseTeams = LoseTeams.withColumnRenamed(\"sum(WFTA)\", \"LOppFTA\")\n",
        "LoseTeams = LoseTeams.withColumnRenamed(\"sum(WFTM)\", \"LOppFTM\")\n",
        "LoseTeams = LoseTeams.withColumnRenamed(\"sum(WOR)\", \"LOppOR\")\n",
        "LoseTeams = LoseTeams.withColumnRenamed(\"sum(WDR)\", \"LOppDR\")\n",
        "LoseTeams = LoseTeams.withColumnRenamed(\"sum(WAst)\", \"LOppAST\")\n",
        "LoseTeams = LoseTeams.withColumnRenamed(\"sum(WTO)\", \"LOppTO\")\n",
        "LoseTeams = LoseTeams.withColumnRenamed(\"sum(WStl)\", \"LOppSTL\")\n",
        "LoseTeams = LoseTeams.withColumnRenamed(\"sum(WBlk)\", \"LOppBLK\")\n",
        "LoseTeams = LoseTeams.withColumnRenamed(\"sum(WPF)\", \"LOppPF\")\n",
        "LoseTeams = LoseTeams.withColumnRenamed(\"sum(LFGM)\", \"LFGM\")\n",
        "LoseTeams = LoseTeams.withColumnRenamed(\"sum(LFGA)\", \"LFGA\")\n",
        "LoseTeams = LoseTeams.withColumnRenamed(\"sum(LFGA3)\", \"LFGA3\")\n",
        "LoseTeams = LoseTeams.withColumnRenamed(\"sum(LFGM3)\", \"LFGM3\")\n",
        "LoseTeams = LoseTeams.withColumnRenamed(\"sum(LFTA)\", \"LFTA\")\n",
        "LoseTeams = LoseTeams.withColumnRenamed(\"sum(LFTM)\", \"LFTM\")\n",
        "LoseTeams = LoseTeams.withColumnRenamed(\"sum(LOR)\", \"LOR\")\n",
        "LoseTeams = LoseTeams.withColumnRenamed(\"sum(LDR)\", \"LDR\")\n",
        "LoseTeams = LoseTeams.withColumnRenamed(\"sum(LAst)\", \"LAST\")\n",
        "LoseTeams = LoseTeams.withColumnRenamed(\"sum(LTO)\", \"LTO\")\n",
        "LoseTeams = LoseTeams.withColumnRenamed(\"sum(LStl)\", \"LSTL\")\n",
        "LoseTeams = LoseTeams.withColumnRenamed(\"sum(LBlk)\", \"LBLK\")\n",
        "LoseTeams = LoseTeams.withColumnRenamed(\"sum(LPF)\", \"LPF\")"
      ]
    },
    {
      "cell_type": "code",
      "source": [
        "#LoseTeams.filter(LoseTeams.Season == 2022).show()"
      ],
      "metadata": {
        "id": "nObPxnvvyvsW"
      },
      "execution_count": 12,
      "outputs": []
    },
    {
      "cell_type": "code",
      "source": [
        "# combine win teams and lose teams\n",
        "Season = WinTeams.join(LoseTeams, ['Season','TeamID'])"
      ],
      "metadata": {
        "id": "18Nr9TSh4udU"
      },
      "execution_count": 13,
      "outputs": []
    },
    {
      "cell_type": "code",
      "source": [
        "# Combine coluns\n",
        "Season = Season.withColumn(\"OppPTS\", Season.WOppPTS + Season.LOppPTS) \n",
        "Season = Season.withColumn(\"PTS\", Season.WPTS + Season.LPTS) \n",
        "Season = Season.withColumn(\"OTs\", Season.WOTs + Season.LOTs) \n",
        "Season = Season.withColumn(\"OppFGM\", Season.WOppFGM + Season.LOppFGM)\n",
        "Season = Season.withColumn(\"OppFGA\", Season.WOppFGA + Season.LOppFGA)\n",
        "Season = Season.withColumn(\"OppFGA3\", Season.WOppFGA3 + Season.LOppFGA3)\n",
        "Season = Season.withColumn(\"OppFGM3\", Season.WOppFGM3 + Season.LOppFGM3) \n",
        "Season = Season.withColumn(\"OppFTA\", Season.WOppFTA + Season.LOppFTA) \n",
        "Season = Season.withColumn(\"OppFTM\", Season.WOppFTM + Season.LOppFTM) \n",
        "Season = Season.withColumn(\"OppOR\", Season.WOppOR + Season.LOppOR) \n",
        "Season = Season.withColumn(\"OppDR\", Season.WOppDR + Season.LOppDR) \n",
        "Season = Season.withColumn(\"OppAST\", Season.WOppAST + Season.LOppAST) \n",
        "Season = Season.withColumn(\"OppTO\", Season.WOppTO + Season.LOppTO) \n",
        "Season = Season.withColumn(\"OppSTL\", Season.WOppSTL + Season.LOppSTL) \n",
        "Season = Season.withColumn(\"OppBLK\", Season.WOppBLK + Season.LOppBLK) \n",
        "Season = Season.withColumn(\"OppPF\", Season.WOppPF + Season.LOppPF) \n",
        "Season = Season.withColumn(\"FGM\", Season.WFGM + Season.LFGM) \n",
        "Season = Season.withColumn(\"FGA\", Season.WFGA + Season.LFGA) \n",
        "Season = Season.withColumn(\"FGA3\", Season.WFGA3 + Season.LFGA3) \n",
        "Season = Season.withColumn(\"FGM3\", Season.WFGM3 + Season.LFGM3) \n",
        "Season = Season.withColumn(\"FTA\", Season.WFTA + Season.LFTA) \n",
        "Season = Season.withColumn(\"FTM\", Season.WFTM + Season.LFTM) \n",
        "Season = Season.withColumn(\"OR\", Season.WOR + Season.LOR) \n",
        "Season = Season.withColumn(\"DR\", Season.WDR + Season.LDR) \n",
        "Season = Season.withColumn(\"AST\", Season.WAST + Season.LAST)\n",
        "Season = Season.withColumn(\"TO\", Season.WTO + Season.LTO) \n",
        "Season = Season.withColumn(\"STL\", Season.WSTL + Season.LSTL)\n",
        "Season = Season.withColumn(\"BLK\", Season.WBLK + Season.LBLK)\n",
        "Season = Season.withColumn(\"PF\", Season.WPF + Season.LPF)\n",
        "\n",
        "# Drop Unwanted Columns\n",
        "Season =  Season.drop(\"WPTS\",\"WOppPTS\",\"WOTs\",\"WFGM\",\"WFGA\",\"WFGM3\",\"WFGA3\",\"WFTM\",\"WFTA\",\"WOR\",\"WDR\",\"WAST\",\"WTO\",\"WSTL\",\"WBLK\",\"WPF\",\"WOppFGM\",\"WOppFGA\",\"WOppFGM3\",\"WOppFGA3\",\"WOppFTM\",\"WOppFTA\",\"WOppOR\",\"WOppDR\",\"WOppAST\",\"WOppTO\",\"WOppSTL\",\"WOppBLK\",\"WOppPF\",\"LOppPTS\",\"LPTS\",\"LOTs\",\"LOppFGM\",\"LOppFGA\",\"LOppFGM3\",\"LOppFGA3\",\"LOppFTM\",\"LOppFTA\",\"LOppOR\",\"LOppDR\",\"LOppAST\",\"LOppTO\",\"LOppSTL\",\"LOppBLK\",\"LOppPF\",\"LFGM\",\"LFGA\",\"LFGM3\",\"LFGA3\",\"LFTM\",\"LFTA\",\"LOR\",\"LDR\",\"LAST\",\"LTO\",\"LSTL\",\"LBLK\",\"LPF\")"
      ],
      "metadata": {
        "id": "vXpWsAaGx2md"
      },
      "execution_count": 14,
      "outputs": []
    },
    {
      "cell_type": "code",
      "source": [
        "# Combine merged and season\n",
        "Season_Stats = Season.join(merged_df, ['Season','TeamID'])"
      ],
      "metadata": {
        "id": "vaiJQYmdRj6U"
      },
      "execution_count": 15,
      "outputs": []
    },
    {
      "cell_type": "markdown",
      "source": [
        "Make season stats for input"
      ],
      "metadata": {
        "id": "Asy10tvTR_Hm"
      }
    },
    {
      "cell_type": "code",
      "source": [
        "#Wins, PPG, PPG Allowed, Points Ratio, OTs\n",
        "RegularSeasonInput = Season_Stats.withColumn(\"WinRatio\", Season_Stats.Wins /  Season_Stats.NumGames) \n",
        "RegularSeasonInput = RegularSeasonInput.withColumn(\"PointsPerGame\", Season_Stats.PTS /  Season_Stats.NumGames)\n",
        "RegularSeasonInput = RegularSeasonInput.withColumn(\"PointsAllowedPerGame\", Season_Stats.OppPTS /  Season_Stats.NumGames)\n",
        "RegularSeasonInput = RegularSeasonInput.withColumn(\"PointsRatio\", Season_Stats.PTS /  Season_Stats.OppPTS)\n",
        "RegularSeasonInput = RegularSeasonInput.withColumn(\"OTsPerGame\", Season_Stats.OTs /  Season_Stats.NumGames)\n",
        "#Field Goals\n",
        "RegularSeasonInput = RegularSeasonInput.withColumn(\"FGPerGame\", Season_Stats.FGM /  Season_Stats.NumGames)\n",
        "RegularSeasonInput = RegularSeasonInput.withColumn(\"FGRatio\", Season_Stats.FGM /  Season_Stats.FGA)\n",
        "RegularSeasonInput = RegularSeasonInput.withColumn(\"FGAPerGame\", Season_Stats.FGA /  Season_Stats.NumGames)\n",
        "RegularSeasonInput = RegularSeasonInput.withColumn(\"FGAllowedPerGame\", Season_Stats.OppFGM /  Season_Stats.NumGames)\n",
        "#Three Pointers\n",
        "RegularSeasonInput = RegularSeasonInput.withColumn(\"FG3PerGame\", Season_Stats.FGM3 /  Season_Stats.NumGames)\n",
        "RegularSeasonInput = RegularSeasonInput.withColumn(\"FG3Ratio\", Season_Stats.FGM3 /  Season_Stats.FGA3)\n",
        "RegularSeasonInput = RegularSeasonInput.withColumn(\"FG3APerGame\", Season_Stats.FGA3 /  Season_Stats.NumGames)\n",
        "RegularSeasonInput = RegularSeasonInput.withColumn(\"FG3AllowedPerGame\", Season_Stats.OppFGM3 /  Season_Stats.NumGames)\n",
        "#Free Throws\n",
        "RegularSeasonInput = RegularSeasonInput.withColumn(\"FTPerGame\", Season_Stats.FTM /  Season_Stats.NumGames)\n",
        "RegularSeasonInput = RegularSeasonInput.withColumn(\"FTRatio\", Season_Stats.FTM /  Season_Stats.FTA)\n",
        "RegularSeasonInput = RegularSeasonInput.withColumn(\"FTAPerGame\", Season_Stats.FTA /  Season_Stats.NumGames)\n",
        "RegularSeasonInput = RegularSeasonInput.withColumn(\"FTllowedPerGame\", Season_Stats.OppFTM /  Season_Stats.NumGames)\n",
        "#Rebounds\n",
        "RegularSeasonInput = RegularSeasonInput.withColumn(\"ORPerGame\", Season_Stats.OR /  Season_Stats.NumGames)\n",
        "RegularSeasonInput = RegularSeasonInput.withColumn(\"DRPerGame\", Season_Stats.DR /  Season_Stats.NumGames)\n",
        "RegularSeasonInput = RegularSeasonInput.withColumn(\"TRPerGame\", (Season_Stats.OR+ Season_Stats.DR) /  Season_Stats.NumGames)\n",
        "RegularSeasonInput = RegularSeasonInput.withColumn(\"OppORPerGame\", Season_Stats.OppOR /  Season_Stats.NumGames)\n",
        "RegularSeasonInput = RegularSeasonInput.withColumn(\"OppDRPerGame\", Season_Stats.OppDR /  Season_Stats.NumGames)\n",
        "RegularSeasonInput = RegularSeasonInput.withColumn(\"OppTRPerGame\", (Season_Stats.OppOR +  Season_Stats.OppDR) / Season_Stats.NumGames)\n",
        "RegularSeasonInput = RegularSeasonInput.withColumn(\"ORRatio\", Season_Stats.OR /  Season_Stats.OppOR)\n",
        "RegularSeasonInput = RegularSeasonInput.withColumn(\"DRRatio\", Season_Stats.DR /  Season_Stats.OppDR)\n",
        "RegularSeasonInput = RegularSeasonInput.withColumn(\"TRRatio\", (Season_Stats.OR +  Season_Stats.DR) / (Season_Stats.OppOR +  Season_Stats.OppDR))\n",
        "#Assists\n",
        "RegularSeasonInput = RegularSeasonInput.withColumn(\"AstPerGame\", Season_Stats.AST /  Season_Stats.NumGames)\n",
        "RegularSeasonInput = RegularSeasonInput.withColumn(\"OppAstPerGame\", Season_Stats.OppAST /  Season_Stats.NumGames)\n",
        "#Steals\n",
        "RegularSeasonInput = RegularSeasonInput.withColumn(\"StlPerGame\", Season_Stats.STL /  Season_Stats.NumGames)\n",
        "RegularSeasonInput = RegularSeasonInput.withColumn(\"OppStlPerGame\", Season_Stats.OppSTL /  Season_Stats.NumGames)\n",
        "#Turnovers\n",
        "RegularSeasonInput = RegularSeasonInput.withColumn(\"TOPerGame\", Season_Stats.TO / Season_Stats.NumGames)\n",
        "RegularSeasonInput = RegularSeasonInput.withColumn(\"OppTOPerGame\", Season_Stats.OppTO / Season_Stats.NumGames)\n",
        "#Blocks\n",
        "RegularSeasonInput = RegularSeasonInput.withColumn(\"BlkPerGame\", Season_Stats.BLK / Season_Stats.NumGames)\n",
        "RegularSeasonInput = RegularSeasonInput.withColumn(\"OppBlkPerGame\", Season_Stats.OppBLK /  Season_Stats.NumGames)\n",
        "#Personal Fouls\n",
        "RegularSeasonInput = RegularSeasonInput.withColumn(\"PFPerGame\", Season_Stats.PF /  Season_Stats.NumGames)\n",
        "RegularSeasonInput = RegularSeasonInput.withColumn(\"OppPFPerGame\", Season_Stats.OppPF /  Season_Stats.NumGames)\n",
        "\n",
        "#drop unwanted columns\n",
        "RegularSeasonInput =  RegularSeasonInput.drop(\"PTS\",\"OppPTS\",\"OTs\",\"FGM\",\"FGA\",\"FGM3\",\"FGA3\",\"FTM\",\"FTA\",\"OR\",\"DR\",\"AST\",\"TO\",\"STL\",\"BLK\",\"PF\",\"OppFGM\",\"OppFGA\",\"OppFGM3\",\"OppFGA3\",\"OppFTM\",\"OppFTA\",\"OppOR\",\"OppDR\",\"OppAST\",\"OppTO\",\"OppSTL\",\"OppBLK\",\"OppPF\")\n",
        "#show\n",
        "RegularSeasonInput.show()"
      ],
      "metadata": {
        "colab": {
          "base_uri": "https://localhost:8080/"
        },
        "id": "s_W3B0bwSRv0",
        "outputId": "0c5c131b-5503-43b9-863b-4df92e63b19e"
      },
      "execution_count": 16,
      "outputs": [
        {
          "output_type": "stream",
          "name": "stdout",
          "text": [
            "+------+------+----+-----+--------+-------------------+------------------+--------------------+------------------+--------------------+------------------+-------------------+------------------+------------------+------------------+-------------------+------------------+------------------+------------------+------------------+------------------+------------------+------------------+------------------+------------------+------------------+------------------+------------------+------------------+------------------+------------------+------------------+------------------+------------------+------------------+------------------+------------------+------------------+------------------+------------------+------------------+\n",
            "|Season|TeamID|Wins|Loses|NumGames|           WinRatio|     PointsPerGame|PointsAllowedPerGame|       PointsRatio|          OTsPerGame|         FGPerGame|            FGRatio|        FGAPerGame|  FGAllowedPerGame|        FG3PerGame|           FG3Ratio|       FG3APerGame| FG3AllowedPerGame|         FTPerGame|           FTRatio|        FTAPerGame|   FTllowedPerGame|         ORPerGame|         DRPerGame|         TRPerGame|      OppORPerGame|      OppDRPerGame|      OppTRPerGame|           ORRatio|           DRRatio|           TRRatio|        AstPerGame|     OppAstPerGame|        StlPerGame|     OppStlPerGame|         TOPerGame|      OppTOPerGame|        BlkPerGame|     OppBlkPerGame|         PFPerGame|      OppPFPerGame|\n",
            "+------+------+----+-----+--------+-------------------+------------------+--------------------+------------------+--------------------+------------------+-------------------+------------------+------------------+------------------+-------------------+------------------+------------------+------------------+------------------+------------------+------------------+------------------+------------------+------------------+------------------+------------------+------------------+------------------+------------------+------------------+------------------+------------------+------------------+------------------+------------------+------------------+------------------+------------------+------------------+------------------+\n",
            "|  2003|  1102|  12|   16|      28|0.42857142857142855|             57.25|                57.0|1.0043859649122806|                 0.0|19.142857142857142|0.48114901256732495|39.785714285714285|19.285714285714285| 7.821428571428571|0.37564322469982847|20.821428571428573|              4.75|11.142857142857142| 0.651356993736952|17.107142857142858|13.678571428571429| 4.178571428571429|16.821428571428573|              21.0| 9.607142857142858|20.142857142857142|             29.75|0.4349442379182156|0.8351063829787234|0.7058823529411765|              13.0| 9.142857142857142| 5.964285714285714| 5.428571428571429|11.428571428571429|12.964285714285714|1.7857142857142858|1.5714285714285714|             18.75|18.357142857142858|\n",
            "|  2003|  1103|  13|   14|      27|0.48148148148148145| 78.77777777777777|   78.14814814814815|1.0080568720379146|  0.2962962962962963| 27.14814814814815| 0.4860742705570292|55.851851851851855| 27.77777777777778| 5.444444444444445| 0.3387096774193548|16.074074074074073| 6.666666666666667|19.037037037037038|0.7363896848137536| 25.85185185185185|15.925925925925926| 9.777777777777779|19.925925925925927|29.703703703703702|12.037037037037036|22.037037037037038|34.074074074074076|0.8123076923076923|0.9042016806722689|0.8717391304347826|15.222222222222221|15.481481481481481|7.2592592592592595| 6.407407407407407| 12.62962962962963|15.333333333333334|2.3333333333333335|2.8518518518518516| 19.85185185185185|22.444444444444443|\n",
            "|  2003|  1104|  17|   11|      28| 0.6071428571428571| 69.28571428571429|                65.0| 1.065934065934066| 0.03571428571428571|24.035714285714285| 0.4203622735790131| 57.17857142857143|             23.25| 6.357142857142857|0.32014388489208634|19.857142857142858| 6.357142857142857|14.857142857142858|0.7098976109215017|20.928571428571427|12.142857142857142|13.571428571428571|23.928571428571427|              37.5|10.892857142857142|22.642857142857142|33.535714285714285|1.2459016393442623|1.0567823343848581|1.1182108626198084|12.107142857142858|11.678571428571429| 6.607142857142857| 5.535714285714286|13.285714285714286|13.857142857142858|3.7857142857142856|3.1785714285714284|18.035714285714285|             19.25|\n",
            "|  2003|  1105|   7|   19|      26| 0.2692307692307692| 71.76923076923077|   76.65384615384616|0.9362769693928751| 0.15384615384615385|24.384615384615383|0.39575530586766544| 61.61538461538461|              27.0| 7.576923076923077| 0.3648148148148148| 20.76923076923077| 6.269230769230769|15.423076923076923|0.7059859154929577|21.846153846153847|16.384615384615383|              13.5|23.115384615384617| 36.61538461538461|13.192307692307692|26.384615384615383| 39.57692307692308|1.0233236151603498|0.8760932944606414|0.9251700680272109|14.538461538461538|15.807692307692308| 9.307692307692308| 9.384615384615385|18.653846153846153|18.807692307692307| 2.076923076923077|4.1923076923076925| 20.23076923076923|19.076923076923077|\n",
            "|  2003|  1106|  13|   15|      28| 0.4642857142857143|63.607142857142854|               63.75|0.9977591036414566| 0.03571428571428571|23.428571428571427|0.42377260981912146|55.285714285714285|21.714285714285715| 6.107142857142857|0.34615384615384615|17.642857142857142| 4.785714285714286|10.642857142857142|0.6464208242950108|16.464285714285715|15.535714285714286|12.285714285714286|23.857142857142858|36.142857142857146|11.321428571428571|22.357142857142858| 33.67857142857143| 1.085173501577287|1.0670926517571886|1.0731707317073171|11.678571428571429|11.785714285714286| 8.357142857142858| 8.785714285714286|17.035714285714285|15.071428571428571| 3.142857142857143|3.1785714285714284|18.178571428571427|16.142857142857142|\n",
            "|  2003|  1107|   7|   21|      28|               0.25| 65.92857142857143|   75.71428571428571| 0.870754716981132| 0.21428571428571427|24.035714285714285|  0.418272218769422|57.464285714285715|28.821428571428573| 7.928571428571429|  0.357487922705314|22.178571428571427| 6.571428571428571| 9.928571428571429|0.7335092348284961|13.535714285714286|              11.5|              8.25|             20.25|              28.5|13.392857142857142|27.071428571428573|40.464285714285715|             0.616|0.7480211081794196|  0.70432480141218|11.928571428571429|             18.75| 6.857142857142857| 5.535714285714286|12.571428571428571|14.964285714285714|2.0357142857142856|3.5357142857142856|15.892857142857142|15.928571428571429|\n",
            "|  2003|  1108|  14|   19|      33|0.42424242424242425|  69.0909090909091|   73.12121212121212|0.9448818897637795| 0.06060606060606061|24.939393939393938| 0.4246646026831785| 58.72727272727273|25.757575757575758| 5.212121212121212|0.31910946196660483|16.333333333333332| 5.515151515151516|              14.0|0.6685962373371924|20.939393939393938| 16.09090909090909|13.121212121212121| 23.21212121212121|36.333333333333336|12.575757575757576|23.727272727272727|36.303030303030305|1.0433734939759036|0.9782886334610472|1.0008347245409015|13.848484848484848|15.454545454545455| 8.181818181818182| 8.575757575757576|18.454545454545453|16.727272727272727| 3.515151515151515| 2.878787878787879|19.666666666666668|              19.0|\n",
            "|  2003|  1110|  16|   14|      30| 0.5333333333333333| 66.36666666666666|                61.9|1.0721593968766827| 0.06666666666666667|23.166666666666668| 0.4327521793275218| 53.53333333333333|              22.7| 8.766666666666667|0.37896253602305474|23.133333333333333| 6.266666666666667|11.266666666666667|0.6814516129032258|16.533333333333335|10.233333333333333|              10.0|23.133333333333333| 33.13333333333333|              11.0|23.133333333333333| 34.13333333333333|0.9090909090909091|               1.0|       0.970703125|14.233333333333333|12.133333333333333|               6.4|               5.9|13.166666666666666|14.566666666666666|1.7333333333333334|3.1333333333333333|18.133333333333333|17.066666666666666|\n",
            "|  2003|  1111|  16|   10|      26| 0.6153846153846154| 83.26923076923077|   81.73076923076923|1.0188235294117647| 0.15384615384615385|28.615384615384617|0.44364937388193204|              64.5|29.884615384615383|7.1923076923076925| 0.3274956217162872| 21.96153846153846|7.8076923076923075|18.846153846153847|0.7195301027900147|26.192307692307693|14.153846153846153|              13.0|25.307692307692307| 38.30769230769231| 13.26923076923077|26.615384615384617| 39.88461538461539|0.9797101449275363|0.9508670520231214|0.9604628736740598| 15.23076923076923|16.615384615384617| 9.846153846153847| 8.923076923076923|16.192307692307693|18.692307692307693| 4.615384615384615|3.8846153846153846|18.692307692307693|21.076923076923077|\n",
            "|  2003|  1112|  25|    3|      28| 0.8928571428571429| 85.21428571428571|               70.25|1.2130147432638536| 0.07142857142857142|30.321428571428573|0.46141304347826084| 65.71428571428571|26.357142857142858| 7.035714285714286| 0.3505338078291815|20.071428571428573| 6.321428571428571|17.535714285714285|0.7014285714285714|              25.0|11.214285714285714|15.178571428571429|27.642857142857142| 42.82142857142857|13.107142857142858|23.285714285714285|36.392857142857146|1.1580381471389645| 1.187116564417178|1.1766437684003925|17.642857142857142|15.464285714285714| 8.464285714285714| 5.964285714285714|14.785714285714286|16.857142857142858| 4.214285714285714| 2.392857142857143|             17.75|22.071428571428573|\n",
            "|  2003|  1113|  18|   11|      29| 0.6206896551724138| 75.96551724137932|   69.17241379310344|1.0982053838484547| 0.06896551724137931| 27.20689655172414| 0.4781818181818182| 56.89655172413793| 24.79310344827586|               4.0| 0.3178082191780822|12.586206896551724| 5.448275862068965|17.551724137931036|0.6697368421052632| 26.20689655172414|14.137931034482758|13.689655172413794|23.310344827586206|              37.0|              11.0|20.551724137931036|31.551724137931036| 1.244514106583072|1.1342281879194631|1.1726775956284152|15.551724137931034|14.068965517241379| 5.206896551724138|               6.0|              14.0|15.517241379310345| 4.241379310344827|3.9310344827586206|19.413793103448278|22.862068965517242|\n",
            "|  2003|  1114|  16|   12|      28| 0.5714285714285714| 70.03571428571429|   70.07142857142857|0.9994903160040775|                0.25|23.857142857142858| 0.4483221476510067|53.214285714285715|24.857142857142858| 6.785714285714286|         0.37109375|18.285714285714285| 5.964285714285714|15.535714285714286|0.6926751592356688|22.428571428571427|14.392857142857142|10.535714285714286|22.857142857142858|33.392857142857146|11.857142857142858|22.607142857142858|34.464285714285715|0.8885542168674698|1.0110584518167456|0.9689119170984456|              11.5|12.392857142857142| 6.607142857142857| 5.892857142857143|15.964285714285714|15.464285714285714| 2.357142857142857|3.2857142857142856|              20.5|20.464285714285715|\n",
            "|  2003|  1115|   4|   24|      28|0.14285714285714285|              54.5|   74.17857142857143|0.7347135291285508| 0.03571428571428571|             19.25|0.35460526315789476|54.285714285714285|25.321428571428573|              4.75| 0.2817796610169492|16.857142857142858| 6.357142857142857|             11.25|0.6389452332657201|17.607142857142858|17.178571428571427| 9.964285714285714|21.035714285714285|              31.0|15.071428571428571|28.392857142857142|43.464285714285715|0.6611374407582938| 0.740880503144654|0.7132292522596549|10.178571428571429|             14.75| 7.964285714285714| 9.642857142857142|19.107142857142858|17.357142857142858|              2.75|3.6785714285714284|             20.25|             17.75|\n",
            "|  2003|  1116|   9|   19|      28|0.32142857142857145|61.642857142857146|   66.53571428571429|0.9264626945786366|                 0.0|21.821428571428573|0.39267352185089976| 55.57142857142857|22.071428571428573| 6.071428571428571| 0.3102189781021898|19.571428571428573| 5.714285714285714|11.928571428571429|0.6094890510948905|19.571428571428573|16.678571428571427|14.535714285714286|23.428571428571427|37.964285714285715|10.321428571428571|22.214285714285715|32.535714285714285|1.4083044982698962|1.0546623794212218|1.1668496158068058| 9.821428571428571|11.571428571428571| 6.464285714285714| 7.464285714285714|16.678571428571427|13.285714285714286|3.5357142857142856| 3.892857142857143|20.928571428571427|18.142857142857142|\n",
            "|  2003|  1117|  11|   15|      26| 0.4230769230769231| 71.11538461538461|    69.8076923076923| 1.018732782369146|0.038461538461538464|23.692307692307693|0.43319268635724334| 54.69230769230769| 22.73076923076923| 7.923076923076923|0.37117117117117115|21.346153846153847|6.1923076923076925|15.807692307692308|0.7378815080789947|21.423076923076923|18.153846153846153|10.961538461538462|20.384615384615383|31.346153846153847| 11.73076923076923|23.384615384615383| 35.11538461538461|0.9344262295081968|0.8717105263157895|0.8926615553121577|11.923076923076923|11.538461538461538| 7.153846153846154|5.8076923076923075| 13.26923076923077|15.653846153846153|1.6538461538461537| 2.730769230769231|21.423076923076923|19.692307692307693|\n",
            "|  2003|  1119|   3|   22|      25|               0.12|             53.68|               67.48|0.7954949614700652|                 0.0|              19.6| 0.4117647058823529|              47.6|              21.8|              5.88| 0.3559322033898305|             16.52|              8.48|               8.6|0.6761006289308176|             12.72|              15.4|              7.92|             21.56|             29.48|             10.64|             21.96|              32.6|0.7443609022556391|0.9817850637522769|0.9042944785276074|             11.72|             12.96|              5.56|              7.12|             17.36|             12.88|               1.6|              3.52|             19.32|             16.76|\n",
            "|  2003|  1120|  19|   11|      30| 0.6333333333333333|              70.1|   65.56666666666666|1.0691408235892221|                 0.0|              25.7|0.46983546617915906|              54.7|              23.8| 5.633333333333334| 0.3448979591836735|16.333333333333332|               6.9|13.066666666666666|0.6621621621621622|19.733333333333334|11.066666666666666|11.933333333333334|22.566666666666666|              34.5|12.233333333333333|              20.6|32.833333333333336|0.9754768392370572|1.0954692556634305|1.0507614213197969|              13.4|12.666666666666666| 8.033333333333333| 7.833333333333333|              15.9|              15.8| 4.966666666666667|2.6666666666666665|16.366666666666667|19.133333333333333|\n",
            "|  2003|  1122|  20|    7|      27| 0.7407407407407407| 69.70370370370371|   67.70370370370371|1.0295404814004376| 0.14814814814814814|23.555555555555557| 0.4523470839260313|52.074074074074076|24.296296296296298|               6.0|0.34913793103448276|17.185185185185187| 6.296296296296297| 16.59259259259259| 0.691358024691358|              24.0|12.814814814814815| 10.62962962962963| 24.22222222222222|34.851851851851855|11.666666666666666| 22.51851851851852| 34.18518518518518|0.9111111111111111| 1.075657894736842|1.0195016251354279|13.407407407407407|13.333333333333334| 7.037037037037037| 6.814814814814815|15.222222222222221|              14.0| 4.666666666666667| 3.259259259259259|18.666666666666668| 20.25925925925926|\n",
            "|  2003|  1123|  13|   17|      30|0.43333333333333335|              73.3|   76.03333333333333| 0.964050854888207| 0.03333333333333333|25.933333333333334| 0.4288864388092613| 60.46666666666667|25.433333333333334| 5.366666666666666|              0.322|16.666666666666668| 5.266666666666667|16.066666666666666|0.7259036144578314|22.133333333333333|              19.9|13.166666666666666|21.733333333333334|              34.9|              10.9|24.966666666666665| 35.86666666666667|1.2079510703363914|0.8704939919893191|0.9730483271375465|              10.5|              14.7|               5.2| 5.633333333333334|12.833333333333334|14.533333333333333|               2.2| 2.066666666666667|22.866666666666667|21.133333333333333|\n",
            "|  2003|  1124|  14|   14|      28|                0.5|              69.0|   68.39285714285714|1.0088772845953002| 0.03571428571428571|23.607142857142858|0.40701970443349755|              58.0|26.535714285714285| 9.071428571428571|0.34185733512786004|26.535714285714285| 5.428571428571429|12.714285714285714| 0.725050916496945|17.535714285714285| 9.892857142857142|11.714285714285714|23.178571428571427|34.892857142857146|12.142857142857142|25.464285714285715|37.607142857142854|0.9647058823529412|0.9102384291725105|0.9278252611585945|14.214285714285714|13.821428571428571| 8.321428571428571| 5.571428571428571|13.285714285714286|14.678571428571429|2.9642857142857144|3.0714285714285716|             15.75|16.642857142857142|\n",
            "+------+------+----+-----+--------+-------------------+------------------+--------------------+------------------+--------------------+------------------+-------------------+------------------+------------------+------------------+-------------------+------------------+------------------+------------------+------------------+------------------+------------------+------------------+------------------+------------------+------------------+------------------+------------------+------------------+------------------+------------------+------------------+------------------+------------------+------------------+------------------+------------------+------------------+------------------+------------------+------------------+\n",
            "only showing top 20 rows\n",
            "\n"
          ]
        }
      ]
    },
    {
      "cell_type": "code",
      "source": [
        "RegularSeasonInput.describe().show()"
      ],
      "metadata": {
        "colab": {
          "base_uri": "https://localhost:8080/"
        },
        "id": "Eiy9OjE0dqpP",
        "outputId": "0a23132a-2971-4d05-f08f-1a44fafba3c2"
      },
      "execution_count": 17,
      "outputs": [
        {
          "output_type": "stream",
          "name": "stdout",
          "text": [
            "+-------+------------------+------------------+------------------+------------------+------------------+-------------------+-----------------+--------------------+------------------+-------------------+------------------+--------------------+------------------+------------------+------------------+-------------------+------------------+------------------+------------------+--------------------+------------------+------------------+------------------+------------------+------------------+------------------+------------------+------------------+-------------------+-------------------+-------------------+------------------+------------------+------------------+------------------+------------------+------------------+------------------+------------------+------------------+------------------+\n",
            "|summary|            Season|            TeamID|              Wins|             Loses|          NumGames|           WinRatio|    PointsPerGame|PointsAllowedPerGame|       PointsRatio|         OTsPerGame|         FGPerGame|             FGRatio|        FGAPerGame|  FGAllowedPerGame|        FG3PerGame|           FG3Ratio|       FG3APerGame| FG3AllowedPerGame|         FTPerGame|             FTRatio|        FTAPerGame|   FTllowedPerGame|         ORPerGame|         DRPerGame|         TRPerGame|      OppORPerGame|      OppDRPerGame|      OppTRPerGame|            ORRatio|            DRRatio|            TRRatio|        AstPerGame|     OppAstPerGame|        StlPerGame|     OppStlPerGame|         TOPerGame|      OppTOPerGame|        BlkPerGame|     OppBlkPerGame|         PFPerGame|      OppPFPerGame|\n",
            "+-------+------------------+------------------+------------------+------------------+------------------+-------------------+-----------------+--------------------+------------------+-------------------+------------------+--------------------+------------------+------------------+------------------+-------------------+------------------+------------------+------------------+--------------------+------------------+------------------+------------------+------------------+------------------+------------------+------------------+------------------+-------------------+-------------------+-------------------+------------------+------------------+------------------+------------------+------------------+------------------+------------------+------------------+------------------+------------------+\n",
            "|  count|              6881|              6881|              6881|              6881|              6881|               6881|             6881|                6881|              6881|               6881|              6881|                6881|              6881|              6881|              6881|               6881|              6881|              6881|              6881|                6881|              6881|              6881|              6881|              6881|              6881|              6881|              6881|              6881|               6881|               6881|               6881|              6881|              6881|              6881|              6881|              6881|              6881|              6881|              6881|              6881|              6881|\n",
            "|   mean|2012.6297049847406|1284.7616625490482|14.814561836942305|14.798866443830839|29.613428280773142|0.49435968831227195|69.47300261910236|   69.67512966533823|1.0012769271674036| 0.0686173474504341|24.432659064071814| 0.43603187065201177| 56.03234565621925|24.498936516415274| 6.679504451268201| 0.3430015182368481| 19.43036019198861| 6.690521260830329|13.928180039690528|  0.6971143331844069| 19.98698975376054|13.986735371677506|10.667950291519082| 23.68676350300138| 34.35471379452043| 10.68644489020965| 23.75038178032398| 34.43682667053358| 1.0090010696555713| 1.0044259940391658|  1.003253137626772| 13.03456176942973|13.089381044134234|  6.48769793204422|6.5076590799689855|13.538207337066325|13.510069067962275|  3.30694991420434|3.3284569629975818| 17.82432325857476|17.790219494798247|\n",
            "| stddev| 5.741759619852787|104.72223165728492| 6.156266670428836| 5.278131044177926|  2.88570351410977|0.18667880230726186|5.791842897855892|   5.525404956027591|0.0954161966244095|0.05983259268883152| 2.150961321093782|0.026267592494204475| 3.564392580165288| 2.202611462760954|1.3966210786950202|0.02869224440534713|3.5295589627896806| 1.109011944654921|2.1333465089699644|0.039197013133098264|2.8975906912424354| 2.202928201779684|1.9716648209446122|1.9951891435480278|2.9372696340366597|1.6197535466522748|2.1055253648345684| 2.816926090216573| 0.1858272686349919|0.11709363560647541|0.11019744520188535|1.8507837881197817|1.7573153910325834| 1.252294727864008| 1.029913423699906| 1.837217836548168| 1.888308970251051|  1.08515321757115|0.6337681454599025|3.4667327354246282| 3.338412480551074|\n",
            "|    min|              2003|              1101|                 1|                 1|                 4|            0.03125|            49.24|   50.42857142857143|0.6504530281354316|                0.0|             16.12| 0.34207240948813983|39.785714285714285|16.962962962962962|1.8387096774193548|0.24777183600713013| 6.064516129032258|3.1785714285714284|               7.0|  0.5424610051993067|10.346153846153847| 7.433333333333334|              3.56|15.357142857142858|             20.76| 5.181818181818182|15.733333333333333|23.566666666666666|0.39555555555555555| 0.6361767728674204| 0.6463262764632628| 7.612903225806452|               7.7|             2.875|3.3666666666666667| 7.387096774193548|           6.96875|0.6551724137931034|1.4516129032258065|               0.0|               0.0|\n",
            "|    max|              2022|              1472|                33|                31|                36| 0.9705882352941176|95.55172413793103|   98.20689655172414|1.3830525272547076|                0.4| 33.72727272727273|  0.5317976965448172| 78.62068965517241|              37.2|             13.25| 0.4506024096385542|              40.3| 11.62962962962963|21.484848484848484|  0.8256410256410256|           31.1875| 23.51851851851852| 17.25925925925926| 31.12121212121212| 46.13793103448276|16.807692307692307|34.666666666666664| 49.06896551724138| 1.8912280701754387|  1.524031007751938| 1.4413012729844412|21.484848484848484| 22.24137931034483|13.241379310344827|11.642857142857142|22.321428571428573|24.275862068965516| 9.333333333333334|               6.0|27.884615384615383| 25.17241379310345|\n",
            "+-------+------------------+------------------+------------------+------------------+------------------+-------------------+-----------------+--------------------+------------------+-------------------+------------------+--------------------+------------------+------------------+------------------+-------------------+------------------+------------------+------------------+--------------------+------------------+------------------+------------------+------------------+------------------+------------------+------------------+------------------+-------------------+-------------------+-------------------+------------------+------------------+------------------+------------------+------------------+------------------+------------------+------------------+------------------+------------------+\n",
            "\n"
          ]
        }
      ]
    },
    {
      "cell_type": "markdown",
      "source": [
        "## Tourney Input"
      ],
      "metadata": {
        "id": "ux-GHsxRs_9s"
      }
    },
    {
      "cell_type": "code",
      "source": [
        "Seeds = Seeds.withColumn('Seed', Seeds.Seed.substr(2,2))"
      ],
      "metadata": {
        "id": "lxIFqgpWtMkl"
      },
      "execution_count": 18,
      "outputs": []
    },
    {
      "cell_type": "code",
      "source": [
        "Winners = TourneyCompact.withColumnRenamed(\"WTeamID\",\"TeamID\")\n",
        "Winners =  Winners.drop(\"DayNum\",\"WScore\",\"WLoc\",\"NumOT\",\"LScore\")\n",
        "Winners = Winners.join(Seeds, ['Season','TeamID'])\n",
        "Winners = Winners.withColumnRenamed(\"Seed\",\"Team1Seed\")\n",
        "Winners = Winners.withColumnRenamed(\"TeamID\",\"Team1\")\n",
        "Winners = Winners.withColumnRenamed(\"LTeamID\",\"TeamID\")\n",
        "Winners = Winners.join(Seeds, ['Season','TeamID'])\n",
        "Winners = Winners.withColumnRenamed(\"TeamID\",\"Team2\")\n",
        "Winners = Winners.withColumnRenamed(\"Seed\",\"Team2Seed\")\n",
        "Winners = Winners.withColumn(\"Result\",lit(1))\n",
        "\n",
        "Losers = TourneyCompact.withColumnRenamed(\"LTeamID\",\"TeamID\")\n",
        "Losers = Losers.drop(\"DayNum\",\"WScore\",\"WLoc\",\"NumOT\",\"LScore\")\n",
        "Losers = Losers.join(Seeds, ['Season','TeamID'])\n",
        "Losers = Losers.withColumnRenamed(\"Seed\",\"Team1Seed\")\n",
        "Losers = Losers.withColumnRenamed(\"TeamID\",\"Team1\")\n",
        "Losers = Losers.withColumnRenamed(\"WTeamID\",\"TeamID\")\n",
        "Losers = Losers.join(Seeds, ['Season','TeamID'])\n",
        "Losers = Losers.withColumnRenamed(\"TeamID\",\"Team2\")\n",
        "Losers = Losers.withColumnRenamed(\"Seed\",\"Team2Seed\")\n",
        "Losers = Losers.withColumn(\"Result\",lit(0))\n"
      ],
      "metadata": {
        "id": "1BCEWQykio0h"
      },
      "execution_count": 19,
      "outputs": []
    },
    {
      "cell_type": "code",
      "source": [
        "TourneyInput = Winners.union(Losers)"
      ],
      "metadata": {
        "id": "ZFstBpXJm0i6"
      },
      "execution_count": 20,
      "outputs": []
    },
    {
      "cell_type": "code",
      "source": [
        "TourneyInput.filter(TourneyInput.Season == 2022).show()"
      ],
      "metadata": {
        "colab": {
          "base_uri": "https://localhost:8080/"
        },
        "id": "iCwSm46MeqHg",
        "outputId": "db234ce0-661c-4be5-d234-000ba0b71c3e"
      },
      "execution_count": 21,
      "outputs": [
        {
          "output_type": "stream",
          "name": "stdout",
          "text": [
            "+------+-----+-----+---------+---------+------+\n",
            "|Season|Team2|Team1|Team1Seed|Team2Seed|Result|\n",
            "+------+-----+-----+---------+---------+------+\n",
            "|  2022| 1313| 1124|       01|       16|     1|\n",
            "|  2022| 1389| 1246|       02|       15|     1|\n",
            "|  2022| 1463| 1345|       03|       14|     1|\n",
            "|  2022| 1103| 1417|       04|       13|     1|\n",
            "|  2022| 1231| 1388|       05|       12|     1|\n",
            "|  2022| 1362| 1293|       07|       10|     1|\n",
            "|  2022| 1266| 1314|       08|       09|     1|\n",
            "|  2022| 1209| 1211|       01|       16|     1|\n",
            "|  2022| 1168| 1181|       02|       15|     1|\n",
            "|  2022| 1439| 1403|       03|       11|     1|\n",
            "|  2022| 1286| 1403|       03|       14|     1|\n",
            "|  2022| 1436| 1116|       04|       13|     1|\n",
            "|  2022| 1308| 1163|       05|       12|     1|\n",
            "|  2022| 1323| 1104|       06|       11|     1|\n",
            "|  2022| 1172| 1277|       07|       10|     1|\n",
            "|  2022| 1272| 1129|       08|       09|     1|\n",
            "|  2022| 1411| 1242|       01|       16|     1|\n",
            "|  2022| 1240| 1120|       02|       15|     1|\n",
            "|  2022| 1159| 1458|       03|       14|     1|\n",
            "|  2022| 1355| 1344|       04|       13|     1|\n",
            "+------+-----+-----+---------+---------+------+\n",
            "only showing top 20 rows\n",
            "\n"
          ]
        }
      ]
    },
    {
      "cell_type": "markdown",
      "source": [
        "# Make Final Input Dataframe"
      ],
      "metadata": {
        "id": "955iOH6cxjq4"
      }
    },
    {
      "cell_type": "code",
      "source": [
        "RegularSeasonInput.columns\n",
        "# Team 1\n",
        "outscores1 = RegularSeasonInput.withColumnRenamed('TeamID','Team1')\n",
        "outscores1 = outscores1.join(TourneyInput, ['Season','Team1'])\n",
        "outscores1 = outscores1.withColumnRenamed('Wins','Team1Wins')\n",
        "outscores1 = outscores1.withColumnRenamed('Loses','Team1Loses')\n",
        "outscores1 = outscores1.withColumnRenamed('NumGames','Team1NumGames')\n",
        "outscores1 = outscores1.withColumnRenamed('WinRatio','Team1WinRatio')\n",
        "outscores1 = outscores1.withColumnRenamed('PointsPerGame','Team1PointsPerGame')\n",
        "outscores1 = outscores1.withColumnRenamed('PointsAllowedPerGame','Team1PointsAllowedPerGame')\n",
        "outscores1 = outscores1.withColumnRenamed('PointsRatio','Team1PointsRatio')\n",
        "outscores1 = outscores1.withColumnRenamed('OTsPerGame','Team1OTsPerGame')\n",
        "outscores1 = outscores1.withColumnRenamed('FGPerGame','Team1FGPerGame')\n",
        "outscores1 = outscores1.withColumnRenamed('FGRatio','Team1FGRatio')\n",
        "outscores1 = outscores1.withColumnRenamed('FGAPerGame','Team1FGAPerGame')\n",
        "outscores1 = outscores1.withColumnRenamed('FGAllowedPerGame','Team1FGAllowedPerGame')\n",
        "outscores1 = outscores1.withColumnRenamed('FG3PerGame','Team1FG3PerGame')\n",
        "outscores1 = outscores1.withColumnRenamed('FG3Ratio','Team1FG3Ratio')\n",
        "outscores1 = outscores1.withColumnRenamed('FG3APerGame','Team1FG3APerGame')\n",
        "outscores1 = outscores1.withColumnRenamed('FG3AllowedPerGame','Team1FG3AllowedPerGame')\n",
        "outscores1 = outscores1.withColumnRenamed('FTPerGame','Team1FTPerGame')\n",
        "outscores1 = outscores1.withColumnRenamed('FTRatio','Team1FTRatio')\n",
        "outscores1 = outscores1.withColumnRenamed('FTAPerGame','Team1FTAPerGame')\n",
        "outscores1 = outscores1.withColumnRenamed('FTllowedPerGame','Team1FTAllowedPerGame')\n",
        "outscores1 = outscores1.withColumnRenamed('ORPerGame','Team1ORPerGame')\n",
        "outscores1 = outscores1.withColumnRenamed('DRPerGame','Team1DRPerGame')\n",
        "outscores1 = outscores1.withColumnRenamed('TRPerGame','Team1TRPerGame')\n",
        "outscores1 = outscores1.withColumnRenamed('OppORPerGame','Team1OppORPerGame')\n",
        "outscores1 = outscores1.withColumnRenamed('OppDRPerGame','Team1OppDRPerGame')\n",
        "outscores1 = outscores1.withColumnRenamed('OppTRPerGame','Team1OppTRPerGame')\n",
        "outscores1 = outscores1.withColumnRenamed('ORRatio','Team1ORRatio')\n",
        "outscores1 = outscores1.withColumnRenamed('DRRatio','Team1DRRatio')\n",
        "outscores1 = outscores1.withColumnRenamed('TRRatio','Team1TRRatio')\n",
        "outscores1 = outscores1.withColumnRenamed('AstPerGame','Team1AstPerGame')\n",
        "outscores1 = outscores1.withColumnRenamed('OppAstPerGame','Team1OppAstPerGame')\n",
        "outscores1 = outscores1.withColumnRenamed('StlPerGame','Team1StlPerGame')\n",
        "outscores1 = outscores1.withColumnRenamed('OppStlPerGame','Team1OppStlPerGame')\n",
        "outscores1 = outscores1.withColumnRenamed('TOPerGame','Team1TOPerGame')\n",
        "outscores1 = outscores1.withColumnRenamed('OppTOPerGame','Team1OppTOPerGame')\n",
        "outscores1 = outscores1.withColumnRenamed('BlkPerGame','Team1BlkPerGame')\n",
        "outscores1 = outscores1.withColumnRenamed('OppBlkPerGame','Team1OppBlkPerGame')\n",
        "outscores1 = outscores1.withColumnRenamed('PFPerGame','Team1PFPerGame')\n",
        "outscores1 = outscores1.withColumnRenamed('OppPFPerGame','Team1OppPFPerGame')"
      ],
      "metadata": {
        "id": "GNu-LUQd7LzU"
      },
      "execution_count": 22,
      "outputs": []
    },
    {
      "cell_type": "code",
      "source": [
        "outscores2 = RegularSeasonInput.withColumnRenamed('TeamID','Team2')\n",
        "outscores2 = outscores2.join(TourneyInput, ['Season','Team2'])\n",
        "\n",
        "#rename columns\n",
        "outscores2 = outscores2.withColumnRenamed('Wins','Team2Wins')\n",
        "outscores2 = outscores2.withColumnRenamed('Loses','Team2Loses')\n",
        "outscores2 = outscores2.withColumnRenamed('NumGames','Team2NumGames')\n",
        "outscores2 = outscores2.withColumnRenamed('WinRatio','Team2WinRatio')\n",
        "outscores2 = outscores2.withColumnRenamed('PointsPerGame','Team2PointsPerGame')\n",
        "outscores2 = outscores2.withColumnRenamed('PointsAllowedPerGame','Team2PointsAllowedPerGame')\n",
        "outscores2 = outscores2.withColumnRenamed('PointsRatio','Team2PointsRatio')\n",
        "outscores2 = outscores2.withColumnRenamed('OTsPerGame','Team2OTsPerGame')\n",
        "outscores2 = outscores2.withColumnRenamed('FGPerGame','Team2FGPerGame')\n",
        "outscores2 = outscores2.withColumnRenamed('FGRatio','Team2FGRatio')\n",
        "outscores2 = outscores2.withColumnRenamed('FGAPerGame','Team2FGAPerGame')\n",
        "outscores2 = outscores2.withColumnRenamed('FGAllowedPerGame','Team2FGAllowedPerGame')\n",
        "outscores2 = outscores2.withColumnRenamed('FG3PerGame','Team2FG3PerGame')\n",
        "outscores2 = outscores2.withColumnRenamed('FG3Ratio','Team2FG3Ratio')\n",
        "outscores2 = outscores2.withColumnRenamed('FG3APerGame','Team2FG3APerGame')\n",
        "outscores2 = outscores2.withColumnRenamed('FG3AllowedPerGame','Team2FG3AllowedPerGame')\n",
        "outscores2 = outscores2.withColumnRenamed('FTPerGame','Team2FTPerGame')\n",
        "outscores2 = outscores2.withColumnRenamed('FTRatio','Team2FTRatio')\n",
        "outscores2 = outscores2.withColumnRenamed('FTAPerGame','Team2FTAPerGame')\n",
        "outscores2 = outscores2.withColumnRenamed('FTllowedPerGame','Team2FTAllowedPerGame')\n",
        "outscores2 = outscores2.withColumnRenamed('ORPerGame','Team2ORPerGame')\n",
        "outscores2 = outscores2.withColumnRenamed('DRPerGame','Team2DRPerGame')\n",
        "outscores2 = outscores2.withColumnRenamed('TRPerGame','Team2TRPerGame')\n",
        "outscores2 = outscores2.withColumnRenamed('OppORPerGame','Team2OppORPerGame')\n",
        "outscores2 = outscores2.withColumnRenamed('OppDRPerGame','Team2OppDRPerGame')\n",
        "outscores2 = outscores2.withColumnRenamed('OppTRPerGame','Team2OppTRPerGame')\n",
        "outscores2 = outscores2.withColumnRenamed('ORRatio','Team2ORRatio')\n",
        "outscores2 = outscores2.withColumnRenamed('DRRatio','Team2DRRatio')\n",
        "outscores2 = outscores2.withColumnRenamed('TRRatio','Team2TRRatio')\n",
        "outscores2 = outscores2.withColumnRenamed('AstPerGame','Team2AstPerGame')\n",
        "outscores2 = outscores2.withColumnRenamed('OppAstPerGame','Team2OppAstPerGame')\n",
        "outscores2 = outscores2.withColumnRenamed('StlPerGame','Team2StlPerGame')\n",
        "outscores2 = outscores2.withColumnRenamed('OppStlPerGame','Team2OppStlPerGame')\n",
        "outscores2 = outscores2.withColumnRenamed('TOPerGame','Team2TOPerGame')\n",
        "outscores2 = outscores2.withColumnRenamed('OppTOPerGame','Team2OppTOPerGame')\n",
        "outscores2 = outscores2.withColumnRenamed('BlkPerGame','Team2BlkPerGame')\n",
        "outscores2 = outscores2.withColumnRenamed('OppBlkPerGame','Team2OppBlkPerGame')\n",
        "outscores2 = outscores2.withColumnRenamed('PFPerGame','Team2PFPerGame')\n",
        "outscores2 = outscores2.withColumnRenamed('OppPFPerGame','Team2OppPFPerGame')\n",
        "\n",
        "print(outscores1.count())\n",
        "print(outscores2.count())"
      ],
      "metadata": {
        "colab": {
          "base_uri": "https://localhost:8080/"
        },
        "id": "CLXGhXOl9R9f",
        "outputId": "2e509e4c-6f4b-4180-c650-52ec34791bd2"
      },
      "execution_count": 23,
      "outputs": [
        {
          "output_type": "stream",
          "name": "stdout",
          "text": [
            "2413\n",
            "2413\n"
          ]
        }
      ]
    },
    {
      "cell_type": "code",
      "source": [
        "outscores = outscores2.join(outscores1, ['Season','Team1','Team2','Result','Team1Seed','Team2Seed'])\n",
        "outscores.show()"
      ],
      "metadata": {
        "colab": {
          "base_uri": "https://localhost:8080/"
        },
        "id": "3YM8k7LNJdJe",
        "outputId": "bec33e5b-550d-4dc2-d588-13bffc023b0f"
      },
      "execution_count": 24,
      "outputs": [
        {
          "output_type": "stream",
          "name": "stdout",
          "text": [
            "+------+-----+-----+------+---------+---------+---------+----------+-------------+------------------+------------------+-------------------------+------------------+--------------------+------------------+-------------------+------------------+---------------------+------------------+-------------------+------------------+----------------------+------------------+------------------+------------------+---------------------+------------------+------------------+------------------+------------------+------------------+------------------+------------------+------------------+------------------+------------------+------------------+------------------+------------------+------------------+------------------+------------------+------------------+------------------+------------------+---------+----------+-------------+------------------+------------------+-------------------------+------------------+--------------------+------------------+-------------------+------------------+---------------------+------------------+-------------------+------------------+----------------------+------------------+------------------+------------------+---------------------+------------------+------------------+------------------+------------------+------------------+------------------+------------------+------------------+------------------+------------------+------------------+-----------------+------------------+------------------+------------------+------------------+------------------+------------------+------------------+\n",
            "|Season|Team1|Team2|Result|Team1Seed|Team2Seed|Team2Wins|Team2Loses|Team2NumGames|     Team2WinRatio|Team2PointsPerGame|Team2PointsAllowedPerGame|  Team2PointsRatio|     Team2OTsPerGame|    Team2FGPerGame|       Team2FGRatio|   Team2FGAPerGame|Team2FGAllowedPerGame|   Team2FG3PerGame|      Team2FG3Ratio|  Team2FG3APerGame|Team2FG3AllowedPerGame|    Team2FTPerGame|      Team2FTRatio|   Team2FTAPerGame|Team2FTAllowedPerGame|    Team2ORPerGame|    Team2DRPerGame|    Team2TRPerGame| Team2OppORPerGame| Team2OppDRPerGame| Team2OppTRPerGame|      Team2ORRatio|      Team2DRRatio|      Team2TRRatio|   Team2AstPerGame|Team2OppAstPerGame|   Team2StlPerGame|Team2OppStlPerGame|    Team2TOPerGame| Team2OppTOPerGame|   Team2BlkPerGame|Team2OppBlkPerGame|    Team2PFPerGame| Team2OppPFPerGame|Team1Wins|Team1Loses|Team1NumGames|     Team1WinRatio|Team1PointsPerGame|Team1PointsAllowedPerGame|  Team1PointsRatio|     Team1OTsPerGame|    Team1FGPerGame|       Team1FGRatio|   Team1FGAPerGame|Team1FGAllowedPerGame|   Team1FG3PerGame|      Team1FG3Ratio|  Team1FG3APerGame|Team1FG3AllowedPerGame|    Team1FTPerGame|      Team1FTRatio|   Team1FTAPerGame|Team1FTAllowedPerGame|    Team1ORPerGame|    Team1DRPerGame|    Team1TRPerGame| Team1OppORPerGame| Team1OppDRPerGame| Team1OppTRPerGame|      Team1ORRatio|      Team1DRRatio|      Team1TRRatio|   Team1AstPerGame|Team1OppAstPerGame|  Team1StlPerGame|Team1OppStlPerGame|    Team1TOPerGame| Team1OppTOPerGame|   Team1BlkPerGame|Team1OppBlkPerGame|    Team1PFPerGame| Team1OppPFPerGame|\n",
            "+------+-----+-----+------+---------+---------+---------+----------+-------------+------------------+------------------+-------------------------+------------------+--------------------+------------------+-------------------+------------------+---------------------+------------------+-------------------+------------------+----------------------+------------------+------------------+------------------+---------------------+------------------+------------------+------------------+------------------+------------------+------------------+------------------+------------------+------------------+------------------+------------------+------------------+------------------+------------------+------------------+------------------+------------------+------------------+------------------+---------+----------+-------------+------------------+------------------+-------------------------+------------------+--------------------+------------------+-------------------+------------------+---------------------+------------------+-------------------+------------------+----------------------+------------------+------------------+------------------+---------------------+------------------+------------------+------------------+------------------+------------------+------------------+------------------+------------------+------------------+------------------+------------------+-----------------+------------------+------------------+------------------+------------------+------------------+------------------+------------------+\n",
            "|  2005| 1242| 1137|     0|       03|       14|       22|         9|           31|0.7096774193548387| 63.58064516129032|        58.45161290322581|1.0877483443708609| 0.03225806451612903|21.258064516129032| 0.4452702702702703| 47.74193548387097|   19.580645161290324| 6.612903225806452| 0.3761467889908257|17.580645161290324|                   6.0|14.451612903225806|0.6978193146417445| 20.70967741935484|   13.290322580645162|  9.35483870967742|22.419354838709676|31.774193548387096| 10.96774193548387|20.225806451612904|31.193548387096776|0.8529411764705882|1.1084529505582137|1.0186142709410548|12.451612903225806|10.451612903225806|               8.0| 7.032258064516129|15.774193548387096|15.870967741935484|               3.0|2.5161290322580645|18.870967741935484|18.838709677419356|       23|         6|           29|0.7931034482758621| 75.44827586206897|        65.24137931034483|1.1564482029598309| 0.13793103448275862| 26.93103448275862|0.47680097680097683| 56.48275862068966|   22.103448275862068| 6.793103448275862| 0.3731060606060606| 18.20689655172414|     6.275862068965517|14.793103448275861|0.6897106109324759|21.448275862068964|   14.758620689655173|11.793103448275861| 25.96551724137931|37.758620689655174|              13.0|21.379310344827587| 34.37931034482759|0.9071618037135278|1.2145161290322581| 1.098294884653962|16.586206896551722|10.655172413793103|6.620689655172414| 7.103448275862069|14.482758620689655| 14.10344827586207|3.8620689655172415|2.8275862068965516| 19.24137931034483|19.689655172413794|\n",
            "|  2008| 1280| 1272|     0|       08|       01|       33|         1|           34|0.9705882352941176| 79.67647058823529|        60.61764705882353| 1.314410480349345|0.029411764705882353|28.764705882352942| 0.4657142857142857| 61.76470588235294|   21.647058823529413|7.9411764705882355|0.35019455252918286|22.676470588235293|     4.852941176470588|14.205882352941176|0.5955610357583231|23.852941176470587|   12.470588235294118|14.117647058823529|26.676470588235293|40.794117647058826|11.029411764705882|23.235294117647058| 34.26470588235294|              1.28|1.1481012658227847| 1.190557939914163|16.029411764705884|10.617647058823529| 8.705882352941176| 5.911764705882353|12.205882352941176| 16.58823529411765| 6.088235294117647|3.2058823529411766|17.441176470588236| 19.41176470588235|       22|        10|           32|            0.6875|          73.09375|                  65.0625|1.1234390009606148|               0.125|          26.09375|0.46107123136388733|          56.59375|               23.125|           6.96875| 0.3343328335832084|          20.84375|               6.96875|           13.9375|0.6435786435786436|          21.65625|             11.84375|          12.21875|          28.65625|            40.875|            13.875|              22.5|            36.375|0.8806306306306306| 1.273611111111111|1.1237113402061856|          13.21875|          11.46875|              6.0|              6.75|          15.28125|          12.71875|            7.9375|            3.1875|           16.5625|          19.03125|\n",
            "|  2009| 1320| 1345|     0|       12|       05|       25|         9|           34|0.7352941176470589|  69.3529411764706|        59.11764705882353| 1.173134328358209| 0.08823529411764706|24.823529411764707|0.44656084656084655|55.588235294117645|   21.147058823529413| 6.705882352941177| 0.3507692307692308| 19.11764705882353|    5.5588235294117645|              13.0|0.7004754358161648|18.558823529411764|   11.264705882352942| 9.676470588235293|24.558823529411764| 34.23529411764706|11.264705882352942|23.264705882352942|34.529411764705884|0.8590078328981723|1.0556257901390644|0.9914821124361158|15.117647058823529|12.264705882352942| 7.235294117647059| 5.294117647058823|11.647058823529411|15.117647058823529| 4.823529411764706|2.8823529411764706|17.352941176470587|17.352941176470587|       23|        10|           33| 0.696969696969697|  67.6969696969697|        63.54545454545455|1.0653314258464472| 0.18181818181818182|22.606060606060606| 0.4554334554334554| 49.63636363636363|   22.303030303030305| 6.363636363636363| 0.3465346534653465|18.363636363636363|     7.181818181818182| 16.12121212121212|0.7524752475247525|21.424242424242426|   11.757575757575758| 8.666666666666666|24.848484848484848|33.515151515151516| 8.909090909090908|21.515151515151516|30.424242424242426|0.9727891156462585|1.1549295774647887|1.1015936254980079|12.212121212121213|12.090909090909092|4.242424242424242| 4.878787878787879|11.606060606060606|10.666666666666666|2.4242424242424243|2.1818181818181817| 18.12121212121212|19.666666666666668|\n",
            "|  2014| 1276| 1246|     0|       02|       08|       24|        10|           34|0.7058823529411765| 75.91176470588235|         66.6470588235294|1.1390114739629302| 0.08823529411764706|25.176470588235293|0.45123879810226675|55.794117647058826|   23.205882352941178| 5.088235294117647|  0.325187969924812|15.647058823529411|     5.352941176470588|20.470588235294116|0.6823529411764706|              30.0|   14.882352941176471|14.647058823529411|              26.5| 41.14705882352941|11.323529411764707|20.029411764705884|31.352941176470587|1.2935064935064935|1.3230543318649046|1.3123827392120075|              11.5|10.382352941176471| 4.764705882352941| 5.764705882352941|12.205882352941176|              11.0| 6.235294117647059|3.1176470588235294|              19.0| 22.58823529411765|       25|         8|           33|0.7575757575757576| 74.39393939393939|        65.36363636363636|1.1381548446917014| 0.06060606060606061|25.606060606060606| 0.4757882882882883| 53.81818181818182|   24.333333333333332| 8.484848484848484|0.39381153305203936|21.545454545454547|     5.636363636363637|14.696969696969697|0.7613814756671899|19.303030303030305|    11.06060606060606| 8.848484848484848|22.939393939393938| 31.78787878787879| 9.303030303030303|21.727272727272727| 31.03030303030303|0.9511400651465798|1.0557880055788005|      1.0244140625|14.212121212121213| 11.93939393939394|5.121212121212121|  5.03030303030303| 9.393939393939394|10.969696969696969| 2.515151515151515| 2.515151515151515|14.545454545454545|17.242424242424242|\n",
            "|  2019| 1387| 1439|     0|       13|       04|       24|         8|           32|              0.75|              74.0|                 62.09375|1.1917463512833417|             0.03125|             25.75|0.47547605308713214|          54.15625|              21.5625|           9.59375| 0.3940949935815148|          24.34375|               8.84375|          12.90625|0.7577981651376147|          17.03125|               10.125|           8.90625|           23.6875|          32.59375|            8.9375|              21.0|           29.9375|0.9965034965034965|1.1279761904761905|1.0887265135699373|          15.34375|          12.15625|           6.65625|            5.0625|            11.375|          14.09375|            2.3125|           2.90625|          15.28125|           16.3125|       23|        12|           35|0.6571428571428571| 67.05714285714286|        63.74285714285714| 1.051994621246078|                 0.0|23.885714285714286|              0.418|57.142857142857146|   22.228571428571428| 5.742857142857143|0.30828220858895705| 18.62857142857143|     6.457142857142857|13.542857142857143|0.5977301387137453| 22.65714285714286|    12.82857142857143| 13.82857142857143|25.942857142857143| 39.77142857142857|               8.8|24.457142857142856| 33.25714285714286|1.5714285714285714| 1.060747663551402|1.1958762886597938|12.971428571428572|              12.2|7.085714285714285| 5.914285714285715|12.714285714285714|12.971428571428572| 4.057142857142857| 3.914285714285714|17.485714285714284|18.857142857142858|\n",
            "|  2003| 1181| 1161|     1|       03|       14|       17|        13|           30|0.5666666666666667|              74.0|        72.66666666666667| 1.018348623853211| 0.03333333333333333|              26.4| 0.5067178502879078|              52.1|   25.833333333333332|               4.2| 0.3631123919308357|11.566666666666666|     5.633333333333334|              17.0|0.7005494505494505|24.266666666666666|   15.366666666666667|              10.8|23.466666666666665|34.266666666666666|              12.0|19.066666666666666|31.066666666666666|               0.9|1.2307692307692308|1.1030042918454936|              15.5|13.233333333333333| 5.333333333333333| 9.033333333333333|16.133333333333333|12.233333333333333| 4.233333333333333| 3.066666666666667|20.566666666666666|              21.3|       24|         6|           30|               0.8| 81.96666666666667|                     70.4|1.1642992424242424| 0.06666666666666667|27.366666666666667| 0.4535911602209945|60.333333333333336|   25.066666666666666| 7.333333333333333| 0.3559870550161812|              20.6|     4.933333333333334|              19.9|0.7090261282660333|28.066666666666666|   15.333333333333334|13.766666666666667|              23.1| 36.86666666666667|              12.2|22.633333333333333|34.833333333333336|1.1284153005464481|1.0206185567010309|1.0583732057416269|13.833333333333334|12.333333333333334|              8.5| 6.433333333333334|14.033333333333333|17.833333333333332| 5.133333333333334|               4.1|21.266666666666666|              23.2|\n",
            "|  2003| 1443| 1228|     0|       13|       04|       24|         6|           30|               0.8| 75.43333333333334|                     61.4| 1.228555917480999|                 0.0|              27.1|0.48566308243727596|              55.8|   20.333333333333332| 7.433333333333334| 0.3685950413223141|20.166666666666668|                   5.7|              13.8|0.7225130890052356|              19.1|   15.033333333333333| 9.733333333333333|              25.4| 35.13333333333333|11.133333333333333|              21.2|32.333333333333336| 0.874251497005988|1.1981132075471699|1.0865979381443298|18.266666666666666|11.033333333333333|               7.0|               5.7|13.166666666666666|14.833333333333334|               3.1|               2.5|19.133333333333333|              18.2|       23|         8|           31|0.7419354838709677| 73.09677419354838|        66.41935483870968|1.1005342399222924| 0.03225806451612903| 25.70967741935484| 0.4598961338718984|55.903225806451616|    24.29032258064516| 7.709677419354839| 0.3665644171779141|21.032258064516128|     4.612903225806452| 13.96774193548387|0.6620795107033639|21.096774193548388|   13.225806451612904|12.161290322580646|23.258064516129032| 35.41935483870968| 11.35483870967742|21.612903225806452| 32.96774193548387|1.0710227272727273|1.0761194029850747|1.0743639921722115|14.193548387096774|              12.0|7.064516129032258| 5.967741935483871|15.161290322580646|15.741935483870968|3.5483870967741935|2.5483870967741935|18.451612903225808|19.419354838709676|\n",
            "|  2004| 1196| 1264|     0|       05|       12|       24|         5|           29|0.8275862068965517| 74.34482758620689|        63.44827586206897|1.1717391304347826|                 0.0|24.379310344827587| 0.4415990006246096|55.206896551724135|    21.75862068965517| 5.758620689655173|   0.36784140969163|15.655172413793103|     4.655172413793103| 19.82758620689655|0.7595772787318362|26.103448275862068|   15.275862068965518|12.172413793103448|22.689655172413794| 34.86206896551724|11.724137931034482|              22.0|33.724137931034484|1.0382352941176471| 1.031347962382445|1.0337423312883436|10.793103448275861|11.206896551724139| 9.448275862068966| 6.241379310344827|              13.0| 16.93103448275862| 4.172413793103448| 4.275862068965517|20.310344827586206| 21.17241379310345|       20|        10|           30|0.6666666666666666| 76.96666666666667|        69.13333333333334| 1.113307618129219| 0.06666666666666667|26.933333333333334| 0.4826762246117085|              55.8|                 24.0|               8.2|0.37962962962962965|              21.6|     6.866666666666666|              14.9|0.7525252525252525|              19.8|   14.266666666666667|10.233333333333333|24.933333333333334|35.166666666666664|              12.9|              21.1|              34.0|0.7932816537467701|1.1816745655608214|1.0343137254901962|16.266666666666666|              14.5|6.533333333333333| 7.333333333333333|14.666666666666666|13.566666666666666|3.1333333333333333|3.1333333333333333|18.866666666666667|18.966666666666665|\n",
            "|  2004| 1329| 1386|     1|       02|       01|       27|         1|           28|0.9642857142857143| 77.78571428571429|                     61.5| 1.264808362369338|                 0.0|27.178571428571427|0.47861635220125787|56.785714285714285|   22.107142857142858|              9.75| 0.4068554396423249|23.964285714285715|     4.428571428571429|13.678571428571429|0.7027522935779816|19.464285714285715|   12.857142857142858| 9.678571428571429|             23.25| 32.92857142857143|13.642857142857142|23.035714285714285| 36.67857142857143|0.7094240837696335|1.0093023255813953|0.8977604673807206|16.535714285714285|11.642857142857142| 9.142857142857142| 6.714285714285714|11.714285714285714|16.571428571428573|3.5714285714285716| 2.392857142857143|17.035714285714285|17.964285714285715|       26|         3|           29| 0.896551724137931| 78.20689655172414|        63.89655172413793|1.2239611440906637| 0.10344827586206896|28.896551724137932| 0.5128518971848225|  56.3448275862069|   22.862068965517242| 4.827586206896552| 0.3783783783783784|12.758620689655173|     5.068965517241379|15.586206896551724|0.6953846153846154|22.413793103448278|    13.10344827586207|11.379310344827585| 24.17241379310345| 35.55172413793103|11.655172413793103|19.689655172413794|31.344827586206897|0.9763313609467456|1.2276707530647986|1.1342134213421342| 16.06896551724138|12.137931034482758|7.862068965517241|               6.0|13.448275862068966|15.551724137931034| 3.586206896551724| 3.103448275862069|19.413793103448278|20.344827586206897|\n",
            "|  2006| 1196| 1206|     1|       03|       11|       23|         7|           30|0.7666666666666667|              69.4|       58.833333333333336|1.1796033994334278| 0.06666666666666667|25.733333333333334|0.48370927318295737|              53.2|   21.233333333333334| 5.933333333333334|0.35177865612648224|16.866666666666667|     5.933333333333334|              12.0|0.6679035250463822|17.966666666666665|   10.433333333333334|              10.1|              24.8|              34.9|11.366666666666667|20.866666666666667|32.233333333333334|0.8885630498533724|1.1884984025559104|1.0827300930713548|15.166666666666666|              11.0|               7.3|               6.7|              13.2|13.933333333333334| 3.533333333333333|               3.8|              15.4|16.533333333333335|       27|         6|           33|0.8181818181818182| 79.27272727272727|        64.78787878787878|1.2235734331150607|0.030303030303030304|27.636363636363637| 0.5080779944289694| 54.39393939393939|   23.545454545454547| 7.393939393939394|0.39418416801292405|18.757575757575758|     6.121212121212121|16.606060606060606|0.7345844504021448|22.606060606060606|   11.575757575757576|10.606060606060606|24.636363636363637| 35.24242424242424|12.333333333333334|19.696969696969695| 32.03030303030303|  0.85995085995086|1.2507692307692309|1.1002838221381268| 17.03030303030303|11.333333333333334|8.030303030303031| 7.545454545454546|14.878787878787879|16.272727272727273|4.9393939393939394|2.6666666666666665| 16.12121212121212| 18.87878787878788|\n",
            "|  2009| 1257| 1287|     1|       01|       16|       17|        15|           32|           0.53125|          69.34375|                  68.6875|1.0095541401273886|              0.0625|          23.71875|0.43520642201834864|              54.5|                23.25|           5.09375| 0.3273092369477912|           15.5625|               7.15625|           16.8125|0.7240915208613729|          23.21875|             15.03125|           13.5625|           24.8125|            38.375|            10.375|           20.8125|           31.1875|1.3072289156626506|1.1921921921921923|1.2304609218436873|          12.40625|           13.1875|           6.40625|           6.78125|          15.40625|            12.375|           3.96875|             3.875|          19.21875|           19.3125|       28|         5|           33|0.8484848484848485| 73.93939393939394|        61.60606060606061|1.2001967535661584|0.030303030303030304| 26.78787878787879|  0.450790413054564| 59.42424242424242|   22.181818181818183|  8.06060606060606| 0.3604336043360434|22.363636363636363|     5.212121212121212|12.303030303030303|0.6434231378763867| 19.12121212121212|   12.030303030303031|12.575757575757576|25.424242424242426|              38.0|11.878787878787879|23.636363636363637|35.515151515151516| 1.058673469387755|1.0756410256410256|1.0699658703071673|16.575757575757574|11.666666666666666|9.272727272727273|6.7272727272727275|13.666666666666666|16.393939393939394| 6.181818181818182| 3.303030303030303|17.151515151515152|16.939393939393938|\n",
            "|  2009| 1393| 1372|     1|       03|       14|       20|         7|           27|0.7407407407407407| 64.22222222222223|       58.074074074074076|1.1058673469387754|  0.1111111111111111| 23.88888888888889|  0.433759246805649|55.074074074074076|    19.85185185185185| 5.555555555555555| 0.3191489361702128| 17.40740740740741|     4.074074074074074| 10.88888888888889|0.6636568848758465| 16.40740740740741|   14.296296296296296| 9.037037037037036|24.814814814814813|33.851851851851855| 9.666666666666666|25.074074074074073| 34.74074074074074|0.9348659003831418|0.9896602658788775|0.9744136460554371|12.444444444444445| 8.703703703703704| 5.666666666666667|5.7407407407407405|11.925925925925926|14.185185185185185| 3.074074074074074|3.4074074074074074| 18.40740740740741| 16.14814814814815|       25|         9|           34|0.7352941176470589| 80.97058823529412|        72.91176470588235|1.1105284388866479| 0.29411764705882354|29.323529411764707| 0.4875305623471883| 60.14705882352941|   27.294117647058822| 6.852941176470588| 0.3535660091047041| 19.38235294117647|     7.323529411764706|15.470588235294118|0.6399026763990268|24.176470588235293|                 11.0|12.735294117647058|26.823529411764707| 39.55882352941177|              15.0| 22.58823529411765|37.588235294117645|0.8490196078431372|            1.1875|1.0524256651017214|18.176470588235293|              16.5|7.647058823529412| 8.205882352941176|15.176470588235293|14.323529411764707| 5.088235294117647|               4.0|15.676470588235293|19.794117647058822|\n",
            "|  2010| 1452| 1449|     1|       02|       11|       24|         9|           33|0.7272727272727273| 79.78787878787878|        69.93939393939394|1.1408145580589255|0.030303030303030304| 27.87878787878788| 0.4520884520884521|61.666666666666664|   23.666666666666668| 5.181818181818182|0.32509505703422054| 15.93939393939394|     4.757575757575758|18.848484848484848|0.7274853801169591| 25.90909090909091|   17.848484848484848|13.515151515151516| 24.87878787878788| 38.39393939393939|11.515151515151516|22.606060606060606|34.121212121212125|1.1736842105263159|1.1005361930294906| 1.125222024866785|              14.0| 10.93939393939394|7.2727272727272725|6.0606060606060606|12.787878787878787| 16.09090909090909|3.9393939393939394| 3.090909090909091|21.606060606060606|21.363636363636363|       27|         6|           33|0.8181818181818182| 72.96969696969697|        63.78787878787879|1.1439429928741092| 0.15151515151515152|25.272727272727273| 0.4339229968782518| 58.24242424242424|   21.939393939393938|6.9393939393939394| 0.3357771260997067|20.666666666666668|     5.424242424242424|15.484848484848484|0.6961852861035422|22.242424242424242|   14.484848484848484|15.575757575757576|22.757575757575758|38.333333333333336|10.333333333333334|21.151515151515152|31.484848484848484|1.5073313782991202|1.0759312320916905|1.2175168431183832|15.696969696969697|11.515151515151516|5.606060606060606|5.9393939393939394|11.727272727272727|13.545454545454545|               4.0|2.5757575757575757|18.333333333333332| 20.90909090909091|\n",
            "|  2011| 1163| 1137|     1|       03|       14|       25|         8|           33|0.7575757575757576| 70.75757575757575|        63.42424242424242|1.1156235069278548|0.030303030303030304|24.575757575757574| 0.4495565410199557|54.666666666666664|   21.666666666666668| 6.878787878787879| 0.4024822695035461| 17.09090909090909|     6.363636363636363|14.727272727272727|0.7864077669902912|18.727272727272727|   13.727272727272727| 8.151515151515152| 25.96969696969697|34.121212121212125|10.484848484848484|23.242424242424242| 33.72727272727273|0.7774566473988439|1.1173402868318123|1.0116801437556155|14.727272727272727|12.181818181818182| 4.757575757575758| 5.484848484848484|11.363636363636363| 11.93939393939394|3.1818181818181817| 2.515151515151515|18.242424242424242|17.606060606060606|       26|         9|           35|0.7428571428571429|              73.4|        66.37142857142857|1.1058975462763667| 0.17142857142857143|              26.0| 0.4329210275927688| 60.05714285714286|   24.314285714285713| 5.828571428571428|0.33170731707317075|17.571428571428573|     6.314285714285714|15.571428571428571|0.7548476454293629| 20.62857142857143|   11.428571428571429|14.428571428571429|25.142857142857142| 39.57142857142857|13.342857142857143|22.142857142857142| 35.48571428571429|1.0813704496788008| 1.135483870967742|1.1151368760064413|13.114285714285714|12.514285714285714|6.628571428571429| 6.171428571428572|11.742857142857142|12.142857142857142| 5.628571428571429|               3.8| 16.02857142857143|              18.8|\n",
            "|  2013| 1112| 1217|     1|       06|       14|       18|         9|           27|0.6666666666666666| 68.92592592592592|        64.22222222222223|1.0732410611303345|  0.1111111111111111|22.703703703703702| 0.4826771653543307| 47.03703703703704|   23.666666666666668|  6.37037037037037|0.40093240093240096| 15.88888888888889|     4.962962962962963| 17.14814814814815|         0.7234375|23.703703703703702|   11.925925925925926| 7.148148148148148|21.962962962962962| 29.11111111111111|10.148148148148149| 20.25925925925926| 30.40740740740741|0.7043795620437956|1.0840950639853748|0.9573690621193667|13.074074074074074|11.814814814814815|  7.37037037037037| 6.222222222222222|13.666666666666666| 13.62962962962963| 4.148148148148148|3.3333333333333335| 15.11111111111111| 19.74074074074074|       25|         7|           32|           0.78125|          73.28125|                  63.6875|1.1506378802747792|             0.03125|          25.03125| 0.4497473329590118|          55.65625|              22.6875|           7.65625|  0.362962962962963|          21.09375|               5.96875|           15.5625|0.7477477477477478|           20.8125|             12.34375|          11.53125|          24.71875|             36.25|           9.21875|          21.03125|             30.25|1.2508474576271187| 1.175334323922734|1.1983471074380165|          13.84375|           11.1875|           6.9375|           6.15625|          13.09375|          13.78125|           3.90625|             3.375|          16.34375|            17.875|\n",
            "|  2015| 1374| 1417|     0|       06|       11|       20|        13|           33|0.6060606060606061|              72.0|        68.03030303030303|1.0583518930957683| 0.06060606060606061|25.727272727272727| 0.4405812143227815| 58.39393939393939|   23.606060606060606| 6.212121212121212|0.36347517730496454| 17.09090909090909|     7.848484848484849|14.333333333333334|0.6757142857142857| 21.21212121212121|   12.969696969696969|12.303030303030303|25.666666666666668| 37.96969696969697|10.030303030303031| 24.03030303030303| 34.06060606060606|1.2265861027190332|1.0680958385876418|1.1147686832740213|13.909090909090908|13.787878787878787| 6.848484848484849|6.2727272727272725|11.878787878787879|12.606060606060606| 3.727272727272727| 3.303030303030303| 17.87878787878788| 18.09090909090909|       26|         6|           32|            0.8125|          69.40625|                 59.71875| 1.162218733647305|             0.03125|          24.65625|0.48256880733944957|          51.09375|             20.28125|           4.21875|               0.36|          11.71875|               7.84375|            15.875|0.7045769764216366|          22.53125|              11.3125|          11.21875|          25.15625|            36.375|           10.4375|           19.0625|              29.5|1.0748502994011977| 1.319672131147541|1.2330508474576272|           15.5625|              12.5|          6.78125|            6.5625|           12.4375|          12.65625|           4.03125|           3.46875|          16.28125|          18.84375|\n",
            "|  2016| 1320| 1401|     0|       11|       03|       26|         8|           34|0.7647058823529411| 75.91176470588235|        65.52941176470588|1.1584380610412925|0.058823529411764705|26.647058823529413| 0.4494047619047619|59.294117647058826|   23.029411764705884| 7.676470588235294| 0.3503355704697987| 21.91176470588235|     7.382352941176471|14.941176470588236|0.6728476821192053|22.205882352941178|   12.088235294117647|12.823529411764707|26.058823529411764| 38.88235294117647|11.088235294117647|23.764705882352942| 34.85294117647059| 1.156498673740053|1.0965346534653466|1.1156118143459917| 16.88235294117647|12.941176470588236| 6.911764705882353|5.0588235294117645|11.794117647058824|14.294117647058824| 3.764705882352941|3.4705882352941178| 18.08823529411765|19.323529411764707|       21|        12|           33|0.6363636363636364| 67.54545454545455|        62.90909090909091| 1.073699421965318|0.030303030303030304|23.363636363636363| 0.4543311726576311| 51.42424242424242|   23.272727272727273| 8.090909090909092|0.37186629526462395|21.757575757575758|      6.96969696969697|12.727272727272727|0.7540394973070018| 16.87878787878788|    9.393939393939394| 5.363636363636363|24.333333333333332|29.696969696969695| 9.121212121212121|25.060606060606062| 34.18181818181818|0.5880398671096345|0.9709794437726723|0.8687943262411347|11.848484848484848|12.181818181818182|5.787878787878788| 4.666666666666667| 9.696969696969697|11.969696969696969|2.6363636363636362| 2.696969696969697|15.333333333333334|18.303030303030305|\n",
            "|  2019| 1332| 1414|     1|       12|       13|       29|         5|           34|0.8529411764705882| 72.47058823529412|        63.61764705882353|  1.13915857605178|                 0.0|26.941176470588236|  0.456857855361596|58.970588235294116|   21.852941176470587| 6.794117647058823| 0.3598130841121495| 18.88235294117647|     6.235294117647059|11.794117647058824| 0.699825479930192|16.852941176470587|   13.676470588235293|11.647058823529411| 28.38235294117647|40.029411764705884|10.264705882352942|              23.0| 33.26470588235294|1.1346704871060171|1.2340153452685423|1.2033598585322722|13.235294117647058| 9.382352941176471|               5.5| 5.088235294117647|11.529411764705882|11.205882352941176| 4.264705882352941| 2.735294117647059|              18.5|16.735294117647058|       23|        12|           35|0.6571428571428571| 70.48571428571428|        62.94285714285714|1.1198365864729913| 0.02857142857142857|25.314285714285713|0.44951801116184675| 56.31428571428572|    21.34285714285714|               7.6| 0.3432258064516129|22.142857142857142|     7.057142857142857|12.257142857142858|0.7185929648241206|17.057142857142857|                 13.2| 9.714285714285714|24.714285714285715| 34.42857142857143| 9.657142857142857| 23.02857142857143| 32.68571428571428|1.0059171597633136|1.0732009925558312|1.0533216783216783|13.342857142857143|11.885714285714286|7.771428571428571| 5.228571428571429|              11.8|13.971428571428572| 4.228571428571429|2.7714285714285714|17.771428571428572|16.857142857142858|\n",
            "|  2021| 1199| 1276|     0|       04|       01|       20|         4|           24|0.8333333333333334|             76.25|                   65.375|1.1663479923518165|0.041666666666666664|            27.875| 0.4837310195227766|            57.625|   23.833333333333332| 7.541666666666667|0.38675213675213677|              19.5|                 6.625|12.958333333333334|            0.7775|16.666666666666668|   11.083333333333334| 8.083333333333334|27.083333333333332|35.166666666666664| 7.458333333333333|21.166666666666668|            28.625|1.0837988826815643| 1.279527559055118|1.2285298398835516|15.458333333333334|            10.125| 4.416666666666667| 4.791666666666667|10.666666666666666|               9.5| 4.291666666666667|2.6666666666666665| 6.208333333333333|             6.625|       16|         6|           22|0.7272727272727273|  78.9090909090909|        70.31818181818181|1.1221719457013575| 0.09090909090909091|28.181818181818183| 0.4743687834736037| 59.40909090909091|   23.363636363636363| 8.227272727272727| 0.3900862068965517| 21.09090909090909|     7.818181818181818|14.318181818181818|0.7377049180327869| 19.40909090909091|   15.772727272727273|10.409090909090908|24.272727272727273| 34.68181818181818| 9.772727272727273|19.863636363636363|29.636363636363637|1.0651162790697675|1.2219679633867278|1.1702453987730062|14.590909090909092|              11.5|7.409090909090909| 7.136363636363637|14.136363636363637|13.590909090909092| 5.136363636363637|2.8636363636363638| 6.545454545454546| 5.545454545454546|\n",
            "|  2005| 1153| 1246|     0|       07|       02|       25|         5|           30|0.8333333333333334| 73.73333333333333|                     61.9| 1.191168551427033| 0.03333333333333333|              26.5| 0.4590069284064665|57.733333333333334|   21.866666666666667| 6.533333333333333|0.33793103448275863|19.333333333333332|     6.566666666666666|              14.2|0.6635514018691588|              21.4|                 11.6|              12.7|              22.9|              35.6|11.733333333333333|              22.2| 33.93333333333333|1.0823863636363635|1.0315315315315314|1.0491159135559922|15.266666666666667|11.133333333333333|               9.4|               5.1|13.033333333333333|18.133333333333333| 4.433333333333334| 3.433333333333333|              16.8|18.433333333333334|       24|         7|           31|0.7741935483870968| 76.41935483870968|        64.41935483870968| 1.186279419128693| 0.06451612903225806|25.548387096774192|0.43878116343490303|58.225806451612904|    22.70967741935484| 6.612903225806452| 0.3474576271186441|19.032258064516128|     7.032258064516129| 18.70967741935484|0.6929510155316607|              27.0|    11.96774193548387|14.387096774193548| 27.06451612903226| 41.45161290322581|14.548387096774194|21.838709677419356| 36.38709677419355|0.9889135254988913| 1.239290989660266|1.1391843971631206|              15.0|11.064516129032258|5.483870967741935| 5.870967741935484|13.451612903225806|14.290322580645162| 6.870967741935484| 2.193548387096774|17.677419354838708|22.193548387096776|\n",
            "+------+-----+-----+------+---------+---------+---------+----------+-------------+------------------+------------------+-------------------------+------------------+--------------------+------------------+-------------------+------------------+---------------------+------------------+-------------------+------------------+----------------------+------------------+------------------+------------------+---------------------+------------------+------------------+------------------+------------------+------------------+------------------+------------------+------------------+------------------+------------------+------------------+------------------+------------------+------------------+------------------+------------------+------------------+------------------+------------------+---------+----------+-------------+------------------+------------------+-------------------------+------------------+--------------------+------------------+-------------------+------------------+---------------------+------------------+-------------------+------------------+----------------------+------------------+------------------+------------------+---------------------+------------------+------------------+------------------+------------------+------------------+------------------+------------------+------------------+------------------+------------------+------------------+-----------------+------------------+------------------+------------------+------------------+------------------+------------------+------------------+\n",
            "only showing top 20 rows\n",
            "\n"
          ]
        }
      ]
    },
    {
      "cell_type": "code",
      "source": [
        "notin = outscores2.join(outscores1, ['Season','Team1','Team2'],\"left_anti\")\n",
        "notin.show()\n",
        "print(notin.count())\n",
        "\n",
        "notin = outscores1.join(outscores2, ['Season','Team1','Team2'],\"left_anti\")\n",
        "notin.show()\n",
        "print(notin.count())\n",
        "# combine on season, team 1, team 2 and result"
      ],
      "metadata": {
        "colab": {
          "base_uri": "https://localhost:8080/"
        },
        "id": "HaE3wDpY_M_x",
        "outputId": "ce636a73-d5da-43e6-9eb0-3e3655078ca1"
      },
      "execution_count": 25,
      "outputs": [
        {
          "output_type": "stream",
          "name": "stdout",
          "text": [
            "+------+-----+-----+---------+----------+-------------+-------------------+------------------+-------------------------+------------------+--------------------+------------------+-------------------+------------------+---------------------+------------------+-------------------+------------------+----------------------+------------------+------------------+------------------+---------------------+------------------+------------------+------------------+------------------+------------------+------------------+------------------+------------------+------------------+------------------+------------------+-----------------+------------------+------------------+------------------+------------------+------------------+------------------+------------------+---------+---------+------+\n",
            "|Season|Team1|Team2|Team2Wins|Team2Loses|Team2NumGames|      Team2WinRatio|Team2PointsPerGame|Team2PointsAllowedPerGame|  Team2PointsRatio|     Team2OTsPerGame|    Team2FGPerGame|       Team2FGRatio|   Team2FGAPerGame|Team2FGAllowedPerGame|   Team2FG3PerGame|      Team2FG3Ratio|  Team2FG3APerGame|Team2FG3AllowedPerGame|    Team2FTPerGame|      Team2FTRatio|   Team2FTAPerGame|Team2FTAllowedPerGame|    Team2ORPerGame|    Team2DRPerGame|    Team2TRPerGame| Team2OppORPerGame| Team2OppDRPerGame| Team2OppTRPerGame|      Team2ORRatio|      Team2DRRatio|      Team2TRRatio|   Team2AstPerGame|Team2OppAstPerGame|  Team2StlPerGame|Team2OppStlPerGame|    Team2TOPerGame| Team2OppTOPerGame|   Team2BlkPerGame|Team2OppBlkPerGame|    Team2PFPerGame| Team2OppPFPerGame|Team1Seed|Team2Seed|Result|\n",
            "+------+-----+-----+---------+----------+-------------+-------------------+------------------+-------------------------+------------------+--------------------+------------------+-------------------+------------------+---------------------+------------------+-------------------+------------------+----------------------+------------------+------------------+------------------+---------------------+------------------+------------------+------------------+------------------+------------------+------------------+------------------+------------------+------------------+------------------+------------------+-----------------+------------------+------------------+------------------+------------------+------------------+------------------+------------------+---------+---------+------+\n",
            "|  2015| 1246| 1452|       23|         9|           32|            0.71875|           73.9375|                 66.84375|1.1061243571762507|              0.0625|          25.40625|0.41164556962025317|          61.71875|             21.78125|           6.65625| 0.3183856502242152|          20.90625|               5.40625|          16.46875|0.6604010025062657|           24.9375|               17.875|          16.84375|           19.9375|          36.78125|           8.90625|           24.3125|          33.21875|1.8912280701754387|0.8200514138817481|1.1072436500470366|          14.53125|           11.6875|          10.9375|           5.78125|           13.0625|            19.625|           2.84375|           4.03125|          23.34375|          22.46875|       01|       05|     1|\n",
            "|  2021| 1211| 1166|       20|         8|           28| 0.7142857142857143| 76.96428571428571|        68.28571428571429| 1.127092050209205| 0.07142857142857142|28.464285714285715|0.47582089552238804| 59.82142857142857|   24.785714285714285| 9.714285714285714| 0.3665768194070081|              26.5|     7.642857142857143|10.321428571428571|0.6422222222222222|16.071428571428573|   11.071428571428571| 6.892857142857143|25.714285714285715|32.607142857142854| 8.964285714285714|24.285714285714285|             33.25|0.7689243027888446|1.0588235294117647|0.9806659505907627|15.857142857142858|12.714285714285714|7.071428571428571| 5.714285714285714|10.785714285714286|             12.25|               3.5| 2.892857142857143|              3.75| 3.642857142857143|       01|       05|     1|\n",
            "|  2021| 1211| 1313|       14|         7|           21| 0.6666666666666666| 75.14285714285714|        70.57142857142857|1.0647773279352226|0.047619047619047616|25.476190476190474|0.42971887550200805|59.285714285714285|   22.904761904761905|7.9523809523809526|0.37360178970917224|21.285714285714285|      8.19047619047619|16.238095238095237|0.7089397089397089|22.904761904761905|   16.571428571428573| 8.238095238095237|24.761904761904763|              33.0| 8.761904761904763|24.285714285714285| 33.04761904761905|0.9402173913043478|1.0196078431372548|0.9985590778097982|12.238095238095237|12.523809523809524|6.380952380952381| 5.380952380952381|12.619047619047619|14.666666666666666|3.1904761904761907| 3.761904761904762| 7.380952380952381| 7.619047619047619|       01|       16|     1|\n",
            "|  2015| 1246| 1214|       16|        17|           33|0.48484848484848486| 67.15151515151516|                     68.0|0.9875222816399287|0.030303030303030304|22.818181818181817|0.40768814293448835| 55.96969696969697|   22.545454545454547| 5.666666666666667| 0.3040650406504065|18.636363636363637|     5.696969696969697|15.848484848484848|0.6521197007481296|24.303030303030305|    17.21212121212121|12.242424242424242|24.848484848484848| 37.09090909090909|11.121212121212121| 25.03030303030303| 36.15151515151515|1.1008174386920981|0.9927360774818402|1.0259849119865885|10.606060606060606|10.151515151515152|6.666666666666667| 5.393939393939394|14.212121212121213|13.969696969696969| 4.090909090909091| 3.757575757575758|21.545454545454547|20.424242424242426|       01|       16|     1|\n",
            "|  2021| 1211| 1328|       15|        10|           25|                0.6|             74.76|                    69.24|1.0797227036395147|                0.12|              26.8| 0.4416611733684904|             60.68|                25.48|               8.0|  0.338409475465313|             23.64|                  8.16|             13.16| 0.744343891402715|             17.68|                10.12|              8.72|              24.8|             33.52|              8.64|             24.92|             33.56|1.0092592592592593|0.9951845906902087|  0.99880810488677|              13.4|             11.96|             7.36|               5.6|             10.48|             12.68|              3.44|              3.04|               4.0|              4.44|       01|       08|     1|\n",
            "|  2021| 1211| 1425|       22|         7|           29| 0.7586206896551724| 74.75862068965517|        65.10344827586206|1.1483050847457628| 0.13793103448275862| 27.17241379310345|0.46710136336692354|58.172413793103445|   23.551724137931036| 6.310344827586207|0.34790874524714827|18.137931034482758|     7.206896551724138| 14.10344827586207|0.6471518987341772| 21.79310344827586|   10.793103448275861|10.482758620689655| 25.82758620689655|36.310344827586206| 8.448275862068966| 21.06896551724138|29.517241379310345|1.2408163265306122| 1.225859247135843| 1.230140186915888|13.655172413793103|12.448275862068966|4.793103448275862| 5.448275862068965| 12.10344827586207|              11.0| 5.241379310344827|2.8275862068965516| 4.482758620689655| 5.413793103448276|       01|       06|     1|\n",
            "|  2015| 1246| 1153|       22|        10|           32|             0.6875|            62.375|                 55.28125|1.1283210853589598|             0.09375|            22.375|0.45287792536369387|          49.40625|              20.4375|           5.03125| 0.3333333333333333|          15.09375|                  5.75|          12.59375|0.6739130434782609|           18.6875|              8.65625|          10.96875|             23.25|          34.21875|          10.84375|          18.40625|             29.25|1.0115273775216138| 1.263157894736842| 1.169871794871795|            11.875|          11.09375|           6.5625|           5.53125|          12.78125|           12.1875|            5.4375|              2.75|          14.65625|           17.1875|       01|       08|     1|\n",
            "|  2015| 1246| 1458|       31|         3|           34| 0.9117647058823529| 71.88235294117646|        56.11764705882353| 1.280922431865828|0.058823529411764705|25.294117647058822| 0.4796430563301729| 52.73529411764706|   21.823529411764707| 6.970588235294118| 0.3574660633484163|              19.5|                   5.0|14.323529411764707|0.7633228840125392|18.764705882352942|    7.470588235294118| 9.470588235294118|24.205882352941178|  33.6764705882353| 7.529411764705882|20.176470588235293|27.705882352941178|         1.2578125|1.1997084548104957|1.2154989384288748|12.705882352941176| 8.911764705882353|4.529411764705882|3.9705882352941178| 7.411764705882353| 9.970588235294118|               3.5|1.9705882352941178|12.029411764705882|18.058823529411764|       01|       01|     0|\n",
            "|  2015| 1246| 1323|       29|         5|           34| 0.8529411764705882| 78.82352941176471|         65.6470588235294| 1.200716845878136| 0.11764705882352941|27.794117647058822| 0.5099838100377766|              54.5|    24.91176470588235| 8.264705882352942| 0.3924581005586592|21.058823529411764|     6.264705882352941|14.970588235294118|0.7398255813953488|20.235294117647058|    9.558823529411764| 8.323529411764707|24.441176470588236| 32.76470588235294|11.294117647058824|21.323529411764707| 32.61764705882353|0.7369791666666666| 1.146206896551724|1.0045085662759243|15.117647058823529|12.735294117647058|6.882352941176471| 5.176470588235294| 9.382352941176471|11.294117647058824|3.5588235294117645| 2.235294117647059|14.205882352941176|16.970588235294116|       01|       03|     1|\n",
            "|  2014| 1455| 1246|       24|        10|           34| 0.7058823529411765| 75.91176470588235|         66.6470588235294|1.1390114739629302| 0.08823529411764706|25.176470588235293|0.45123879810226675|55.794117647058826|   23.205882352941178| 5.088235294117647|  0.325187969924812|15.647058823529411|     5.352941176470588|20.470588235294116|0.6823529411764706|              30.0|   14.882352941176471|14.647058823529411|              26.5| 41.14705882352941|11.323529411764707|20.029411764705884|31.352941176470587|1.2935064935064935|1.3230543318649046|1.3123827392120075|              11.5|10.382352941176471|4.764705882352941| 5.764705882352941|12.205882352941176|              11.0| 6.235294117647059|3.1176470588235294|              19.0| 22.58823529411765|       01|       08|     0|\n",
            "|  2014| 1455| 1142|       11|        19|           30|0.36666666666666664|              62.0|        64.73333333333333|0.9577754891864058|                 0.0|21.733333333333334| 0.4037151702786378|53.833333333333336|   21.933333333333334| 6.333333333333333| 0.3350970017636684|              18.9|     5.266666666666667|              12.2|0.6866791744840526|17.766666666666666|                 15.6|10.733333333333333|20.733333333333334|31.466666666666665|10.233333333333333|24.066666666666666|              34.3|1.0488599348534202|0.8614958448753463|0.9173955296404276|11.366666666666667|12.166666666666666|5.533333333333333| 4.533333333333333| 8.966666666666667|10.833333333333334|2.6666666666666665|               3.6|              18.8|15.633333333333333|       01|       16|     1|\n",
            "|  2021| 1211| 1124|       22|         2|           24| 0.9166666666666666|            84.375|        66.41666666666667|1.2703889585947303|0.041666666666666664|31.083333333333332| 0.4930601454064772|63.041666666666664|   23.958333333333332|10.333333333333334|  0.418212478920742|24.708333333333332|     6.458333333333333|            11.875|0.6968215158924206|17.041666666666668|   12.041666666666666|11.333333333333334|            22.375|33.708333333333336| 9.291666666666666|            20.125|29.416666666666668|1.2197309417040358|1.1118012422360248|1.1458923512747876|17.041666666666668|            12.375|8.958333333333334| 6.166666666666667|12.166666666666666|16.833333333333332|              3.75|3.8333333333333335|              5.25| 4.916666666666667|       01|       01|     0|\n",
            "|  2021| 1211| 1417|       17|         9|           26| 0.6538461538461539| 72.84615384615384|                     68.5|1.0634475014037057| 0.23076923076923078|26.384615384615383|0.46195286195286195| 57.11538461538461|   24.615384615384617| 6.653846153846154| 0.3673036093418259|18.115384615384617|    7.6923076923076925|13.423076923076923|0.7210743801652892|18.615384615384617|   11.576923076923077|  8.76923076923077|24.192307692307693| 32.96153846153846| 6.653846153846154| 21.46153846153846|28.115384615384617|1.3179190751445087|1.1272401433691757|1.1723666210670314|13.615384615384615|12.153846153846153|5.076923076923077| 5.076923076923077|10.884615384615385|11.153846153846153|2.6538461538461537| 2.769230769230769| 4.346153846153846|4.3076923076923075|       01|       11|     1|\n",
            "+------+-----+-----+---------+----------+-------------+-------------------+------------------+-------------------------+------------------+--------------------+------------------+-------------------+------------------+---------------------+------------------+-------------------+------------------+----------------------+------------------+------------------+------------------+---------------------+------------------+------------------+------------------+------------------+------------------+------------------+------------------+------------------+------------------+------------------+------------------+-----------------+------------------+------------------+------------------+------------------+------------------+------------------+------------------+---------+---------+------+\n",
            "\n",
            "13\n",
            "+------+-----+-----+---------+----------+-------------+-------------------+------------------+-------------------------+------------------+--------------------+------------------+-------------------+------------------+---------------------+------------------+-------------------+------------------+----------------------+------------------+------------------+------------------+---------------------+------------------+------------------+------------------+------------------+------------------+------------------+------------------+------------------+------------------+------------------+------------------+-----------------+------------------+------------------+------------------+------------------+------------------+------------------+------------------+---------+---------+------+\n",
            "|Season|Team1|Team2|Team1Wins|Team1Loses|Team1NumGames|      Team1WinRatio|Team1PointsPerGame|Team1PointsAllowedPerGame|  Team1PointsRatio|     Team1OTsPerGame|    Team1FGPerGame|       Team1FGRatio|   Team1FGAPerGame|Team1FGAllowedPerGame|   Team1FG3PerGame|      Team1FG3Ratio|  Team1FG3APerGame|Team1FG3AllowedPerGame|    Team1FTPerGame|      Team1FTRatio|   Team1FTAPerGame|Team1FTAllowedPerGame|    Team1ORPerGame|    Team1DRPerGame|    Team1TRPerGame| Team1OppORPerGame| Team1OppDRPerGame| Team1OppTRPerGame|      Team1ORRatio|      Team1DRRatio|      Team1TRRatio|   Team1AstPerGame|Team1OppAstPerGame|  Team1StlPerGame|Team1OppStlPerGame|    Team1TOPerGame| Team1OppTOPerGame|   Team1BlkPerGame|Team1OppBlkPerGame|    Team1PFPerGame| Team1OppPFPerGame|Team1Seed|Team2Seed|Result|\n",
            "+------+-----+-----+---------+----------+-------------+-------------------+------------------+-------------------------+------------------+--------------------+------------------+-------------------+------------------+---------------------+------------------+-------------------+------------------+----------------------+------------------+------------------+------------------+---------------------+------------------+------------------+------------------+------------------+------------------+------------------+------------------+------------------+------------------+------------------+------------------+-----------------+------------------+------------------+------------------+------------------+------------------+------------------+------------------+---------+---------+------+\n",
            "|  2015| 1458| 1246|       31|         3|           34| 0.9117647058823529| 71.88235294117646|        56.11764705882353| 1.280922431865828|0.058823529411764705|25.294117647058822| 0.4796430563301729| 52.73529411764706|   21.823529411764707| 6.970588235294118| 0.3574660633484163|              19.5|                   5.0|14.323529411764707|0.7633228840125392|18.764705882352942|    7.470588235294118| 9.470588235294118|24.205882352941178|  33.6764705882353| 7.529411764705882|20.176470588235293|27.705882352941178|         1.2578125|1.1997084548104957|1.2154989384288748|12.705882352941176| 8.911764705882353|4.529411764705882|3.9705882352941178| 7.411764705882353| 9.970588235294118|               3.5|1.9705882352941178|12.029411764705882|18.058823529411764|       01|       01|     1|\n",
            "|  2015| 1214| 1246|       16|        17|           33|0.48484848484848486| 67.15151515151516|                     68.0|0.9875222816399287|0.030303030303030304|22.818181818181817|0.40768814293448835| 55.96969696969697|   22.545454545454547| 5.666666666666667| 0.3040650406504065|18.636363636363637|     5.696969696969697|15.848484848484848|0.6521197007481296|24.303030303030305|    17.21212121212121|12.242424242424242|24.848484848484848| 37.09090909090909|11.121212121212121| 25.03030303030303| 36.15151515151515|1.1008174386920981|0.9927360774818402|1.0259849119865885|10.606060606060606|10.151515151515152|6.666666666666667| 5.393939393939394|14.212121212121213|13.969696969696969| 4.090909090909091| 3.757575757575758|21.545454545454547|20.424242424242426|       16|       01|     0|\n",
            "|  2021| 1328| 1211|       15|        10|           25|                0.6|             74.76|                    69.24|1.0797227036395147|                0.12|              26.8| 0.4416611733684904|             60.68|                25.48|               8.0|  0.338409475465313|             23.64|                  8.16|             13.16| 0.744343891402715|             17.68|                10.12|              8.72|              24.8|             33.52|              8.64|             24.92|             33.56|1.0092592592592593|0.9951845906902087|  0.99880810488677|              13.4|             11.96|             7.36|               5.6|             10.48|             12.68|              3.44|              3.04|               4.0|              4.44|       08|       01|     0|\n",
            "|  2021| 1124| 1211|       22|         2|           24| 0.9166666666666666|            84.375|        66.41666666666667|1.2703889585947303|0.041666666666666664|31.083333333333332| 0.4930601454064772|63.041666666666664|   23.958333333333332|10.333333333333334|  0.418212478920742|24.708333333333332|     6.458333333333333|            11.875|0.6968215158924206|17.041666666666668|   12.041666666666666|11.333333333333334|            22.375|33.708333333333336| 9.291666666666666|            20.125|29.416666666666668|1.2197309417040358|1.1118012422360248|1.1458923512747876|17.041666666666668|            12.375|8.958333333333334| 6.166666666666667|12.166666666666666|16.833333333333332|              3.75|3.8333333333333335|              5.25| 4.916666666666667|       01|       01|     1|\n",
            "|  2021| 1166| 1211|       20|         8|           28| 0.7142857142857143| 76.96428571428571|        68.28571428571429| 1.127092050209205| 0.07142857142857142|28.464285714285715|0.47582089552238804| 59.82142857142857|   24.785714285714285| 9.714285714285714| 0.3665768194070081|              26.5|     7.642857142857143|10.321428571428571|0.6422222222222222|16.071428571428573|   11.071428571428571| 6.892857142857143|25.714285714285715|32.607142857142854| 8.964285714285714|24.285714285714285|             33.25|0.7689243027888446|1.0588235294117647|0.9806659505907627|15.857142857142858|12.714285714285714|7.071428571428571| 5.714285714285714|10.785714285714286|             12.25|               3.5| 2.892857142857143|              3.75| 3.642857142857143|       05|       01|     0|\n",
            "|  2021| 1425| 1211|       22|         7|           29| 0.7586206896551724| 74.75862068965517|        65.10344827586206|1.1483050847457628| 0.13793103448275862| 27.17241379310345|0.46710136336692354|58.172413793103445|   23.551724137931036| 6.310344827586207|0.34790874524714827|18.137931034482758|     7.206896551724138| 14.10344827586207|0.6471518987341772| 21.79310344827586|   10.793103448275861|10.482758620689655| 25.82758620689655|36.310344827586206| 8.448275862068966| 21.06896551724138|29.517241379310345|1.2408163265306122| 1.225859247135843| 1.230140186915888|13.655172413793103|12.448275862068966|4.793103448275862| 5.448275862068965| 12.10344827586207|              11.0| 5.241379310344827|2.8275862068965516| 4.482758620689655| 5.413793103448276|       06|       01|     0|\n",
            "|  2014| 1142| 1455|       11|        19|           30|0.36666666666666664|              62.0|        64.73333333333333|0.9577754891864058|                 0.0|21.733333333333334| 0.4037151702786378|53.833333333333336|   21.933333333333334| 6.333333333333333| 0.3350970017636684|              18.9|     5.266666666666667|              12.2|0.6866791744840526|17.766666666666666|                 15.6|10.733333333333333|20.733333333333334|31.466666666666665|10.233333333333333|24.066666666666666|              34.3|1.0488599348534202|0.8614958448753463|0.9173955296404276|11.366666666666667|12.166666666666666|5.533333333333333| 4.533333333333333| 8.966666666666667|10.833333333333334|2.6666666666666665|               3.6|              18.8|15.633333333333333|       16|       01|     0|\n",
            "|  2015| 1452| 1246|       23|         9|           32|            0.71875|           73.9375|                 66.84375|1.1061243571762507|              0.0625|          25.40625|0.41164556962025317|          61.71875|             21.78125|           6.65625| 0.3183856502242152|          20.90625|               5.40625|          16.46875|0.6604010025062657|           24.9375|               17.875|          16.84375|           19.9375|          36.78125|           8.90625|           24.3125|          33.21875|1.8912280701754387|0.8200514138817481|1.1072436500470366|          14.53125|           11.6875|          10.9375|           5.78125|           13.0625|            19.625|           2.84375|           4.03125|          23.34375|          22.46875|       05|       01|     0|\n",
            "|  2021| 1313| 1211|       14|         7|           21| 0.6666666666666666| 75.14285714285714|        70.57142857142857|1.0647773279352226|0.047619047619047616|25.476190476190474|0.42971887550200805|59.285714285714285|   22.904761904761905|7.9523809523809526|0.37360178970917224|21.285714285714285|      8.19047619047619|16.238095238095237|0.7089397089397089|22.904761904761905|   16.571428571428573| 8.238095238095237|24.761904761904763|              33.0| 8.761904761904763|24.285714285714285| 33.04761904761905|0.9402173913043478|1.0196078431372548|0.9985590778097982|12.238095238095237|12.523809523809524|6.380952380952381| 5.380952380952381|12.619047619047619|14.666666666666666|3.1904761904761907| 3.761904761904762| 7.380952380952381| 7.619047619047619|       16|       01|     0|\n",
            "|  2021| 1417| 1211|       17|         9|           26| 0.6538461538461539| 72.84615384615384|                     68.5|1.0634475014037057| 0.23076923076923078|26.384615384615383|0.46195286195286195| 57.11538461538461|   24.615384615384617| 6.653846153846154| 0.3673036093418259|18.115384615384617|    7.6923076923076925|13.423076923076923|0.7210743801652892|18.615384615384617|   11.576923076923077|  8.76923076923077|24.192307692307693| 32.96153846153846| 6.653846153846154| 21.46153846153846|28.115384615384617|1.3179190751445087|1.1272401433691757|1.1723666210670314|13.615384615384615|12.153846153846153|5.076923076923077| 5.076923076923077|10.884615384615385|11.153846153846153|2.6538461538461537| 2.769230769230769| 4.346153846153846|4.3076923076923075|       11|       01|     0|\n",
            "|  2015| 1153| 1246|       22|        10|           32|             0.6875|            62.375|                 55.28125|1.1283210853589598|             0.09375|            22.375|0.45287792536369387|          49.40625|              20.4375|           5.03125| 0.3333333333333333|          15.09375|                  5.75|          12.59375|0.6739130434782609|           18.6875|              8.65625|          10.96875|             23.25|          34.21875|          10.84375|          18.40625|             29.25|1.0115273775216138| 1.263157894736842| 1.169871794871795|            11.875|          11.09375|           6.5625|           5.53125|          12.78125|           12.1875|            5.4375|              2.75|          14.65625|           17.1875|       08|       01|     0|\n",
            "|  2015| 1323| 1246|       29|         5|           34| 0.8529411764705882| 78.82352941176471|         65.6470588235294| 1.200716845878136| 0.11764705882352941|27.794117647058822| 0.5099838100377766|              54.5|    24.91176470588235| 8.264705882352942| 0.3924581005586592|21.058823529411764|     6.264705882352941|14.970588235294118|0.7398255813953488|20.235294117647058|    9.558823529411764| 8.323529411764707|24.441176470588236| 32.76470588235294|11.294117647058824|21.323529411764707| 32.61764705882353|0.7369791666666666| 1.146206896551724|1.0045085662759243|15.117647058823529|12.735294117647058|6.882352941176471| 5.176470588235294| 9.382352941176471|11.294117647058824|3.5588235294117645| 2.235294117647059|14.205882352941176|16.970588235294116|       03|       01|     0|\n",
            "|  2014| 1246| 1455|       24|        10|           34| 0.7058823529411765| 75.91176470588235|         66.6470588235294|1.1390114739629302| 0.08823529411764706|25.176470588235293|0.45123879810226675|55.794117647058826|   23.205882352941178| 5.088235294117647|  0.325187969924812|15.647058823529411|     5.352941176470588|20.470588235294116|0.6823529411764706|              30.0|   14.882352941176471|14.647058823529411|              26.5| 41.14705882352941|11.323529411764707|20.029411764705884|31.352941176470587|1.2935064935064935|1.3230543318649046|1.3123827392120075|              11.5|10.382352941176471|4.764705882352941| 5.764705882352941|12.205882352941176|              11.0| 6.235294117647059|3.1176470588235294|              19.0| 22.58823529411765|       08|       01|     1|\n",
            "+------+-----+-----+---------+----------+-------------+-------------------+------------------+-------------------------+------------------+--------------------+------------------+-------------------+------------------+---------------------+------------------+-------------------+------------------+----------------------+------------------+------------------+------------------+---------------------+------------------+------------------+------------------+------------------+------------------+------------------+------------------+------------------+------------------+------------------+------------------+-----------------+------------------+------------------+------------------+------------------+------------------+------------------+------------------+---------+---------+------+\n",
            "\n",
            "13\n"
          ]
        }
      ]
    },
    {
      "cell_type": "markdown",
      "source": [
        "# Model Building"
      ],
      "metadata": {
        "id": "GOjUd98MyMlQ"
      }
    },
    {
      "cell_type": "code",
      "source": [
        "outscores = outscores.withColumn('Wins',outscores.Team1Wins - outscores.Team2Wins)\n",
        "outscores = outscores.withColumn('Loses',outscores.Team1Loses - outscores.Team2Loses)\n",
        "outscores = outscores.withColumn('NumGames',outscores.Team1NumGames - outscores.Team2NumGames)\n",
        "outscores = outscores.withColumn('WinRatio',outscores.Team1WinRatio - outscores.Team2WinRatio)\n",
        "outscores = outscores.withColumn('PointsPerGame',outscores.Team1PointsPerGame - outscores.Team2PointsPerGame)\n",
        "outscores = outscores.withColumn('PointsAllowedPerGame',outscores.Team1PointsAllowedPerGame - outscores.Team2PointsAllowedPerGame)\n",
        "outscores = outscores.withColumn('PointsRatio',outscores.Team1PointsRatio - outscores.Team2PointsRatio)\n",
        "outscores = outscores.withColumn('OTsPerGame',outscores.Team1OTsPerGame - outscores.Team2OTsPerGame)\n",
        "outscores = outscores.withColumn('FGPerGame',outscores.Team1FGPerGame - outscores.Team2FGPerGame)\n",
        "outscores = outscores.withColumn('FGRatio',outscores.Team1FGRatio - outscores.Team2FGRatio)\n",
        "outscores = outscores.withColumn('FGAPerGame',outscores.Team1FGAPerGame - outscores.Team2FGAPerGame)\n",
        "outscores = outscores.withColumn('FGAllowedPerGame',outscores.Team1FGAllowedPerGame - outscores.Team2FGAllowedPerGame)\n",
        "outscores = outscores.withColumn('FG3PerGame',outscores.Team1FG3PerGame - outscores.Team2FG3PerGame)\n",
        "outscores = outscores.withColumn('FG3Ratio',outscores.Team1FG3Ratio - outscores.Team2FG3Ratio)\n",
        "outscores = outscores.withColumn('FG3APerGame',outscores.Team1FG3APerGame - outscores.Team2FG3APerGame)\n",
        "outscores = outscores.withColumn('FG3AllowedPerGame',outscores.Team1FG3AllowedPerGame - outscores.Team2FG3AllowedPerGame)\n",
        "outscores = outscores.withColumn('FTPerGame',outscores.Team1FTPerGame - outscores.Team2FTPerGame)\n",
        "outscores = outscores.withColumn('FTRatio',outscores.Team1FTRatio - outscores.Team2FTRatio)\n",
        "outscores = outscores.withColumn('FTAPerGame',outscores.Team1FTAPerGame - outscores.Team2FTAPerGame)\n",
        "outscores = outscores.withColumn('FTAllowedPerGame',outscores.Team1FTAllowedPerGame - outscores.Team2FTAllowedPerGame)\n",
        "outscores = outscores.withColumn('ORPerGame',outscores.Team1ORPerGame - outscores.Team2ORPerGame)\n",
        "outscores = outscores.withColumn('DRPerGame',outscores.Team1DRPerGame - outscores.Team2DRPerGame)\n",
        "outscores = outscores.withColumn('TRPerGame',outscores.Team1TRPerGame - outscores.Team2TRPerGame)\n",
        "outscores = outscores.withColumn('OppORPerGame',outscores.Team1OppORPerGame - outscores.Team2OppORPerGame)\n",
        "outscores = outscores.withColumn('OppDRPerGame',outscores.Team1OppDRPerGame - outscores.Team2OppDRPerGame)\n",
        "outscores = outscores.withColumn('OppTRPerGame',outscores.Team1OppTRPerGame - outscores.Team2OppTRPerGame)\n",
        "outscores = outscores.withColumn('ORRatio',outscores.Team1ORRatio - outscores.Team2ORRatio)\n",
        "outscores = outscores.withColumn('DRRatio',outscores.Team1DRRatio - outscores.Team2DRRatio)\n",
        "outscores = outscores.withColumn('TRRatio',outscores.Team1TRRatio - outscores.Team2TRRatio)\n",
        "outscores = outscores.withColumn('AstPerGame',outscores.Team1AstPerGame - outscores.Team2AstPerGame)\n",
        "outscores = outscores.withColumn('OppAstPerGame',outscores.Team1OppAstPerGame - outscores.Team2OppAstPerGame)\n",
        "outscores = outscores.withColumn('StlPerGame',outscores.Team1StlPerGame - outscores.Team2StlPerGame)\n",
        "outscores = outscores.withColumn('OppStlPerGame',outscores.Team1OppStlPerGame - outscores.Team2OppStlPerGame)\n",
        "outscores = outscores.withColumn('TOPerGame',outscores.Team1TOPerGame - outscores.Team2TOPerGame)\n",
        "outscores = outscores.withColumn('OppTOPerGame',outscores.Team1OppTOPerGame - outscores.Team2OppTOPerGame)\n",
        "outscores = outscores.withColumn('BlkPerGame',outscores.Team1BlkPerGame - outscores.Team2BlkPerGame)\n",
        "outscores = outscores.withColumn('OppBlkPerGame',outscores.Team1OppBlkPerGame - outscores.Team2OppBlkPerGame)\n",
        "outscores = outscores.withColumn('PFPerGame',outscores.Team1PFPerGame - outscores.Team2PFPerGame)\n",
        "outscores = outscores.withColumn('OppPFPerGame',outscores.Team1OppPFPerGame - outscores.Team2OppPFPerGame)\n",
        "outscores = outscores.withColumn('Seed',outscores.Team1Seed - outscores.Team2Seed)\n",
        "\n",
        "outscores.show()"
      ],
      "metadata": {
        "colab": {
          "base_uri": "https://localhost:8080/"
        },
        "id": "ZH-nFf2Q2r_T",
        "outputId": "579cd3c8-6d16-44be-ac76-d80c7760deb5"
      },
      "execution_count": 26,
      "outputs": [
        {
          "output_type": "stream",
          "name": "stdout",
          "text": [
            "+------+-----+-----+------+---------+---------+---------+----------+-------------+------------------+------------------+-------------------------+------------------+--------------------+------------------+-------------------+------------------+---------------------+------------------+-------------------+------------------+----------------------+------------------+------------------+------------------+---------------------+------------------+------------------+------------------+------------------+------------------+------------------+------------------+------------------+------------------+------------------+------------------+------------------+------------------+------------------+------------------+------------------+------------------+------------------+------------------+---------+----------+-------------+------------------+------------------+-------------------------+------------------+--------------------+------------------+-------------------+------------------+---------------------+------------------+-------------------+------------------+----------------------+------------------+------------------+------------------+---------------------+------------------+------------------+------------------+------------------+------------------+------------------+------------------+------------------+------------------+------------------+------------------+-----------------+------------------+------------------+------------------+------------------+------------------+------------------+------------------+----+-----+--------+--------------------+-------------------+--------------------+--------------------+--------------------+-------------------+--------------------+-------------------+--------------------+-------------------+--------------------+--------------------+--------------------+--------------------+--------------------+-------------------+--------------------+-------------------+--------------------+--------------------+-------------------+-------------------+--------------------+--------------------+--------------------+--------------------+-------------------+--------------------+--------------------+--------------------+--------------------+--------------------+--------------------+--------------------+-------------------+--------------------+-----+\n",
            "|Season|Team1|Team2|Result|Team1Seed|Team2Seed|Team2Wins|Team2Loses|Team2NumGames|     Team2WinRatio|Team2PointsPerGame|Team2PointsAllowedPerGame|  Team2PointsRatio|     Team2OTsPerGame|    Team2FGPerGame|       Team2FGRatio|   Team2FGAPerGame|Team2FGAllowedPerGame|   Team2FG3PerGame|      Team2FG3Ratio|  Team2FG3APerGame|Team2FG3AllowedPerGame|    Team2FTPerGame|      Team2FTRatio|   Team2FTAPerGame|Team2FTAllowedPerGame|    Team2ORPerGame|    Team2DRPerGame|    Team2TRPerGame| Team2OppORPerGame| Team2OppDRPerGame| Team2OppTRPerGame|      Team2ORRatio|      Team2DRRatio|      Team2TRRatio|   Team2AstPerGame|Team2OppAstPerGame|   Team2StlPerGame|Team2OppStlPerGame|    Team2TOPerGame| Team2OppTOPerGame|   Team2BlkPerGame|Team2OppBlkPerGame|    Team2PFPerGame| Team2OppPFPerGame|Team1Wins|Team1Loses|Team1NumGames|     Team1WinRatio|Team1PointsPerGame|Team1PointsAllowedPerGame|  Team1PointsRatio|     Team1OTsPerGame|    Team1FGPerGame|       Team1FGRatio|   Team1FGAPerGame|Team1FGAllowedPerGame|   Team1FG3PerGame|      Team1FG3Ratio|  Team1FG3APerGame|Team1FG3AllowedPerGame|    Team1FTPerGame|      Team1FTRatio|   Team1FTAPerGame|Team1FTAllowedPerGame|    Team1ORPerGame|    Team1DRPerGame|    Team1TRPerGame| Team1OppORPerGame| Team1OppDRPerGame| Team1OppTRPerGame|      Team1ORRatio|      Team1DRRatio|      Team1TRRatio|   Team1AstPerGame|Team1OppAstPerGame|  Team1StlPerGame|Team1OppStlPerGame|    Team1TOPerGame| Team1OppTOPerGame|   Team1BlkPerGame|Team1OppBlkPerGame|    Team1PFPerGame| Team1OppPFPerGame|Wins|Loses|NumGames|            WinRatio|      PointsPerGame|PointsAllowedPerGame|         PointsRatio|          OTsPerGame|          FGPerGame|             FGRatio|         FGAPerGame|    FGAllowedPerGame|         FG3PerGame|            FG3Ratio|         FG3APerGame|   FG3AllowedPerGame|           FTPerGame|             FTRatio|         FTAPerGame|    FTAllowedPerGame|          ORPerGame|           DRPerGame|           TRPerGame|       OppORPerGame|       OppDRPerGame|        OppTRPerGame|             ORRatio|             DRRatio|             TRRatio|         AstPerGame|       OppAstPerGame|          StlPerGame|       OppStlPerGame|           TOPerGame|        OppTOPerGame|          BlkPerGame|       OppBlkPerGame|          PFPerGame|        OppPFPerGame| Seed|\n",
            "+------+-----+-----+------+---------+---------+---------+----------+-------------+------------------+------------------+-------------------------+------------------+--------------------+------------------+-------------------+------------------+---------------------+------------------+-------------------+------------------+----------------------+------------------+------------------+------------------+---------------------+------------------+------------------+------------------+------------------+------------------+------------------+------------------+------------------+------------------+------------------+------------------+------------------+------------------+------------------+------------------+------------------+------------------+------------------+------------------+---------+----------+-------------+------------------+------------------+-------------------------+------------------+--------------------+------------------+-------------------+------------------+---------------------+------------------+-------------------+------------------+----------------------+------------------+------------------+------------------+---------------------+------------------+------------------+------------------+------------------+------------------+------------------+------------------+------------------+------------------+------------------+------------------+-----------------+------------------+------------------+------------------+------------------+------------------+------------------+------------------+----+-----+--------+--------------------+-------------------+--------------------+--------------------+--------------------+-------------------+--------------------+-------------------+--------------------+-------------------+--------------------+--------------------+--------------------+--------------------+--------------------+-------------------+--------------------+-------------------+--------------------+--------------------+-------------------+-------------------+--------------------+--------------------+--------------------+--------------------+-------------------+--------------------+--------------------+--------------------+--------------------+--------------------+--------------------+--------------------+-------------------+--------------------+-----+\n",
            "|  2005| 1242| 1137|     0|       03|       14|       22|         9|           31|0.7096774193548387| 63.58064516129032|        58.45161290322581|1.0877483443708609| 0.03225806451612903|21.258064516129032| 0.4452702702702703| 47.74193548387097|   19.580645161290324| 6.612903225806452| 0.3761467889908257|17.580645161290324|                   6.0|14.451612903225806|0.6978193146417445| 20.70967741935484|   13.290322580645162|  9.35483870967742|22.419354838709676|31.774193548387096| 10.96774193548387|20.225806451612904|31.193548387096776|0.8529411764705882|1.1084529505582137|1.0186142709410548|12.451612903225806|10.451612903225806|               8.0| 7.032258064516129|15.774193548387096|15.870967741935484|               3.0|2.5161290322580645|18.870967741935484|18.838709677419356|       23|         6|           29|0.7931034482758621| 75.44827586206897|        65.24137931034483|1.1564482029598309| 0.13793103448275862| 26.93103448275862|0.47680097680097683| 56.48275862068966|   22.103448275862068| 6.793103448275862| 0.3731060606060606| 18.20689655172414|     6.275862068965517|14.793103448275861|0.6897106109324759|21.448275862068964|   14.758620689655173|11.793103448275861| 25.96551724137931|37.758620689655174|              13.0|21.379310344827587| 34.37931034482759|0.9071618037135278|1.2145161290322581| 1.098294884653962|16.586206896551722|10.655172413793103|6.620689655172414| 7.103448275862069|14.482758620689655| 14.10344827586207|3.8620689655172415|2.8275862068965516| 19.24137931034483|19.689655172413794|   1|   -3|      -2| 0.08342602892102335| 11.867630700778648|   6.789766407119018| 0.06869985858896999| 0.10567296996662959|  5.672969966629587|0.031530706530706554|   8.74082313681869|  2.5228031145717438|0.18020022246941014|-0.00304072838476...|   0.626251390433815|  0.2758620689655169| 0.34149054505005516|-0.00810870370926...| 0.7385984427141246|  1.4682981090100107| 2.4382647385984413|  3.5461624026696335|   5.984427141268078|   2.03225806451613| 1.1535038932146833|  3.1857619577308114|0.054220627242939634| 0.10606317847404445| 0.07968061371290713|  4.134593993325916| 0.20355951056729715| -1.3793103448275863| 0.07119021134594039| -1.2914349276974413| -1.7675194660734146|  0.8620689655172415|  0.3114571746384871| 0.3704115684093452|  0.8509454949944377|-11.0|\n",
            "|  2008| 1280| 1272|     0|       08|       01|       33|         1|           34|0.9705882352941176| 79.67647058823529|        60.61764705882353| 1.314410480349345|0.029411764705882353|28.764705882352942| 0.4657142857142857| 61.76470588235294|   21.647058823529413|7.9411764705882355|0.35019455252918286|22.676470588235293|     4.852941176470588|14.205882352941176|0.5955610357583231|23.852941176470587|   12.470588235294118|14.117647058823529|26.676470588235293|40.794117647058826|11.029411764705882|23.235294117647058| 34.26470588235294|              1.28|1.1481012658227847| 1.190557939914163|16.029411764705884|10.617647058823529| 8.705882352941176| 5.911764705882353|12.205882352941176| 16.58823529411765| 6.088235294117647|3.2058823529411766|17.441176470588236| 19.41176470588235|       22|        10|           32|            0.6875|          73.09375|                  65.0625|1.1234390009606148|               0.125|          26.09375|0.46107123136388733|          56.59375|               23.125|           6.96875| 0.3343328335832084|          20.84375|               6.96875|           13.9375|0.6435786435786436|          21.65625|             11.84375|          12.21875|          28.65625|            40.875|            13.875|              22.5|            36.375|0.8806306306306306| 1.273611111111111|1.1237113402061856|          13.21875|          11.46875|              6.0|              6.75|          15.28125|          12.71875|            7.9375|            3.1875|           16.5625|          19.03125| -11|    9|      -2|-0.28308823529411764|  -6.58272058823529|   4.444852941176471|-0.19097147938873027| 0.09558823529411764| -2.670955882352942|-0.00464305435039...| -5.170955882352942|   1.477941176470587|-0.9724264705882355|-0.01586171894597...| -1.8327205882352935|   2.115808823529412|-0.26838235294117574|0.048017607820320496| -2.196691176470587| -0.6268382352941178| -1.898897058823529|  1.9797794117647065| 0.08088235294117396| 2.8455882352941178| -0.735294117647058|   2.110294117647058| -0.3993693693693694| 0.12550984528832632|-0.06684659970797746| -2.810661764705884|   0.851102941176471| -2.7058823529411757|  0.8382352941176467|  3.0753676470588243| -3.8694852941176485|  1.8492647058823533|-0.01838235294117...|-0.8786764705882355| -0.3805147058823515|  7.0|\n",
            "|  2009| 1320| 1345|     0|       12|       05|       25|         9|           34|0.7352941176470589|  69.3529411764706|        59.11764705882353| 1.173134328358209| 0.08823529411764706|24.823529411764707|0.44656084656084655|55.588235294117645|   21.147058823529413| 6.705882352941177| 0.3507692307692308| 19.11764705882353|    5.5588235294117645|              13.0|0.7004754358161648|18.558823529411764|   11.264705882352942| 9.676470588235293|24.558823529411764| 34.23529411764706|11.264705882352942|23.264705882352942|34.529411764705884|0.8590078328981723|1.0556257901390644|0.9914821124361158|15.117647058823529|12.264705882352942| 7.235294117647059| 5.294117647058823|11.647058823529411|15.117647058823529| 4.823529411764706|2.8823529411764706|17.352941176470587|17.352941176470587|       23|        10|           33| 0.696969696969697|  67.6969696969697|        63.54545454545455|1.0653314258464472| 0.18181818181818182|22.606060606060606| 0.4554334554334554| 49.63636363636363|   22.303030303030305| 6.363636363636363| 0.3465346534653465|18.363636363636363|     7.181818181818182| 16.12121212121212|0.7524752475247525|21.424242424242426|   11.757575757575758| 8.666666666666666|24.848484848484848|33.515151515151516| 8.909090909090908|21.515151515151516|30.424242424242426|0.9727891156462585|1.1549295774647887|1.1015936254980079|12.212121212121213|12.090909090909092|4.242424242424242| 4.878787878787879|11.606060606060606|10.666666666666666|2.4242424242424243|2.1818181818181817| 18.12121212121212|19.666666666666668|  -2|    1|      -1|-0.03832442067736186|-1.6559714795008915|   4.427807486631018|-0.10780290251176172| 0.09358288770053476| -2.217468805704101|0.008872608872608878| -5.951871657754012|  1.1559714795008915|-0.3422459893048133|-0.00423457730388...| -0.7540106951871657|  1.6229946524064172|   3.121212121212121|0.051999811708587695|  2.865418894830661|  0.4928698752228158|-1.0098039215686274| 0.28966131907308323| -0.7201426024955424|-2.3556149732620337|-1.7495543672014264|  -4.105169340463458| 0.11378128274808619| 0.09930378732572431| 0.11011151306189204| -2.905525846702316| -0.1737967914438503| -2.9928698752228167| -0.4153297682709445|-0.04099821746880572|  -4.450980392156863| -2.3992869875222813| -0.7005347593582889| 0.7682709447415341|   2.313725490196081|  7.0|\n",
            "|  2014| 1276| 1246|     0|       02|       08|       24|        10|           34|0.7058823529411765| 75.91176470588235|         66.6470588235294|1.1390114739629302| 0.08823529411764706|25.176470588235293|0.45123879810226675|55.794117647058826|   23.205882352941178| 5.088235294117647|  0.325187969924812|15.647058823529411|     5.352941176470588|20.470588235294116|0.6823529411764706|              30.0|   14.882352941176471|14.647058823529411|              26.5| 41.14705882352941|11.323529411764707|20.029411764705884|31.352941176470587|1.2935064935064935|1.3230543318649046|1.3123827392120075|              11.5|10.382352941176471| 4.764705882352941| 5.764705882352941|12.205882352941176|              11.0| 6.235294117647059|3.1176470588235294|              19.0| 22.58823529411765|       25|         8|           33|0.7575757575757576| 74.39393939393939|        65.36363636363636|1.1381548446917014| 0.06060606060606061|25.606060606060606| 0.4757882882882883| 53.81818181818182|   24.333333333333332| 8.484848484848484|0.39381153305203936|21.545454545454547|     5.636363636363637|14.696969696969697|0.7613814756671899|19.303030303030305|    11.06060606060606| 8.848484848484848|22.939393939393938| 31.78787878787879| 9.303030303030303|21.727272727272727| 31.03030303030303|0.9511400651465798|1.0557880055788005|      1.0244140625|14.212121212121213| 11.93939393939394|5.121212121212121|  5.03030303030303| 9.393939393939394|10.969696969696969| 2.515151515151515| 2.515151515151515|14.545454545454545|17.242424242424242|   1|   -2|      -1| 0.05169340463458105| -1.517825311942957| -1.2834224598930462|-8.56629271228870...|-0.02762923351158...|0.42959001782531203| 0.02454949018602154| -1.975935828877006|  1.1274509803921546| 3.3966131907308377| 0.06862356312722734|  5.8983957219251355|  0.2834224598930488|  -5.773618538324419| 0.07902853449071934|-10.696969696969695| -3.8217468805704105|-5.7985739750445635| -3.5606060606060623|  -9.359180035650624|-2.0204991087344037| 1.6978609625668426| -0.3226381461675558| -0.3423664283599137|-0.26726632628610414|-0.28796867671200754|  2.712121212121213|  1.5570409982174684|    0.35650623885918| -0.7344028520499108| -2.8119429590017813|-0.03030303030303...| -3.7201426024955437| -0.6024955436720143| -4.454545454545455|  -5.345811051693406| -6.0|\n",
            "|  2019| 1387| 1439|     0|       13|       04|       24|         8|           32|              0.75|              74.0|                 62.09375|1.1917463512833417|             0.03125|             25.75|0.47547605308713214|          54.15625|              21.5625|           9.59375| 0.3940949935815148|          24.34375|               8.84375|          12.90625|0.7577981651376147|          17.03125|               10.125|           8.90625|           23.6875|          32.59375|            8.9375|              21.0|           29.9375|0.9965034965034965|1.1279761904761905|1.0887265135699373|          15.34375|          12.15625|           6.65625|            5.0625|            11.375|          14.09375|            2.3125|           2.90625|          15.28125|           16.3125|       23|        12|           35|0.6571428571428571| 67.05714285714286|        63.74285714285714| 1.051994621246078|                 0.0|23.885714285714286|              0.418|57.142857142857146|   22.228571428571428| 5.742857142857143|0.30828220858895705| 18.62857142857143|     6.457142857142857|13.542857142857143|0.5977301387137453| 22.65714285714286|    12.82857142857143| 13.82857142857143|25.942857142857143| 39.77142857142857|               8.8|24.457142857142856| 33.25714285714286|1.5714285714285714| 1.060747663551402|1.1958762886597938|12.971428571428572|              12.2|7.085714285714285| 5.914285714285715|12.714285714285714|12.971428571428572| 4.057142857142857| 3.914285714285714|17.485714285714284|18.857142857142858|  -1|    4|       3|-0.09285714285714286| -6.942857142857136|  1.6491071428571402| -0.1397517300372637|            -0.03125|-1.8642857142857139|-0.05747605308713216|  2.986607142857146|  0.6660714285714278| -3.850892857142857|-0.08581278499255773|   -5.71517857142857| -2.3866071428571427|  0.6366071428571427|-0.16006802642386941|  5.625892857142858|   2.703571428571429|  4.922321428571429|   2.255357142857143|   7.177678571428572|-0.1374999999999993| 3.4571428571428555|    3.31964285714286|  0.5749250749250749|-0.06722852692478853| 0.10714977508985646|-2.3723214285714285| 0.04374999999999929|  0.4294642857142854|  0.8517857142857146|  1.3392857142857135| -1.1223214285714285|   1.744642857142857|  1.0080357142857141|  2.204464285714284|  2.5446428571428577|  9.0|\n",
            "|  2003| 1181| 1161|     1|       03|       14|       17|        13|           30|0.5666666666666667|              74.0|        72.66666666666667| 1.018348623853211| 0.03333333333333333|              26.4| 0.5067178502879078|              52.1|   25.833333333333332|               4.2| 0.3631123919308357|11.566666666666666|     5.633333333333334|              17.0|0.7005494505494505|24.266666666666666|   15.366666666666667|              10.8|23.466666666666665|34.266666666666666|              12.0|19.066666666666666|31.066666666666666|               0.9|1.2307692307692308|1.1030042918454936|              15.5|13.233333333333333| 5.333333333333333| 9.033333333333333|16.133333333333333|12.233333333333333| 4.233333333333333| 3.066666666666667|20.566666666666666|              21.3|       24|         6|           30|               0.8| 81.96666666666667|                     70.4|1.1642992424242424| 0.06666666666666667|27.366666666666667| 0.4535911602209945|60.333333333333336|   25.066666666666666| 7.333333333333333| 0.3559870550161812|              20.6|     4.933333333333334|              19.9|0.7090261282660333|28.066666666666666|   15.333333333333334|13.766666666666667|              23.1| 36.86666666666667|              12.2|22.633333333333333|34.833333333333336|1.1284153005464481|1.0206185567010309|1.0583732057416269|13.833333333333334|12.333333333333334|              8.5| 6.433333333333334|14.033333333333333|17.833333333333332| 5.133333333333334|               4.1|21.266666666666666|              23.2|   7|   -7|       0|  0.2333333333333334|  7.966666666666669| -2.2666666666666657| 0.14595061857103153| 0.03333333333333333| 0.9666666666666686|-0.05312669006691334|  8.233333333333334| -0.7666666666666657|  3.133333333333333|-0.00712533691465...|   9.033333333333335| -0.7000000000000002|  2.8999999999999986|0.008476677716582781| 3.8000000000000007|-0.03333333333333...|  2.966666666666667| -0.3666666666666636|  2.6000000000000014| 0.1999999999999993| 3.5666666666666664|  3.7666666666666693|  0.2284153005464481|-0.21015067406819998|-0.04463108610386679| -1.666666666666666| -0.8999999999999986|   3.166666666666667| -2.5999999999999996| -2.0999999999999996|                 5.6|  0.9000000000000004|  1.0333333333333328| 0.6999999999999993|  1.8999999999999986|-11.0|\n",
            "|  2003| 1443| 1228|     0|       13|       04|       24|         6|           30|               0.8| 75.43333333333334|                     61.4| 1.228555917480999|                 0.0|              27.1|0.48566308243727596|              55.8|   20.333333333333332| 7.433333333333334| 0.3685950413223141|20.166666666666668|                   5.7|              13.8|0.7225130890052356|              19.1|   15.033333333333333| 9.733333333333333|              25.4| 35.13333333333333|11.133333333333333|              21.2|32.333333333333336| 0.874251497005988|1.1981132075471699|1.0865979381443298|18.266666666666666|11.033333333333333|               7.0|               5.7|13.166666666666666|14.833333333333334|               3.1|               2.5|19.133333333333333|              18.2|       23|         8|           31|0.7419354838709677| 73.09677419354838|        66.41935483870968|1.1005342399222924| 0.03225806451612903| 25.70967741935484| 0.4598961338718984|55.903225806451616|    24.29032258064516| 7.709677419354839| 0.3665644171779141|21.032258064516128|     4.612903225806452| 13.96774193548387|0.6620795107033639|21.096774193548388|   13.225806451612904|12.161290322580646|23.258064516129032| 35.41935483870968| 11.35483870967742|21.612903225806452| 32.96774193548387|1.0710227272727273|1.0761194029850747|1.0743639921722115|14.193548387096774|              12.0|7.064516129032258| 5.967741935483871|15.161290322580646|15.741935483870968|3.5483870967741935|2.5483870967741935|18.451612903225808|19.419354838709676|  -1|    2|       1|-0.05806451612903...|-2.3365591397849528|   5.019354838709681|-0.12802167755870664| 0.03225806451612903|-1.3903225806451616|-0.02576694856537...| 0.1032258064516185|   3.956989247311828| 0.2763440860215054|-0.00203062414439...|  0.8655913978494603| -1.0870967741935482|  0.1677419354838694|-0.06043357830187168| 1.9967741935483865| -1.8075268817204293| 2.4279569892473134| -2.1419354838709666| 0.28602150537634685|0.22150537634408707|0.41290322580645267|  0.6344086021505362| 0.19677123026673926|-0.12199380456209519|-0.01223394597211...| -4.073118279569892|  0.9666666666666668| 0.06451612903225801|  0.2677419354838708|  1.9946236559139798|   0.908602150537634|  0.4483870967741934|0.048387096774193505| -0.681720430107525|  1.2193548387096769|  9.0|\n",
            "|  2004| 1196| 1264|     0|       05|       12|       24|         5|           29|0.8275862068965517| 74.34482758620689|        63.44827586206897|1.1717391304347826|                 0.0|24.379310344827587| 0.4415990006246096|55.206896551724135|    21.75862068965517| 5.758620689655173|   0.36784140969163|15.655172413793103|     4.655172413793103| 19.82758620689655|0.7595772787318362|26.103448275862068|   15.275862068965518|12.172413793103448|22.689655172413794| 34.86206896551724|11.724137931034482|              22.0|33.724137931034484|1.0382352941176471| 1.031347962382445|1.0337423312883436|10.793103448275861|11.206896551724139| 9.448275862068966| 6.241379310344827|              13.0| 16.93103448275862| 4.172413793103448| 4.275862068965517|20.310344827586206| 21.17241379310345|       20|        10|           30|0.6666666666666666| 76.96666666666667|        69.13333333333334| 1.113307618129219| 0.06666666666666667|26.933333333333334| 0.4826762246117085|              55.8|                 24.0|               8.2|0.37962962962962965|              21.6|     6.866666666666666|              14.9|0.7525252525252525|              19.8|   14.266666666666667|10.233333333333333|24.933333333333334|35.166666666666664|              12.9|              21.1|              34.0|0.7932816537467701|1.1816745655608214|1.0343137254901962|16.266666666666666|              14.5|6.533333333333333| 7.333333333333333|14.666666666666666|13.566666666666666|3.1333333333333333|3.1333333333333333|18.866666666666667|18.966666666666665|  -4|    5|       1|-0.16091954022988508|  2.621839080459779|   5.685057471264372|-0.05843151230556365| 0.06666666666666667| 2.5540229885057464|  0.0410772239870989| 0.5931034482758619|   2.241379310344829| 2.4413793103448267|0.011788219937999667|   5.944827586206898|   2.211494252873563|  -4.927586206896551|-0.00705202620658...| -6.303448275862067| -1.0091954022988503| -1.939080459770116|    2.24367816091954| 0.30459770114942586| 1.1758620689655181|-0.8999999999999986|   0.275862068965516|-0.24495364037087708| 0.15032660317837632| 5.71394201852593E-4| 5.4735632183908045|   3.293103448275861|  -2.914942528735633|  1.0919540229885056|   1.666666666666666|  -3.364367816091953|  -1.039080459770115| -1.1425287356321836|-1.4436781609195393| -2.2057471264367834| -7.0|\n",
            "|  2004| 1329| 1386|     1|       02|       01|       27|         1|           28|0.9642857142857143| 77.78571428571429|                     61.5| 1.264808362369338|                 0.0|27.178571428571427|0.47861635220125787|56.785714285714285|   22.107142857142858|              9.75| 0.4068554396423249|23.964285714285715|     4.428571428571429|13.678571428571429|0.7027522935779816|19.464285714285715|   12.857142857142858| 9.678571428571429|             23.25| 32.92857142857143|13.642857142857142|23.035714285714285| 36.67857142857143|0.7094240837696335|1.0093023255813953|0.8977604673807206|16.535714285714285|11.642857142857142| 9.142857142857142| 6.714285714285714|11.714285714285714|16.571428571428573|3.5714285714285716| 2.392857142857143|17.035714285714285|17.964285714285715|       26|         3|           29| 0.896551724137931| 78.20689655172414|        63.89655172413793|1.2239611440906637| 0.10344827586206896|28.896551724137932| 0.5128518971848225|  56.3448275862069|   22.862068965517242| 4.827586206896552| 0.3783783783783784|12.758620689655173|     5.068965517241379|15.586206896551724|0.6953846153846154|22.413793103448278|    13.10344827586207|11.379310344827585| 24.17241379310345| 35.55172413793103|11.655172413793103|19.689655172413794|31.344827586206897|0.9763313609467456|1.2276707530647986|1.1342134213421342| 16.06896551724138|12.137931034482758|7.862068965517241|               6.0|13.448275862068966|15.551724137931034| 3.586206896551724| 3.103448275862069|19.413793103448278|20.344827586206897|  -1|    2|       1|-0.06773399014778325|0.42118226600985054|   2.396551724137929|-0.04084721827867...| 0.10344827586206896| 1.7179802955665053|0.034235544983564625|-0.4408866995073879|  0.7549261083743843| -4.922413793103448| -0.0284770612639465| -11.205665024630543|  0.6403940886699502|  1.9076354679802954|-0.00736767819336...| 2.9495073891625623| 0.24630541871921174| 1.7007389162561566|  0.9224137931034484|  2.6231527093596014|-1.9876847290640391| -3.346059113300491|  -5.333743842364534| 0.26690727717711205| 0.21836842748340324| 0.23645295396141364|-0.4667487684729039| 0.49507389162561566| -1.2807881773399012| -0.7142857142857144|  1.7339901477832527| -1.0197044334975391| 0.01477832512315258|  0.7105911330049262|  2.378078817733993|  2.3805418719211815|  1.0|\n",
            "|  2006| 1196| 1206|     1|       03|       11|       23|         7|           30|0.7666666666666667|              69.4|       58.833333333333336|1.1796033994334278| 0.06666666666666667|25.733333333333334|0.48370927318295737|              53.2|   21.233333333333334| 5.933333333333334|0.35177865612648224|16.866666666666667|     5.933333333333334|              12.0|0.6679035250463822|17.966666666666665|   10.433333333333334|              10.1|              24.8|              34.9|11.366666666666667|20.866666666666667|32.233333333333334|0.8885630498533724|1.1884984025559104|1.0827300930713548|15.166666666666666|              11.0|               7.3|               6.7|              13.2|13.933333333333334| 3.533333333333333|               3.8|              15.4|16.533333333333335|       27|         6|           33|0.8181818181818182| 79.27272727272727|        64.78787878787878|1.2235734331150607|0.030303030303030304|27.636363636363637| 0.5080779944289694| 54.39393939393939|   23.545454545454547| 7.393939393939394|0.39418416801292405|18.757575757575758|     6.121212121212121|16.606060606060606|0.7345844504021448|22.606060606060606|   11.575757575757576|10.606060606060606|24.636363636363637| 35.24242424242424|12.333333333333334|19.696969696969695| 32.03030303030303|  0.85995085995086|1.2507692307692309|1.1002838221381268| 17.03030303030303|11.333333333333334|8.030303030303031| 7.545454545454546|14.878787878787879|16.272727272727273|4.9393939393939394|2.6666666666666665| 16.12121212121212| 18.87878787878788|   4|   -1|       3|0.051515151515151514|   9.87272727272726|   5.954545454545446| 0.04397003368163288|-0.03636363636363636| 1.9030303030303024|0.024368721246012026|  1.193939393939388|  2.3121212121212125|   1.46060606060606|0.042405511886441816|  1.8909090909090907| 0.18787878787878753|  4.6060606060606055| 0.06668092535576264| 4.6393939393939405|  1.1424242424242426| 0.5060606060606059|-0.16363636363636402| 0.34242424242424363| 0.9666666666666668|-1.1696969696969717|-0.20303030303030312|-0.02861218990251...| 0.06227082821332042|0.017553729066771995|  1.863636363636365|  0.3333333333333339|  0.7303030303030313|  0.8454545454545457|  1.6787878787878796|    2.33939393939394|  1.4060606060606062| -1.1333333333333333| 0.7212121212121207|   2.345454545454544| -8.0|\n",
            "|  2009| 1257| 1287|     1|       01|       16|       17|        15|           32|           0.53125|          69.34375|                  68.6875|1.0095541401273886|              0.0625|          23.71875|0.43520642201834864|              54.5|                23.25|           5.09375| 0.3273092369477912|           15.5625|               7.15625|           16.8125|0.7240915208613729|          23.21875|             15.03125|           13.5625|           24.8125|            38.375|            10.375|           20.8125|           31.1875|1.3072289156626506|1.1921921921921923|1.2304609218436873|          12.40625|           13.1875|           6.40625|           6.78125|          15.40625|            12.375|           3.96875|             3.875|          19.21875|           19.3125|       28|         5|           33|0.8484848484848485| 73.93939393939394|        61.60606060606061|1.2001967535661584|0.030303030303030304| 26.78787878787879|  0.450790413054564| 59.42424242424242|   22.181818181818183|  8.06060606060606| 0.3604336043360434|22.363636363636363|     5.212121212121212|12.303030303030303|0.6434231378763867| 19.12121212121212|   12.030303030303031|12.575757575757576|25.424242424242426|              38.0|11.878787878787879|23.636363636363637|35.515151515151516| 1.058673469387755|1.0756410256410256|1.0699658703071673|16.575757575757574|11.666666666666666|9.272727272727273|6.7272727272727275|13.666666666666666|16.393939393939394| 6.181818181818182| 3.303030303030303|17.151515151515152|16.939393939393938|  11|  -10|       1|  0.3172348484848485|  4.595643939393938|  -7.081439393939391| 0.19064261343876976|-0.03219696969696...|  3.069128787878789|0.015583991036215383|  4.924242424242422| -1.0681818181818166| 2.9668560606060606|0.033124367388252196|   6.801136363636363|  -1.944128787878788|  -4.509469696969697|-0.08066838298498613| -4.097537878787879|  -3.000946969696969|-0.9867424242424239|  0.6117424242424256|              -0.375|  1.503787878787879| 2.8238636363636367|   4.327651515151516|-0.24855544627489556|-0.11655116655116671|   -0.16049505153652|  4.169507575757574|  -1.520833333333334|  2.8664772727272734|-0.05397727272727...|  -1.739583333333334|  4.0189393939393945|  2.2130681818181817| -0.5719696969696968|-2.0672348484848477| -2.3731060606060623|-15.0|\n",
            "|  2009| 1393| 1372|     1|       03|       14|       20|         7|           27|0.7407407407407407| 64.22222222222223|       58.074074074074076|1.1058673469387754|  0.1111111111111111| 23.88888888888889|  0.433759246805649|55.074074074074076|    19.85185185185185| 5.555555555555555| 0.3191489361702128| 17.40740740740741|     4.074074074074074| 10.88888888888889|0.6636568848758465| 16.40740740740741|   14.296296296296296| 9.037037037037036|24.814814814814813|33.851851851851855| 9.666666666666666|25.074074074074073| 34.74074074074074|0.9348659003831418|0.9896602658788775|0.9744136460554371|12.444444444444445| 8.703703703703704| 5.666666666666667|5.7407407407407405|11.925925925925926|14.185185185185185| 3.074074074074074|3.4074074074074074| 18.40740740740741| 16.14814814814815|       25|         9|           34|0.7352941176470589| 80.97058823529412|        72.91176470588235|1.1105284388866479| 0.29411764705882354|29.323529411764707| 0.4875305623471883| 60.14705882352941|   27.294117647058822| 6.852941176470588| 0.3535660091047041| 19.38235294117647|     7.323529411764706|15.470588235294118|0.6399026763990268|24.176470588235293|                 11.0|12.735294117647058|26.823529411764707| 39.55882352941177|              15.0| 22.58823529411765|37.588235294117645|0.8490196078431372|            1.1875|1.0524256651017214|18.176470588235293|              16.5|7.647058823529412| 8.205882352941176|15.176470588235293|14.323529411764707| 5.088235294117647|               4.0|15.676470588235293|19.794117647058822|   5|    2|       7|-0.00544662309368...| 16.748366013071887|  14.837690631808272|0.004661091947872453| 0.18300653594771243|  5.434640522875817|  0.0537713155415393|  5.072984749455337|   7.442265795206971| 1.2973856209150325| 0.03441707293449131|  1.9749455337690627|   3.249455337690631|  4.5816993464052285|-0.02375420847681975|  7.769063180827885|  -3.296296296296296| 3.6982570806100217|  2.0087145969498934|   5.706971677559913|  5.333333333333334| -2.485838779956424|  2.8474945533769045|-0.08584629254000453| 0.19783973412112255|  0.0780120190462843|  5.732026143790849|   7.796296296296296|  1.9803921568627452|  2.4651416122004353|   3.250544662309368|  0.1383442265795214|   2.014161220043573|  0.5925925925925926| -2.730936819172115|  3.6459694989106737|-11.0|\n",
            "|  2010| 1452| 1449|     1|       02|       11|       24|         9|           33|0.7272727272727273| 79.78787878787878|        69.93939393939394|1.1408145580589255|0.030303030303030304| 27.87878787878788| 0.4520884520884521|61.666666666666664|   23.666666666666668| 5.181818181818182|0.32509505703422054| 15.93939393939394|     4.757575757575758|18.848484848484848|0.7274853801169591| 25.90909090909091|   17.848484848484848|13.515151515151516| 24.87878787878788| 38.39393939393939|11.515151515151516|22.606060606060606|34.121212121212125|1.1736842105263159|1.1005361930294906| 1.125222024866785|              14.0| 10.93939393939394|7.2727272727272725|6.0606060606060606|12.787878787878787| 16.09090909090909|3.9393939393939394| 3.090909090909091|21.606060606060606|21.363636363636363|       27|         6|           33|0.8181818181818182| 72.96969696969697|        63.78787878787879|1.1439429928741092| 0.15151515151515152|25.272727272727273| 0.4339229968782518| 58.24242424242424|   21.939393939393938|6.9393939393939394| 0.3357771260997067|20.666666666666668|     5.424242424242424|15.484848484848484|0.6961852861035422|22.242424242424242|   14.484848484848484|15.575757575757576|22.757575757575758|38.333333333333336|10.333333333333334|21.151515151515152|31.484848484848484|1.5073313782991202|1.0759312320916905|1.2175168431183832|15.696969696969697|11.515151515151516|5.606060606060606|5.9393939393939394|11.727272727272727|13.545454545454545|               4.0|2.5757575757575757|18.333333333333332| 20.90909090909091|   3|   -3|       0| 0.09090909090909094| -6.818181818181813|  -6.151515151515149|0.003128434815183656| 0.12121212121212122|-2.6060606060606055| -0.0181654552102003| -3.424242424242422| -1.7272727272727302| 1.7575757575757578|0.010682069065486188|   4.727272727272728|  0.6666666666666661| -3.3636363636363633|-0.03130009401341...| -3.666666666666668| -3.3636363636363633| 2.0606060606060606|  -2.121212121212121|-0.06060606060605522|-1.1818181818181817|-1.4545454545454533| -2.6363636363636402| 0.33364716777280434|-0.02460496093780007| 0.09229481825159813| 1.6969696969696972|  0.5757575757575761|  -1.666666666666666| -0.1212121212121211| -1.0606060606060606|  -2.545454545454545| 0.06060606060606055| -0.5151515151515151|-3.2727272727272734|-0.45454545454545325| -9.0|\n",
            "|  2011| 1163| 1137|     1|       03|       14|       25|         8|           33|0.7575757575757576| 70.75757575757575|        63.42424242424242|1.1156235069278548|0.030303030303030304|24.575757575757574| 0.4495565410199557|54.666666666666664|   21.666666666666668| 6.878787878787879| 0.4024822695035461| 17.09090909090909|     6.363636363636363|14.727272727272727|0.7864077669902912|18.727272727272727|   13.727272727272727| 8.151515151515152| 25.96969696969697|34.121212121212125|10.484848484848484|23.242424242424242| 33.72727272727273|0.7774566473988439|1.1173402868318123|1.0116801437556155|14.727272727272727|12.181818181818182| 4.757575757575758| 5.484848484848484|11.363636363636363| 11.93939393939394|3.1818181818181817| 2.515151515151515|18.242424242424242|17.606060606060606|       26|         9|           35|0.7428571428571429|              73.4|        66.37142857142857|1.1058975462763667| 0.17142857142857143|              26.0| 0.4329210275927688| 60.05714285714286|   24.314285714285713| 5.828571428571428|0.33170731707317075|17.571428571428573|     6.314285714285714|15.571428571428571|0.7548476454293629| 20.62857142857143|   11.428571428571429|14.428571428571429|25.142857142857142| 39.57142857142857|13.342857142857143|22.142857142857142| 35.48571428571429|1.0813704496788008| 1.135483870967742|1.1151368760064413|13.114285714285714|12.514285714285714|6.628571428571429| 6.171428571428572|11.742857142857142|12.142857142857142| 5.628571428571429|               3.8| 16.02857142857143|              18.8|   1|    1|       2|-0.01471861471861...|  2.642424242424255|  2.9471861471861445|-0.00972596065148812| 0.14112554112554113| 1.4242424242424256|-0.01663551342718...|  5.390476190476193|  2.6476190476190453|-1.0502164502164506|-0.07077495243037535|   0.480519480519483|-0.04935064935064...|  0.8441558441558445|-0.03156012156092...| 1.9012987012987033|  -2.298701298701298|  6.277056277056277| -0.8268398268398265|   5.450216450216445|  2.858008658008659|-1.0995670995670999|   1.758441558441561|  0.3039138022799569|0.018143584135929647| 0.10345673225082574|-1.6129870129870127|  0.3324675324675326|  1.8709956709956712|  0.6865800865800873|  0.3792207792207787|  0.2034632034632029|  2.4467532467532473|  1.2848484848484847|-2.2138528138528137|  1.1939393939393952|-11.0|\n",
            "|  2013| 1112| 1217|     1|       06|       14|       18|         9|           27|0.6666666666666666| 68.92592592592592|        64.22222222222223|1.0732410611303345|  0.1111111111111111|22.703703703703702| 0.4826771653543307| 47.03703703703704|   23.666666666666668|  6.37037037037037|0.40093240093240096| 15.88888888888889|     4.962962962962963| 17.14814814814815|         0.7234375|23.703703703703702|   11.925925925925926| 7.148148148148148|21.962962962962962| 29.11111111111111|10.148148148148149| 20.25925925925926| 30.40740740740741|0.7043795620437956|1.0840950639853748|0.9573690621193667|13.074074074074074|11.814814814814815|  7.37037037037037| 6.222222222222222|13.666666666666666| 13.62962962962963| 4.148148148148148|3.3333333333333335| 15.11111111111111| 19.74074074074074|       25|         7|           32|           0.78125|          73.28125|                  63.6875|1.1506378802747792|             0.03125|          25.03125| 0.4497473329590118|          55.65625|              22.6875|           7.65625|  0.362962962962963|          21.09375|               5.96875|           15.5625|0.7477477477477478|           20.8125|             12.34375|          11.53125|          24.71875|             36.25|           9.21875|          21.03125|             30.25|1.2508474576271187| 1.175334323922734|1.1983471074380165|          13.84375|           11.1875|           6.9375|           6.15625|          13.09375|          13.78125|           3.90625|             3.375|          16.34375|            17.875|   7|   -2|       5| 0.11458333333333337|  4.355324074074076| -0.5347222222222285| 0.07739681914444474| -0.0798611111111111| 2.3275462962962976|-0.03292983239531888|  8.619212962962962| -0.9791666666666679| 1.2858796296296298|-0.03796943796943797|   5.204861111111111|  1.0057870370370372| -1.5856481481481488|0.024310247747747815|-2.8912037037037024|  0.4178240740740744|  4.383101851851852|   2.755787037037038|   7.138888888888889|-0.9293981481481488| 0.7719907407407405|-0.15740740740740833|  0.5464678955833231| 0.09123925993735926| 0.24097804531864986| 0.7696759259259256| -0.6273148148148149|-0.43287037037037024|-0.06597222222222232| -0.5729166666666661| 0.15162037037037024|-0.24189814814814792| 0.04166666666666652| 1.2326388888888893| -1.8657407407407405| -8.0|\n",
            "|  2015| 1374| 1417|     0|       06|       11|       20|        13|           33|0.6060606060606061|              72.0|        68.03030303030303|1.0583518930957683| 0.06060606060606061|25.727272727272727| 0.4405812143227815| 58.39393939393939|   23.606060606060606| 6.212121212121212|0.36347517730496454| 17.09090909090909|     7.848484848484849|14.333333333333334|0.6757142857142857| 21.21212121212121|   12.969696969696969|12.303030303030303|25.666666666666668| 37.96969696969697|10.030303030303031| 24.03030303030303| 34.06060606060606|1.2265861027190332|1.0680958385876418|1.1147686832740213|13.909090909090908|13.787878787878787| 6.848484848484849|6.2727272727272725|11.878787878787879|12.606060606060606| 3.727272727272727| 3.303030303030303| 17.87878787878788| 18.09090909090909|       26|         6|           32|            0.8125|          69.40625|                 59.71875| 1.162218733647305|             0.03125|          24.65625|0.48256880733944957|          51.09375|             20.28125|           4.21875|               0.36|          11.71875|               7.84375|            15.875|0.7045769764216366|          22.53125|              11.3125|          11.21875|          25.15625|            36.375|           10.4375|           19.0625|              29.5|1.0748502994011977| 1.319672131147541|1.2330508474576272|           15.5625|              12.5|          6.78125|            6.5625|           12.4375|          12.65625|           4.03125|           3.46875|          16.28125|          18.84375|   6|   -7|      -1| 0.20643939393939392|           -2.59375|  -8.311553030303031| 0.10386684055153683|-0.02935606060606...|-1.0710227272727266|0.041987593016668046| -7.300189393939391| -3.3248106060606055| -1.993371212121212|-0.00347517730496...|   -5.37215909090909|-0.00473484848484...|   1.541666666666666|0.028862690707350924|  1.319128787878789| -1.6571969696969688|-1.0842803030303028| -0.5104166666666679| -1.5946969696969688|0.40719696969696884| -4.967803030303031|  -4.560606060606062|-0.15173580331783554|  0.2515762925598992| 0.11828216418360582| 1.6534090909090917| -1.2878787878787872|-0.06723484848484862|  0.2897727272727275|  0.5587121212121211| 0.05018939393939448| 0.30397727272727293|  0.1657196969696968| -1.597537878787879|  0.7528409090909101| -5.0|\n",
            "|  2016| 1320| 1401|     0|       11|       03|       26|         8|           34|0.7647058823529411| 75.91176470588235|        65.52941176470588|1.1584380610412925|0.058823529411764705|26.647058823529413| 0.4494047619047619|59.294117647058826|   23.029411764705884| 7.676470588235294| 0.3503355704697987| 21.91176470588235|     7.382352941176471|14.941176470588236|0.6728476821192053|22.205882352941178|   12.088235294117647|12.823529411764707|26.058823529411764| 38.88235294117647|11.088235294117647|23.764705882352942| 34.85294117647059| 1.156498673740053|1.0965346534653466|1.1156118143459917| 16.88235294117647|12.941176470588236| 6.911764705882353|5.0588235294117645|11.794117647058824|14.294117647058824| 3.764705882352941|3.4705882352941178| 18.08823529411765|19.323529411764707|       21|        12|           33|0.6363636363636364| 67.54545454545455|        62.90909090909091| 1.073699421965318|0.030303030303030304|23.363636363636363| 0.4543311726576311| 51.42424242424242|   23.272727272727273| 8.090909090909092|0.37186629526462395|21.757575757575758|      6.96969696969697|12.727272727272727|0.7540394973070018| 16.87878787878788|    9.393939393939394| 5.363636363636363|24.333333333333332|29.696969696969695| 9.121212121212121|25.060606060606062| 34.18181818181818|0.5880398671096345|0.9709794437726723|0.8687943262411347|11.848484848484848|12.181818181818182|5.787878787878788| 4.666666666666667| 9.696969696969697|11.969696969696969|2.6363636363636362| 2.696969696969697|15.333333333333334|18.303030303030305|  -5|    4|      -1|-0.12834224598930477| -8.366310160427801| -2.6203208556149775|-0.08473863907597456| -0.0285204991087344|-3.2834224598930497|0.004926410752869204| -7.869875222816404| 0.24331550802138935|0.41443850267379734|0.021530724794825262| -0.1541889483065937| -0.4126559714795013|  -2.213903743315509|  0.0811918151877965| -5.327094474153299| -2.6942959001782523| -7.459893048128343| -1.7254901960784323|  -9.185383244206776|-1.9670231729055256| 1.2959001782531203| -0.6711229946524071| -0.5684588066304186| -0.1255552096926743|-0.24681748810485693| -5.033868092691623| -0.7593582887700538| -1.1238859180035652|-0.39215686274509753|  -2.097147950089127| -2.3244206773618554| -1.1283422459893049|  -0.773618538324421|-2.7549019607843146|  -1.020499108734402|  8.0|\n",
            "|  2019| 1332| 1414|     1|       12|       13|       29|         5|           34|0.8529411764705882| 72.47058823529412|        63.61764705882353|  1.13915857605178|                 0.0|26.941176470588236|  0.456857855361596|58.970588235294116|   21.852941176470587| 6.794117647058823| 0.3598130841121495| 18.88235294117647|     6.235294117647059|11.794117647058824| 0.699825479930192|16.852941176470587|   13.676470588235293|11.647058823529411| 28.38235294117647|40.029411764705884|10.264705882352942|              23.0| 33.26470588235294|1.1346704871060171|1.2340153452685423|1.2033598585322722|13.235294117647058| 9.382352941176471|               5.5| 5.088235294117647|11.529411764705882|11.205882352941176| 4.264705882352941| 2.735294117647059|              18.5|16.735294117647058|       23|        12|           35|0.6571428571428571| 70.48571428571428|        62.94285714285714|1.1198365864729913| 0.02857142857142857|25.314285714285713|0.44951801116184675| 56.31428571428572|    21.34285714285714|               7.6| 0.3432258064516129|22.142857142857142|     7.057142857142857|12.257142857142858|0.7185929648241206|17.057142857142857|                 13.2| 9.714285714285714|24.714285714285715| 34.42857142857143| 9.657142857142857| 23.02857142857143| 32.68571428571428|1.0059171597633136|1.0732009925558312|1.0533216783216783|13.342857142857143|11.885714285714286|7.771428571428571| 5.228571428571429|              11.8|13.971428571428572| 4.228571428571429|2.7714285714285714|17.771428571428572|16.857142857142858|  -6|    7|       1|-0.19579831932773106|-1.9848739495798355| -0.6747899159663859|-0.01932198957878...| 0.02857142857142857|-1.6268907563025223|-0.00733984419974...|-2.6563025210083993| -0.5100840336134453| 0.8058823529411763|-0.01658727766053...|  3.2605042016806713|  0.8218487394957981| 0.46302521008403374|0.018767484893928654|0.20420168067226996| -0.4764705882352942|-1.9327731092436977| -3.6680672268907557|  -5.600840336134453|-0.6075630252100854|0.02857142857142847| -0.5789915966386587| -0.1287533273427035|-0.16081435271271105| -0.1500381802105939|0.10756302521008543|   2.503361344537815|  2.2714285714285714|  0.1403361344537819| 0.27058823529411846|   2.765546218487396|-0.03613445378151248| 0.03613445378151248|-0.7285714285714278| 0.12184873949579966| -1.0|\n",
            "|  2021| 1199| 1276|     0|       04|       01|       20|         4|           24|0.8333333333333334|             76.25|                   65.375|1.1663479923518165|0.041666666666666664|            27.875| 0.4837310195227766|            57.625|   23.833333333333332| 7.541666666666667|0.38675213675213677|              19.5|                 6.625|12.958333333333334|            0.7775|16.666666666666668|   11.083333333333334| 8.083333333333334|27.083333333333332|35.166666666666664| 7.458333333333333|21.166666666666668|            28.625|1.0837988826815643| 1.279527559055118|1.2285298398835516|15.458333333333334|            10.125| 4.416666666666667| 4.791666666666667|10.666666666666666|               9.5| 4.291666666666667|2.6666666666666665| 6.208333333333333|             6.625|       16|         6|           22|0.7272727272727273|  78.9090909090909|        70.31818181818181|1.1221719457013575| 0.09090909090909091|28.181818181818183| 0.4743687834736037| 59.40909090909091|   23.363636363636363| 8.227272727272727| 0.3900862068965517| 21.09090909090909|     7.818181818181818|14.318181818181818|0.7377049180327869| 19.40909090909091|   15.772727272727273|10.409090909090908|24.272727272727273| 34.68181818181818| 9.772727272727273|19.863636363636363|29.636363636363637|1.0651162790697675|1.2219679633867278|1.1702453987730062|14.590909090909092|              11.5|7.409090909090909| 7.136363636363637|14.136363636363637|13.590909090909092| 5.136363636363637|2.8636363636363638| 6.545454545454546| 5.545454545454546|  -4|    2|      -2|-0.10606060606060608| 2.6590909090909065|   4.943181818181813|-0.04417604665045...| 0.04924242424242425|0.30681818181818343|-0.00936223604917...| 1.7840909090909065|-0.46969696969696884| 0.6856060606060597|0.003334070144414...|    1.59090909090909|  1.1931818181818183|  1.3598484848484844|-0.03979508196721304|  2.742424242424242|  4.6893939393939394| 2.3257575757575744| -2.8106060606060588| -0.4848484848484844| 2.3143939393939403|-1.3030303030303045|  1.0113636363636367|-0.01868260361179...|-0.05755959566839...|-0.05828444111054...|-0.8674242424242422|               1.375|   2.992424242424242|  2.3446969696969697|  3.4696969696969706|   4.090909090909092|  0.8446969696969697| 0.19696969696969724| 0.3371212121212128| -1.0795454545454541|  3.0|\n",
            "|  2005| 1153| 1246|     0|       07|       02|       25|         5|           30|0.8333333333333334| 73.73333333333333|                     61.9| 1.191168551427033| 0.03333333333333333|              26.5| 0.4590069284064665|57.733333333333334|   21.866666666666667| 6.533333333333333|0.33793103448275863|19.333333333333332|     6.566666666666666|              14.2|0.6635514018691588|              21.4|                 11.6|              12.7|              22.9|              35.6|11.733333333333333|              22.2| 33.93333333333333|1.0823863636363635|1.0315315315315314|1.0491159135559922|15.266666666666667|11.133333333333333|               9.4|               5.1|13.033333333333333|18.133333333333333| 4.433333333333334| 3.433333333333333|              16.8|18.433333333333334|       24|         7|           31|0.7741935483870968| 76.41935483870968|        64.41935483870968| 1.186279419128693| 0.06451612903225806|25.548387096774192|0.43878116343490303|58.225806451612904|    22.70967741935484| 6.612903225806452| 0.3474576271186441|19.032258064516128|     7.032258064516129| 18.70967741935484|0.6929510155316607|              27.0|    11.96774193548387|14.387096774193548| 27.06451612903226| 41.45161290322581|14.548387096774194|21.838709677419356| 36.38709677419355|0.9889135254988913| 1.239290989660266|1.1391843971631206|              15.0|11.064516129032258|5.483870967741935| 5.870967741935484|13.451612903225806|14.290322580645162| 6.870967741935484| 2.193548387096774|17.677419354838708|22.193548387096776|  -1|    2|       1|-0.05913978494623662| 2.6860215053763454|   2.519354838709681|-0.00488913229833...| 0.03118279569892473|-0.9516129032258078|-0.02022576497156...|0.49247311827956963|  0.8430107526881727|0.07956989247311874|0.009526592635885456|-0.30107526881720403|  0.4655913978494626|   4.509677419354841|0.029399613662501878|  5.600000000000001| 0.36774193548387046| 1.6870967741935488|   4.164516129032261|   5.851612903225806| 2.8150537634408614|-0.3612903225806434|  2.4537634408602216| -0.0934728381374722| 0.20775945812873453| 0.09006848360712838|-0.2666666666666675|-0.06881720430107485| -3.9161290322580653|  0.7709677419354843| 0.41827956989247284|  -3.843010752688171|  2.4376344086021504|  -1.239784946236559| 0.8774193548387075|  3.7602150537634422|  5.0|\n",
            "+------+-----+-----+------+---------+---------+---------+----------+-------------+------------------+------------------+-------------------------+------------------+--------------------+------------------+-------------------+------------------+---------------------+------------------+-------------------+------------------+----------------------+------------------+------------------+------------------+---------------------+------------------+------------------+------------------+------------------+------------------+------------------+------------------+------------------+------------------+------------------+------------------+------------------+------------------+------------------+------------------+------------------+------------------+------------------+------------------+---------+----------+-------------+------------------+------------------+-------------------------+------------------+--------------------+------------------+-------------------+------------------+---------------------+------------------+-------------------+------------------+----------------------+------------------+------------------+------------------+---------------------+------------------+------------------+------------------+------------------+------------------+------------------+------------------+------------------+------------------+------------------+------------------+-----------------+------------------+------------------+------------------+------------------+------------------+------------------+------------------+----+-----+--------+--------------------+-------------------+--------------------+--------------------+--------------------+-------------------+--------------------+-------------------+--------------------+-------------------+--------------------+--------------------+--------------------+--------------------+--------------------+-------------------+--------------------+-------------------+--------------------+--------------------+-------------------+-------------------+--------------------+--------------------+--------------------+--------------------+-------------------+--------------------+--------------------+--------------------+--------------------+--------------------+--------------------+--------------------+-------------------+--------------------+-----+\n",
            "only showing top 20 rows\n",
            "\n"
          ]
        }
      ]
    },
    {
      "cell_type": "code",
      "source": [
        "outscores =  outscores.drop(\"Team1OppPFPerGame\", \"Team2OppPFPerGame\",\n",
        "                            'Team1PFPerGame','Team2PFPerGame',\n",
        "                            \"Team1Wins\",\"Team2Wins\",\n",
        "                            \"Team1Loses\",\"Team2Loses\",\n",
        "                            \"Team1NumGames\",\"Team2NumGames\",\n",
        "                            \"Team1WinRatio\",\"Team2WinRatio\",\n",
        "                            \"Team1PointsPerGame\",\"Team2PointsPerGame\",\n",
        "                            \"Team1PointsAllowedPerGame\",\"Team2PointsAllowedPerGame\",\n",
        "                            \"Team1PointsRatio\",\"Team2PointsRatio\",\n",
        "                            \"Team1OTsPerGame\",\"Team2OTsPerGame\",\n",
        "                            \"Team1FGPerGame\",\"Team2FGPerGame\",\n",
        "                            \"Team1FGRatio\",\"Team2FGRatio\",\n",
        "                            \"Team1FGAPerGame\",\"Team2FGAPerGame\",\n",
        "                            \"Team1FGAllowedPerGame\",\"Team2FGAllowedPerGame\",\n",
        "                            \"Team1FG3PerGame\",\"Team2FG3PerGame\",\n",
        "                            \"Team1FG3Ratio\",\"Team2FG3Ratio\",\n",
        "                            \"Team1FG3APerGame\",\"Team2FG3APerGame\",\n",
        "                            \"Team1FG3AllowedPerGame\",\"Team2FG3AllowedPerGame\",\n",
        "                            \"Team1FTPerGame\",\"Team2FTPerGame\",\n",
        "                            \"Team1FTRatio\",\"Team2FTRatio\",\n",
        "                            \"Team1FTAPerGame\",\"Team2FTAPerGame\",\n",
        "                            \"Team1FTAllowedPerGame\",\"Team2FTAllowedPerGame\",\n",
        "                            \"Team1ORPerGame\",\"Team2ORPerGame\",\n",
        "                            \"Team1DRPerGame\",\"Team2DRPerGame\",\n",
        "                            \"Team1TRPerGame\",\"Team2TRPerGame\",\n",
        "                            \"Team1OppORPerGame\",\"Team2OppORPerGame\",\n",
        "                            'Team1OppDRPerGame','Team2OppDRPerGame',\n",
        "                            'Team1OppTRPerGame','Team2OppTRPerGame',\n",
        "                            'Team1ORRatio','Team2ORRatio',\n",
        "                            'Team1DRRatio','Team2DRRatio',\n",
        "                            'Team1TRRatio','Team2TRRatio',\n",
        "                            'Team1AstPerGame','Team2AstPerGame',\n",
        "                            'Team1OppAstPerGame','Team2OppAstPerGame',\n",
        "                            'Team1StlPerGame','Team2StlPerGame',\n",
        "                            'Team1OppStlPerGame','Team2OppStlPerGame',\n",
        "                            'Team1TOPerGame','Team2TOPerGame',\n",
        "                            'Team1OppTOPerGame','Team2OppTOPerGame',\n",
        "                            'Team1BlkPerGame','Team2BlkPerGame',\n",
        "                            'Team1OppBlkPerGame','Team2OppBlkPerGame',\n",
        "                            'Team1PFPerGame','Team2PFPerGame',\n",
        "                            'Team1OppPFPerGame','Team2OppPFPerGame'\n",
        "                            'Team1Seed','Team2Seed')\n",
        "outscores2022 = outscores.filter(outscores.Season == 2022)\n",
        "outscores2022.show()\n",
        "outscores = outscores.filter(outscores.Season < 2022)\n",
        "outscores.show()"
      ],
      "metadata": {
        "colab": {
          "base_uri": "https://localhost:8080/"
        },
        "id": "odQAzC_QfpkF",
        "outputId": "8b65156a-96a3-4d47-aa67-f8389f390eb8"
      },
      "execution_count": 27,
      "outputs": [
        {
          "output_type": "stream",
          "name": "stdout",
          "text": [
            "+------+-----+-----+------+---------+----+-----+--------+--------------------+-------------------+--------------------+--------------------+--------------------+--------------------+--------------------+--------------------+-------------------+--------------------+--------------------+--------------------+--------------------+--------------------+--------------------+-------------------+-------------------+-------------------+--------------------+--------------------+--------------------+--------------------+-------------------+--------------------+--------------------+--------------------+-------------------+--------------------+--------------------+--------------------+-------------------+--------------------+--------------------+--------------------+-------------------+-------------------+-----+\n",
            "|Season|Team1|Team2|Result|Team1Seed|Wins|Loses|NumGames|            WinRatio|      PointsPerGame|PointsAllowedPerGame|         PointsRatio|          OTsPerGame|           FGPerGame|             FGRatio|          FGAPerGame|   FGAllowedPerGame|          FG3PerGame|            FG3Ratio|         FG3APerGame|   FG3AllowedPerGame|           FTPerGame|             FTRatio|         FTAPerGame|   FTAllowedPerGame|          ORPerGame|           DRPerGame|           TRPerGame|        OppORPerGame|        OppDRPerGame|       OppTRPerGame|             ORRatio|             DRRatio|             TRRatio|         AstPerGame|       OppAstPerGame|          StlPerGame|       OppStlPerGame|          TOPerGame|        OppTOPerGame|          BlkPerGame|       OppBlkPerGame|          PFPerGame|       OppPFPerGame| Seed|\n",
            "+------+-----+-----+------+---------+----+-----+--------+--------------------+-------------------+--------------------+--------------------+--------------------+--------------------+--------------------+--------------------+-------------------+--------------------+--------------------+--------------------+--------------------+--------------------+--------------------+-------------------+-------------------+-------------------+--------------------+--------------------+--------------------+--------------------+-------------------+--------------------+--------------------+--------------------+-------------------+--------------------+--------------------+--------------------+-------------------+--------------------+--------------------+--------------------+-------------------+-------------------+-----+\n",
            "|  2022| 1417| 1103|     1|       04|   3|   -2|       1| 0.07157258064516125|  7.084677419354833|  0.6512096774193594| 0.09845956036891423| 0.12399193548387097|   4.356854838709676|-0.00315059269938...|  10.032258064516128|-0.5211693548387082|  -0.834677419354839|-0.00365476190476...|  -2.146169354838708| 0.07157258064516103| -0.7943548387096779| 0.04453602209020169| -2.338709677419356|  1.621975806451612|  2.097782258064516|  0.5161290322580641|    2.61391129032258|  -0.826612903225806|   2.916330645161292|  2.089717741935484| 0.44843992485501927|-0.11850688597080317|0.009416240524463104|  2.421370967741936|   2.295362903225806|   1.516129032258065|  -0.823588709677419| -1.963709677419354|    2.16733870967742|   0.184475806451613|   1.150201612903226| 0.2822580645161299|-1.7510080645161281| -9.0|\n",
            "|  2022| 1240| 1120|     0|       15|  -8|    5|      -3|-0.18857758620689657|           -7.71875| -0.4105603448275872|-0.10862398471094137|-0.02155172413793...|  -2.868534482758619|0.020598558679660983|  -9.079741379310342|  1.450431034482758|  0.7715517241379306|0.062025177887246874|  -2.099137931034484|  1.9676724137931032| -2.7532327586206904|-0.04943302188315102| -2.576508620689655| -5.279094827586206|-2.3221982758620694| -0.2015086206896548| -2.5237068965517224| -0.7489224137931032| -1.1045258620689644|-1.8534482758620676|-0.17743034847064842|0.048827586206896534|-0.01424270495599...|-1.0140086206896548|  1.7650862068965516| -2.7467672413793105| -0.9202586206896548| 0.8265086206896548| -3.2909482758620694|            -4.84375| -1.2575431034482758| -4.117456896551724|-1.9353448275862064| 13.0|\n",
            "|  2022| 1261| 1235|     1|       06|   2|   -1|       1| 0.04166666666666663|  6.652462121212125|  0.5454545454545467| 0.09563194018666121|-0.00189393939393...|   1.621212121212121|0.001521029475733...|  3.4895833333333357|-0.9081439393939377|-0.17329545454545414|-0.00279111604957...|-0.36079545454545325|              1.3125|   3.583333333333334| 0.04830152213653072| 3.8570075757575744| 1.0492424242424239|  2.825757575757576|  2.2982954545454533|   5.124053030303031|   1.885416666666666|-0.31344696969696884| 1.5719696969696955| 0.09805995140436363| 0.11779609661315316| 0.11407019826567122|-1.9914772727272734| -0.1363636363636367|  2.6846590909090917|-0.27935606060606055| 0.9659090909090917|  1.1666666666666679|  1.3011363636363633|  -0.543560606060606| 1.3020833333333321|-0.6751893939393945| -5.0|\n",
            "|  2022| 1395| 1371|     0|       09|   0|    2|       2|-0.04166666666666663| -3.472916666666663| -1.2999999999999972|-0.03184074912016088|-0.00208333333333...| 0.11458333333333215|0.023955098377681783|   -3.02708333333333|0.33333333333333215|  -1.604166666666667|-0.03009653605905732|            -3.15625|-0.07916666666666661| -2.0979166666666664| -0.0878605340689449|-0.6937500000000014|-1.8874999999999993| 0.7395833333333339| -0.8520833333333329|-0.11249999999999716| -1.1687499999999993|  -3.241666666666667|  -4.41041666666667|   0.260813173179947| 0.13091546238293117| 0.16819705615391523|  3.591666666666667|  1.5666666666666664| -0.8187499999999996|  0.6312499999999996| 1.9020833333333336|-0.30625000000000036| -1.2479166666666668| -0.9562499999999998|-0.3874999999999993|-0.2645833333333343|  1.0|\n",
            "|  2022| 1403| 1439|     1|       03|   2|   -3|      -1| 0.07815126050420174| 0.9630252100840266| -1.9621848739495817| 0.05290862814737962|  0.0596638655462185|-0.08823529411764852|-9.11199652498362...|-0.08067226890756274|-2.4714285714285715| -3.0294117647058822|-0.07901694089818068|  -3.885714285714286|  1.3319327731092434|   4.168907563025211|-0.04424878436521...|  6.797478991596638| 1.6487394957983188| 1.6605042016806717|  1.7252100840336126|   3.385714285714286|  0.3554621848739501|  -1.442857142857143| -1.087394957983193| 0.17287708784903733| 0.16852168509338883| 0.16903591825469944|-0.8411764705882359| -0.5991596638655459|  2.8050420168067225|  0.7428571428571429|  2.659663865546218|  3.7478991596638647|  0.2705882352941176|-0.41092436974789903| 1.4336134453781515|  3.784033613445379| -8.0|\n",
            "|  2022| 1439| 1403|     0|       11|  -2|    3|       1|-0.07815126050420174|-0.9630252100840266|  1.9621848739495817|-0.05290862814737962| -0.0596638655462185| 0.08823529411764852|9.111996524983623E-4| 0.08067226890756274| 2.4714285714285715|  3.0294117647058822| 0.07901694089818068|   3.885714285714286| -1.3319327731092434|  -4.168907563025211|0.044248784365214955| -6.797478991596638|-1.6487394957983188|-1.6605042016806717| -1.7252100840336126|  -3.385714285714286| -0.3554621848739501|   1.442857142857143|  1.087394957983193|-0.17287708784903733|-0.16852168509338883|-0.16903591825469944| 0.8411764705882359|  0.5991596638655459| -2.8050420168067225| -0.7428571428571429| -2.659663865546218| -3.7478991596638647| -0.2705882352941176| 0.41092436974789903|-1.4336134453781515| -3.784033613445379|  8.0|\n",
            "|  2022| 1277| 1172|     1|       07|  -4|    6|       2| -0.1654411764705882| -2.536764705882348|   2.628676470588232|-0.08061563927485715|            -0.03125|            -0.15625|-0.02034743767659...|   2.099264705882355|  1.610294117647058| -1.4797794117647056|-0.00647964857890...|            -3.53125| -1.1268382352941178| -0.7444852941176467|-0.01076704511960...|-0.7371323529411775| 0.5349264705882355|            2.15625| 0.17463235294117752|   2.330882352941174|  1.5533088235294112|  -1.147058823529413|            0.40625| 0.08123599158211703| 0.06794077134986232|  0.0641619716575299| 1.4191176470588243|  0.7003676470588243|  1.1985294117647056|  1.4705882352941178| 3.2996323529411757| -0.5680147058823533|  2.4650735294117645|  1.0128676470588234| 2.0974264705882355| -1.060661764705884| -3.0|\n",
            "|  2022| 1276| 1161|     0|       11|  -7|    9|       2| -0.2791991101223582|-0.2091212458286975|   4.008898776418249|-0.06679719414270036|-0.06896551724137931|  0.7174638487208007|-0.01411809857996...|   3.181312569521687| 2.1357063403781957| -1.2658509454949947|-0.01737229123725...|  -2.635150166852057|  -1.621802002224693|-0.37819799777530605|-0.02819418127743...|0.12124582869855516|  1.359288097886541| 2.7764182424916575|0.036707452725252665|  2.8131256952169075| -0.5428253615127918| -1.5539488320355943| -2.096774193548388|  0.4676493066928703| 0.08002856741441478| 0.17570261112218455|0.09010011123470463| -1.1957730812013363|  -1.432703003337041|-0.22469410456062278| 1.5105672969966637| -1.6974416017797544|0.027808676307007563|  0.4972191323692994|  0.548387096774194| -1.476084538375975|  5.0|\n",
            "|  2022| 1116| 1436|     1|       04|  -2|    3|       1|-0.08617424242424243| 2.1893939393939377|   7.857954545454547|-0.10926187464771941|0.029356060606060608| -0.8011363636363633|-0.05403569421023047|   5.012310606060609| 1.1647727272727266| -2.4488636363636367| -0.0610968890073183|  -3.211174242424242| 0.33049242424242387|  6.2405303030303045|0.006462709996326144|  8.157196969696969|  5.197916666666666| 3.9157196969696972| -0.5776515151515156|    3.33806818181818|  2.1373106060606064|  2.1032196969696955| 4.2405303030303045| 0.21775754126351732|-0.13149888408141197|-0.05276342588348...|-0.9715909090909083|  3.0965909090909083|  2.5085227272727275|   1.972537878787879| 2.8077651515151523|   3.919507575757576|  1.7755681818181817|  0.6723484848484849| 2.8797348484848477|  3.694128787878789| -9.0|\n",
            "|  2022| 1314| 1266|     1|       08|   5|   -3|       2| 0.11436950146627567|  3.128054740957964|  0.8563049853372462|0.031079751375834297|-0.00391006842619...|  0.7008797653958965|-4.81429127486499E-4|  1.6109481915933515| 1.4555229716520017| -0.3401759530791786|0.014864804268866882| -1.9579667644183765|                 1.0|  2.0664711632453567| 0.02523074210458498|  2.155425219941348|-3.0547409579667644| 3.3030303030303028|   2.184750733137829|    5.48778103616813|  -4.499511241446726|  -1.949169110459433| -6.448680351906162|  0.9317327035773638| 0.17906206065474994|  0.3781044446662897|-1.1818181818181817| -1.0606060606060606| -2.4770283479960904| -0.4907135874877806|-0.7956989247311821|  -3.268817204301076| -1.2482893450635384| 0.08113391984359719|-3.0879765395894445| 1.1055718475073313| -1.0|\n",
            "|  2022| 1172| 1277|     0|       10|   4|   -6|      -2|  0.1654411764705882|  2.536764705882348|  -2.628676470588232| 0.08061563927485715|             0.03125|             0.15625|0.020347437676598967|  -2.099264705882355| -1.610294117647058|  1.4797794117647056|0.006479648578900...|             3.53125|  1.1268382352941178|  0.7444852941176467|0.010767045119607688| 0.7371323529411775|-0.5349264705882355|           -2.15625|-0.17463235294117752|  -2.330882352941174| -1.5533088235294112|   1.147058823529413|           -0.40625|-0.08123599158211703|-0.06794077134986232| -0.0641619716575299|-1.4191176470588243| -0.7003676470588243| -1.1985294117647056| -1.4705882352941178|-3.2996323529411757|  0.5680147058823533| -2.4650735294117645| -1.0128676470588234|-2.0974264705882355|  1.060661764705884|  3.0|\n",
            "|  2022| 1168| 1181|     0|       15|  -9|    4|      -5|-0.16835699797160242|-11.279918864097354|  -1.147058823529406|-0.15015577863917162|-0.02941176470588...|  -5.469574036511155|-0.04659606186530457|  -5.971602434077077|-1.9249492900608516| -2.6592292089249483|-0.03229509833283417|  -5.787018255578094|  0.7718052738336709|  2.3184584178498984| 0.03527094772021966| 2.2332657200811354|  1.931034482758621|-1.2048681541582145|  -4.358012170385397|   -5.56288032454361|  -1.426977687626776|  0.4746450304259646|-0.9523326572008095| 0.02983758764619182|-0.22646325382215093| -0.1498277100902492| -5.966531440162271|-0.41582150101419835| 0.42596348884381285|-0.37322515212981777|  1.536511156186613|   2.568965517241379| -3.5101419878296145| 0.05476673427991896| 2.5598377281947275|  3.471602434077081| 13.0|\n",
            "|  2022| 1411| 1242|     0|       16| -10|    6|      -4|-0.22352941176470587| -9.354901960784318|  -2.647058823529406| -0.0962179092249893|-0.05490196078431373|  -3.280392156862746| -0.0438825423163926| -1.5254901960784366| -1.988235294117647| -1.3803921568627455|   -0.03841334104492| -1.9176470588235297|-0.00980392156862...| -1.4137254901960787|-0.05304433904334...| -0.562745098039219| 1.3392156862745086| 0.6921568627450974|  0.1411764705882348|  0.8333333333333357|-0.43725490196078454|  0.7294117647058833| 0.2921568627450988|  0.1378970286885246|-0.03366058906030...|0.016267277213032116| -4.707843137254903| -1.0784313725490193| -0.8117647058823536|  1.1470588235294121| 2.0705882352941174| -0.5215686274509803|  0.8529411764705879| -0.6215686274509804| 1.8843137254901947| 0.5862745098039213| 15.0|\n",
            "|  2022| 1266| 1314|     0|       09|  -5|    3|      -2|-0.11436950146627567| -3.128054740957964| -0.8563049853372462|-0.03107975137583...|0.003910068426197455| -0.7008797653958965| 4.81429127486499E-4| -1.6109481915933515|-1.4555229716520017|  0.3401759530791786|-0.01486480426886...|  1.9579667644183765|                -1.0| -2.0664711632453567|-0.02523074210458498| -2.155425219941348| 3.0547409579667644|-3.3030303030303028|  -2.184750733137829|   -5.48778103616813|   4.499511241446726|   1.949169110459433|  6.448680351906162| -0.9317327035773638|-0.17906206065474994| -0.3781044446662897| 1.1818181818181817|  1.0606060606060606|  2.4770283479960904|  0.4907135874877806| 0.7956989247311821|   3.268817204301076|  1.2482893450635384|-0.08113391984359719| 3.0879765395894445|-1.1055718475073313|  1.0|\n",
            "|  2022| 1181| 1168|     1|       02|   9|   -4|       5| 0.16835699797160242| 11.279918864097354|   1.147058823529406| 0.15015577863917162|0.029411764705882353|   5.469574036511155| 0.04659606186530457|   5.971602434077077| 1.9249492900608516|  2.6592292089249483| 0.03229509833283417|   5.787018255578094| -0.7718052738336709| -2.3184584178498984|-0.03527094772021966|-2.2332657200811354| -1.931034482758621| 1.2048681541582145|   4.358012170385397|    5.56288032454361|   1.426977687626776| -0.4746450304259646| 0.9523326572008095|-0.02983758764619182| 0.22646325382215093|  0.1498277100902492|  5.966531440162271| 0.41582150101419835|-0.42596348884381285| 0.37322515212981777| -1.536511156186613|  -2.568965517241379|  3.5101419878296145|-0.05476673427991896|-2.5598377281947275| -3.471602434077081|-13.0|\n",
            "|  2022| 1436| 1116|     0|       13|   2|   -3|      -1| 0.08617424242424243|-2.1893939393939377|  -7.857954545454547| 0.10926187464771941|-0.02935606060606...|  0.8011363636363633| 0.05403569421023047|  -5.012310606060609|-1.1647727272727266|  2.4488636363636367|  0.0610968890073183|   3.211174242424242|-0.33049242424242387| -6.2405303030303045|-0.00646270999632...| -8.157196969696969| -5.197916666666666|-3.9157196969696972|  0.5776515151515156|   -3.33806818181818| -2.1373106060606064| -2.1032196969696955|-4.2405303030303045|-0.21775754126351732| 0.13149888408141197|0.052763425883489035| 0.9715909090909083| -3.0965909090909083| -2.5085227272727275|  -1.972537878787879|-2.8077651515151523|  -3.919507575757576| -1.7755681818181817| -0.6723484848484849|-2.8797348484848477| -3.694128787878789|  9.0|\n",
            "|  2022| 1344| 1355|     1|       04|  -3|    1|      -2|-0.04166666666666663|-13.731250000000003|             -7.5625|-0.07546633971800665| 0.13541666666666666|  -6.066666666666666|-0.08373832645036167|  -2.664583333333333|-3.1833333333333336| -1.5750000000000002|-0.09895662205477551|  1.2062500000000007| -2.4229166666666666|-0.02291666666666714|-0.03423660015879215|  0.939583333333335| 1.2270833333333329|  2.645833333333334| -1.6416666666666657|    1.00416666666667|  0.8312500000000007| 0.07083333333333286| 0.9020833333333336| 0.23580514526726137| -0.0779975425782451|3.117810346726646E-4|-1.2375000000000007| -0.7583333333333329| -0.6854166666666668|  1.3145833333333332|0.08750000000000036| -0.8062500000000004|  1.4541666666666666|  0.7145833333333331|0.21666666666666679| 0.2687500000000007| -9.0|\n",
            "|  2022| 1211| 1209|     1|       01|  11|   -7|       4| 0.29655172413793107| 19.507586206896562| -1.8951724137931052|   0.328001456602506|               -0.12|   9.011034482758618| 0.13593664502473873|  1.3227586206896618| 1.0193103448275878|  1.0993103448275852| 0.05580963743620332| -0.4220689655172407| -1.2303448275862072|  0.3862068965517249| 0.01514816141404296|0.14620689655172114| -2.703448275862069| -2.655172413793103|   8.005517241379309|  5.3503448275862056| -0.5834482758620698|  -2.686896551724139|-3.2703448275862073|-0.24040125236878973|  0.4779411764705882|  0.2903600464576075|  5.543448275862067| -3.3434482758620696|  -1.584827586206897|  0.1213793103448273| 0.3806896551724144| -2.9337931034482754|  1.4841379310344829| -0.7848275862068963| -1.146206896551723|  1.027586206896551|-15.0|\n",
            "|  2022| 1326| 1260|     1|       07|  -5|    4|      -1|-0.14086021505376345| 0.4451612903225737|   6.337634408602149|-0.10278857149790555|-0.06236559139784946|-0.13225806451612954|-0.00714919038344...|  0.5376344086021447|  2.273118279569889| -0.7709677419354843|-0.00656236474272...| -1.6548387096774206|   0.516129032258065|  1.4806451612903224| 0.04127925944050237| 1.0096774193548406| 1.2752688172043012| 0.9903225806451612| -0.4451612903225808|  0.5451612903225787|  1.7860215053763442| -0.7268817204301108|  1.059139784946236|-0.09928911803765328| 0.01954893182415396|-0.02256147912428763| -2.074193548387097|  2.3096774193548377| -2.2774193548387096| 0.29247311827956946| -0.913978494623656|  -3.084946236559139|   2.281720430107527| -0.8526881720430106| -1.052688172043009|0.00860215053763369| -3.0|\n",
            "|  2022| 1246| 1389|     1|       02|   8|   -4|       4| 0.16718913270637403| 13.282131661442008|  3.7586206896551744| 0.14069885457445275|-0.00417972831765...|   7.217345872518287| 0.05914511224245733|   8.236154649947757| 4.0449320794148385|  0.3928944618599788|0.001480923694779146|    1.05433646812957|  0.8641588296760707|  -1.545454545454545| 0.04536346182070872| -3.387669801462902| -5.195402298850576| 2.3249738766980155|  1.2779519331243456|  3.6029258098223593|-0.10553814002089812|   -2.49216300940439| -2.597701149425287| 0.32608378338928623|  0.2009249937372677| 0.23747279471118965|   4.12539184952978|  0.7554858934169282|-0.49216300940438895| -1.0083594566353185| -2.016718913270637| -1.6353187042842219|  -0.714733542319749|  -2.090909090909091| -5.378265412748171| -2.423197492163011|-13.0|\n",
            "+------+-----+-----+------+---------+----+-----+--------+--------------------+-------------------+--------------------+--------------------+--------------------+--------------------+--------------------+--------------------+-------------------+--------------------+--------------------+--------------------+--------------------+--------------------+--------------------+-------------------+-------------------+-------------------+--------------------+--------------------+--------------------+--------------------+-------------------+--------------------+--------------------+--------------------+-------------------+--------------------+--------------------+--------------------+-------------------+--------------------+--------------------+--------------------+-------------------+-------------------+-----+\n",
            "only showing top 20 rows\n",
            "\n",
            "+------+-----+-----+------+---------+----+-----+--------+--------------------+-------------------+--------------------+--------------------+--------------------+-------------------+--------------------+-------------------+--------------------+-------------------+--------------------+--------------------+--------------------+--------------------+--------------------+-------------------+--------------------+-------------------+--------------------+--------------------+-------------------+-------------------+--------------------+--------------------+--------------------+--------------------+-------------------+--------------------+--------------------+--------------------+--------------------+--------------------+--------------------+--------------------+-------------------+--------------------+-----+\n",
            "|Season|Team1|Team2|Result|Team1Seed|Wins|Loses|NumGames|            WinRatio|      PointsPerGame|PointsAllowedPerGame|         PointsRatio|          OTsPerGame|          FGPerGame|             FGRatio|         FGAPerGame|    FGAllowedPerGame|         FG3PerGame|            FG3Ratio|         FG3APerGame|   FG3AllowedPerGame|           FTPerGame|             FTRatio|         FTAPerGame|    FTAllowedPerGame|          ORPerGame|           DRPerGame|           TRPerGame|       OppORPerGame|       OppDRPerGame|        OppTRPerGame|             ORRatio|             DRRatio|             TRRatio|         AstPerGame|       OppAstPerGame|          StlPerGame|       OppStlPerGame|           TOPerGame|        OppTOPerGame|          BlkPerGame|       OppBlkPerGame|          PFPerGame|        OppPFPerGame| Seed|\n",
            "+------+-----+-----+------+---------+----+-----+--------+--------------------+-------------------+--------------------+--------------------+--------------------+-------------------+--------------------+-------------------+--------------------+-------------------+--------------------+--------------------+--------------------+--------------------+--------------------+-------------------+--------------------+-------------------+--------------------+--------------------+-------------------+-------------------+--------------------+--------------------+--------------------+--------------------+-------------------+--------------------+--------------------+--------------------+--------------------+--------------------+--------------------+--------------------+-------------------+--------------------+-----+\n",
            "|  2005| 1242| 1137|     0|       03|   1|   -3|      -2| 0.08342602892102335| 11.867630700778648|   6.789766407119018| 0.06869985858896999| 0.10567296996662959|  5.672969966629587|0.031530706530706554|   8.74082313681869|  2.5228031145717438|0.18020022246941014|-0.00304072838476...|   0.626251390433815|  0.2758620689655169| 0.34149054505005516|-0.00810870370926...| 0.7385984427141246|  1.4682981090100107| 2.4382647385984413|  3.5461624026696335|   5.984427141268078|   2.03225806451613| 1.1535038932146833|  3.1857619577308114|0.054220627242939634| 0.10606317847404445| 0.07968061371290713|  4.134593993325916| 0.20355951056729715| -1.3793103448275863| 0.07119021134594039| -1.2914349276974413| -1.7675194660734146|  0.8620689655172415|  0.3114571746384871| 0.3704115684093452|  0.8509454949944377|-11.0|\n",
            "|  2008| 1280| 1272|     0|       08| -11|    9|      -2|-0.28308823529411764|  -6.58272058823529|   4.444852941176471|-0.19097147938873027| 0.09558823529411764| -2.670955882352942|-0.00464305435039...| -5.170955882352942|   1.477941176470587|-0.9724264705882355|-0.01586171894597...| -1.8327205882352935|   2.115808823529412|-0.26838235294117574|0.048017607820320496| -2.196691176470587| -0.6268382352941178| -1.898897058823529|  1.9797794117647065| 0.08088235294117396| 2.8455882352941178| -0.735294117647058|   2.110294117647058| -0.3993693693693694| 0.12550984528832632|-0.06684659970797746| -2.810661764705884|   0.851102941176471| -2.7058823529411757|  0.8382352941176467|  3.0753676470588243| -3.8694852941176485|  1.8492647058823533|-0.01838235294117...|-0.8786764705882355| -0.3805147058823515|  7.0|\n",
            "|  2009| 1320| 1345|     0|       12|  -2|    1|      -1|-0.03832442067736186|-1.6559714795008915|   4.427807486631018|-0.10780290251176172| 0.09358288770053476| -2.217468805704101|0.008872608872608878| -5.951871657754012|  1.1559714795008915|-0.3422459893048133|-0.00423457730388...| -0.7540106951871657|  1.6229946524064172|   3.121212121212121|0.051999811708587695|  2.865418894830661|  0.4928698752228158|-1.0098039215686274| 0.28966131907308323| -0.7201426024955424|-2.3556149732620337|-1.7495543672014264|  -4.105169340463458| 0.11378128274808619| 0.09930378732572431| 0.11011151306189204| -2.905525846702316| -0.1737967914438503| -2.9928698752228167| -0.4153297682709445|-0.04099821746880572|  -4.450980392156863| -2.3992869875222813| -0.7005347593582889| 0.7682709447415341|   2.313725490196081|  7.0|\n",
            "|  2014| 1276| 1246|     0|       02|   1|   -2|      -1| 0.05169340463458105| -1.517825311942957| -1.2834224598930462|-8.56629271228870...|-0.02762923351158...|0.42959001782531203| 0.02454949018602154| -1.975935828877006|  1.1274509803921546| 3.3966131907308377| 0.06862356312722734|  5.8983957219251355|  0.2834224598930488|  -5.773618538324419| 0.07902853449071934|-10.696969696969695| -3.8217468805704105|-5.7985739750445635| -3.5606060606060623|  -9.359180035650624|-2.0204991087344037| 1.6978609625668426| -0.3226381461675558| -0.3423664283599137|-0.26726632628610414|-0.28796867671200754|  2.712121212121213|  1.5570409982174684|    0.35650623885918| -0.7344028520499108| -2.8119429590017813|-0.03030303030303...| -3.7201426024955437| -0.6024955436720143| -4.454545454545455|  -5.345811051693406| -6.0|\n",
            "|  2019| 1387| 1439|     0|       13|  -1|    4|       3|-0.09285714285714286| -6.942857142857136|  1.6491071428571402| -0.1397517300372637|            -0.03125|-1.8642857142857139|-0.05747605308713216|  2.986607142857146|  0.6660714285714278| -3.850892857142857|-0.08581278499255773|   -5.71517857142857| -2.3866071428571427|  0.6366071428571427|-0.16006802642386941|  5.625892857142858|   2.703571428571429|  4.922321428571429|   2.255357142857143|   7.177678571428572|-0.1374999999999993| 3.4571428571428555|    3.31964285714286|  0.5749250749250749|-0.06722852692478853| 0.10714977508985646|-2.3723214285714285| 0.04374999999999929|  0.4294642857142854|  0.8517857142857146|  1.3392857142857135| -1.1223214285714285|   1.744642857142857|  1.0080357142857141|  2.204464285714284|  2.5446428571428577|  9.0|\n",
            "|  2003| 1181| 1161|     1|       03|   7|   -7|       0|  0.2333333333333334|  7.966666666666669| -2.2666666666666657| 0.14595061857103153| 0.03333333333333333| 0.9666666666666686|-0.05312669006691334|  8.233333333333334| -0.7666666666666657|  3.133333333333333|-0.00712533691465...|   9.033333333333335| -0.7000000000000002|  2.8999999999999986|0.008476677716582781| 3.8000000000000007|-0.03333333333333...|  2.966666666666667| -0.3666666666666636|  2.6000000000000014| 0.1999999999999993| 3.5666666666666664|  3.7666666666666693|  0.2284153005464481|-0.21015067406819998|-0.04463108610386679| -1.666666666666666| -0.8999999999999986|   3.166666666666667| -2.5999999999999996| -2.0999999999999996|                 5.6|  0.9000000000000004|  1.0333333333333328| 0.6999999999999993|  1.8999999999999986|-11.0|\n",
            "|  2003| 1443| 1228|     0|       13|  -1|    2|       1|-0.05806451612903...|-2.3365591397849528|   5.019354838709681|-0.12802167755870664| 0.03225806451612903|-1.3903225806451616|-0.02576694856537...| 0.1032258064516185|   3.956989247311828| 0.2763440860215054|-0.00203062414439...|  0.8655913978494603| -1.0870967741935482|  0.1677419354838694|-0.06043357830187168| 1.9967741935483865| -1.8075268817204293| 2.4279569892473134| -2.1419354838709666| 0.28602150537634685|0.22150537634408707|0.41290322580645267|  0.6344086021505362| 0.19677123026673926|-0.12199380456209519|-0.01223394597211...| -4.073118279569892|  0.9666666666666668| 0.06451612903225801|  0.2677419354838708|  1.9946236559139798|   0.908602150537634|  0.4483870967741934|0.048387096774193505| -0.681720430107525|  1.2193548387096769|  9.0|\n",
            "|  2004| 1196| 1264|     0|       05|  -4|    5|       1|-0.16091954022988508|  2.621839080459779|   5.685057471264372|-0.05843151230556365| 0.06666666666666667| 2.5540229885057464|  0.0410772239870989| 0.5931034482758619|   2.241379310344829| 2.4413793103448267|0.011788219937999667|   5.944827586206898|   2.211494252873563|  -4.927586206896551|-0.00705202620658...| -6.303448275862067| -1.0091954022988503| -1.939080459770116|    2.24367816091954| 0.30459770114942586| 1.1758620689655181|-0.8999999999999986|   0.275862068965516|-0.24495364037087708| 0.15032660317837632| 5.71394201852593E-4| 5.4735632183908045|   3.293103448275861|  -2.914942528735633|  1.0919540229885056|   1.666666666666666|  -3.364367816091953|  -1.039080459770115| -1.1425287356321836|-1.4436781609195393| -2.2057471264367834| -7.0|\n",
            "|  2004| 1329| 1386|     1|       02|  -1|    2|       1|-0.06773399014778325|0.42118226600985054|   2.396551724137929|-0.04084721827867...| 0.10344827586206896| 1.7179802955665053|0.034235544983564625|-0.4408866995073879|  0.7549261083743843| -4.922413793103448| -0.0284770612639465| -11.205665024630543|  0.6403940886699502|  1.9076354679802954|-0.00736767819336...| 2.9495073891625623| 0.24630541871921174| 1.7007389162561566|  0.9224137931034484|  2.6231527093596014|-1.9876847290640391| -3.346059113300491|  -5.333743842364534| 0.26690727717711205| 0.21836842748340324| 0.23645295396141364|-0.4667487684729039| 0.49507389162561566| -1.2807881773399012| -0.7142857142857144|  1.7339901477832527| -1.0197044334975391| 0.01477832512315258|  0.7105911330049262|  2.378078817733993|  2.3805418719211815|  1.0|\n",
            "|  2006| 1196| 1206|     1|       03|   4|   -1|       3|0.051515151515151514|   9.87272727272726|   5.954545454545446| 0.04397003368163288|-0.03636363636363636| 1.9030303030303024|0.024368721246012026|  1.193939393939388|  2.3121212121212125|   1.46060606060606|0.042405511886441816|  1.8909090909090907| 0.18787878787878753|  4.6060606060606055| 0.06668092535576264| 4.6393939393939405|  1.1424242424242426| 0.5060606060606059|-0.16363636363636402| 0.34242424242424363| 0.9666666666666668|-1.1696969696969717|-0.20303030303030312|-0.02861218990251...| 0.06227082821332042|0.017553729066771995|  1.863636363636365|  0.3333333333333339|  0.7303030303030313|  0.8454545454545457|  1.6787878787878796|    2.33939393939394|  1.4060606060606062| -1.1333333333333333| 0.7212121212121207|   2.345454545454544| -8.0|\n",
            "|  2009| 1257| 1287|     1|       01|  11|  -10|       1|  0.3172348484848485|  4.595643939393938|  -7.081439393939391| 0.19064261343876976|-0.03219696969696...|  3.069128787878789|0.015583991036215383|  4.924242424242422| -1.0681818181818166| 2.9668560606060606|0.033124367388252196|   6.801136363636363|  -1.944128787878788|  -4.509469696969697|-0.08066838298498613| -4.097537878787879|  -3.000946969696969|-0.9867424242424239|  0.6117424242424256|              -0.375|  1.503787878787879| 2.8238636363636367|   4.327651515151516|-0.24855544627489556|-0.11655116655116671|   -0.16049505153652|  4.169507575757574|  -1.520833333333334|  2.8664772727272734|-0.05397727272727...|  -1.739583333333334|  4.0189393939393945|  2.2130681818181817| -0.5719696969696968|-2.0672348484848477| -2.3731060606060623|-15.0|\n",
            "|  2009| 1393| 1372|     1|       03|   5|    2|       7|-0.00544662309368...| 16.748366013071887|  14.837690631808272|0.004661091947872453| 0.18300653594771243|  5.434640522875817|  0.0537713155415393|  5.072984749455337|   7.442265795206971| 1.2973856209150325| 0.03441707293449131|  1.9749455337690627|   3.249455337690631|  4.5816993464052285|-0.02375420847681975|  7.769063180827885|  -3.296296296296296| 3.6982570806100217|  2.0087145969498934|   5.706971677559913|  5.333333333333334| -2.485838779956424|  2.8474945533769045|-0.08584629254000453| 0.19783973412112255|  0.0780120190462843|  5.732026143790849|   7.796296296296296|  1.9803921568627452|  2.4651416122004353|   3.250544662309368|  0.1383442265795214|   2.014161220043573|  0.5925925925925926| -2.730936819172115|  3.6459694989106737|-11.0|\n",
            "|  2010| 1452| 1449|     1|       02|   3|   -3|       0| 0.09090909090909094| -6.818181818181813|  -6.151515151515149|0.003128434815183656| 0.12121212121212122|-2.6060606060606055| -0.0181654552102003| -3.424242424242422| -1.7272727272727302| 1.7575757575757578|0.010682069065486188|   4.727272727272728|  0.6666666666666661| -3.3636363636363633|-0.03130009401341...| -3.666666666666668| -3.3636363636363633| 2.0606060606060606|  -2.121212121212121|-0.06060606060605522|-1.1818181818181817|-1.4545454545454533| -2.6363636363636402| 0.33364716777280434|-0.02460496093780007| 0.09229481825159813| 1.6969696969696972|  0.5757575757575761|  -1.666666666666666| -0.1212121212121211| -1.0606060606060606|  -2.545454545454545| 0.06060606060606055| -0.5151515151515151|-3.2727272727272734|-0.45454545454545325| -9.0|\n",
            "|  2011| 1163| 1137|     1|       03|   1|    1|       2|-0.01471861471861...|  2.642424242424255|  2.9471861471861445|-0.00972596065148812| 0.14112554112554113| 1.4242424242424256|-0.01663551342718...|  5.390476190476193|  2.6476190476190453|-1.0502164502164506|-0.07077495243037535|   0.480519480519483|-0.04935064935064...|  0.8441558441558445|-0.03156012156092...| 1.9012987012987033|  -2.298701298701298|  6.277056277056277| -0.8268398268398265|   5.450216450216445|  2.858008658008659|-1.0995670995670999|   1.758441558441561|  0.3039138022799569|0.018143584135929647| 0.10345673225082574|-1.6129870129870127|  0.3324675324675326|  1.8709956709956712|  0.6865800865800873|  0.3792207792207787|  0.2034632034632029|  2.4467532467532473|  1.2848484848484847|-2.2138528138528137|  1.1939393939393952|-11.0|\n",
            "|  2013| 1112| 1217|     1|       06|   7|   -2|       5| 0.11458333333333337|  4.355324074074076| -0.5347222222222285| 0.07739681914444474| -0.0798611111111111| 2.3275462962962976|-0.03292983239531888|  8.619212962962962| -0.9791666666666679| 1.2858796296296298|-0.03796943796943797|   5.204861111111111|  1.0057870370370372| -1.5856481481481488|0.024310247747747815|-2.8912037037037024|  0.4178240740740744|  4.383101851851852|   2.755787037037038|   7.138888888888889|-0.9293981481481488| 0.7719907407407405|-0.15740740740740833|  0.5464678955833231| 0.09123925993735926| 0.24097804531864986| 0.7696759259259256| -0.6273148148148149|-0.43287037037037024|-0.06597222222222232| -0.5729166666666661| 0.15162037037037024|-0.24189814814814792| 0.04166666666666652| 1.2326388888888893| -1.8657407407407405| -8.0|\n",
            "|  2015| 1374| 1417|     0|       06|   6|   -7|      -1| 0.20643939393939392|           -2.59375|  -8.311553030303031| 0.10386684055153683|-0.02935606060606...|-1.0710227272727266|0.041987593016668046| -7.300189393939391| -3.3248106060606055| -1.993371212121212|-0.00347517730496...|   -5.37215909090909|-0.00473484848484...|   1.541666666666666|0.028862690707350924|  1.319128787878789| -1.6571969696969688|-1.0842803030303028| -0.5104166666666679| -1.5946969696969688|0.40719696969696884| -4.967803030303031|  -4.560606060606062|-0.15173580331783554|  0.2515762925598992| 0.11828216418360582| 1.6534090909090917| -1.2878787878787872|-0.06723484848484862|  0.2897727272727275|  0.5587121212121211| 0.05018939393939448| 0.30397727272727293|  0.1657196969696968| -1.597537878787879|  0.7528409090909101| -5.0|\n",
            "|  2016| 1320| 1401|     0|       11|  -5|    4|      -1|-0.12834224598930477| -8.366310160427801| -2.6203208556149775|-0.08473863907597456| -0.0285204991087344|-3.2834224598930497|0.004926410752869204| -7.869875222816404| 0.24331550802138935|0.41443850267379734|0.021530724794825262| -0.1541889483065937| -0.4126559714795013|  -2.213903743315509|  0.0811918151877965| -5.327094474153299| -2.6942959001782523| -7.459893048128343| -1.7254901960784323|  -9.185383244206776|-1.9670231729055256| 1.2959001782531203| -0.6711229946524071| -0.5684588066304186| -0.1255552096926743|-0.24681748810485693| -5.033868092691623| -0.7593582887700538| -1.1238859180035652|-0.39215686274509753|  -2.097147950089127| -2.3244206773618554| -1.1283422459893049|  -0.773618538324421|-2.7549019607843146|  -1.020499108734402|  8.0|\n",
            "|  2019| 1332| 1414|     1|       12|  -6|    7|       1|-0.19579831932773106|-1.9848739495798355| -0.6747899159663859|-0.01932198957878...| 0.02857142857142857|-1.6268907563025223|-0.00733984419974...|-2.6563025210083993| -0.5100840336134453| 0.8058823529411763|-0.01658727766053...|  3.2605042016806713|  0.8218487394957981| 0.46302521008403374|0.018767484893928654|0.20420168067226996| -0.4764705882352942|-1.9327731092436977| -3.6680672268907557|  -5.600840336134453|-0.6075630252100854|0.02857142857142847| -0.5789915966386587| -0.1287533273427035|-0.16081435271271105| -0.1500381802105939|0.10756302521008543|   2.503361344537815|  2.2714285714285714|  0.1403361344537819| 0.27058823529411846|   2.765546218487396|-0.03613445378151248| 0.03613445378151248|-0.7285714285714278| 0.12184873949579966| -1.0|\n",
            "|  2021| 1199| 1276|     0|       04|  -4|    2|      -2|-0.10606060606060608| 2.6590909090909065|   4.943181818181813|-0.04417604665045...| 0.04924242424242425|0.30681818181818343|-0.00936223604917...| 1.7840909090909065|-0.46969696969696884| 0.6856060606060597|0.003334070144414...|    1.59090909090909|  1.1931818181818183|  1.3598484848484844|-0.03979508196721304|  2.742424242424242|  4.6893939393939394| 2.3257575757575744| -2.8106060606060588| -0.4848484848484844| 2.3143939393939403|-1.3030303030303045|  1.0113636363636367|-0.01868260361179...|-0.05755959566839...|-0.05828444111054...|-0.8674242424242422|               1.375|   2.992424242424242|  2.3446969696969697|  3.4696969696969706|   4.090909090909092|  0.8446969696969697| 0.19696969696969724| 0.3371212121212128| -1.0795454545454541|  3.0|\n",
            "|  2005| 1153| 1246|     0|       07|  -1|    2|       1|-0.05913978494623662| 2.6860215053763454|   2.519354838709681|-0.00488913229833...| 0.03118279569892473|-0.9516129032258078|-0.02022576497156...|0.49247311827956963|  0.8430107526881727|0.07956989247311874|0.009526592635885456|-0.30107526881720403|  0.4655913978494626|   4.509677419354841|0.029399613662501878|  5.600000000000001| 0.36774193548387046| 1.6870967741935488|   4.164516129032261|   5.851612903225806| 2.8150537634408614|-0.3612903225806434|  2.4537634408602216| -0.0934728381374722| 0.20775945812873453| 0.09006848360712838|-0.2666666666666675|-0.06881720430107485| -3.9161290322580653|  0.7709677419354843| 0.41827956989247284|  -3.843010752688171|  2.4376344086021504|  -1.239784946236559| 0.8774193548387075|  3.7602150537634422|  5.0|\n",
            "+------+-----+-----+------+---------+----+-----+--------+--------------------+-------------------+--------------------+--------------------+--------------------+-------------------+--------------------+-------------------+--------------------+-------------------+--------------------+--------------------+--------------------+--------------------+--------------------+-------------------+--------------------+-------------------+--------------------+--------------------+-------------------+-------------------+--------------------+--------------------+--------------------+--------------------+-------------------+--------------------+--------------------+--------------------+--------------------+--------------------+--------------------+--------------------+-------------------+--------------------+-----+\n",
            "only showing top 20 rows\n",
            "\n"
          ]
        }
      ]
    },
    {
      "cell_type": "code",
      "source": [
        "# Assemble all the features with VectorAssembler\n",
        "required_features = ['WinRatio',\n",
        " 'PointsPerGame',\n",
        " 'PointsAllowedPerGame',\n",
        " 'PointsRatio',\n",
        " 'OTsPerGame',\n",
        " 'FGPerGame',\n",
        " 'FGRatio',\n",
        " 'FGAPerGame',\n",
        " 'FGAllowedPerGame',\n",
        " 'FG3PerGame',\n",
        " 'FG3Ratio',\n",
        " 'FG3APerGame',\n",
        " 'FG3AllowedPerGame',\n",
        " 'FTPerGame',\n",
        " 'FTRatio',\n",
        " 'FTAPerGame',\n",
        " 'FTAllowedPerGame',\n",
        " 'ORPerGame',\n",
        " 'DRPerGame',\n",
        " 'TRPerGame',\n",
        " 'OppORPerGame',\n",
        " 'OppDRPerGame',\n",
        " 'OppTRPerGame',\n",
        " 'ORRatio',\n",
        " 'DRRatio',\n",
        " 'TRRatio',\n",
        " 'AstPerGame',\n",
        " 'OppAstPerGame',\n",
        " 'StlPerGame',\n",
        " 'OppStlPerGame',\n",
        " 'TOPerGame',\n",
        " 'OppTOPerGame',\n",
        " 'BlkPerGame',\n",
        " 'OppBlkPerGame',\n",
        " 'PFPerGame',\n",
        " 'OppPFPerGame',\n",
        " 'Seed']\n",
        "from pyspark.ml.feature import VectorAssembler\n",
        "assembler = VectorAssembler(inputCols=required_features, outputCol='features')\n",
        "transformed_data = assembler.transform(outscores)"
      ],
      "metadata": {
        "id": "uGvcb_qyxout"
      },
      "execution_count": 28,
      "outputs": []
    },
    {
      "cell_type": "code",
      "source": [
        "transformed_data.show()"
      ],
      "metadata": {
        "colab": {
          "base_uri": "https://localhost:8080/"
        },
        "id": "5pGmn1hu2nAN",
        "outputId": "9640a52c-5ba4-4689-87d1-b25e84e0bd88"
      },
      "execution_count": 29,
      "outputs": [
        {
          "output_type": "stream",
          "name": "stdout",
          "text": [
            "+------+-----+-----+------+---------+----+-----+--------+--------------------+-------------------+--------------------+--------------------+--------------------+-------------------+--------------------+-------------------+--------------------+-------------------+--------------------+--------------------+--------------------+--------------------+--------------------+-------------------+--------------------+-------------------+--------------------+--------------------+-------------------+-------------------+--------------------+--------------------+--------------------+--------------------+-------------------+--------------------+--------------------+--------------------+--------------------+--------------------+--------------------+--------------------+-------------------+--------------------+-----+--------------------+\n",
            "|Season|Team1|Team2|Result|Team1Seed|Wins|Loses|NumGames|            WinRatio|      PointsPerGame|PointsAllowedPerGame|         PointsRatio|          OTsPerGame|          FGPerGame|             FGRatio|         FGAPerGame|    FGAllowedPerGame|         FG3PerGame|            FG3Ratio|         FG3APerGame|   FG3AllowedPerGame|           FTPerGame|             FTRatio|         FTAPerGame|    FTAllowedPerGame|          ORPerGame|           DRPerGame|           TRPerGame|       OppORPerGame|       OppDRPerGame|        OppTRPerGame|             ORRatio|             DRRatio|             TRRatio|         AstPerGame|       OppAstPerGame|          StlPerGame|       OppStlPerGame|           TOPerGame|        OppTOPerGame|          BlkPerGame|       OppBlkPerGame|          PFPerGame|        OppPFPerGame| Seed|            features|\n",
            "+------+-----+-----+------+---------+----+-----+--------+--------------------+-------------------+--------------------+--------------------+--------------------+-------------------+--------------------+-------------------+--------------------+-------------------+--------------------+--------------------+--------------------+--------------------+--------------------+-------------------+--------------------+-------------------+--------------------+--------------------+-------------------+-------------------+--------------------+--------------------+--------------------+--------------------+-------------------+--------------------+--------------------+--------------------+--------------------+--------------------+--------------------+--------------------+-------------------+--------------------+-----+--------------------+\n",
            "|  2005| 1242| 1137|     0|       03|   1|   -3|      -2| 0.08342602892102335| 11.867630700778648|   6.789766407119018| 0.06869985858896999| 0.10567296996662959|  5.672969966629587|0.031530706530706554|   8.74082313681869|  2.5228031145717438|0.18020022246941014|-0.00304072838476...|   0.626251390433815|  0.2758620689655169| 0.34149054505005516|-0.00810870370926...| 0.7385984427141246|  1.4682981090100107| 2.4382647385984413|  3.5461624026696335|   5.984427141268078|   2.03225806451613| 1.1535038932146833|  3.1857619577308114|0.054220627242939634| 0.10606317847404445| 0.07968061371290713|  4.134593993325916| 0.20355951056729715| -1.3793103448275863| 0.07119021134594039| -1.2914349276974413| -1.7675194660734146|  0.8620689655172415|  0.3114571746384871| 0.3704115684093452|  0.8509454949944377|-11.0|[0.08342602892102...|\n",
            "|  2008| 1280| 1272|     0|       08| -11|    9|      -2|-0.28308823529411764|  -6.58272058823529|   4.444852941176471|-0.19097147938873027| 0.09558823529411764| -2.670955882352942|-0.00464305435039...| -5.170955882352942|   1.477941176470587|-0.9724264705882355|-0.01586171894597...| -1.8327205882352935|   2.115808823529412|-0.26838235294117574|0.048017607820320496| -2.196691176470587| -0.6268382352941178| -1.898897058823529|  1.9797794117647065| 0.08088235294117396| 2.8455882352941178| -0.735294117647058|   2.110294117647058| -0.3993693693693694| 0.12550984528832632|-0.06684659970797746| -2.810661764705884|   0.851102941176471| -2.7058823529411757|  0.8382352941176467|  3.0753676470588243| -3.8694852941176485|  1.8492647058823533|-0.01838235294117...|-0.8786764705882355| -0.3805147058823515|  7.0|[-0.2830882352941...|\n",
            "|  2009| 1320| 1345|     0|       12|  -2|    1|      -1|-0.03832442067736186|-1.6559714795008915|   4.427807486631018|-0.10780290251176172| 0.09358288770053476| -2.217468805704101|0.008872608872608878| -5.951871657754012|  1.1559714795008915|-0.3422459893048133|-0.00423457730388...| -0.7540106951871657|  1.6229946524064172|   3.121212121212121|0.051999811708587695|  2.865418894830661|  0.4928698752228158|-1.0098039215686274| 0.28966131907308323| -0.7201426024955424|-2.3556149732620337|-1.7495543672014264|  -4.105169340463458| 0.11378128274808619| 0.09930378732572431| 0.11011151306189204| -2.905525846702316| -0.1737967914438503| -2.9928698752228167| -0.4153297682709445|-0.04099821746880572|  -4.450980392156863| -2.3992869875222813| -0.7005347593582889| 0.7682709447415341|   2.313725490196081|  7.0|[-0.0383244206773...|\n",
            "|  2014| 1276| 1246|     0|       02|   1|   -2|      -1| 0.05169340463458105| -1.517825311942957| -1.2834224598930462|-8.56629271228870...|-0.02762923351158...|0.42959001782531203| 0.02454949018602154| -1.975935828877006|  1.1274509803921546| 3.3966131907308377| 0.06862356312722734|  5.8983957219251355|  0.2834224598930488|  -5.773618538324419| 0.07902853449071934|-10.696969696969695| -3.8217468805704105|-5.7985739750445635| -3.5606060606060623|  -9.359180035650624|-2.0204991087344037| 1.6978609625668426| -0.3226381461675558| -0.3423664283599137|-0.26726632628610414|-0.28796867671200754|  2.712121212121213|  1.5570409982174684|    0.35650623885918| -0.7344028520499108| -2.8119429590017813|-0.03030303030303...| -3.7201426024955437| -0.6024955436720143| -4.454545454545455|  -5.345811051693406| -6.0|[0.05169340463458...|\n",
            "|  2019| 1387| 1439|     0|       13|  -1|    4|       3|-0.09285714285714286| -6.942857142857136|  1.6491071428571402| -0.1397517300372637|            -0.03125|-1.8642857142857139|-0.05747605308713216|  2.986607142857146|  0.6660714285714278| -3.850892857142857|-0.08581278499255773|   -5.71517857142857| -2.3866071428571427|  0.6366071428571427|-0.16006802642386941|  5.625892857142858|   2.703571428571429|  4.922321428571429|   2.255357142857143|   7.177678571428572|-0.1374999999999993| 3.4571428571428555|    3.31964285714286|  0.5749250749250749|-0.06722852692478853| 0.10714977508985646|-2.3723214285714285| 0.04374999999999929|  0.4294642857142854|  0.8517857142857146|  1.3392857142857135| -1.1223214285714285|   1.744642857142857|  1.0080357142857141|  2.204464285714284|  2.5446428571428577|  9.0|[-0.0928571428571...|\n",
            "|  2003| 1181| 1161|     1|       03|   7|   -7|       0|  0.2333333333333334|  7.966666666666669| -2.2666666666666657| 0.14595061857103153| 0.03333333333333333| 0.9666666666666686|-0.05312669006691334|  8.233333333333334| -0.7666666666666657|  3.133333333333333|-0.00712533691465...|   9.033333333333335| -0.7000000000000002|  2.8999999999999986|0.008476677716582781| 3.8000000000000007|-0.03333333333333...|  2.966666666666667| -0.3666666666666636|  2.6000000000000014| 0.1999999999999993| 3.5666666666666664|  3.7666666666666693|  0.2284153005464481|-0.21015067406819998|-0.04463108610386679| -1.666666666666666| -0.8999999999999986|   3.166666666666667| -2.5999999999999996| -2.0999999999999996|                 5.6|  0.9000000000000004|  1.0333333333333328| 0.6999999999999993|  1.8999999999999986|-11.0|[0.23333333333333...|\n",
            "|  2003| 1443| 1228|     0|       13|  -1|    2|       1|-0.05806451612903...|-2.3365591397849528|   5.019354838709681|-0.12802167755870664| 0.03225806451612903|-1.3903225806451616|-0.02576694856537...| 0.1032258064516185|   3.956989247311828| 0.2763440860215054|-0.00203062414439...|  0.8655913978494603| -1.0870967741935482|  0.1677419354838694|-0.06043357830187168| 1.9967741935483865| -1.8075268817204293| 2.4279569892473134| -2.1419354838709666| 0.28602150537634685|0.22150537634408707|0.41290322580645267|  0.6344086021505362| 0.19677123026673926|-0.12199380456209519|-0.01223394597211...| -4.073118279569892|  0.9666666666666668| 0.06451612903225801|  0.2677419354838708|  1.9946236559139798|   0.908602150537634|  0.4483870967741934|0.048387096774193505| -0.681720430107525|  1.2193548387096769|  9.0|[-0.0580645161290...|\n",
            "|  2004| 1196| 1264|     0|       05|  -4|    5|       1|-0.16091954022988508|  2.621839080459779|   5.685057471264372|-0.05843151230556365| 0.06666666666666667| 2.5540229885057464|  0.0410772239870989| 0.5931034482758619|   2.241379310344829| 2.4413793103448267|0.011788219937999667|   5.944827586206898|   2.211494252873563|  -4.927586206896551|-0.00705202620658...| -6.303448275862067| -1.0091954022988503| -1.939080459770116|    2.24367816091954| 0.30459770114942586| 1.1758620689655181|-0.8999999999999986|   0.275862068965516|-0.24495364037087708| 0.15032660317837632| 5.71394201852593E-4| 5.4735632183908045|   3.293103448275861|  -2.914942528735633|  1.0919540229885056|   1.666666666666666|  -3.364367816091953|  -1.039080459770115| -1.1425287356321836|-1.4436781609195393| -2.2057471264367834| -7.0|[-0.1609195402298...|\n",
            "|  2004| 1329| 1386|     1|       02|  -1|    2|       1|-0.06773399014778325|0.42118226600985054|   2.396551724137929|-0.04084721827867...| 0.10344827586206896| 1.7179802955665053|0.034235544983564625|-0.4408866995073879|  0.7549261083743843| -4.922413793103448| -0.0284770612639465| -11.205665024630543|  0.6403940886699502|  1.9076354679802954|-0.00736767819336...| 2.9495073891625623| 0.24630541871921174| 1.7007389162561566|  0.9224137931034484|  2.6231527093596014|-1.9876847290640391| -3.346059113300491|  -5.333743842364534| 0.26690727717711205| 0.21836842748340324| 0.23645295396141364|-0.4667487684729039| 0.49507389162561566| -1.2807881773399012| -0.7142857142857144|  1.7339901477832527| -1.0197044334975391| 0.01477832512315258|  0.7105911330049262|  2.378078817733993|  2.3805418719211815|  1.0|[-0.0677339901477...|\n",
            "|  2006| 1196| 1206|     1|       03|   4|   -1|       3|0.051515151515151514|   9.87272727272726|   5.954545454545446| 0.04397003368163288|-0.03636363636363636| 1.9030303030303024|0.024368721246012026|  1.193939393939388|  2.3121212121212125|   1.46060606060606|0.042405511886441816|  1.8909090909090907| 0.18787878787878753|  4.6060606060606055| 0.06668092535576264| 4.6393939393939405|  1.1424242424242426| 0.5060606060606059|-0.16363636363636402| 0.34242424242424363| 0.9666666666666668|-1.1696969696969717|-0.20303030303030312|-0.02861218990251...| 0.06227082821332042|0.017553729066771995|  1.863636363636365|  0.3333333333333339|  0.7303030303030313|  0.8454545454545457|  1.6787878787878796|    2.33939393939394|  1.4060606060606062| -1.1333333333333333| 0.7212121212121207|   2.345454545454544| -8.0|[0.05151515151515...|\n",
            "|  2009| 1257| 1287|     1|       01|  11|  -10|       1|  0.3172348484848485|  4.595643939393938|  -7.081439393939391| 0.19064261343876976|-0.03219696969696...|  3.069128787878789|0.015583991036215383|  4.924242424242422| -1.0681818181818166| 2.9668560606060606|0.033124367388252196|   6.801136363636363|  -1.944128787878788|  -4.509469696969697|-0.08066838298498613| -4.097537878787879|  -3.000946969696969|-0.9867424242424239|  0.6117424242424256|              -0.375|  1.503787878787879| 2.8238636363636367|   4.327651515151516|-0.24855544627489556|-0.11655116655116671|   -0.16049505153652|  4.169507575757574|  -1.520833333333334|  2.8664772727272734|-0.05397727272727...|  -1.739583333333334|  4.0189393939393945|  2.2130681818181817| -0.5719696969696968|-2.0672348484848477| -2.3731060606060623|-15.0|[0.31723484848484...|\n",
            "|  2009| 1393| 1372|     1|       03|   5|    2|       7|-0.00544662309368...| 16.748366013071887|  14.837690631808272|0.004661091947872453| 0.18300653594771243|  5.434640522875817|  0.0537713155415393|  5.072984749455337|   7.442265795206971| 1.2973856209150325| 0.03441707293449131|  1.9749455337690627|   3.249455337690631|  4.5816993464052285|-0.02375420847681975|  7.769063180827885|  -3.296296296296296| 3.6982570806100217|  2.0087145969498934|   5.706971677559913|  5.333333333333334| -2.485838779956424|  2.8474945533769045|-0.08584629254000453| 0.19783973412112255|  0.0780120190462843|  5.732026143790849|   7.796296296296296|  1.9803921568627452|  2.4651416122004353|   3.250544662309368|  0.1383442265795214|   2.014161220043573|  0.5925925925925926| -2.730936819172115|  3.6459694989106737|-11.0|[-0.0054466230936...|\n",
            "|  2010| 1452| 1449|     1|       02|   3|   -3|       0| 0.09090909090909094| -6.818181818181813|  -6.151515151515149|0.003128434815183656| 0.12121212121212122|-2.6060606060606055| -0.0181654552102003| -3.424242424242422| -1.7272727272727302| 1.7575757575757578|0.010682069065486188|   4.727272727272728|  0.6666666666666661| -3.3636363636363633|-0.03130009401341...| -3.666666666666668| -3.3636363636363633| 2.0606060606060606|  -2.121212121212121|-0.06060606060605522|-1.1818181818181817|-1.4545454545454533| -2.6363636363636402| 0.33364716777280434|-0.02460496093780007| 0.09229481825159813| 1.6969696969696972|  0.5757575757575761|  -1.666666666666666| -0.1212121212121211| -1.0606060606060606|  -2.545454545454545| 0.06060606060606055| -0.5151515151515151|-3.2727272727272734|-0.45454545454545325| -9.0|[0.09090909090909...|\n",
            "|  2011| 1163| 1137|     1|       03|   1|    1|       2|-0.01471861471861...|  2.642424242424255|  2.9471861471861445|-0.00972596065148812| 0.14112554112554113| 1.4242424242424256|-0.01663551342718...|  5.390476190476193|  2.6476190476190453|-1.0502164502164506|-0.07077495243037535|   0.480519480519483|-0.04935064935064...|  0.8441558441558445|-0.03156012156092...| 1.9012987012987033|  -2.298701298701298|  6.277056277056277| -0.8268398268398265|   5.450216450216445|  2.858008658008659|-1.0995670995670999|   1.758441558441561|  0.3039138022799569|0.018143584135929647| 0.10345673225082574|-1.6129870129870127|  0.3324675324675326|  1.8709956709956712|  0.6865800865800873|  0.3792207792207787|  0.2034632034632029|  2.4467532467532473|  1.2848484848484847|-2.2138528138528137|  1.1939393939393952|-11.0|[-0.0147186147186...|\n",
            "|  2013| 1112| 1217|     1|       06|   7|   -2|       5| 0.11458333333333337|  4.355324074074076| -0.5347222222222285| 0.07739681914444474| -0.0798611111111111| 2.3275462962962976|-0.03292983239531888|  8.619212962962962| -0.9791666666666679| 1.2858796296296298|-0.03796943796943797|   5.204861111111111|  1.0057870370370372| -1.5856481481481488|0.024310247747747815|-2.8912037037037024|  0.4178240740740744|  4.383101851851852|   2.755787037037038|   7.138888888888889|-0.9293981481481488| 0.7719907407407405|-0.15740740740740833|  0.5464678955833231| 0.09123925993735926| 0.24097804531864986| 0.7696759259259256| -0.6273148148148149|-0.43287037037037024|-0.06597222222222232| -0.5729166666666661| 0.15162037037037024|-0.24189814814814792| 0.04166666666666652| 1.2326388888888893| -1.8657407407407405| -8.0|[0.11458333333333...|\n",
            "|  2015| 1374| 1417|     0|       06|   6|   -7|      -1| 0.20643939393939392|           -2.59375|  -8.311553030303031| 0.10386684055153683|-0.02935606060606...|-1.0710227272727266|0.041987593016668046| -7.300189393939391| -3.3248106060606055| -1.993371212121212|-0.00347517730496...|   -5.37215909090909|-0.00473484848484...|   1.541666666666666|0.028862690707350924|  1.319128787878789| -1.6571969696969688|-1.0842803030303028| -0.5104166666666679| -1.5946969696969688|0.40719696969696884| -4.967803030303031|  -4.560606060606062|-0.15173580331783554|  0.2515762925598992| 0.11828216418360582| 1.6534090909090917| -1.2878787878787872|-0.06723484848484862|  0.2897727272727275|  0.5587121212121211| 0.05018939393939448| 0.30397727272727293|  0.1657196969696968| -1.597537878787879|  0.7528409090909101| -5.0|[0.20643939393939...|\n",
            "|  2016| 1320| 1401|     0|       11|  -5|    4|      -1|-0.12834224598930477| -8.366310160427801| -2.6203208556149775|-0.08473863907597456| -0.0285204991087344|-3.2834224598930497|0.004926410752869204| -7.869875222816404| 0.24331550802138935|0.41443850267379734|0.021530724794825262| -0.1541889483065937| -0.4126559714795013|  -2.213903743315509|  0.0811918151877965| -5.327094474153299| -2.6942959001782523| -7.459893048128343| -1.7254901960784323|  -9.185383244206776|-1.9670231729055256| 1.2959001782531203| -0.6711229946524071| -0.5684588066304186| -0.1255552096926743|-0.24681748810485693| -5.033868092691623| -0.7593582887700538| -1.1238859180035652|-0.39215686274509753|  -2.097147950089127| -2.3244206773618554| -1.1283422459893049|  -0.773618538324421|-2.7549019607843146|  -1.020499108734402|  8.0|[-0.1283422459893...|\n",
            "|  2019| 1332| 1414|     1|       12|  -6|    7|       1|-0.19579831932773106|-1.9848739495798355| -0.6747899159663859|-0.01932198957878...| 0.02857142857142857|-1.6268907563025223|-0.00733984419974...|-2.6563025210083993| -0.5100840336134453| 0.8058823529411763|-0.01658727766053...|  3.2605042016806713|  0.8218487394957981| 0.46302521008403374|0.018767484893928654|0.20420168067226996| -0.4764705882352942|-1.9327731092436977| -3.6680672268907557|  -5.600840336134453|-0.6075630252100854|0.02857142857142847| -0.5789915966386587| -0.1287533273427035|-0.16081435271271105| -0.1500381802105939|0.10756302521008543|   2.503361344537815|  2.2714285714285714|  0.1403361344537819| 0.27058823529411846|   2.765546218487396|-0.03613445378151248| 0.03613445378151248|-0.7285714285714278| 0.12184873949579966| -1.0|[-0.1957983193277...|\n",
            "|  2021| 1199| 1276|     0|       04|  -4|    2|      -2|-0.10606060606060608| 2.6590909090909065|   4.943181818181813|-0.04417604665045...| 0.04924242424242425|0.30681818181818343|-0.00936223604917...| 1.7840909090909065|-0.46969696969696884| 0.6856060606060597|0.003334070144414...|    1.59090909090909|  1.1931818181818183|  1.3598484848484844|-0.03979508196721304|  2.742424242424242|  4.6893939393939394| 2.3257575757575744| -2.8106060606060588| -0.4848484848484844| 2.3143939393939403|-1.3030303030303045|  1.0113636363636367|-0.01868260361179...|-0.05755959566839...|-0.05828444111054...|-0.8674242424242422|               1.375|   2.992424242424242|  2.3446969696969697|  3.4696969696969706|   4.090909090909092|  0.8446969696969697| 0.19696969696969724| 0.3371212121212128| -1.0795454545454541|  3.0|[-0.1060606060606...|\n",
            "|  2005| 1153| 1246|     0|       07|  -1|    2|       1|-0.05913978494623662| 2.6860215053763454|   2.519354838709681|-0.00488913229833...| 0.03118279569892473|-0.9516129032258078|-0.02022576497156...|0.49247311827956963|  0.8430107526881727|0.07956989247311874|0.009526592635885456|-0.30107526881720403|  0.4655913978494626|   4.509677419354841|0.029399613662501878|  5.600000000000001| 0.36774193548387046| 1.6870967741935488|   4.164516129032261|   5.851612903225806| 2.8150537634408614|-0.3612903225806434|  2.4537634408602216| -0.0934728381374722| 0.20775945812873453| 0.09006848360712838|-0.2666666666666675|-0.06881720430107485| -3.9161290322580653|  0.7709677419354843| 0.41827956989247284|  -3.843010752688171|  2.4376344086021504|  -1.239784946236559| 0.8774193548387075|  3.7602150537634422|  5.0|[-0.0591397849462...|\n",
            "+------+-----+-----+------+---------+----+-----+--------+--------------------+-------------------+--------------------+--------------------+--------------------+-------------------+--------------------+-------------------+--------------------+-------------------+--------------------+--------------------+--------------------+--------------------+--------------------+-------------------+--------------------+-------------------+--------------------+--------------------+-------------------+-------------------+--------------------+--------------------+--------------------+--------------------+-------------------+--------------------+--------------------+--------------------+--------------------+--------------------+--------------------+--------------------+-------------------+--------------------+-----+--------------------+\n",
            "only showing top 20 rows\n",
            "\n"
          ]
        }
      ]
    },
    {
      "cell_type": "code",
      "source": [
        "(training_data, test_data) = transformed_data.randomSplit([0.8,0.2])"
      ],
      "metadata": {
        "id": "2HgrfXIt2ni3"
      },
      "execution_count": 30,
      "outputs": []
    },
    {
      "cell_type": "code",
      "source": [
        "from pyspark.ml.classification import LogisticRegression\n",
        "lr = LogisticRegression(featuresCol = 'features', labelCol='Result', maxIter=10, regParam=0.3, elasticNetParam=0.8)\n",
        "lrModel = lr.fit(training_data)\n",
        "print(\"Coefficients: \" + str(lrModel.coefficients))\n",
        "print(\"Intercept: \" + str(lrModel.intercept))"
      ],
      "metadata": {
        "colab": {
          "base_uri": "https://localhost:8080/"
        },
        "id": "Gkq1Tqbj2pyL",
        "outputId": "9149b33d-4c08-4bcb-dbaf-3b6ef25595e4"
      },
      "execution_count": 31,
      "outputs": [
        {
          "output_type": "stream",
          "name": "stdout",
          "text": [
            "Coefficients: (37,[],[])\n",
            "Intercept: -0.016278167359688487\n"
          ]
        }
      ]
    },
    {
      "cell_type": "code",
      "source": [
        "trainingSummary = lrModel.summary\n",
        "# Print the coefficients and intercept for multinomial logistic regression\n",
        "print(\"Coefficients: \\n\" + str(lrModel.coefficientMatrix))\n",
        "print(\"Intercept: \" + str(lrModel.interceptVector))\n",
        "\n",
        "trainingSummary = lrModel.summary\n",
        "\n",
        "# Obtain the objective per iteration\n",
        "objectiveHistory = trainingSummary.objectiveHistory\n",
        "print(\"objectiveHistory:\")\n",
        "for objective in objectiveHistory:\n",
        "    print(objective)\n",
        "\n",
        "# for multiclass, we can inspect metrics on a per-label basis\n",
        "print(\"False positive rate by label:\")\n",
        "for i, rate in enumerate(trainingSummary.falsePositiveRateByLabel):\n",
        "    print(\"label %d: %s\" % (i, rate))\n",
        "\n",
        "print(\"True positive rate by label:\")\n",
        "for i, rate in enumerate(trainingSummary.truePositiveRateByLabel):\n",
        "    print(\"label %d: %s\" % (i, rate))\n",
        "\n",
        "print(\"Precision by label:\")\n",
        "for i, prec in enumerate(trainingSummary.precisionByLabel):\n",
        "    print(\"label %d: %s\" % (i, prec))\n",
        "\n",
        "print(\"Recall by label:\")\n",
        "for i, rec in enumerate(trainingSummary.recallByLabel):\n",
        "    print(\"label %d: %s\" % (i, rec))\n",
        "\n",
        "print(\"F-measure by label:\")\n",
        "for i, f in enumerate(trainingSummary.fMeasureByLabel()):\n",
        "    print(\"label %d: %s\" % (i, f))\n",
        "\n",
        "accuracy = trainingSummary.accuracy\n",
        "falsePositiveRate = trainingSummary.weightedFalsePositiveRate\n",
        "truePositiveRate = trainingSummary.weightedTruePositiveRate\n",
        "fMeasure = trainingSummary.weightedFMeasure()\n",
        "precision = trainingSummary.weightedPrecision\n",
        "recall = trainingSummary.weightedRecall\n",
        "print(\"Accuracy: %s\\nFPR: %s\\nTPR: %s\\nF-measure: %s\\nPrecision: %s\\nRecall: %s\"\n",
        "      % (accuracy, falsePositiveRate, truePositiveRate, fMeasure, precision, recall))"
      ],
      "metadata": {
        "colab": {
          "base_uri": "https://localhost:8080/"
        },
        "id": "bKEp5JdYnLm5",
        "outputId": "3d12aebf-d86f-4ef0-fc8c-d942765cba39"
      },
      "execution_count": 32,
      "outputs": [
        {
          "output_type": "stream",
          "name": "stdout",
          "text": [
            "Coefficients: \n",
            "1 X 37 CSRMatrix\n",
            "\n",
            "Intercept: [-0.016278167359688487]\n",
            "objectiveHistory:\n",
            "0.6931140593154237\n",
            "False positive rate by label:\n",
            "label 0: 1.0\n",
            "label 1: 0.0\n",
            "True positive rate by label:\n",
            "label 0: 1.0\n",
            "label 1: 0.0\n",
            "Precision by label:\n",
            "label 0: 0.5040694519804666\n",
            "label 1: 0.0\n",
            "Recall by label:\n",
            "label 0: 1.0\n",
            "label 1: 0.0\n",
            "F-measure by label:\n",
            "label 0: 0.6702741702741702\n",
            "label 1: 0.0\n",
            "Accuracy: 0.5040694519804666\n",
            "FPR: 0.5040694519804666\n",
            "TPR: 0.5040694519804666\n",
            "F-measure: 0.337864733686763\n",
            "Precision: 0.25408601241988793\n",
            "Recall: 0.5040694519804666\n"
          ]
        }
      ]
    },
    {
      "cell_type": "markdown",
      "source": [
        "# Predict 2022 Season"
      ],
      "metadata": {
        "id": "uDdraHoNODz1"
      }
    },
    {
      "cell_type": "code",
      "source": [
        "outscores2022.show()"
      ],
      "metadata": {
        "colab": {
          "base_uri": "https://localhost:8080/"
        },
        "id": "w4wGb7vR65SB",
        "outputId": "1d0112be-65d7-4b80-d2e3-114c04788c4d"
      },
      "execution_count": 33,
      "outputs": [
        {
          "output_type": "stream",
          "name": "stdout",
          "text": [
            "+------+-----+-----+------+---------+----+-----+--------+--------------------+-------------------+--------------------+--------------------+--------------------+--------------------+--------------------+--------------------+-------------------+--------------------+--------------------+--------------------+--------------------+--------------------+--------------------+-------------------+-------------------+-------------------+--------------------+--------------------+--------------------+--------------------+-------------------+--------------------+--------------------+--------------------+-------------------+--------------------+--------------------+--------------------+-------------------+--------------------+--------------------+--------------------+-------------------+-------------------+-----+\n",
            "|Season|Team1|Team2|Result|Team1Seed|Wins|Loses|NumGames|            WinRatio|      PointsPerGame|PointsAllowedPerGame|         PointsRatio|          OTsPerGame|           FGPerGame|             FGRatio|          FGAPerGame|   FGAllowedPerGame|          FG3PerGame|            FG3Ratio|         FG3APerGame|   FG3AllowedPerGame|           FTPerGame|             FTRatio|         FTAPerGame|   FTAllowedPerGame|          ORPerGame|           DRPerGame|           TRPerGame|        OppORPerGame|        OppDRPerGame|       OppTRPerGame|             ORRatio|             DRRatio|             TRRatio|         AstPerGame|       OppAstPerGame|          StlPerGame|       OppStlPerGame|          TOPerGame|        OppTOPerGame|          BlkPerGame|       OppBlkPerGame|          PFPerGame|       OppPFPerGame| Seed|\n",
            "+------+-----+-----+------+---------+----+-----+--------+--------------------+-------------------+--------------------+--------------------+--------------------+--------------------+--------------------+--------------------+-------------------+--------------------+--------------------+--------------------+--------------------+--------------------+--------------------+-------------------+-------------------+-------------------+--------------------+--------------------+--------------------+--------------------+-------------------+--------------------+--------------------+--------------------+-------------------+--------------------+--------------------+--------------------+-------------------+--------------------+--------------------+--------------------+-------------------+-------------------+-----+\n",
            "|  2022| 1417| 1103|     1|       04|   3|   -2|       1| 0.07157258064516125|  7.084677419354833|  0.6512096774193594| 0.09845956036891423| 0.12399193548387097|   4.356854838709676|-0.00315059269938...|  10.032258064516128|-0.5211693548387082|  -0.834677419354839|-0.00365476190476...|  -2.146169354838708| 0.07157258064516103| -0.7943548387096779| 0.04453602209020169| -2.338709677419356|  1.621975806451612|  2.097782258064516|  0.5161290322580641|    2.61391129032258|  -0.826612903225806|   2.916330645161292|  2.089717741935484| 0.44843992485501927|-0.11850688597080317|0.009416240524463104|  2.421370967741936|   2.295362903225806|   1.516129032258065|  -0.823588709677419| -1.963709677419354|    2.16733870967742|   0.184475806451613|   1.150201612903226| 0.2822580645161299|-1.7510080645161281| -9.0|\n",
            "|  2022| 1240| 1120|     0|       15|  -8|    5|      -3|-0.18857758620689657|           -7.71875| -0.4105603448275872|-0.10862398471094137|-0.02155172413793...|  -2.868534482758619|0.020598558679660983|  -9.079741379310342|  1.450431034482758|  0.7715517241379306|0.062025177887246874|  -2.099137931034484|  1.9676724137931032| -2.7532327586206904|-0.04943302188315102| -2.576508620689655| -5.279094827586206|-2.3221982758620694| -0.2015086206896548| -2.5237068965517224| -0.7489224137931032| -1.1045258620689644|-1.8534482758620676|-0.17743034847064842|0.048827586206896534|-0.01424270495599...|-1.0140086206896548|  1.7650862068965516| -2.7467672413793105| -0.9202586206896548| 0.8265086206896548| -3.2909482758620694|            -4.84375| -1.2575431034482758| -4.117456896551724|-1.9353448275862064| 13.0|\n",
            "|  2022| 1261| 1235|     1|       06|   2|   -1|       1| 0.04166666666666663|  6.652462121212125|  0.5454545454545467| 0.09563194018666121|-0.00189393939393...|   1.621212121212121|0.001521029475733...|  3.4895833333333357|-0.9081439393939377|-0.17329545454545414|-0.00279111604957...|-0.36079545454545325|              1.3125|   3.583333333333334| 0.04830152213653072| 3.8570075757575744| 1.0492424242424239|  2.825757575757576|  2.2982954545454533|   5.124053030303031|   1.885416666666666|-0.31344696969696884| 1.5719696969696955| 0.09805995140436363| 0.11779609661315316| 0.11407019826567122|-1.9914772727272734| -0.1363636363636367|  2.6846590909090917|-0.27935606060606055| 0.9659090909090917|  1.1666666666666679|  1.3011363636363633|  -0.543560606060606| 1.3020833333333321|-0.6751893939393945| -5.0|\n",
            "|  2022| 1395| 1371|     0|       09|   0|    2|       2|-0.04166666666666663| -3.472916666666663| -1.2999999999999972|-0.03184074912016088|-0.00208333333333...| 0.11458333333333215|0.023955098377681783|   -3.02708333333333|0.33333333333333215|  -1.604166666666667|-0.03009653605905732|            -3.15625|-0.07916666666666661| -2.0979166666666664| -0.0878605340689449|-0.6937500000000014|-1.8874999999999993| 0.7395833333333339| -0.8520833333333329|-0.11249999999999716| -1.1687499999999993|  -3.241666666666667|  -4.41041666666667|   0.260813173179947| 0.13091546238293117| 0.16819705615391523|  3.591666666666667|  1.5666666666666664| -0.8187499999999996|  0.6312499999999996| 1.9020833333333336|-0.30625000000000036| -1.2479166666666668| -0.9562499999999998|-0.3874999999999993|-0.2645833333333343|  1.0|\n",
            "|  2022| 1403| 1439|     1|       03|   2|   -3|      -1| 0.07815126050420174| 0.9630252100840266| -1.9621848739495817| 0.05290862814737962|  0.0596638655462185|-0.08823529411764852|-9.11199652498362...|-0.08067226890756274|-2.4714285714285715| -3.0294117647058822|-0.07901694089818068|  -3.885714285714286|  1.3319327731092434|   4.168907563025211|-0.04424878436521...|  6.797478991596638| 1.6487394957983188| 1.6605042016806717|  1.7252100840336126|   3.385714285714286|  0.3554621848739501|  -1.442857142857143| -1.087394957983193| 0.17287708784903733| 0.16852168509338883| 0.16903591825469944|-0.8411764705882359| -0.5991596638655459|  2.8050420168067225|  0.7428571428571429|  2.659663865546218|  3.7478991596638647|  0.2705882352941176|-0.41092436974789903| 1.4336134453781515|  3.784033613445379| -8.0|\n",
            "|  2022| 1439| 1403|     0|       11|  -2|    3|       1|-0.07815126050420174|-0.9630252100840266|  1.9621848739495817|-0.05290862814737962| -0.0596638655462185| 0.08823529411764852|9.111996524983623E-4| 0.08067226890756274| 2.4714285714285715|  3.0294117647058822| 0.07901694089818068|   3.885714285714286| -1.3319327731092434|  -4.168907563025211|0.044248784365214955| -6.797478991596638|-1.6487394957983188|-1.6605042016806717| -1.7252100840336126|  -3.385714285714286| -0.3554621848739501|   1.442857142857143|  1.087394957983193|-0.17287708784903733|-0.16852168509338883|-0.16903591825469944| 0.8411764705882359|  0.5991596638655459| -2.8050420168067225| -0.7428571428571429| -2.659663865546218| -3.7478991596638647| -0.2705882352941176| 0.41092436974789903|-1.4336134453781515| -3.784033613445379|  8.0|\n",
            "|  2022| 1277| 1172|     1|       07|  -4|    6|       2| -0.1654411764705882| -2.536764705882348|   2.628676470588232|-0.08061563927485715|            -0.03125|            -0.15625|-0.02034743767659...|   2.099264705882355|  1.610294117647058| -1.4797794117647056|-0.00647964857890...|            -3.53125| -1.1268382352941178| -0.7444852941176467|-0.01076704511960...|-0.7371323529411775| 0.5349264705882355|            2.15625| 0.17463235294117752|   2.330882352941174|  1.5533088235294112|  -1.147058823529413|            0.40625| 0.08123599158211703| 0.06794077134986232|  0.0641619716575299| 1.4191176470588243|  0.7003676470588243|  1.1985294117647056|  1.4705882352941178| 3.2996323529411757| -0.5680147058823533|  2.4650735294117645|  1.0128676470588234| 2.0974264705882355| -1.060661764705884| -3.0|\n",
            "|  2022| 1276| 1161|     0|       11|  -7|    9|       2| -0.2791991101223582|-0.2091212458286975|   4.008898776418249|-0.06679719414270036|-0.06896551724137931|  0.7174638487208007|-0.01411809857996...|   3.181312569521687| 2.1357063403781957| -1.2658509454949947|-0.01737229123725...|  -2.635150166852057|  -1.621802002224693|-0.37819799777530605|-0.02819418127743...|0.12124582869855516|  1.359288097886541| 2.7764182424916575|0.036707452725252665|  2.8131256952169075| -0.5428253615127918| -1.5539488320355943| -2.096774193548388|  0.4676493066928703| 0.08002856741441478| 0.17570261112218455|0.09010011123470463| -1.1957730812013363|  -1.432703003337041|-0.22469410456062278| 1.5105672969966637| -1.6974416017797544|0.027808676307007563|  0.4972191323692994|  0.548387096774194| -1.476084538375975|  5.0|\n",
            "|  2022| 1116| 1436|     1|       04|  -2|    3|       1|-0.08617424242424243| 2.1893939393939377|   7.857954545454547|-0.10926187464771941|0.029356060606060608| -0.8011363636363633|-0.05403569421023047|   5.012310606060609| 1.1647727272727266| -2.4488636363636367| -0.0610968890073183|  -3.211174242424242| 0.33049242424242387|  6.2405303030303045|0.006462709996326144|  8.157196969696969|  5.197916666666666| 3.9157196969696972| -0.5776515151515156|    3.33806818181818|  2.1373106060606064|  2.1032196969696955| 4.2405303030303045| 0.21775754126351732|-0.13149888408141197|-0.05276342588348...|-0.9715909090909083|  3.0965909090909083|  2.5085227272727275|   1.972537878787879| 2.8077651515151523|   3.919507575757576|  1.7755681818181817|  0.6723484848484849| 2.8797348484848477|  3.694128787878789| -9.0|\n",
            "|  2022| 1314| 1266|     1|       08|   5|   -3|       2| 0.11436950146627567|  3.128054740957964|  0.8563049853372462|0.031079751375834297|-0.00391006842619...|  0.7008797653958965|-4.81429127486499E-4|  1.6109481915933515| 1.4555229716520017| -0.3401759530791786|0.014864804268866882| -1.9579667644183765|                 1.0|  2.0664711632453567| 0.02523074210458498|  2.155425219941348|-3.0547409579667644| 3.3030303030303028|   2.184750733137829|    5.48778103616813|  -4.499511241446726|  -1.949169110459433| -6.448680351906162|  0.9317327035773638| 0.17906206065474994|  0.3781044446662897|-1.1818181818181817| -1.0606060606060606| -2.4770283479960904| -0.4907135874877806|-0.7956989247311821|  -3.268817204301076| -1.2482893450635384| 0.08113391984359719|-3.0879765395894445| 1.1055718475073313| -1.0|\n",
            "|  2022| 1172| 1277|     0|       10|   4|   -6|      -2|  0.1654411764705882|  2.536764705882348|  -2.628676470588232| 0.08061563927485715|             0.03125|             0.15625|0.020347437676598967|  -2.099264705882355| -1.610294117647058|  1.4797794117647056|0.006479648578900...|             3.53125|  1.1268382352941178|  0.7444852941176467|0.010767045119607688| 0.7371323529411775|-0.5349264705882355|           -2.15625|-0.17463235294117752|  -2.330882352941174| -1.5533088235294112|   1.147058823529413|           -0.40625|-0.08123599158211703|-0.06794077134986232| -0.0641619716575299|-1.4191176470588243| -0.7003676470588243| -1.1985294117647056| -1.4705882352941178|-3.2996323529411757|  0.5680147058823533| -2.4650735294117645| -1.0128676470588234|-2.0974264705882355|  1.060661764705884|  3.0|\n",
            "|  2022| 1168| 1181|     0|       15|  -9|    4|      -5|-0.16835699797160242|-11.279918864097354|  -1.147058823529406|-0.15015577863917162|-0.02941176470588...|  -5.469574036511155|-0.04659606186530457|  -5.971602434077077|-1.9249492900608516| -2.6592292089249483|-0.03229509833283417|  -5.787018255578094|  0.7718052738336709|  2.3184584178498984| 0.03527094772021966| 2.2332657200811354|  1.931034482758621|-1.2048681541582145|  -4.358012170385397|   -5.56288032454361|  -1.426977687626776|  0.4746450304259646|-0.9523326572008095| 0.02983758764619182|-0.22646325382215093| -0.1498277100902492| -5.966531440162271|-0.41582150101419835| 0.42596348884381285|-0.37322515212981777|  1.536511156186613|   2.568965517241379| -3.5101419878296145| 0.05476673427991896| 2.5598377281947275|  3.471602434077081| 13.0|\n",
            "|  2022| 1411| 1242|     0|       16| -10|    6|      -4|-0.22352941176470587| -9.354901960784318|  -2.647058823529406| -0.0962179092249893|-0.05490196078431373|  -3.280392156862746| -0.0438825423163926| -1.5254901960784366| -1.988235294117647| -1.3803921568627455|   -0.03841334104492| -1.9176470588235297|-0.00980392156862...| -1.4137254901960787|-0.05304433904334...| -0.562745098039219| 1.3392156862745086| 0.6921568627450974|  0.1411764705882348|  0.8333333333333357|-0.43725490196078454|  0.7294117647058833| 0.2921568627450988|  0.1378970286885246|-0.03366058906030...|0.016267277213032116| -4.707843137254903| -1.0784313725490193| -0.8117647058823536|  1.1470588235294121| 2.0705882352941174| -0.5215686274509803|  0.8529411764705879| -0.6215686274509804| 1.8843137254901947| 0.5862745098039213| 15.0|\n",
            "|  2022| 1266| 1314|     0|       09|  -5|    3|      -2|-0.11436950146627567| -3.128054740957964| -0.8563049853372462|-0.03107975137583...|0.003910068426197455| -0.7008797653958965| 4.81429127486499E-4| -1.6109481915933515|-1.4555229716520017|  0.3401759530791786|-0.01486480426886...|  1.9579667644183765|                -1.0| -2.0664711632453567|-0.02523074210458498| -2.155425219941348| 3.0547409579667644|-3.3030303030303028|  -2.184750733137829|   -5.48778103616813|   4.499511241446726|   1.949169110459433|  6.448680351906162| -0.9317327035773638|-0.17906206065474994| -0.3781044446662897| 1.1818181818181817|  1.0606060606060606|  2.4770283479960904|  0.4907135874877806| 0.7956989247311821|   3.268817204301076|  1.2482893450635384|-0.08113391984359719| 3.0879765395894445|-1.1055718475073313|  1.0|\n",
            "|  2022| 1181| 1168|     1|       02|   9|   -4|       5| 0.16835699797160242| 11.279918864097354|   1.147058823529406| 0.15015577863917162|0.029411764705882353|   5.469574036511155| 0.04659606186530457|   5.971602434077077| 1.9249492900608516|  2.6592292089249483| 0.03229509833283417|   5.787018255578094| -0.7718052738336709| -2.3184584178498984|-0.03527094772021966|-2.2332657200811354| -1.931034482758621| 1.2048681541582145|   4.358012170385397|    5.56288032454361|   1.426977687626776| -0.4746450304259646| 0.9523326572008095|-0.02983758764619182| 0.22646325382215093|  0.1498277100902492|  5.966531440162271| 0.41582150101419835|-0.42596348884381285| 0.37322515212981777| -1.536511156186613|  -2.568965517241379|  3.5101419878296145|-0.05476673427991896|-2.5598377281947275| -3.471602434077081|-13.0|\n",
            "|  2022| 1436| 1116|     0|       13|   2|   -3|      -1| 0.08617424242424243|-2.1893939393939377|  -7.857954545454547| 0.10926187464771941|-0.02935606060606...|  0.8011363636363633| 0.05403569421023047|  -5.012310606060609|-1.1647727272727266|  2.4488636363636367|  0.0610968890073183|   3.211174242424242|-0.33049242424242387| -6.2405303030303045|-0.00646270999632...| -8.157196969696969| -5.197916666666666|-3.9157196969696972|  0.5776515151515156|   -3.33806818181818| -2.1373106060606064| -2.1032196969696955|-4.2405303030303045|-0.21775754126351732| 0.13149888408141197|0.052763425883489035| 0.9715909090909083| -3.0965909090909083| -2.5085227272727275|  -1.972537878787879|-2.8077651515151523|  -3.919507575757576| -1.7755681818181817| -0.6723484848484849|-2.8797348484848477| -3.694128787878789|  9.0|\n",
            "|  2022| 1344| 1355|     1|       04|  -3|    1|      -2|-0.04166666666666663|-13.731250000000003|             -7.5625|-0.07546633971800665| 0.13541666666666666|  -6.066666666666666|-0.08373832645036167|  -2.664583333333333|-3.1833333333333336| -1.5750000000000002|-0.09895662205477551|  1.2062500000000007| -2.4229166666666666|-0.02291666666666714|-0.03423660015879215|  0.939583333333335| 1.2270833333333329|  2.645833333333334| -1.6416666666666657|    1.00416666666667|  0.8312500000000007| 0.07083333333333286| 0.9020833333333336| 0.23580514526726137| -0.0779975425782451|3.117810346726646E-4|-1.2375000000000007| -0.7583333333333329| -0.6854166666666668|  1.3145833333333332|0.08750000000000036| -0.8062500000000004|  1.4541666666666666|  0.7145833333333331|0.21666666666666679| 0.2687500000000007| -9.0|\n",
            "|  2022| 1211| 1209|     1|       01|  11|   -7|       4| 0.29655172413793107| 19.507586206896562| -1.8951724137931052|   0.328001456602506|               -0.12|   9.011034482758618| 0.13593664502473873|  1.3227586206896618| 1.0193103448275878|  1.0993103448275852| 0.05580963743620332| -0.4220689655172407| -1.2303448275862072|  0.3862068965517249| 0.01514816141404296|0.14620689655172114| -2.703448275862069| -2.655172413793103|   8.005517241379309|  5.3503448275862056| -0.5834482758620698|  -2.686896551724139|-3.2703448275862073|-0.24040125236878973|  0.4779411764705882|  0.2903600464576075|  5.543448275862067| -3.3434482758620696|  -1.584827586206897|  0.1213793103448273| 0.3806896551724144| -2.9337931034482754|  1.4841379310344829| -0.7848275862068963| -1.146206896551723|  1.027586206896551|-15.0|\n",
            "|  2022| 1326| 1260|     1|       07|  -5|    4|      -1|-0.14086021505376345| 0.4451612903225737|   6.337634408602149|-0.10278857149790555|-0.06236559139784946|-0.13225806451612954|-0.00714919038344...|  0.5376344086021447|  2.273118279569889| -0.7709677419354843|-0.00656236474272...| -1.6548387096774206|   0.516129032258065|  1.4806451612903224| 0.04127925944050237| 1.0096774193548406| 1.2752688172043012| 0.9903225806451612| -0.4451612903225808|  0.5451612903225787|  1.7860215053763442| -0.7268817204301108|  1.059139784946236|-0.09928911803765328| 0.01954893182415396|-0.02256147912428763| -2.074193548387097|  2.3096774193548377| -2.2774193548387096| 0.29247311827956946| -0.913978494623656|  -3.084946236559139|   2.281720430107527| -0.8526881720430106| -1.052688172043009|0.00860215053763369| -3.0|\n",
            "|  2022| 1246| 1389|     1|       02|   8|   -4|       4| 0.16718913270637403| 13.282131661442008|  3.7586206896551744| 0.14069885457445275|-0.00417972831765...|   7.217345872518287| 0.05914511224245733|   8.236154649947757| 4.0449320794148385|  0.3928944618599788|0.001480923694779146|    1.05433646812957|  0.8641588296760707|  -1.545454545454545| 0.04536346182070872| -3.387669801462902| -5.195402298850576| 2.3249738766980155|  1.2779519331243456|  3.6029258098223593|-0.10553814002089812|   -2.49216300940439| -2.597701149425287| 0.32608378338928623|  0.2009249937372677| 0.23747279471118965|   4.12539184952978|  0.7554858934169282|-0.49216300940438895| -1.0083594566353185| -2.016718913270637| -1.6353187042842219|  -0.714733542319749|  -2.090909090909091| -5.378265412748171| -2.423197492163011|-13.0|\n",
            "+------+-----+-----+------+---------+----+-----+--------+--------------------+-------------------+--------------------+--------------------+--------------------+--------------------+--------------------+--------------------+-------------------+--------------------+--------------------+--------------------+--------------------+--------------------+--------------------+-------------------+-------------------+-------------------+--------------------+--------------------+--------------------+--------------------+-------------------+--------------------+--------------------+--------------------+-------------------+--------------------+--------------------+--------------------+-------------------+--------------------+--------------------+--------------------+-------------------+-------------------+-----+\n",
            "only showing top 20 rows\n",
            "\n"
          ]
        }
      ]
    },
    {
      "cell_type": "code",
      "source": [
        "from pyspark.ml.feature import VectorAssembler\n",
        "assembler = VectorAssembler(inputCols=required_features, outputCol='features')\n",
        "test_data = assembler.transform(outscores2022)\n",
        "predictions = lrModel.transform(test_data)\n",
        "predictions.select(\"prediction\",\"features\").show()"
      ],
      "metadata": {
        "id": "AatTvfK5lmuH",
        "outputId": "009b7b20-b260-4f59-87ee-63d25fa806d6",
        "colab": {
          "base_uri": "https://localhost:8080/"
        }
      },
      "execution_count": 34,
      "outputs": [
        {
          "output_type": "stream",
          "name": "stdout",
          "text": [
            "+----------+--------------------+\n",
            "|prediction|            features|\n",
            "+----------+--------------------+\n",
            "|       0.0|[0.07157258064516...|\n",
            "|       0.0|[-0.1885775862068...|\n",
            "|       0.0|[0.04166666666666...|\n",
            "|       0.0|[-0.0416666666666...|\n",
            "|       0.0|[0.07815126050420...|\n",
            "|       0.0|[-0.0781512605042...|\n",
            "|       0.0|[-0.1654411764705...|\n",
            "|       0.0|[-0.2791991101223...|\n",
            "|       0.0|[-0.0861742424242...|\n",
            "|       0.0|[0.11436950146627...|\n",
            "|       0.0|[0.16544117647058...|\n",
            "|       0.0|[-0.1683569979716...|\n",
            "|       0.0|[-0.2235294117647...|\n",
            "|       0.0|[-0.1143695014662...|\n",
            "|       0.0|[0.16835699797160...|\n",
            "|       0.0|[0.08617424242424...|\n",
            "|       0.0|[-0.0416666666666...|\n",
            "|       0.0|[0.29655172413793...|\n",
            "|       0.0|[-0.1408602150537...|\n",
            "|       0.0|[0.16718913270637...|\n",
            "+----------+--------------------+\n",
            "only showing top 20 rows\n",
            "\n"
          ]
        }
      ]
    },
    {
      "cell_type": "code",
      "source": [
        "predictions.select(\"prediction\",\"features\").show(64)"
      ],
      "metadata": {
        "id": "2o8bULaLoL3m",
        "outputId": "225bc299-96b9-4d9d-f278-f006d50681d6",
        "colab": {
          "base_uri": "https://localhost:8080/"
        }
      },
      "execution_count": 35,
      "outputs": [
        {
          "output_type": "stream",
          "name": "stdout",
          "text": [
            "+----------+--------------------+\n",
            "|prediction|            features|\n",
            "+----------+--------------------+\n",
            "|       0.0|[0.07157258064516...|\n",
            "|       0.0|[-0.1885775862068...|\n",
            "|       0.0|[0.04166666666666...|\n",
            "|       0.0|[-0.0416666666666...|\n",
            "|       0.0|[0.07815126050420...|\n",
            "|       0.0|[-0.0781512605042...|\n",
            "|       0.0|[-0.1654411764705...|\n",
            "|       0.0|[-0.2791991101223...|\n",
            "|       0.0|[-0.0861742424242...|\n",
            "|       0.0|[0.11436950146627...|\n",
            "|       0.0|[0.16544117647058...|\n",
            "|       0.0|[-0.1683569979716...|\n",
            "|       0.0|[-0.2235294117647...|\n",
            "|       0.0|[-0.1143695014662...|\n",
            "|       0.0|[0.16835699797160...|\n",
            "|       0.0|[0.08617424242424...|\n",
            "|       0.0|[-0.0416666666666...|\n",
            "|       0.0|[0.29655172413793...|\n",
            "|       0.0|[-0.1408602150537...|\n",
            "|       0.0|[0.16718913270637...|\n",
            "|       0.0|[0.10752688172043...|\n",
            "|       0.0|[-0.2965517241379...|\n",
            "|       0.0|[-0.0909090909090...|\n",
            "|       0.0|[0.03472222222222...|\n",
            "|       0.0|[0.18857758620689...|\n",
            "|       0.0|[0.14086021505376...|\n",
            "|       0.0|[-0.1671891327063...|\n",
            "|       0.0|[0.27919911012235...|\n",
            "|       0.0|[0.07157258064516...|\n",
            "|       0.0|[-0.0752688172043...|\n",
            "|       0.0|[-0.1515151515151...|\n",
            "|       0.0|[-0.3057040998217...|\n",
            "|       0.0|[-0.0021645021645...|\n",
            "|       0.0|[0.17342799188640...|\n",
            "|       0.0|[0.16813294232649...|\n",
            "|       0.0|[-0.1075268817204...|\n",
            "|       0.0|[-0.0716911764705...|\n",
            "|       0.0|[-0.0416666666666...|\n",
            "|       0.0|[0.07435344827586...|\n",
            "|       0.0|[0.09090909090909...|\n",
            "|       0.0|[-0.0347222222222...|\n",
            "|       0.0|[0.15151515151515...|\n",
            "|       0.0|[-0.1104594330400...|\n",
            "|       0.0|[-0.0715725806451...|\n",
            "|       0.0|[0.07169117647058...|\n",
            "|       0.0|[-0.0743534482758...|\n",
            "|       0.0|[0.08571428571428...|\n",
            "|       0.0|[0.04166666666666...|\n",
            "|       0.0|[-0.1681329423264...|\n",
            "|       0.0|[-0.1734279918864...|\n",
            "|       0.0|[0.11045943304007...|\n",
            "|       0.0|[0.07526881720430...|\n",
            "|       0.0|[0.22352941176470...|\n",
            "|       0.0|[-0.0459558823529...|\n",
            "|       0.0|[0.30570409982174...|\n",
            "|       0.0|[-0.0857142857142...|\n",
            "|       0.0|[0.04166666666666...|\n",
            "|       0.0|[0.04595588235294...|\n",
            "|       0.0|[0.21228448275862...|\n",
            "|       0.0|[0.08366935483870...|\n",
            "|       0.0|[-0.2122844827586...|\n",
            "|       0.0|[0.00216450216450...|\n",
            "|       0.0|[-0.0836693548387...|\n",
            "|       0.0|[-0.0715725806451...|\n",
            "+----------+--------------------+\n",
            "\n"
          ]
        }
      ]
    },
    {
      "cell_type": "markdown",
      "source": [
        "# TO DO\n",
        "\n",
        "1.   Get 2022 seeds\n",
        "2.   Break off 2022\n",
        "3.   Make Model\n",
        "\n"
      ],
      "metadata": {
        "id": "ktQUUrrUzE3S"
      }
    }
  ],
  "metadata": {
    "colab": {
      "name": "FinalProject.ipynb",
      "provenance": [],
      "collapsed_sections": [
        "VMwv7b_M6nxw",
        "JttbqUXL_gYp"
      ],
      "authorship_tag": "ABX9TyPFnuHEGj56mx/zRlPZPBpI",
      "include_colab_link": true
    },
    "kernelspec": {
      "display_name": "Python 3",
      "name": "python3"
    },
    "language_info": {
      "name": "python"
    }
  },
  "nbformat": 4,
  "nbformat_minor": 0
}