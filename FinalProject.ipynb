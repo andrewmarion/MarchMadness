{
  "cells": [
    {
      "cell_type": "markdown",
      "metadata": {
        "id": "view-in-github",
        "colab_type": "text"
      },
      "source": [
        "<a href=\"https://colab.research.google.com/github/andrewmarion/MarchMadness/blob/main/FinalProject.ipynb\" target=\"_parent\"><img src=\"https://colab.research.google.com/assets/colab-badge.svg\" alt=\"Open In Colab\"/></a>"
      ]
    },
    {
      "cell_type": "markdown",
      "metadata": {
        "id": "_r8xWz3M_ZR1"
      },
      "source": [
        "# March Madness\n",
        "## Final Project\n",
        "### Group 15: Andrew Marion, Dallas Hutchinson, Aydan Koyles\n"
      ]
    },
    {
      "cell_type": "markdown",
      "metadata": {
        "id": "VMwv7b_M6nxw"
      },
      "source": [
        "# Setting Up File"
      ]
    },
    {
      "cell_type": "code",
      "execution_count": 1,
      "metadata": {
        "id": "XFeSHdrg4QCK"
      },
      "outputs": [],
      "source": [
        "!apt-get install openjdk-8-jdk-headless -qq > /dev/null\n",
        "!wget -q https://archive.apache.org/dist/spark/spark-3.2.0/spark-3.2.0-bin-hadoop3.2.tgz\n",
        "!tar xf spark-3.2.0-bin-hadoop3.2.tgz\n",
        "!pip install -q findspark"
      ]
    },
    {
      "cell_type": "code",
      "execution_count": 2,
      "metadata": {
        "id": "Iyz-0-no4f6U",
        "colab": {
          "base_uri": "https://localhost:8080/"
        },
        "outputId": "47d39920-249a-4183-a2d2-7cd743fb9d06"
      },
      "outputs": [
        {
          "output_type": "stream",
          "name": "stdout",
          "text": [
            "Mounted at /content/gdrive\n"
          ]
        }
      ],
      "source": [
        "from google.colab import drive\n",
        "\n",
        "drive.mount('/content/gdrive')"
      ]
    },
    {
      "cell_type": "code",
      "execution_count": 3,
      "metadata": {
        "id": "Sf6DkghV4ikT"
      },
      "outputs": [],
      "source": [
        "import os\n",
        "os.environ[\"JAVA_HOME\"] = \"/usr/lib/jvm/java-8-openjdk-amd64\"\n",
        "os.environ[\"SPARK_HOME\"] = \"spark-3.2.0-bin-hadoop3.2\""
      ]
    },
    {
      "cell_type": "code",
      "execution_count": 4,
      "metadata": {
        "id": "nBXgfIgm4kBS"
      },
      "outputs": [],
      "source": [
        "import findspark\n",
        "findspark.init()"
      ]
    },
    {
      "cell_type": "code",
      "execution_count": 5,
      "metadata": {
        "id": "gHPsL6db5j-7",
        "colab": {
          "base_uri": "https://localhost:8080/",
          "height": 196
        },
        "outputId": "a120a4c7-8a26-4212-d6c9-5f415eec4ff2"
      },
      "outputs": [
        {
          "output_type": "execute_result",
          "data": {
            "text/plain": [
              "<SparkContext master=local[*] appName=pyspark-shell>"
            ],
            "text/html": [
              "\n",
              "        <div>\n",
              "            <p><b>SparkContext</b></p>\n",
              "\n",
              "            <p><a href=\"http://3a71db8e7d2a:4040\">Spark UI</a></p>\n",
              "\n",
              "            <dl>\n",
              "              <dt>Version</dt>\n",
              "                <dd><code>v3.2.0</code></dd>\n",
              "              <dt>Master</dt>\n",
              "                <dd><code>local[*]</code></dd>\n",
              "              <dt>AppName</dt>\n",
              "                <dd><code>pyspark-shell</code></dd>\n",
              "            </dl>\n",
              "        </div>\n",
              "        "
            ]
          },
          "metadata": {},
          "execution_count": 5
        }
      ],
      "source": [
        "from pyspark.sql import SparkSession\n",
        "spark = SparkSession.builder.master(\"local[*]\").getOrCreate()\n",
        "sc = spark.sparkContext\n",
        "sc"
      ]
    },
    {
      "cell_type": "markdown",
      "metadata": {
        "id": "JttbqUXL_gYp"
      },
      "source": [
        "# Imports"
      ]
    },
    {
      "cell_type": "code",
      "execution_count": 6,
      "metadata": {
        "id": "iAcoi-tS5m_s"
      },
      "outputs": [],
      "source": [
        "import json\n",
        "from pyspark.mllib.classification import LogisticRegressionModel,LogisticRegressionWithLBFGS, SVMWithSGD, SVMModel\n",
        "from pyspark.mllib.regression import LabeledPoint, LinearRegressionWithSGD, LinearRegressionModel\n",
        "from pyspark.mllib.clustering import *\n",
        "import pyspark.sql\n",
        "from pyspark.sql import Row\n",
        "from pyspark.sql.types import *\n",
        "from pyspark.sql import SparkSession\n",
        "from pyspark.mllib.stat import Statistics\n",
        "from pyspark.ml.linalg import Vectors\n",
        "from pyspark.ml.stat import Correlation\n",
        "from pyspark.ml.clustering import LDA\n",
        "import numpy as np\n",
        "import pyspark.sql.functions as f\n",
        "from pyspark.sql.functions import lit"
      ]
    },
    {
      "cell_type": "markdown",
      "metadata": {
        "id": "6RwqudsixElg"
      },
      "source": [
        "# Read in csv file"
      ]
    },
    {
      "cell_type": "code",
      "execution_count": 7,
      "metadata": {
        "id": "nPFml9US6Vsk"
      },
      "outputs": [],
      "source": [
        "RegularSeason = spark.read.option(\"header\",True).csv(\"/content/gdrive/MyDrive/MDataFiles_Stage1/MRegularSeasonDetailedResults.csv\", inferSchema = True)\n",
        "Seeds = spark.read.option(\"header\",True).csv(\"/content/gdrive/MyDrive/MDataFiles_Stage1/MNCAATourneySeeds.csv\", inferSchema = True)\n",
        "Tourney = spark.read.option(\"header\",True).csv(\"/content/gdrive/MyDrive/MDataFiles_Stage1/MNCAATourneyDetailedResults.csv\", inferSchema = True)\n",
        "Massey = spark.read.option(\"header\",True).csv(\"/content/gdrive/MyDrive/MDataFiles_Stage1/MMasseyOrdinals_thruDay128.csv\", inferSchema = True)\n",
        "Conferences = spark.read.option(\"header\",True).csv(\"/content/gdrive/MyDrive/MDataFiles_Stage1/MNCAATourneySeeds.csv\", inferSchema = True)\n",
        "Coaches = spark.read.option(\"header\",True).csv(\"/content/gdrive/MyDrive/MDataFiles_Stage1/MTeamCoaches.csv\", inferSchema = True)\n",
        "TourneyCompact = spark.read.option(\"header\",True).csv(\"/content/gdrive/MyDrive/MDataFiles_Stage1/MNCAATourneyCompactResults.csv\", inferSchema = True)\n",
        "Teams = spark.read.option(\"header\",True).csv(\"/content/gdrive/MyDrive/MDataFiles_Stage1/MTeams.csv\", inferSchema = True)\n"
      ]
    },
    {
      "cell_type": "markdown",
      "metadata": {
        "id": "5nWnumC2_kTJ"
      },
      "source": [
        "# Clean / Explore Data"
      ]
    },
    {
      "cell_type": "markdown",
      "source": [
        "## Season Input"
      ],
      "metadata": {
        "id": "8hnp-xo1s9cO"
      }
    },
    {
      "cell_type": "code",
      "execution_count": 8,
      "metadata": {
        "id": "Th6pwnvVqQIu"
      },
      "outputs": [],
      "source": [
        "WinTeams = RegularSeason.groupBy('Season', 'WTeamID').sum('WScore','LScore','NumOT','WFGM','WFGA','WFGM3','WFGA3','WFTM','WFTA','WOR','WDR','WAst','WTO','WStl','WBlk','WPF','LFGM','LFGA','LFGM3','LFGA3','LFTM','LFTA','LOR','LDR','LAst','LTO','LStl','LBlk','LPF')\n",
        "LoseTeams = RegularSeason.groupBy('Season', 'LTeamID').sum('WScore','LScore','NumOT','WFGM','WFGA','WFGM3','WFGA3','WFTM','WFTA','WOR','WDR','WAst','WTO','WStl','WBlk','WPF','LFGM','LFGA','LFGM3','LFGA3','LFTM','LFTA','LOR','LDR','LAst','LTO','LStl','LBlk','LPF')"
      ]
    },
    {
      "cell_type": "code",
      "execution_count": 9,
      "metadata": {
        "id": "5RwYbtfmX9Kr"
      },
      "outputs": [],
      "source": [
        "NumWin = RegularSeason.groupBy('Season', 'WTeamID').count()\n",
        "NumWin = NumWin.withColumnRenamed(\"count\", \"Wins\")\n",
        "NumWin = NumWin.withColumnRenamed(\"WTeamID\", \"TeamID\")\n",
        "\n",
        "NumLose = RegularSeason.groupBy('Season', 'LTeamID').count()\n",
        "NumLose = NumLose.withColumnRenamed(\"count\", \"Loses\")\n",
        "NumLose = NumLose.withColumnRenamed(\"LTeamID\", \"TeamID\")\n",
        "\n",
        "merged_df = NumWin.join(NumLose, ['Season','TeamID'])\n",
        "merged_df = merged_df.withColumn('NumGames', merged_df.Wins + merged_df.Loses)"
      ]
    },
    {
      "cell_type": "code",
      "execution_count": 10,
      "metadata": {
        "id": "zQoWWIxE2vrS"
      },
      "outputs": [],
      "source": [
        "# Get all win stats for each team\n",
        "WinTeams = WinTeams.withColumnRenamed(\"WTeamID\", \"TeamID\")\n",
        "WinTeams = WinTeams.withColumnRenamed(\"sum(WScore)\", \"WPTS\")\n",
        "WinTeams = WinTeams.withColumnRenamed(\"sum(LScore)\", \"WOppPTS\")\n",
        "WinTeams = WinTeams.withColumnRenamed(\"sum(NumOT)\", \"WOTs\")\n",
        "WinTeams = WinTeams.withColumnRenamed(\"sum(WFGM)\", \"WFGM\")\n",
        "WinTeams = WinTeams.withColumnRenamed(\"sum(WFGA)\", \"WFGA\")\n",
        "WinTeams = WinTeams.withColumnRenamed(\"sum(WFGA3)\", \"WFGA3\")\n",
        "WinTeams = WinTeams.withColumnRenamed(\"sum(WFGM3)\", \"WFGM3\")\n",
        "WinTeams = WinTeams.withColumnRenamed(\"sum(WFTA)\", \"WFTA\")\n",
        "WinTeams = WinTeams.withColumnRenamed(\"sum(WFTM)\", \"WFTM\")\n",
        "WinTeams = WinTeams.withColumnRenamed(\"sum(WOR)\", \"WOR\")\n",
        "WinTeams = WinTeams.withColumnRenamed(\"sum(WDR)\", \"WDR\")\n",
        "WinTeams = WinTeams.withColumnRenamed(\"sum(WAst)\", \"WAST\")\n",
        "WinTeams = WinTeams.withColumnRenamed(\"sum(WTO)\", \"WTO\")\n",
        "WinTeams = WinTeams.withColumnRenamed(\"sum(WStl)\", \"WSTL\")\n",
        "WinTeams = WinTeams.withColumnRenamed(\"sum(WBlk)\", \"WBLK\")\n",
        "WinTeams = WinTeams.withColumnRenamed(\"sum(WPF)\", \"WPF\")\n",
        "WinTeams = WinTeams.withColumnRenamed(\"sum(LFGM)\", \"WOppFGM\")\n",
        "WinTeams = WinTeams.withColumnRenamed(\"sum(LFGA)\", \"WOppFGA\")\n",
        "WinTeams = WinTeams.withColumnRenamed(\"sum(LFGA3)\", \"WOppFGA3\")\n",
        "WinTeams = WinTeams.withColumnRenamed(\"sum(LFGM3)\", \"WOppFGM3\")\n",
        "WinTeams = WinTeams.withColumnRenamed(\"sum(LFTA)\", \"WOppFTA\")\n",
        "WinTeams = WinTeams.withColumnRenamed(\"sum(LFTM)\", \"WOppFTM\")\n",
        "WinTeams = WinTeams.withColumnRenamed(\"sum(LOR)\", \"WOppOR\")\n",
        "WinTeams = WinTeams.withColumnRenamed(\"sum(LDR)\", \"WOppDR\")\n",
        "WinTeams = WinTeams.withColumnRenamed(\"sum(LAst)\", \"WOppAST\")\n",
        "WinTeams = WinTeams.withColumnRenamed(\"sum(LTO)\", \"WOppTO\")\n",
        "WinTeams = WinTeams.withColumnRenamed(\"sum(LStl)\", \"WOppSTL\")\n",
        "WinTeams = WinTeams.withColumnRenamed(\"sum(LBlk)\", \"WOppBLK\")\n",
        "WinTeams = WinTeams.withColumnRenamed(\"sum(LPF)\", \"WOppPF\")"
      ]
    },
    {
      "cell_type": "code",
      "execution_count": 11,
      "metadata": {
        "id": "jiRv0yOyWcEq"
      },
      "outputs": [],
      "source": [
        "# Get all loss stats for each team\n",
        "LoseTeams = LoseTeams.withColumnRenamed(\"LTeamID\", \"TeamID\")\n",
        "LoseTeams = LoseTeams.withColumnRenamed(\"sum(WScore)\", \"LOppPTS\")\n",
        "LoseTeams = LoseTeams.withColumnRenamed(\"sum(LScore)\", \"LPTS\")\n",
        "LoseTeams = LoseTeams.withColumnRenamed(\"sum(NumOT)\", \"LOTs\")\n",
        "LoseTeams = LoseTeams.withColumnRenamed(\"sum(WFGM)\", \"LOppFGM\")\n",
        "LoseTeams = LoseTeams.withColumnRenamed(\"sum(WFGA)\", \"LOppFGA\")\n",
        "LoseTeams = LoseTeams.withColumnRenamed(\"sum(WFGA3)\", \"LOppFGA3\")\n",
        "LoseTeams = LoseTeams.withColumnRenamed(\"sum(WFGM3)\", \"LOppFGM3\")\n",
        "LoseTeams = LoseTeams.withColumnRenamed(\"sum(WFTA)\", \"LOppFTA\")\n",
        "LoseTeams = LoseTeams.withColumnRenamed(\"sum(WFTM)\", \"LOppFTM\")\n",
        "LoseTeams = LoseTeams.withColumnRenamed(\"sum(WOR)\", \"LOppOR\")\n",
        "LoseTeams = LoseTeams.withColumnRenamed(\"sum(WDR)\", \"LOppDR\")\n",
        "LoseTeams = LoseTeams.withColumnRenamed(\"sum(WAst)\", \"LOppAST\")\n",
        "LoseTeams = LoseTeams.withColumnRenamed(\"sum(WTO)\", \"LOppTO\")\n",
        "LoseTeams = LoseTeams.withColumnRenamed(\"sum(WStl)\", \"LOppSTL\")\n",
        "LoseTeams = LoseTeams.withColumnRenamed(\"sum(WBlk)\", \"LOppBLK\")\n",
        "LoseTeams = LoseTeams.withColumnRenamed(\"sum(WPF)\", \"LOppPF\")\n",
        "LoseTeams = LoseTeams.withColumnRenamed(\"sum(LFGM)\", \"LFGM\")\n",
        "LoseTeams = LoseTeams.withColumnRenamed(\"sum(LFGA)\", \"LFGA\")\n",
        "LoseTeams = LoseTeams.withColumnRenamed(\"sum(LFGA3)\", \"LFGA3\")\n",
        "LoseTeams = LoseTeams.withColumnRenamed(\"sum(LFGM3)\", \"LFGM3\")\n",
        "LoseTeams = LoseTeams.withColumnRenamed(\"sum(LFTA)\", \"LFTA\")\n",
        "LoseTeams = LoseTeams.withColumnRenamed(\"sum(LFTM)\", \"LFTM\")\n",
        "LoseTeams = LoseTeams.withColumnRenamed(\"sum(LOR)\", \"LOR\")\n",
        "LoseTeams = LoseTeams.withColumnRenamed(\"sum(LDR)\", \"LDR\")\n",
        "LoseTeams = LoseTeams.withColumnRenamed(\"sum(LAst)\", \"LAST\")\n",
        "LoseTeams = LoseTeams.withColumnRenamed(\"sum(LTO)\", \"LTO\")\n",
        "LoseTeams = LoseTeams.withColumnRenamed(\"sum(LStl)\", \"LSTL\")\n",
        "LoseTeams = LoseTeams.withColumnRenamed(\"sum(LBlk)\", \"LBLK\")\n",
        "LoseTeams = LoseTeams.withColumnRenamed(\"sum(LPF)\", \"LPF\")"
      ]
    },
    {
      "cell_type": "code",
      "source": [
        "#LoseTeams.filter(LoseTeams.Season == 2022).show()"
      ],
      "metadata": {
        "id": "nObPxnvvyvsW"
      },
      "execution_count": 12,
      "outputs": []
    },
    {
      "cell_type": "code",
      "source": [
        "# combine win teams and lose teams\n",
        "Season = WinTeams.join(LoseTeams, ['Season','TeamID'])"
      ],
      "metadata": {
        "id": "18Nr9TSh4udU"
      },
      "execution_count": 13,
      "outputs": []
    },
    {
      "cell_type": "code",
      "source": [
        "# Combine coluns\n",
        "Season = Season.withColumn(\"OppPTS\", Season.WOppPTS + Season.LOppPTS) \n",
        "Season = Season.withColumn(\"PTS\", Season.WPTS + Season.LPTS) \n",
        "Season = Season.withColumn(\"OTs\", Season.WOTs + Season.LOTs) \n",
        "Season = Season.withColumn(\"OppFGM\", Season.WOppFGM + Season.LOppFGM)\n",
        "Season = Season.withColumn(\"OppFGA\", Season.WOppFGA + Season.LOppFGA)\n",
        "Season = Season.withColumn(\"OppFGA3\", Season.WOppFGA3 + Season.LOppFGA3)\n",
        "Season = Season.withColumn(\"OppFGM3\", Season.WOppFGM3 + Season.LOppFGM3) \n",
        "Season = Season.withColumn(\"OppFTA\", Season.WOppFTA + Season.LOppFTA) \n",
        "Season = Season.withColumn(\"OppFTM\", Season.WOppFTM + Season.LOppFTM) \n",
        "Season = Season.withColumn(\"OppOR\", Season.WOppOR + Season.LOppOR) \n",
        "Season = Season.withColumn(\"OppDR\", Season.WOppDR + Season.LOppDR) \n",
        "Season = Season.withColumn(\"OppAST\", Season.WOppAST + Season.LOppAST) \n",
        "Season = Season.withColumn(\"OppTO\", Season.WOppTO + Season.LOppTO) \n",
        "Season = Season.withColumn(\"OppSTL\", Season.WOppSTL + Season.LOppSTL) \n",
        "Season = Season.withColumn(\"OppBLK\", Season.WOppBLK + Season.LOppBLK) \n",
        "Season = Season.withColumn(\"OppPF\", Season.WOppPF + Season.LOppPF) \n",
        "Season = Season.withColumn(\"FGM\", Season.WFGM + Season.LFGM) \n",
        "Season = Season.withColumn(\"FGA\", Season.WFGA + Season.LFGA) \n",
        "Season = Season.withColumn(\"FGA3\", Season.WFGA3 + Season.LFGA3) \n",
        "Season = Season.withColumn(\"FGM3\", Season.WFGM3 + Season.LFGM3) \n",
        "Season = Season.withColumn(\"FTA\", Season.WFTA + Season.LFTA) \n",
        "Season = Season.withColumn(\"FTM\", Season.WFTM + Season.LFTM) \n",
        "Season = Season.withColumn(\"OR\", Season.WOR + Season.LOR) \n",
        "Season = Season.withColumn(\"DR\", Season.WDR + Season.LDR) \n",
        "Season = Season.withColumn(\"AST\", Season.WAST + Season.LAST)\n",
        "Season = Season.withColumn(\"TO\", Season.WTO + Season.LTO) \n",
        "Season = Season.withColumn(\"STL\", Season.WSTL + Season.LSTL)\n",
        "Season = Season.withColumn(\"BLK\", Season.WBLK + Season.LBLK)\n",
        "Season = Season.withColumn(\"PF\", Season.WPF + Season.LPF)\n",
        "\n",
        "# Drop Unwanted Columns\n",
        "Season =  Season.drop(\"WPTS\",\"WOppPTS\",\"WOTs\",\"WFGM\",\"WFGA\",\"WFGM3\",\"WFGA3\",\"WFTM\",\"WFTA\",\"WOR\",\"WDR\",\"WAST\",\"WTO\",\"WSTL\",\"WBLK\",\"WPF\",\"WOppFGM\",\"WOppFGA\",\"WOppFGM3\",\"WOppFGA3\",\"WOppFTM\",\"WOppFTA\",\"WOppOR\",\"WOppDR\",\"WOppAST\",\"WOppTO\",\"WOppSTL\",\"WOppBLK\",\"WOppPF\",\"LOppPTS\",\"LPTS\",\"LOTs\",\"LOppFGM\",\"LOppFGA\",\"LOppFGM3\",\"LOppFGA3\",\"LOppFTM\",\"LOppFTA\",\"LOppOR\",\"LOppDR\",\"LOppAST\",\"LOppTO\",\"LOppSTL\",\"LOppBLK\",\"LOppPF\",\"LFGM\",\"LFGA\",\"LFGM3\",\"LFGA3\",\"LFTM\",\"LFTA\",\"LOR\",\"LDR\",\"LAST\",\"LTO\",\"LSTL\",\"LBLK\",\"LPF\")"
      ],
      "metadata": {
        "id": "vXpWsAaGx2md"
      },
      "execution_count": 14,
      "outputs": []
    },
    {
      "cell_type": "code",
      "source": [
        "# Combine merged and season\n",
        "Season_Stats = Season.join(merged_df, ['Season','TeamID'])"
      ],
      "metadata": {
        "id": "vaiJQYmdRj6U"
      },
      "execution_count": 15,
      "outputs": []
    },
    {
      "cell_type": "markdown",
      "source": [
        "Make season stats for input"
      ],
      "metadata": {
        "id": "Asy10tvTR_Hm"
      }
    },
    {
      "cell_type": "code",
      "source": [
        "#Wins, PPG, PPG Allowed, Points Ratio, OTs\n",
        "RegularSeasonInput = Season_Stats.withColumn(\"WinRatio\", Season_Stats.Wins /  Season_Stats.NumGames) \n",
        "RegularSeasonInput = RegularSeasonInput.withColumn(\"PointsPerGame\", Season_Stats.PTS /  Season_Stats.NumGames)\n",
        "RegularSeasonInput = RegularSeasonInput.withColumn(\"PointsAllowedPerGame\", Season_Stats.OppPTS /  Season_Stats.NumGames)\n",
        "RegularSeasonInput = RegularSeasonInput.withColumn(\"PointsRatio\", Season_Stats.PTS /  Season_Stats.OppPTS)\n",
        "RegularSeasonInput = RegularSeasonInput.withColumn(\"OTsPerGame\", Season_Stats.OTs /  Season_Stats.NumGames)\n",
        "#Field Goals\n",
        "RegularSeasonInput = RegularSeasonInput.withColumn(\"FGPerGame\", Season_Stats.FGM /  Season_Stats.NumGames)\n",
        "RegularSeasonInput = RegularSeasonInput.withColumn(\"FGRatio\", Season_Stats.FGM /  Season_Stats.FGA)\n",
        "RegularSeasonInput = RegularSeasonInput.withColumn(\"FGAPerGame\", Season_Stats.FGA /  Season_Stats.NumGames)\n",
        "RegularSeasonInput = RegularSeasonInput.withColumn(\"FGAllowedPerGame\", Season_Stats.OppFGM /  Season_Stats.NumGames)\n",
        "#Three Pointers\n",
        "RegularSeasonInput = RegularSeasonInput.withColumn(\"FG3PerGame\", Season_Stats.FGM3 /  Season_Stats.NumGames)\n",
        "RegularSeasonInput = RegularSeasonInput.withColumn(\"FG3Ratio\", Season_Stats.FGM3 /  Season_Stats.FGA3)\n",
        "RegularSeasonInput = RegularSeasonInput.withColumn(\"FG3APerGame\", Season_Stats.FGA3 /  Season_Stats.NumGames)\n",
        "RegularSeasonInput = RegularSeasonInput.withColumn(\"FG3AllowedPerGame\", Season_Stats.OppFGM3 /  Season_Stats.NumGames)\n",
        "#Free Throws\n",
        "RegularSeasonInput = RegularSeasonInput.withColumn(\"FTPerGame\", Season_Stats.FTM /  Season_Stats.NumGames)\n",
        "RegularSeasonInput = RegularSeasonInput.withColumn(\"FTRatio\", Season_Stats.FTM /  Season_Stats.FTA)\n",
        "RegularSeasonInput = RegularSeasonInput.withColumn(\"FTAPerGame\", Season_Stats.FTA /  Season_Stats.NumGames)\n",
        "RegularSeasonInput = RegularSeasonInput.withColumn(\"FTllowedPerGame\", Season_Stats.OppFTM /  Season_Stats.NumGames)\n",
        "#Rebounds\n",
        "RegularSeasonInput = RegularSeasonInput.withColumn(\"ORPerGame\", Season_Stats.OR /  Season_Stats.NumGames)\n",
        "RegularSeasonInput = RegularSeasonInput.withColumn(\"DRPerGame\", Season_Stats.DR /  Season_Stats.NumGames)\n",
        "RegularSeasonInput = RegularSeasonInput.withColumn(\"TRPerGame\", (Season_Stats.OR+ Season_Stats.DR) /  Season_Stats.NumGames)\n",
        "RegularSeasonInput = RegularSeasonInput.withColumn(\"OppORPerGame\", Season_Stats.OppOR /  Season_Stats.NumGames)\n",
        "RegularSeasonInput = RegularSeasonInput.withColumn(\"OppDRPerGame\", Season_Stats.OppDR /  Season_Stats.NumGames)\n",
        "RegularSeasonInput = RegularSeasonInput.withColumn(\"OppTRPerGame\", (Season_Stats.OppOR +  Season_Stats.OppDR) / Season_Stats.NumGames)\n",
        "RegularSeasonInput = RegularSeasonInput.withColumn(\"ORRatio\", Season_Stats.OR /  Season_Stats.OppOR)\n",
        "RegularSeasonInput = RegularSeasonInput.withColumn(\"DRRatio\", Season_Stats.DR /  Season_Stats.OppDR)\n",
        "RegularSeasonInput = RegularSeasonInput.withColumn(\"TRRatio\", (Season_Stats.OR +  Season_Stats.DR) / (Season_Stats.OppOR +  Season_Stats.OppDR))\n",
        "#Assists\n",
        "RegularSeasonInput = RegularSeasonInput.withColumn(\"AstPerGame\", Season_Stats.AST /  Season_Stats.NumGames)\n",
        "RegularSeasonInput = RegularSeasonInput.withColumn(\"OppAstPerGame\", Season_Stats.OppAST /  Season_Stats.NumGames)\n",
        "#Steals\n",
        "RegularSeasonInput = RegularSeasonInput.withColumn(\"StlPerGame\", Season_Stats.STL /  Season_Stats.NumGames)\n",
        "RegularSeasonInput = RegularSeasonInput.withColumn(\"OppStlPerGame\", Season_Stats.OppSTL /  Season_Stats.NumGames)\n",
        "#Turnovers\n",
        "RegularSeasonInput = RegularSeasonInput.withColumn(\"TOPerGame\", Season_Stats.TO / Season_Stats.NumGames)\n",
        "RegularSeasonInput = RegularSeasonInput.withColumn(\"OppTOPerGame\", Season_Stats.OppTO / Season_Stats.NumGames)\n",
        "#Blocks\n",
        "RegularSeasonInput = RegularSeasonInput.withColumn(\"BlkPerGame\", Season_Stats.BLK / Season_Stats.NumGames)\n",
        "RegularSeasonInput = RegularSeasonInput.withColumn(\"OppBlkPerGame\", Season_Stats.OppBLK /  Season_Stats.NumGames)\n",
        "#Personal Fouls\n",
        "RegularSeasonInput = RegularSeasonInput.withColumn(\"PFPerGame\", Season_Stats.PF /  Season_Stats.NumGames)\n",
        "RegularSeasonInput = RegularSeasonInput.withColumn(\"OppPFPerGame\", Season_Stats.OppPF /  Season_Stats.NumGames)\n",
        "\n",
        "#drop unwanted columns\n",
        "RegularSeasonInput =  RegularSeasonInput.drop(\"PTS\",\"OppPTS\",\"OTs\",\"FGM\",\"FGA\",\"FGM3\",\"FGA3\",\"FTM\",\"FTA\",\"OR\",\"DR\",\"AST\",\"TO\",\"STL\",\"BLK\",\"PF\",\"OppFGM\",\"OppFGA\",\"OppFGM3\",\"OppFGA3\",\"OppFTM\",\"OppFTA\",\"OppOR\",\"OppDR\",\"OppAST\",\"OppTO\",\"OppSTL\",\"OppBLK\",\"OppPF\")"
      ],
      "metadata": {
        "id": "s_W3B0bwSRv0"
      },
      "execution_count": 16,
      "outputs": []
    },
    {
      "cell_type": "code",
      "source": [
        "RegularSeasonInput.describe().show()"
      ],
      "metadata": {
        "id": "Eiy9OjE0dqpP",
        "colab": {
          "base_uri": "https://localhost:8080/"
        },
        "outputId": "c6cfa97a-672b-46d9-b7f8-7f6c665bb23e"
      },
      "execution_count": 17,
      "outputs": [
        {
          "output_type": "stream",
          "name": "stdout",
          "text": [
            "+-------+------------------+------------------+------------------+------------------+------------------+-------------------+-----------------+--------------------+------------------+-------------------+------------------+--------------------+------------------+------------------+------------------+-------------------+------------------+------------------+------------------+--------------------+------------------+------------------+------------------+------------------+------------------+------------------+------------------+------------------+-------------------+-------------------+-------------------+------------------+------------------+------------------+------------------+------------------+------------------+------------------+------------------+------------------+------------------+\n",
            "|summary|            Season|            TeamID|              Wins|             Loses|          NumGames|           WinRatio|    PointsPerGame|PointsAllowedPerGame|       PointsRatio|         OTsPerGame|         FGPerGame|             FGRatio|        FGAPerGame|  FGAllowedPerGame|        FG3PerGame|           FG3Ratio|       FG3APerGame| FG3AllowedPerGame|         FTPerGame|             FTRatio|        FTAPerGame|   FTllowedPerGame|         ORPerGame|         DRPerGame|         TRPerGame|      OppORPerGame|      OppDRPerGame|      OppTRPerGame|            ORRatio|            DRRatio|            TRRatio|        AstPerGame|     OppAstPerGame|        StlPerGame|     OppStlPerGame|         TOPerGame|      OppTOPerGame|        BlkPerGame|     OppBlkPerGame|         PFPerGame|      OppPFPerGame|\n",
            "+-------+------------------+------------------+------------------+------------------+------------------+-------------------+-----------------+--------------------+------------------+-------------------+------------------+--------------------+------------------+------------------+------------------+-------------------+------------------+------------------+------------------+--------------------+------------------+------------------+------------------+------------------+------------------+------------------+------------------+------------------+-------------------+-------------------+-------------------+------------------+------------------+------------------+------------------+------------------+------------------+------------------+------------------+------------------+------------------+\n",
            "|  count|              6881|              6881|              6881|              6881|              6881|               6881|             6881|                6881|              6881|               6881|              6881|                6881|              6881|              6881|              6881|               6881|              6881|              6881|              6881|                6881|              6881|              6881|              6881|              6881|              6881|              6881|              6881|              6881|               6881|               6881|               6881|              6881|              6881|              6881|              6881|              6881|              6881|              6881|              6881|              6881|              6881|\n",
            "|   mean|2012.6297049847406|1284.7616625490482|14.814561836942305|14.798866443830839|29.613428280773142|0.49435968831227195|69.47300261910236|   69.67512966533823|1.0012769271674036| 0.0686173474504341|24.432659064071814| 0.43603187065201177| 56.03234565621925|24.498936516415274| 6.679504451268201| 0.3430015182368481| 19.43036019198861| 6.690521260830329|13.928180039690528|  0.6971143331844069| 19.98698975376054|13.986735371677506|10.667950291519082| 23.68676350300138| 34.35471379452043| 10.68644489020965| 23.75038178032398| 34.43682667053358| 1.0090010696555713| 1.0044259940391658|  1.003253137626772| 13.03456176942973|13.089381044134234|  6.48769793204422|6.5076590799689855|13.538207337066325|13.510069067962275|  3.30694991420434|3.3284569629975818| 17.82432325857476|17.790219494798247|\n",
            "| stddev| 5.741759619852787|104.72223165728492| 6.156266670428836| 5.278131044177926|  2.88570351410977|0.18667880230726186|5.791842897855892|   5.525404956027591|0.0954161966244095|0.05983259268883152| 2.150961321093782|0.026267592494204475| 3.564392580165288| 2.202611462760954|1.3966210786950202|0.02869224440534713|3.5295589627896806| 1.109011944654921|2.1333465089699644|0.039197013133098264|2.8975906912424354| 2.202928201779684|1.9716648209446122|1.9951891435480278|2.9372696340366597|1.6197535466522748|2.1055253648345684| 2.816926090216573| 0.1858272686349919|0.11709363560647541|0.11019744520188535|1.8507837881197817|1.7573153910325834| 1.252294727864008| 1.029913423699906| 1.837217836548168| 1.888308970251051|  1.08515321757115|0.6337681454599025|3.4667327354246282| 3.338412480551074|\n",
            "|    min|              2003|              1101|                 1|                 1|                 4|            0.03125|            49.24|   50.42857142857143|0.6504530281354316|                0.0|             16.12| 0.34207240948813983|39.785714285714285|16.962962962962962|1.8387096774193548|0.24777183600713013| 6.064516129032258|3.1785714285714284|               7.0|  0.5424610051993067|10.346153846153847| 7.433333333333334|              3.56|15.357142857142858|             20.76| 5.181818181818182|15.733333333333333|23.566666666666666|0.39555555555555555| 0.6361767728674204| 0.6463262764632628| 7.612903225806452|               7.7|             2.875|3.3666666666666667| 7.387096774193548|           6.96875|0.6551724137931034|1.4516129032258065|               0.0|               0.0|\n",
            "|    max|              2022|              1472|                33|                31|                36| 0.9705882352941176|95.55172413793103|   98.20689655172414|1.3830525272547076|                0.4| 33.72727272727273|  0.5317976965448172| 78.62068965517241|              37.2|             13.25| 0.4506024096385542|              40.3| 11.62962962962963|21.484848484848484|  0.8256410256410256|           31.1875| 23.51851851851852| 17.25925925925926| 31.12121212121212| 46.13793103448276|16.807692307692307|34.666666666666664| 49.06896551724138| 1.8912280701754387|  1.524031007751938| 1.4413012729844412|21.484848484848484| 22.24137931034483|13.241379310344827|11.642857142857142|22.321428571428573|24.275862068965516| 9.333333333333334|               6.0|27.884615384615383| 25.17241379310345|\n",
            "+-------+------------------+------------------+------------------+------------------+------------------+-------------------+-----------------+--------------------+------------------+-------------------+------------------+--------------------+------------------+------------------+------------------+-------------------+------------------+------------------+------------------+--------------------+------------------+------------------+------------------+------------------+------------------+------------------+------------------+------------------+-------------------+-------------------+-------------------+------------------+------------------+------------------+------------------+------------------+------------------+------------------+------------------+------------------+------------------+\n",
            "\n"
          ]
        }
      ]
    },
    {
      "cell_type": "markdown",
      "source": [
        "## Tourney Input"
      ],
      "metadata": {
        "id": "ux-GHsxRs_9s"
      }
    },
    {
      "cell_type": "code",
      "source": [
        "Seeds = Seeds.withColumn('Seed', Seeds.Seed.substr(2,2))"
      ],
      "metadata": {
        "id": "lxIFqgpWtMkl"
      },
      "execution_count": 18,
      "outputs": []
    },
    {
      "cell_type": "code",
      "source": [
        "Winners = TourneyCompact.withColumnRenamed(\"WTeamID\",\"TeamID\")\n",
        "Winners =  Winners.drop(\"DayNum\",\"WScore\",\"WLoc\",\"NumOT\",\"LScore\")\n",
        "Winners = Winners.join(Seeds, ['Season','TeamID'])\n",
        "Winners = Winners.withColumnRenamed(\"Seed\",\"Team1Seed\")\n",
        "Winners = Winners.withColumnRenamed(\"TeamID\",\"Team1\")\n",
        "Winners = Winners.withColumnRenamed(\"LTeamID\",\"TeamID\")\n",
        "Winners = Winners.join(Seeds, ['Season','TeamID'])\n",
        "Winners = Winners.withColumnRenamed(\"TeamID\",\"Team2\")\n",
        "Winners = Winners.withColumnRenamed(\"Seed\",\"Team2Seed\")\n",
        "Winners = Winners.withColumn(\"Result\",lit(1))\n",
        "\n",
        "Losers = TourneyCompact.withColumnRenamed(\"LTeamID\",\"TeamID\")\n",
        "Losers = Losers.drop(\"DayNum\",\"WScore\",\"WLoc\",\"NumOT\",\"LScore\")\n",
        "Losers = Losers.join(Seeds, ['Season','TeamID'])\n",
        "Losers = Losers.withColumnRenamed(\"Seed\",\"Team1Seed\")\n",
        "Losers = Losers.withColumnRenamed(\"TeamID\",\"Team1\")\n",
        "Losers = Losers.withColumnRenamed(\"WTeamID\",\"TeamID\")\n",
        "Losers = Losers.join(Seeds, ['Season','TeamID'])\n",
        "Losers = Losers.withColumnRenamed(\"TeamID\",\"Team2\")\n",
        "Losers = Losers.withColumnRenamed(\"Seed\",\"Team2Seed\")\n",
        "Losers = Losers.withColumn(\"Result\",lit(0))\n"
      ],
      "metadata": {
        "id": "1BCEWQykio0h"
      },
      "execution_count": 19,
      "outputs": []
    },
    {
      "cell_type": "code",
      "source": [
        "TourneyInput = Winners.union(Losers)"
      ],
      "metadata": {
        "id": "ZFstBpXJm0i6"
      },
      "execution_count": 20,
      "outputs": []
    },
    {
      "cell_type": "code",
      "source": [
        "TourneyInput.filter(TourneyInput.Season == 2022).show()"
      ],
      "metadata": {
        "id": "iCwSm46MeqHg",
        "colab": {
          "base_uri": "https://localhost:8080/"
        },
        "outputId": "b08f6327-bdb8-4151-bb0e-15d2d6652466"
      },
      "execution_count": 21,
      "outputs": [
        {
          "output_type": "stream",
          "name": "stdout",
          "text": [
            "+------+-----+-----+---------+---------+------+\n",
            "|Season|Team2|Team1|Team1Seed|Team2Seed|Result|\n",
            "+------+-----+-----+---------+---------+------+\n",
            "|  2022| 1314| 1124|       01|       08|     1|\n",
            "|  2022| 1313| 1124|       01|       16|     1|\n",
            "|  2022| 1389| 1246|       02|       15|     1|\n",
            "|  2022| 1463| 1345|       03|       14|     1|\n",
            "|  2022| 1103| 1417|       04|       13|     1|\n",
            "|  2022| 1417| 1388|       05|       04|     1|\n",
            "|  2022| 1231| 1388|       05|       12|     1|\n",
            "|  2022| 1345| 1400|       06|       03|     1|\n",
            "|  2022| 1439| 1400|       06|       11|     1|\n",
            "|  2022| 1389| 1293|       07|       15|     1|\n",
            "|  2022| 1362| 1293|       07|       10|     1|\n",
            "|  2022| 1242| 1314|       08|       01|     1|\n",
            "|  2022| 1389| 1314|       08|       15|     1|\n",
            "|  2022| 1417| 1314|       08|       04|     1|\n",
            "|  2022| 1266| 1314|       08|       09|     1|\n",
            "|  2022| 1345| 1389|       15|       03|     1|\n",
            "|  2022| 1116| 1211|       01|       04|     1|\n",
            "|  2022| 1272| 1211|       01|       09|     1|\n",
            "|  2022| 1209| 1211|       01|       16|     1|\n",
            "|  2022| 1314| 1181|       02|       08|     1|\n",
            "+------+-----+-----+---------+---------+------+\n",
            "only showing top 20 rows\n",
            "\n"
          ]
        }
      ]
    },
    {
      "cell_type": "markdown",
      "source": [
        "# Make Final Input Dataframe"
      ],
      "metadata": {
        "id": "955iOH6cxjq4"
      }
    },
    {
      "cell_type": "code",
      "source": [
        "RegularSeasonInput.columns\n",
        "# Team 1\n",
        "outscores1 = RegularSeasonInput.withColumnRenamed('TeamID','Team1')\n",
        "outscores1 = outscores1.join(TourneyInput, ['Season','Team1'])\n",
        "outscores1 = outscores1.withColumnRenamed('Wins','Team1Wins')\n",
        "outscores1 = outscores1.withColumnRenamed('Loses','Team1Loses')\n",
        "outscores1 = outscores1.withColumnRenamed('NumGames','Team1NumGames')\n",
        "outscores1 = outscores1.withColumnRenamed('WinRatio','Team1WinRatio')\n",
        "outscores1 = outscores1.withColumnRenamed('PointsPerGame','Team1PointsPerGame')\n",
        "outscores1 = outscores1.withColumnRenamed('PointsAllowedPerGame','Team1PointsAllowedPerGame')\n",
        "outscores1 = outscores1.withColumnRenamed('PointsRatio','Team1PointsRatio')\n",
        "outscores1 = outscores1.withColumnRenamed('OTsPerGame','Team1OTsPerGame')\n",
        "outscores1 = outscores1.withColumnRenamed('FGPerGame','Team1FGPerGame')\n",
        "outscores1 = outscores1.withColumnRenamed('FGRatio','Team1FGRatio')\n",
        "outscores1 = outscores1.withColumnRenamed('FGAPerGame','Team1FGAPerGame')\n",
        "outscores1 = outscores1.withColumnRenamed('FGAllowedPerGame','Team1FGAllowedPerGame')\n",
        "outscores1 = outscores1.withColumnRenamed('FG3PerGame','Team1FG3PerGame')\n",
        "outscores1 = outscores1.withColumnRenamed('FG3Ratio','Team1FG3Ratio')\n",
        "outscores1 = outscores1.withColumnRenamed('FG3APerGame','Team1FG3APerGame')\n",
        "outscores1 = outscores1.withColumnRenamed('FG3AllowedPerGame','Team1FG3AllowedPerGame')\n",
        "outscores1 = outscores1.withColumnRenamed('FTPerGame','Team1FTPerGame')\n",
        "outscores1 = outscores1.withColumnRenamed('FTRatio','Team1FTRatio')\n",
        "outscores1 = outscores1.withColumnRenamed('FTAPerGame','Team1FTAPerGame')\n",
        "outscores1 = outscores1.withColumnRenamed('FTllowedPerGame','Team1FTAllowedPerGame')\n",
        "outscores1 = outscores1.withColumnRenamed('ORPerGame','Team1ORPerGame')\n",
        "outscores1 = outscores1.withColumnRenamed('DRPerGame','Team1DRPerGame')\n",
        "outscores1 = outscores1.withColumnRenamed('TRPerGame','Team1TRPerGame')\n",
        "outscores1 = outscores1.withColumnRenamed('OppORPerGame','Team1OppORPerGame')\n",
        "outscores1 = outscores1.withColumnRenamed('OppDRPerGame','Team1OppDRPerGame')\n",
        "outscores1 = outscores1.withColumnRenamed('OppTRPerGame','Team1OppTRPerGame')\n",
        "outscores1 = outscores1.withColumnRenamed('ORRatio','Team1ORRatio')\n",
        "outscores1 = outscores1.withColumnRenamed('DRRatio','Team1DRRatio')\n",
        "outscores1 = outscores1.withColumnRenamed('TRRatio','Team1TRRatio')\n",
        "outscores1 = outscores1.withColumnRenamed('AstPerGame','Team1AstPerGame')\n",
        "outscores1 = outscores1.withColumnRenamed('OppAstPerGame','Team1OppAstPerGame')\n",
        "outscores1 = outscores1.withColumnRenamed('StlPerGame','Team1StlPerGame')\n",
        "outscores1 = outscores1.withColumnRenamed('OppStlPerGame','Team1OppStlPerGame')\n",
        "outscores1 = outscores1.withColumnRenamed('TOPerGame','Team1TOPerGame')\n",
        "outscores1 = outscores1.withColumnRenamed('OppTOPerGame','Team1OppTOPerGame')\n",
        "outscores1 = outscores1.withColumnRenamed('BlkPerGame','Team1BlkPerGame')\n",
        "outscores1 = outscores1.withColumnRenamed('OppBlkPerGame','Team1OppBlkPerGame')\n",
        "outscores1 = outscores1.withColumnRenamed('PFPerGame','Team1PFPerGame')\n",
        "outscores1 = outscores1.withColumnRenamed('OppPFPerGame','Team1OppPFPerGame')"
      ],
      "metadata": {
        "id": "GNu-LUQd7LzU"
      },
      "execution_count": 22,
      "outputs": []
    },
    {
      "cell_type": "code",
      "source": [
        "outscores2 = RegularSeasonInput.withColumnRenamed('TeamID','Team2')\n",
        "outscores2 = outscores2.join(TourneyInput, ['Season','Team2'])\n",
        "\n",
        "#rename columns\n",
        "outscores2 = outscores2.withColumnRenamed('Wins','Team2Wins')\n",
        "outscores2 = outscores2.withColumnRenamed('Loses','Team2Loses')\n",
        "outscores2 = outscores2.withColumnRenamed('NumGames','Team2NumGames')\n",
        "outscores2 = outscores2.withColumnRenamed('WinRatio','Team2WinRatio')\n",
        "outscores2 = outscores2.withColumnRenamed('PointsPerGame','Team2PointsPerGame')\n",
        "outscores2 = outscores2.withColumnRenamed('PointsAllowedPerGame','Team2PointsAllowedPerGame')\n",
        "outscores2 = outscores2.withColumnRenamed('PointsRatio','Team2PointsRatio')\n",
        "outscores2 = outscores2.withColumnRenamed('OTsPerGame','Team2OTsPerGame')\n",
        "outscores2 = outscores2.withColumnRenamed('FGPerGame','Team2FGPerGame')\n",
        "outscores2 = outscores2.withColumnRenamed('FGRatio','Team2FGRatio')\n",
        "outscores2 = outscores2.withColumnRenamed('FGAPerGame','Team2FGAPerGame')\n",
        "outscores2 = outscores2.withColumnRenamed('FGAllowedPerGame','Team2FGAllowedPerGame')\n",
        "outscores2 = outscores2.withColumnRenamed('FG3PerGame','Team2FG3PerGame')\n",
        "outscores2 = outscores2.withColumnRenamed('FG3Ratio','Team2FG3Ratio')\n",
        "outscores2 = outscores2.withColumnRenamed('FG3APerGame','Team2FG3APerGame')\n",
        "outscores2 = outscores2.withColumnRenamed('FG3AllowedPerGame','Team2FG3AllowedPerGame')\n",
        "outscores2 = outscores2.withColumnRenamed('FTPerGame','Team2FTPerGame')\n",
        "outscores2 = outscores2.withColumnRenamed('FTRatio','Team2FTRatio')\n",
        "outscores2 = outscores2.withColumnRenamed('FTAPerGame','Team2FTAPerGame')\n",
        "outscores2 = outscores2.withColumnRenamed('FTllowedPerGame','Team2FTAllowedPerGame')\n",
        "outscores2 = outscores2.withColumnRenamed('ORPerGame','Team2ORPerGame')\n",
        "outscores2 = outscores2.withColumnRenamed('DRPerGame','Team2DRPerGame')\n",
        "outscores2 = outscores2.withColumnRenamed('TRPerGame','Team2TRPerGame')\n",
        "outscores2 = outscores2.withColumnRenamed('OppORPerGame','Team2OppORPerGame')\n",
        "outscores2 = outscores2.withColumnRenamed('OppDRPerGame','Team2OppDRPerGame')\n",
        "outscores2 = outscores2.withColumnRenamed('OppTRPerGame','Team2OppTRPerGame')\n",
        "outscores2 = outscores2.withColumnRenamed('ORRatio','Team2ORRatio')\n",
        "outscores2 = outscores2.withColumnRenamed('DRRatio','Team2DRRatio')\n",
        "outscores2 = outscores2.withColumnRenamed('TRRatio','Team2TRRatio')\n",
        "outscores2 = outscores2.withColumnRenamed('AstPerGame','Team2AstPerGame')\n",
        "outscores2 = outscores2.withColumnRenamed('OppAstPerGame','Team2OppAstPerGame')\n",
        "outscores2 = outscores2.withColumnRenamed('StlPerGame','Team2StlPerGame')\n",
        "outscores2 = outscores2.withColumnRenamed('OppStlPerGame','Team2OppStlPerGame')\n",
        "outscores2 = outscores2.withColumnRenamed('TOPerGame','Team2TOPerGame')\n",
        "outscores2 = outscores2.withColumnRenamed('OppTOPerGame','Team2OppTOPerGame')\n",
        "outscores2 = outscores2.withColumnRenamed('BlkPerGame','Team2BlkPerGame')\n",
        "outscores2 = outscores2.withColumnRenamed('OppBlkPerGame','Team2OppBlkPerGame')\n",
        "outscores2 = outscores2.withColumnRenamed('PFPerGame','Team2PFPerGame')\n",
        "outscores2 = outscores2.withColumnRenamed('OppPFPerGame','Team2OppPFPerGame')\n",
        "\n",
        "print(outscores1.count())\n",
        "print(outscores2.count())"
      ],
      "metadata": {
        "id": "CLXGhXOl9R9f",
        "colab": {
          "base_uri": "https://localhost:8080/"
        },
        "outputId": "285ea3fe-76a3-4d6a-b0e2-1c75ba255dc7"
      },
      "execution_count": 23,
      "outputs": [
        {
          "output_type": "stream",
          "name": "stdout",
          "text": [
            "2475\n",
            "2475\n"
          ]
        }
      ]
    },
    {
      "cell_type": "code",
      "source": [
        "outscores = outscores2.join(outscores1, ['Season','Team1','Team2','Result','Team1Seed','Team2Seed'])"
      ],
      "metadata": {
        "id": "3YM8k7LNJdJe"
      },
      "execution_count": 24,
      "outputs": []
    },
    {
      "cell_type": "code",
      "source": [
        "notin = outscores2.join(outscores1, ['Season','Team1','Team2'],\"left_anti\")\n",
        "notin.show()\n",
        "print(notin.count())\n",
        "\n",
        "notin = outscores1.join(outscores2, ['Season','Team1','Team2'],\"left_anti\")\n",
        "notin.show()\n",
        "print(notin.count())\n",
        "# combine on season, team 1, team 2 and result"
      ],
      "metadata": {
        "id": "HaE3wDpY_M_x",
        "colab": {
          "base_uri": "https://localhost:8080/"
        },
        "outputId": "dbe05664-502c-401c-bc65-1ce90983e9a7"
      },
      "execution_count": 25,
      "outputs": [
        {
          "output_type": "stream",
          "name": "stdout",
          "text": [
            "+------+-----+-----+---------+----------+-------------+-------------------+------------------+-------------------------+------------------+--------------------+------------------+-------------------+------------------+---------------------+------------------+-------------------+------------------+----------------------+------------------+------------------+------------------+---------------------+------------------+------------------+------------------+------------------+------------------+------------------+------------------+------------------+------------------+------------------+------------------+-----------------+------------------+------------------+------------------+------------------+------------------+------------------+------------------+---------+---------+------+\n",
            "|Season|Team1|Team2|Team2Wins|Team2Loses|Team2NumGames|      Team2WinRatio|Team2PointsPerGame|Team2PointsAllowedPerGame|  Team2PointsRatio|     Team2OTsPerGame|    Team2FGPerGame|       Team2FGRatio|   Team2FGAPerGame|Team2FGAllowedPerGame|   Team2FG3PerGame|      Team2FG3Ratio|  Team2FG3APerGame|Team2FG3AllowedPerGame|    Team2FTPerGame|      Team2FTRatio|   Team2FTAPerGame|Team2FTAllowedPerGame|    Team2ORPerGame|    Team2DRPerGame|    Team2TRPerGame| Team2OppORPerGame| Team2OppDRPerGame| Team2OppTRPerGame|      Team2ORRatio|      Team2DRRatio|      Team2TRRatio|   Team2AstPerGame|Team2OppAstPerGame|  Team2StlPerGame|Team2OppStlPerGame|    Team2TOPerGame| Team2OppTOPerGame|   Team2BlkPerGame|Team2OppBlkPerGame|    Team2PFPerGame| Team2OppPFPerGame|Team1Seed|Team2Seed|Result|\n",
            "+------+-----+-----+---------+----------+-------------+-------------------+------------------+-------------------------+------------------+--------------------+------------------+-------------------+------------------+---------------------+------------------+-------------------+------------------+----------------------+------------------+------------------+------------------+---------------------+------------------+------------------+------------------+------------------+------------------+------------------+------------------+------------------+------------------+------------------+------------------+-----------------+------------------+------------------+------------------+------------------+------------------+------------------+------------------+---------+---------+------+\n",
            "|  2015| 1246| 1452|       23|         9|           32|            0.71875|           73.9375|                 66.84375|1.1061243571762507|              0.0625|          25.40625|0.41164556962025317|          61.71875|             21.78125|           6.65625| 0.3183856502242152|          20.90625|               5.40625|          16.46875|0.6604010025062657|           24.9375|               17.875|          16.84375|           19.9375|          36.78125|           8.90625|           24.3125|          33.21875|1.8912280701754387|0.8200514138817481|1.1072436500470366|          14.53125|           11.6875|          10.9375|           5.78125|           13.0625|            19.625|           2.84375|           4.03125|          23.34375|          22.46875|       01|       05|     1|\n",
            "|  2021| 1211| 1166|       20|         8|           28| 0.7142857142857143| 76.96428571428571|        68.28571428571429| 1.127092050209205| 0.07142857142857142|28.464285714285715|0.47582089552238804| 59.82142857142857|   24.785714285714285| 9.714285714285714| 0.3665768194070081|              26.5|     7.642857142857143|10.321428571428571|0.6422222222222222|16.071428571428573|   11.071428571428571| 6.892857142857143|25.714285714285715|32.607142857142854| 8.964285714285714|24.285714285714285|             33.25|0.7689243027888446|1.0588235294117647|0.9806659505907627|15.857142857142858|12.714285714285714|7.071428571428571| 5.714285714285714|10.785714285714286|             12.25|               3.5| 2.892857142857143|              3.75| 3.642857142857143|       01|       05|     1|\n",
            "|  2021| 1211| 1313|       14|         7|           21| 0.6666666666666666| 75.14285714285714|        70.57142857142857|1.0647773279352226|0.047619047619047616|25.476190476190474|0.42971887550200805|59.285714285714285|   22.904761904761905|7.9523809523809526|0.37360178970917224|21.285714285714285|      8.19047619047619|16.238095238095237|0.7089397089397089|22.904761904761905|   16.571428571428573| 8.238095238095237|24.761904761904763|              33.0| 8.761904761904763|24.285714285714285| 33.04761904761905|0.9402173913043478|1.0196078431372548|0.9985590778097982|12.238095238095237|12.523809523809524|6.380952380952381| 5.380952380952381|12.619047619047619|14.666666666666666|3.1904761904761907| 3.761904761904762| 7.380952380952381| 7.619047619047619|       01|       16|     1|\n",
            "|  2015| 1246| 1214|       16|        17|           33|0.48484848484848486| 67.15151515151516|                     68.0|0.9875222816399287|0.030303030303030304|22.818181818181817|0.40768814293448835| 55.96969696969697|   22.545454545454547| 5.666666666666667| 0.3040650406504065|18.636363636363637|     5.696969696969697|15.848484848484848|0.6521197007481296|24.303030303030305|    17.21212121212121|12.242424242424242|24.848484848484848| 37.09090909090909|11.121212121212121| 25.03030303030303| 36.15151515151515|1.1008174386920981|0.9927360774818402|1.0259849119865885|10.606060606060606|10.151515151515152|6.666666666666667| 5.393939393939394|14.212121212121213|13.969696969696969| 4.090909090909091| 3.757575757575758|21.545454545454547|20.424242424242426|       01|       16|     1|\n",
            "|  2021| 1211| 1328|       15|        10|           25|                0.6|             74.76|                    69.24|1.0797227036395147|                0.12|              26.8| 0.4416611733684904|             60.68|                25.48|               8.0|  0.338409475465313|             23.64|                  8.16|             13.16| 0.744343891402715|             17.68|                10.12|              8.72|              24.8|             33.52|              8.64|             24.92|             33.56|1.0092592592592593|0.9951845906902087|  0.99880810488677|              13.4|             11.96|             7.36|               5.6|             10.48|             12.68|              3.44|              3.04|               4.0|              4.44|       01|       08|     1|\n",
            "|  2021| 1211| 1425|       22|         7|           29| 0.7586206896551724| 74.75862068965517|        65.10344827586206|1.1483050847457628| 0.13793103448275862| 27.17241379310345|0.46710136336692354|58.172413793103445|   23.551724137931036| 6.310344827586207|0.34790874524714827|18.137931034482758|     7.206896551724138| 14.10344827586207|0.6471518987341772| 21.79310344827586|   10.793103448275861|10.482758620689655| 25.82758620689655|36.310344827586206| 8.448275862068966| 21.06896551724138|29.517241379310345|1.2408163265306122| 1.225859247135843| 1.230140186915888|13.655172413793103|12.448275862068966|4.793103448275862| 5.448275862068965| 12.10344827586207|              11.0| 5.241379310344827|2.8275862068965516| 4.482758620689655| 5.413793103448276|       01|       06|     1|\n",
            "|  2015| 1246| 1153|       22|        10|           32|             0.6875|            62.375|                 55.28125|1.1283210853589598|             0.09375|            22.375|0.45287792536369387|          49.40625|              20.4375|           5.03125| 0.3333333333333333|          15.09375|                  5.75|          12.59375|0.6739130434782609|           18.6875|              8.65625|          10.96875|             23.25|          34.21875|          10.84375|          18.40625|             29.25|1.0115273775216138| 1.263157894736842| 1.169871794871795|            11.875|          11.09375|           6.5625|           5.53125|          12.78125|           12.1875|            5.4375|              2.75|          14.65625|           17.1875|       01|       08|     1|\n",
            "|  2015| 1246| 1458|       31|         3|           34| 0.9117647058823529| 71.88235294117646|        56.11764705882353| 1.280922431865828|0.058823529411764705|25.294117647058822| 0.4796430563301729| 52.73529411764706|   21.823529411764707| 6.970588235294118| 0.3574660633484163|              19.5|                   5.0|14.323529411764707|0.7633228840125392|18.764705882352942|    7.470588235294118| 9.470588235294118|24.205882352941178|  33.6764705882353| 7.529411764705882|20.176470588235293|27.705882352941178|         1.2578125|1.1997084548104957|1.2154989384288748|12.705882352941176| 8.911764705882353|4.529411764705882|3.9705882352941178| 7.411764705882353| 9.970588235294118|               3.5|1.9705882352941178|12.029411764705882|18.058823529411764|       01|       01|     0|\n",
            "|  2015| 1246| 1323|       29|         5|           34| 0.8529411764705882| 78.82352941176471|         65.6470588235294| 1.200716845878136| 0.11764705882352941|27.794117647058822| 0.5099838100377766|              54.5|    24.91176470588235| 8.264705882352942| 0.3924581005586592|21.058823529411764|     6.264705882352941|14.970588235294118|0.7398255813953488|20.235294117647058|    9.558823529411764| 8.323529411764707|24.441176470588236| 32.76470588235294|11.294117647058824|21.323529411764707| 32.61764705882353|0.7369791666666666| 1.146206896551724|1.0045085662759243|15.117647058823529|12.735294117647058|6.882352941176471| 5.176470588235294| 9.382352941176471|11.294117647058824|3.5588235294117645| 2.235294117647059|14.205882352941176|16.970588235294116|       01|       03|     1|\n",
            "|  2014| 1455| 1246|       24|        10|           34| 0.7058823529411765| 75.91176470588235|         66.6470588235294|1.1390114739629302| 0.08823529411764706|25.176470588235293|0.45123879810226675|55.794117647058826|   23.205882352941178| 5.088235294117647|  0.325187969924812|15.647058823529411|     5.352941176470588|20.470588235294116|0.6823529411764706|              30.0|   14.882352941176471|14.647058823529411|              26.5| 41.14705882352941|11.323529411764707|20.029411764705884|31.352941176470587|1.2935064935064935|1.3230543318649046|1.3123827392120075|              11.5|10.382352941176471|4.764705882352941| 5.764705882352941|12.205882352941176|              11.0| 6.235294117647059|3.1176470588235294|              19.0| 22.58823529411765|       01|       08|     0|\n",
            "|  2014| 1455| 1142|       11|        19|           30|0.36666666666666664|              62.0|        64.73333333333333|0.9577754891864058|                 0.0|21.733333333333334| 0.4037151702786378|53.833333333333336|   21.933333333333334| 6.333333333333333| 0.3350970017636684|              18.9|     5.266666666666667|              12.2|0.6866791744840526|17.766666666666666|                 15.6|10.733333333333333|20.733333333333334|31.466666666666665|10.233333333333333|24.066666666666666|              34.3|1.0488599348534202|0.8614958448753463|0.9173955296404276|11.366666666666667|12.166666666666666|5.533333333333333| 4.533333333333333| 8.966666666666667|10.833333333333334|2.6666666666666665|               3.6|              18.8|15.633333333333333|       01|       16|     1|\n",
            "|  2021| 1211| 1124|       22|         2|           24| 0.9166666666666666|            84.375|        66.41666666666667|1.2703889585947303|0.041666666666666664|31.083333333333332| 0.4930601454064772|63.041666666666664|   23.958333333333332|10.333333333333334|  0.418212478920742|24.708333333333332|     6.458333333333333|            11.875|0.6968215158924206|17.041666666666668|   12.041666666666666|11.333333333333334|            22.375|33.708333333333336| 9.291666666666666|            20.125|29.416666666666668|1.2197309417040358|1.1118012422360248|1.1458923512747876|17.041666666666668|            12.375|8.958333333333334| 6.166666666666667|12.166666666666666|16.833333333333332|              3.75|3.8333333333333335|              5.25| 4.916666666666667|       01|       01|     0|\n",
            "|  2021| 1211| 1417|       17|         9|           26| 0.6538461538461539| 72.84615384615384|                     68.5|1.0634475014037057| 0.23076923076923078|26.384615384615383|0.46195286195286195| 57.11538461538461|   24.615384615384617| 6.653846153846154| 0.3673036093418259|18.115384615384617|    7.6923076923076925|13.423076923076923|0.7210743801652892|18.615384615384617|   11.576923076923077|  8.76923076923077|24.192307692307693| 32.96153846153846| 6.653846153846154| 21.46153846153846|28.115384615384617|1.3179190751445087|1.1272401433691757|1.1723666210670314|13.615384615384615|12.153846153846153|5.076923076923077| 5.076923076923077|10.884615384615385|11.153846153846153|2.6538461538461537| 2.769230769230769| 4.346153846153846|4.3076923076923075|       01|       11|     1|\n",
            "+------+-----+-----+---------+----------+-------------+-------------------+------------------+-------------------------+------------------+--------------------+------------------+-------------------+------------------+---------------------+------------------+-------------------+------------------+----------------------+------------------+------------------+------------------+---------------------+------------------+------------------+------------------+------------------+------------------+------------------+------------------+------------------+------------------+------------------+------------------+-----------------+------------------+------------------+------------------+------------------+------------------+------------------+------------------+---------+---------+------+\n",
            "\n",
            "13\n",
            "+------+-----+-----+---------+----------+-------------+-------------------+------------------+-------------------------+------------------+--------------------+------------------+-------------------+------------------+---------------------+------------------+-------------------+------------------+----------------------+------------------+------------------+------------------+---------------------+------------------+------------------+------------------+------------------+------------------+------------------+------------------+------------------+------------------+------------------+------------------+-----------------+------------------+------------------+------------------+------------------+------------------+------------------+------------------+---------+---------+------+\n",
            "|Season|Team1|Team2|Team1Wins|Team1Loses|Team1NumGames|      Team1WinRatio|Team1PointsPerGame|Team1PointsAllowedPerGame|  Team1PointsRatio|     Team1OTsPerGame|    Team1FGPerGame|       Team1FGRatio|   Team1FGAPerGame|Team1FGAllowedPerGame|   Team1FG3PerGame|      Team1FG3Ratio|  Team1FG3APerGame|Team1FG3AllowedPerGame|    Team1FTPerGame|      Team1FTRatio|   Team1FTAPerGame|Team1FTAllowedPerGame|    Team1ORPerGame|    Team1DRPerGame|    Team1TRPerGame| Team1OppORPerGame| Team1OppDRPerGame| Team1OppTRPerGame|      Team1ORRatio|      Team1DRRatio|      Team1TRRatio|   Team1AstPerGame|Team1OppAstPerGame|  Team1StlPerGame|Team1OppStlPerGame|    Team1TOPerGame| Team1OppTOPerGame|   Team1BlkPerGame|Team1OppBlkPerGame|    Team1PFPerGame| Team1OppPFPerGame|Team1Seed|Team2Seed|Result|\n",
            "+------+-----+-----+---------+----------+-------------+-------------------+------------------+-------------------------+------------------+--------------------+------------------+-------------------+------------------+---------------------+------------------+-------------------+------------------+----------------------+------------------+------------------+------------------+---------------------+------------------+------------------+------------------+------------------+------------------+------------------+------------------+------------------+------------------+------------------+------------------+-----------------+------------------+------------------+------------------+------------------+------------------+------------------+------------------+---------+---------+------+\n",
            "|  2015| 1458| 1246|       31|         3|           34| 0.9117647058823529| 71.88235294117646|        56.11764705882353| 1.280922431865828|0.058823529411764705|25.294117647058822| 0.4796430563301729| 52.73529411764706|   21.823529411764707| 6.970588235294118| 0.3574660633484163|              19.5|                   5.0|14.323529411764707|0.7633228840125392|18.764705882352942|    7.470588235294118| 9.470588235294118|24.205882352941178|  33.6764705882353| 7.529411764705882|20.176470588235293|27.705882352941178|         1.2578125|1.1997084548104957|1.2154989384288748|12.705882352941176| 8.911764705882353|4.529411764705882|3.9705882352941178| 7.411764705882353| 9.970588235294118|               3.5|1.9705882352941178|12.029411764705882|18.058823529411764|       01|       01|     1|\n",
            "|  2015| 1214| 1246|       16|        17|           33|0.48484848484848486| 67.15151515151516|                     68.0|0.9875222816399287|0.030303030303030304|22.818181818181817|0.40768814293448835| 55.96969696969697|   22.545454545454547| 5.666666666666667| 0.3040650406504065|18.636363636363637|     5.696969696969697|15.848484848484848|0.6521197007481296|24.303030303030305|    17.21212121212121|12.242424242424242|24.848484848484848| 37.09090909090909|11.121212121212121| 25.03030303030303| 36.15151515151515|1.1008174386920981|0.9927360774818402|1.0259849119865885|10.606060606060606|10.151515151515152|6.666666666666667| 5.393939393939394|14.212121212121213|13.969696969696969| 4.090909090909091| 3.757575757575758|21.545454545454547|20.424242424242426|       16|       01|     0|\n",
            "|  2021| 1328| 1211|       15|        10|           25|                0.6|             74.76|                    69.24|1.0797227036395147|                0.12|              26.8| 0.4416611733684904|             60.68|                25.48|               8.0|  0.338409475465313|             23.64|                  8.16|             13.16| 0.744343891402715|             17.68|                10.12|              8.72|              24.8|             33.52|              8.64|             24.92|             33.56|1.0092592592592593|0.9951845906902087|  0.99880810488677|              13.4|             11.96|             7.36|               5.6|             10.48|             12.68|              3.44|              3.04|               4.0|              4.44|       08|       01|     0|\n",
            "|  2021| 1124| 1211|       22|         2|           24| 0.9166666666666666|            84.375|        66.41666666666667|1.2703889585947303|0.041666666666666664|31.083333333333332| 0.4930601454064772|63.041666666666664|   23.958333333333332|10.333333333333334|  0.418212478920742|24.708333333333332|     6.458333333333333|            11.875|0.6968215158924206|17.041666666666668|   12.041666666666666|11.333333333333334|            22.375|33.708333333333336| 9.291666666666666|            20.125|29.416666666666668|1.2197309417040358|1.1118012422360248|1.1458923512747876|17.041666666666668|            12.375|8.958333333333334| 6.166666666666667|12.166666666666666|16.833333333333332|              3.75|3.8333333333333335|              5.25| 4.916666666666667|       01|       01|     1|\n",
            "|  2021| 1166| 1211|       20|         8|           28| 0.7142857142857143| 76.96428571428571|        68.28571428571429| 1.127092050209205| 0.07142857142857142|28.464285714285715|0.47582089552238804| 59.82142857142857|   24.785714285714285| 9.714285714285714| 0.3665768194070081|              26.5|     7.642857142857143|10.321428571428571|0.6422222222222222|16.071428571428573|   11.071428571428571| 6.892857142857143|25.714285714285715|32.607142857142854| 8.964285714285714|24.285714285714285|             33.25|0.7689243027888446|1.0588235294117647|0.9806659505907627|15.857142857142858|12.714285714285714|7.071428571428571| 5.714285714285714|10.785714285714286|             12.25|               3.5| 2.892857142857143|              3.75| 3.642857142857143|       05|       01|     0|\n",
            "|  2021| 1425| 1211|       22|         7|           29| 0.7586206896551724| 74.75862068965517|        65.10344827586206|1.1483050847457628| 0.13793103448275862| 27.17241379310345|0.46710136336692354|58.172413793103445|   23.551724137931036| 6.310344827586207|0.34790874524714827|18.137931034482758|     7.206896551724138| 14.10344827586207|0.6471518987341772| 21.79310344827586|   10.793103448275861|10.482758620689655| 25.82758620689655|36.310344827586206| 8.448275862068966| 21.06896551724138|29.517241379310345|1.2408163265306122| 1.225859247135843| 1.230140186915888|13.655172413793103|12.448275862068966|4.793103448275862| 5.448275862068965| 12.10344827586207|              11.0| 5.241379310344827|2.8275862068965516| 4.482758620689655| 5.413793103448276|       06|       01|     0|\n",
            "|  2014| 1142| 1455|       11|        19|           30|0.36666666666666664|              62.0|        64.73333333333333|0.9577754891864058|                 0.0|21.733333333333334| 0.4037151702786378|53.833333333333336|   21.933333333333334| 6.333333333333333| 0.3350970017636684|              18.9|     5.266666666666667|              12.2|0.6866791744840526|17.766666666666666|                 15.6|10.733333333333333|20.733333333333334|31.466666666666665|10.233333333333333|24.066666666666666|              34.3|1.0488599348534202|0.8614958448753463|0.9173955296404276|11.366666666666667|12.166666666666666|5.533333333333333| 4.533333333333333| 8.966666666666667|10.833333333333334|2.6666666666666665|               3.6|              18.8|15.633333333333333|       16|       01|     0|\n",
            "|  2015| 1452| 1246|       23|         9|           32|            0.71875|           73.9375|                 66.84375|1.1061243571762507|              0.0625|          25.40625|0.41164556962025317|          61.71875|             21.78125|           6.65625| 0.3183856502242152|          20.90625|               5.40625|          16.46875|0.6604010025062657|           24.9375|               17.875|          16.84375|           19.9375|          36.78125|           8.90625|           24.3125|          33.21875|1.8912280701754387|0.8200514138817481|1.1072436500470366|          14.53125|           11.6875|          10.9375|           5.78125|           13.0625|            19.625|           2.84375|           4.03125|          23.34375|          22.46875|       05|       01|     0|\n",
            "|  2021| 1313| 1211|       14|         7|           21| 0.6666666666666666| 75.14285714285714|        70.57142857142857|1.0647773279352226|0.047619047619047616|25.476190476190474|0.42971887550200805|59.285714285714285|   22.904761904761905|7.9523809523809526|0.37360178970917224|21.285714285714285|      8.19047619047619|16.238095238095237|0.7089397089397089|22.904761904761905|   16.571428571428573| 8.238095238095237|24.761904761904763|              33.0| 8.761904761904763|24.285714285714285| 33.04761904761905|0.9402173913043478|1.0196078431372548|0.9985590778097982|12.238095238095237|12.523809523809524|6.380952380952381| 5.380952380952381|12.619047619047619|14.666666666666666|3.1904761904761907| 3.761904761904762| 7.380952380952381| 7.619047619047619|       16|       01|     0|\n",
            "|  2021| 1417| 1211|       17|         9|           26| 0.6538461538461539| 72.84615384615384|                     68.5|1.0634475014037057| 0.23076923076923078|26.384615384615383|0.46195286195286195| 57.11538461538461|   24.615384615384617| 6.653846153846154| 0.3673036093418259|18.115384615384617|    7.6923076923076925|13.423076923076923|0.7210743801652892|18.615384615384617|   11.576923076923077|  8.76923076923077|24.192307692307693| 32.96153846153846| 6.653846153846154| 21.46153846153846|28.115384615384617|1.3179190751445087|1.1272401433691757|1.1723666210670314|13.615384615384615|12.153846153846153|5.076923076923077| 5.076923076923077|10.884615384615385|11.153846153846153|2.6538461538461537| 2.769230769230769| 4.346153846153846|4.3076923076923075|       11|       01|     0|\n",
            "|  2015| 1153| 1246|       22|        10|           32|             0.6875|            62.375|                 55.28125|1.1283210853589598|             0.09375|            22.375|0.45287792536369387|          49.40625|              20.4375|           5.03125| 0.3333333333333333|          15.09375|                  5.75|          12.59375|0.6739130434782609|           18.6875|              8.65625|          10.96875|             23.25|          34.21875|          10.84375|          18.40625|             29.25|1.0115273775216138| 1.263157894736842| 1.169871794871795|            11.875|          11.09375|           6.5625|           5.53125|          12.78125|           12.1875|            5.4375|              2.75|          14.65625|           17.1875|       08|       01|     0|\n",
            "|  2015| 1323| 1246|       29|         5|           34| 0.8529411764705882| 78.82352941176471|         65.6470588235294| 1.200716845878136| 0.11764705882352941|27.794117647058822| 0.5099838100377766|              54.5|    24.91176470588235| 8.264705882352942| 0.3924581005586592|21.058823529411764|     6.264705882352941|14.970588235294118|0.7398255813953488|20.235294117647058|    9.558823529411764| 8.323529411764707|24.441176470588236| 32.76470588235294|11.294117647058824|21.323529411764707| 32.61764705882353|0.7369791666666666| 1.146206896551724|1.0045085662759243|15.117647058823529|12.735294117647058|6.882352941176471| 5.176470588235294| 9.382352941176471|11.294117647058824|3.5588235294117645| 2.235294117647059|14.205882352941176|16.970588235294116|       03|       01|     0|\n",
            "|  2014| 1246| 1455|       24|        10|           34| 0.7058823529411765| 75.91176470588235|         66.6470588235294|1.1390114739629302| 0.08823529411764706|25.176470588235293|0.45123879810226675|55.794117647058826|   23.205882352941178| 5.088235294117647|  0.325187969924812|15.647058823529411|     5.352941176470588|20.470588235294116|0.6823529411764706|              30.0|   14.882352941176471|14.647058823529411|              26.5| 41.14705882352941|11.323529411764707|20.029411764705884|31.352941176470587|1.2935064935064935|1.3230543318649046|1.3123827392120075|              11.5|10.382352941176471|4.764705882352941| 5.764705882352941|12.205882352941176|              11.0| 6.235294117647059|3.1176470588235294|              19.0| 22.58823529411765|       08|       01|     1|\n",
            "+------+-----+-----+---------+----------+-------------+-------------------+------------------+-------------------------+------------------+--------------------+------------------+-------------------+------------------+---------------------+------------------+-------------------+------------------+----------------------+------------------+------------------+------------------+---------------------+------------------+------------------+------------------+------------------+------------------+------------------+------------------+------------------+------------------+------------------+------------------+-----------------+------------------+------------------+------------------+------------------+------------------+------------------+------------------+---------+---------+------+\n",
            "\n",
            "13\n"
          ]
        }
      ]
    },
    {
      "cell_type": "markdown",
      "source": [
        "# Model Building"
      ],
      "metadata": {
        "id": "GOjUd98MyMlQ"
      }
    },
    {
      "cell_type": "code",
      "source": [
        "outscores = outscores.withColumn('Wins',outscores.Team1Wins - outscores.Team2Wins)\n",
        "outscores = outscores.withColumn('Loses',outscores.Team1Loses - outscores.Team2Loses)\n",
        "outscores = outscores.withColumn('NumGames',outscores.Team1NumGames - outscores.Team2NumGames)\n",
        "outscores = outscores.withColumn('WinRatio',outscores.Team1WinRatio - outscores.Team2WinRatio)\n",
        "outscores = outscores.withColumn('PointsPerGame',outscores.Team1PointsPerGame - outscores.Team2PointsPerGame)\n",
        "outscores = outscores.withColumn('PointsAllowedPerGame',outscores.Team1PointsAllowedPerGame - outscores.Team2PointsAllowedPerGame)\n",
        "outscores = outscores.withColumn('PointsRatio',outscores.Team1PointsRatio - outscores.Team2PointsRatio)\n",
        "outscores = outscores.withColumn('OTsPerGame',outscores.Team1OTsPerGame - outscores.Team2OTsPerGame)\n",
        "outscores = outscores.withColumn('FGPerGame',outscores.Team1FGPerGame - outscores.Team2FGPerGame)\n",
        "outscores = outscores.withColumn('FGRatio',outscores.Team1FGRatio - outscores.Team2FGRatio)\n",
        "outscores = outscores.withColumn('FGAPerGame',outscores.Team1FGAPerGame - outscores.Team2FGAPerGame)\n",
        "outscores = outscores.withColumn('FGAllowedPerGame',outscores.Team1FGAllowedPerGame - outscores.Team2FGAllowedPerGame)\n",
        "outscores = outscores.withColumn('FG3PerGame',outscores.Team1FG3PerGame - outscores.Team2FG3PerGame)\n",
        "outscores = outscores.withColumn('FG3Ratio',outscores.Team1FG3Ratio - outscores.Team2FG3Ratio)\n",
        "outscores = outscores.withColumn('FG3APerGame',outscores.Team1FG3APerGame - outscores.Team2FG3APerGame)\n",
        "outscores = outscores.withColumn('FG3AllowedPerGame',outscores.Team1FG3AllowedPerGame - outscores.Team2FG3AllowedPerGame)\n",
        "outscores = outscores.withColumn('FTPerGame',outscores.Team1FTPerGame - outscores.Team2FTPerGame)\n",
        "outscores = outscores.withColumn('FTRatio',outscores.Team1FTRatio - outscores.Team2FTRatio)\n",
        "outscores = outscores.withColumn('FTAPerGame',outscores.Team1FTAPerGame - outscores.Team2FTAPerGame)\n",
        "outscores = outscores.withColumn('FTAllowedPerGame',outscores.Team1FTAllowedPerGame - outscores.Team2FTAllowedPerGame)\n",
        "outscores = outscores.withColumn('ORPerGame',outscores.Team1ORPerGame - outscores.Team2ORPerGame)\n",
        "outscores = outscores.withColumn('DRPerGame',outscores.Team1DRPerGame - outscores.Team2DRPerGame)\n",
        "outscores = outscores.withColumn('TRPerGame',outscores.Team1TRPerGame - outscores.Team2TRPerGame)\n",
        "outscores = outscores.withColumn('OppORPerGame',outscores.Team1OppORPerGame - outscores.Team2OppORPerGame)\n",
        "outscores = outscores.withColumn('OppDRPerGame',outscores.Team1OppDRPerGame - outscores.Team2OppDRPerGame)\n",
        "outscores = outscores.withColumn('OppTRPerGame',outscores.Team1OppTRPerGame - outscores.Team2OppTRPerGame)\n",
        "outscores = outscores.withColumn('ORRatio',outscores.Team1ORRatio - outscores.Team2ORRatio)\n",
        "outscores = outscores.withColumn('DRRatio',outscores.Team1DRRatio - outscores.Team2DRRatio)\n",
        "outscores = outscores.withColumn('TRRatio',outscores.Team1TRRatio - outscores.Team2TRRatio)\n",
        "outscores = outscores.withColumn('AstPerGame',outscores.Team1AstPerGame - outscores.Team2AstPerGame)\n",
        "outscores = outscores.withColumn('OppAstPerGame',outscores.Team1OppAstPerGame - outscores.Team2OppAstPerGame)\n",
        "outscores = outscores.withColumn('StlPerGame',outscores.Team1StlPerGame - outscores.Team2StlPerGame)\n",
        "outscores = outscores.withColumn('OppStlPerGame',outscores.Team1OppStlPerGame - outscores.Team2OppStlPerGame)\n",
        "outscores = outscores.withColumn('TOPerGame',outscores.Team1TOPerGame - outscores.Team2TOPerGame)\n",
        "outscores = outscores.withColumn('OppTOPerGame',outscores.Team1OppTOPerGame - outscores.Team2OppTOPerGame)\n",
        "outscores = outscores.withColumn('BlkPerGame',outscores.Team1BlkPerGame - outscores.Team2BlkPerGame)\n",
        "outscores = outscores.withColumn('OppBlkPerGame',outscores.Team1OppBlkPerGame - outscores.Team2OppBlkPerGame)\n",
        "outscores = outscores.withColumn('PFPerGame',outscores.Team1PFPerGame - outscores.Team2PFPerGame)\n",
        "outscores = outscores.withColumn('OppPFPerGame',outscores.Team1OppPFPerGame - outscores.Team2OppPFPerGame)\n",
        "outscores = outscores.withColumn('Seed',outscores.Team1Seed - outscores.Team2Seed)\n"
      ],
      "metadata": {
        "id": "ZH-nFf2Q2r_T"
      },
      "execution_count": 26,
      "outputs": []
    },
    {
      "cell_type": "code",
      "source": [
        "outscores =  outscores.drop(\"Team1OppPFPerGame\", \"Team2OppPFPerGame\",\n",
        "                            'Team1PFPerGame','Team2PFPerGame',\n",
        "                            \"Team1Wins\",\"Team2Wins\",\n",
        "                            \"Team1Loses\",\"Team2Loses\",\n",
        "                            \"Team1NumGames\",\"Team2NumGames\",\n",
        "                            \"Team1WinRatio\",\"Team2WinRatio\",\n",
        "                            \"Team1PointsPerGame\",\"Team2PointsPerGame\",\n",
        "                            \"Team1PointsAllowedPerGame\",\"Team2PointsAllowedPerGame\",\n",
        "                            \"Team1PointsRatio\",\"Team2PointsRatio\",\n",
        "                            \"Team1OTsPerGame\",\"Team2OTsPerGame\",\n",
        "                            \"Team1FGPerGame\",\"Team2FGPerGame\",\n",
        "                            \"Team1FGRatio\",\"Team2FGRatio\",\n",
        "                            \"Team1FGAPerGame\",\"Team2FGAPerGame\",\n",
        "                            \"Team1FGAllowedPerGame\",\"Team2FGAllowedPerGame\",\n",
        "                            \"Team1FG3PerGame\",\"Team2FG3PerGame\",\n",
        "                            \"Team1FG3Ratio\",\"Team2FG3Ratio\",\n",
        "                            \"Team1FG3APerGame\",\"Team2FG3APerGame\",\n",
        "                            \"Team1FG3AllowedPerGame\",\"Team2FG3AllowedPerGame\",\n",
        "                            \"Team1FTPerGame\",\"Team2FTPerGame\",\n",
        "                            \"Team1FTRatio\",\"Team2FTRatio\",\n",
        "                            \"Team1FTAPerGame\",\"Team2FTAPerGame\",\n",
        "                            \"Team1FTAllowedPerGame\",\"Team2FTAllowedPerGame\",\n",
        "                            \"Team1ORPerGame\",\"Team2ORPerGame\",\n",
        "                            \"Team1DRPerGame\",\"Team2DRPerGame\",\n",
        "                            \"Team1TRPerGame\",\"Team2TRPerGame\",\n",
        "                            \"Team1OppORPerGame\",\"Team2OppORPerGame\",\n",
        "                            'Team1OppDRPerGame','Team2OppDRPerGame',\n",
        "                            'Team1OppTRPerGame','Team2OppTRPerGame',\n",
        "                            'Team1ORRatio','Team2ORRatio',\n",
        "                            'Team1DRRatio','Team2DRRatio',\n",
        "                            'Team1TRRatio','Team2TRRatio',\n",
        "                            'Team1AstPerGame','Team2AstPerGame',\n",
        "                            'Team1OppAstPerGame','Team2OppAstPerGame',\n",
        "                            'Team1StlPerGame','Team2StlPerGame',\n",
        "                            'Team1OppStlPerGame','Team2OppStlPerGame',\n",
        "                            'Team1TOPerGame','Team2TOPerGame',\n",
        "                            'Team1OppTOPerGame','Team2OppTOPerGame',\n",
        "                            'Team1BlkPerGame','Team2BlkPerGame',\n",
        "                            'Team1OppBlkPerGame','Team2OppBlkPerGame',\n",
        "                            'Team1PFPerGame','Team2PFPerGame',\n",
        "                            'Team1OppPFPerGame','Team2OppPFPerGame'\n",
        "                            'Team1Seed','Team2Seed')\n",
        "outscores2022 = outscores.filter(outscores.Season == 2022)\n",
        "outscores = outscores.filter(outscores.Season < 2022)"
      ],
      "metadata": {
        "id": "odQAzC_QfpkF"
      },
      "execution_count": 27,
      "outputs": []
    },
    {
      "cell_type": "code",
      "source": [
        "# Assemble all the features with VectorAssembler\n",
        "required_features = ['WinRatio',\n",
        " 'PointsPerGame',\n",
        " 'PointsAllowedPerGame',\n",
        " 'PointsRatio',\n",
        " 'OTsPerGame',\n",
        " 'FGPerGame',\n",
        " 'FGRatio',\n",
        " 'FGAPerGame',\n",
        " 'FGAllowedPerGame',\n",
        " 'FG3PerGame',\n",
        " 'FG3Ratio',\n",
        " 'FG3APerGame',\n",
        " 'FG3AllowedPerGame',\n",
        " 'FTPerGame',\n",
        " 'FTRatio',\n",
        " 'FTAPerGame',\n",
        " 'FTAllowedPerGame',\n",
        " 'ORPerGame',\n",
        " 'DRPerGame',\n",
        " 'TRPerGame',\n",
        " 'OppORPerGame',\n",
        " 'OppDRPerGame',\n",
        " 'OppTRPerGame',\n",
        " 'ORRatio',\n",
        " 'DRRatio',\n",
        " 'TRRatio',\n",
        " 'AstPerGame',\n",
        " 'OppAstPerGame',\n",
        " 'StlPerGame',\n",
        " 'OppStlPerGame',\n",
        " 'TOPerGame',\n",
        " 'OppTOPerGame',\n",
        " 'BlkPerGame',\n",
        " 'OppBlkPerGame',\n",
        " 'PFPerGame',\n",
        " 'OppPFPerGame',\n",
        " 'Seed']\n",
        "from pyspark.ml.feature import VectorAssembler\n",
        "assembler = VectorAssembler(inputCols=required_features, outputCol='features')\n",
        "transformed_data = assembler.transform(outscores)"
      ],
      "metadata": {
        "id": "uGvcb_qyxout"
      },
      "execution_count": 28,
      "outputs": []
    },
    {
      "cell_type": "code",
      "source": [
        "#(training_data, test_data) = transformed_data.randomSplit([0.8,0.2], seed=98765)\n",
        "(training_data, test_data) = transformed_data.randomSplit([0.8,0.2])"
      ],
      "metadata": {
        "id": "2HgrfXIt2ni3"
      },
      "execution_count": 129,
      "outputs": []
    },
    {
      "cell_type": "code",
      "source": [
        "from pyspark.ml.classification import LogisticRegression\n",
        "lr = LogisticRegression(featuresCol = 'features', labelCol='Result', maxIter=10, regParam=0.3, elasticNetParam=0.8)\n",
        "lrModel = lr.fit(training_data)\n",
        "print(\"Coefficients: \" + str(lrModel.coefficients))\n",
        "print(\"Intercept: \" + str(lrModel.intercept))"
      ],
      "metadata": {
        "id": "Gkq1Tqbj2pyL",
        "colab": {
          "base_uri": "https://localhost:8080/"
        },
        "outputId": "74c43de7-171d-41b1-f1fe-0dc117df4008"
      },
      "execution_count": 130,
      "outputs": [
        {
          "output_type": "stream",
          "name": "stdout",
          "text": [
            "Coefficients: (37,[36],[-0.0029640575254244986])\n",
            "Intercept: 0.007303393861438779\n"
          ]
        }
      ]
    },
    {
      "cell_type": "code",
      "source": [
        "trainingSummary = lrModel.summary\n",
        "# Print the coefficients and intercept for multinomial logistic regression\n",
        "print(\"Coefficients: \\n\" + str(lrModel.coefficientMatrix))\n",
        "print(\"Intercept: \" + str(lrModel.interceptVector))\n",
        "\n",
        "trainingSummary = lrModel.summary\n",
        "\n",
        "# Obtain the objective per iteration\n",
        "objectiveHistory = trainingSummary.objectiveHistory\n",
        "print(\"objectiveHistory:\")\n",
        "for objective in objectiveHistory:\n",
        "    print(objective)\n",
        "\n",
        "# for multiclass, we can inspect metrics on a per-label basis\n",
        "print(\"False positive rate by label:\")\n",
        "for i, rate in enumerate(trainingSummary.falsePositiveRateByLabel):\n",
        "    print(\"label %d: %s\" % (i, rate))\n",
        "\n",
        "print(\"True positive rate by label:\")\n",
        "for i, rate in enumerate(trainingSummary.truePositiveRateByLabel):\n",
        "    print(\"label %d: %s\" % (i, rate))\n",
        "\n",
        "print(\"Precision by label:\")\n",
        "for i, prec in enumerate(trainingSummary.precisionByLabel):\n",
        "    print(\"label %d: %s\" % (i, prec))\n",
        "\n",
        "print(\"Recall by label:\")\n",
        "for i, rec in enumerate(trainingSummary.recallByLabel):\n",
        "    print(\"label %d: %s\" % (i, rec))\n",
        "\n",
        "print(\"F-measure by label:\")\n",
        "for i, f in enumerate(trainingSummary.fMeasureByLabel()):\n",
        "    print(\"label %d: %s\" % (i, f))\n",
        "\n",
        "accuracy = trainingSummary.accuracy\n",
        "falsePositiveRate = trainingSummary.weightedFalsePositiveRate\n",
        "truePositiveRate = trainingSummary.weightedTruePositiveRate\n",
        "fMeasure = trainingSummary.weightedFMeasure()\n",
        "precision = trainingSummary.weightedPrecision\n",
        "recall = trainingSummary.weightedRecall\n",
        "print(\"Accuracy: %s\\nFPR: %s\\nTPR: %s\\nF-measure: %s\\nPrecision: %s\\nRecall: %s\"\n",
        "      % (accuracy, falsePositiveRate, truePositiveRate, fMeasure, precision, recall))"
      ],
      "metadata": {
        "id": "bKEp5JdYnLm5",
        "colab": {
          "base_uri": "https://localhost:8080/"
        },
        "outputId": "37f3cfe9-f225-4704-b8d3-11ddef6c7efe"
      },
      "execution_count": 131,
      "outputs": [
        {
          "output_type": "stream",
          "name": "stdout",
          "text": [
            "Coefficients: \n",
            "1 X 37 CSRMatrix\n",
            "(0,36) -0.003\n",
            "Intercept: [0.007303393861438779]\n",
            "objectiveHistory:\n",
            "0.6931400451935753\n",
            "0.6931228946095593\n",
            "0.6930908234195855\n",
            "0.693077118773334\n",
            "0.6930712702343531\n",
            "0.6930687670951468\n",
            "0.6930676978737536\n",
            "0.6930672405799893\n",
            "0.693067045163768\n",
            "0.693066961611109\n",
            "0.693066925899809\n",
            "False positive rate by label:\n",
            "label 0: 0.17956989247311828\n",
            "label 1: 0.4268689057421452\n",
            "True positive rate by label:\n",
            "label 0: 0.5731310942578548\n",
            "label 1: 0.8204301075268817\n",
            "Precision by label:\n",
            "label 0: 0.7600574712643678\n",
            "label 1: 0.6594641313742438\n",
            "Recall by label:\n",
            "label 0: 0.5731310942578548\n",
            "label 1: 0.8204301075268817\n",
            "F-measure by label:\n",
            "label 0: 0.6534898085237801\n",
            "label 1: 0.731193100143747\n",
            "Accuracy: 0.6972477064220184\n",
            "FPR: 0.3036865046372818\n",
            "TPR: 0.6972477064220184\n",
            "F-measure: 0.6924882225586259\n",
            "Precision: 0.7095707977091518\n",
            "Recall: 0.6972477064220184\n"
          ]
        }
      ]
    },
    {
      "cell_type": "markdown",
      "source": [
        "# Predict 2022 Season"
      ],
      "metadata": {
        "id": "uDdraHoNODz1"
      }
    },
    {
      "cell_type": "code",
      "source": [
        "from pyspark.ml.feature import VectorAssembler\n",
        "assembler = VectorAssembler(inputCols=required_features, outputCol='features')\n",
        "test_data = assembler.transform(outscores2022)\n",
        "predictions = lrModel.transform(test_data)\n",
        "#predictions.select(\"prediction\",\"features\").show()"
      ],
      "metadata": {
        "id": "AatTvfK5lmuH"
      },
      "execution_count": 132,
      "outputs": []
    },
    {
      "cell_type": "code",
      "source": [
        "#predictions.show()"
      ],
      "metadata": {
        "id": "2fhwP8qO8JO-"
      },
      "execution_count": 120,
      "outputs": []
    },
    {
      "cell_type": "code",
      "source": [
        "predictions.select(\"prediction\",\"features\").show(126)"
      ],
      "metadata": {
        "id": "2o8bULaLoL3m",
        "colab": {
          "base_uri": "https://localhost:8080/"
        },
        "outputId": "ec75f4d9-02e9-4901-92d2-bc5c1375c33e"
      },
      "execution_count": 133,
      "outputs": [
        {
          "output_type": "stream",
          "name": "stdout",
          "text": [
            "+----------+--------------------+\n",
            "|prediction|            features|\n",
            "+----------+--------------------+\n",
            "|       0.0|[-0.1545454545454...|\n",
            "|       0.0|[-0.0962566844919...|\n",
            "|       1.0|[0.13897596656217...|\n",
            "|       1.0|[0.07157258064516...|\n",
            "|       0.0|[-0.0539772727272...|\n",
            "|       1.0|[0.13786764705882...|\n",
            "|       0.0|[-0.1885775862068...|\n",
            "|       1.0|[0.04166666666666...|\n",
            "|       1.0|[-0.0416666666666...|\n",
            "|       0.0|[-0.2191323692992...|\n",
            "|       0.0|[-0.0962566844919...|\n",
            "|       1.0|[0.15686274509803...|\n",
            "|       1.0|[0.09625668449197...|\n",
            "|       0.0|[-0.2394916911045...|\n",
            "|       1.0|[-0.1654411764705...|\n",
            "|       0.0|[-0.1734279918864...|\n",
            "|       0.0|[0.00980392156862...|\n",
            "|       0.0|[-0.2791991101223...|\n",
            "|       1.0|[-0.0861742424242...|\n",
            "|       1.0|[0.11436950146627...|\n",
            "|       0.0|[0.16544117647058...|\n",
            "|       1.0|[0.10658307210031...|\n",
            "|       0.0|[-0.1683569979716...|\n",
            "|       0.0|[-0.1568627450980...|\n",
            "|       0.0|[0.03552769070010...|\n",
            "|       0.0|[-0.2235294117647...|\n",
            "|       0.0|[8.92857142857139...|\n",
            "|       1.0|[0.21913236929922...|\n",
            "|       1.0|[-0.1143695014662...|\n",
            "|       1.0|[0.16835699797160...|\n",
            "|       0.0|[0.08617424242424...|\n",
            "|       1.0|[-0.0416666666666...|\n",
            "|       1.0|[0.05882352941176...|\n",
            "|       0.0|[-0.1265597147950...|\n",
            "|       1.0|[0.29655172413793...|\n",
            "|       0.0|[-0.3103448275862...|\n",
            "|       1.0|[-0.1408602150537...|\n",
            "|       1.0|[-0.0355276907001...|\n",
            "|       1.0|[0.16718913270637...|\n",
            "|       1.0|[0.10752688172043...|\n",
            "|       1.0|[0.03565062388591...|\n",
            "|       0.0|[-0.2965517241379...|\n",
            "|       0.0|[-0.0909090909090...|\n",
            "|       1.0|[0.03472222222222...|\n",
            "|       1.0|[-0.0356506238859...|\n",
            "|       0.0|[-0.0852272727272...|\n",
            "|       1.0|[0.05397727272727...|\n",
            "|       1.0|[0.18857758620689...|\n",
            "|       1.0|[-0.0882352941176...|\n",
            "|       0.0|[0.14086021505376...|\n",
            "|       0.0|[-0.1671891327063...|\n",
            "|       1.0|[0.27919911012235...|\n",
            "|       0.0|[-0.2867647058823...|\n",
            "|       0.0|[0.07157258064516...|\n",
            "|       1.0|[-0.0752688172043...|\n",
            "|       0.0|[-0.1515151515151...|\n",
            "|       1.0|[0.23949169110459...|\n",
            "|       0.0|[-0.3057040998217...|\n",
            "|       1.0|[0.28676470588235...|\n",
            "|       0.0|[-0.0021645021645...|\n",
            "|       1.0|[0.17342799188640...|\n",
            "|       1.0|[0.17647058823529...|\n",
            "|       1.0|[-0.0719696969696...|\n",
            "|       1.0|[0.16813294232649...|\n",
            "|       0.0|[-0.1075268817204...|\n",
            "|       0.0|[-0.1378676470588...|\n",
            "|       1.0|[0.17342799188640...|\n",
            "|       1.0|[0.14326375711574...|\n",
            "|       0.0|[-0.0716911764705...|\n",
            "|       0.0|[-0.0416666666666...|\n",
            "|       1.0|[-0.0098039215686...|\n",
            "|       0.0|[0.07435344827586...|\n",
            "|       0.0|[-0.2394916911045...|\n",
            "|       1.0|[0.00705645161290...|\n",
            "|       1.0|[0.31034482758620...|\n",
            "|       1.0|[0.14678030303030...|\n",
            "|       1.0|[0.09090909090909...|\n",
            "|       0.0|[-0.1764705882352...|\n",
            "|       0.0|[-0.0347222222222...|\n",
            "|       1.0|[0.15151515151515...|\n",
            "|       1.0|[0.15454545454545...|\n",
            "|       1.0|[0.08823529411764...|\n",
            "|       1.0|[-0.0070564516129...|\n",
            "|       1.0|[-0.0659536541889...|\n",
            "|       1.0|[-0.1104594330400...|\n",
            "|       1.0|[0.17619047619047...|\n",
            "|       1.0|[0.06595365418894...|\n",
            "|       1.0|[-0.0715725806451...|\n",
            "|       1.0|[0.07169117647058...|\n",
            "|       1.0|[-0.0743534482758...|\n",
            "|       1.0|[0.09625668449197...|\n",
            "|       1.0|[0.08571428571428...|\n",
            "|       0.0|[0.04166666666666...|\n",
            "|       0.0|[-0.1681329423264...|\n",
            "|       0.0|[-0.1734279918864...|\n",
            "|       1.0|[-0.0650623885918...|\n",
            "|       1.0|[0.11045943304007...|\n",
            "|       1.0|[0.07526881720430...|\n",
            "|       1.0|[0.22352941176470...|\n",
            "|       1.0|[0.14919354838709...|\n",
            "|       0.0|[-0.0588235294117...|\n",
            "|       1.0|[0.07196969696969...|\n",
            "|       1.0|[-0.0459558823529...|\n",
            "|       1.0|[0.30570409982174...|\n",
            "|       0.0|[-0.1491935483870...|\n",
            "|       0.0|[-0.1761904761904...|\n",
            "|       0.0|[-0.1389759665621...|\n",
            "|       0.0|[-0.1065830721003...|\n",
            "|       0.0|[-0.1467803030303...|\n",
            "|       0.0|[0.06506238859180...|\n",
            "|       1.0|[-0.1432637571157...|\n",
            "|       0.0|[-0.0578747628083...|\n",
            "|       1.0|[0.05787476280834...|\n",
            "|       0.0|[-0.0857142857142...|\n",
            "|       1.0|[0.04166666666666...|\n",
            "|       0.0|[0.04595588235294...|\n",
            "|       1.0|[0.21228448275862...|\n",
            "|       0.0|[0.08366935483870...|\n",
            "|       1.0|[0.23949169110459...|\n",
            "|       0.0|[-0.2122844827586...|\n",
            "|       1.0|[-8.9285714285713...|\n",
            "|       1.0|[0.08522727272727...|\n",
            "|       1.0|[0.00216450216450...|\n",
            "|       1.0|[-0.0836693548387...|\n",
            "|       1.0|[0.12655971479500...|\n",
            "|       0.0|[-0.0715725806451...|\n",
            "+----------+--------------------+\n",
            "\n"
          ]
        }
      ]
    },
    {
      "cell_type": "code",
      "source": [
        "output = predictions.select(\"Team1\",\"Team2\",\"prediction\").sort(predictions.Team1)\n",
        "\n",
        "output = output.withColumnRenamed(\"Team1\", \"TeamID\")\n",
        "output = output.join(Teams, ['TeamID'])\n",
        "\n",
        "output = output.withColumnRenamed(\"TeamID\", \"Team1\")\n",
        "output = output.withColumnRenamed(\"TeamName\", \"Team1Name\")\n",
        "output = output.withColumnRenamed(\"Team2\", \"TeamID\")\n",
        "output = output.join(Teams, ['TeamID'])\n",
        "\n",
        "output = output.withColumnRenamed(\"TeamID\", \"Team2\")\n",
        "output = output.withColumnRenamed(\"TeamName\", \"Team2Name\")\n",
        "\n",
        "output =  output.drop(\"FirstD1Season\",\"LastD1Season\")\n",
        "\n",
        "#output.show()"
      ],
      "metadata": {
        "id": "wc7Fuigf-yF2"
      },
      "execution_count": 134,
      "outputs": []
    },
    {
      "cell_type": "code",
      "source": [
        "#has every game twice as this was the only way to make sure the model didn't know if the winner was team 1 or 2\n",
        "output.sort(output.Team1, output.Team2).show(126)"
      ],
      "metadata": {
        "colab": {
          "base_uri": "https://localhost:8080/"
        },
        "id": "PFxYQ0M0mWB-",
        "outputId": "8f368341-8516-40a9-d69c-b39a3a96c60b"
      },
      "execution_count": 135,
      "outputs": [
        {
          "output_type": "stream",
          "name": "stdout",
          "text": [
            "+-----+-----+----------+---------------+---------------+\n",
            "|Team2|Team1|prediction|      Team1Name|      Team2Name|\n",
            "+-----+-----+----------+---------------+---------------+\n",
            "| 1417| 1103|       0.0|          Akron|           UCLA|\n",
            "| 1323| 1104|       1.0|        Alabama|     Notre Dame|\n",
            "| 1222| 1112|       1.0|        Arizona|        Houston|\n",
            "| 1395| 1112|       1.0|        Arizona|            TCU|\n",
            "| 1460| 1112|       1.0|        Arizona|      Wright St|\n",
            "| 1181| 1116|       1.0|       Arkansas|           Duke|\n",
            "| 1211| 1116|       0.0|       Arkansas|        Gonzaga|\n",
            "| 1308| 1116|       1.0|       Arkansas|  New Mexico St|\n",
            "| 1436| 1116|       1.0|       Arkansas|        Vermont|\n",
            "| 1240| 1120|       1.0|         Auburn|Jacksonville St|\n",
            "| 1274| 1120|       1.0|         Auburn|       Miami FL|\n",
            "| 1313| 1124|       1.0|         Baylor|     Norfolk St|\n",
            "| 1314| 1124|       1.0|         Baylor| North Carolina|\n",
            "| 1272| 1129|       1.0|       Boise St|        Memphis|\n",
            "| 1228| 1151|       0.0|    Chattanooga|       Illinois|\n",
            "| 1458| 1159|       0.0|        Colgate|      Wisconsin|\n",
            "| 1276| 1161|       1.0|    Colorado St|       Michigan|\n",
            "| 1308| 1163|       1.0|    Connecticut|  New Mexico St|\n",
            "| 1242| 1166|       0.0|      Creighton|         Kansas|\n",
            "| 1361| 1166|       1.0|      Creighton|   San Diego St|\n",
            "| 1181| 1168|       0.0|   CS Fullerton|           Duke|\n",
            "| 1277| 1172|       0.0|       Davidson|    Michigan St|\n",
            "| 1437| 1174|       0.0|       Delaware|      Villanova|\n",
            "| 1116| 1181|       1.0|           Duke|       Arkansas|\n",
            "| 1168| 1181|       1.0|           Duke|   CS Fullerton|\n",
            "| 1277| 1181|       1.0|           Duke|    Michigan St|\n",
            "| 1314| 1181|       1.0|           Duke| North Carolina|\n",
            "| 1403| 1181|       1.0|           Duke|     Texas Tech|\n",
            "| 1211| 1209|       0.0|     Georgia St|        Gonzaga|\n",
            "| 1116| 1211|       1.0|        Gonzaga|       Arkansas|\n",
            "| 1209| 1211|       1.0|        Gonzaga|     Georgia St|\n",
            "| 1272| 1211|       1.0|        Gonzaga|        Memphis|\n",
            "| 1112| 1222|       0.0|        Houston|        Arizona|\n",
            "| 1228| 1222|       1.0|        Houston|       Illinois|\n",
            "| 1412| 1222|       1.0|        Houston|            UAB|\n",
            "| 1437| 1222|       0.0|        Houston|      Villanova|\n",
            "| 1151| 1228|       1.0|       Illinois|    Chattanooga|\n",
            "| 1222| 1228|       1.0|       Illinois|        Houston|\n",
            "| 1388| 1231|       0.0|        Indiana|   St Mary's CA|\n",
            "| 1350| 1234|       1.0|           Iowa|       Richmond|\n",
            "| 1261| 1235|       0.0|        Iowa St|            LSU|\n",
            "| 1274| 1235|       1.0|        Iowa St|       Miami FL|\n",
            "| 1458| 1235|       0.0|        Iowa St|      Wisconsin|\n",
            "| 1120| 1240|       0.0|Jacksonville St|         Auburn|\n",
            "| 1166| 1242|       1.0|         Kansas|      Creighton|\n",
            "| 1274| 1242|       1.0|         Kansas|       Miami FL|\n",
            "| 1314| 1242|       1.0|         Kansas| North Carolina|\n",
            "| 1344| 1242|       1.0|         Kansas|     Providence|\n",
            "| 1411| 1242|       1.0|         Kansas|    TX Southern|\n",
            "| 1437| 1242|       1.0|         Kansas|      Villanova|\n",
            "| 1389| 1246|       1.0|       Kentucky|     St Peter's|\n",
            "| 1397| 1255|       0.0|       Longwood|      Tennessee|\n",
            "| 1326| 1260|       0.0| Loyola-Chicago|        Ohio St|\n",
            "| 1235| 1261|       1.0|            LSU|        Iowa St|\n",
            "| 1314| 1266|       1.0|      Marquette| North Carolina|\n",
            "| 1129| 1272|       1.0|        Memphis|       Boise St|\n",
            "| 1211| 1272|       0.0|        Memphis|        Gonzaga|\n",
            "| 1120| 1274|       0.0|       Miami FL|         Auburn|\n",
            "| 1235| 1274|       1.0|       Miami FL|        Iowa St|\n",
            "| 1242| 1274|       0.0|       Miami FL|         Kansas|\n",
            "| 1425| 1274|       0.0|       Miami FL|            USC|\n",
            "| 1161| 1276|       0.0|       Michigan|    Colorado St|\n",
            "| 1397| 1276|       0.0|       Michigan|      Tennessee|\n",
            "| 1437| 1276|       0.0|       Michigan|      Villanova|\n",
            "| 1172| 1277|       1.0|    Michigan St|       Davidson|\n",
            "| 1181| 1277|       0.0|    Michigan St|           Duke|\n",
            "| 1403| 1286|       0.0|     Montana St|     Texas Tech|\n",
            "| 1362| 1293|       1.0|      Murray St|  San Francisco|\n",
            "| 1389| 1293|       1.0|      Murray St|     St Peter's|\n",
            "| 1116| 1308|       0.0|  New Mexico St|       Arkansas|\n",
            "| 1163| 1308|       0.0|  New Mexico St|    Connecticut|\n",
            "| 1124| 1313|       0.0|     Norfolk St|         Baylor|\n",
            "| 1124| 1314|       0.0| North Carolina|         Baylor|\n",
            "| 1181| 1314|       0.0| North Carolina|           Duke|\n",
            "| 1242| 1314|       0.0| North Carolina|         Kansas|\n",
            "| 1266| 1314|       1.0| North Carolina|      Marquette|\n",
            "| 1389| 1314|       1.0| North Carolina|     St Peter's|\n",
            "| 1417| 1314|       0.0| North Carolina|           UCLA|\n",
            "| 1104| 1323|       0.0|     Notre Dame|        Alabama|\n",
            "| 1403| 1323|       0.0|     Notre Dame|     Texas Tech|\n",
            "| 1260| 1326|       1.0|        Ohio St| Loyola-Chicago|\n",
            "| 1437| 1326|       0.0|        Ohio St|      Villanova|\n",
            "| 1242| 1344|       0.0|     Providence|         Kansas|\n",
            "| 1350| 1344|       1.0|     Providence|       Richmond|\n",
            "| 1355| 1344|       1.0|     Providence|    S Dakota St|\n",
            "| 1389| 1345|       1.0|         Purdue|     St Peter's|\n",
            "| 1400| 1345|       1.0|         Purdue|          Texas|\n",
            "| 1463| 1345|       1.0|         Purdue|           Yale|\n",
            "| 1234| 1350|       0.0|       Richmond|           Iowa|\n",
            "| 1344| 1350|       0.0|       Richmond|     Providence|\n",
            "| 1344| 1355|       0.0|    S Dakota St|     Providence|\n",
            "| 1166| 1361|       1.0|   San Diego St|      Creighton|\n",
            "| 1293| 1362|       0.0|  San Francisco|      Murray St|\n",
            "| 1395| 1371|       1.0|     Seton Hall|            TCU|\n",
            "| 1231| 1388|       1.0|   St Mary's CA|        Indiana|\n",
            "| 1417| 1388|       1.0|   St Mary's CA|           UCLA|\n",
            "| 1246| 1389|       0.0|     St Peter's|       Kentucky|\n",
            "| 1293| 1389|       0.0|     St Peter's|      Murray St|\n",
            "| 1314| 1389|       0.0|     St Peter's| North Carolina|\n",
            "| 1345| 1389|       0.0|     St Peter's|         Purdue|\n",
            "| 1112| 1395|       0.0|            TCU|        Arizona|\n",
            "| 1371| 1395|       1.0|            TCU|     Seton Hall|\n",
            "| 1255| 1397|       1.0|      Tennessee|       Longwood|\n",
            "| 1276| 1397|       1.0|      Tennessee|       Michigan|\n",
            "| 1345| 1400|       0.0|          Texas|         Purdue|\n",
            "| 1439| 1400|       1.0|          Texas|  Virginia Tech|\n",
            "| 1181| 1403|       1.0|     Texas Tech|           Duke|\n",
            "| 1286| 1403|       1.0|     Texas Tech|     Montana St|\n",
            "| 1323| 1403|       1.0|     Texas Tech|     Notre Dame|\n",
            "| 1242| 1411|       0.0|    TX Southern|         Kansas|\n",
            "| 1222| 1412|       0.0|            UAB|        Houston|\n",
            "| 1103| 1417|       1.0|           UCLA|          Akron|\n",
            "| 1314| 1417|       1.0|           UCLA| North Carolina|\n",
            "| 1388| 1417|       1.0|           UCLA|   St Mary's CA|\n",
            "| 1274| 1425|       1.0|            USC|       Miami FL|\n",
            "| 1116| 1436|       0.0|        Vermont|       Arkansas|\n",
            "| 1174| 1437|       1.0|      Villanova|       Delaware|\n",
            "| 1222| 1437|       1.0|      Villanova|        Houston|\n",
            "| 1242| 1437|       1.0|      Villanova|         Kansas|\n",
            "| 1276| 1437|       1.0|      Villanova|       Michigan|\n",
            "| 1326| 1437|       1.0|      Villanova|        Ohio St|\n",
            "| 1400| 1439|       0.0|  Virginia Tech|          Texas|\n",
            "| 1159| 1458|       1.0|      Wisconsin|        Colgate|\n",
            "| 1235| 1458|       1.0|      Wisconsin|        Iowa St|\n",
            "| 1112| 1460|       0.0|      Wright St|        Arizona|\n",
            "| 1345| 1463|       0.0|           Yale|         Purdue|\n",
            "+-----+-----+----------+---------------+---------------+\n",
            "\n"
          ]
        }
      ]
    },
    {
      "cell_type": "code",
      "source": [
        ""
      ],
      "metadata": {
        "id": "z29G0225yMto"
      },
      "execution_count": 35,
      "outputs": []
    },
    {
      "cell_type": "markdown",
      "source": [
        "Predictions:\n",
        "Each game is predicted twice, as they are put through the model two times for the model to not be able to predict \n",
        "\n",
        "First Round: \n",
        "\n",
        "Gonzaga (1211) vs Georgia State (1209):\n",
        "*   Predicted: Gonzaga, Gonzaga\n",
        "*   Result: Gonzaga\n",
        "\n",
        "Boise State (1129) vs Memphis (1272):\n",
        "*   Predicted: Memphis, Boise Stae\n",
        "*   Result: Memphis\n",
        "\n",
        "UCONN (1163) vs New Mexico State (1308):\n",
        "*   Predicted:\n",
        "*   Result: New Mexico State\n",
        "\n",
        "Arkansas (1116) vs Vermont (1436):\n",
        "*   Predicted:\n",
        "*   Result: Arkansas\n",
        "\n",
        "Alabama (1104) vs Notre Dame (1323):\n",
        "*   Predicted:\n",
        "*   Result: Nortre Dame\n",
        "\n",
        "Texas Tech (1403) vs Montana State (1286):\n",
        "*   Predicted:\n",
        "*   Result: Texas Tech\n",
        "\n",
        "Michigan State (1277) vs Davidson (1172):\n",
        "*   Predicted:\n",
        "*   Result: Michigan State\n",
        "\n",
        "Duke (1181) vs CSU Fullerton (1168):\n",
        "*   Predicted:\n",
        "*   Result: Duke\n",
        "\n",
        "Baylor (1124) vs Norfolk State (1313):\n",
        "*   Predicted:\n",
        "*   Result: Baylor\n",
        "\n",
        "North Carolina (1314) vs Marquette (1266):\n",
        "*   Predicted:\n",
        "*   Result: North Carolina\n",
        "\n",
        "Saint Marry's (1388) vs Indiana (1231):\n",
        "*   Predicted:\n",
        "*   Result: Saint Marry's\n",
        "\n",
        "UCLA (1417) vs Akron (1103):\n",
        "*   Predicted:\n",
        "*   Result: UCLA\n",
        "\n",
        "Texas (1400) vs Virginia Tech (1439):\n",
        "*   Predicted:\n",
        "*   Result: Texas\n",
        "\n",
        "Purdue (1345) vs Yale (1463):\n",
        "*   Predicted:\n",
        "*   Result: Purdue\n",
        "\n",
        "Murray State (1293) vs San Francisco (1362):\n",
        "*   Predicted:\n",
        "*   Result: Murray State\n",
        "\n",
        "Kentucky (1246) vs Saint Peter's (1389):\n",
        "*   Predicted:\n",
        "*   Result: Saint Peter's\n",
        "\n",
        "Arizona (1112) vs  Wright State (1460):\n",
        "*   Predicted:\n",
        "*   Result: Arizona\n",
        "\n",
        "Seton Hall (1371) vs TCU (1395):\n",
        "*   Predicted:\n",
        "*   Result: TCU\n",
        "\n",
        "Houston (1222) vs UAB (1412):\n",
        "*   Predicted:\n",
        "*   Result: Houston\n",
        "\n",
        "Illinois (1228) vs Chattanooga (1151):\n",
        "*   Predicted:\n",
        "*   Result: Illinois\n",
        "\n",
        "Colorado State (1161) vs Michigan (1276):\n",
        "*   Predicted:\n",
        "*   Result: Michigan\n",
        "\n",
        "Tennessee (1397) vs Longwood (1255):\n",
        "*   Predicted:\n",
        "*   Result: Tennessee\n",
        "\n",
        "Ohio State (1326) vs Loyola Chicago (1260):\n",
        "*   Predicted:\n",
        "*   Result: Ohio State\n",
        "\n",
        "Villanova (1437) vs Delaware (1174):\n",
        "*   Predicted:\n",
        "*   Result: Villanova\n",
        "\n",
        "Kansas (1242) vs Texas Southern (1411):\n",
        "*   Predicted:\n",
        "*   Result: Kansas\n",
        "\n",
        "San Diego State (1361) vs Creighton (1166):\n",
        "*   Predicted:\n",
        "*   Result: Creighton\n",
        "\n",
        "Iowa (1234) vs Richmond (1350):\n",
        "*   Predicted:\n",
        "*   Result: Richmond\n",
        "\n",
        "Providence (1344) vs South Dakota State (1355):\n",
        "*   Predicted:\n",
        "*   Result: Providence\n",
        "\n",
        "LSU (1261) vs Iowa State (1235):\n",
        "*   Predicted:\n",
        "*   Result: Iowa State\n",
        "\n",
        "Wisconsin (1458) vs Colgate (1159):\n",
        "*   Predicted:\n",
        "*   Result: Wisconsin\n",
        "\n",
        "\n",
        "USC (1425) vs Miami (1274):\n",
        "*   Predicted:\n",
        "*   Result: UCLA\n",
        "\n",
        "Auburn (1120) vs Jacksonville Stae (1240):\n",
        "*   Predicted:\n",
        "*   Result: Auburn\n",
        "\n",
        "\n",
        "Round of 32:\n",
        "\n",
        "Gonzaga (1211) vs Memphis (1272):\n",
        "*   Predicted:\n",
        "*   Result: Gonzaga\n",
        "\n",
        "Arkansas (1116) vs New Mexico State (1308):\n",
        "*   Predicted:\n",
        "*   Result: Arkansas\n",
        "\n",
        "Texas Tech (1403) vs Notre Dame (1323):\n",
        "*   Predicted:\n",
        "*   Result: Texas Tech\n",
        "\n",
        "Michigan State (1277) vs Duke (1181):\n",
        "*   Predicted:\n",
        "*   Result: Duke\n",
        "\n",
        "Baylor (1124) vs North Carolina (1314):\n",
        "*   Predicted:\n",
        "*   Result: North Carolina\n",
        "\n",
        "Saint Marry's (1388) vs UCLA (1417):\n",
        "*   Predicted:\n",
        "*   Result: UCLA\n",
        "\n",
        "Texas (1400) vs Purdue (1345):\n",
        "*   Predicted:\n",
        "*   Result: Purdue\n",
        "\n",
        "Murray State (1293) vs Saint Peter's (1389):\n",
        "*   Predicted:\n",
        "*   Result: Saint Peter's\n",
        "\n",
        "Arizona (1112) vs TCU (1395):\n",
        "*   Predicted:\n",
        "*   Result: Arizona\n",
        "\n",
        "Houston (1222) vs Illinois (1228):\n",
        "*   Predicted:\n",
        "*   Result: Houston\n",
        "\n",
        "Tennessee (1397) vs Michigan (1276):\n",
        "*   Predicted:\n",
        "*   Result: Michigan\n",
        "\n",
        "Ohio State (1326) vs Villanova (1437):\n",
        "*   Predicted:\n",
        "*   Result: Villanova\n",
        "\n",
        "Kansas (1242) vs Creighton (1166):\n",
        "*   Predicted:\n",
        "*   Result: Kansas\n",
        "\n",
        "Providence (1344) vs Richmond (1350):\n",
        "*   Predicted:\n",
        "*   Result: Providence\n",
        "\n",
        "Wisconsin (1458) vs Iowa State (1235):\n",
        "*   Predicted:\n",
        "*   Result: Iowa State\n",
        "\n",
        "Auburn (1120) vs Miami (1274):\n",
        "*   Predicted:\n",
        "*   Result: Miami\n",
        "\n",
        "\n",
        "Sweet 16:\n",
        "\n",
        "Gonzaga (1211) vs Arkansas (1116):\n",
        "*   Predicted:\n",
        "*   Result: Arkansas\n",
        "\n",
        "Texas Tech (1403) vs Duke (1181):\n",
        "*   Predicted:\n",
        "*   Result: Duke\n",
        "\n",
        "UCLA (1417) vs North Carolina (1314):\n",
        "*   Predicted:\n",
        "*   Result: North Carolina\n",
        "\n",
        "Saint Peter's (1389) vs Purdue (1345):\n",
        "*   Predicted:\n",
        "*   Result: Saint Peter's\n",
        "\n",
        "Arizona (1112) vs Houston (1222):\n",
        "*   Predicted:\n",
        "*   Result: Houston\n",
        "\n",
        "Villanova (1437) vs Michigan (1276):\n",
        "*   Predicted:\n",
        "*   Result: Villanova\n",
        "\n",
        "Kansas (1242) vs Providence (1344):\n",
        "*   Predicted:\n",
        "*   Result: Kansas\n",
        "\n",
        "Miami (1274) vs Iowa State (1235):\n",
        "*   Predicted:\n",
        "*   Result: Miami\n",
        "\n",
        "\n",
        "Eliete 8:\n",
        "\n",
        "Duke (1181) vs Arkansas (1116):\n",
        "*   Predicted:\n",
        "*   Result: Duke\n",
        "\n",
        "Saint Peter's (1389) vs North Carolina (1314):\n",
        "*   Predicted:\n",
        "*   Result: North Carolina\n",
        "\n",
        "Villanova (1437) vs Houston (1222):\n",
        "*   Predicted:\n",
        "*   Result: Villanova\n",
        "\n",
        "Kansas (1242) vs Miami (1274):\n",
        "*   Predicted:\n",
        "*   Result: Kansas\n",
        "\n",
        "\n",
        "Final Four:\n",
        "\n",
        "Duke (1181) vs North Carolina (1314):\n",
        "*   Predicted:\n",
        "*   Result: North Carolina\n",
        "\n",
        "Villanova (1437) vs Kansas (1242):\n",
        "*   Predicted:\n",
        "*   Result: Kansas\n",
        "\n",
        "\n",
        "Championship:\n",
        "\n",
        "Kansas (1242) vs North Carolina (1314):\n",
        "*   Predicted:\n",
        "*   Result: Kansa"
      ],
      "metadata": {
        "id": "sqAbD3YwpZ7g"
      }
    },
    {
      "cell_type": "markdown",
      "source": [
        "# TO DO\n",
        "\n",
        "\n",
        "1.   Interpret Model Results\n",
        "\n",
        "\n"
      ],
      "metadata": {
        "id": "ktQUUrrUzE3S"
      }
    }
  ],
  "metadata": {
    "colab": {
      "name": "FinalProject.ipynb",
      "provenance": [],
      "collapsed_sections": [
        "JttbqUXL_gYp"
      ],
      "authorship_tag": "ABX9TyNWm18lSxYNvCfq7qLX+QBF",
      "include_colab_link": true
    },
    "kernelspec": {
      "display_name": "Python 3",
      "name": "python3"
    },
    "language_info": {
      "name": "python"
    }
  },
  "nbformat": 4,
  "nbformat_minor": 0
}