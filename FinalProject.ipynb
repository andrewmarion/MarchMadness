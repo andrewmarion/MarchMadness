{
  "cells": [
    {
      "cell_type": "markdown",
      "metadata": {
        "id": "_r8xWz3M_ZR1"
      },
      "source": [
        "# March Madness\n",
        "## Final Project\n",
        "### Group 15: Andrew Marion, Dallas Hutchinson, Aydan Koyles\n"
      ]
    },
    {
      "cell_type": "markdown",
      "metadata": {
        "id": "VMwv7b_M6nxw"
      },
      "source": [
        "# Setting Up File"
      ]
    },
    {
      "cell_type": "code",
      "execution_count": 1,
      "metadata": {
        "id": "XFeSHdrg4QCK"
      },
      "outputs": [],
      "source": [
        "!apt-get install openjdk-8-jdk-headless -qq > /dev/null\n",
        "!wget -q https://archive.apache.org/dist/spark/spark-3.2.0/spark-3.2.0-bin-hadoop3.2.tgz\n",
        "!tar xf spark-3.2.0-bin-hadoop3.2.tgz\n",
        "!pip install -q findspark"
      ]
    },
    {
      "cell_type": "code",
      "execution_count": 2,
      "metadata": {
        "id": "Iyz-0-no4f6U",
        "colab": {
          "base_uri": "https://localhost:8080/"
        },
        "outputId": "ff3d9b10-c156-4a8e-d694-7b04b32176cc"
      },
      "outputs": [
        {
          "output_type": "stream",
          "name": "stdout",
          "text": [
            "Mounted at /content/gdrive\n"
          ]
        }
      ],
      "source": [
        "from google.colab import drive\n",
        "\n",
        "drive.mount('/content/gdrive')"
      ]
    },
    {
      "cell_type": "code",
      "execution_count": 3,
      "metadata": {
        "id": "Sf6DkghV4ikT"
      },
      "outputs": [],
      "source": [
        "import os\n",
        "os.environ[\"JAVA_HOME\"] = \"/usr/lib/jvm/java-8-openjdk-amd64\"\n",
        "os.environ[\"SPARK_HOME\"] = \"spark-3.2.0-bin-hadoop3.2\""
      ]
    },
    {
      "cell_type": "code",
      "execution_count": 4,
      "metadata": {
        "id": "nBXgfIgm4kBS"
      },
      "outputs": [],
      "source": [
        "import findspark\n",
        "findspark.init()"
      ]
    },
    {
      "cell_type": "code",
      "execution_count": 5,
      "metadata": {
        "colab": {
          "base_uri": "https://localhost:8080/",
          "height": 197
        },
        "id": "gHPsL6db5j-7",
        "outputId": "a65b020b-85de-40c3-f814-1f3a8ecfbb07"
      },
      "outputs": [
        {
          "output_type": "execute_result",
          "data": {
            "text/plain": [
              "<SparkContext master=local[*] appName=pyspark-shell>"
            ],
            "text/html": [
              "\n",
              "        <div>\n",
              "            <p><b>SparkContext</b></p>\n",
              "\n",
              "            <p><a href=\"http://5a4e301e6400:4040\">Spark UI</a></p>\n",
              "\n",
              "            <dl>\n",
              "              <dt>Version</dt>\n",
              "                <dd><code>v3.2.0</code></dd>\n",
              "              <dt>Master</dt>\n",
              "                <dd><code>local[*]</code></dd>\n",
              "              <dt>AppName</dt>\n",
              "                <dd><code>pyspark-shell</code></dd>\n",
              "            </dl>\n",
              "        </div>\n",
              "        "
            ]
          },
          "metadata": {},
          "execution_count": 5
        }
      ],
      "source": [
        "from pyspark.sql import SparkSession\n",
        "spark = SparkSession.builder.master(\"local[*]\").getOrCreate()\n",
        "sc = spark.sparkContext\n",
        "sc"
      ]
    },
    {
      "cell_type": "markdown",
      "metadata": {
        "id": "JttbqUXL_gYp"
      },
      "source": [
        "# Imports"
      ]
    },
    {
      "cell_type": "code",
      "execution_count": 6,
      "metadata": {
        "id": "iAcoi-tS5m_s"
      },
      "outputs": [],
      "source": [
        "import json\n",
        "from pyspark.mllib.classification import LogisticRegressionModel,LogisticRegressionWithLBFGS, SVMWithSGD, SVMModel\n",
        "from pyspark.mllib.regression import LabeledPoint, LinearRegressionWithSGD, LinearRegressionModel\n",
        "from pyspark.mllib.clustering import *\n",
        "import pyspark.sql\n",
        "from pyspark.sql import Row\n",
        "from pyspark.sql.types import *\n",
        "from pyspark.sql import SparkSession\n",
        "from pyspark.mllib.stat import Statistics\n",
        "from pyspark.ml.linalg import Vectors\n",
        "from pyspark.ml.stat import Correlation\n",
        "from pyspark.ml.clustering import LDA\n",
        "import numpy as np\n",
        "import pyspark.sql.functions as f"
      ]
    },
    {
      "cell_type": "markdown",
      "metadata": {
        "id": "6RwqudsixElg"
      },
      "source": [
        "# Read in csv file"
      ]
    },
    {
      "cell_type": "code",
      "execution_count": 7,
      "metadata": {
        "id": "nPFml9US6Vsk"
      },
      "outputs": [],
      "source": [
        "RegularSeason = spark.read.option(\"header\",True).csv(\"/content/gdrive/MyDrive/MDataFiles_Stage1/MRegularSeasonDetailedResults.csv\", inferSchema = True)\n",
        "Seeds = spark.read.option(\"header\",True).csv(\"/content/gdrive/MyDrive/MDataFiles_Stage1/MNCAATourneySeeds.csv\", inferSchema = True)\n",
        "Tourney = spark.read.option(\"header\",True).csv(\"/content/gdrive/MyDrive/MDataFiles_Stage1/MNCAATourneyDetailedResults.csv\", inferSchema = True)\n",
        "Massey = spark.read.option(\"header\",True).csv(\"/content/gdrive/MyDrive/MDataFiles_Stage1/MMasseyOrdinals.csv\", inferSchema = True)\n",
        "Conferences = spark.read.option(\"header\",True).csv(\"/content/gdrive/MyDrive/MDataFiles_Stage1/MNCAATourneySeeds.csv\", inferSchema = True)\n",
        "Coaches = spark.read.option(\"header\",True).csv(\"/content/gdrive/MyDrive/MDataFiles_Stage1/MTeamCoaches.csv\", inferSchema = True)"
      ]
    },
    {
      "cell_type": "code",
      "execution_count": null,
      "metadata": {
        "colab": {
          "background_save": true
        },
        "id": "nu6pqPpsA_di",
        "outputId": "86b3be2e-60b6-450c-8cee-1bf1e80c9584"
      },
      "outputs": [
        {
          "name": "stdout",
          "output_type": "stream",
          "text": [
            "+------+------+-----------+----------+---------------+\n",
            "|Season|TeamID|FirstDayNum|LastDayNum|      CoachName|\n",
            "+------+------+-----------+----------+---------------+\n",
            "|  1985|  1102|          0|       154|  reggie_minton|\n",
            "|  1985|  1103|          0|       154|    bob_huggins|\n",
            "|  1985|  1104|          0|       154| wimp_sanderson|\n",
            "|  1985|  1106|          0|       154|   james_oliver|\n",
            "|  1985|  1108|          0|       154|  davey_whitney|\n",
            "|  1985|  1109|          0|       154|   freddie_goss|\n",
            "|  1985|  1110|          0|       154|    ed_tapscott|\n",
            "|  1985|  1111|          0|       154| kevin_cantwell|\n",
            "|  1985|  1112|          0|       154|     lute_olson|\n",
            "|  1985|  1113|          0|       154|  bob_weinhauer|\n",
            "|  1985|  1114|          0|       154|    mike_newell|\n",
            "|  1985|  1116|          0|       154|   eddie_sutton|\n",
            "|  1985|  1117|          0|       154|nelson_catalina|\n",
            "|  1985|  1119|          0|       154|     les_wothke|\n",
            "|  1985|  1120|          0|       154|    sonny_smith|\n",
            "|  1985|  1121|          0|       154| marvin_vanover|\n",
            "|  1985|  1122|          0|       154| howard_jackson|\n",
            "|  1985|  1123|          0|       154|       al_brown|\n",
            "|  1985|  1124|          0|       154|     jim_haller|\n",
            "|  1985|  1126|          0|       154|   cy_mcclairen|\n",
            "+------+------+-----------+----------+---------------+\n",
            "only showing top 20 rows\n",
            "\n"
          ]
        }
      ],
      "source": [
        "Coaches.show()"
      ]
    },
    {
      "cell_type": "markdown",
      "metadata": {
        "id": "5nWnumC2_kTJ"
      },
      "source": [
        "# Clean / Explore Data"
      ]
    },
    {
      "cell_type": "code",
      "execution_count": 24,
      "metadata": {
        "id": "Th6pwnvVqQIu"
      },
      "outputs": [],
      "source": [
        "WinTeams = RegularSeason.groupBy('Season', 'WTeamID').sum('WScore','LScore','NumOT','WFGM','WFGA','WFGM3','WFGA3','WFTM','WFTA','WOR','WDR','WAst','WTO','WStl','WBlk','WPF','LFGM','LFGA','LFGM3','LFGA3','LFTM','LFTA','LOR','LDR','LAst','LTO','LStl','LBlk','LPF')\n",
        "LoseTeams = RegularSeason.groupBy('Season', 'LTeamID').sum('WScore','LScore','NumOT','WFGM','WFGA','WFGM3','WFGA3','WFTM','WFTA','WOR','WDR','WAst','WTO','WStl','WBlk','WPF','LFGM','LFGA','LFGM3','LFGA3','LFTM','LFTA','LOR','LDR','LAst','LTO','LStl','LBlk','LPF')"
      ]
    },
    {
      "cell_type": "code",
      "execution_count": null,
      "metadata": {
        "colab": {
          "background_save": true
        },
        "id": "dGN5yaI89I_F",
        "outputId": "a4798512-e004-408d-d174-fcfcd759fb3c"
      },
      "outputs": [
        {
          "ename": "NameError",
          "evalue": "ignored",
          "output_type": "error",
          "traceback": [
            "\u001b[0;31m---------------------------------------------------------------------------\u001b[0m",
            "\u001b[0;31mNameError\u001b[0m                                 Traceback (most recent call last)",
            "\u001b[0;32m<ipython-input-10-f72f7b11582d>\u001b[0m in \u001b[0;36m<module>\u001b[0;34m()\u001b[0m\n\u001b[0;32m----> 1\u001b[0;31m for column in [column for column in dataframe2.columns\n\u001b[0m\u001b[1;32m      2\u001b[0m                if column not in dataframe1.columns]:\n\u001b[1;32m      3\u001b[0m     \u001b[0mdataframe1\u001b[0m \u001b[0;34m=\u001b[0m \u001b[0mdataframe1\u001b[0m\u001b[0;34m.\u001b[0m\u001b[0mwithColumn\u001b[0m\u001b[0;34m(\u001b[0m\u001b[0mcolumn\u001b[0m\u001b[0;34m,\u001b[0m \u001b[0mlit\u001b[0m\u001b[0;34m(\u001b[0m\u001b[0;32mNone\u001b[0m\u001b[0;34m)\u001b[0m\u001b[0;34m)\u001b[0m\u001b[0;34m\u001b[0m\u001b[0;34m\u001b[0m\u001b[0m\n",
            "\u001b[0;31mNameError\u001b[0m: name 'dataframe2' is not defined"
          ]
        }
      ],
      "source": [
        "for column in [column for column in dataframe2.columns\n",
        "               if column not in dataframe1.columns]:\n",
        "    dataframe1 = dataframe1.withColumn(column, lit(None))"
      ]
    },
    {
      "cell_type": "code",
      "execution_count": 31,
      "metadata": {
        "colab": {
          "base_uri": "https://localhost:8080/"
        },
        "id": "5RwYbtfmX9Kr",
        "outputId": "6d2e8cfa-2783-4a82-b7e3-722f6bff9256"
      },
      "outputs": [
        {
          "output_type": "stream",
          "name": "stdout",
          "text": [
            "+------+------+----+-----+--------+\n",
            "|Season|TeamID|Wins|Loses|NumGames|\n",
            "+------+------+----+-----+--------+\n",
            "|  2003|  1226|  13|   14|      27|\n",
            "|  2003|  1189|  10|   15|      25|\n",
            "|  2009|  1401|  23|    9|      32|\n",
            "|  2011|  1431|  24|    9|      33|\n",
            "|  2006|  1173|  13|   17|      30|\n",
            "|  2006|  1153|  18|   12|      30|\n",
            "|  2007|  1275|  18|   14|      32|\n",
            "|  2007|  1175|  20|   12|      32|\n",
            "|  2008|  1145|   6|   25|      31|\n",
            "|  2008|  1313|  16|   15|      31|\n",
            "|  2008|  1229|  23|    9|      32|\n",
            "|  2008|  1325|  19|   12|      31|\n",
            "|  2009|  1286|  13|   17|      30|\n",
            "|  2009|  1189|   9|   20|      29|\n",
            "|  2009|  1267|  12|   17|      29|\n",
            "|  2012|  1334|   9|   19|      28|\n",
            "|  2013|  1158|  24|    9|      33|\n",
            "|  2013|  1104|  20|   12|      32|\n",
            "|  2015|  1165|  12|   17|      29|\n",
            "|  2015|  1337|  17|   13|      30|\n",
            "+------+------+----+-----+--------+\n",
            "only showing top 20 rows\n",
            "\n"
          ]
        }
      ],
      "source": [
        "NumWin = RegularSeason.groupBy('Season', 'WTeamID').count()\n",
        "NumWin = NumWin.withColumnRenamed(\"count\", \"Wins\")\n",
        "NumWin = NumWin.withColumnRenamed(\"WTeamID\", \"TeamID\")\n",
        "\n",
        "NumLose = RegularSeason.groupBy('Season', 'LTeamID').count()\n",
        "NumLose = NumLose.withColumnRenamed(\"count\", \"Loses\")\n",
        "NumLose = NumLose.withColumnRenamed(\"LTeamID\", \"TeamID\")\n",
        "\n",
        "merged_df = NumWin.join(NumLose, ['Season','TeamID'])\n",
        "merged_df = merged_df.withColumn('NumGames', merged_df.Wins + merged_df.Loses)\n",
        "merged_df.show()"
      ]
    },
    {
      "cell_type": "markdown",
      "metadata": {
        "id": "uuc2LaZ35di9"
      },
      "source": [
        "for win team: rename all w to generaric ones and all L to opp as they are opponent stats.\n",
        "\n",
        "Also add count to get number of wins\n",
        "\n",
        "\n"
      ]
    },
    {
      "cell_type": "markdown",
      "metadata": {
        "id": "Ze_I7Wuh5oqr"
      },
      "source": [
        "for lose team: rename all L to generaric ones and all W to opp as they are opponent stats\n",
        "\n",
        "Also add count to get number of loses"
      ]
    },
    {
      "cell_type": "markdown",
      "metadata": {
        "id": "Gtx1iOhA7ns_"
      },
      "source": [
        "the combine them off of team id"
      ]
    },
    {
      "cell_type": "code",
      "execution_count": 28,
      "metadata": {
        "colab": {
          "base_uri": "https://localhost:8080/"
        },
        "id": "UA74fPb41tvN",
        "outputId": "132b8aa2-0ce0-4359-edc3-6d12ceaf7e8b"
      },
      "outputs": [
        {
          "output_type": "stream",
          "name": "stdout",
          "text": [
            "+------+-------+-----------+-----------+----------+---------+---------+----------+----------+---------+---------+--------+--------+---------+--------+---------+---------+--------+---------+---------+----------+----------+---------+---------+--------+--------+---------+--------+---------+---------+--------+\n",
            "|Season|WTeamID|sum(WScore)|sum(LScore)|sum(NumOT)|sum(WFGM)|sum(WFGA)|sum(WFGM3)|sum(WFGA3)|sum(WFTM)|sum(WFTA)|sum(WOR)|sum(WDR)|sum(WAst)|sum(WTO)|sum(WStl)|sum(WBlk)|sum(WPF)|sum(LFGM)|sum(LFGA)|sum(LFGM3)|sum(LFGA3)|sum(LFTM)|sum(LFTA)|sum(LOR)|sum(LDR)|sum(LAst)|sum(LTO)|sum(LStl)|sum(LBlk)|sum(LPF)|\n",
            "+------+-------+-----------+-----------+----------+---------+---------+----------+----------+---------+---------+--------+--------+---------+--------+---------+---------+--------+---------+---------+----------+----------+---------+---------+--------+--------+---------+--------+---------+---------+--------+\n",
            "|  2003|   1226|        974|        880|         2|      342|      729|        86|       218|      204|      312|     136|     326|      217|     192|      110|       57|     237|      306|      752|        80|       244|      188|      264|     153|     294|      178|     203|       87|       33|     279|\n",
            "|  2003|   1189|        672|        590|         0|      244|      511|        42|       119|      142|      193|     119|     234|      112|     158|       75|       26|     161|      223|      527|        53|       165|       91|      148|     100|     175|      100|     135|       70|       32|     167|\n",
            "|  2009|   1401|       1722|       1473|         1|      579|     1243|       146|       375|      418|      587|     285|     584|      314|     275|      124|       92|     366|      551|     1307|       149|       417|      222|      336|     230|     477|      306|     289|      120|       76|     504|\n",
            "|  2011|   1431|       1710|       1415|         0|      594|     1229|       135|       346|      387|      567|     184|     624|      375|     292|      158|       94|     413|      511|     1328|       133|       472|      260|      389|     263|     559|      287|     343|      148|       66|     473|\n",
            "|  2006|   1173|        903|        717|         1|      328|      703|        86|       212|      161|      237|     157|     319|      200|     175|       80|       49|     230|      251|      671|        59|       225|      156|      244|     145|     261|      122|     195|       63|       42|     241|\n",
            "|  2006|   1153|       1447|       1185|         1|      522|     1135|       110|       322|      293|      375|     231|     455|      266|     193|      141|      109|     294|      430|     1080|       123|       342|      202|      309|     237|     412|      213|     296|       82|       72|     322|\n",
            "|  2007|   1275|       1187|        998|         2|      432|      870|       102|       280|      221|      296|     132|     437|      260|     217|      117|       74|     307|      350|      920|        87|       297|      211|      316|     196|     350|      154|     217|      129|       40|     323|\n",
            "|  2007|   1175|       1285|       1097|         1|      448|      947|       131|       341|      258|      348|     209|     369|      249|     237|      120|       53|     314|      402|      924|        83|       285|      210|      335|     230|     339|      163|     276|      101|       48|     336|\n",
            "|  2008|   1325|       1359|       1161|         0|      469|      982|       125|       342|      296|      414|     215|     449|      290|     269|      151|       45|     297|      411|     1001|       141|       431|      198|      295|     199|     368|      227|     294|      114|       48|     368|\n",
            "|  2008|   1313|       1186|       1056|         1|      436|      943|        83|       260|      231|      331|     205|     389|      185|     252|      145|       66|     328|      365|      903|        98|       301|      228|      352|     198|     350|      190|     266|      100|       41|     299|\n",
            "|  2008|   1229|       1528|       1268|         0|      542|     1171|       183|       462|      261|      408|     215|     572|      359|     287|      161|       71|     389|      449|     1186|       127|       439|      243|      368|     237|     498|      249|     332|      148|       56|     405|\n",
            "|  2008|   1145|        455|        373|         0|      162|      333|        55|       136|       76|      106|      67|     143|      101|      82|       43|       27|     120|      126|      326|        30|       110|       91|      139|      78|     119|       71|      84|       39|       14|      98|\n",
            "|  2009|   1286|        945|        845|         3|      325|      718|        93|       254|      202|      302|     157|     312|      165|     168|       72|       50|     231|      298|      693|        80|       259|      169|      246|     120|     290|      160|     172|       84|       30|     268|\n",
            "|  2009|   1267|        901|        809|         1|      311|      623|        79|       213|      200|      262|     118|     245|      182|     151|       76|       25|     206|      300|      612|        76|       188|      133|      201|      99|     231|      162|     177|       84|       30|     234|\n",
            "|  2009|   1189|        620|        570|         3|      221|      474|        52|       136|      126|      189|      83|     231|      135|     126|       63|       40|     158|      208|      524|        37|       174|      117|      170|     115|     209|       96|     125|       68|       18|     169|\n",
            "|  2012|   1334|        593|        510|         1|      191|      454|        56|       176|      155|      207|      97|     218|      128|     115|       55|       24|     145|      180|      494|        52|       201|       98|      151|     122|     194|       93|     127|       51|       28|     179|\n",
            "|  2013|   1104|       1270|       1071|         0|      449|     1025|       112|       328|      260|      386|     208|     451|      224|     242|      188|      105|     318|      395|     1020|        91|       319|      190|      283|     223|     440|      178|     315|      107|       65|     342|\n",
            "|  2013|   1158|       1691|       1440|         0|      582|     1242|       159|       425|      368|      530|     255|     660|      303|     304|      119|      104|     349|      538|     1383|       116|       404|      248|      359|     242|     505|      231|     246|      149|       68|     431|\n",
            "|  2015|   1165|        797|        680|         1|      257|      587|        71|       201|      212|      281|      97|     335|      118|     151|       71|       72|     228|      226|      652|        74|       255|      154|      240|     132|     276|      120|     133|       62|       29|     227|\n",
            "|  2015|   1337|       1132|        967|         0|      385|      876|        95|       258|      267|      354|     154|     450|      256|     198|       92|       71|     289|      358|      958|        63|       292|      188|      276|     199|     382|      192|     196|      102|       61|     321|\n",
            "+------+-------+-----------+-----------+----------+---------+---------+----------+----------+---------+---------+--------+--------+---------+--------+---------+---------+--------+---------+---------+----------+----------+---------+---------+--------+--------+---------+--------+---------+---------+--------+\n",
            "only showing top 20 rows\n",
            "\n",
            "+------+-------+-----------+-----------+----------+---------+---------+----------+----------+---------+---------+--------+--------+---------+--------+---------+---------+--------+---------+---------+----------+----------+---------+---------+--------+--------+---------+--------+---------+---------+--------+\n",
            "|Season|LTeamID|sum(WScore)|sum(LScore)|sum(NumOT)|sum(WFGM)|sum(WFGA)|sum(WFGM3)|sum(WFGA3)|sum(WFTM)|sum(WFTA)|sum(WOR)|sum(WDR)|sum(WAst)|sum(WTO)|sum(WStl)|sum(WBlk)|sum(WPF)|sum(LFGM)|sum(LFGA)|sum(LFGM3)|sum(LFGA3)|sum(LFTM)|sum(LFTA)|sum(LOR)|sum(LDR)|sum(LAst)|sum(LTO)|sum(LStl)|sum(LBlk)|sum(LPF)|\n",
            "+------+-------+-----------+-----------+----------+---------+---------+----------+----------+---------+---------+--------+--------+---------+--------+---------+---------+--------+---------+---------+----------+----------+---------+---------+--------+--------+---------+--------+---------+---------+--------+\n",
            "|  2003|   1226|       1042|        932|         2|      345|      738|        95|       252|      257|      362|     168|     367|      204|     248|       96|       44|     241|      356|      846|        62|       219|      158|      250|     168|     283|      168|     212|      107|       35|     300|\n",
            "|  2003|   1189|       1121|        888|         3|      360|      748|       100|       259|      301|      381|     154|     361|      201|     216|      139|       68|     261|      329|      844|        71|       230|      159|      264|     204|     280|      167|     247|      105|       38|     326|\n",
            "|  2009|   1401|        650|        573|         0|      227|      497|        52|       138|      144|      196|      98|     213|      108|     111|       61|       32|     187|      187|      473|        47|       153|      152|      233|     118|     199|       76|     136|       35|       32|     182|\n",
            "|  2011|   1431|        683|        616|         3|      230|      512|        72|       196|      151|      219|     104|     251|      143|     131|       59|       29|     159|      230|      532|        53|       161|      103|      164|      83|     215|      127|     118|       62|       28|     194|\n",
            "|  2006|   1173|       1153|        998|         2|      384|      890|       109|       321|      276|      383|     178|     387|      217|     190|       86|       81|     269|      367|      923|        98|       272|      166|      256|     210|     390|      200|     244|       67|       37|     337|\n",
            "|  2006|   1153|        904|        775|         1|      325|      746|        89|       238|      165|      228|     177|     336|      184|     172|       81|       63|     196|      277|      743|        68|       233|      153|      218|     161|     265|      126|     160|       74|       61|     222|\n",
            "|  2007|   1275|        839|        719|         0|      301|      683|        74|       200|      163|      229|     138|     301|      152|     165|       98|       50|     215|      267|      651|        60|       208|      125|      192|     125|     280|      151|     210|       69|       57|     238|\n",
            "|  2007|   1175|        774|        606|         0|      291|      538|        64|       147|      128|      197|     112|     235|      177|     143|       71|       26|     155|      210|      558|        70|       250|      116|      154|     127|     168|      117|     151|       68|       35|     194|\n",
            "|  2008|   1145|       1896|       1468|         0|      650|     1440|       190|       507|      406|      580|     334|     621|      385|     297|      214|       92|     381|      526|     1396|       179|       562|      237|      376|     319|     550|      264|     422|      136|      103|     500|\n",
            "|  2008|   1313|       1133|        972|         0|      376|      802|       109|       267|      272|      414|     194|     371|      220|     228|      101|       55|     225|      381|      912|        73|       259|      137|      222|     199|     316|      156|     228|      123|       41|     334|\n",
            "|  2008|   1229|        659|        579|         0|      217|      465|        66|       166|      159|      214|     106|     196|      128|     109|       58|       21|     157|      209|      470|        53|       161|      108|      169|     101|     173|      108|     121|       50|       33|     199|\n",
            "|  2008|   1325|        833|        722|         0|      284|      594|        94|       245|      171|      257|     115|     271|      171|     160|       85|       36|     212|      240|      611|        80|       251|      162|      223|     129|     243|      148|     178|       80|       19|     231|\n",
            "|  2009|   1286|       1241|       1030|         1|      445|      918|       109|       270|      242|      336|     163|     415|      236|     181|      111|       56|     315|      354|      917|        88|       309|      234|      350|     204|     368|      168|     235|       85|       49|     314|\n",
            "|  2009|   1189|       1520|       1257|         1|      546|     1076|       136|       322|      292|      419|     197|     514|      294|     259|      125|       59|     344|      457|     1107|       123|       366|      220|      338|     201|     406|      244|     278|      130|       56|     377|\n",
            "|  2009|   1267|       1260|       1093|         1|      414|      853|        90|       215|      342|      454|     153|     423|      210|     228|      104|       56|     344|      364|      949|        97|       351|      268|      388|     214|     339|      179|     227|       97|       33|     375|\n",
            "|  2012|   1334|       1381|       1146|         1|      467|      994|       176|       432|      271|      362|     199|     491|      279|     233|      109|       72|     314|      407|     1028|       126|       395|      206|      312|     189|     381|      219|     220|       87|       26|     335|\n",
            "|  2013|   1158|        593|        480|         0|      216|      493|        44|       141|      117|      151|      80|     225|       90|      81|       78|       25|     138|      181|      482|        35|       142|       83|      130|     107|     216|       70|     131|       28|       36|     134|\n",
            "|  2013|   1104|        827|        733|         3|      281|      628|        67|       197|      198|      274|     127|     275|      145|     134|       75|       52|     180|      265|      641|        64|       195|      139|      187|     126|     252|      111|     157|       75|       38|     242|\n",
            "|  2015|   1165|       1129|        964|         1|      369|      857|       114|       310|      277|      386|     171|     482|      208|     230|       94|       54|     282|      322|      898|        96|       350|      224|      302|     131|     371|      167|     204|      100|       65|     331|\n",
            "|  2015|   1337|        882|        767|         0|      317|      674|        67|       196|      181|      281|     148|     295|      172|     162|      100|       42|     235|      280|      674|        43|       176|      164|      222|     127|     259|      141|     174|       87|       29|     243|\n",
            "+------+-------+-----------+-----------+----------+---------+---------+----------+----------+---------+---------+--------+--------+---------+--------+---------+---------+--------+---------+---------+----------+----------+---------+---------+--------+--------+---------+--------+---------+---------+--------+\n",
            "only showing top 20 rows\n",
            "\n"
          ]
        }
      ],
      "source": [
        "WinTeams.show()\n",
        "LoseTeams.show()"
      ]
    },
    {
      "cell_type": "code",
      "execution_count": 29,
      "metadata": {
        "colab": {
          "base_uri": "https://localhost:8080/"
        },
        "id": "zQoWWIxE2vrS",
        "outputId": "8edd2c64-1f06-4025-977e-4649cfe8c646"
      },
      "outputs": [
        {
          "output_type": "stream",
          "name": "stdout",
          "text": [
            "+------+------+----+------+---+---+----+----+----+---+---+---+---+---+---+---+---+---+------+------+-------+-------+------+------+-----+-----+------+-----+------+------+-----+\n",
            "|Season|TeamID| PTS|OppPTS|OTs|FGM| FGA|FGM3|FGA3|FTM|FTA| OR| DR|AST| TO|STL|BLK| PF|OppFGM|OppFGA|OppFGM3|OppFGA3|OppFTM|OppFTA|OppOR|OppDR|OppAST|OppTO|OppSTL|OppBLK|OppPF|\n",
            "+------+------+----+------+---+---+----+----+----+---+---+---+---+---+---+---+---+---+------+------+-------+-------+------+------+-----+-----+------+-----+------+------+-----+\n",
            "|  2003|  1226| 974|   880|  2|342| 729|  86| 218|204|312|136|326|217|192|110| 57|237|   306|   752|     80|    244|   188|   264|  153|  294|   178|  203|    87|    33|  279|\n",
            "|  2003|  1189| 672|   590|  0|244| 511|  42| 119|142|193|119|234|112|158| 75| 26|161|   223|   527|     53|    165|    91|   148|  100|  175|   100|  135|    70|    32|  167|\n",
            "|  2009|  1401|1722|  1473|  1|579|1243| 146| 375|418|587|285|584|314|275|124| 92|366|   551|  1307|    149|    417|   222|   336|  230|  477|   306|  289|   120|    76|  504|\n",
            "|  2011|  1431|1710|  1415|  0|594|1229| 135| 346|387|567|184|624|375|292|158| 94|413|   511|  1328|    133|    472|   260|   389|  263|  559|   287|  343|   148|    66|  473|\n",
            "|  2006|  1173| 903|   717|  1|328| 703|  86| 212|161|237|157|319|200|175| 80| 49|230|   251|   671|     59|    225|   156|   244|  145|  261|   122|  195|    63|    42|  241|\n",
            "|  2006|  1153|1447|  1185|  1|522|1135| 110| 322|293|375|231|455|266|193|141|109|294|   430|  1080|    123|    342|   202|   309|  237|  412|   213|  296|    82|    72|  322|\n",
            "|  2007|  1275|1187|   998|  2|432| 870| 102| 280|221|296|132|437|260|217|117| 74|307|   350|   920|     87|    297|   211|   316|  196|  350|   154|  217|   129|    40|  323|\n",
            "|  2007|  1175|1285|  1097|  1|448| 947| 131| 341|258|348|209|369|249|237|120| 53|314|   402|   924|     83|    285|   210|   335|  230|  339|   163|  276|   101|    48|  336|\n",
            "|  2008|  1325|1359|  1161|  0|469| 982| 125| 342|296|414|215|449|290|269|151| 45|297|   411|  1001|    141|    431|   198|   295|  199|  368|   227|  294|   114|    48|  368|\n",
            "|  2008|  1313|1186|  1056|  1|436| 943|  83| 260|231|331|205|389|185|252|145| 66|328|   365|   903|     98|    301|   228|   352|  198|  350|   190|  266|   100|    41|  299|\n",
            "|  2008|  1229|1528|  1268|  0|542|1171| 183| 462|261|408|215|572|359|287|161| 71|389|   449|  1186|    127|    439|   243|   368|  237|  498|   249|  332|   148|    56|  405|\n",
            "|  2008|  1145| 455|   373|  0|162| 333|  55| 136| 76|106| 67|143|101| 82| 43| 27|120|   126|   326|     30|    110|    91|   139|   78|  119|    71|   84|    39|    14|   98|\n",
            "|  2009|  1286| 945|   845|  3|325| 718|  93| 254|202|302|157|312|165|168| 72| 50|231|   298|   693|     80|    259|   169|   246|  120|  290|   160|  172|    84|    30|  268|\n",
            "|  2009|  1267| 901|   809|  1|311| 623|  79| 213|200|262|118|245|182|151| 76| 25|206|   300|   612|     76|    188|   133|   201|   99|  231|   162|  177|    84|    30|  234|\n",
            "|  2009|  1189| 620|   570|  3|221| 474|  52| 136|126|189| 83|231|135|126| 63| 40|158|   208|   524|     37|    174|   117|   170|  115|  209|    96|  125|    68|    18|  169|\n",
            "|  2012|  1334| 593|   510|  1|191| 454|  56| 176|155|207| 97|218|128|115| 55| 24|145|   180|   494|     52|    201|    98|   151|  122|  194|    93|  127|    51|    28|  179|\n",
            "|  2013|  1104|1270|  1071|  0|449|1025| 112| 328|260|386|208|451|224|242|188|105|318|   395|  1020|     91|    319|   190|   283|  223|  440|   178|  315|   107|    65|  342|\n",
            "|  2013|  1158|1691|  1440|  0|582|1242| 159| 425|368|530|255|660|303|304|119|104|349|   538|  1383|    116|    404|   248|   359|  242|  505|   231|  246|   149|    68|  431|\n",
            "|  2015|  1165| 797|   680|  1|257| 587|  71| 201|212|281| 97|335|118|151| 71| 72|228|   226|   652|     74|    255|   154|   240|  132|  276|   120|  133|    62|    29|  227|\n",
            "|  2015|  1337|1132|   967|  0|385| 876|  95| 258|267|354|154|450|256|198| 92| 71|289|   358|   958|     63|    292|   188|   276|  199|  382|   192|  196|   102|    61|  321|\n",
            "+------+------+----+------+---+---+----+----+----+---+---+---+---+---+---+---+---+---+------+------+-------+-------+------+------+-----+-----+------+-----+------+------+-----+\n",
            "only showing top 20 rows\n",
            "\n"
          ]
        }
      ],
      "source": [
        "WinTeams = WinTeams.withColumnRenamed(\"WTeamID\", \"TeamID\")\n",
        "WinTeams = WinTeams.withColumnRenamed(\"sum(WScore)\", \"PTS\")\n",
        "WinTeams = WinTeams.withColumnRenamed(\"sum(LScore)\", \"OppPTS\")\n",
        "WinTeams = WinTeams.withColumnRenamed(\"sum(NumOT)\", \"OTs\")\n",
        "WinTeams = WinTeams.withColumnRenamed(\"sum(WFGM)\", \"FGM\")\n",
        "WinTeams = WinTeams.withColumnRenamed(\"sum(WFGA)\", \"FGA\")\n",
        "WinTeams = WinTeams.withColumnRenamed(\"sum(WFGA3)\", \"FGA3\")\n",
        "WinTeams = WinTeams.withColumnRenamed(\"sum(WFGM3)\", \"FGM3\")\n",
        "WinTeams = WinTeams.withColumnRenamed(\"sum(WFTA)\", \"FTA\")\n",
        "WinTeams = WinTeams.withColumnRenamed(\"sum(WFTM)\", \"FTM\")\n",
        "WinTeams = WinTeams.withColumnRenamed(\"sum(WOR)\", \"OR\")\n",
        "WinTeams = WinTeams.withColumnRenamed(\"sum(WDR)\", \"DR\")\n",
        "WinTeams = WinTeams.withColumnRenamed(\"sum(WAst)\", \"AST\")\n",
        "WinTeams = WinTeams.withColumnRenamed(\"sum(WTO)\", \"TO\")\n",
        "WinTeams = WinTeams.withColumnRenamed(\"sum(WStl)\", \"STL\")\n",
        "WinTeams = WinTeams.withColumnRenamed(\"sum(WBlk)\", \"BLK\")\n",
        "WinTeams = WinTeams.withColumnRenamed(\"sum(WPF)\", \"PF\")\n",
        "WinTeams = WinTeams.withColumnRenamed(\"sum(LFGM)\", \"OppFGM\")\n",
        "WinTeams = WinTeams.withColumnRenamed(\"sum(LFGA)\", \"OppFGA\")\n",
        "WinTeams = WinTeams.withColumnRenamed(\"sum(LFGA3)\", \"OppFGA3\")\n",
        "WinTeams = WinTeams.withColumnRenamed(\"sum(LFGM3)\", \"OppFGM3\")\n",
        "WinTeams = WinTeams.withColumnRenamed(\"sum(LFTA)\", \"OppFTA\")\n",
        "WinTeams = WinTeams.withColumnRenamed(\"sum(LFTM)\", \"OppFTM\")\n",
        "WinTeams = WinTeams.withColumnRenamed(\"sum(LOR)\", \"OppOR\")\n",
        "WinTeams = WinTeams.withColumnRenamed(\"sum(LDR)\", \"OppDR\")\n",
        "WinTeams = WinTeams.withColumnRenamed(\"sum(LAst)\", \"OppAST\")\n",
        "WinTeams = WinTeams.withColumnRenamed(\"sum(LTO)\", \"OppTO\")\n",
        "WinTeams = WinTeams.withColumnRenamed(\"sum(LStl)\", \"OppSTL\")\n",
        "WinTeams = WinTeams.withColumnRenamed(\"sum(LBlk)\", \"OppBLK\")\n",
        "WinTeams = WinTeams.withColumnRenamed(\"sum(LPF)\", \"OppPF\")\n",
        "WinTeams.show()"
      ]
    },
    {
      "cell_type": "code",
      "execution_count": 30,
      "metadata": {
        "colab": {
          "base_uri": "https://localhost:8080/"
        },
        "id": "jiRv0yOyWcEq",
        "outputId": "a7c5eae3-57b5-4708-93cc-c9c847af6f12"
      },
      "outputs": [
        {
          "output_type": "stream",
          "name": "stdout",
          "text": [
            "+------+------+------+----+---+------+------+-------+-------+------+------+-----+-----+------+-----+------+------+-----+---+----+----+----+---+---+---+---+---+---+---+---+---+\n",
            "|Season|TeamID|OppPTS| PTS|OTs|OppFGM|OppFGA|OppFGM3|OppFGA3|OppFTM|OppFTA|OppOR|OppDR|OppAST|OppTO|OppSTL|OppBLK|OppPF|FGM| FGA|FGM3|FGA3|FTM|FTA| OR| DR|AST| TO|STL|BLK| PF|\n",
            "+------+------+------+----+---+------+------+-------+-------+------+------+-----+-----+------+-----+------+------+-----+---+----+----+----+---+---+---+---+---+---+---+---+---+\n",
            "|  2003|  1226|  1042| 932|  2|   345|   738|     95|    252|   257|   362|  168|  367|   204|  248|    96|    44|  241|356| 846|  62| 219|158|250|168|283|168|212|107| 35|300|\n",
            "|  2003|  1189|  1121| 888|  3|   360|   748|    100|    259|   301|   381|  154|  361|   201|  216|   139|    68|  261|329| 844|  71| 230|159|264|204|280|167|247|105| 38|326|\n",
            "|  2009|  1401|   650| 573|  0|   227|   497|     52|    138|   144|   196|   98|  213|   108|  111|    61|    32|  187|187| 473|  47| 153|152|233|118|199| 76|136| 35| 32|182|\n",
            "|  2011|  1431|   683| 616|  3|   230|   512|     72|    196|   151|   219|  104|  251|   143|  131|    59|    29|  159|230| 532|  53| 161|103|164| 83|215|127|118| 62| 28|194|\n",
            "|  2006|  1173|  1153| 998|  2|   384|   890|    109|    321|   276|   383|  178|  387|   217|  190|    86|    81|  269|367| 923|  98| 272|166|256|210|390|200|244| 67| 37|337|\n",
            "|  2006|  1153|   904| 775|  1|   325|   746|     89|    238|   165|   228|  177|  336|   184|  172|    81|    63|  196|277| 743|  68| 233|153|218|161|265|126|160| 74| 61|222|\n",
            "|  2007|  1275|   839| 719|  0|   301|   683|     74|    200|   163|   229|  138|  301|   152|  165|    98|    50|  215|267| 651|  60| 208|125|192|125|280|151|210| 69| 57|238|\n",
            "|  2007|  1175|   774| 606|  0|   291|   538|     64|    147|   128|   197|  112|  235|   177|  143|    71|    26|  155|210| 558|  70| 250|116|154|127|168|117|151| 68| 35|194|\n",
            "|  2008|  1145|  1896|1468|  0|   650|  1440|    190|    507|   406|   580|  334|  621|   385|  297|   214|    92|  381|526|1396| 179| 562|237|376|319|550|264|422|136|103|500|\n",
            "|  2008|  1313|  1133| 972|  0|   376|   802|    109|    267|   272|   414|  194|  371|   220|  228|   101|    55|  225|381| 912|  73| 259|137|222|199|316|156|228|123| 41|334|\n",
            "|  2008|  1229|   659| 579|  0|   217|   465|     66|    166|   159|   214|  106|  196|   128|  109|    58|    21|  157|209| 470|  53| 161|108|169|101|173|108|121| 50| 33|199|\n",
            "|  2008|  1325|   833| 722|  0|   284|   594|     94|    245|   171|   257|  115|  271|   171|  160|    85|    36|  212|240| 611|  80| 251|162|223|129|243|148|178| 80| 19|231|\n",
            "|  2009|  1286|  1241|1030|  1|   445|   918|    109|    270|   242|   336|  163|  415|   236|  181|   111|    56|  315|354| 917|  88| 309|234|350|204|368|168|235| 85| 49|314|\n",
            "|  2009|  1189|  1520|1257|  1|   546|  1076|    136|    322|   292|   419|  197|  514|   294|  259|   125|    59|  344|457|1107| 123| 366|220|338|201|406|244|278|130| 56|377|\n",
            "|  2009|  1267|  1260|1093|  1|   414|   853|     90|    215|   342|   454|  153|  423|   210|  228|   104|    56|  344|364| 949|  97| 351|268|388|214|339|179|227| 97| 33|375|\n",
            "|  2012|  1334|  1381|1146|  1|   467|   994|    176|    432|   271|   362|  199|  491|   279|  233|   109|    72|  314|407|1028| 126| 395|206|312|189|381|219|220| 87| 26|335|\n",
            "|  2013|  1158|   593| 480|  0|   216|   493|     44|    141|   117|   151|   80|  225|    90|   81|    78|    25|  138|181| 482|  35| 142| 83|130|107|216| 70|131| 28| 36|134|\n",
            "|  2013|  1104|   827| 733|  3|   281|   628|     67|    197|   198|   274|  127|  275|   145|  134|    75|    52|  180|265| 641|  64| 195|139|187|126|252|111|157| 75| 38|242|\n",
            "|  2015|  1165|  1129| 964|  1|   369|   857|    114|    310|   277|   386|  171|  482|   208|  230|    94|    54|  282|322| 898|  96| 350|224|302|131|371|167|204|100| 65|331|\n",
            "|  2015|  1337|   882| 767|  0|   317|   674|     67|    196|   181|   281|  148|  295|   172|  162|   100|    42|  235|280| 674|  43| 176|164|222|127|259|141|174| 87| 29|243|\n",
            "+------+------+------+----+---+------+------+-------+-------+------+------+-----+-----+------+-----+------+------+-----+---+----+----+----+---+---+---+---+---+---+---+---+---+\n",
            "only showing top 20 rows\n",
            "\n"
          ]
        }
      ],
      "source": [
        "LoseTeams = LoseTeams.withColumnRenamed(\"LTeamID\", \"TeamID\")\n",
        "LoseTeams = LoseTeams.withColumnRenamed(\"sum(WScore)\", \"OppPTS\")\n",
        "LoseTeams = LoseTeams.withColumnRenamed(\"sum(LScore)\", \"PTS\")\n",
        "LoseTeams = LoseTeams.withColumnRenamed(\"sum(NumOT)\", \"OTs\")\n",
        "LoseTeams = LoseTeams.withColumnRenamed(\"sum(WFGM)\", \"OppFGM\")\n",
        "LoseTeams = LoseTeams.withColumnRenamed(\"sum(WFGA)\", \"OppFGA\")\n",
        "LoseTeams = LoseTeams.withColumnRenamed(\"sum(WFGA3)\", \"OppFGA3\")\n",
        "LoseTeams = LoseTeams.withColumnRenamed(\"sum(WFGM3)\", \"OppFGM3\")\n",
        "LoseTeams = LoseTeams.withColumnRenamed(\"sum(WFTA)\", \"OppFTA\")\n",
        "LoseTeams = LoseTeams.withColumnRenamed(\"sum(WFTM)\", \"OppFTM\")\n",
        "LoseTeams = LoseTeams.withColumnRenamed(\"sum(WOR)\", \"OppOR\")\n",
        "LoseTeams = LoseTeams.withColumnRenamed(\"sum(WDR)\", \"OppDR\")\n",
        "LoseTeams = LoseTeams.withColumnRenamed(\"sum(WAst)\", \"OppAST\")\n",
        "LoseTeams = LoseTeams.withColumnRenamed(\"sum(WTO)\", \"OppTO\")\n",
        "LoseTeams = LoseTeams.withColumnRenamed(\"sum(WStl)\", \"OppSTL\")\n",
        "LoseTeams = LoseTeams.withColumnRenamed(\"sum(WBlk)\", \"OppBLK\")\n",
        "LoseTeams = LoseTeams.withColumnRenamed(\"sum(WPF)\", \"OppPF\")\n",
        "LoseTeams = LoseTeams.withColumnRenamed(\"sum(LFGM)\", \"FGM\")\n",
        "LoseTeams = LoseTeams.withColumnRenamed(\"sum(LFGA)\", \"FGA\")\n",
        "LoseTeams = LoseTeams.withColumnRenamed(\"sum(LFGA3)\", \"FGA3\")\n",
        "LoseTeams = LoseTeams.withColumnRenamed(\"sum(LFGM3)\", \"FGM3\")\n",
        "LoseTeams = LoseTeams.withColumnRenamed(\"sum(LFTA)\", \"FTA\")\n",
        "LoseTeams = LoseTeams.withColumnRenamed(\"sum(LFTM)\", \"FTM\")\n",
        "LoseTeams = LoseTeams.withColumnRenamed(\"sum(LOR)\", \"OR\")\n",
        "LoseTeams = LoseTeams.withColumnRenamed(\"sum(LDR)\", \"DR\")\n",
        "LoseTeams = LoseTeams.withColumnRenamed(\"sum(LAst)\", \"AST\")\n",
        "LoseTeams = LoseTeams.withColumnRenamed(\"sum(LTO)\", \"TO\")\n",
        "LoseTeams = LoseTeams.withColumnRenamed(\"sum(LStl)\", \"STL\")\n",
        "LoseTeams = LoseTeams.withColumnRenamed(\"sum(LBlk)\", \"BLK\")\n",
        "LoseTeams = LoseTeams.withColumnRenamed(\"sum(LPF)\", \"PF\")\n",
        "LoseTeams.show()"
      ]
    },
    {
      "cell_type": "code",
      "source": [
        "LoseTeams.filter(LoseTeams.Season == 2022).show()"
      ],
      "metadata": {
        "colab": {
          "base_uri": "https://localhost:8080/"
        },
        "id": "nObPxnvvyvsW",
        "outputId": "ab516c8c-fefe-4072-d393-1657e89da2ed"
      },
      "execution_count": 37,
      "outputs": [
        {
          "output_type": "stream",
          "name": "stdout",
          "text": [
            "+------+------+------+----+---+------+------+-------+-------+------+------+-----+-----+------+-----+------+------+-----+---+----+----+----+---+---+---+---+---+---+---+---+---+\n",
            "|Season|TeamID|OppPTS| PTS|OTs|OppFGM|OppFGA|OppFGM3|OppFGA3|OppFTM|OppFTA|OppOR|OppDR|OppAST|OppTO|OppSTL|OppBLK|OppPF|FGM| FGA|FGM3|FGA3|FTM|FTA| OR| DR|AST| TO|STL|BLK| PF|\n",
            "+------+------+------+----+---+------+------+-------+-------+------+------+-----+-----+------+-----+------+------+-----+---+----+----+----+---+---+---+---+---+---+---+---+---+\n",
            "|  2022|  1175|  1228| 913|  0|   424|   985|    168|    450|   212|   295|  184|  395|   278|  199|   130|    57|  288|326| 863|  76| 268|185|279|132|345|130|260| 95| 70|273|\n",
            "|  2022|  1180|   762| 691|  2|   284|   585|     69|    182|   125|   172|   67|  226|   120|  101|    87|    24|  152|262| 594|  73| 227| 94|124| 87|223|110|135| 38| 31|161|\n",
            "|  2022|  1153|   513| 445|  0|   175|   408|     46|    125|   117|   160|   77|  189|    93|   76|    37|    21|  124|159| 426|  51| 182| 76|124| 63|158| 78| 66| 33| 25|138|\n",
            "|  2022|  1310|   780| 693|  1|   276|   609|     82|    226|   146|   197|   83|  270|   144|  107|    66|    31|  173|249| 595|  76| 226|119|159| 70|244|116|130| 56| 23|180|\n",
            "|  2022|  1244|  1023| 873|  3|   367|   724|    126|    312|   163|   241|   85|  314|   206|  164|    89|    30|  231|319| 766|  92| 291|143|213|126|272|143|165| 80| 32|224|\n",
            "|  2022|  1159|   857| 773|  1|   320|   674|     88|    247|   129|   178|   87|  280|   150|   97|    76|    44|  154|287| 661| 101| 272| 98|147| 90|257|158|133| 55| 40|177|\n",
            "|  2022|  1424|   761| 626|  0|   271|   552|     80|    212|   139|   191|   81|  279|   144|  115|    56|    42|  167|220| 568|  79| 242|107|150| 69|197|113|114| 53| 23|187|\n",
            "|  2022|  1167|   788| 670|  0|   245|   547|     77|    217|   221|   291|   79|  259|   136|  136|    73|    33|  178|259| 651|  47| 162|105|161|118|236| 98|131| 68| 18|243|\n",
            "|  2022|  1423|   509| 433|  0|   176|   372|     48|    116|   109|   148|   55|  193|    88|   84|    38|    26|  110|151| 421|  51| 182| 80|118| 69|140| 65| 74| 44| 22|137|\n",
            "|  2022|  1414|   477| 407|  0|   160|   392|     43|    136|   114|   141|   69|  173|    78|   66|    45|    27|  105|149| 393|  33| 126| 76|102| 70|150| 64| 85| 36| 24|133|\n",
            "|  2022|  1131|   654| 596|  2|   240|   488|     43|    127|   131|   178|   74|  206|   109|  108|    68|    43|  143|213| 515|  66| 226|104|138| 72|181| 92|112| 56| 15|160|\n",
            "|  2022|  1199|   672| 561|  0|   241|   513|     80|    205|   110|   159|   91|  227|   131|  135|    59|    29|  137|198| 518|  52| 186|113|157| 73|176|103|122| 84| 35|153|\n",
            "|  2022|  1415|   479| 403|  0|   179|   374|     39|    105|    82|   121|   40|  182|    76|   77|    34|    26|   98|155| 382|  31| 133| 62| 93| 37|158| 72| 76| 40|  6|111|\n",
            "|  2022|  1226|  1236| 960|  0|   441|   922|    114|    336|   240|   330|  133|  416|   219|  181|   130|    46|  340|328| 878| 101| 383|203|307|129|332|148|233| 87| 39|313|\n",
            "|  2022|  1436|   253| 227|  0|    91|   219|     27|     94|    44|    63|   30|  111|    48|   36|    21|    11|   57| 86| 219|  24|  95| 31| 46| 20| 93| 51| 40| 20| 11| 65|\n",
            "|  2022|  1408|   739| 678|  1|   267|   601|     96|    269|   109|   156|  103|  274|   181|  153|    61|    49|  155|236| 582|  64| 215|142|192| 66|230|104|126| 98| 32|163|\n",
            "|  2022|  1129|   329| 297|  1|   111|   251|     23|     62|    84|   113|   30|  139|    51|   50|    14|    16|   93|105| 301|  32| 129| 55| 87| 55|108| 39| 45| 23| 18| 88|\n",
            "|  2022|  1307|  1126| 972|  2|   391|   820|     93|    270|   251|   344|  143|  395|   198|  172|    95|    48|  239|344| 840| 116| 348|168|239| 94|293|153|174| 81| 50|286|\n",
            "|  2022|  1402|   458| 347|  0|   164|   322|     52|    130|    78|   111|   53|  138|    95|   63|    42|    18|   96|129| 323|  34| 111| 55| 79| 61|114| 69| 76| 29| 17|104|\n",
            "|  2022|  1303|  1708|1339|  0|   589|  1198|    201|    479|   329|   441|  170|  551|   310|  215|   132|    63|  331|479|1168| 146| 423|235|325|147|446|217|268| 93| 56|382|\n",
            "+------+------+------+----+---+------+------+-------+-------+------+------+-----+-----+------+-----+------+------+-----+---+----+----+----+---+---+---+---+---+---+---+---+---+\n",
            "only showing top 20 rows\n",
            "\n"
          ]
        }
      ]
    },
    {
      "cell_type": "code",
      "source": [
        "merge = WinTeams.join(LoseTeams, ['Season','TeamID'])\n",
        "merge.show()"
      ],
      "metadata": {
        "colab": {
          "base_uri": "https://localhost:8080/"
        },
        "id": "vXpWsAaGx2md",
        "outputId": "13380107-328c-4c12-8f43-e9268cbf48c6"
      },
      "execution_count": 33,
      "outputs": [
        {
          "output_type": "stream",
          "name": "stdout",
          "text": [
            "+------+------+----+------+---+---+----+----+----+---+---+---+---+---+---+---+---+---+------+------+-------+-------+------+------+-----+-----+------+-----+------+------+-----+------+----+---+------+------+-------+-------+------+------+-----+-----+------+-----+------+------+-----+---+----+----+----+---+---+---+---+---+---+---+---+---+\n",
            "|Season|TeamID| PTS|OppPTS|OTs|FGM| FGA|FGM3|FGA3|FTM|FTA| OR| DR|AST| TO|STL|BLK| PF|OppFGM|OppFGA|OppFGM3|OppFGA3|OppFTM|OppFTA|OppOR|OppDR|OppAST|OppTO|OppSTL|OppBLK|OppPF|OppPTS| PTS|OTs|OppFGM|OppFGA|OppFGM3|OppFGA3|OppFTM|OppFTA|OppOR|OppDR|OppAST|OppTO|OppSTL|OppBLK|OppPF|FGM| FGA|FGM3|FGA3|FTM|FTA| OR| DR|AST| TO|STL|BLK| PF|\n",
            "+------+------+----+------+---+---+----+----+----+---+---+---+---+---+---+---+---+---+------+------+-------+-------+------+------+-----+-----+------+-----+------+------+-----+------+----+---+------+------+-------+-------+------+------+-----+-----+------+-----+------+------+-----+---+----+----+----+---+---+---+---+---+---+---+---+---+\n",
            "|  2003|  1226| 974|   880|  2|342| 729|  86| 218|204|312|136|326|217|192|110| 57|237|   306|   752|     80|    244|   188|   264|  153|  294|   178|  203|    87|    33|  279|  1042| 932|  2|   345|   738|     95|    252|   257|   362|  168|  367|   204|  248|    96|    44|  241|356| 846|  62| 219|158|250|168|283|168|212|107| 35|300|\n",
            "|  2003|  1189| 672|   590|  0|244| 511|  42| 119|142|193|119|234|112|158| 75| 26|161|   223|   527|     53|    165|    91|   148|  100|  175|   100|  135|    70|    32|  167|  1121| 888|  3|   360|   748|    100|    259|   301|   381|  154|  361|   201|  216|   139|    68|  261|329| 844|  71| 230|159|264|204|280|167|247|105| 38|326|\n",
            "|  2009|  1401|1722|  1473|  1|579|1243| 146| 375|418|587|285|584|314|275|124| 92|366|   551|  1307|    149|    417|   222|   336|  230|  477|   306|  289|   120|    76|  504|   650| 573|  0|   227|   497|     52|    138|   144|   196|   98|  213|   108|  111|    61|    32|  187|187| 473|  47| 153|152|233|118|199| 76|136| 35| 32|182|\n",
            "|  2011|  1431|1710|  1415|  0|594|1229| 135| 346|387|567|184|624|375|292|158| 94|413|   511|  1328|    133|    472|   260|   389|  263|  559|   287|  343|   148|    66|  473|   683| 616|  3|   230|   512|     72|    196|   151|   219|  104|  251|   143|  131|    59|    29|  159|230| 532|  53| 161|103|164| 83|215|127|118| 62| 28|194|\n",
            "|  2006|  1173| 903|   717|  1|328| 703|  86| 212|161|237|157|319|200|175| 80| 49|230|   251|   671|     59|    225|   156|   244|  145|  261|   122|  195|    63|    42|  241|  1153| 998|  2|   384|   890|    109|    321|   276|   383|  178|  387|   217|  190|    86|    81|  269|367| 923|  98| 272|166|256|210|390|200|244| 67| 37|337|\n",
            "|  2006|  1153|1447|  1185|  1|522|1135| 110| 322|293|375|231|455|266|193|141|109|294|   430|  1080|    123|    342|   202|   309|  237|  412|   213|  296|    82|    72|  322|   904| 775|  1|   325|   746|     89|    238|   165|   228|  177|  336|   184|  172|    81|    63|  196|277| 743|  68| 233|153|218|161|265|126|160| 74| 61|222|\n",
            "|  2007|  1275|1187|   998|  2|432| 870| 102| 280|221|296|132|437|260|217|117| 74|307|   350|   920|     87|    297|   211|   316|  196|  350|   154|  217|   129|    40|  323|   839| 719|  0|   301|   683|     74|    200|   163|   229|  138|  301|   152|  165|    98|    50|  215|267| 651|  60| 208|125|192|125|280|151|210| 69| 57|238|\n",
            "|  2007|  1175|1285|  1097|  1|448| 947| 131| 341|258|348|209|369|249|237|120| 53|314|   402|   924|     83|    285|   210|   335|  230|  339|   163|  276|   101|    48|  336|   774| 606|  0|   291|   538|     64|    147|   128|   197|  112|  235|   177|  143|    71|    26|  155|210| 558|  70| 250|116|154|127|168|117|151| 68| 35|194|\n",
            "|  2008|  1145| 455|   373|  0|162| 333|  55| 136| 76|106| 67|143|101| 82| 43| 27|120|   126|   326|     30|    110|    91|   139|   78|  119|    71|   84|    39|    14|   98|  1896|1468|  0|   650|  1440|    190|    507|   406|   580|  334|  621|   385|  297|   214|    92|  381|526|1396| 179| 562|237|376|319|550|264|422|136|103|500|\n",
            "|  2008|  1313|1186|  1056|  1|436| 943|  83| 260|231|331|205|389|185|252|145| 66|328|   365|   903|     98|    301|   228|   352|  198|  350|   190|  266|   100|    41|  299|  1133| 972|  0|   376|   802|    109|    267|   272|   414|  194|  371|   220|  228|   101|    55|  225|381| 912|  73| 259|137|222|199|316|156|228|123| 41|334|\n",
            "|  2008|  1229|1528|  1268|  0|542|1171| 183| 462|261|408|215|572|359|287|161| 71|389|   449|  1186|    127|    439|   243|   368|  237|  498|   249|  332|   148|    56|  405|   659| 579|  0|   217|   465|     66|    166|   159|   214|  106|  196|   128|  109|    58|    21|  157|209| 470|  53| 161|108|169|101|173|108|121| 50| 33|199|\n",
            "|  2008|  1325|1359|  1161|  0|469| 982| 125| 342|296|414|215|449|290|269|151| 45|297|   411|  1001|    141|    431|   198|   295|  199|  368|   227|  294|   114|    48|  368|   833| 722|  0|   284|   594|     94|    245|   171|   257|  115|  271|   171|  160|    85|    36|  212|240| 611|  80| 251|162|223|129|243|148|178| 80| 19|231|\n",
            "|  2009|  1286| 945|   845|  3|325| 718|  93| 254|202|302|157|312|165|168| 72| 50|231|   298|   693|     80|    259|   169|   246|  120|  290|   160|  172|    84|    30|  268|  1241|1030|  1|   445|   918|    109|    270|   242|   336|  163|  415|   236|  181|   111|    56|  315|354| 917|  88| 309|234|350|204|368|168|235| 85| 49|314|\n",
            "|  2009|  1189| 620|   570|  3|221| 474|  52| 136|126|189| 83|231|135|126| 63| 40|158|   208|   524|     37|    174|   117|   170|  115|  209|    96|  125|    68|    18|  169|  1520|1257|  1|   546|  1076|    136|    322|   292|   419|  197|  514|   294|  259|   125|    59|  344|457|1107| 123| 366|220|338|201|406|244|278|130| 56|377|\n",
            "|  2009|  1267| 901|   809|  1|311| 623|  79| 213|200|262|118|245|182|151| 76| 25|206|   300|   612|     76|    188|   133|   201|   99|  231|   162|  177|    84|    30|  234|  1260|1093|  1|   414|   853|     90|    215|   342|   454|  153|  423|   210|  228|   104|    56|  344|364| 949|  97| 351|268|388|214|339|179|227| 97| 33|375|\n",
            "|  2012|  1334| 593|   510|  1|191| 454|  56| 176|155|207| 97|218|128|115| 55| 24|145|   180|   494|     52|    201|    98|   151|  122|  194|    93|  127|    51|    28|  179|  1381|1146|  1|   467|   994|    176|    432|   271|   362|  199|  491|   279|  233|   109|    72|  314|407|1028| 126| 395|206|312|189|381|219|220| 87| 26|335|\n",
            "|  2013|  1158|1691|  1440|  0|582|1242| 159| 425|368|530|255|660|303|304|119|104|349|   538|  1383|    116|    404|   248|   359|  242|  505|   231|  246|   149|    68|  431|   593| 480|  0|   216|   493|     44|    141|   117|   151|   80|  225|    90|   81|    78|    25|  138|181| 482|  35| 142| 83|130|107|216| 70|131| 28| 36|134|\n",
            "|  2013|  1104|1270|  1071|  0|449|1025| 112| 328|260|386|208|451|224|242|188|105|318|   395|  1020|     91|    319|   190|   283|  223|  440|   178|  315|   107|    65|  342|   827| 733|  3|   281|   628|     67|    197|   198|   274|  127|  275|   145|  134|    75|    52|  180|265| 641|  64| 195|139|187|126|252|111|157| 75| 38|242|\n",
            "|  2015|  1165| 797|   680|  1|257| 587|  71| 201|212|281| 97|335|118|151| 71| 72|228|   226|   652|     74|    255|   154|   240|  132|  276|   120|  133|    62|    29|  227|  1129| 964|  1|   369|   857|    114|    310|   277|   386|  171|  482|   208|  230|    94|    54|  282|322| 898|  96| 350|224|302|131|371|167|204|100| 65|331|\n",
            "|  2015|  1337|1132|   967|  0|385| 876|  95| 258|267|354|154|450|256|198| 92| 71|289|   358|   958|     63|    292|   188|   276|  199|  382|   192|  196|   102|    61|  321|   882| 767|  0|   317|   674|     67|    196|   181|   281|  148|  295|   172|  162|   100|    42|  235|280| 674|  43| 176|164|222|127|259|141|174| 87| 29|243|\n",
            "+------+------+----+------+---+---+----+----+----+---+---+---+---+---+---+---+---+---+------+------+-------+-------+------+------+-----+-----+------+-----+------+------+-----+------+----+---+------+------+-------+-------+------+------+-----+-----+------+-----+------+------+-----+---+----+----+----+---+---+---+---+---+---+---+---+---+\n",
            "only showing top 20 rows\n",
            "\n"
          ]
        }
      ]
    },
    {
      "cell_type": "markdown",
      "source": [
        "TO DO\n",
        "\n",
        "1.   Combine all regular season stats\n",
        "2.   Break off 2022\n",
        "3.   Get 2022 seeds\n",
        "4.   Make Model\n",
        "\n"
      ],
      "metadata": {
        "id": "ktQUUrrUzE3S"
      }
    }
  ],
  "metadata": {
    "colab": {
      "name": "FinalProject.ipynb",
      "provenance": []
    },
    "kernelspec": {
      "display_name": "Python 3",
      "name": "python3"
    },
    "language_info": {
      "name": "python"
    }
  },
  "nbformat": 4,
  "nbformat_minor": 0
}